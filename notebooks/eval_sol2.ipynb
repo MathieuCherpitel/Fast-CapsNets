{
 "cells": [
  {
   "cell_type": "code",
   "execution_count": 3,
   "metadata": {},
   "outputs": [],
   "source": [
    "import os\n",
    "import sys\n",
    "import tensorflow as tf\n",
    "\n",
    "directory_path = os.path.abspath(os.path.join('../src'))\n",
    "if directory_path not in sys.path:\n",
    "    sys.path.append(directory_path)\n",
    "\n",
    "from NsgaII import Nsga_II\n",
    "from utils.load_data import load_mnist\n",
    "from CapsNet import CapsNet\n",
    "\n",
    "(X_train, y_train), (X_test , y_test) = load_mnist(size=(5000, 3000))"
   ]
  },
  {
   "cell_type": "code",
   "execution_count": 4,
   "metadata": {},
   "outputs": [
    {
     "name": "stdout",
     "output_type": "stream",
     "text": [
      "{'epochs': 6, 'r': 2, 'no_of_conv_kernels': 64, 'secondary_capsule_vector': 13, 'dense_1': 4, 'dense_2': 7, 'epsilon': 0.08742299226403732, 'm_plus': 0.9456846674693228, 'm_minus': 0.14031781581101938, 'lambda_': 0.5465632334721983, 'alpha': 0.0006352825328991005, 'no_of_primary_capsules': 32, 'primary_capsule_vector': 8, 'no_of_secondary_capsules': 10}\n",
      "Model: \"NasCapsNet\"\n",
      "_________________________________________________________________\n",
      " Layer (type)                Output Shape              Param #   \n",
      "=================================================================\n",
      " ConvolutionLayer (Conv2D)   multiple                  0 (unused)\n",
      "                                                                 \n",
      " PrimaryCapsule (Conv2D)     multiple                  0 (unused)\n",
      "                                                                 \n",
      " dense (Dense)               multiple                  0 (unused)\n",
      "                                                                 \n",
      " dense_1 (Dense)             multiple                  0 (unused)\n",
      "                                                                 \n",
      "=================================================================\n",
      "Total params: 1,198,080\n",
      "Trainable params: 1,198,080\n",
      "Non-trainable params: 0\n",
      "_________________________________________________________________\n"
     ]
    }
   ],
   "source": [
    "import json\n",
    "with open('../saved_ga/mnist-gpu1-hpc-3/solutions.json') as file:\n",
    "    solutions = json.load(file)\n",
    "    params = solutions['Solution 1']['params']\n",
    "\n",
    "# params = {'epochs': 5, 'r': 2, 'no_of_conv_kernels': 64, 'secondary_capsule_vector': 6, 'dense_1': 256, 'dense_2': 512, 'epsilon': 0.08411185848750914, 'm_plus': 0.9504174153527706, 'm_minus': 0.1648052052496743, 'lambda_': 0.6831030565866469, 'alpha': 0.006858184909559632, 'no_of_primary_capsules': 32, 'primary_capsule_vector': 8, 'no_of_secondary_capsules': 10}\n",
    "\n",
    "print(params)\n",
    "NasCapsNet = CapsNet(**params)\n",
    "NasCapsNet._name = 'NasCapsNet'\n",
    "NasCapsNet.compile()\n",
    "NasCapsNet.summary()"
   ]
  },
  {
   "cell_type": "code",
   "execution_count": 5,
   "metadata": {},
   "outputs": [
    {
     "name": "stderr",
     "output_type": "stream",
     "text": [
      "Epoch 1/6:   0%|          | 0/79 [00:00<?, ?it/s]2023-08-08 21:38:56.736863: W tensorflow/tsl/platform/profile_utils/cpu_utils.cc:128] Failed to get CPU frequency: 0 Hz\n",
      "Epoch 1/6: 100%|██████████| 79/79 [01:46<00:00,  1.35s/it, Training loss : 0.0046, Validation loss : 0.0033]\n",
      "Epoch 2/6: 100%|██████████| 79/79 [00:21<00:00,  3.61it/s, Training loss : 0.0027, Validation loss : 0.0028]\n",
      "Epoch 3/6: 100%|██████████| 79/79 [00:21<00:00,  3.63it/s, Training loss : 0.0025, Validation loss : 0.0027]\n",
      "Epoch 4/6: 100%|██████████| 79/79 [00:20<00:00,  3.85it/s, Training loss : 0.0023, Validation loss : 0.0026]\n",
      "Epoch 5/6: 100%|██████████| 79/79 [00:22<00:00,  3.56it/s, Training loss : 0.0023, Validation loss : 0.0025]\n",
      "Epoch 6/6: 100%|██████████| 79/79 [00:15<00:00,  5.11it/s]"
     ]
    },
    {
     "name": "stdout",
     "output_type": "stream",
     "text": [
      "Validation loss is not decreasing anymore, risk of overfitting the model after 6 epochs. The training will be stopped. This behavior can be modified by setting the early_stop property of the model to False\n"
     ]
    },
    {
     "name": "stderr",
     "output_type": "stream",
     "text": [
      "\n"
     ]
    },
    {
     "data": {
      "text/plain": [
       "{'accuracy': ListWrapper([0.9544, 0.9796, 0.9872, 0.9922, 0.9942]),\n",
       " 'loss': ListWrapper([0.46047414653003216, 0.2712258603423834, 0.2452863845974207, 0.23331446573138237, 0.22597643546760082]),\n",
       " 'val_accuracy': ListWrapper([0.928, 0.951, 0.963, 0.9633333333333334, 0.969]),\n",
       " 'val_loss': ListWrapper([0.32836205791682005, 0.2801567083224654, 0.2696400973945856, 0.2612742828205228, 0.254619843326509])}"
      ]
     },
     "execution_count": 5,
     "metadata": {},
     "output_type": "execute_result"
    }
   ],
   "source": [
    "NasCapsNet.fit(X_train, y_train, tf.keras.optimizers.legacy.Adam(), train_metrics=['accuracy'], validation=(X_test, y_test))"
   ]
  },
  {
   "cell_type": "code",
   "execution_count": 6,
   "metadata": {},
   "outputs": [
    {
     "data": {
      "text/plain": [
       "[0.6057189305623373,\n",
       " 0.6052979628245035,\n",
       " 0.597787618637085,\n",
       " 0.6174413363138834,\n",
       " 0.5882387161254883,\n",
       " 0.6029066244761149,\n",
       " 0.5817926724751791,\n",
       " 0.5862083435058594,\n",
       " 0.5810276667277018,\n",
       " 0.6030553976694742,\n",
       " 0.5802923043568929,\n",
       " 0.5938119888305664,\n",
       " 0.618550697962443,\n",
       " 0.5848603248596191,\n",
       " 0.5871426264444988,\n",
       " 0.5985056559244791,\n",
       " 0.5799740155537924,\n",
       " 0.6006136735280355,\n",
       " 0.6065726280212402,\n",
       " 0.5826389789581299,\n",
       " 0.5821083386739094,\n",
       " 0.6245869795481364,\n",
       " 0.6016240119934082,\n",
       " 0.5924396514892578,\n",
       " 0.5860933462778727,\n",
       " 0.5849549770355225,\n",
       " 0.603920062383016,\n",
       " 0.6019166310628256,\n",
       " 0.6037820180257161,\n",
       " 0.600757916768392,\n",
       " 0.6191989580790201,\n",
       " 0.6011472543080647,\n",
       " 0.5808656215667725,\n",
       " 0.6022436618804932,\n",
       " 0.5975183645884196,\n",
       " 0.6019840240478516,\n",
       " 0.5972533226013184,\n",
       " 0.580634355545044,\n",
       " 0.6013229688008627,\n",
       " 0.6319223244984944,\n",
       " 0.593350330988566,\n",
       " 0.5927712917327881,\n",
       " 0.5898396968841553,\n",
       " 0.5925163427988688,\n",
       " 0.5932045777638754,\n",
       " 0.6040759881337484,\n",
       " 0.5906896591186523,\n",
       " 0.5835487047831217,\n",
       " 0.6261639595031738,\n",
       " 0.5859413146972656,\n",
       " 0.6005457242329916,\n",
       " 0.6409286657969157,\n",
       " 0.6330316861470541,\n",
       " 0.5968856811523438,\n",
       " 0.6002283891042074,\n",
       " 0.5923376878102621,\n",
       " 0.5913794040679932,\n",
       " 0.618366003036499,\n",
       " 0.5970479647318522,\n",
       " 0.596329927444458,\n",
       " 0.5859154065450033,\n",
       " 0.5898643334706624,\n",
       " 0.6069059371948242,\n",
       " 0.5919959545135498,\n",
       " 0.5908665657043457,\n",
       " 0.6056593259175619,\n",
       " 0.6049474080403646,\n",
       " 0.5831496715545654,\n",
       " 0.5798532962799072,\n",
       " 0.5880080064137777,\n",
       " 0.585197369257609,\n",
       " 0.5822812716166178,\n",
       " 0.5834556420644125,\n",
       " 0.5900812943776449,\n",
       " 0.5909920533498128,\n",
       " 0.6103559335072836,\n",
       " 0.5931516488393147,\n",
       " 0.592637300491333,\n",
       " 0.5812955697377523,\n",
       " 0.5931518077850342,\n",
       " 0.5845940113067627,\n",
       " 0.5876709620157877,\n",
       " 0.5793853600819906,\n",
       " 0.5934646129608154,\n",
       " 0.6286963621775309,\n",
       " 0.6027039686838785,\n",
       " 0.5964169502258301,\n",
       " 0.5906666119893392,\n",
       " 0.6230826377868652,\n",
       " 0.5993370215098063,\n",
       " 0.5978366533915201,\n",
       " 0.6069216728210449,\n",
       " 0.6087956428527832,\n",
       " 0.6016699473063151,\n",
       " 0.6013063589731852,\n",
       " 0.5989336172739664,\n",
       " 0.5940759976704916,\n",
       " 0.5952036380767822,\n",
       " 0.5922506650288899,\n",
       " 0.5966769059499104]"
      ]
     },
     "execution_count": 6,
     "metadata": {},
     "output_type": "execute_result"
    }
   ],
   "source": [
    "n_rounds = 100\n",
    "\n",
    "import time\n",
    "\n",
    "caps_nas_inv_time = []\n",
    "for i in range(n_rounds):\n",
    "    start = time.time()\n",
    "    NasCapsNet.predict(X_test)\n",
    "    end = time.time()\n",
    "    caps_nas_inv_time.append((end - start) / len(X_test) * 1000)\n",
    "caps_nas_inv_time"
   ]
  },
  {
   "cell_type": "code",
   "execution_count": 7,
   "metadata": {},
   "outputs": [
    {
     "data": {
      "text/plain": [
       "0.5972735134760538"
      ]
     },
     "execution_count": 7,
     "metadata": {},
     "output_type": "execute_result"
    }
   ],
   "source": [
    "import numpy as np\n",
    "np.mean(caps_nas_inv_time)"
   ]
  },
  {
   "cell_type": "code",
   "execution_count": 8,
   "metadata": {},
   "outputs": [
    {
     "name": "stdout",
     "output_type": "stream",
     "text": [
      "Model: \"BaselineCapsNetModel\"\n",
      "_________________________________________________________________\n",
      " Layer (type)                Output Shape              Param #   \n",
      "=================================================================\n",
      " ConvolutionLayer (Conv2D)   multiple                  0 (unused)\n",
      "                                                                 \n",
      " PrimaryCapsule (Conv2D)     multiple                  0 (unused)\n",
      "                                                                 \n",
      " dense_2 (Dense)             multiple                  0 (unused)\n",
      "                                                                 \n",
      " dense_3 (Dense)             multiple                  0 (unused)\n",
      "                                                                 \n",
      "=================================================================\n",
      "Total params: 1,474,560\n",
      "Trainable params: 1,474,560\n",
      "Non-trainable params: 0\n",
      "_________________________________________________________________\n"
     ]
    }
   ],
   "source": [
    "{\"epochs\": 6,\n",
    " \"r\": 2,\n",
    " \"no_of_conv_kernels\": 64,\n",
    " \"secondary_capsule_vector\": 13,\n",
    " \"dense_1\": 4,\n",
    " \"dense_2\": 7,\n",
    " \"epsilon\": 0.08742299226403732,\n",
    " \"m_plus\": 0.9456846674693228,\n",
    " \"m_minus\": 0.14031781581101938,\n",
    " \"lambda_\": 0.5465632334721983,\n",
    " \"alpha\": 0.0006352825328991005,\n",
    " \"no_of_primary_capsules\": 32,\n",
    " \"primary_capsule_vector\": 8,\n",
    " \"no_of_secondary_capsules\": 10}\n",
    "\n",
    "params = {\n",
    "    \"epochs\": 10,\n",
    "    \"epsilon\": 1e-7,\n",
    "    \"m_minus\": 0.1,\n",
    "    \"m_plus\": 0.9,\n",
    "    \"lambda_\": 0.5,\n",
    "    \"alpha\": 0.0005,\n",
    "    \"no_of_conv_kernels\": 128,\n",
    "    \"no_of_primary_capsules\": 32,\n",
    "    \"no_of_secondary_capsules\": 10,\n",
    "    \"primary_capsule_vector\": 8,\n",
    "    \"secondary_capsule_vector\": 16,\n",
    "    \"r\":3,\n",
    "    \"dense_1\": 512,\n",
    "    \"dense_2\": 1024\n",
    "}\n",
    "\n",
    "BaselineCapsNetModel = CapsNet(**params)\n",
    "BaselineCapsNetModel._name = 'BaselineCapsNetModel'\n",
    "BaselineCapsNetModel.compile()\n",
    "BaselineCapsNetModel.summary()"
   ]
  },
  {
   "cell_type": "code",
   "execution_count": 9,
   "metadata": {},
   "outputs": [
    {
     "name": "stderr",
     "output_type": "stream",
     "text": [
      "Epoch 1/10: 100%|██████████| 79/79 [02:39<00:00,  2.01s/it, Training loss : 0.0035, Validation loss : 0.0015]\n",
      "Epoch 2/10: 100%|██████████| 79/79 [00:36<00:00,  2.19it/s, Training loss : 0.0009, Validation loss : 0.0010]\n",
      "Epoch 3/10: 100%|██████████| 79/79 [00:35<00:00,  2.22it/s, Training loss : 0.0006, Validation loss : 0.0008]\n",
      "Epoch 4/10: 100%|██████████| 79/79 [00:35<00:00,  2.22it/s, Training loss : 0.0004, Validation loss : 0.0007]\n",
      "Epoch 5/10: 100%|██████████| 79/79 [00:33<00:00,  2.35it/s, Training loss : 0.0003, Validation loss : 0.0007]\n",
      "Epoch 6/10: 100%|██████████| 79/79 [00:35<00:00,  2.22it/s, Training loss : 0.0002, Validation loss : 0.0006]\n",
      "Epoch 7/10: 100%|██████████| 79/79 [00:35<00:00,  2.23it/s, Training loss : 0.0002, Validation loss : 0.0006]\n",
      "Epoch 8/10: 100%|██████████| 79/79 [00:25<00:00,  3.11it/s]"
     ]
    },
    {
     "name": "stdout",
     "output_type": "stream",
     "text": [
      "Validation loss is not decreasing anymore, risk of overfitting the model after 8 epochs. The training will be stopped. This behavior can be modified by setting the early_stop property of the model to False\n"
     ]
    },
    {
     "name": "stderr",
     "output_type": "stream",
     "text": [
      "\n"
     ]
    },
    {
     "data": {
      "text/plain": [
       "{'accuracy': ListWrapper([0.9526, 0.9766, 0.9888, 0.9918, 0.9958, 0.9966, 0.9988]),\n",
       " 'loss': ListWrapper([0.3458697581663728, 0.0872035336215049, 0.05712175043299794, 0.04140099044889212, 0.030325146508403122, 0.02294999430887401, 0.015874426753725857]),\n",
       " 'val_accuracy': ListWrapper([0.9203333333333333, 0.9483333333333334, 0.961, 0.9623333333333334, 0.9636666666666667, 0.9643333333333334, 0.965]),\n",
       " 'val_loss': ListWrapper([0.14552525244653225, 0.1044716453179717, 0.07804199703969061, 0.07183640263974667, 0.06559029570780694, 0.06336242659017444, 0.05911740590818226])}"
      ]
     },
     "execution_count": 9,
     "metadata": {},
     "output_type": "execute_result"
    }
   ],
   "source": [
    "BaselineCapsNetModel.fit(X_train, y_train, tf.keras.optimizers.legacy.Adam(), train_metrics=['accuracy'], validation=(X_test, y_test))"
   ]
  },
  {
   "cell_type": "code",
   "execution_count": 10,
   "metadata": {},
   "outputs": [],
   "source": [
    "n_rounds = 100\n",
    "\n",
    "import time\n",
    "\n",
    "caps_inv_time = []\n",
    "for i in range(n_rounds):\n",
    "    start = time.time()\n",
    "    BaselineCapsNetModel.predict(X_test)\n",
    "    end = time.time()\n",
    "    caps_inv_time.append((end - start) / len(X_test) * 1000)"
   ]
  },
  {
   "cell_type": "code",
   "execution_count": 11,
   "metadata": {},
   "outputs": [
    {
     "data": {
      "text/plain": [
       "[0.9813570181528726,\n",
       " 0.9681173165639242,\n",
       " 1.0329396724700928,\n",
       " 1.0030336380004883,\n",
       " 1.0037140846252441,\n",
       " 1.016104300816854,\n",
       " 0.994131565093994,\n",
       " 1.084496021270752,\n",
       " 0.976413329442342,\n",
       " 0.9814713795979818,\n",
       " 0.9745690822601318,\n",
       " 0.9751902421315511,\n",
       " 0.9874033133188884,\n",
       " 0.9799316724141439,\n",
       " 0.973969300587972,\n",
       " 0.9734866619110107,\n",
       " 0.976676066716512,\n",
       " 0.9670027097066243,\n",
       " 1.0053436756134033,\n",
       " 0.9685053825378418,\n",
       " 0.9690550963083904,\n",
       " 0.9737280209859213,\n",
       " 0.9688746134440104,\n",
       " 0.9941799640655518,\n",
       " 0.9760422706604004,\n",
       " 0.9701470534006754,\n",
       " 1.025983969370524,\n",
       " 0.9875323772430421,\n",
       " 0.9715329011281332,\n",
       " 1.064915657043457,\n",
       " 1.0335602760314941,\n",
       " 0.9906293551127117,\n",
       " 1.0354560216267903,\n",
       " 1.0096166133880615,\n",
       " 1.02818497021993,\n",
       " 0.9986910025278728,\n",
       " 0.9959007104237874,\n",
       " 0.9808923403422037,\n",
       " 0.9951616923014324,\n",
       " 1.009836753209432,\n",
       " 0.9860820770263672,\n",
       " 0.9764336744944254,\n",
       " 0.9836303393046062,\n",
       " 0.98225736618042,\n",
       " 0.9778476556142173,\n",
       " 1.0169445673624675,\n",
       " 0.9844366709391276,\n",
       " 0.9786756833394369,\n",
       " 1.0089449882507324,\n",
       " 0.986869732538859,\n",
       " 1.0325019359588623,\n",
       " 0.9839046001434326,\n",
       " 0.9787336985270182,\n",
       " 0.9800573190053306,\n",
       " 0.9880123138427735,\n",
       " 1.005621353785197,\n",
       " 0.9937556584676107,\n",
       " 0.985624631245931,\n",
       " 0.984177033106486,\n",
       " 0.9847770531972249,\n",
       " 0.9935956001281738,\n",
       " 1.0090573628743489,\n",
       " 0.990516980489095,\n",
       " 1.009297291437785,\n",
       " 0.9901383717854817,\n",
       " 0.9868319034576417,\n",
       " 1.0168367226918538,\n",
       " 0.976332426071167,\n",
       " 0.9918410778045653,\n",
       " 0.978886365890503,\n",
       " 0.9847807089487712,\n",
       " 0.988463322321574,\n",
       " 1.0242719650268555,\n",
       " 0.9933003584543864,\n",
       " 0.9825983047485352,\n",
       " 0.9853489398956299,\n",
       " 0.9781466325124105,\n",
       " 1.015255292256673,\n",
       " 0.9865623315175375,\n",
       " 0.9953593413035076,\n",
       " 0.9799695809682211,\n",
       " 0.9848293463389078,\n",
       " 0.9994369347890218,\n",
       " 0.9860353469848633,\n",
       " 0.9858853816986084,\n",
       " 0.9880173206329346,\n",
       " 0.9824422995249431,\n",
       " 0.9774736563364664,\n",
       " 1.0144706567128499,\n",
       " 0.9795530637105305,\n",
       " 0.985349973042806,\n",
       " 0.9782149791717528,\n",
       " 0.9836843013763428,\n",
       " 1.0085576375325522,\n",
       " 0.978264331817627,\n",
       " 0.9832103252410889,\n",
       " 0.9828649361928304,\n",
       " 0.982079029083252,\n",
       " 0.9901589552561443,\n",
       " 1.003817081451416]"
      ]
     },
     "execution_count": 11,
     "metadata": {},
     "output_type": "execute_result"
    }
   ],
   "source": [
    "caps_inv_time"
   ]
  },
  {
   "cell_type": "code",
   "execution_count": 12,
   "metadata": {},
   "outputs": [
    {
     "data": {
      "text/plain": [
       "0.9923480288187662"
      ]
     },
     "execution_count": 12,
     "metadata": {},
     "output_type": "execute_result"
    }
   ],
   "source": [
    "import numpy as np\n",
    "\n",
    "np.mean(caps_inv_time)"
   ]
  },
  {
   "cell_type": "code",
   "execution_count": 13,
   "metadata": {},
   "outputs": [
    {
     "name": "stdout",
     "output_type": "stream",
     "text": [
      "Model: \"sequential\"\n",
      "_________________________________________________________________\n",
      " Layer (type)                Output Shape              Param #   \n",
      "=================================================================\n",
      " conv2d (Conv2D)             (None, 26, 26, 32)        320       \n",
      "                                                                 \n",
      " max_pooling2d (MaxPooling2D  (None, 13, 13, 32)       0         \n",
      " )                                                               \n",
      "                                                                 \n",
      " flatten (Flatten)           (None, 5408)              0         \n",
      "                                                                 \n",
      " dense_4 (Dense)             (None, 100)               540900    \n",
      "                                                                 \n",
      " dense_5 (Dense)             (None, 10)                1010      \n",
      "                                                                 \n",
      "=================================================================\n",
      "Total params: 542,230\n",
      "Trainable params: 542,230\n",
      "Non-trainable params: 0\n",
      "_________________________________________________________________\n"
     ]
    }
   ],
   "source": [
    "ConvNetModel = tf.keras.Sequential([\n",
    "    tf.keras.layers.Conv2D(32, (3, 3), activation='relu', input_shape=(28, 28, 1)),\n",
    "    tf.keras.layers.MaxPooling2D((2, 2)),\n",
    "    tf.keras.layers.Flatten(),\n",
    "    tf.keras.layers.Dense(100, activation='relu'),\n",
    "    tf.keras.layers.Dense(10, activation='softmax')\n",
    "])\n",
    "ConvNetModel.summary()"
   ]
  },
  {
   "cell_type": "code",
   "execution_count": 14,
   "metadata": {},
   "outputs": [],
   "source": [
    "ConvNetModel.compile(tf.optimizers.legacy.Adam(), loss='categorical_crossentropy', metrics=['accuracy'])\n",
    "tf_y_train = tf.keras.utils.to_categorical(y_train)\n",
    "tf_y_test = tf.keras.utils.to_categorical(y_test)"
   ]
  },
  {
   "cell_type": "code",
   "execution_count": 15,
   "metadata": {},
   "outputs": [
    {
     "name": "stdout",
     "output_type": "stream",
     "text": [
      "Epoch 1/10\n",
      "157/157 [==============================] - 1s 6ms/step - loss: 0.5239 - accuracy: 0.8552 - val_loss: 0.3246 - val_accuracy: 0.9017\n",
      "Epoch 2/10\n",
      "157/157 [==============================] - 1s 6ms/step - loss: 0.1995 - accuracy: 0.9428 - val_loss: 0.2359 - val_accuracy: 0.9293\n",
      "Epoch 3/10\n",
      "157/157 [==============================] - 1s 6ms/step - loss: 0.1177 - accuracy: 0.9660 - val_loss: 0.2092 - val_accuracy: 0.9340\n",
      "Epoch 4/10\n",
      "157/157 [==============================] - 1s 6ms/step - loss: 0.0695 - accuracy: 0.9794 - val_loss: 0.2127 - val_accuracy: 0.9293\n",
      "Epoch 5/10\n",
      "157/157 [==============================] - 1s 6ms/step - loss: 0.0486 - accuracy: 0.9874 - val_loss: 0.1773 - val_accuracy: 0.9463\n",
      "Epoch 6/10\n",
      "157/157 [==============================] - 1s 6ms/step - loss: 0.0355 - accuracy: 0.9908 - val_loss: 0.1721 - val_accuracy: 0.9440\n",
      "Epoch 7/10\n",
      "157/157 [==============================] - 1s 6ms/step - loss: 0.0245 - accuracy: 0.9944 - val_loss: 0.1867 - val_accuracy: 0.9420\n",
      "Epoch 8/10\n",
      "157/157 [==============================] - 1s 6ms/step - loss: 0.0163 - accuracy: 0.9974 - val_loss: 0.1708 - val_accuracy: 0.9483\n",
      "Epoch 9/10\n",
      "157/157 [==============================] - 1s 6ms/step - loss: 0.0122 - accuracy: 0.9972 - val_loss: 0.1680 - val_accuracy: 0.9520\n",
      "Epoch 10/10\n",
      "157/157 [==============================] - 1s 6ms/step - loss: 0.0049 - accuracy: 0.9996 - val_loss: 0.1735 - val_accuracy: 0.9517\n"
     ]
    }
   ],
   "source": [
    "history = ConvNetModel.fit(X_train, tf_y_train, epochs=10, batch_size=32, validation_data=(X_test, tf_y_test))"
   ]
  },
  {
   "cell_type": "code",
   "execution_count": 16,
   "metadata": {},
   "outputs": [
    {
     "name": "stdout",
     "output_type": "stream",
     "text": [
      "94/94 [==============================] - 0s 1ms/step\n",
      "94/94 [==============================] - 0s 1ms/step\n",
      "94/94 [==============================] - 0s 1ms/step\n",
      "94/94 [==============================] - 0s 1ms/step\n",
      "94/94 [==============================] - 0s 1ms/step\n",
      "94/94 [==============================] - 0s 1ms/step\n",
      "94/94 [==============================] - 0s 1ms/step\n",
      "94/94 [==============================] - 0s 1ms/step\n",
      "94/94 [==============================] - 0s 1ms/step\n",
      "94/94 [==============================] - 0s 1ms/step\n",
      "94/94 [==============================] - 0s 1ms/step\n",
      "94/94 [==============================] - 0s 1ms/step\n",
      "94/94 [==============================] - 0s 1ms/step\n",
      "94/94 [==============================] - 0s 1ms/step\n",
      "94/94 [==============================] - 0s 1ms/step\n",
      "94/94 [==============================] - 0s 1ms/step\n",
      "94/94 [==============================] - 0s 1ms/step\n",
      "94/94 [==============================] - 0s 1ms/step\n",
      "94/94 [==============================] - 0s 1ms/step\n",
      "94/94 [==============================] - 0s 1ms/step\n",
      "94/94 [==============================] - 0s 1ms/step\n",
      "94/94 [==============================] - 0s 1ms/step\n",
      "94/94 [==============================] - 0s 1ms/step\n",
      "94/94 [==============================] - 0s 1ms/step\n",
      "94/94 [==============================] - 0s 1ms/step\n",
      "94/94 [==============================] - 0s 1ms/step\n",
      "94/94 [==============================] - 0s 1ms/step\n",
      "94/94 [==============================] - 0s 1ms/step\n",
      "94/94 [==============================] - 0s 2ms/step\n",
      "94/94 [==============================] - 0s 1ms/step\n",
      "94/94 [==============================] - 0s 1ms/step\n",
      "94/94 [==============================] - 0s 1ms/step\n",
      "94/94 [==============================] - 0s 1ms/step\n",
      "94/94 [==============================] - 0s 1ms/step\n",
      "94/94 [==============================] - 0s 1ms/step\n",
      "94/94 [==============================] - 0s 1ms/step\n",
      "94/94 [==============================] - 0s 1ms/step\n",
      "94/94 [==============================] - 0s 1ms/step\n",
      "94/94 [==============================] - 0s 1ms/step\n",
      "94/94 [==============================] - 0s 1ms/step\n",
      "94/94 [==============================] - 0s 1ms/step\n",
      "94/94 [==============================] - 0s 1ms/step\n",
      "94/94 [==============================] - 0s 1ms/step\n",
      "94/94 [==============================] - 0s 1ms/step\n",
      "94/94 [==============================] - 0s 1ms/step\n",
      "94/94 [==============================] - 0s 1ms/step\n",
      "94/94 [==============================] - 0s 1ms/step\n",
      "94/94 [==============================] - 0s 1ms/step\n",
      "94/94 [==============================] - 0s 1ms/step\n",
      "94/94 [==============================] - 0s 1ms/step\n",
      "94/94 [==============================] - 0s 1ms/step\n",
      "94/94 [==============================] - 0s 1ms/step\n",
      "94/94 [==============================] - 0s 1ms/step\n",
      "94/94 [==============================] - 0s 1ms/step\n",
      "94/94 [==============================] - 0s 1ms/step\n",
      "94/94 [==============================] - 0s 1ms/step\n",
      "94/94 [==============================] - 0s 1ms/step\n",
      "94/94 [==============================] - 0s 1ms/step\n",
      "94/94 [==============================] - 0s 1ms/step\n",
      "94/94 [==============================] - 0s 1ms/step\n",
      "94/94 [==============================] - 0s 1ms/step\n",
      "94/94 [==============================] - 0s 1ms/step\n",
      "94/94 [==============================] - 0s 1ms/step\n",
      "94/94 [==============================] - 0s 1ms/step\n",
      "94/94 [==============================] - 0s 1ms/step\n",
      "94/94 [==============================] - 0s 1ms/step\n",
      "94/94 [==============================] - 0s 1ms/step\n",
      "94/94 [==============================] - 0s 1ms/step\n",
      "94/94 [==============================] - 0s 1ms/step\n",
      "94/94 [==============================] - 0s 1ms/step\n",
      "94/94 [==============================] - 0s 1ms/step\n",
      "94/94 [==============================] - 0s 1ms/step\n",
      "94/94 [==============================] - 0s 1ms/step\n",
      "94/94 [==============================] - 0s 1ms/step\n",
      "94/94 [==============================] - 0s 1ms/step\n",
      "94/94 [==============================] - 0s 1ms/step\n",
      "94/94 [==============================] - 0s 1ms/step\n",
      "94/94 [==============================] - 0s 1ms/step\n",
      "94/94 [==============================] - 0s 1ms/step\n",
      "94/94 [==============================] - 0s 1ms/step\n",
      "94/94 [==============================] - 0s 1ms/step\n",
      "94/94 [==============================] - 0s 2ms/step\n",
      "94/94 [==============================] - 0s 2ms/step\n",
      "94/94 [==============================] - 0s 2ms/step\n",
      "94/94 [==============================] - 0s 1ms/step\n",
      "94/94 [==============================] - 0s 2ms/step\n",
      "94/94 [==============================] - 0s 2ms/step\n",
      "94/94 [==============================] - 0s 2ms/step\n",
      "94/94 [==============================] - 0s 1ms/step\n",
      "94/94 [==============================] - 0s 1ms/step\n",
      "94/94 [==============================] - 0s 2ms/step\n",
      "94/94 [==============================] - 0s 1ms/step\n",
      "94/94 [==============================] - 0s 2ms/step\n",
      "94/94 [==============================] - 0s 1ms/step\n",
      "94/94 [==============================] - 0s 1ms/step\n",
      "94/94 [==============================] - 0s 2ms/step\n",
      "94/94 [==============================] - 0s 1ms/step\n",
      "94/94 [==============================] - 0s 1ms/step\n",
      "94/94 [==============================] - 0s 1ms/step\n",
      "94/94 [==============================] - 0s 1ms/step\n"
     ]
    }
   ],
   "source": [
    "n_rounds = 100\n",
    "\n",
    "import time\n",
    "\n",
    "cnn_inv_time = []\n",
    "for i in range(n_rounds):\n",
    "    start = time.time()\n",
    "    ConvNetModel.predict(X_test)\n",
    "    end = time.time()\n",
    "    cnn_inv_time.append((end - start) / len(X_test) * 1000)"
   ]
  },
  {
   "cell_type": "code",
   "execution_count": 17,
   "metadata": {},
   "outputs": [
    {
     "data": {
      "text/plain": [
       "[0.06554230054219563,\n",
       " 0.04995536804199219,\n",
       " 0.05234901110331217,\n",
       " 0.050126632054646805,\n",
       " 0.050013701121012374,\n",
       " 0.05147306124369303,\n",
       " 0.04983933766682943,\n",
       " 0.05050802230834961,\n",
       " 0.05031323432922363,\n",
       " 0.04977893829345703,\n",
       " 0.051508426666259766,\n",
       " 0.05062437057495117,\n",
       " 0.05023876825968424,\n",
       " 0.05093089739481608,\n",
       " 0.051378726959228516,\n",
       " 0.05093773206075033,\n",
       " 0.04894431432088216,\n",
       " 0.05053170522054037,\n",
       " 0.05138206481933594,\n",
       " 0.050951878229777016,\n",
       " 0.05000464121500651,\n",
       " 0.05250771840413411,\n",
       " 0.05343667666117351,\n",
       " 0.05313626925150553,\n",
       " 0.05508963267008464,\n",
       " 0.050395965576171875,\n",
       " 0.05107839902242025,\n",
       " 0.050208330154418945,\n",
       " 0.06301792462666829,\n",
       " 0.05024401346842448,\n",
       " 0.050318002700805664,\n",
       " 0.05098334948221842,\n",
       " 0.0499409834543864,\n",
       " 0.049887339274088546,\n",
       " 0.050900379816691085,\n",
       " 0.051127990086873375,\n",
       " 0.05050365130106608,\n",
       " 0.049258629480997726,\n",
       " 0.050900061925252274,\n",
       " 0.05037776629130045,\n",
       " 0.05182830492655436,\n",
       " 0.05096030235290527,\n",
       " 0.051820993423461914,\n",
       " 0.04993065198262532,\n",
       " 0.05054632822672526,\n",
       " 0.04956968625386556,\n",
       " 0.050144990285237626,\n",
       " 0.05016462008158366,\n",
       " 0.050707737604777016,\n",
       " 0.050072669982910156,\n",
       " 0.051089445749918624,\n",
       " 0.05065464973449707,\n",
       " 0.05011900266011556,\n",
       " 0.050125439961751304,\n",
       " 0.051183064778645836,\n",
       " 0.05024401346842448,\n",
       " 0.05065568288167317,\n",
       " 0.050352414449055985,\n",
       " 0.05074334144592285,\n",
       " 0.05088702837626139,\n",
       " 0.049662272135416664,\n",
       " 0.05054426193237305,\n",
       " 0.051147619883219406,\n",
       " 0.049790382385253906,\n",
       " 0.0510096549987793,\n",
       " 0.05133962631225586,\n",
       " 0.052599430084228516,\n",
       " 0.05141305923461914,\n",
       " 0.05101935068766276,\n",
       " 0.05018862088521322,\n",
       " 0.04967435201009115,\n",
       " 0.0499570369720459,\n",
       " 0.05016501744588216,\n",
       " 0.04865535100301107,\n",
       " 0.05150810877482097,\n",
       " 0.050162951151529946,\n",
       " 0.050131003061930336,\n",
       " 0.049494028091430664,\n",
       " 0.04916723569234212,\n",
       " 0.04949561754862468,\n",
       " 0.052469333012898765,\n",
       " 0.05749758084615071,\n",
       " 0.07752203941345215,\n",
       " 0.059323390324910484,\n",
       " 0.05241537094116211,\n",
       " 0.05904205640157064,\n",
       " 0.06021157900492351,\n",
       " 0.059264580408732094,\n",
       " 0.05587935447692871,\n",
       " 0.05671564737955729,\n",
       " 0.061083316802978516,\n",
       " 0.05717039108276367,\n",
       " 0.058669646581014,\n",
       " 0.057002623875935875,\n",
       " 0.055590311686197914,\n",
       " 0.05937536557515462,\n",
       " 0.056927998860677086,\n",
       " 0.05515432357788086,\n",
       " 0.05681896209716797,\n",
       " 0.055345376332600914]"
      ]
     },
     "execution_count": 17,
     "metadata": {},
     "output_type": "execute_result"
    }
   ],
   "source": [
    "cnn_inv_time"
   ]
  },
  {
   "cell_type": "code",
   "execution_count": 18,
   "metadata": {},
   "outputs": [
    {
     "data": {
      "image/png": "[encoded data removed]",
      "text/plain": [
       "<Figure size 1200x500 with 3 Axes>"
      ]
     },
     "metadata": {},
     "output_type": "display_data"
    }
   ],
   "source": [
    "import matplotlib.pyplot as plt\n",
    "import time\n",
    "import pandas as pd\n",
    "\n",
    "NasCapsNet.training_metrics = {\n",
    "    'loss': NasCapsNet.training_metrics['loss'],\n",
    "    'accuracy': NasCapsNet.training_metrics['accuracy'],\n",
    "    'val_loss': NasCapsNet.training_metrics['val_loss'],\n",
    "    'val_accuracy': NasCapsNet.training_metrics['val_accuracy'],\n",
    "}\n",
    "\n",
    "BaselineCapsNetModel.training_metrics = {\n",
    "    'loss': BaselineCapsNetModel.training_metrics['loss'],\n",
    "    'accuracy': BaselineCapsNetModel.training_metrics['accuracy'],\n",
    "    'val_loss': BaselineCapsNetModel.training_metrics['val_loss'],\n",
    "    'val_accuracy': BaselineCapsNetModel.training_metrics['val_accuracy'],\n",
    "}\n",
    "\n",
    "fig, axes = plt.subplots(1, 3, figsize=(12, 5))\n",
    "\n",
    "df_baseline = pd.DataFrame(history.history)\n",
    "plot_baseline = df_baseline.plot(ax=axes[0], title=\"CNN model\", legend=False)\n",
    "axes[0].set_ylim(0, 1)\n",
    "axes[0].set_xlim(0, 9)\n",
    "\n",
    "df_capsnet = pd.DataFrame(BaselineCapsNetModel.training_metrics)\n",
    "plot_capsnet = df_capsnet.plot(ax=axes[1], title=\"CapsNet baseline model\", legend=False)  # Set legend=False here\n",
    "axes[1].set_ylim(0, 1)\n",
    "axes[1].set_xlim(0, 6)\n",
    "\n",
    "df_capsnet_nas = pd.DataFrame(NasCapsNet.training_metrics)\n",
    "plot_capsnet_nas = df_capsnet_nas.plot(ax=axes[2], title=\"CapsNet solution model\", legend=False)  # Set legend=False here\n",
    "axes[2].set_ylim(0, 1)\n",
    "axes[2].set_xlim(0, 5)\n",
    "\n",
    "axes[0].set_xlabel(\"Epochs\")\n",
    "axes[1].set_xlabel(\"Epochs\")\n",
    "axes[2].set_xlabel(\"Epochs\")\n",
    "\n",
    "# Show only one legend for all three plots\n",
    "handles, labels = axes[2].get_legend_handles_labels()\n",
    "fig.legend(handles, labels, loc='lower center', bbox_to_anchor=(0.5, -0.05), fancybox=True, ncol=4)\n",
    "\n",
    "plt.tight_layout()\n",
    "plt.show()\n"
   ]
  },
  {
   "cell_type": "code",
   "execution_count": 19,
   "metadata": {},
   "outputs": [
    {
     "data": {
      "image/png": "[encoded data removed]",
      "text/plain": [
       "<Figure size 800x600 with 1 Axes>"
      ]
     },
     "metadata": {},
     "output_type": "display_data"
    }
   ],
   "source": [
    "df = pd.DataFrame({\n",
    "    \"conv\": cnn_inv_time,\n",
    "    \"caps\": caps_inv_time,\n",
    "    \"caps nas\": caps_nas_inv_time\n",
    "})\n",
    "plt.figure(figsize=(8, 6))\n",
    "plt.boxplot(df.values, labels=df.columns)\n",
    "plt.title('Inference Time Comparison')\n",
    "plt.xlabel('Model')\n",
    "plt.ylabel('Inference Time (ms)')\n",
    "plt.grid(True)\n",
    "plt.show()"
   ]
  },
  {
   "cell_type": "code",
   "execution_count": 20,
   "metadata": {},
   "outputs": [
    {
     "data": {
      "image/png": "[encoded data removed]",
      "text/plain": [
       "<Figure size 640x480 with 1 Axes>"
      ]
     },
     "metadata": {},
     "output_type": "display_data"
    }
   ],
   "source": [
    "df = pd.DataFrame({\n",
    "    'conv': {'acc': history.history['accuracy'][-1], 'val_acc': history.history['val_accuracy'][-1]},\n",
    "    'caps': {'acc': BaselineCapsNetModel.training_metrics['accuracy'][-1], 'val_acc': BaselineCapsNetModel.training_metrics['val_accuracy'][-1]},\n",
    "    'caps_nas': {'acc': NasCapsNet.training_metrics['accuracy'][-1], 'val_acc': NasCapsNet.training_metrics['val_accuracy'][-1]},\n",
    "})\n",
    "\n",
    "df = df.T\n",
    "df.plot(kind='bar')\n",
    "plt.xlabel('Model')\n",
    "plt.ylabel('Accuracy')\n",
    "plt.title('Accuracy Comparison')\n",
    "plt.legend(title='Metric', loc='center left', bbox_to_anchor=(1, 0.5))\n",
    "plt.show()"
   ]
  }
 ],
 "metadata": {
  "kernelspec": {
   "display_name": "capsnet",
   "language": "python",
   "name": "python3"
  },
  "language_info": {
   "codemirror_mode": {
    "name": "ipython",
    "version": 3
   },
   "file_extension": ".py",
   "mimetype": "text/x-python",
   "name": "python",
   "nbconvert_exporter": "python",
   "pygments_lexer": "ipython3",
   "version": "3.10.11"
  },
  "orig_nbformat": 4
 },
 "nbformat": 4,
 "nbformat_minor": 2
}

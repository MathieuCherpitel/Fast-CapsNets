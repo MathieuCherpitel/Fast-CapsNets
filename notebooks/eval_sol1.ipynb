{
 "cells": [
  {
   "cell_type": "code",
   "execution_count": 1,
   "metadata": {},
   "outputs": [],
   "source": [
    "import os\n",
    "import sys\n",
    "import tensorflow as tf\n",
    "\n",
    "directory_path = os.path.abspath(os.path.join('../src'))\n",
    "if directory_path not in sys.path:\n",
    "    sys.path.append(directory_path)\n",
    "\n",
    "from NsgaII import Nsga_II\n",
    "from utils.load_data import load_mnist\n",
    "from CapsNet import CapsNet\n",
    "\n",
    "(X_train, y_train), (X_test , y_test) = load_mnist(size=(5000, 3000))"
   ]
  },
  {
   "cell_type": "code",
   "execution_count": 2,
   "metadata": {},
   "outputs": [
    {
     "name": "stdout",
     "output_type": "stream",
     "text": [
      "{'epochs': 5, 'r': 2, 'no_of_conv_kernels': 64, 'secondary_capsule_vector': 6, 'dense_1': 256, 'dense_2': 512, 'epsilon': 0.08411185848750914, 'm_plus': 0.9504174153527706, 'm_minus': 0.1648052052496743, 'lambda_': 0.6831030565866469, 'alpha': 0.006858184909559632, 'no_of_primary_capsules': 32, 'primary_capsule_vector': 8, 'no_of_secondary_capsules': 10}\n",
      "Model: \"NasCapsNet\"\n",
      "_________________________________________________________________\n",
      " Layer (type)                Output Shape              Param #   \n",
      "=================================================================\n",
      " ConvolutionLayer (Conv2D)   multiple                  0 (unused)\n",
      "                                                                 \n",
      " PrimaryCapsule (Conv2D)     multiple                  0 (unused)\n",
      "                                                                 \n",
      " dense (Dense)               multiple                  0 (unused)\n",
      "                                                                 \n",
      " dense_1 (Dense)             multiple                  0 (unused)\n",
      "                                                                 \n",
      "=================================================================\n",
      "Total params: 552,960\n",
      "Trainable params: 552,960\n",
      "Non-trainable params: 0\n",
      "_________________________________________________________________\n"
     ]
    }
   ],
   "source": [
    "import json\n",
    "with open('../saved_ga/mnist-gpu0-hpc-2/solutions.json') as file:\n",
    "    solutions = json.load(file)\n",
    "    params = solutions['Solution 2']['params']\n",
    "\n",
    "# params = {'epochs': 5, 'r': 2, 'no_of_conv_kernels': 64, 'secondary_capsule_vector': 6, 'dense_1': 256, 'dense_2': 512, 'epsilon': 0.08411185848750914, 'm_plus': 0.9504174153527706, 'm_minus': 0.1648052052496743, 'lambda_': 0.6831030565866469, 'alpha': 0.006858184909559632, 'no_of_primary_capsules': 32, 'primary_capsule_vector': 8, 'no_of_secondary_capsules': 10}\n",
    "\n",
    "print(params)\n",
    "NasCapsNet = CapsNet(**params)\n",
    "NasCapsNet._name = 'NasCapsNet'\n",
    "NasCapsNet.compile()\n",
    "NasCapsNet.summary()"
   ]
  },
  {
   "cell_type": "code",
   "execution_count": 3,
   "metadata": {},
   "outputs": [
    {
     "name": "stderr",
     "output_type": "stream",
     "text": [
      "Epoch 1/5:   0%|          | 0/79 [00:00<?, ?it/s]2023-08-19 16:39:04.531478: W tensorflow/tsl/platform/profile_utils/cpu_utils.cc:128] Failed to get CPU frequency: 0 Hz\n",
      "Epoch 1/5: 100%|██████████| 79/79 [01:39<00:00,  1.26s/it, Training loss : 0.0044, Validation loss : 0.0030]\n",
      "Epoch 2/5: 100%|██████████| 79/79 [00:16<00:00,  4.67it/s, Training loss : 0.0025, Validation loss : 0.0026]\n",
      "Epoch 3/5: 100%|██████████| 79/79 [00:17<00:00,  4.57it/s, Training loss : 0.0022, Validation loss : 0.0024]\n",
      "Epoch 4/5: 100%|██████████| 79/79 [00:13<00:00,  6.03it/s]"
     ]
    },
    {
     "name": "stdout",
     "output_type": "stream",
     "text": [
      "Validation loss is not decreasing anymore, risk of overfitting the model after 4 epochs. The training will be stopped. This behavior can be modified by setting the early_stop property of the model to False\n"
     ]
    },
    {
     "name": "stderr",
     "output_type": "stream",
     "text": [
      "\n"
     ]
    },
    {
     "data": {
      "text/plain": [
       "{'accuracy': ListWrapper([0.9584, 0.9764, 0.985]),\n",
       " 'loss': ListWrapper([0.43947151862084866, 0.24500496219843626, 0.21824322175234556]),\n",
       " 'val_accuracy': ListWrapper([0.934, 0.953, 0.9576666666666667]),\n",
       " 'val_loss': ListWrapper([0.29710177332162857, 0.25601405650377274, 0.2440252574160695])}"
      ]
     },
     "execution_count": 3,
     "metadata": {},
     "output_type": "execute_result"
    }
   ],
   "source": [
    "NasCapsNet.fit(X_train, y_train, tf.keras.optimizers.legacy.Adam(), train_metrics=['accuracy'], validation=(X_test, y_test))"
   ]
  },
  {
   "cell_type": "code",
   "execution_count": 4,
   "metadata": {},
   "outputs": [
    {
     "data": {
      "text/plain": [
       "[0.5062366326649984,\n",
       " 0.5063610076904297,\n",
       " 0.5092470645904541,\n",
       " 0.5027889410654703,\n",
       " 0.5065736770629883,\n",
       " 0.5101087093353271,\n",
       " 0.5040230751037598,\n",
       " 0.4997849464416504,\n",
       " 0.5049459934234619,\n",
       " 0.5106203556060791,\n",
       " 0.5211996237436931,\n",
       " 0.5023753643035889,\n",
       " 0.5012173652648926,\n",
       " 0.5042519569396973,\n",
       " 0.5066796938578287,\n",
       " 0.49836468696594244,\n",
       " 0.5017664432525635,\n",
       " 0.500560998916626,\n",
       " 0.5031553904215496,\n",
       " 0.5037469863891602,\n",
       " 0.5335083802541097,\n",
       " 0.4984207153320312,\n",
       " 0.5008979638417562,\n",
       " 0.5035937627156576,\n",
       " 0.5070443948109945,\n",
       " 0.503432035446167,\n",
       " 0.5066453615824381,\n",
       " 0.5181962649027506,\n",
       " 0.5002216498057047,\n",
       " 0.5011549790700277,\n",
       " 0.5152107079823811,\n",
       " 0.5343945821126302,\n",
       " 0.5047570864359537,\n",
       " 0.5073826313018799,\n",
       " 0.49943868319193524,\n",
       " 0.504529635111491,\n",
       " 0.49717911084492994,\n",
       " 0.4969690640767415,\n",
       " 0.501050631205241,\n",
       " 0.5015427271525065,\n",
       " 0.4985810120900472,\n",
       " 0.5253669420878092,\n",
       " 0.5117123126983643,\n",
       " 0.49667771657307946,\n",
       " 0.49874838193257653,\n",
       " 0.49947770436604816,\n",
       " 0.4987186590830485,\n",
       " 0.5014529228210449,\n",
       " 0.5079057216644287,\n",
       " 0.5056180159250895,\n",
       " 0.49841698010762525,\n",
       " 0.49833440780639654,\n",
       " 0.5441409746805826,\n",
       " 0.5012303193410238,\n",
       " 0.5048910776774088,\n",
       " 0.4998466968536377,\n",
       " 0.5057283242543539,\n",
       " 0.5012763341267904,\n",
       " 0.5011986096700033,\n",
       " 0.5024276574452717,\n",
       " 0.4993662834167481,\n",
       " 0.5023926893870035,\n",
       " 0.5308303038279215,\n",
       " 0.5011133352915446,\n",
       " 0.49923499425252277,\n",
       " 0.5055313110351562,\n",
       " 0.4986926714579264,\n",
       " 0.5035649140675862,\n",
       " 0.5044902960459391,\n",
       " 0.5051639080047607,\n",
       " 0.4964470068613688,\n",
       " 0.4991529782613118,\n",
       " 0.5008556842803955,\n",
       " 0.5416442553202311,\n",
       " 0.510551373163859,\n",
       " 0.5338820616404215,\n",
       " 0.5293036301930746,\n",
       " 0.5126670996348064,\n",
       " 0.5022273063659668,\n",
       " 0.5011209646860759,\n",
       " 0.510577917098999,\n",
       " 0.5117770036061604,\n",
       " 0.5012479623158773,\n",
       " 0.5244023005167644,\n",
       " 0.502973715464274,\n",
       " 0.5033606688181559,\n",
       " 0.5034140745798747,\n",
       " 0.4978682994842529,\n",
       " 0.5010963280995687,\n",
       " 0.5004706382751465,\n",
       " 0.4981900056203206,\n",
       " 0.4976200262705485,\n",
       " 0.506731669108073,\n",
       " 0.5004366238911946,\n",
       " 0.5374563535054525,\n",
       " 0.49938400586446124,\n",
       " 0.5055733521779378,\n",
       " 0.4990496635437012,\n",
       " 0.4979333082834879,\n",
       " 0.5008853276570637]"
      ]
     },
     "execution_count": 4,
     "metadata": {},
     "output_type": "execute_result"
    }
   ],
   "source": [
    "n_rounds = 100\n",
    "\n",
    "import time\n",
    "\n",
    "caps_nas_inv_time = []\n",
    "for i in range(n_rounds):\n",
    "    start = time.time()\n",
    "    NasCapsNet.predict(X_test)\n",
    "    end = time.time()\n",
    "    caps_nas_inv_time.append((end - start) / len(X_test) * 1000)\n",
    "caps_nas_inv_time"
   ]
  },
  {
   "cell_type": "code",
   "execution_count": 5,
   "metadata": {},
   "outputs": [
    {
     "data": {
      "text/plain": [
       "0.5062001236279806"
      ]
     },
     "execution_count": 5,
     "metadata": {},
     "output_type": "execute_result"
    }
   ],
   "source": [
    "import numpy as np\n",
    "np.mean(caps_nas_inv_time)"
   ]
  },
  {
   "cell_type": "code",
   "execution_count": 6,
   "metadata": {},
   "outputs": [
    {
     "name": "stdout",
     "output_type": "stream",
     "text": [
      "Model: \"BaselineCapsNetModel\"\n",
      "_________________________________________________________________\n",
      " Layer (type)                Output Shape              Param #   \n",
      "=================================================================\n",
      " ConvolutionLayer (Conv2D)   multiple                  0 (unused)\n",
      "                                                                 \n",
      " PrimaryCapsule (Conv2D)     multiple                  0 (unused)\n",
      "                                                                 \n",
      " dense_2 (Dense)             multiple                  0 (unused)\n",
      "                                                                 \n",
      " dense_3 (Dense)             multiple                  0 (unused)\n",
      "                                                                 \n",
      "=================================================================\n",
      "Total params: 1,474,560\n",
      "Trainable params: 1,474,560\n",
      "Non-trainable params: 0\n",
      "_________________________________________________________________\n"
     ]
    }
   ],
   "source": [
    "params = {\n",
    "    \"epochs\": 10,\n",
    "    \"epsilon\": 1e-7,\n",
    "    \"m_minus\": 0.1,\n",
    "    \"m_plus\": 0.9,\n",
    "    \"lambda_\": 0.5,\n",
    "    \"alpha\": 0.0005,\n",
    "    \"no_of_conv_kernels\": 128,\n",
    "    \"no_of_primary_capsules\": 32,\n",
    "    \"no_of_secondary_capsules\": 10,\n",
    "    \"primary_capsule_vector\": 8,\n",
    "    \"secondary_capsule_vector\": 16,\n",
    "    \"r\":3,\n",
    "    \"dense_1\": 512,\n",
    "    \"dense_2\": 1024\n",
    "}\n",
    "\n",
    "{\n",
    "    'epochs': 5, \n",
    "    'r': 2,\n",
    "    'no_of_conv_kernels': 64,\n",
    "    'secondary_capsule_vector': 6,\n",
    "    'dense_1': 256,\n",
    "    'dense_2': 512,\n",
    "    'epsilon': 0.08411185848750914,\n",
    "    'm_plus': 0.9504174153527706,\n",
    "    'm_minus': 0.1648052052496743,\n",
    "    'lambda_': 0.6831030565866469,\n",
    "    'alpha': 0.006858184909559632,\n",
    "    'no_of_primary_capsules': 32,\n",
    "    'primary_capsule_vector': 8,\n",
    "    'no_of_secondary_capsules': 10}\n",
    "\n",
    "\n",
    "BaselineCapsNetModel = CapsNet(**params)\n",
    "BaselineCapsNetModel._name = 'BaselineCapsNetModel'\n",
    "BaselineCapsNetModel.compile()\n",
    "BaselineCapsNetModel.summary()"
   ]
  },
  {
   "cell_type": "code",
   "execution_count": 7,
   "metadata": {},
   "outputs": [
    {
     "name": "stderr",
     "output_type": "stream",
     "text": [
      "Epoch 1/10: 100%|██████████| 79/79 [02:42<00:00,  2.06s/it, Training loss : 0.0031, Validation loss : 0.0014]\n",
      "Epoch 2/10: 100%|██████████| 79/79 [00:33<00:00,  2.38it/s, Training loss : 0.0008, Validation loss : 0.0009]\n",
      "Epoch 3/10: 100%|██████████| 79/79 [00:33<00:00,  2.38it/s, Training loss : 0.0005, Validation loss : 0.0008]\n",
      "Epoch 4/10: 100%|██████████| 79/79 [00:33<00:00,  2.36it/s, Training loss : 0.0004, Validation loss : 0.0007]\n",
      "Epoch 5/10: 100%|██████████| 79/79 [00:33<00:00,  2.37it/s, Training loss : 0.0003, Validation loss : 0.0007]\n",
      "Epoch 6/10: 100%|██████████| 79/79 [00:33<00:00,  2.37it/s, Training loss : 0.0002, Validation loss : 0.0007]\n",
      "Epoch 7/10: 100%|██████████| 79/79 [00:33<00:00,  2.38it/s, Training loss : 0.0002, Validation loss : 0.0006]\n",
      "Epoch 8/10: 100%|██████████| 79/79 [00:35<00:00,  2.24it/s, Training loss : 0.0001, Validation loss : 0.0006]\n",
      "Epoch 9/10: 100%|██████████| 79/79 [00:32<00:00,  2.40it/s, Training loss : 0.0001, Validation loss : 0.0005]\n",
      "Epoch 10/10: 100%|██████████| 79/79 [00:33<00:00,  2.39it/s, Training loss : 0.0001, Validation loss : 0.0005]\n"
     ]
    },
    {
     "data": {
      "text/plain": [
       "{'accuracy': ListWrapper([0.9588, 0.9798, 0.9886, 0.993, 0.9958, 0.997, 0.9974, 0.9986, 0.999, 0.9994]),\n",
       " 'loss': ListWrapper([0.30605702195316553, 0.07971409941092134, 0.05443979753181338, 0.04131595487706363, 0.033322430681437254, 0.024184344511013478, 0.016818958101794124, 0.012679374776780605, 0.013644897262565792, 0.006422128353733569]),\n",
       " 'val_accuracy': ListWrapper([0.9343333333333333, 0.96, 0.9573333333333334, 0.962, 0.9663333333333334, 0.962, 0.961, 0.9646666666666667, 0.9676666666666667, 0.9673333333333334]),\n",
       " 'val_loss': ListWrapper([0.13636703370139003, 0.08990524802356958, 0.07898919866420329, 0.0714529596734792, 0.06609415868297219, 0.0657354248687625, 0.06462794844992459, 0.05720664048567414, 0.05450461176224053, 0.05026375292800367])}"
      ]
     },
     "execution_count": 7,
     "metadata": {},
     "output_type": "execute_result"
    }
   ],
   "source": [
    "BaselineCapsNetModel.fit(X_train, y_train, tf.keras.optimizers.legacy.Adam(), train_metrics=['accuracy'], validation=(X_test, y_test))"
   ]
  },
  {
   "cell_type": "code",
   "execution_count": 8,
   "metadata": {},
   "outputs": [],
   "source": [
    "n_rounds = 100\n",
    "\n",
    "import time\n",
    "\n",
    "caps_inv_time = []\n",
    "for i in range(n_rounds):\n",
    "    start = time.time()\n",
    "    BaselineCapsNetModel.predict(X_test)\n",
    "    end = time.time()\n",
    "    caps_inv_time.append((end - start) / len(X_test) * 1000)"
   ]
  },
  {
   "cell_type": "code",
   "execution_count": 9,
   "metadata": {},
   "outputs": [
    {
     "data": {
      "text/plain": [
       "[0.9849786758422852,\n",
       " 0.9738756020863851,\n",
       " 1.0023093223571777,\n",
       " 0.9775879383087159,\n",
       " 0.97749924659729,\n",
       " 0.975056012471517,\n",
       " 0.9774400393168132,\n",
       " 1.0179353555043538,\n",
       " 1.0273423194885254,\n",
       " 0.9843643506368002,\n",
       " 0.9768052895863851,\n",
       " 0.9875540733337402,\n",
       " 0.9766937096913656,\n",
       " 1.0144139925638835,\n",
       " 0.9787672360738119,\n",
       " 0.9778250058492025,\n",
       " 0.9811283747355143,\n",
       " 0.9806539217631022,\n",
       " 1.0011420249938965,\n",
       " 0.9765690167744955,\n",
       " 0.9732880592346191,\n",
       " 0.9821174144744873,\n",
       " 0.9947509765624999,\n",
       " 0.9738920529683431,\n",
       " 1.0202913284301758,\n",
       " 0.9798829555511473,\n",
       " 0.974209705988566,\n",
       " 0.9712783495585123,\n",
       " 0.9850940704345702,\n",
       " 1.021730661392212,\n",
       " 0.9869856834411621,\n",
       " 0.9748443762461344,\n",
       " 0.9829446474711101,\n",
       " 0.9927866458892822,\n",
       " 0.9995126724243164,\n",
       " 0.9904109636942545,\n",
       " 0.9766242504119873,\n",
       " 0.9741823673248291,\n",
       " 0.9826979637145997,\n",
       " 0.9897614320119221,\n",
       " 1.0143073399861655,\n",
       " 0.981199343999227,\n",
       " 0.9799133936564128,\n",
       " 0.984889030456543,\n",
       " 0.974107583363851,\n",
       " 1.0002706845601401,\n",
       " 0.9847597281138103,\n",
       " 0.9769438902537029,\n",
       " 0.9763226509094238,\n",
       " 0.9843756357828776,\n",
       " 0.9897112846374511,\n",
       " 1.0071183840433757,\n",
       " 0.9743107954661051,\n",
       " 0.9829876422882079,\n",
       " 0.9736376603444418,\n",
       " 0.9727683862050374,\n",
       " 1.0104703903198242,\n",
       " 0.9740436871846517,\n",
       " 0.9784406820933024,\n",
       " 0.9784083366394043,\n",
       " 0.9766632715861002,\n",
       " 1.007652997970581,\n",
       " 1.0514607429504395,\n",
       " 1.0059207280476887,\n",
       " 0.9982513586680095,\n",
       " 0.9918026129404705,\n",
       " 0.9841276009877522,\n",
       " 1.0266402562459311,\n",
       " 0.9792433579762776,\n",
       " 0.9814519882202148,\n",
       " 0.9832022984822592,\n",
       " 0.983338991800944,\n",
       " 1.0078319708506267,\n",
       " 0.9794032573699951,\n",
       " 1.0027913252512612,\n",
       " 0.9810825983683268,\n",
       " 0.9901839892069498,\n",
       " 0.9810477097829183,\n",
       " 1.0149076779683432,\n",
       " 0.9794753392537434,\n",
       " 0.9853320121765137,\n",
       " 0.9959396521250408,\n",
       " 0.984181006749471,\n",
       " 1.0198400020599365,\n",
       " 0.9794069925944011,\n",
       " 0.983235518137614,\n",
       " 0.9793049494425455,\n",
       " 0.990566651026408,\n",
       " 1.0306976636250815,\n",
       " 0.9888670444488527,\n",
       " 0.9764936765034993,\n",
       " 0.978856643040975,\n",
       " 0.9804581006368002,\n",
       " 0.9796303908030193,\n",
       " 1.0212363402048747,\n",
       " 0.9890613555908203,\n",
       " 0.9817066192626953,\n",
       " 0.9789292812347411,\n",
       " 0.9875792662302652,\n",
       " 1.0126290321350098]"
      ]
     },
     "execution_count": 9,
     "metadata": {},
     "output_type": "execute_result"
    }
   ],
   "source": [
    "caps_inv_time"
   ]
  },
  {
   "cell_type": "code",
   "execution_count": 10,
   "metadata": {},
   "outputs": [
    {
     "data": {
      "text/plain": [
       "0.9890664688746135"
      ]
     },
     "execution_count": 10,
     "metadata": {},
     "output_type": "execute_result"
    }
   ],
   "source": [
    "import numpy as np\n",
    "\n",
    "np.mean(caps_inv_time)"
   ]
  },
  {
   "cell_type": "code",
   "execution_count": 11,
   "metadata": {},
   "outputs": [
    {
     "name": "stdout",
     "output_type": "stream",
     "text": [
      "Model: \"sequential\"\n",
      "_________________________________________________________________\n",
      " Layer (type)                Output Shape              Param #   \n",
      "=================================================================\n",
      " conv2d (Conv2D)             (None, 26, 26, 32)        320       \n",
      "                                                                 \n",
      " max_pooling2d (MaxPooling2D  (None, 13, 13, 32)       0         \n",
      " )                                                               \n",
      "                                                                 \n",
      " flatten (Flatten)           (None, 5408)              0         \n",
      "                                                                 \n",
      " dense_4 (Dense)             (None, 100)               540900    \n",
      "                                                                 \n",
      " dense_5 (Dense)             (None, 10)                1010      \n",
      "                                                                 \n",
      "=================================================================\n",
      "Total params: 542,230\n",
      "Trainable params: 542,230\n",
      "Non-trainable params: 0\n",
      "_________________________________________________________________\n"
     ]
    }
   ],
   "source": [
    "ConvNetModel = tf.keras.Sequential([\n",
    "    tf.keras.layers.Conv2D(32, (3, 3), activation='relu', input_shape=(28, 28, 1)),\n",
    "    tf.keras.layers.MaxPooling2D((2, 2)),\n",
    "    tf.keras.layers.Flatten(),\n",
    "    tf.keras.layers.Dense(100, activation='relu'),\n",
    "    tf.keras.layers.Dense(10, activation='softmax')\n",
    "])\n",
    "ConvNetModel.summary()"
   ]
  },
  {
   "cell_type": "code",
   "execution_count": 12,
   "metadata": {},
   "outputs": [],
   "source": [
    "ConvNetModel.compile(tf.optimizers.legacy.Adam(), loss='categorical_crossentropy', metrics=['accuracy'])\n",
    "tf_y_train = tf.keras.utils.to_categorical(y_train)\n",
    "tf_y_test = tf.keras.utils.to_categorical(y_test)"
   ]
  },
  {
   "cell_type": "code",
   "execution_count": 13,
   "metadata": {},
   "outputs": [
    {
     "name": "stdout",
     "output_type": "stream",
     "text": [
      "Epoch 1/10\n",
      "157/157 [==============================] - 1s 6ms/step - loss: 0.5370 - accuracy: 0.8374 - val_loss: 0.3516 - val_accuracy: 0.8977\n",
      "Epoch 2/10\n",
      "157/157 [==============================] - 1s 6ms/step - loss: 0.1983 - accuracy: 0.9436 - val_loss: 0.2495 - val_accuracy: 0.9247\n",
      "Epoch 3/10\n",
      "157/157 [==============================] - 1s 6ms/step - loss: 0.1203 - accuracy: 0.9650 - val_loss: 0.2042 - val_accuracy: 0.9337\n",
      "Epoch 4/10\n",
      "157/157 [==============================] - 1s 6ms/step - loss: 0.0762 - accuracy: 0.9776 - val_loss: 0.1870 - val_accuracy: 0.9360\n",
      "Epoch 5/10\n",
      "157/157 [==============================] - 1s 6ms/step - loss: 0.0505 - accuracy: 0.9856 - val_loss: 0.1690 - val_accuracy: 0.9447\n",
      "Epoch 6/10\n",
      "157/157 [==============================] - 1s 6ms/step - loss: 0.0336 - accuracy: 0.9926 - val_loss: 0.1720 - val_accuracy: 0.9430\n",
      "Epoch 7/10\n",
      "157/157 [==============================] - 1s 6ms/step - loss: 0.0199 - accuracy: 0.9964 - val_loss: 0.1577 - val_accuracy: 0.9467\n",
      "Epoch 8/10\n",
      "157/157 [==============================] - 1s 6ms/step - loss: 0.0105 - accuracy: 0.9992 - val_loss: 0.1604 - val_accuracy: 0.9513\n",
      "Epoch 9/10\n",
      "157/157 [==============================] - 1s 6ms/step - loss: 0.0070 - accuracy: 0.9992 - val_loss: 0.1652 - val_accuracy: 0.9517\n",
      "Epoch 10/10\n",
      "157/157 [==============================] - 1s 6ms/step - loss: 0.0038 - accuracy: 1.0000 - val_loss: 0.1600 - val_accuracy: 0.9543\n"
     ]
    }
   ],
   "source": [
    "history = ConvNetModel.fit(X_train, tf_y_train, epochs=10, batch_size=32, validation_data=(X_test, tf_y_test))"
   ]
  },
  {
   "cell_type": "code",
   "execution_count": 14,
   "metadata": {},
   "outputs": [
    {
     "data": {
      "text/plain": [
       "{'loss': [0.5370479226112366,\n",
       "  0.19834811985492706,\n",
       "  0.12031260132789612,\n",
       "  0.07620009779930115,\n",
       "  0.05047306418418884,\n",
       "  0.03359150514006615,\n",
       "  0.01994277909398079,\n",
       "  0.010501358658075333,\n",
       "  0.00699532451108098,\n",
       "  0.0037715956568717957],\n",
       " 'accuracy': [0.8374000191688538,\n",
       "  0.9435999989509583,\n",
       "  0.9649999737739563,\n",
       "  0.9775999784469604,\n",
       "  0.9855999946594238,\n",
       "  0.9926000237464905,\n",
       "  0.996399998664856,\n",
       "  0.9991999864578247,\n",
       "  0.9991999864578247,\n",
       "  1.0],\n",
       " 'val_loss': [0.3516131043434143,\n",
       "  0.2495173066854477,\n",
       "  0.20416530966758728,\n",
       "  0.18703991174697876,\n",
       "  0.1690417379140854,\n",
       "  0.17196610569953918,\n",
       "  0.15773971378803253,\n",
       "  0.16038209199905396,\n",
       "  0.16519230604171753,\n",
       "  0.16001667082309723],\n",
       " 'val_accuracy': [0.8976666927337646,\n",
       "  0.9246666431427002,\n",
       "  0.9336666464805603,\n",
       "  0.9359999895095825,\n",
       "  0.9446666836738586,\n",
       "  0.9430000185966492,\n",
       "  0.9466666579246521,\n",
       "  0.9513333439826965,\n",
       "  0.9516666531562805,\n",
       "  0.9543333053588867]}"
      ]
     },
     "execution_count": 14,
     "metadata": {},
     "output_type": "execute_result"
    }
   ],
   "source": [
    "history.history"
   ]
  },
  {
   "cell_type": "code",
   "execution_count": 15,
   "metadata": {},
   "outputs": [
    {
     "name": "stdout",
     "output_type": "stream",
     "text": [
      "94/94 [==============================] - 0s 1ms/step\n",
      "94/94 [==============================] - 0s 1ms/step\n",
      "94/94 [==============================] - 0s 1ms/step\n",
      "94/94 [==============================] - 0s 1ms/step\n",
      "94/94 [==============================] - 0s 1ms/step\n",
      "94/94 [==============================] - 0s 1ms/step\n",
      "94/94 [==============================] - 0s 1ms/step\n",
      "94/94 [==============================] - 0s 1ms/step\n",
      "94/94 [==============================] - 0s 1ms/step\n",
      "94/94 [==============================] - 0s 1ms/step\n",
      "94/94 [==============================] - 0s 2ms/step\n",
      "94/94 [==============================] - 0s 1ms/step\n",
      "94/94 [==============================] - 0s 1ms/step\n",
      "94/94 [==============================] - 0s 1ms/step\n",
      "94/94 [==============================] - 0s 1ms/step\n",
      "94/94 [==============================] - 0s 1ms/step\n",
      "94/94 [==============================] - 0s 1ms/step\n",
      "94/94 [==============================] - 0s 1ms/step\n",
      "94/94 [==============================] - 0s 1ms/step\n",
      "94/94 [==============================] - 0s 1ms/step\n",
      "94/94 [==============================] - 0s 1ms/step\n",
      "94/94 [==============================] - 0s 1ms/step\n",
      "94/94 [==============================] - 0s 1ms/step\n",
      "94/94 [==============================] - 0s 1ms/step\n",
      "94/94 [==============================] - 0s 1ms/step\n",
      "94/94 [==============================] - 0s 1ms/step\n",
      "94/94 [==============================] - 0s 1ms/step\n",
      "94/94 [==============================] - 0s 1ms/step\n",
      "94/94 [==============================] - 0s 1ms/step\n",
      "94/94 [==============================] - 0s 1ms/step\n",
      "94/94 [==============================] - 0s 1ms/step\n",
      "94/94 [==============================] - 0s 2ms/step\n",
      "94/94 [==============================] - 0s 2ms/step\n",
      "94/94 [==============================] - 0s 2ms/step\n",
      "94/94 [==============================] - 0s 2ms/step\n",
      "94/94 [==============================] - 0s 1ms/step\n",
      "94/94 [==============================] - 0s 1ms/step\n",
      "94/94 [==============================] - 0s 1ms/step\n",
      "94/94 [==============================] - 0s 1ms/step\n",
      "94/94 [==============================] - 0s 1ms/step\n",
      "94/94 [==============================] - 0s 1ms/step\n",
      "94/94 [==============================] - 0s 1ms/step\n",
      "94/94 [==============================] - 0s 1ms/step\n",
      "94/94 [==============================] - 0s 1ms/step\n",
      "94/94 [==============================] - 0s 1ms/step\n",
      "94/94 [==============================] - 0s 1ms/step\n",
      "94/94 [==============================] - 0s 1ms/step\n",
      "94/94 [==============================] - 0s 1ms/step\n",
      "94/94 [==============================] - 0s 1ms/step\n",
      "94/94 [==============================] - 0s 1ms/step\n",
      "94/94 [==============================] - 0s 1ms/step\n",
      "94/94 [==============================] - 0s 1ms/step\n",
      "94/94 [==============================] - 0s 1ms/step\n",
      "94/94 [==============================] - 0s 2ms/step\n",
      "94/94 [==============================] - 0s 1ms/step\n",
      "94/94 [==============================] - 0s 1ms/step\n",
      "94/94 [==============================] - 0s 1ms/step\n",
      "94/94 [==============================] - 0s 1ms/step\n",
      "94/94 [==============================] - 0s 1ms/step\n",
      "94/94 [==============================] - 0s 1ms/step\n",
      "94/94 [==============================] - 0s 1ms/step\n",
      "94/94 [==============================] - 0s 1ms/step\n",
      "94/94 [==============================] - 0s 1ms/step\n",
      "94/94 [==============================] - 0s 1ms/step\n",
      "94/94 [==============================] - 0s 1ms/step\n",
      "94/94 [==============================] - 0s 1ms/step\n",
      "94/94 [==============================] - 0s 1ms/step\n",
      "94/94 [==============================] - 0s 1ms/step\n",
      "94/94 [==============================] - 0s 1ms/step\n",
      "94/94 [==============================] - 0s 1ms/step\n",
      "94/94 [==============================] - 0s 1ms/step\n",
      "94/94 [==============================] - 0s 1ms/step\n",
      "94/94 [==============================] - 0s 1ms/step\n",
      "94/94 [==============================] - 0s 1ms/step\n",
      "94/94 [==============================] - 0s 1ms/step\n",
      "94/94 [==============================] - 0s 1ms/step\n",
      "94/94 [==============================] - 0s 1ms/step\n",
      "94/94 [==============================] - 0s 1ms/step\n",
      "94/94 [==============================] - 0s 1ms/step\n",
      "94/94 [==============================] - 0s 1ms/step\n",
      "94/94 [==============================] - 0s 1ms/step\n",
      "94/94 [==============================] - 0s 1ms/step\n",
      "94/94 [==============================] - 0s 1ms/step\n",
      "94/94 [==============================] - 0s 1ms/step\n",
      "94/94 [==============================] - 0s 1ms/step\n",
      "94/94 [==============================] - 0s 1ms/step\n",
      "94/94 [==============================] - 0s 1ms/step\n",
      "94/94 [==============================] - 0s 1ms/step\n",
      "94/94 [==============================] - 0s 1ms/step\n",
      "94/94 [==============================] - 0s 1ms/step\n",
      "94/94 [==============================] - 0s 1ms/step\n",
      "94/94 [==============================] - 0s 1ms/step\n",
      "94/94 [==============================] - 0s 1ms/step\n",
      "94/94 [==============================] - 0s 1ms/step\n",
      "94/94 [==============================] - 0s 1ms/step\n",
      "94/94 [==============================] - 0s 1ms/step\n",
      "94/94 [==============================] - 0s 1ms/step\n",
      "94/94 [==============================] - 0s 1ms/step\n",
      "94/94 [==============================] - 0s 1ms/step\n",
      "94/94 [==============================] - 0s 1ms/step\n"
     ]
    }
   ],
   "source": [
    "n_rounds = 100\n",
    "\n",
    "import time\n",
    "\n",
    "cnn_inv_time = []\n",
    "for i in range(n_rounds):\n",
    "    start = time.time()\n",
    "    ConvNetModel.predict(X_test)\n",
    "    end = time.time()\n",
    "    cnn_inv_time.append((end - start) / len(X_test) * 1000)"
   ]
  },
  {
   "cell_type": "code",
   "execution_count": 16,
   "metadata": {},
   "outputs": [
    {
     "data": {
      "text/plain": [
       "[0.0686937173207601,\n",
       " 0.054840644200642906,\n",
       " 0.05389300982157389,\n",
       " 0.05254554748535156,\n",
       " 0.05321232477823894,\n",
       " 0.05278491973876953,\n",
       " 0.05283776919047038,\n",
       " 0.05466906229654948,\n",
       " 0.05363003412882487,\n",
       " 0.0522759755452474,\n",
       " 0.06339772542317708,\n",
       " 0.05316964785257976,\n",
       " 0.056945641835530594,\n",
       " 0.05353903770446777,\n",
       " 0.05415264765421549,\n",
       " 0.05337262153625488,\n",
       " 0.052655935287475586,\n",
       " 0.054508606592814125,\n",
       " 0.053639332453409835,\n",
       " 0.0540000597635905,\n",
       " 0.055321693420410156,\n",
       " 0.05379263559977214,\n",
       " 0.0544730027516683,\n",
       " 0.055032968521118164,\n",
       " 0.05436333020528158,\n",
       " 0.054591735204060875,\n",
       " 0.053743600845336914,\n",
       " 0.053602615992228195,\n",
       " 0.0549310048421224,\n",
       " 0.05430038770039876,\n",
       " 0.053689002990722656,\n",
       " 0.05867266654968262,\n",
       " 0.058678627014160156,\n",
       " 0.05760399500528971,\n",
       " 0.05787126223246257,\n",
       " 0.052156686782836914,\n",
       " 0.05291295051574707,\n",
       " 0.0524906317392985,\n",
       " 0.05238874753316243,\n",
       " 0.052717367808024086,\n",
       " 0.05271299680074056,\n",
       " 0.05283705393473307,\n",
       " 0.05212704340616862,\n",
       " 0.05168604850769043,\n",
       " 0.052601655324300126,\n",
       " 0.05173301696777344,\n",
       " 0.05165537198384603,\n",
       " 0.052222092946370445,\n",
       " 0.052198330561319985,\n",
       " 0.0525216261545817,\n",
       " 0.05162159601847331,\n",
       " 0.05314294497172038,\n",
       " 0.05318737030029297,\n",
       " 0.060066938400268555,\n",
       " 0.052688280741373696,\n",
       " 0.052538951237996415,\n",
       " 0.05193368593851726,\n",
       " 0.05154236157735189,\n",
       " 0.05237301190694173,\n",
       " 0.05131634076436361,\n",
       " 0.052852630615234375,\n",
       " 0.052300771077473954,\n",
       " 0.05184094111124674,\n",
       " 0.05131332079569499,\n",
       " 0.05263566970825195,\n",
       " 0.05214198430379231,\n",
       " 0.05103460947672526,\n",
       " 0.05191469192504883,\n",
       " 0.052069902420043945,\n",
       " 0.05100639661153157,\n",
       " 0.05129162470499674,\n",
       " 0.05278865496317545,\n",
       " 0.05148728688557943,\n",
       " 0.05205535888671875,\n",
       " 0.05258369445800781,\n",
       " 0.05181741714477539,\n",
       " 0.05280097325642904,\n",
       " 0.05187765757242838,\n",
       " 0.051599343617757164,\n",
       " 0.0510412851969401,\n",
       " 0.05377300580342611,\n",
       " 0.05335235595703125,\n",
       " 0.052932659784952804,\n",
       " 0.05304034550984701,\n",
       " 0.05448404947916667,\n",
       " 0.05289268493652344,\n",
       " 0.0522469679514567,\n",
       " 0.0538787047068278,\n",
       " 0.053029378255208336,\n",
       " 0.05451631546020508,\n",
       " 0.05429228146870931,\n",
       " 0.05232429504394531,\n",
       " 0.053797006607055664,\n",
       " 0.059865713119506836,\n",
       " 0.05305663744608561,\n",
       " 0.05473661422729492,\n",
       " 0.05563465754191081,\n",
       " 0.05428767204284668,\n",
       " 0.052865028381347656,\n",
       " 0.05248737335205078]"
      ]
     },
     "execution_count": 16,
     "metadata": {},
     "output_type": "execute_result"
    }
   ],
   "source": [
    "cnn_inv_time"
   ]
  },
  {
   "cell_type": "code",
   "execution_count": 17,
   "metadata": {},
   "outputs": [
    {
     "data": {
      "image/png": "[encoded data removed]",
      "text/plain": [
       "<Figure size 1200x500 with 3 Axes>"
      ]
     },
     "metadata": {},
     "output_type": "display_data"
    }
   ],
   "source": [
    "import matplotlib.pyplot as plt\n",
    "import time\n",
    "import pandas as pd\n",
    "\n",
    "NasCapsNet.training_metrics = {\n",
    "    'loss': NasCapsNet.training_metrics['loss'],\n",
    "    'accuracy': NasCapsNet.training_metrics['accuracy'],\n",
    "    'val_loss': NasCapsNet.training_metrics['val_loss'],\n",
    "    'val_accuracy': NasCapsNet.training_metrics['val_accuracy'],\n",
    "}\n",
    "\n",
    "BaselineCapsNetModel.training_metrics = {\n",
    "    'loss': BaselineCapsNetModel.training_metrics['loss'],\n",
    "    'accuracy': BaselineCapsNetModel.training_metrics['accuracy'],\n",
    "    'val_loss': BaselineCapsNetModel.training_metrics['val_loss'],\n",
    "    'val_accuracy': BaselineCapsNetModel.training_metrics['val_accuracy'],\n",
    "}\n",
    "\n",
    "fig, axes = plt.subplots(1, 3, figsize=(12, 5))\n",
    "\n",
    "df_baseline = pd.DataFrame(history.history)\n",
    "plot_baseline = df_baseline.plot(ax=axes[0], title=\"CNN model\", legend=False)\n",
    "axes[0].set_ylim(0, 1)\n",
    "axes[0].set_xlim(0, 9)\n",
    "\n",
    "df_capsnet = pd.DataFrame(BaselineCapsNetModel.training_metrics)\n",
    "plot_capsnet = df_capsnet.plot(ax=axes[1], title=\"CapsNet baseline model\", legend=False)  # Set legend=False here\n",
    "axes[1].set_ylim(0, 1)\n",
    "axes[1].set_xlim(0, 6)\n",
    "\n",
    "df_capsnet_nas = pd.DataFrame(NasCapsNet.training_metrics)\n",
    "plot_capsnet_nas = df_capsnet_nas.plot(ax=axes[2], title=\"CapsNet solution model\", legend=False)  # Set legend=False here\n",
    "axes[2].set_ylim(0, 1)\n",
    "axes[2].set_xlim(0, 5)\n",
    "\n",
    "axes[0].set_xlabel(\"Epochs\")\n",
    "axes[1].set_xlabel(\"Epochs\")\n",
    "axes[2].set_xlabel(\"Epochs\")\n",
    "\n",
    "# Show only one legend for all three plots\n",
    "handles, labels = axes[2].get_legend_handles_labels()\n",
    "fig.legend(handles, labels, loc='lower center', bbox_to_anchor=(0.5, -0.05), fancybox=True, ncol=4)\n",
    "\n",
    "plt.tight_layout()\n",
    "plt.show()\n"
   ]
  },
  {
   "cell_type": "code",
   "execution_count": 18,
   "metadata": {},
   "outputs": [
    {
     "data": {
      "image/png": "[encoded data removed]",
      "text/plain": [
       "<Figure size 800x600 with 1 Axes>"
      ]
     },
     "metadata": {},
     "output_type": "display_data"
    }
   ],
   "source": [
    "df = pd.DataFrame({\n",
    "    \"conv\": cnn_inv_time,\n",
    "    \"caps\": caps_inv_time,\n",
    "    \"caps nas\": caps_nas_inv_time\n",
    "})\n",
    "plt.figure(figsize=(8, 6))\n",
    "plt.boxplot(df.values, labels=df.columns)\n",
    "plt.title('Inference Time Comparison')\n",
    "plt.xlabel('Model')\n",
    "plt.ylabel('Inference Time (ms)')\n",
    "plt.grid(True)\n",
    "plt.show()"
   ]
  },
  {
   "cell_type": "code",
   "execution_count": 19,
   "metadata": {},
   "outputs": [
    {
     "data": {
      "image/png": "[encoded data removed]",
      "text/plain": [
       "<Figure size 640x480 with 1 Axes>"
      ]
     },
     "metadata": {},
     "output_type": "display_data"
    }
   ],
   "source": [
    "df = pd.DataFrame({\n",
    "    'conv': {'acc': history.history['accuracy'][-1], 'val_acc': history.history['val_accuracy'][-1]},\n",
    "    'caps': {'acc': BaselineCapsNetModel.training_metrics['accuracy'][-1], 'val_acc': BaselineCapsNetModel.training_metrics['val_accuracy'][-1]},\n",
    "    'caps_nas': {'acc': NasCapsNet.training_metrics['accuracy'][-1], 'val_acc': NasCapsNet.training_metrics['val_accuracy'][-1]},\n",
    "})\n",
    "\n",
    "df = df.T\n",
    "df.plot(kind='bar')\n",
    "plt.xlabel('Model')\n",
    "plt.ylabel('Accuracy')\n",
    "plt.title('Accuracy Comparison')\n",
    "plt.legend(title='Metric', loc='center left', bbox_to_anchor=(1, 0.5))\n",
    "plt.show()"
   ]
  }
 ],
 "metadata": {
  "kernelspec": {
   "display_name": "capsnet",
   "language": "python",
   "name": "python3"
  },
  "language_info": {
   "codemirror_mode": {
    "name": "ipython",
    "version": 3
   },
   "file_extension": ".py",
   "mimetype": "text/x-python",
   "name": "python",
   "nbconvert_exporter": "python",
   "pygments_lexer": "ipython3",
   "version": "3.10.11"
  },
  "orig_nbformat": 4
 },
 "nbformat": 4,
 "nbformat_minor": 2
}

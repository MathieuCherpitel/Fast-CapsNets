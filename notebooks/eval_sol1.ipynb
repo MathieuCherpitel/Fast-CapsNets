{
 "cells": [
  {
   "cell_type": "code",
   "execution_count": 2,
   "metadata": {},
   "outputs": [],
   "source": [
    "import os\n",
    "import sys\n",
    "import tensorflow as tf\n",
    "\n",
    "directory_path = os.path.abspath(os.path.join('../src'))\n",
    "if directory_path not in sys.path:\n",
    "    sys.path.append(directory_path)\n",
    "\n",
    "from NsgaII import Nsga_II\n",
    "from utils.load_data import load_mnist\n",
    "from CapsNet import CapsNet\n",
    "\n",
    "(X_train, y_train), (X_test , y_test) = load_mnist(size=(5000, 3000))"
   ]
  },
  {
   "cell_type": "code",
   "execution_count": 3,
   "metadata": {},
   "outputs": [
    {
     "name": "stdout",
     "output_type": "stream",
     "text": [
      "{'epochs': 5, 'r': 2, 'no_of_conv_kernels': 64, 'secondary_capsule_vector': 6, 'dense_1': 256, 'dense_2': 512, 'epsilon': 0.08411185848750914, 'm_plus': 0.9504174153527706, 'm_minus': 0.1648052052496743, 'lambda_': 0.6831030565866469, 'alpha': 0.006858184909559632, 'no_of_primary_capsules': 32, 'primary_capsule_vector': 8, 'no_of_secondary_capsules': 10}\n",
      "Model: \"NasCapsNet\"\n",
      "_________________________________________________________________\n",
      " Layer (type)                Output Shape              Param #   \n",
      "=================================================================\n",
      " ConvolutionLayer (Conv2D)   multiple                  0 (unused)\n",
      "                                                                 \n",
      " PrimaryCapsule (Conv2D)     multiple                  0 (unused)\n",
      "                                                                 \n",
      " dense (Dense)               multiple                  0 (unused)\n",
      "                                                                 \n",
      " dense_1 (Dense)             multiple                  0 (unused)\n",
      "                                                                 \n",
      "=================================================================\n",
      "Total params: 552,960\n",
      "Trainable params: 552,960\n",
      "Non-trainable params: 0\n",
      "_________________________________________________________________\n"
     ]
    }
   ],
   "source": [
    "import json\n",
    "with open('../saved_ga/mnist-gpu0-hpc-2/solutions.json') as file:\n",
    "    solutions = json.load(file)\n",
    "    params = solutions['Solution 2']['params']\n",
    "\n",
    "# params = {'epochs': 5, 'r': 2, 'no_of_conv_kernels': 64, 'secondary_capsule_vector': 6, 'dense_1': 256, 'dense_2': 512, 'epsilon': 0.08411185848750914, 'm_plus': 0.9504174153527706, 'm_minus': 0.1648052052496743, 'lambda_': 0.6831030565866469, 'alpha': 0.006858184909559632, 'no_of_primary_capsules': 32, 'primary_capsule_vector': 8, 'no_of_secondary_capsules': 10}\n",
    "\n",
    "print(params)\n",
    "NasCapsNet = CapsNet(**params)\n",
    "NasCapsNet._name = 'NasCapsNet'\n",
    "NasCapsNet.compile()\n",
    "NasCapsNet.summary()"
   ]
  },
  {
   "cell_type": "code",
   "execution_count": 4,
   "metadata": {},
   "outputs": [
    {
     "name": "stderr",
     "output_type": "stream",
     "text": [
      "Epoch 1/5:   0%|          | 0/79 [00:00<?, ?it/s]2023-08-08 22:02:01.024573: W tensorflow/tsl/platform/profile_utils/cpu_utils.cc:128] Failed to get CPU frequency: 0 Hz\n",
      "Epoch 1/5: 100%|██████████| 79/79 [00:17<00:00,  4.24it/s, Evaluating ...]"
     ]
    }
   ],
   "source": [
    "NasCapsNet.fit(X_train, y_train, tf.keras.optimizers.legacy.Adam(), train_metrics=['accuracy'], validation=(X_test, y_test))"
   ]
  },
  {
   "cell_type": "code",
   "execution_count": null,
   "metadata": {},
   "outputs": [
    {
     "data": {
      "text/plain": [
       "[0.5343244075775146,\n",
       " 0.5138996442159017,\n",
       " 0.5360643863677979,\n",
       " 0.5238393147786459,\n",
       " 0.5472773710886637,\n",
       " 0.5146426359812419,\n",
       " 0.5486586888631185,\n",
       " 0.5212023258209229,\n",
       " 0.5200072924296061,\n",
       " 0.5158553123474121,\n",
       " 0.5126767158508301,\n",
       " 0.5147918860117594,\n",
       " 0.5037816365559896,\n",
       " 0.5118619600931804,\n",
       " 0.5360370477040609,\n",
       " 0.5476849873860677,\n",
       " 0.5159576733907064,\n",
       " 0.5036640961964926,\n",
       " 0.5039929548899332,\n",
       " 0.5123006502787272,\n",
       " 0.5208914279937744,\n",
       " 0.5072879791259766,\n",
       " 0.5095210075378418,\n",
       " 0.5088423887888591,\n",
       " 0.5255602995554606,\n",
       " 0.5222172737121582,\n",
       " 0.5080973307291667,\n",
       " 0.5070149898529053,\n",
       " 0.5083847045898438,\n",
       " 0.5026869773864746,\n",
       " 0.5088187058766683,\n",
       " 0.513404369354248,\n",
       " 0.5126356283823649,\n",
       " 0.5070123672485352,\n",
       " 0.5173479715983073,\n",
       " 0.5533059438069661,\n",
       " 0.5205485820770264,\n",
       " 0.5089950561523438,\n",
       " 0.5070463021596273,\n",
       " 0.5071587562561035,\n",
       " 0.5080846945444742,\n",
       " 0.5089503924051921,\n",
       " 0.5114513238271077,\n",
       " 0.5161809921264648,\n",
       " 0.5013880729675293,\n",
       " 0.5269543329874674,\n",
       " 0.5061716238657633,\n",
       " 0.5078786214192709,\n",
       " 0.5082553227742513,\n",
       " 0.506559689839681,\n",
       " 0.5154016812642415,\n",
       " 0.522395928700765,\n",
       " 0.517021656036377,\n",
       " 0.5191480318705242,\n",
       " 0.5186426639556885,\n",
       " 0.519356648127238,\n",
       " 0.5623446305592854,\n",
       " 0.538033644358317,\n",
       " 0.5474636554718018,\n",
       " 0.5229506492614746,\n",
       " 0.5433580080668131,\n",
       " 0.564378023147583,\n",
       " 0.5574876467386881,\n",
       " 0.5416533152262369,\n",
       " 0.5317780176798502,\n",
       " 0.5652046998341879,\n",
       " 0.547713041305542,\n",
       " 0.5254953702290853,\n",
       " 0.5307409763336182,\n",
       " 0.5012639363606771,\n",
       " 0.5363413492838542,\n",
       " 0.5252350171407064,\n",
       " 0.5147939523061116,\n",
       " 0.4951895872751872,\n",
       " 0.4951957066853841,\n",
       " 0.5075089931488037,\n",
       " 0.5210043589274089,\n",
       " 0.5253840287526449,\n",
       " 0.5437093575795492,\n",
       " 0.5426203409830729,\n",
       " 0.550405740737915,\n",
       " 0.5171917279561361,\n",
       " 0.5245180130004883,\n",
       " 0.5596740245819092,\n",
       " 0.5730460484822592,\n",
       " 0.575741211573283,\n",
       " 0.544307788213094,\n",
       " 0.5367569923400879,\n",
       " 0.5486296812693278,\n",
       " 0.5960050423940023,\n",
       " 0.5916759967803955,\n",
       " 0.5723210175832112,\n",
       " 0.6177990436553955,\n",
       " 0.5454336802164714,\n",
       " 0.5261114438374836,\n",
       " 0.5485110282897949,\n",
       " 0.5134800275166829,\n",
       " 0.5351286729176838,\n",
       " 0.5314026673634847,\n",
       " 0.5235503514607748]"
      ]
     },
     "execution_count": 194,
     "metadata": {},
     "output_type": "execute_result"
    }
   ],
   "source": [
    "n_rounds = 100\n",
    "\n",
    "import time\n",
    "\n",
    "caps_nas_inv_time = []\n",
    "for i in range(n_rounds):\n",
    "    start = time.time()\n",
    "    NasCapsNet.predict(X_test)\n",
    "    end = time.time()\n",
    "    caps_nas_inv_time.append((end - start) / len(X_test) * 1000)\n",
    "caps_nas_inv_time"
   ]
  },
  {
   "cell_type": "code",
   "execution_count": null,
   "metadata": {},
   "outputs": [
    {
     "ename": "NameError",
     "evalue": "name 'caps_nas_inv_time' is not defined",
     "output_type": "error",
     "traceback": [
      "\u001b[0;31m---------------------------------------------------------------------------\u001b[0m",
      "\u001b[0;31mNameError\u001b[0m                                 Traceback (most recent call last)",
      "Cell \u001b[0;32mIn[1], line 2\u001b[0m\n\u001b[1;32m      1\u001b[0m \u001b[39mimport\u001b[39;00m \u001b[39mnumpy\u001b[39;00m \u001b[39mas\u001b[39;00m \u001b[39mnp\u001b[39;00m\n\u001b[0;32m----> 2\u001b[0m np\u001b[39m.\u001b[39mmean(caps_nas_inv_time)\n",
      "\u001b[0;31mNameError\u001b[0m: name 'caps_nas_inv_time' is not defined"
     ]
    }
   ],
   "source": [
    "import numpy as np\n",
    "np.mean(caps_nas_inv_time)"
   ]
  },
  {
   "cell_type": "code",
   "execution_count": null,
   "metadata": {},
   "outputs": [
    {
     "name": "stdout",
     "output_type": "stream",
     "text": [
      "Model: \"BaselineCapsNetModel\"\n",
      "_________________________________________________________________\n",
      " Layer (type)                Output Shape              Param #   \n",
      "=================================================================\n",
      " ConvolutionLayer (Conv2D)   multiple                  0 (unused)\n",
      "                                                                 \n",
      " PrimaryCapsule (Conv2D)     multiple                  0 (unused)\n",
      "                                                                 \n",
      " dense_78 (Dense)            multiple                  0 (unused)\n",
      "                                                                 \n",
      " dense_79 (Dense)            multiple                  0 (unused)\n",
      "                                                                 \n",
      "=================================================================\n",
      "Total params: 1,474,560\n",
      "Trainable params: 1,474,560\n",
      "Non-trainable params: 0\n",
      "_________________________________________________________________\n"
     ]
    }
   ],
   "source": [
    "params = {\n",
    "    \"epochs\": 10,\n",
    "    \"epsilon\": 1e-7,\n",
    "    \"m_minus\": 0.1,\n",
    "    \"m_plus\": 0.9,\n",
    "    \"lambda_\": 0.5,\n",
    "    \"alpha\": 0.0005,\n",
    "    \"no_of_conv_kernels\": 128,\n",
    "    \"no_of_primary_capsules\": 32,\n",
    "    \"no_of_secondary_capsules\": 10,\n",
    "    \"primary_capsule_vector\": 8,\n",
    "    \"secondary_capsule_vector\": 16,\n",
    "    \"r\":3,\n",
    "    \"dense_1\": 512,\n",
    "    \"dense_2\": 1024\n",
    "}\n",
    "\n",
    "{\n",
    "    'epochs': 5, \n",
    "    'r': 2,\n",
    "    'no_of_conv_kernels': 64,\n",
    "    'secondary_capsule_vector': 6,\n",
    "    'dense_1': 256,\n",
    "    'dense_2': 512,\n",
    "    'epsilon': 0.08411185848750914,\n",
    "    'm_plus': 0.9504174153527706,\n",
    "    'm_minus': 0.1648052052496743,\n",
    "    'lambda_': 0.6831030565866469,\n",
    "    'alpha': 0.006858184909559632,\n",
    "    'no_of_primary_capsules': 32,\n",
    "    'primary_capsule_vector': 8,\n",
    "    'no_of_secondary_capsules': 10}\n",
    "\n",
    "\n",
    "BaselineCapsNetModel = CapsNet(**params)\n",
    "BaselineCapsNetModel._name = 'BaselineCapsNetModel'\n",
    "BaselineCapsNetModel.compile()\n",
    "BaselineCapsNetModel.summary()"
   ]
  },
  {
   "cell_type": "code",
   "execution_count": null,
   "metadata": {},
   "outputs": [
    {
     "name": "stderr",
     "output_type": "stream",
     "text": [
      "Epoch 1/10: 100%|██████████| 79/79 [02:41<00:00,  2.04s/it, Training loss : 0.0031, Validation loss : 0.0014]\n",
      "Epoch 2/10: 100%|██████████| 79/79 [00:35<00:00,  2.24it/s, Training loss : 0.0008, Validation loss : 0.0009]\n",
      "Epoch 3/10: 100%|██████████| 79/79 [00:34<00:00,  2.27it/s, Training loss : 0.0006, Validation loss : 0.0008]\n",
      "Epoch 4/10: 100%|██████████| 79/79 [00:35<00:00,  2.23it/s, Training loss : 0.0004, Validation loss : 0.0007]\n",
      "Epoch 5/10: 100%|██████████| 79/79 [00:34<00:00,  2.27it/s, Training loss : 0.0003, Validation loss : 0.0007]\n",
      "Epoch 6/10: 100%|██████████| 79/79 [00:36<00:00,  2.17it/s, Training loss : 0.0002, Validation loss : 0.0006]\n",
      "Epoch 7/10: 100%|██████████| 79/79 [00:37<00:00,  2.12it/s, Training loss : 0.0002, Validation loss : 0.0006]\n",
      "Epoch 8/10: 100%|██████████| 79/79 [00:39<00:00,  1.99it/s, Training loss : 0.0001, Validation loss : 0.0006]\n",
      "Epoch 9/10: 100%|██████████| 79/79 [00:36<00:00,  2.14it/s, Training loss : 0.0001, Validation loss : 0.0005]\n",
      "Epoch 10/10: 100%|██████████| 79/79 [00:25<00:00,  3.07it/s]"
     ]
    },
    {
     "name": "stdout",
     "output_type": "stream",
     "text": [
      "Validation loss is not decreasing anymore, risk of overfitting the model after 10 epochs. The training will be stopped. This behavior can be modified by setting the early_stop property of the model to False\n"
     ]
    },
    {
     "name": "stderr",
     "output_type": "stream",
     "text": [
      "\n"
     ]
    },
    {
     "data": {
      "text/plain": [
       "{'accuracy': ListWrapper([0.9536, 0.98, 0.987, 0.9918, 0.995, 0.996, 0.9978, 0.9982, 0.9988]),\n",
       " 'loss': ListWrapper([0.3097932320088148, 0.08321264176629484, 0.05534231895580888, 0.04158261290285736, 0.03326999139972031, 0.02466839214321226, 0.019344296015333384, 0.014004786498844624, 0.011827819253085181]),\n",
       " 'val_accuracy': ListWrapper([0.9276666666666666, 0.958, 0.9623333333333334, 0.9626666666666667, 0.9653333333333334, 0.962, 0.9683333333333334, 0.9646666666666667, 0.965]),\n",
       " 'val_loss': ListWrapper([0.14193583047017455, 0.092715909704566, 0.07689831545576453, 0.07316996343433857, 0.06711899186484516, 0.06371272029355168, 0.05823915125802159, 0.05616775597445667, 0.05149357602931559])}"
      ]
     },
     "execution_count": 196,
     "metadata": {},
     "output_type": "execute_result"
    }
   ],
   "source": [
    "BaselineCapsNetModel.fit(X_train, y_train, tf.keras.optimizers.legacy.Adam(), train_metrics=['accuracy'], validation=(X_test, y_test))"
   ]
  },
  {
   "cell_type": "code",
   "execution_count": null,
   "metadata": {},
   "outputs": [],
   "source": [
    "n_rounds = 100\n",
    "\n",
    "import time\n",
    "\n",
    "caps_inv_time = []\n",
    "for i in range(n_rounds):\n",
    "    start = time.time()\n",
    "    BaselineCapsNetModel.predict(X_test)\n",
    "    end = time.time()\n",
    "    caps_inv_time.append((end - start) / len(X_test) * 1000)"
   ]
  },
  {
   "cell_type": "code",
   "execution_count": null,
   "metadata": {},
   "outputs": [
    {
     "data": {
      "text/plain": [
       "[1.0393946170806885,\n",
       " 1.0283239682515461,\n",
       " 1.0550883611043294,\n",
       " 1.0988659063975017,\n",
       " 1.0264192422231038,\n",
       " 1.100140412648519,\n",
       " 1.0813806851704917,\n",
       " 1.0651217301686604,\n",
       " 1.0524499416351318,\n",
       " 0.9940913518269856,\n",
       " 1.0145200093587239,\n",
       " 1.0021309852600098,\n",
       " 0.9839523633321127,\n",
       " 1.015681266784668,\n",
       " 0.9791723092397054,\n",
       " 0.9907997449239095,\n",
       " 0.9825679461161296,\n",
       " 0.9778046607971191,\n",
       " 0.9923053582509358,\n",
       " 1.0264449914296467,\n",
       " 1.001984675725301,\n",
       " 1.0094300111134846,\n",
       " 1.0115636984507244,\n",
       " 1.0027116139729817,\n",
       " 1.0275713602701824,\n",
       " 1.0016830762227378,\n",
       " 1.0724349816640217,\n",
       " 1.0217309792836506,\n",
       " 0.9822803338368734,\n",
       " 1.0785853068033855,\n",
       " 1.1656906604766846,\n",
       " 1.0498662789662678,\n",
       " 1.010831356048584,\n",
       " 1.016911268234253,\n",
       " 1.0540376504262288,\n",
       " 1.046073039372762,\n",
       " 1.0197726885477703,\n",
       " 1.0046809514363606,\n",
       " 0.9990020593007405,\n",
       " 1.0491960048675537,\n",
       " 1.0432476202646892,\n",
       " 1.0331149895985923,\n",
       " 1.0465116500854492,\n",
       " 1.0288807551066081,\n",
       " 1.0601986249287922,\n",
       " 1.0378170013427734,\n",
       " 1.049253225326538,\n",
       " 1.061629295349121,\n",
       " 1.0545287132263184,\n",
       " 1.0735349655151367,\n",
       " 1.0637163321177165,\n",
       " 1.011682669321696,\n",
       " 1.0815759499867756,\n",
       " 1.0403255621592205,\n",
       " 1.0333500703175864,\n",
       " 1.043751319249471,\n",
       " 1.046735366185506,\n",
       " 1.0216103394826253,\n",
       " 1.0610243479410808,\n",
       " 1.0035920143127441,\n",
       " 1.083096981048584,\n",
       " 0.9970047473907471,\n",
       " 1.0262830257415771,\n",
       " 1.0029006004333496,\n",
       " 1.0611317157745361,\n",
       " 1.040842135747274,\n",
       " 0.9984276294708252,\n",
       " 1.0250496864318848,\n",
       " 0.9882556597391764,\n",
       " 1.0104897022247314,\n",
       " 1.0288269519805908,\n",
       " 1.0272043546040854,\n",
       " 0.9768393834431967,\n",
       " 0.9825023015340169,\n",
       " 0.9846166769663494,\n",
       " 1.0534985860188804,\n",
       " 1.0368270079294841,\n",
       " 1.0141716798146565,\n",
       " 1.0110060373942056,\n",
       " 1.038610061009725,\n",
       " 1.0144505500793457,\n",
       " 1.0498929818471272,\n",
       " 1.0389046669006348,\n",
       " 1.0082313219706216,\n",
       " 1.00783109664917,\n",
       " 1.0381286938985188,\n",
       " 1.0740333398183188,\n",
       " 1.0370386441548665,\n",
       " 1.0396284262339275,\n",
       " 1.0397109985351562,\n",
       " 1.0494994322458904,\n",
       " 1.0574006239573162,\n",
       " 1.013370434443156,\n",
       " 0.9849495887756348,\n",
       " 1.0025263627370198,\n",
       " 1.0362520217895508,\n",
       " 1.0879613558451335,\n",
       " 1.0399080117543538,\n",
       " 1.0030690034230552,\n",
       " 1.058444658915202]"
      ]
     },
     "execution_count": 198,
     "metadata": {},
     "output_type": "execute_result"
    }
   ],
   "source": [
    "caps_inv_time"
   ]
  },
  {
   "cell_type": "code",
   "execution_count": null,
   "metadata": {},
   "outputs": [
    {
     "data": {
      "text/plain": [
       "1.0309759179751077"
      ]
     },
     "execution_count": 199,
     "metadata": {},
     "output_type": "execute_result"
    }
   ],
   "source": [
    "import numpy as np\n",
    "\n",
    "np.mean(caps_inv_time)"
   ]
  },
  {
   "cell_type": "code",
   "execution_count": null,
   "metadata": {},
   "outputs": [
    {
     "name": "stdout",
     "output_type": "stream",
     "text": [
      "Model: \"sequential_4\"\n",
      "_________________________________________________________________\n",
      " Layer (type)                Output Shape              Param #   \n",
      "=================================================================\n",
      " conv2d_4 (Conv2D)           (None, 26, 26, 32)        320       \n",
      "                                                                 \n",
      " max_pooling2d_4 (MaxPooling  (None, 13, 13, 32)       0         \n",
      " 2D)                                                             \n",
      "                                                                 \n",
      " flatten_4 (Flatten)         (None, 5408)              0         \n",
      "                                                                 \n",
      " dense_80 (Dense)            (None, 100)               540900    \n",
      "                                                                 \n",
      " dense_81 (Dense)            (None, 10)                1010      \n",
      "                                                                 \n",
      "=================================================================\n",
      "Total params: 542,230\n",
      "Trainable params: 542,230\n",
      "Non-trainable params: 0\n",
      "_________________________________________________________________\n"
     ]
    }
   ],
   "source": [
    "ConvNetModel = tf.keras.Sequential([\n",
    "    tf.keras.layers.Conv2D(32, (3, 3), activation='relu', input_shape=(28, 28, 1)),\n",
    "    tf.keras.layers.MaxPooling2D((2, 2)),\n",
    "    tf.keras.layers.Flatten(),\n",
    "    tf.keras.layers.Dense(100, activation='relu'),\n",
    "    tf.keras.layers.Dense(10, activation='softmax')\n",
    "])\n",
    "ConvNetModel.summary()"
   ]
  },
  {
   "cell_type": "code",
   "execution_count": null,
   "metadata": {},
   "outputs": [],
   "source": [
    "ConvNetModel.compile(tf.optimizers.legacy.Adam(), loss='categorical_crossentropy', metrics=['accuracy'])\n",
    "tf_y_train = tf.keras.utils.to_categorical(y_train)\n",
    "tf_y_test = tf.keras.utils.to_categorical(y_test)"
   ]
  },
  {
   "cell_type": "code",
   "execution_count": null,
   "metadata": {},
   "outputs": [
    {
     "name": "stdout",
     "output_type": "stream",
     "text": [
      "Epoch 1/10\n",
      "157/157 [==============================] - 1s 6ms/step - loss: 0.5257 - accuracy: 0.8484 - val_loss: 0.3587 - val_accuracy: 0.8927\n",
      "Epoch 2/10\n",
      "157/157 [==============================] - 1s 5ms/step - loss: 0.1745 - accuracy: 0.9498 - val_loss: 0.2168 - val_accuracy: 0.9340\n",
      "Epoch 3/10\n",
      "157/157 [==============================] - 1s 5ms/step - loss: 0.0983 - accuracy: 0.9716 - val_loss: 0.1811 - val_accuracy: 0.9443\n",
      "Epoch 4/10\n",
      "157/157 [==============================] - 1s 5ms/step - loss: 0.0651 - accuracy: 0.9826 - val_loss: 0.1869 - val_accuracy: 0.9437\n",
      "Epoch 5/10\n",
      "157/157 [==============================] - 1s 5ms/step - loss: 0.0414 - accuracy: 0.9872 - val_loss: 0.1454 - val_accuracy: 0.9563\n",
      "Epoch 6/10\n",
      "157/157 [==============================] - 1s 5ms/step - loss: 0.0239 - accuracy: 0.9948 - val_loss: 0.1601 - val_accuracy: 0.9483\n",
      "Epoch 7/10\n",
      "157/157 [==============================] - 1s 5ms/step - loss: 0.0194 - accuracy: 0.9950 - val_loss: 0.1619 - val_accuracy: 0.9507\n",
      "Epoch 8/10\n",
      "157/157 [==============================] - 1s 5ms/step - loss: 0.0099 - accuracy: 0.9990 - val_loss: 0.1537 - val_accuracy: 0.9510\n",
      "Epoch 9/10\n",
      "157/157 [==============================] - 1s 5ms/step - loss: 0.0124 - accuracy: 0.9974 - val_loss: 0.1606 - val_accuracy: 0.9533\n",
      "Epoch 10/10\n",
      "157/157 [==============================] - 1s 5ms/step - loss: 0.0038 - accuracy: 1.0000 - val_loss: 0.1559 - val_accuracy: 0.9563\n"
     ]
    }
   ],
   "source": [
    "history = ConvNetModel.fit(X_train, tf_y_train, epochs=10, batch_size=32, validation_data=(X_test, tf_y_test))"
   ]
  },
  {
   "cell_type": "code",
   "execution_count": null,
   "metadata": {},
   "outputs": [
    {
     "ename": "NameError",
     "evalue": "name 'history' is not defined",
     "output_type": "error",
     "traceback": [
      "\u001b[0;31m---------------------------------------------------------------------------\u001b[0m",
      "\u001b[0;31mNameError\u001b[0m                                 Traceback (most recent call last)",
      "Cell \u001b[0;32mIn[1], line 1\u001b[0m\n\u001b[0;32m----> 1\u001b[0m history\u001b[39m.\u001b[39mhistory\n",
      "\u001b[0;31mNameError\u001b[0m: name 'history' is not defined"
     ]
    }
   ],
   "source": [
    "history.history"
   ]
  },
  {
   "cell_type": "code",
   "execution_count": null,
   "metadata": {},
   "outputs": [
    {
     "name": "stdout",
     "output_type": "stream",
     "text": [
      "94/94 [==============================] - 0s 1ms/step\n",
      "94/94 [==============================] - 0s 1ms/step\n",
      "94/94 [==============================] - 0s 1ms/step\n",
      "94/94 [==============================] - 0s 1ms/step\n",
      "94/94 [==============================] - 0s 1ms/step\n",
      "94/94 [==============================] - 0s 1ms/step\n",
      "94/94 [==============================] - 0s 1ms/step\n",
      "94/94 [==============================] - 0s 1ms/step\n",
      "94/94 [==============================] - 0s 1ms/step\n",
      "94/94 [==============================] - 0s 1ms/step\n",
      "94/94 [==============================] - 0s 1ms/step\n",
      "94/94 [==============================] - 0s 1ms/step\n",
      "94/94 [==============================] - 0s 1ms/step\n",
      "94/94 [==============================] - 0s 1ms/step\n",
      "94/94 [==============================] - 0s 1ms/step\n",
      "94/94 [==============================] - 0s 1ms/step\n",
      "94/94 [==============================] - 0s 1ms/step\n",
      "94/94 [==============================] - 0s 1ms/step\n",
      "94/94 [==============================] - 0s 1ms/step\n",
      "94/94 [==============================] - 0s 1ms/step\n",
      "94/94 [==============================] - 0s 1ms/step\n",
      "94/94 [==============================] - 0s 1ms/step\n",
      "94/94 [==============================] - 0s 1ms/step\n",
      "94/94 [==============================] - 0s 1ms/step\n",
      "94/94 [==============================] - 0s 1ms/step\n",
      "94/94 [==============================] - 0s 1ms/step\n",
      "94/94 [==============================] - 0s 1ms/step\n",
      "94/94 [==============================] - 0s 1ms/step\n",
      "94/94 [==============================] - 0s 1ms/step\n",
      "94/94 [==============================] - 0s 1ms/step\n",
      "94/94 [==============================] - 0s 1ms/step\n",
      "94/94 [==============================] - 0s 1ms/step\n",
      "94/94 [==============================] - 0s 1ms/step\n",
      "94/94 [==============================] - 0s 1ms/step\n",
      "94/94 [==============================] - 0s 1ms/step\n",
      "94/94 [==============================] - 0s 1ms/step\n",
      "94/94 [==============================] - 0s 1ms/step\n",
      "94/94 [==============================] - 0s 1ms/step\n",
      "94/94 [==============================] - 0s 1ms/step\n",
      "94/94 [==============================] - 0s 1ms/step\n",
      "94/94 [==============================] - 0s 1ms/step\n",
      "94/94 [==============================] - 0s 1ms/step\n",
      "94/94 [==============================] - 0s 1ms/step\n",
      "94/94 [==============================] - 0s 1ms/step\n",
      "94/94 [==============================] - 0s 1ms/step\n",
      "94/94 [==============================] - 0s 1ms/step\n",
      "94/94 [==============================] - 0s 1ms/step\n",
      "94/94 [==============================] - 0s 1ms/step\n",
      "94/94 [==============================] - 0s 1ms/step\n",
      "94/94 [==============================] - 0s 1ms/step\n",
      "94/94 [==============================] - 0s 1ms/step\n",
      "94/94 [==============================] - 0s 1ms/step\n",
      "94/94 [==============================] - 0s 1ms/step\n",
      "94/94 [==============================] - 0s 1ms/step\n",
      "94/94 [==============================] - 0s 1ms/step\n",
      "94/94 [==============================] - 0s 1ms/step\n",
      "94/94 [==============================] - 0s 1ms/step\n",
      "94/94 [==============================] - 0s 1ms/step\n",
      "94/94 [==============================] - 0s 1ms/step\n",
      "94/94 [==============================] - 0s 1ms/step\n",
      "94/94 [==============================] - 0s 1ms/step\n",
      "94/94 [==============================] - 0s 1ms/step\n",
      "94/94 [==============================] - 0s 1ms/step\n",
      "94/94 [==============================] - 0s 1ms/step\n",
      "94/94 [==============================] - 0s 1ms/step\n",
      "94/94 [==============================] - 0s 1ms/step\n",
      "94/94 [==============================] - 0s 1ms/step\n",
      "94/94 [==============================] - 0s 1ms/step\n",
      "94/94 [==============================] - 0s 1ms/step\n",
      "94/94 [==============================] - 0s 1ms/step\n",
      "94/94 [==============================] - 0s 1ms/step\n",
      "94/94 [==============================] - 0s 1ms/step\n",
      "94/94 [==============================] - 0s 1ms/step\n",
      "94/94 [==============================] - 0s 1ms/step\n",
      "94/94 [==============================] - 0s 1ms/step\n",
      "94/94 [==============================] - 0s 1ms/step\n",
      "94/94 [==============================] - 0s 1ms/step\n",
      "94/94 [==============================] - 0s 1ms/step\n",
      "94/94 [==============================] - 0s 1ms/step\n",
      "94/94 [==============================] - 0s 1ms/step\n",
      "94/94 [==============================] - 0s 1ms/step\n",
      "94/94 [==============================] - 0s 1ms/step\n",
      "94/94 [==============================] - 0s 1ms/step\n",
      "94/94 [==============================] - 0s 1ms/step\n",
      "94/94 [==============================] - 0s 1ms/step\n",
      "94/94 [==============================] - 0s 1ms/step\n",
      "94/94 [==============================] - 0s 1ms/step\n",
      "94/94 [==============================] - 0s 1ms/step\n",
      "94/94 [==============================] - 0s 1ms/step\n",
      "94/94 [==============================] - 0s 1ms/step\n",
      "94/94 [==============================] - 0s 1ms/step\n",
      "94/94 [==============================] - 0s 3ms/step\n",
      "94/94 [==============================] - 0s 1ms/step\n",
      "94/94 [==============================] - 0s 1ms/step\n",
      "94/94 [==============================] - 0s 1ms/step\n",
      "94/94 [==============================] - 0s 1ms/step\n",
      "94/94 [==============================] - 0s 1ms/step\n",
      "94/94 [==============================] - 0s 1ms/step\n",
      "94/94 [==============================] - 0s 1ms/step\n",
      "94/94 [==============================] - 0s 1ms/step\n"
     ]
    }
   ],
   "source": [
    "n_rounds = 100\n",
    "\n",
    "import time\n",
    "\n",
    "cnn_inv_time = []\n",
    "for i in range(n_rounds):\n",
    "    start = time.time()\n",
    "    ConvNetModel.predict(X_test)\n",
    "    end = time.time()\n",
    "    cnn_inv_time.append((end - start) / len(X_test) * 1000)"
   ]
  },
  {
   "cell_type": "code",
   "execution_count": null,
   "metadata": {},
   "outputs": [
    {
     "data": {
      "text/plain": [
       "[0.06803464889526367,\n",
       " 0.046277920405069985,\n",
       " 0.04695598284403483,\n",
       " 0.05083195368448893,\n",
       " 0.04903904596964518,\n",
       " 0.04744426409403483,\n",
       " 0.04295102755228678,\n",
       " 0.04736463228861491,\n",
       " 0.04630764325459798,\n",
       " 0.046906630198160805,\n",
       " 0.04629206657409668,\n",
       " 0.04596670468648275,\n",
       " 0.04629802703857422,\n",
       " 0.04626234372456868,\n",
       " 0.04603934288024902,\n",
       " 0.045617103576660156,\n",
       " 0.04674998919169108,\n",
       " 0.04755441347757975,\n",
       " 0.04634666442871094,\n",
       " 0.04609974225362142,\n",
       " 0.04549034436543782,\n",
       " 0.04554971059163411,\n",
       " 0.047272682189941406,\n",
       " 0.04555964469909668,\n",
       " 0.04728738466898601,\n",
       " 0.046836932500203446,\n",
       " 0.04641040166219076,\n",
       " 0.046520630518595375,\n",
       " 0.04690408706665039,\n",
       " 0.047209580739339195,\n",
       " 0.04745729764302571,\n",
       " 0.046413977940877274,\n",
       " 0.04742836952209473,\n",
       " 0.047348976135253906,\n",
       " 0.04698999722798665,\n",
       " 0.047243992487589516,\n",
       " 0.045872608820597335,\n",
       " 0.04828000068664551,\n",
       " 0.04731607437133789,\n",
       " 0.04755830764770508,\n",
       " 0.045488039652506515,\n",
       " 0.047333717346191406,\n",
       " 0.04707256952921549,\n",
       " 0.04559572537740072,\n",
       " 0.04428633054097494,\n",
       " 0.047995249430338546,\n",
       " 0.047781387964884445,\n",
       " 0.046663920084635414,\n",
       " 0.04678471883138021,\n",
       " 0.0465997060139974,\n",
       " 0.04607129096984863,\n",
       " 0.04753605524698893,\n",
       " 0.04672900835673014,\n",
       " 0.052381674448649086,\n",
       " 0.05293536186218262,\n",
       " 0.05063168207804362,\n",
       " 0.051860968271891274,\n",
       " 0.048733393351236984,\n",
       " 0.04723668098449707,\n",
       " 0.05502827962239583,\n",
       " 0.047301292419433594,\n",
       " 0.0468899408976237,\n",
       " 0.04691362380981445,\n",
       " 0.04554033279418945,\n",
       " 0.045783042907714844,\n",
       " 0.046596924463907875,\n",
       " 0.045931339263916016,\n",
       " 0.04692792892456055,\n",
       " 0.045722643534342446,\n",
       " 0.046025117238362626,\n",
       " 0.045560995737711586,\n",
       " 0.04572931925455729,\n",
       " 0.04584566752115886,\n",
       " 0.046257336934407554,\n",
       " 0.046199003855387374,\n",
       " 0.046251932779947914,\n",
       " 0.04611698786417643,\n",
       " 0.04627903302510579,\n",
       " 0.04576730728149414,\n",
       " 0.046712398529052734,\n",
       " 0.0469214121500651,\n",
       " 0.047472635904947914,\n",
       " 0.05803163846333822,\n",
       " 0.04758397738138835,\n",
       " 0.04614941279093424,\n",
       " 0.045749664306640625,\n",
       " 0.04605801900227864,\n",
       " 0.04551959037780762,\n",
       " 0.04614035288492838,\n",
       " 0.04683399200439453,\n",
       " 0.04936869939168294,\n",
       " 0.09725093841552734,\n",
       " 0.04952462514241536,\n",
       " 0.05083060264587402,\n",
       " 0.04711596171061198,\n",
       " 0.046053012212117515,\n",
       " 0.04657165209452311,\n",
       " 0.04727133115132649,\n",
       " 0.04900360107421875,\n",
       " 0.04594866434733073]"
      ]
     },
     "execution_count": 204,
     "metadata": {},
     "output_type": "execute_result"
    }
   ],
   "source": [
    "cnn_inv_time"
   ]
  },
  {
   "cell_type": "code",
   "execution_count": null,
   "metadata": {},
   "outputs": [
    {
     "data": {
      "image/png": "[encoded data removed]",
      "text/plain": [
       "<Figure size 1200x500 with 3 Axes>"
      ]
     },
     "metadata": {},
     "output_type": "display_data"
    }
   ],
   "source": [
    "import matplotlib.pyplot as plt\n",
    "import time\n",
    "import pandas as pd\n",
    "\n",
    "NasCapsNet.training_metrics = {\n",
    "    'loss': NasCapsNet.training_metrics['loss'],\n",
    "    'accuracy': NasCapsNet.training_metrics['accuracy'],\n",
    "    'val_loss': NasCapsNet.training_metrics['val_loss'],\n",
    "    'val_accuracy': NasCapsNet.training_metrics['val_accuracy'],\n",
    "}\n",
    "\n",
    "BaselineCapsNetModel.training_metrics = {\n",
    "    'loss': BaselineCapsNetModel.training_metrics['loss'],\n",
    "    'accuracy': BaselineCapsNetModel.training_metrics['accuracy'],\n",
    "    'val_loss': BaselineCapsNetModel.training_metrics['val_loss'],\n",
    "    'val_accuracy': BaselineCapsNetModel.training_metrics['val_accuracy'],\n",
    "}\n",
    "\n",
    "fig, axes = plt.subplots(1, 3, figsize=(12, 5))\n",
    "\n",
    "df_baseline = pd.DataFrame(history.history)\n",
    "plot_baseline = df_baseline.plot(ax=axes[0], title=\"CNN model\", legend=False)\n",
    "axes[0].set_ylim(0, 1)\n",
    "axes[0].set_xlim(0, 9)\n",
    "\n",
    "df_capsnet = pd.DataFrame(BaselineCapsNetModel.training_metrics)\n",
    "plot_capsnet = df_capsnet.plot(ax=axes[1], title=\"CapsNet baseline model\", legend=False)  # Set legend=False here\n",
    "axes[1].set_ylim(0, 1)\n",
    "axes[1].set_xlim(0, 6)\n",
    "\n",
    "df_capsnet_nas = pd.DataFrame(NasCapsNet.training_metrics)\n",
    "plot_capsnet_nas = df_capsnet_nas.plot(ax=axes[2], title=\"CapsNet solution model\", legend=False)  # Set legend=False here\n",
    "axes[2].set_ylim(0, 1)\n",
    "axes[2].set_xlim(0, 5)\n",
    "\n",
    "axes[0].set_xlabel(\"Epochs\")\n",
    "axes[1].set_xlabel(\"Epochs\")\n",
    "axes[2].set_xlabel(\"Epochs\")\n",
    "\n",
    "# Show only one legend for all three plots\n",
    "handles, labels = axes[2].get_legend_handles_labels()\n",
    "fig.legend(handles, labels, loc='lower center', bbox_to_anchor=(0.5, -0.05), fancybox=True, ncol=4)\n",
    "\n",
    "plt.tight_layout()\n",
    "plt.show()\n"
   ]
  },
  {
   "cell_type": "code",
   "execution_count": null,
   "metadata": {},
   "outputs": [
    {
     "data": {
      "image/png": "[encoded data removed]",
      "text/plain": [
       "<Figure size 800x600 with 1 Axes>"
      ]
     },
     "metadata": {},
     "output_type": "display_data"
    }
   ],
   "source": [
    "df = pd.DataFrame({\n",
    "    \"conv\": cnn_inv_time,\n",
    "    \"caps\": caps_inv_time,\n",
    "    \"caps nas\": caps_nas_inv_time\n",
    "})\n",
    "plt.figure(figsize=(8, 6))\n",
    "plt.boxplot(df.values, labels=df.columns)\n",
    "plt.title('Inference Time Comparison')\n",
    "plt.xlabel('Model')\n",
    "plt.ylabel('Inference Time (ms)')\n",
    "plt.grid(True)\n",
    "plt.show()"
   ]
  },
  {
   "cell_type": "code",
   "execution_count": null,
   "metadata": {},
   "outputs": [
    {
     "data": {
      "image/png": "[encoded data removed]",
      "text/plain": [
       "<Figure size 640x480 with 1 Axes>"
      ]
     },
     "metadata": {},
     "output_type": "display_data"
    }
   ],
   "source": [
    "df = pd.DataFrame({\n",
    "    'conv': {'acc': history.history['accuracy'][-1], 'val_acc': history.history['val_accuracy'][-1]},\n",
    "    'caps': {'acc': BaselineCapsNetModel.training_metrics['accuracy'][-1], 'val_acc': BaselineCapsNetModel.training_metrics['val_accuracy'][-1]},\n",
    "    'caps_nas': {'acc': NasCapsNet.training_metrics['accuracy'][-1], 'val_acc': NasCapsNet.training_metrics['val_accuracy'][-1]},\n",
    "})\n",
    "\n",
    "df = df.T\n",
    "df.plot(kind='bar')\n",
    "plt.xlabel('Model')\n",
    "plt.ylabel('Accuracy')\n",
    "plt.title('Accuracy Comparison')\n",
    "plt.legend(title='Metric', loc='center left', bbox_to_anchor=(1, 0.5))\n",
    "plt.show()"
   ]
  }
 ],
 "metadata": {
  "kernelspec": {
   "display_name": "capsnet",
   "language": "python",
   "name": "python3"
  },
  "language_info": {
   "codemirror_mode": {
    "name": "ipython",
    "version": 3
   },
   "file_extension": ".py",
   "mimetype": "text/x-python",
   "name": "python",
   "nbconvert_exporter": "python",
   "pygments_lexer": "ipython3",
   "version": "3.10.11"
  },
  "orig_nbformat": 4
 },
 "nbformat": 4,
 "nbformat_minor": 2
}

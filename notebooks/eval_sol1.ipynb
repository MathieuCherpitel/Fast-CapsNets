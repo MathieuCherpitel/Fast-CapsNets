{
 "cells": [
  {
   "cell_type": "code",
   "execution_count": 2,
   "metadata": {},
   "outputs": [],
   "source": [
    "import os\n",
    "import sys\n",
    "import tensorflow as tf\n",
    "\n",
    "directory_path = os.path.abspath(os.path.join('../src'))\n",
    "if directory_path not in sys.path:\n",
    "    sys.path.append(directory_path)\n",
    "\n",
    "from NsgaII import Nsga_II\n",
    "from utils.load_data import load_mnist\n",
    "from CapsNet import CapsNet\n",
    "\n",
    "(X_train, y_train), (X_test , y_test) = load_mnist(size=(5000, 3000))"
   ]
  },
  {
   "cell_type": "code",
   "execution_count": 3,
   "metadata": {},
   "outputs": [
    {
     "name": "stdout",
     "output_type": "stream",
     "text": [
      "{'epochs': 5, 'r': 2, 'no_of_conv_kernels': 64, 'secondary_capsule_vector': 6, 'dense_1': 256, 'dense_2': 512, 'epsilon': 0.08411185848750914, 'm_plus': 0.9504174153527706, 'm_minus': 0.1648052052496743, 'lambda_': 0.6831030565866469, 'alpha': 0.006858184909559632, 'no_of_primary_capsules': 32, 'primary_capsule_vector': 8, 'no_of_secondary_capsules': 10}\n",
      "Model: \"NasCapsNet\"\n",
      "_________________________________________________________________\n",
      " Layer (type)                Output Shape              Param #   \n",
      "=================================================================\n",
      " ConvolutionLayer (Conv2D)   multiple                  0 (unused)\n",
      "                                                                 \n",
      " PrimaryCapsule (Conv2D)     multiple                  0 (unused)\n",
      "                                                                 \n",
      " dense (Dense)               multiple                  0 (unused)\n",
      "                                                                 \n",
      " dense_1 (Dense)             multiple                  0 (unused)\n",
      "                                                                 \n",
      "=================================================================\n",
      "Total params: 552,960\n",
      "Trainable params: 552,960\n",
      "Non-trainable params: 0\n",
      "_________________________________________________________________\n"
     ]
    }
   ],
   "source": [
    "import json\n",
    "with open('../saved_ga/mnist-gpu0-hpc-2/solutions.json') as file:\n",
    "    solutions = json.load(file)\n",
    "    params = solutions['Solution 2']['params']\n",
    "\n",
    "# params = {'epochs': 5, 'r': 2, 'no_of_conv_kernels': 64, 'secondary_capsule_vector': 6, 'dense_1': 256, 'dense_2': 512, 'epsilon': 0.08411185848750914, 'm_plus': 0.9504174153527706, 'm_minus': 0.1648052052496743, 'lambda_': 0.6831030565866469, 'alpha': 0.006858184909559632, 'no_of_primary_capsules': 32, 'primary_capsule_vector': 8, 'no_of_secondary_capsules': 10}\n",
    "\n",
    "print(params)\n",
    "NasCapsNet = CapsNet(**params)\n",
    "NasCapsNet._name = 'NasCapsNet'\n",
    "NasCapsNet.compile()\n",
    "NasCapsNet.summary()"
   ]
  },
  {
   "cell_type": "code",
   "execution_count": 4,
   "metadata": {},
   "outputs": [
    {
     "name": "stderr",
     "output_type": "stream",
     "text": [
      "Epoch 1/5:   0%|          | 0/79 [00:00<?, ?it/s]2023-08-08 22:02:01.024573: W tensorflow/tsl/platform/profile_utils/cpu_utils.cc:128] Failed to get CPU frequency: 0 Hz\n",
      "Epoch 1/5: 100%|██████████| 79/79 [01:40<00:00,  1.27s/it, Training loss : 0.0048, Validation loss : 0.0030]\n",
      "Epoch 2/5: 100%|██████████| 79/79 [00:18<00:00,  4.34it/s, Training loss : 0.0024, Validation loss : 0.0025]\n",
      "Epoch 3/5: 100%|██████████| 79/79 [00:17<00:00,  4.48it/s, Training loss : 0.0022, Validation loss : 0.0024]\n",
      "Epoch 4/5: 100%|██████████| 79/79 [00:17<00:00,  4.41it/s, Training loss : 0.0020, Validation loss : 0.0023]\n",
      "Epoch 5/5: 100%|██████████| 79/79 [00:17<00:00,  4.48it/s, Training loss : 0.0019, Validation loss : 0.0023]\n"
     ]
    },
    {
     "data": {
      "text/plain": [
       "{'accuracy': ListWrapper([0.9594, 0.9812, 0.9866, 0.9904, 0.993]),\n",
       " 'loss': ListWrapper([0.4792872816324234, 0.24276755284518003, 0.2150713698938489, 0.20108078606426716, 0.19372839014977217]),\n",
       " 'val_accuracy': ListWrapper([0.9323333333333333, 0.957, 0.957, 0.9606666666666667, 0.965]),\n",
       " 'val_loss': ListWrapper([0.3030965104699135, 0.25092526338994503, 0.24128463119268417, 0.23487857542932034, 0.23191755171865225])}"
      ]
     },
     "execution_count": 4,
     "metadata": {},
     "output_type": "execute_result"
    }
   ],
   "source": [
    "NasCapsNet.fit(X_train, y_train, tf.keras.optimizers.legacy.Adam(), train_metrics=['accuracy'], validation=(X_test, y_test))"
   ]
  },
  {
   "cell_type": "code",
   "execution_count": 5,
   "metadata": {},
   "outputs": [
    {
     "data": {
      "text/plain": [
       "[0.5109597047170004,\n",
       " 0.5553449789683024,\n",
       " 0.522291342417399,\n",
       " 0.5164093176523844,\n",
       " 0.5207653840382894,\n",
       " 0.5194590091705322,\n",
       " 0.5050837198893229,\n",
       " 0.5177692572275798,\n",
       " 0.5146679878234863,\n",
       " 0.5080503622690836,\n",
       " 0.5128426551818848,\n",
       " 0.5310450394948324,\n",
       " 0.5331743558247884,\n",
       " 0.514673630396525,\n",
       " 0.5018850167592367,\n",
       " 0.5235303243001301,\n",
       " 0.6353039741516113,\n",
       " 0.5290686289469402,\n",
       " 0.5466570059458414,\n",
       " 0.5293352603912354,\n",
       " 0.5520129998524984,\n",
       " 0.5409286816914877,\n",
       " 0.5308936436971028,\n",
       " 0.5190963745117188,\n",
       " 0.5184393723805745,\n",
       " 0.5109976927439372,\n",
       " 0.5271682739257812,\n",
       " 0.5038696924845378,\n",
       " 0.5212576389312744,\n",
       " 0.5254967212677002,\n",
       " 0.5037044684092203,\n",
       " 0.511841615041097,\n",
       " 0.5343490441640217,\n",
       " 0.5000363190968832,\n",
       " 0.5062482357025146,\n",
       " 0.5045062700907389,\n",
       " 0.5087973276774088,\n",
       " 0.5277570883433024,\n",
       " 0.5307888984680176,\n",
       " 0.5456240177154541,\n",
       " 0.5364922682444254,\n",
       " 0.5378846327463785,\n",
       " 0.5525489648183187,\n",
       " 0.5184316635131836,\n",
       " 0.5489409764607747,\n",
       " 0.5180916786193848,\n",
       " 0.5164226690928141,\n",
       " 0.5275537172953287,\n",
       " 0.5011404355367025,\n",
       " 0.5140319665273031,\n",
       " 0.513375997543335,\n",
       " 0.5646569728851318,\n",
       " 0.5635499954223633,\n",
       " 0.5406909783681234,\n",
       " 0.5967716375986735,\n",
       " 0.5322573184967041,\n",
       " 0.5265393257141113,\n",
       " 0.5235216617584229,\n",
       " 0.5252983570098877,\n",
       " 0.5493440628051758,\n",
       " 0.5537451108296711,\n",
       " 0.5720029671986898,\n",
       " 0.555388609568278,\n",
       " 0.5117146968841553,\n",
       " 0.5076146920522054,\n",
       " 0.5042679309844971,\n",
       " 0.5064653555552164,\n",
       " 0.5009029706319172,\n",
       " 0.5110847155253092,\n",
       " 0.5170209407806396,\n",
       " 0.5089439551035564,\n",
       " 0.5014402866363525,\n",
       " 0.5319702625274658,\n",
       " 0.4987529913584391,\n",
       " 0.5079636573791504,\n",
       " 0.5271306832631429,\n",
       " 0.5379049777984619,\n",
       " 0.5328145821889242,\n",
       " 0.5087386767069499,\n",
       " 0.5064663092295328,\n",
       " 0.5147899786631267,\n",
       " 0.5028603871663412,\n",
       " 0.5210123062133789,\n",
       " 0.5194830894470215,\n",
       " 0.510315736134847,\n",
       " 0.5139427185058594,\n",
       " 0.5387729803721111,\n",
       " 0.531967322031657,\n",
       " 0.5655359427134197,\n",
       " 0.5259236494700114,\n",
       " 0.5347592830657959,\n",
       " 0.5233419736226399,\n",
       " 0.5860660076141357,\n",
       " 0.528403917948405,\n",
       " 0.5227635701497396,\n",
       " 0.5012646516164144,\n",
       " 0.5062642892201742,\n",
       " 0.5011459986368816,\n",
       " 0.5268787542978922,\n",
       " 0.5109233856201172]"
      ]
     },
     "execution_count": 5,
     "metadata": {},
     "output_type": "execute_result"
    }
   ],
   "source": [
    "n_rounds = 100\n",
    "\n",
    "import time\n",
    "\n",
    "caps_nas_inv_time = []\n",
    "for i in range(n_rounds):\n",
    "    start = time.time()\n",
    "    NasCapsNet.predict(X_test)\n",
    "    end = time.time()\n",
    "    caps_nas_inv_time.append((end - start) / len(X_test) * 1000)\n",
    "caps_nas_inv_time"
   ]
  },
  {
   "cell_type": "code",
   "execution_count": 6,
   "metadata": {},
   "outputs": [
    {
     "data": {
      "text/plain": [
       "0.5256842692693074"
      ]
     },
     "execution_count": 6,
     "metadata": {},
     "output_type": "execute_result"
    }
   ],
   "source": [
    "import numpy as np\n",
    "np.mean(caps_nas_inv_time)"
   ]
  },
  {
   "cell_type": "code",
   "execution_count": 7,
   "metadata": {},
   "outputs": [
    {
     "name": "stdout",
     "output_type": "stream",
     "text": [
      "Model: \"BaselineCapsNetModel\"\n",
      "_________________________________________________________________\n",
      " Layer (type)                Output Shape              Param #   \n",
      "=================================================================\n",
      " ConvolutionLayer (Conv2D)   multiple                  0 (unused)\n",
      "                                                                 \n",
      " PrimaryCapsule (Conv2D)     multiple                  0 (unused)\n",
      "                                                                 \n",
      " dense_2 (Dense)             multiple                  0 (unused)\n",
      "                                                                 \n",
      " dense_3 (Dense)             multiple                  0 (unused)\n",
      "                                                                 \n",
      "=================================================================\n",
      "Total params: 1,474,560\n",
      "Trainable params: 1,474,560\n",
      "Non-trainable params: 0\n",
      "_________________________________________________________________\n"
     ]
    }
   ],
   "source": [
    "params = {\n",
    "    \"epochs\": 10,\n",
    "    \"epsilon\": 1e-7,\n",
    "    \"m_minus\": 0.1,\n",
    "    \"m_plus\": 0.9,\n",
    "    \"lambda_\": 0.5,\n",
    "    \"alpha\": 0.0005,\n",
    "    \"no_of_conv_kernels\": 128,\n",
    "    \"no_of_primary_capsules\": 32,\n",
    "    \"no_of_secondary_capsules\": 10,\n",
    "    \"primary_capsule_vector\": 8,\n",
    "    \"secondary_capsule_vector\": 16,\n",
    "    \"r\":3,\n",
    "    \"dense_1\": 512,\n",
    "    \"dense_2\": 1024\n",
    "}\n",
    "\n",
    "{\n",
    "    'epochs': 5, \n",
    "    'r': 2,\n",
    "    'no_of_conv_kernels': 64,\n",
    "    'secondary_capsule_vector': 6,\n",
    "    'dense_1': 256,\n",
    "    'dense_2': 512,\n",
    "    'epsilon': 0.08411185848750914,\n",
    "    'm_plus': 0.9504174153527706,\n",
    "    'm_minus': 0.1648052052496743,\n",
    "    'lambda_': 0.6831030565866469,\n",
    "    'alpha': 0.006858184909559632,\n",
    "    'no_of_primary_capsules': 32,\n",
    "    'primary_capsule_vector': 8,\n",
    "    'no_of_secondary_capsules': 10}\n",
    "\n",
    "\n",
    "BaselineCapsNetModel = CapsNet(**params)\n",
    "BaselineCapsNetModel._name = 'BaselineCapsNetModel'\n",
    "BaselineCapsNetModel.compile()\n",
    "BaselineCapsNetModel.summary()"
   ]
  },
  {
   "cell_type": "code",
   "execution_count": 8,
   "metadata": {},
   "outputs": [
    {
     "name": "stderr",
     "output_type": "stream",
     "text": [
      "Epoch 1/10: 100%|██████████| 79/79 [02:45<00:00,  2.10s/it, Training loss : 0.0034, Validation loss : 0.0014]\n",
      "Epoch 2/10: 100%|██████████| 79/79 [00:37<00:00,  2.13it/s, Training loss : 0.0009, Validation loss : 0.0010]\n",
      "Epoch 3/10: 100%|██████████| 79/79 [00:36<00:00,  2.14it/s, Training loss : 0.0005, Validation loss : 0.0008]\n",
      "Epoch 4/10: 100%|██████████| 79/79 [02:04<00:00,  1.58s/it, Training loss : 0.0004, Validation loss : 0.0007]\n",
      "Epoch 5/10: 100%|██████████| 79/79 [33:51<00:00, 25.71s/it, Training loss : 0.0003, Validation loss : 0.0007]\n",
      "Epoch 6/10: 100%|██████████| 79/79 [51:04<00:00, 38.78s/it, Training loss : 0.0002, Validation loss : 0.0007]\n",
      "Epoch 7/10: 100%|██████████| 79/79 [50:00<00:00, 37.98s/it, Training loss : 0.0002, Validation loss : 0.0006]\n",
      "Epoch 8/10: 100%|██████████| 79/79 [1:06:25<00:00, 50.44s/it, Training loss : 0.0001, Validation loss : 0.0006]\n",
      "Epoch 9/10: 100%|██████████| 79/79 [35:40<00:00, 27.09s/it, Training loss : 0.0001, Validation loss : 0.0006]\n",
      "Epoch 10/10: 100%|██████████| 79/79 [32:46<00:00, 24.89s/it]   "
     ]
    },
    {
     "name": "stdout",
     "output_type": "stream",
     "text": [
      "Validation loss is not decreasing anymore, risk of overfitting the model after 10 epochs. The training will be stopped. This behavior can be modified by setting the early_stop property of the model to False\n"
     ]
    },
    {
     "name": "stderr",
     "output_type": "stream",
     "text": [
      "\n"
     ]
    },
    {
     "data": {
      "text/plain": [
       "{'accuracy': ListWrapper([0.9536, 0.9786, 0.9876, 0.9922, 0.9948, 0.9956, 0.9976, 0.9982, 0.9986]),\n",
       " 'loss': ListWrapper([0.3403297858312726, 0.0852578436024487, 0.05496310186572373, 0.04152226320002228, 0.0327406422002241, 0.02488113532308489, 0.019951691501773894, 0.013824536290485412, 0.01110802186303772]),\n",
       " 'val_accuracy': ListWrapper([0.93, 0.955, 0.9626666666666667, 0.9616666666666667, 0.966, 0.9633333333333334, 0.9616666666666667, 0.9653333333333334, 0.9666666666666667]),\n",
       " 'val_loss': ListWrapper([0.14131005154922605, 0.09530725656077266, 0.07942492957226932, 0.07225198787637055, 0.0665371073409915, 0.06631229189224541, 0.06278825458139181, 0.05822177627123892, 0.05511342897079885])}"
      ]
     },
     "execution_count": 8,
     "metadata": {},
     "output_type": "execute_result"
    }
   ],
   "source": [
    "BaselineCapsNetModel.fit(X_train, y_train, tf.keras.optimizers.legacy.Adam(), train_metrics=['accuracy'], validation=(X_test, y_test))"
   ]
  },
  {
   "cell_type": "code",
   "execution_count": 9,
   "metadata": {},
   "outputs": [],
   "source": [
    "n_rounds = 100\n",
    "\n",
    "import time\n",
    "\n",
    "caps_inv_time = []\n",
    "for i in range(n_rounds):\n",
    "    start = time.time()\n",
    "    BaselineCapsNetModel.predict(X_test)\n",
    "    end = time.time()\n",
    "    caps_inv_time.append((end - start) / len(X_test) * 1000)"
   ]
  },
  {
   "cell_type": "code",
   "execution_count": 10,
   "metadata": {},
   "outputs": [
    {
     "data": {
      "text/plain": [
       "[0.9939852555592855,\n",
       " 0.9687677224477133,\n",
       " 0.966036319732666,\n",
       " 0.9703747431437174,\n",
       " 0.9877235889434814,\n",
       " 341.44992057482403,\n",
       " 343.67118136088055,\n",
       " 1.0684529940287273,\n",
       " 0.9975097179412843,\n",
       " 0.9945876598358154,\n",
       " 0.9813726743062338,\n",
       " 0.9691083431243896,\n",
       " 0.9839396476745605,\n",
       " 0.9692809581756592,\n",
       " 0.962902307510376,\n",
       " 1.0134280522664387,\n",
       " 308.25138998031616,\n",
       " 1.0409350395202637,\n",
       " 342.3282907009125,\n",
       " 1.0452399253845215,\n",
       " 1.0529087384541829,\n",
       " 0.9901102383931479,\n",
       " 0.9739460150400798,\n",
       " 0.9688773155212402,\n",
       " 0.9627463022867838,\n",
       " 0.9913722674051921,\n",
       " 0.9961089293162029,\n",
       " 358.05579129854834,\n",
       " 1.0413093566894531,\n",
       " 313.0034544467926,\n",
       " 1.010685682296753,\n",
       " 1.0367529392242432,\n",
       " 0.9758063952128093,\n",
       " 0.9888023535410563,\n",
       " 0.9943730831146241,\n",
       " 0.9649419784545898,\n",
       " 1.016537348429362,\n",
       " 0.9674146175384521,\n",
       " 0.9614533583323162,\n",
       " 300.4102273782094,\n",
       " 1.069290002187093,\n",
       " 1.0155729452768962,\n",
       " 0.9657989343007405,\n",
       " 0.9688380559285482,\n",
       " 0.9693663120269775,\n",
       " 1.0202466646830242,\n",
       " 1.0215625762939453,\n",
       " 0.9963057041168213,\n",
       " 340.848330895106,\n",
       " 1.0314472516377766,\n",
       " 333.03177070617676,\n",
       " 1.0705680052439372,\n",
       " 0.9985069433848064,\n",
       " 1.0530006885528564,\n",
       " 0.9928613503774008,\n",
       " 0.9713993867238363,\n",
       " 0.9539103507995605,\n",
       " 1.0081710020701091,\n",
       " 0.9633473555246989,\n",
       " 0.9768357276916503,\n",
       " 346.65575869878137,\n",
       " 347.59778062502545,\n",
       " 1.0497480233510335,\n",
       " 317.69161462783813,\n",
       " 1.0054439703623455,\n",
       " 302.3349723815918,\n",
       " 1.0497496128082275,\n",
       " 1.0111982822418213,\n",
       " 1.040945053100586,\n",
       " 0.9864803155263265,\n",
       " 0.968055009841919,\n",
       " 0.9793979326883951,\n",
       " 0.999829928080241,\n",
       " 0.9761192798614502,\n",
       " 303.96531740824383,\n",
       " 1.0348079999287922,\n",
       " 322.98811594645184,\n",
       " 1.0515313148498535,\n",
       " 0.9948650201161702,\n",
       " 0.9670821030934652,\n",
       " 0.9698114395141602,\n",
       " 0.9633086522420248,\n",
       " 0.9670546849568685,\n",
       " 0.994313637415568,\n",
       " 0.9613543351491293,\n",
       " 0.9813520908355713,\n",
       " 345.07560896873474,\n",
       " 1.0808083216349285,\n",
       " 301.414879322052,\n",
       " 1.0098723570505779,\n",
       " 0.9934430122375487,\n",
       " 1.0194366772969565,\n",
       " 0.9650596777598063,\n",
       " 0.9914363225301107,\n",
       " 0.983108679453532,\n",
       " 0.9680783748626709,\n",
       " 0.9710213343302408,\n",
       " 352.2206639448802,\n",
       " 1.0331809520721436,\n",
       " 332.4454503059387]"
      ]
     },
     "execution_count": 10,
     "metadata": {},
     "output_type": "execute_result"
    }
   ],
   "source": [
    "caps_inv_time"
   ]
  },
  {
   "cell_type": "code",
   "execution_count": 11,
   "metadata": {},
   "outputs": [
    {
     "data": {
      "text/plain": [
       "63.34263235092164"
      ]
     },
     "execution_count": 11,
     "metadata": {},
     "output_type": "execute_result"
    }
   ],
   "source": [
    "import numpy as np\n",
    "\n",
    "np.mean(caps_inv_time)"
   ]
  },
  {
   "cell_type": "code",
   "execution_count": 12,
   "metadata": {},
   "outputs": [
    {
     "name": "stdout",
     "output_type": "stream",
     "text": [
      "Model: \"sequential\"\n",
      "_________________________________________________________________\n",
      " Layer (type)                Output Shape              Param #   \n",
      "=================================================================\n",
      " conv2d (Conv2D)             (None, 26, 26, 32)        320       \n",
      "                                                                 \n",
      " max_pooling2d (MaxPooling2D  (None, 13, 13, 32)       0         \n",
      " )                                                               \n",
      "                                                                 \n",
      " flatten (Flatten)           (None, 5408)              0         \n",
      "                                                                 \n",
      " dense_4 (Dense)             (None, 100)               540900    \n",
      "                                                                 \n",
      " dense_5 (Dense)             (None, 10)                1010      \n",
      "                                                                 \n",
      "=================================================================\n",
      "Total params: 542,230\n",
      "Trainable params: 542,230\n",
      "Non-trainable params: 0\n",
      "_________________________________________________________________\n"
     ]
    }
   ],
   "source": [
    "ConvNetModel = tf.keras.Sequential([\n",
    "    tf.keras.layers.Conv2D(32, (3, 3), activation='relu', input_shape=(28, 28, 1)),\n",
    "    tf.keras.layers.MaxPooling2D((2, 2)),\n",
    "    tf.keras.layers.Flatten(),\n",
    "    tf.keras.layers.Dense(100, activation='relu'),\n",
    "    tf.keras.layers.Dense(10, activation='softmax')\n",
    "])\n",
    "ConvNetModel.summary()"
   ]
  },
  {
   "cell_type": "code",
   "execution_count": 13,
   "metadata": {},
   "outputs": [],
   "source": [
    "ConvNetModel.compile(tf.optimizers.legacy.Adam(), loss='categorical_crossentropy', metrics=['accuracy'])\n",
    "tf_y_train = tf.keras.utils.to_categorical(y_train)\n",
    "tf_y_test = tf.keras.utils.to_categorical(y_test)"
   ]
  },
  {
   "cell_type": "code",
   "execution_count": 14,
   "metadata": {},
   "outputs": [
    {
     "name": "stdout",
     "output_type": "stream",
     "text": [
      "Epoch 1/10\n",
      "157/157 [==============================] - 1s 5ms/step - loss: 0.5534 - accuracy: 0.8384 - val_loss: 0.4022 - val_accuracy: 0.8840\n",
      "Epoch 2/10\n",
      "157/157 [==============================] - 1s 5ms/step - loss: 0.2227 - accuracy: 0.9356 - val_loss: 0.3036 - val_accuracy: 0.9103\n",
      "Epoch 3/10\n",
      "157/157 [==============================] - 1s 5ms/step - loss: 0.1437 - accuracy: 0.9602 - val_loss: 0.2338 - val_accuracy: 0.9267\n",
      "Epoch 4/10\n",
      "157/157 [==============================] - 1s 5ms/step - loss: 0.0932 - accuracy: 0.9728 - val_loss: 0.2175 - val_accuracy: 0.9297\n",
      "Epoch 5/10\n",
      "157/157 [==============================] - 1s 5ms/step - loss: 0.0640 - accuracy: 0.9818 - val_loss: 0.1856 - val_accuracy: 0.9413\n",
      "Epoch 6/10\n",
      "157/157 [==============================] - 1s 5ms/step - loss: 0.0441 - accuracy: 0.9880 - val_loss: 0.1976 - val_accuracy: 0.9373\n",
      "Epoch 7/10\n",
      "157/157 [==============================] - 1s 5ms/step - loss: 0.0345 - accuracy: 0.9910 - val_loss: 0.1588 - val_accuracy: 0.9493\n",
      "Epoch 8/10\n",
      "157/157 [==============================] - 1s 5ms/step - loss: 0.0172 - accuracy: 0.9970 - val_loss: 0.1757 - val_accuracy: 0.9487\n",
      "Epoch 9/10\n",
      "157/157 [==============================] - 1s 5ms/step - loss: 0.0099 - accuracy: 0.9992 - val_loss: 0.1847 - val_accuracy: 0.9430\n",
      "Epoch 10/10\n",
      "157/157 [==============================] - 1s 6ms/step - loss: 0.0132 - accuracy: 0.9976 - val_loss: 0.1732 - val_accuracy: 0.9490\n"
     ]
    }
   ],
   "source": [
    "history = ConvNetModel.fit(X_train, tf_y_train, epochs=10, batch_size=32, validation_data=(X_test, tf_y_test))"
   ]
  },
  {
   "cell_type": "code",
   "execution_count": 15,
   "metadata": {},
   "outputs": [
    {
     "data": {
      "text/plain": [
       "{'loss': [0.553368091583252,\n",
       "  0.22267377376556396,\n",
       "  0.1436890810728073,\n",
       "  0.09317761659622192,\n",
       "  0.06395436823368073,\n",
       "  0.04414984583854675,\n",
       "  0.03452058508992195,\n",
       "  0.017244890332221985,\n",
       "  0.009922755882143974,\n",
       "  0.013150939717888832],\n",
       " 'accuracy': [0.8384000062942505,\n",
       "  0.9355999827384949,\n",
       "  0.9602000117301941,\n",
       "  0.9728000164031982,\n",
       "  0.9818000197410583,\n",
       "  0.9879999756813049,\n",
       "  0.9909999966621399,\n",
       "  0.996999979019165,\n",
       "  0.9991999864578247,\n",
       "  0.9976000189781189],\n",
       " 'val_loss': [0.4021836817264557,\n",
       "  0.3035850524902344,\n",
       "  0.23378156125545502,\n",
       "  0.2175186723470688,\n",
       "  0.18563537299633026,\n",
       "  0.1975976824760437,\n",
       "  0.15883000195026398,\n",
       "  0.17569275200366974,\n",
       "  0.18468359112739563,\n",
       "  0.17323820292949677],\n",
       " 'val_accuracy': [0.8840000033378601,\n",
       "  0.9103333353996277,\n",
       "  0.9266666769981384,\n",
       "  0.9296666383743286,\n",
       "  0.9413333535194397,\n",
       "  0.937333345413208,\n",
       "  0.9493333101272583,\n",
       "  0.9486666917800903,\n",
       "  0.9430000185966492,\n",
       "  0.9490000009536743]}"
      ]
     },
     "execution_count": 15,
     "metadata": {},
     "output_type": "execute_result"
    }
   ],
   "source": [
    "history.history"
   ]
  },
  {
   "cell_type": "code",
   "execution_count": 16,
   "metadata": {},
   "outputs": [
    {
     "name": "stdout",
     "output_type": "stream",
     "text": [
      "94/94 [==============================] - 0s 2ms/step\n",
      "94/94 [==============================] - 0s 1ms/step\n",
      "94/94 [==============================] - 0s 1ms/step\n",
      "94/94 [==============================] - 0s 1ms/step\n",
      "94/94 [==============================] - 0s 1ms/step\n",
      "94/94 [==============================] - 0s 1ms/step\n",
      "94/94 [==============================] - 0s 1ms/step\n",
      "94/94 [==============================] - 0s 1ms/step\n",
      "94/94 [==============================] - 0s 1ms/step\n",
      "94/94 [==============================] - 0s 1ms/step\n",
      "94/94 [==============================] - 0s 1ms/step\n",
      "94/94 [==============================] - 0s 1ms/step\n",
      "94/94 [==============================] - 0s 1ms/step\n",
      "94/94 [==============================] - 0s 1ms/step\n",
      "94/94 [==============================] - 0s 1ms/step\n",
      "94/94 [==============================] - 0s 1ms/step\n",
      "94/94 [==============================] - 0s 1ms/step\n",
      "94/94 [==============================] - 0s 1ms/step\n",
      "94/94 [==============================] - 0s 1ms/step\n",
      "94/94 [==============================] - 0s 1ms/step\n",
      "94/94 [==============================] - 0s 1ms/step\n",
      "94/94 [==============================] - 0s 1ms/step\n",
      "94/94 [==============================] - 0s 1ms/step\n",
      "94/94 [==============================] - 0s 1ms/step\n",
      "94/94 [==============================] - 0s 1ms/step\n",
      "94/94 [==============================] - 0s 1ms/step\n",
      "94/94 [==============================] - 0s 1ms/step\n",
      "94/94 [==============================] - 0s 1ms/step\n",
      "94/94 [==============================] - 0s 1ms/step\n",
      "94/94 [==============================] - 0s 1ms/step\n",
      "94/94 [==============================] - 0s 1ms/step\n",
      "94/94 [==============================] - 0s 1ms/step\n",
      "94/94 [==============================] - 0s 1ms/step\n",
      "94/94 [==============================] - 0s 1ms/step\n",
      "94/94 [==============================] - 0s 1ms/step\n",
      "94/94 [==============================] - 0s 1ms/step\n",
      "94/94 [==============================] - 0s 1ms/step\n",
      "94/94 [==============================] - 0s 1ms/step\n",
      "94/94 [==============================] - 0s 1ms/step\n",
      "94/94 [==============================] - 0s 1ms/step\n",
      "94/94 [==============================] - 0s 1ms/step\n",
      "94/94 [==============================] - 0s 1ms/step\n",
      "94/94 [==============================] - 0s 1ms/step\n",
      "94/94 [==============================] - 0s 1ms/step\n",
      "94/94 [==============================] - 0s 1ms/step\n",
      "94/94 [==============================] - 0s 1ms/step\n",
      "94/94 [==============================] - 0s 1ms/step\n",
      "94/94 [==============================] - 0s 1ms/step\n",
      "94/94 [==============================] - 0s 1ms/step\n",
      "94/94 [==============================] - 0s 1ms/step\n",
      "94/94 [==============================] - 0s 1ms/step\n",
      "94/94 [==============================] - 0s 1ms/step\n",
      "94/94 [==============================] - 0s 1ms/step\n",
      "94/94 [==============================] - 0s 1ms/step\n",
      "94/94 [==============================] - 0s 1ms/step\n",
      "94/94 [==============================] - 0s 1ms/step\n",
      "94/94 [==============================] - 0s 1ms/step\n",
      "94/94 [==============================] - 0s 1ms/step\n",
      "94/94 [==============================] - 0s 1ms/step\n",
      "94/94 [==============================] - 0s 1ms/step\n",
      "94/94 [==============================] - 0s 1ms/step\n",
      "94/94 [==============================] - 0s 1ms/step\n",
      "94/94 [==============================] - 0s 1ms/step\n",
      "94/94 [==============================] - 0s 1ms/step\n",
      "94/94 [==============================] - 0s 1ms/step\n",
      "94/94 [==============================] - 0s 1ms/step\n",
      "94/94 [==============================] - 0s 1ms/step\n",
      "94/94 [==============================] - 0s 1ms/step\n",
      "94/94 [==============================] - 0s 1ms/step\n",
      "94/94 [==============================] - 0s 1ms/step\n",
      "94/94 [==============================] - 0s 1ms/step\n",
      "94/94 [==============================] - 0s 1ms/step\n",
      "94/94 [==============================] - 0s 1ms/step\n",
      "94/94 [==============================] - 0s 1ms/step\n",
      "94/94 [==============================] - 0s 1ms/step\n",
      "94/94 [==============================] - 0s 1ms/step\n",
      "94/94 [==============================] - 0s 1ms/step\n",
      "94/94 [==============================] - 0s 1ms/step\n",
      "94/94 [==============================] - 0s 1ms/step\n",
      "94/94 [==============================] - 0s 1ms/step\n",
      "94/94 [==============================] - 0s 1ms/step\n",
      "94/94 [==============================] - 0s 1ms/step\n",
      "94/94 [==============================] - 0s 2ms/step\n",
      "94/94 [==============================] - 0s 1ms/step\n",
      "94/94 [==============================] - 0s 1ms/step\n",
      "94/94 [==============================] - 0s 1ms/step\n",
      "94/94 [==============================] - 0s 1ms/step\n",
      "94/94 [==============================] - 0s 1ms/step\n",
      "94/94 [==============================] - 0s 1ms/step\n",
      "94/94 [==============================] - 0s 1ms/step\n",
      "94/94 [==============================] - 0s 1ms/step\n",
      "94/94 [==============================] - 0s 1ms/step\n",
      "94/94 [==============================] - 0s 1ms/step\n",
      "94/94 [==============================] - 0s 1ms/step\n",
      "94/94 [==============================] - 0s 1ms/step\n",
      "94/94 [==============================] - 0s 1ms/step\n",
      "94/94 [==============================] - 0s 1ms/step\n",
      "94/94 [==============================] - 0s 1ms/step\n",
      "94/94 [==============================] - 0s 1ms/step\n",
      "94/94 [==============================] - 0s 1ms/step\n"
     ]
    }
   ],
   "source": [
    "n_rounds = 100\n",
    "\n",
    "import time\n",
    "\n",
    "cnn_inv_time = []\n",
    "for i in range(n_rounds):\n",
    "    start = time.time()\n",
    "    ConvNetModel.predict(X_test)\n",
    "    end = time.time()\n",
    "    cnn_inv_time.append((end - start) / len(X_test) * 1000)"
   ]
  },
  {
   "cell_type": "code",
   "execution_count": 17,
   "metadata": {},
   "outputs": [
    {
     "data": {
      "text/plain": [
       "[0.07871190706888834,\n",
       " 0.045986970265706376,\n",
       " 0.04612302780151367,\n",
       " 0.04619701703389485,\n",
       " 0.045432090759277344,\n",
       " 0.04616936047871908,\n",
       " 0.04570833841959635,\n",
       " 0.0471800963083903,\n",
       " 0.04599968592325846,\n",
       " 0.047735373179117836,\n",
       " 0.04603131612141927,\n",
       " 0.04581403732299805,\n",
       " 0.046106974283854164,\n",
       " 0.04557299613952637,\n",
       " 0.04587038358052571,\n",
       " 0.06318330764770508,\n",
       " 0.04664834340413411,\n",
       " 0.04645967483520508,\n",
       " 0.04564666748046875,\n",
       " 0.045566717783610024,\n",
       " 0.0458823839823405,\n",
       " 0.045746008555094406,\n",
       " 0.04663761456807455,\n",
       " 0.04663530985514323,\n",
       " 0.04591631889343262,\n",
       " 0.04622602462768555,\n",
       " 0.0459433396657308,\n",
       " 0.04594461123148601,\n",
       " 0.04671764373779297,\n",
       " 0.047882000605265304,\n",
       " 0.04744744300842285,\n",
       " 0.050185998280843094,\n",
       " 0.050452629725138344,\n",
       " 0.05212799708048503,\n",
       " 0.046340386072794594,\n",
       " 0.04612072308858236,\n",
       " 0.04577263196309407,\n",
       " 0.04628237088521322,\n",
       " 0.04589962959289551,\n",
       " 0.045967260996500656,\n",
       " 0.04609831174214681,\n",
       " 0.04654502868652344,\n",
       " 0.046235720316569015,\n",
       " 0.045911312103271484,\n",
       " 0.04614130655924479,\n",
       " 0.04552769660949707,\n",
       " 0.04626901944478353,\n",
       " 0.0459299882253011,\n",
       " 0.045770088831583663,\n",
       " 0.0464316209157308,\n",
       " 0.05577898025512695,\n",
       " 0.046945254007975265,\n",
       " 0.045765320460001625,\n",
       " 0.046560684839884445,\n",
       " 0.04580871264139812,\n",
       " 0.046242713928222656,\n",
       " 0.04591035842895508,\n",
       " 0.04618899027506511,\n",
       " 0.045519749323527016,\n",
       " 0.04582834243774414,\n",
       " 0.04339790344238281,\n",
       " 0.04398496945699056,\n",
       " 0.049015442530314125,\n",
       " 0.044090588887532554,\n",
       " 0.044928948084513344,\n",
       " 0.04677160580952962,\n",
       " 0.04612096150716146,\n",
       " 0.04559532801310221,\n",
       " 0.04579567909240723,\n",
       " 0.04566836357116699,\n",
       " 0.04643869400024414,\n",
       " 0.045969645182291664,\n",
       " 0.04559493064880371,\n",
       " 0.04673997561136881,\n",
       " 0.046027024586995445,\n",
       " 0.04593658447265625,\n",
       " 0.04584495226542155,\n",
       " 0.04581904411315918,\n",
       " 0.0455633799235026,\n",
       " 0.045365969340006515,\n",
       " 0.045828660329182945,\n",
       " 0.04689772923787435,\n",
       " 0.06240129470825196,\n",
       " 0.04595232009887695,\n",
       " 0.045824686686197914,\n",
       " 0.04569800694783529,\n",
       " 0.04583493868509928,\n",
       " 0.046332359313964844,\n",
       " 0.046217759450276695,\n",
       " 0.04655933380126953,\n",
       " 0.046272357304890946,\n",
       " 0.045466979344685875,\n",
       " 0.0456536610921224,\n",
       " 0.04583565394083659,\n",
       " 0.04585536321004232,\n",
       " 0.04603735605875651,\n",
       " 0.046260992685953774,\n",
       " 0.04625638326009114,\n",
       " 0.04604729016621908,\n",
       " 0.04636732737223307]"
      ]
     },
     "execution_count": 17,
     "metadata": {},
     "output_type": "execute_result"
    }
   ],
   "source": [
    "cnn_inv_time"
   ]
  },
  {
   "cell_type": "code",
   "execution_count": 18,
   "metadata": {},
   "outputs": [
    {
     "data": {
      "image/png": "[encoded data removed]",
      "text/plain": [
       "<Figure size 1200x500 with 3 Axes>"
      ]
     },
     "metadata": {},
     "output_type": "display_data"
    }
   ],
   "source": [
    "import matplotlib.pyplot as plt\n",
    "import time\n",
    "import pandas as pd\n",
    "\n",
    "NasCapsNet.training_metrics = {\n",
    "    'loss': NasCapsNet.training_metrics['loss'],\n",
    "    'accuracy': NasCapsNet.training_metrics['accuracy'],\n",
    "    'val_loss': NasCapsNet.training_metrics['val_loss'],\n",
    "    'val_accuracy': NasCapsNet.training_metrics['val_accuracy'],\n",
    "}\n",
    "\n",
    "BaselineCapsNetModel.training_metrics = {\n",
    "    'loss': BaselineCapsNetModel.training_metrics['loss'],\n",
    "    'accuracy': BaselineCapsNetModel.training_metrics['accuracy'],\n",
    "    'val_loss': BaselineCapsNetModel.training_metrics['val_loss'],\n",
    "    'val_accuracy': BaselineCapsNetModel.training_metrics['val_accuracy'],\n",
    "}\n",
    "\n",
    "fig, axes = plt.subplots(1, 3, figsize=(12, 5))\n",
    "\n",
    "df_baseline = pd.DataFrame(history.history)\n",
    "plot_baseline = df_baseline.plot(ax=axes[0], title=\"CNN model\", legend=False)\n",
    "axes[0].set_ylim(0, 1)\n",
    "axes[0].set_xlim(0, 9)\n",
    "\n",
    "df_capsnet = pd.DataFrame(BaselineCapsNetModel.training_metrics)\n",
    "plot_capsnet = df_capsnet.plot(ax=axes[1], title=\"CapsNet baseline model\", legend=False)  # Set legend=False here\n",
    "axes[1].set_ylim(0, 1)\n",
    "axes[1].set_xlim(0, 6)\n",
    "\n",
    "df_capsnet_nas = pd.DataFrame(NasCapsNet.training_metrics)\n",
    "plot_capsnet_nas = df_capsnet_nas.plot(ax=axes[2], title=\"CapsNet solution model\", legend=False)  # Set legend=False here\n",
    "axes[2].set_ylim(0, 1)\n",
    "axes[2].set_xlim(0, 5)\n",
    "\n",
    "axes[0].set_xlabel(\"Epochs\")\n",
    "axes[1].set_xlabel(\"Epochs\")\n",
    "axes[2].set_xlabel(\"Epochs\")\n",
    "\n",
    "# Show only one legend for all three plots\n",
    "handles, labels = axes[2].get_legend_handles_labels()\n",
    "fig.legend(handles, labels, loc='lower center', bbox_to_anchor=(0.5, -0.05), fancybox=True, ncol=4)\n",
    "\n",
    "plt.tight_layout()\n",
    "plt.show()\n"
   ]
  },
  {
   "cell_type": "code",
   "execution_count": 19,
   "metadata": {},
   "outputs": [
    {
     "data": {
      "image/png": "[encoded data removed]",
      "text/plain": [
       "<Figure size 800x600 with 1 Axes>"
      ]
     },
     "metadata": {},
     "output_type": "display_data"
    }
   ],
   "source": [
    "df = pd.DataFrame({\n",
    "    \"conv\": cnn_inv_time,\n",
    "    \"caps\": caps_inv_time,\n",
    "    \"caps nas\": caps_nas_inv_time\n",
    "})\n",
    "plt.figure(figsize=(8, 6))\n",
    "plt.boxplot(df.values, labels=df.columns)\n",
    "plt.title('Inference Time Comparison')\n",
    "plt.xlabel('Model')\n",
    "plt.ylabel('Inference Time (ms)')\n",
    "plt.grid(True)\n",
    "plt.show()"
   ]
  },
  {
   "cell_type": "code",
   "execution_count": 20,
   "metadata": {},
   "outputs": [
    {
     "data": {
      "image/png": "[encoded data removed]",
      "text/plain": [
       "<Figure size 640x480 with 1 Axes>"
      ]
     },
     "metadata": {},
     "output_type": "display_data"
    }
   ],
   "source": [
    "df = pd.DataFrame({\n",
    "    'conv': {'acc': history.history['accuracy'][-1], 'val_acc': history.history['val_accuracy'][-1]},\n",
    "    'caps': {'acc': BaselineCapsNetModel.training_metrics['accuracy'][-1], 'val_acc': BaselineCapsNetModel.training_metrics['val_accuracy'][-1]},\n",
    "    'caps_nas': {'acc': NasCapsNet.training_metrics['accuracy'][-1], 'val_acc': NasCapsNet.training_metrics['val_accuracy'][-1]},\n",
    "})\n",
    "\n",
    "df = df.T\n",
    "df.plot(kind='bar')\n",
    "plt.xlabel('Model')\n",
    "plt.ylabel('Accuracy')\n",
    "plt.title('Accuracy Comparison')\n",
    "plt.legend(title='Metric', loc='center left', bbox_to_anchor=(1, 0.5))\n",
    "plt.show()"
   ]
  }
 ],
 "metadata": {
  "kernelspec": {
   "display_name": "capsnet",
   "language": "python",
   "name": "python3"
  },
  "language_info": {
   "codemirror_mode": {
    "name": "ipython",
    "version": 3
   },
   "file_extension": ".py",
   "mimetype": "text/x-python",
   "name": "python",
   "nbconvert_exporter": "python",
   "pygments_lexer": "ipython3",
   "version": "3.10.11"
  },
  "orig_nbformat": 4
 },
 "nbformat": 4,
 "nbformat_minor": 2
}

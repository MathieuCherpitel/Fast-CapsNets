{
 "cells": [
  {
   "attachments": {},
   "cell_type": "markdown",
   "metadata": {},
   "source": [
    "# CapsNets on Mnist dataset"
   ]
  },
  {
   "cell_type": "code",
   "execution_count": 37,
   "metadata": {},
   "outputs": [],
   "source": [
    "import tensorflow as tf\n",
    "import matplotlib.pyplot as plt\n",
    "import numpy as np\n",
    "\n",
    "tf.__version__\n",
    "%matplotlib inline"
   ]
  },
  {
   "cell_type": "code",
   "execution_count": 38,
   "metadata": {},
   "outputs": [],
   "source": [
    "# Setting PATH to import utils functions from python file to notebook\n",
    "\n",
    "import os\n",
    "import sys\n",
    "directory_path = os.path.abspath(os.path.join('../src'))\n",
    "if directory_path not in sys.path:\n",
    "    sys.path.append(directory_path)\n",
    "\n",
    "from utils.load_data import load_mnist"
   ]
  },
  {
   "attachments": {},
   "cell_type": "markdown",
   "metadata": {},
   "source": [
    "## Loading dataset and normalising"
   ]
  },
  {
   "cell_type": "code",
   "execution_count": 39,
   "metadata": {},
   "outputs": [
    {
     "data": {
      "text/plain": [
       "(TensorShape([1024, 28, 28, 1]), (1024,))"
      ]
     },
     "execution_count": 39,
     "metadata": {},
     "output_type": "execute_result"
    }
   ],
   "source": [
    "(X_train, y_train), (X_test , y_test) = load_mnist(size=(1024, 512))\n",
    "\n",
    "X_train.shape, y_train.shape"
   ]
  },
  {
   "attachments": {},
   "cell_type": "markdown",
   "metadata": {},
   "source": [
    "1024 images of size 28x28 over one channel"
   ]
  },
  {
   "attachments": {},
   "cell_type": "markdown",
   "metadata": {},
   "source": [
    "## Sample visualisation"
   ]
  },
  {
   "cell_type": "code",
   "execution_count": 40,
   "metadata": {},
   "outputs": [
    {
     "data": {
      "text/plain": [
       "array([0, 1, 2, 3, 4, 5, 6, 7, 8, 9])"
      ]
     },
     "execution_count": 40,
     "metadata": {},
     "output_type": "execute_result"
    }
   ],
   "source": [
    "classes = np.arange(10)\n",
    "classes"
   ]
  },
  {
   "cell_type": "code",
   "execution_count": 41,
   "metadata": {},
   "outputs": [
    {
     "data": {
      "image/png": "[encoded data removed]",
      "text/plain": [
       "<Figure size 700x700 with 4 Axes>"
      ]
     },
     "metadata": {},
     "output_type": "display_data"
    }
   ],
   "source": [
    "import random\n",
    "\n",
    "plt.figure(figsize=(7, 7))\n",
    "for i in range(4):\n",
    "  ax = plt.subplot(2, 2, i + 1)\n",
    "  rand_index = random.choice(range(len(X_train)))\n",
    "  plt.imshow(X_train[rand_index], cmap=plt.cm.binary)\n",
    "  plt.title(y_train[rand_index])\n",
    "  plt.axis(False)"
   ]
  },
  {
   "attachments": {},
   "cell_type": "markdown",
   "metadata": {},
   "source": [
    "## Build CapsNet model"
   ]
  },
  {
   "cell_type": "code",
   "execution_count": 42,
   "metadata": {},
   "outputs": [],
   "source": [
    "# Setting PATH to import CapsNet class from python file to notebook\n",
    "\n",
    "import os\n",
    "import sys\n",
    "directory_path = os.path.abspath(os.path.join('../src'))\n",
    "if directory_path not in sys.path:\n",
    "    sys.path.append(directory_path)\n",
    "\n",
    "from CapsNet import CapsNet"
   ]
  },
  {
   "cell_type": "code",
   "execution_count": 45,
   "metadata": {},
   "outputs": [
    {
     "name": "stdout",
     "output_type": "stream",
     "text": [
      "Model: \"CapsNet-MNIST\"\n"
     ]
    },
    {
     "name": "stdout",
     "output_type": "stream",
     "text": [
      "_________________________________________________________________\n",
      " Layer (type)                Output Shape              Param #   \n",
      "=================================================================\n",
      " ConvolutionLayer (Conv2D)   multiple                  0 (unused)\n",
      "                                                                 \n",
      " PrimaryCapsule (Conv2D)     multiple                  0 (unused)\n",
      "                                                                 \n",
      " dense_2 (Dense)             multiple                  0 (unused)\n",
      "                                                                 \n",
      " dense_3 (Dense)             multiple                  0 (unused)\n",
      "                                                                 \n",
      "=================================================================\n",
      "Total params: 1,474,560\n",
      "Trainable params: 1,474,560\n",
      "Non-trainable params: 0\n",
      "_________________________________________________________________\n"
     ]
    }
   ],
   "source": [
    "params = {\n",
    "    \"epochs\": 10,\n",
    "    \"epsilon\": 1e-7,\n",
    "    \"m_minus\": 0.1,\n",
    "    \"m_plus\": 0.9,\n",
    "    \"lambda_\": 0.5,\n",
    "    \"alpha\": 0.0005,\n",
    "    \"no_of_conv_kernels\": 128,\n",
    "    \"no_of_primary_capsules\": 32,\n",
    "    \"no_of_secondary_capsules\": 10,\n",
    "    \"primary_capsule_vector\": 8,\n",
    "    \"secondary_capsule_vector\": 16,\n",
    "    \"r\":3,\n",
    "}\n",
    "\n",
    "model = CapsNet(**params)\n",
    "model._name = 'CapsNet-MNIST'\n",
    "model.compile()\n",
    "model.summary()"
   ]
  },
  {
   "cell_type": "code",
   "execution_count": 46,
   "metadata": {},
   "outputs": [
    {
     "name": "stderr",
     "output_type": "stream",
     "text": [
      "WARNING:absl:At this time, the v2.11+ optimizer `tf.keras.optimizers.Adam` runs slowly on M1/M2 Macs, please use the legacy Keras optimizer instead, located at `tf.keras.optimizers.legacy.Adam`.\n",
      "Epoch 1/10: 100%|██████████| 16/16 [00:25<00:00,  1.61s/it, Loss : 0.0072] \n",
      "Epoch 2/10: 100%|██████████| 16/16 [00:06<00:00,  2.65it/s, Loss : 0.0028] \n",
      "Epoch 3/10: 100%|██████████| 16/16 [00:06<00:00,  2.66it/s, Loss : 0.0017] \n",
      "Epoch 4/10: 100%|██████████| 16/16 [00:05<00:00,  2.68it/s, Loss : 0.0012] \n",
      "Epoch 5/10: 100%|██████████| 16/16 [00:06<00:00,  2.67it/s, Loss : 0.0008] \n",
      "Epoch 6/10: 100%|██████████| 16/16 [00:05<00:00,  2.77it/s, Loss : 0.0006] \n",
      "Epoch 7/10: 100%|██████████| 16/16 [00:05<00:00,  2.68it/s, Loss : 0.0005] \n",
      "Epoch 8/10: 100%|██████████| 16/16 [00:05<00:00,  2.67it/s, Loss : 0.0004] \n",
      "Epoch 9/10: 100%|██████████| 16/16 [00:05<00:00,  2.77it/s, Loss : 0.0003] \n",
      "Epoch 10/10: 100%|██████████| 16/16 [00:05<00:00,  2.72it/s, Loss : 0.0002] \n"
     ]
    },
    {
     "data": {
      "text/plain": [
       "{'accuracy': ListWrapper([0.8046875, 0.8974609375, 0.9482421875, 0.96484375, 0.9833984375, 0.9873046875, 0.9931640625, 0.994140625, 0.9970703125, 0.998046875]),\n",
       " 'precision': ListWrapper([0.8213710533810229, 0.9028898397718782, 0.9491521734037711, 0.9660370551913149, 0.9836695417959603, 0.9875264098058085, 0.9932497919375447, 0.994207206153231, 0.9971181832107843, 0.9980851715686274]),\n",
       " 'recall': ListWrapper([0.8046875, 0.8974609375, 0.9482421875, 0.96484375, 0.9833984375, 0.9873046875, 0.9931640625, 0.994140625, 0.9970703125, 0.998046875]),\n",
       " 'f1': ListWrapper([0.8003497923077043, 0.8969228221109777, 0.9481400067617146, 0.964904234128359, 0.9833834578670904, 0.9873017578340147, 0.9931725944481539, 0.9941445244677672, 0.9970747057998188, 0.9980515311770161]),\n",
       " 'loss': ListWrapper([0.007249862886965275, 0.002789976540952921, 0.001739715225994587, 0.0011598990531638265, 0.0008479017415083945, 0.0005994180683046579, 0.00045186784700490534, 0.0003656516782939434, 0.0002782410301733762, 0.00021973530238028616])}"
      ]
     },
     "execution_count": 46,
     "metadata": {},
     "output_type": "execute_result"
    }
   ],
   "source": [
    "model.fit(X_train, y_train, tf.keras.optimizers.Adam(), train_metrics=['accuracy', 'precision', 'recall', 'f1'])"
   ]
  },
  {
   "cell_type": "code",
   "execution_count": 47,
   "metadata": {},
   "outputs": [],
   "source": [
    "preds = model.predict(X_test)"
   ]
  },
  {
   "attachments": {},
   "cell_type": "markdown",
   "metadata": {},
   "source": [
    "## Loading and saving"
   ]
  },
  {
   "cell_type": "code",
   "execution_count": 48,
   "metadata": {},
   "outputs": [
    {
     "name": "stderr",
     "output_type": "stream",
     "text": [
      "WARNING:absl:Found untraced functions such as regenerate_image, _jit_compiled_convolution_op, _jit_compiled_convolution_op while saving (showing 3 of 3). These functions will not be directly callable after loading.\n"
     ]
    },
    {
     "name": "stdout",
     "output_type": "stream",
     "text": [
      "INFO:tensorflow:Assets written to: ../saved_models/CapsNet-MNIST/assets\n"
     ]
    },
    {
     "name": "stderr",
     "output_type": "stream",
     "text": [
      "INFO:tensorflow:Assets written to: ../saved_models/CapsNet-MNIST/assets\n"
     ]
    },
    {
     "data": {
      "image/png": "[encoded data removed]",
      "text/plain": [
       "<Figure size 640x480 with 1 Axes>"
      ]
     },
     "metadata": {},
     "output_type": "display_data"
    },
    {
     "data": {
      "image/png": "[encoded data removed]",
      "text/plain": [
       "<Figure size 1000x700 with 2 Axes>"
      ]
     },
     "metadata": {},
     "output_type": "display_data"
    }
   ],
   "source": [
    "model.save(evaluate=(X_test, y_test), classes=np.arange(10))"
   ]
  },
  {
   "cell_type": "code",
   "execution_count": 49,
   "metadata": {},
   "outputs": [
    {
     "name": "stdout",
     "output_type": "stream",
     "text": [
      "Model: \"CapsNet-MNIST\"\n",
      "_________________________________________________________________\n",
      " Layer (type)                Output Shape              Param #   \n",
      "=================================================================\n",
      " ConvolutionLayer (Conv2D)   multiple                  10496     \n",
      "                                                                 \n",
      " PrimaryCapsule (Conv2D)     multiple                  2654464   \n",
      "                                                                 \n",
      " dense_4 (Dense)             multiple                  82432     \n",
      "                                                                 \n",
      " dense_5 (Dense)             multiple                  525312    \n",
      "                                                                 \n",
      " dense (Dense)               multiple                  803600    \n",
      "                                                                 \n",
      "=================================================================\n",
      "Total params: 5,550,864\n",
      "Trainable params: 5,550,864\n",
      "Non-trainable params: 0\n",
      "_________________________________________________________________\n"
     ]
    }
   ],
   "source": [
    "loaded_model = tf.keras.models.load_model('../saved_models/CapsNet-MNIST', custom_objects={'CapsNet': CapsNet})\n",
    "loaded_model.compile()\n",
    "loaded_model.summary()"
   ]
  },
  {
   "cell_type": "code",
   "execution_count": 115,
   "metadata": {},
   "outputs": [
    {
     "name": "stdout",
     "output_type": "stream",
     "text": [
      "Average Inference Time: 0.00331 seconds\n"
     ]
    }
   ],
   "source": [
    "import time\n",
    "\n",
    "n_runs = 100\n",
    "inference_time = 0\n",
    "indexes = np.random.randint(len(X_test), size=n_runs)\n",
    "\n",
    "for i in range(100):\n",
    "    start = time.time()\n",
    "    y_preds = model.predict(X_test[indexes[i]])\n",
    "    end = time.time()\n",
    "    inference_time += end - start\n",
    "\n",
    "inference_time /= n_runs\n",
    "\n",
    "print(f\"Average Inference Time: {inference_time:.5f} seconds\")"
   ]
  }
 ],
 "metadata": {
  "kernelspec": {
   "display_name": "capsnet",
   "language": "python",
   "name": "python3"
  },
  "language_info": {
   "codemirror_mode": {
    "name": "ipython",
    "version": 3
   },
   "file_extension": ".py",
   "mimetype": "text/x-python",
   "name": "python",
   "nbconvert_exporter": "python",
   "pygments_lexer": "ipython3",
   "version": "3.10.11"
  },
  "orig_nbformat": 4
 },
 "nbformat": 4,
 "nbformat_minor": 2
}

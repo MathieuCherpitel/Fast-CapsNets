{
 "cells": [
  {
   "attachments": {},
   "cell_type": "markdown",
   "metadata": {},
   "source": [
    "# NAS on CapsNet on fashion MNIST dataset"
   ]
  },
  {
   "attachments": {},
   "cell_type": "markdown",
   "metadata": {},
   "source": [
    "> Focusing on inference time and accuracy"
   ]
  },
  {
   "cell_type": "code",
   "execution_count": 1,
   "metadata": {},
   "outputs": [],
   "source": [
    "# Setting PATH to import CapsNet class from python file to notebook\n",
    "\n",
    "import os\n",
    "import sys\n",
    "directory_path = os.path.abspath(os.path.join('../src'))\n",
    "if directory_path not in sys.path:\n",
    "    sys.path.append(directory_path)\n",
    "\n",
    "from NsgaII import Nsga_II\n",
    "from utils.load_data import load_fashion_mnist"
   ]
  },
  {
   "cell_type": "code",
   "execution_count": 3,
   "metadata": {},
   "outputs": [
    {
     "name": "stdout",
     "output_type": "stream",
     "text": [
      "=== Generation 1/2\n",
      "Len of pop before manipulations : 5\n",
      "crossover created 4 offspring(s)\n",
      "mutation created 0 offspring(s)\n",
      "local search created 1 offspring(s)\n",
      "Len of pop after manipulations : 10\n",
      "Fitting individual 1/10 with genotype {'epochs': 7, 'epsilon': 0.02350612443853871, 'm_plus': 0.9355236325582269, 'm_minus': 0.17549626858619488, 'lambda_': 0.6706068874405312, 'alpha': 0.0014262475851181118, 'r': 3, 'no_of_conv_kernels': 128, 'no_of_primary_capsules': 32, 'no_of_secondary_capsules': 10, 'primary_capsule_vector': 8, 'secondary_capsule_vector': 16}\n"
     ]
    },
    {
     "name": "stderr",
     "output_type": "stream",
     "text": [
      "Epoch 1/7: 100%|██████████| 16/16 [00:10<00:00,  1.57it/s, Training loss : 0.0085, Validation loss : 0.0057]\n",
      "Epoch 2/7: 100%|██████████| 16/16 [00:05<00:00,  3.06it/s, Training loss : 0.0046, Validation loss : 0.0038]\n",
      "Epoch 3/7: 100%|██████████| 16/16 [00:05<00:00,  3.00it/s, Training loss : 0.0033, Validation loss : 0.0033]\n",
      "Epoch 4/7: 100%|██████████| 16/16 [00:05<00:00,  3.13it/s, Training loss : 0.0028, Validation loss : 0.0031]\n",
      "Epoch 5/7: 100%|██████████| 16/16 [00:05<00:00,  3.19it/s, Training loss : 0.0025, Validation loss : 0.0028]\n",
      "Epoch 6/7: 100%|██████████| 16/16 [00:05<00:00,  2.97it/s, Training loss : 0.0023, Validation loss : 0.0026]\n",
      "Epoch 7/7: 100%|██████████| 16/16 [00:05<00:00,  3.17it/s, Training loss : 0.0021, Validation loss : 0.0025]\n"
     ]
    },
    {
     "name": "stdout",
     "output_type": "stream",
     "text": [
      "Fitting individual 2/10 with genotype {'epochs': 8, 'epsilon': 0.03977504864322369, 'm_plus': 0.9689581493513775, 'm_minus': 0.14966605149209533, 'lambda_': 0.9801367623942255, 'alpha': 0.009179890198627038, 'r': 4, 'no_of_conv_kernels': 128, 'no_of_primary_capsules': 32, 'no_of_secondary_capsules': 10, 'primary_capsule_vector': 8, 'secondary_capsule_vector': 16}\n"
     ]
    },
    {
     "name": "stderr",
     "output_type": "stream",
     "text": [
      "Epoch 1/8: 100%|██████████| 16/16 [00:11<00:00,  1.35it/s, Training loss : 0.0091, Validation loss : 0.0076]\n",
      "Epoch 2/8: 100%|██████████| 16/16 [00:05<00:00,  2.80it/s, Training loss : 0.0067, Validation loss : 0.0063]\n",
      "Epoch 3/8: 100%|██████████| 16/16 [00:05<00:00,  2.68it/s, Training loss : 0.0055, Validation loss : 0.0056]\n",
      "Epoch 4/8: 100%|██████████| 16/16 [00:05<00:00,  2.78it/s, Training loss : 0.0045, Validation loss : 0.0049]\n",
      "Epoch 5/8: 100%|██████████| 16/16 [00:06<00:00,  2.63it/s, Training loss : 0.0040, Validation loss : 0.0044]\n",
      "Epoch 6/8: 100%|██████████| 16/16 [00:05<00:00,  2.74it/s, Training loss : 0.0035, Validation loss : 0.0041]\n",
      "Epoch 7/8: 100%|██████████| 16/16 [00:05<00:00,  2.83it/s, Training loss : 0.0033, Validation loss : 0.0038]\n",
      "Epoch 8/8: 100%|██████████| 16/16 [00:05<00:00,  2.76it/s]"
     ]
    },
    {
     "name": "stdout",
     "output_type": "stream",
     "text": [
      "Validation loss is not decreasing anymore, risk of overfitting the model after 8 epochs. The training will be stopped. This behavior can be modified by setting the early_stop property of the model to False\n"
     ]
    },
    {
     "name": "stderr",
     "output_type": "stream",
     "text": [
      "\n"
     ]
    },
    {
     "name": "stdout",
     "output_type": "stream",
     "text": [
      "Fitting individual 3/10 with genotype {'epochs': 5, 'epsilon': 0.06381598709345522, 'm_plus': 0.9045130744375238, 'm_minus': 0.11054223877186552, 'lambda_': 0.2921515331042373, 'alpha': 0.0021216530958667996, 'r': 4, 'no_of_conv_kernels': 128, 'no_of_primary_capsules': 32, 'no_of_secondary_capsules': 10, 'primary_capsule_vector': 8, 'secondary_capsule_vector': 16}\n"
     ]
    },
    {
     "name": "stderr",
     "output_type": "stream",
     "text": [
      "Epoch 1/5: 100%|██████████| 16/16 [00:12<00:00,  1.31it/s, Training loss : 0.0068, Validation loss : 0.0051]\n",
      "Epoch 2/5: 100%|██████████| 16/16 [00:05<00:00,  2.78it/s, Training loss : 0.0040, Validation loss : 0.0035]\n",
      "Epoch 3/5: 100%|██████████| 16/16 [00:05<00:00,  2.74it/s, Training loss : 0.0031, Validation loss : 0.0031]\n",
      "Epoch 4/5: 100%|██████████| 16/16 [00:05<00:00,  2.75it/s, Training loss : 0.0027, Validation loss : 0.0030]\n",
      "Epoch 5/5: 100%|██████████| 16/16 [00:05<00:00,  2.72it/s, Training loss : 0.0025, Validation loss : 0.0028]\n"
     ]
    },
    {
     "name": "stdout",
     "output_type": "stream",
     "text": [
      "Fitting individual 4/10 with genotype {'epochs': 6, 'epsilon': 0.07945086182880395, 'm_plus': 0.9032027461816213, 'm_minus': 0.10911948495158298, 'lambda_': 0.11431029414267205, 'alpha': 0.008286523867256161, 'r': 3, 'no_of_conv_kernels': 128, 'no_of_primary_capsules': 32, 'no_of_secondary_capsules': 10, 'primary_capsule_vector': 8, 'secondary_capsule_vector': 16}\n"
     ]
    },
    {
     "name": "stderr",
     "output_type": "stream",
     "text": [
      "Epoch 1/6: 100%|██████████| 16/16 [00:10<00:00,  1.58it/s, Training loss : 0.0046, Validation loss : 0.0027]\n",
      "Epoch 2/6: 100%|██████████| 16/16 [00:05<00:00,  3.00it/s, Training loss : 0.0023, Validation loss : 0.0020]\n",
      "Epoch 3/6: 100%|██████████| 16/16 [00:05<00:00,  2.99it/s, Training loss : 0.0019, Validation loss : 0.0019]\n",
      "Epoch 4/6: 100%|██████████| 16/16 [00:05<00:00,  3.13it/s, Training loss : 0.0016, Validation loss : 0.0018]\n",
      "Epoch 5/6: 100%|██████████| 16/16 [00:05<00:00,  3.19it/s, Training loss : 0.0015, Validation loss : 0.0017]\n",
      "Epoch 6/6: 100%|██████████| 16/16 [00:05<00:00,  3.17it/s]"
     ]
    },
    {
     "name": "stdout",
     "output_type": "stream",
     "text": [
      "Validation loss is not decreasing anymore, risk of overfitting the model after 6 epochs. The training will be stopped. This behavior can be modified by setting the early_stop property of the model to False\n"
     ]
    },
    {
     "name": "stderr",
     "output_type": "stream",
     "text": [
      "\n"
     ]
    },
    {
     "name": "stdout",
     "output_type": "stream",
     "text": [
      "Fitting individual 5/10 with genotype {'epochs': 6, 'epsilon': 0.03816984669400007, 'm_plus': 0.9584877152469523, 'm_minus': 0.10204359603887797, 'lambda_': 0.14897324077711674, 'alpha': 0.00886195945224421, 'r': 2, 'no_of_conv_kernels': 128, 'no_of_primary_capsules': 32, 'no_of_secondary_capsules': 10, 'primary_capsule_vector': 8, 'secondary_capsule_vector': 16}\n"
     ]
    },
    {
     "name": "stderr",
     "output_type": "stream",
     "text": [
      "Epoch 1/6: 100%|██████████| 16/16 [00:07<00:00,  2.06it/s, Training loss : 0.0055, Validation loss : 0.0031]\n",
      "Epoch 2/6: 100%|██████████| 16/16 [00:04<00:00,  3.45it/s, Training loss : 0.0025, Validation loss : 0.0023]\n",
      "Epoch 3/6: 100%|██████████| 16/16 [00:04<00:00,  3.58it/s, Training loss : 0.0021, Validation loss : 0.0022]\n",
      "Epoch 4/6: 100%|██████████| 16/16 [00:04<00:00,  3.55it/s, Training loss : 0.0018, Validation loss : 0.0020]\n",
      "Epoch 5/6: 100%|██████████| 16/16 [00:04<00:00,  3.48it/s, Training loss : 0.0017, Validation loss : 0.0019]\n",
      "Epoch 6/6: 100%|██████████| 16/16 [00:04<00:00,  3.56it/s, Training loss : 0.0015, Validation loss : 0.0018]\n"
     ]
    },
    {
     "name": "stdout",
     "output_type": "stream",
     "text": [
      "WARNING:tensorflow:5 out of the last 5 calls to <function CapsNet.predict_capsule_output at 0x1071d3760> triggered tf.function retracing. Tracing is expensive and the excessive number of tracings could be due to (1) creating @tf.function repeatedly in a loop, (2) passing tensors with different shapes, (3) passing Python objects instead of tensors. For (1), please define your @tf.function outside of the loop. For (2), @tf.function has reduce_retracing=True option that can avoid unnecessary retracing. For (3), please refer to https://www.tensorflow.org/guide/function#controlling_retracing and https://www.tensorflow.org/api_docs/python/tf/function for  more details.\n",
      "Fitting individual 6/10 with genotype {'epochs': 7, 'epsilon': 0.03816984669400007, 'm_plus': 0.9584877152469523, 'm_minus': 0.10204359603887797, 'lambda_': 0.14897324077711674, 'alpha': 0.00886195945224421, 'r': 2, 'no_of_conv_kernels': 128, 'no_of_primary_capsules': 32, 'no_of_secondary_capsules': 10, 'primary_capsule_vector': 8, 'secondary_capsule_vector': 16}\n"
     ]
    },
    {
     "name": "stderr",
     "output_type": "stream",
     "text": [
      "Epoch 1/7: 100%|██████████| 16/16 [00:07<00:00,  2.04it/s, Training loss : 0.0051, Validation loss : 0.0032]\n",
      "Epoch 2/7: 100%|██████████| 16/16 [00:04<00:00,  3.58it/s, Training loss : 0.0025, Validation loss : 0.0025]\n",
      "Epoch 3/7: 100%|██████████| 16/16 [00:04<00:00,  3.61it/s, Training loss : 0.0020, Validation loss : 0.0022]\n",
      "Epoch 4/7: 100%|██████████| 16/16 [00:04<00:00,  3.55it/s, Training loss : 0.0018, Validation loss : 0.0020]\n",
      "Epoch 5/7: 100%|██████████| 16/16 [00:04<00:00,  3.56it/s, Training loss : 0.0016, Validation loss : 0.0019]\n",
      "Epoch 6/7: 100%|██████████| 16/16 [00:04<00:00,  3.49it/s, Training loss : 0.0015, Validation loss : 0.0018]\n",
      "Epoch 7/7: 100%|██████████| 16/16 [00:04<00:00,  3.52it/s, Training loss : 0.0014, Validation loss : 0.0017]\n"
     ]
    },
    {
     "name": "stdout",
     "output_type": "stream",
     "text": [
      "WARNING:tensorflow:6 out of the last 6 calls to <function CapsNet.predict_capsule_output at 0x1071d3760> triggered tf.function retracing. Tracing is expensive and the excessive number of tracings could be due to (1) creating @tf.function repeatedly in a loop, (2) passing tensors with different shapes, (3) passing Python objects instead of tensors. For (1), please define your @tf.function outside of the loop. For (2), @tf.function has reduce_retracing=True option that can avoid unnecessary retracing. For (3), please refer to https://www.tensorflow.org/guide/function#controlling_retracing and https://www.tensorflow.org/api_docs/python/tf/function for  more details.\n",
      "Fitting individual 7/10 with genotype {'epochs': 6, 'epsilon': 0.02350612443853871, 'm_plus': 0.9355236325582269, 'm_minus': 0.17549626858619488, 'lambda_': 0.6706068874405312, 'alpha': 0.0014262475851181118, 'r': 3, 'no_of_conv_kernels': 128, 'no_of_primary_capsules': 32, 'no_of_secondary_capsules': 10, 'primary_capsule_vector': 8, 'secondary_capsule_vector': 16}\n"
     ]
    },
    {
     "name": "stderr",
     "output_type": "stream",
     "text": [
      "Epoch 1/6: 100%|██████████| 16/16 [00:10<00:00,  1.58it/s, Training loss : 0.0089, Validation loss : 0.0065]\n",
      "Epoch 2/6: 100%|██████████| 16/16 [00:05<00:00,  3.03it/s, Training loss : 0.0048, Validation loss : 0.0041]\n",
      "Epoch 3/6: 100%|██████████| 16/16 [00:05<00:00,  2.91it/s, Training loss : 0.0033, Validation loss : 0.0036]\n",
      "Epoch 4/6: 100%|██████████| 16/16 [00:05<00:00,  2.94it/s, Training loss : 0.0028, Validation loss : 0.0031]\n",
      "Epoch 5/6: 100%|██████████| 16/16 [00:05<00:00,  2.92it/s]"
     ]
    },
    {
     "name": "stdout",
     "output_type": "stream",
     "text": [
      "Validation loss is not decreasing anymore, risk of overfitting the model after 5 epochs. The training will be stopped. This behavior can be modified by setting the early_stop property of the model to False\n"
     ]
    },
    {
     "name": "stderr",
     "output_type": "stream",
     "text": [
      "\n"
     ]
    },
    {
     "name": "stdout",
     "output_type": "stream",
     "text": [
      "Fitting individual 8/10 with genotype {'epochs': 5, 'epsilon': 0.06381598709345522, 'm_plus': 0.9032027461816213, 'm_minus': 0.10911948495158298, 'lambda_': 0.11431029414267205, 'alpha': 0.008286523867256161, 'r': 3, 'no_of_conv_kernels': 128, 'no_of_primary_capsules': 32, 'no_of_secondary_capsules': 10, 'primary_capsule_vector': 8, 'secondary_capsule_vector': 16}\n"
     ]
    },
    {
     "name": "stderr",
     "output_type": "stream",
     "text": [
      "Epoch 1/5: 100%|██████████| 16/16 [00:10<00:00,  1.51it/s, Training loss : 0.0041, Validation loss : 0.0025]\n",
      "Epoch 2/5: 100%|██████████| 16/16 [00:05<00:00,  2.99it/s, Training loss : 0.0021, Validation loss : 0.0019]\n",
      "Epoch 3/5: 100%|██████████| 16/16 [00:05<00:00,  2.95it/s, Training loss : 0.0017, Validation loss : 0.0017]\n",
      "Epoch 4/5: 100%|██████████| 16/16 [00:07<00:00,  2.01it/s, Training loss : 0.0015, Validation loss : 0.0016]\n",
      "Epoch 5/5: 100%|██████████| 16/16 [00:05<00:00,  2.79it/s, Training loss : 0.0013, Validation loss : 0.0015]\n"
     ]
    },
    {
     "name": "stdout",
     "output_type": "stream",
     "text": [
      "Fitting individual 9/10 with genotype {'epochs': 6, 'epsilon': 0.07945086182880395, 'm_plus': 0.9045130744375238, 'm_minus': 0.11054223877186552, 'lambda_': 0.2921515331042373, 'alpha': 0.0021216530958667996, 'r': 4, 'no_of_conv_kernels': 128, 'no_of_primary_capsules': 32, 'no_of_secondary_capsules': 10, 'primary_capsule_vector': 8, 'secondary_capsule_vector': 16}\n"
     ]
    },
    {
     "name": "stderr",
     "output_type": "stream",
     "text": [
      "Epoch 1/6: 100%|██████████| 16/16 [00:12<00:00,  1.28it/s, Training loss : 0.0067, Validation loss : 0.0050]\n",
      "Epoch 2/6: 100%|██████████| 16/16 [00:05<00:00,  2.76it/s, Training loss : 0.0041, Validation loss : 0.0036]\n",
      "Epoch 3/6: 100%|██████████| 16/16 [00:05<00:00,  2.74it/s, Training loss : 0.0033, Validation loss : 0.0033]\n",
      "Epoch 4/6: 100%|██████████| 16/16 [00:06<00:00,  2.66it/s, Training loss : 0.0030, Validation loss : 0.0032]\n",
      "Epoch 5/6: 100%|██████████| 16/16 [00:05<00:00,  2.67it/s, Training loss : 0.0028, Validation loss : 0.0030]\n",
      "Epoch 6/6: 100%|██████████| 16/16 [00:07<00:00,  2.20it/s, Training loss : 0.0026, Validation loss : 0.0030]\n"
     ]
    },
    {
     "name": "stdout",
     "output_type": "stream",
     "text": [
      "Fitting individual 10/10 with genotype {'epochs': 6, 'epsilon': 0.07945086182880395, 'm_plus': 0.9032027461816213, 'm_minus': 0.10911948495158298, 'lambda_': 0.11431029414267205, 'alpha': 0.008286523867256161, 'r': 3, 'no_of_conv_kernels': 128, 'no_of_primary_capsules': 32, 'no_of_secondary_capsules': 10, 'primary_capsule_vector': 8, 'secondary_capsule_vector': 16}\n"
     ]
    },
    {
     "name": "stderr",
     "output_type": "stream",
     "text": [
      "Epoch 1/6: 100%|██████████| 16/16 [00:11<00:00,  1.41it/s, Training loss : 0.0046, Validation loss : 0.0028]\n",
      "Epoch 2/6: 100%|██████████| 16/16 [00:05<00:00,  3.02it/s, Training loss : 0.0023, Validation loss : 0.0021]\n",
      "Epoch 3/6: 100%|██████████| 16/16 [00:05<00:00,  2.97it/s, Training loss : 0.0018, Validation loss : 0.0018]\n",
      "Epoch 4/6: 100%|██████████| 16/16 [00:05<00:00,  3.13it/s, Training loss : 0.0016, Validation loss : 0.0017]\n",
      "Epoch 5/6: 100%|██████████| 16/16 [00:05<00:00,  3.14it/s, Training loss : 0.0015, Validation loss : 0.0016]\n",
      "Epoch 6/6: 100%|██████████| 16/16 [00:05<00:00,  2.99it/s, Training loss : 0.0014, Validation loss : 0.0016]\n"
     ]
    },
    {
     "name": "stdout",
     "output_type": "stream",
     "text": [
      "Len of pop after selection : 5\n",
      "=== Generation 2/2\n",
      "Len of pop before manipulations : 5\n",
      "crossover created 4 offspring(s)\n",
      "mutation created 0 offspring(s)\n",
      "local search created 2 offspring(s)\n",
      "Len of pop after manipulations : 11\n",
      "Fitting individual 1/11 with genotype {'epochs': 7, 'epsilon': 0.02350612443853871, 'm_plus': 0.9355236325582269, 'm_minus': 0.17549626858619488, 'lambda_': 0.6706068874405312, 'alpha': 0.0001, 'r': 3, 'no_of_conv_kernels': 128, 'no_of_primary_capsules': 32, 'no_of_secondary_capsules': 10, 'primary_capsule_vector': 8, 'secondary_capsule_vector': 16}\n"
     ]
    },
    {
     "name": "stderr",
     "output_type": "stream",
     "text": [
      "Epoch 1/7: 100%|██████████| 16/16 [00:09<00:00,  1.60it/s, Training loss : 0.0066, Validation loss : 0.0049]\n",
      "Epoch 2/7: 100%|██████████| 16/16 [00:05<00:00,  3.07it/s, Training loss : 0.0037, Validation loss : 0.0034]\n",
      "Epoch 3/7: 100%|██████████| 16/16 [00:05<00:00,  2.98it/s, Training loss : 0.0030, Validation loss : 0.0031]\n",
      "Epoch 4/7: 100%|██████████| 16/16 [00:05<00:00,  2.88it/s, Training loss : 0.0026, Validation loss : 0.0028]\n",
      "Epoch 5/7: 100%|██████████| 16/16 [00:05<00:00,  3.09it/s, Training loss : 0.0023, Validation loss : 0.0027]\n",
      "Epoch 6/7: 100%|██████████| 16/16 [00:05<00:00,  3.05it/s, Training loss : 0.0021, Validation loss : 0.0025]\n",
      "Epoch 7/7: 100%|██████████| 16/16 [00:05<00:00,  3.08it/s]"
     ]
    },
    {
     "name": "stdout",
     "output_type": "stream",
     "text": [
      "Validation loss is not decreasing anymore, risk of overfitting the model after 7 epochs. The training will be stopped. This behavior can be modified by setting the early_stop property of the model to False\n"
     ]
    },
    {
     "name": "stderr",
     "output_type": "stream",
     "text": [
      "\n"
     ]
    },
    {
     "name": "stdout",
     "output_type": "stream",
     "text": [
      "Fitting individual 2/11 with genotype {'epochs': 6, 'epsilon': 0.03816984669400007, 'm_plus': 0.9584877152469523, 'm_minus': 0.10204359603887797, 'lambda_': 0.14897324077711674, 'alpha': 0.00886195945224421, 'r': 2, 'no_of_conv_kernels': 128, 'no_of_primary_capsules': 32, 'no_of_secondary_capsules': 10, 'primary_capsule_vector': 8, 'secondary_capsule_vector': 16}\n"
     ]
    },
    {
     "name": "stderr",
     "output_type": "stream",
     "text": [
      "Epoch 1/6: 100%|██████████| 16/16 [00:08<00:00,  1.82it/s, Training loss : 0.0056, Validation loss : 0.0033]\n",
      "Epoch 2/6: 100%|██████████| 16/16 [00:04<00:00,  3.36it/s, Training loss : 0.0027, Validation loss : 0.0024]\n",
      "Epoch 3/6: 100%|██████████| 16/16 [00:04<00:00,  3.39it/s, Training loss : 0.0021, Validation loss : 0.0022]\n",
      "Epoch 4/6: 100%|██████████| 16/16 [00:04<00:00,  3.49it/s, Training loss : 0.0018, Validation loss : 0.0020]\n",
      "Epoch 5/6: 100%|██████████| 16/16 [00:04<00:00,  3.53it/s, Training loss : 0.0017, Validation loss : 0.0019]\n",
      "Epoch 6/6: 100%|██████████| 16/16 [00:04<00:00,  3.54it/s, Training loss : 0.0015, Validation loss : 0.0018]\n"
     ]
    },
    {
     "name": "stdout",
     "output_type": "stream",
     "text": [
      "Fitting individual 3/11 with genotype {'epochs': 8, 'epsilon': 0.03977504864322369, 'm_plus': 0.9689581493513775, 'm_minus': 0.14966605149209533, 'lambda_': 0.9801367623942255, 'alpha': 0.009179890198627038, 'r': 4, 'no_of_conv_kernels': 128, 'no_of_primary_capsules': 32, 'no_of_secondary_capsules': 10, 'primary_capsule_vector': 8, 'secondary_capsule_vector': 16}\n"
     ]
    },
    {
     "name": "stderr",
     "output_type": "stream",
     "text": [
      "Epoch 1/8: 100%|██████████| 16/16 [00:12<00:00,  1.32it/s, Training loss : 0.0094, Validation loss : 0.0076]\n",
      "Epoch 2/8: 100%|██████████| 16/16 [00:05<00:00,  2.75it/s, Training loss : 0.0066, Validation loss : 0.0061]\n",
      "Epoch 3/8: 100%|██████████| 16/16 [00:05<00:00,  2.76it/s, Training loss : 0.0052, Validation loss : 0.0052]\n",
      "Epoch 4/8: 100%|██████████| 16/16 [00:05<00:00,  2.68it/s, Training loss : 0.0045, Validation loss : 0.0049]\n",
      "Epoch 5/8: 100%|██████████| 16/16 [00:05<00:00,  2.73it/s, Training loss : 0.0039, Validation loss : 0.0042]\n",
      "Epoch 6/8: 100%|██████████| 16/16 [00:05<00:00,  2.84it/s, Training loss : 0.0035, Validation loss : 0.0040]\n",
      "Epoch 7/8: 100%|██████████| 16/16 [00:05<00:00,  2.81it/s, Training loss : 0.0032, Validation loss : 0.0039]\n",
      "Epoch 8/8: 100%|██████████| 16/16 [00:05<00:00,  2.83it/s, Training loss : 0.0030, Validation loss : 0.0037]\n"
     ]
    },
    {
     "name": "stdout",
     "output_type": "stream",
     "text": [
      "Fitting individual 4/11 with genotype {'epochs': 6, 'epsilon': 0.07945086182880395, 'm_plus': 0.9032027461816213, 'm_minus': 0.10911948495158298, 'lambda_': 0.11431029414267205, 'alpha': 0.008286523867256161, 'r': 3, 'no_of_conv_kernels': 128, 'no_of_primary_capsules': 32, 'no_of_secondary_capsules': 10, 'primary_capsule_vector': 8, 'secondary_capsule_vector': 16}\n"
     ]
    },
    {
     "name": "stderr",
     "output_type": "stream",
     "text": [
      "Epoch 1/6: 100%|██████████| 16/16 [00:10<00:00,  1.60it/s, Training loss : 0.0042, Validation loss : 0.0025]\n",
      "Epoch 2/6: 100%|██████████| 16/16 [00:05<00:00,  3.01it/s, Training loss : 0.0021, Validation loss : 0.0020]\n",
      "Epoch 3/6: 100%|██████████| 16/16 [00:05<00:00,  3.11it/s, Training loss : 0.0017, Validation loss : 0.0018]\n",
      "Epoch 4/6: 100%|██████████| 16/16 [00:05<00:00,  3.15it/s, Training loss : 0.0016, Validation loss : 0.0018]\n",
      "Epoch 5/6: 100%|██████████| 16/16 [00:05<00:00,  3.07it/s, Training loss : 0.0015, Validation loss : 0.0016]\n",
      "Epoch 6/6: 100%|██████████| 16/16 [00:05<00:00,  3.15it/s, Training loss : 0.0014, Validation loss : 0.0016]\n"
     ]
    },
    {
     "name": "stdout",
     "output_type": "stream",
     "text": [
      "Fitting individual 5/11 with genotype {'epochs': 5, 'epsilon': 0.06381598709345522, 'm_plus': 0.9045130744375238, 'm_minus': 0.11054223877186552, 'lambda_': 0.2921515331042373, 'alpha': 0.0021216530958667996, 'r': 4, 'no_of_conv_kernels': 128, 'no_of_primary_capsules': 32, 'no_of_secondary_capsules': 10, 'primary_capsule_vector': 8, 'secondary_capsule_vector': 16}\n"
     ]
    },
    {
     "name": "stderr",
     "output_type": "stream",
     "text": [
      "Epoch 1/5: 100%|██████████| 16/16 [00:12<00:00,  1.28it/s, Training loss : 0.0058, Validation loss : 0.0042]\n",
      "Epoch 2/5: 100%|██████████| 16/16 [00:07<00:00,  2.22it/s, Training loss : 0.0035, Validation loss : 0.0032]\n",
      "Epoch 3/5: 100%|██████████| 16/16 [00:06<00:00,  2.58it/s, Training loss : 0.0028, Validation loss : 0.0030]\n",
      "Epoch 4/5: 100%|██████████| 16/16 [00:05<00:00,  2.79it/s, Training loss : 0.0026, Validation loss : 0.0028]\n",
      "Epoch 5/5: 100%|██████████| 16/16 [00:05<00:00,  2.71it/s, Training loss : 0.0024, Validation loss : 0.0027]\n"
     ]
    },
    {
     "name": "stdout",
     "output_type": "stream",
     "text": [
      "Fitting individual 6/11 with genotype {'epochs': 8, 'epsilon': 0.03977504864322369, 'm_plus': 0.9689581493513775, 'm_minus': 0.11054223877186552, 'lambda_': 0.2921515331042373, 'alpha': 0.0021216530958667996, 'r': 4, 'no_of_conv_kernels': 128, 'no_of_primary_capsules': 32, 'no_of_secondary_capsules': 10, 'primary_capsule_vector': 8, 'secondary_capsule_vector': 16}\n"
     ]
    },
    {
     "name": "stderr",
     "output_type": "stream",
     "text": [
      "Epoch 1/8: 100%|██████████| 16/16 [00:12<00:00,  1.30it/s, Training loss : 0.0072, Validation loss : 0.0047]\n",
      "Epoch 2/8: 100%|██████████| 16/16 [00:06<00:00,  2.65it/s, Training loss : 0.0041, Validation loss : 0.0038]\n",
      "Epoch 3/8: 100%|██████████| 16/16 [00:05<00:00,  2.77it/s, Training loss : 0.0031, Validation loss : 0.0031]\n",
      "Epoch 4/8: 100%|██████████| 16/16 [00:05<00:00,  2.79it/s, Training loss : 0.0028, Validation loss : 0.0029]\n",
      "Epoch 5/8: 100%|██████████| 16/16 [00:05<00:00,  2.72it/s, Training loss : 0.0025, Validation loss : 0.0028]\n",
      "Epoch 6/8: 100%|██████████| 16/16 [00:05<00:00,  2.79it/s, Training loss : 0.0023, Validation loss : 0.0026]\n",
      "Epoch 7/8: 100%|██████████| 16/16 [00:05<00:00,  2.79it/s, Training loss : 0.0021, Validation loss : 0.0025]\n",
      "Epoch 8/8: 100%|██████████| 16/16 [00:05<00:00,  2.77it/s]"
     ]
    },
    {
     "name": "stdout",
     "output_type": "stream",
     "text": [
      "Validation loss is not decreasing anymore, risk of overfitting the model after 8 epochs. The training will be stopped. This behavior can be modified by setting the early_stop property of the model to False\n"
     ]
    },
    {
     "name": "stderr",
     "output_type": "stream",
     "text": [
      "\n"
     ]
    },
    {
     "name": "stdout",
     "output_type": "stream",
     "text": [
      "Fitting individual 7/11 with genotype {'epochs': 5, 'epsilon': 0.06381598709345522, 'm_plus': 0.9045130744375238, 'm_minus': 0.14966605149209533, 'lambda_': 0.9801367623942255, 'alpha': 0.009179890198627038, 'r': 4, 'no_of_conv_kernels': 128, 'no_of_primary_capsules': 32, 'no_of_secondary_capsules': 10, 'primary_capsule_vector': 8, 'secondary_capsule_vector': 16}\n"
     ]
    },
    {
     "name": "stderr",
     "output_type": "stream",
     "text": [
      "Epoch 1/5: 100%|██████████| 16/16 [00:12<00:00,  1.27it/s, Training loss : 0.0076, Validation loss : 0.0065]\n",
      "Epoch 2/5: 100%|██████████| 16/16 [00:05<00:00,  2.69it/s, Training loss : 0.0058, Validation loss : 0.0053]\n",
      "Epoch 3/5: 100%|██████████| 16/16 [00:05<00:00,  2.67it/s, Training loss : 0.0048, Validation loss : 0.0049]\n",
      "Epoch 4/5: 100%|██████████| 16/16 [00:05<00:00,  2.69it/s, Training loss : 0.0043, Validation loss : 0.0045]\n",
      "Epoch 5/5: 100%|██████████| 16/16 [00:05<00:00,  2.74it/s, Training loss : 0.0041, Validation loss : 0.0044]\n"
     ]
    },
    {
     "name": "stdout",
     "output_type": "stream",
     "text": [
      "Fitting individual 8/11 with genotype {'epochs': 7, 'epsilon': 0.02350612443853871, 'm_plus': 0.9355236325582269, 'm_minus': 0.14966605149209533, 'lambda_': 0.9801367623942255, 'alpha': 0.009179890198627038, 'r': 4, 'no_of_conv_kernels': 128, 'no_of_primary_capsules': 32, 'no_of_secondary_capsules': 10, 'primary_capsule_vector': 8, 'secondary_capsule_vector': 16}\n"
     ]
    },
    {
     "name": "stderr",
     "output_type": "stream",
     "text": [
      "Epoch 1/7: 100%|██████████| 16/16 [00:12<00:00,  1.29it/s, Training loss : 0.0104, Validation loss : 0.0074]\n",
      "Epoch 2/7: 100%|██████████| 16/16 [00:05<00:00,  2.72it/s, Training loss : 0.0058, Validation loss : 0.0047]\n",
      "Epoch 3/7: 100%|██████████| 16/16 [00:05<00:00,  2.78it/s, Training loss : 0.0041, Validation loss : 0.0041]\n",
      "Epoch 4/7: 100%|██████████| 16/16 [00:05<00:00,  2.77it/s, Training loss : 0.0035, Validation loss : 0.0036]\n",
      "Epoch 5/7: 100%|██████████| 16/16 [00:05<00:00,  2.73it/s, Training loss : 0.0031, Validation loss : 0.0034]\n",
      "Epoch 6/7: 100%|██████████| 16/16 [00:05<00:00,  2.79it/s, Training loss : 0.0028, Validation loss : 0.0033]\n",
      "Epoch 7/7: 100%|██████████| 16/16 [00:05<00:00,  2.80it/s]"
     ]
    },
    {
     "name": "stdout",
     "output_type": "stream",
     "text": [
      "Validation loss is not decreasing anymore, risk of overfitting the model after 7 epochs. The training will be stopped. This behavior can be modified by setting the early_stop property of the model to False\n"
     ]
    },
    {
     "name": "stderr",
     "output_type": "stream",
     "text": [
      "\n"
     ]
    },
    {
     "name": "stdout",
     "output_type": "stream",
     "text": [
      "Fitting individual 9/11 with genotype {'epochs': 8, 'epsilon': 0.03977504864322369, 'm_plus': 0.9689581493513775, 'm_minus': 0.17549626858619488, 'lambda_': 0.6706068874405312, 'alpha': 0.0014262475851181118, 'r': 3, 'no_of_conv_kernels': 128, 'no_of_primary_capsules': 32, 'no_of_secondary_capsules': 10, 'primary_capsule_vector': 8, 'secondary_capsule_vector': 16}\n"
     ]
    },
    {
     "name": "stderr",
     "output_type": "stream",
     "text": [
      "Epoch 1/8: 100%|██████████| 16/16 [00:10<00:00,  1.59it/s, Training loss : 0.0075, Validation loss : 0.0055]\n",
      "Epoch 2/8: 100%|██████████| 16/16 [00:05<00:00,  3.12it/s, Training loss : 0.0042, Validation loss : 0.0038]\n",
      "Epoch 3/8: 100%|██████████| 16/16 [00:05<00:00,  3.14it/s, Training loss : 0.0032, Validation loss : 0.0035]\n",
      "Epoch 4/8: 100%|██████████| 16/16 [00:05<00:00,  3.08it/s, Training loss : 0.0028, Validation loss : 0.0031]\n",
      "Epoch 5/8: 100%|██████████| 16/16 [00:05<00:00,  3.15it/s, Training loss : 0.0025, Validation loss : 0.0029]\n",
      "Epoch 6/8: 100%|██████████| 16/16 [00:05<00:00,  3.14it/s, Training loss : 0.0023, Validation loss : 0.0029]\n",
      "Epoch 7/8: 100%|██████████| 16/16 [00:05<00:00,  3.08it/s, Training loss : 0.0021, Validation loss : 0.0028]\n",
      "Epoch 8/8: 100%|██████████| 16/16 [00:05<00:00,  3.13it/s, Training loss : 0.0020, Validation loss : 0.0026]\n"
     ]
    },
    {
     "name": "stdout",
     "output_type": "stream",
     "text": [
      "Fitting individual 10/11 with genotype {'epochs': 7, 'epsilon': 0.02350612443853871, 'm_plus': 0.9355236325582269, 'm_minus': 0.17549626858619488, 'lambda_': 0.6706068874405312, 'alpha': 0.0001, 'r': 3, 'no_of_conv_kernels': 128, 'no_of_primary_capsules': 32, 'no_of_secondary_capsules': 10, 'primary_capsule_vector': 8, 'secondary_capsule_vector': 16}\n"
     ]
    },
    {
     "name": "stderr",
     "output_type": "stream",
     "text": [
      "Epoch 1/7: 100%|██████████| 16/16 [00:10<00:00,  1.58it/s, Training loss : 0.0081, Validation loss : 0.0059]\n",
      "Epoch 2/7: 100%|██████████| 16/16 [00:05<00:00,  3.10it/s, Training loss : 0.0044, Validation loss : 0.0037]\n",
      "Epoch 3/7: 100%|██████████| 16/16 [00:05<00:00,  3.06it/s, Training loss : 0.0032, Validation loss : 0.0032]\n",
      "Epoch 4/7: 100%|██████████| 16/16 [00:05<00:00,  3.14it/s, Training loss : 0.0028, Validation loss : 0.0031]\n",
      "Epoch 5/7: 100%|██████████| 16/16 [00:05<00:00,  3.11it/s, Training loss : 0.0025, Validation loss : 0.0028]\n",
      "Epoch 6/7: 100%|██████████| 16/16 [00:05<00:00,  3.05it/s, Training loss : 0.0022, Validation loss : 0.0027]\n",
      "Epoch 7/7: 100%|██████████| 16/16 [00:05<00:00,  3.05it/s, Training loss : 0.0021, Validation loss : 0.0026]\n"
     ]
    },
    {
     "name": "stdout",
     "output_type": "stream",
     "text": [
      "Fitting individual 11/11 with genotype {'epochs': 6, 'epsilon': 0.03816984669400007, 'm_plus': 0.9584877152469523, 'm_minus': 0.10204359603887797, 'lambda_': 0.14897324077711674, 'alpha': 0.00886195945224421, 'r': 2, 'no_of_conv_kernels': 128, 'no_of_primary_capsules': 32, 'no_of_secondary_capsules': 10, 'primary_capsule_vector': 8, 'secondary_capsule_vector': 16}\n"
     ]
    },
    {
     "name": "stderr",
     "output_type": "stream",
     "text": [
      "Epoch 1/6: 100%|██████████| 16/16 [00:07<00:00,  2.04it/s, Training loss : 0.0057, Validation loss : 0.0035]\n",
      "Epoch 2/6: 100%|██████████| 16/16 [00:04<00:00,  3.57it/s, Training loss : 0.0028, Validation loss : 0.0025]\n",
      "Epoch 3/6: 100%|██████████| 16/16 [00:04<00:00,  3.43it/s, Training loss : 0.0022, Validation loss : 0.0022]\n",
      "Epoch 4/6: 100%|██████████| 16/16 [00:04<00:00,  3.57it/s, Training loss : 0.0019, Validation loss : 0.0021]\n",
      "Epoch 5/6: 100%|██████████| 16/16 [00:04<00:00,  3.55it/s, Training loss : 0.0017, Validation loss : 0.0019]\n",
      "Epoch 6/6: 100%|██████████| 16/16 [00:04<00:00,  3.53it/s, Training loss : 0.0016, Validation loss : 0.0019]\n"
     ]
    },
    {
     "name": "stdout",
     "output_type": "stream",
     "text": [
      "Len of pop after selection : 5\n",
      "Fitting individual 1/5 with genotype {'epochs': 7, 'epsilon': 0.02350612443853871, 'm_plus': 0.9355236325582269, 'm_minus': 0.17549626858619488, 'lambda_': 0.6706068874405312, 'alpha': 0.0001, 'r': 3, 'no_of_conv_kernels': 128, 'no_of_primary_capsules': 32, 'no_of_secondary_capsules': 10, 'primary_capsule_vector': 8, 'secondary_capsule_vector': 16}\n"
     ]
    },
    {
     "name": "stderr",
     "output_type": "stream",
     "text": [
      "Epoch 1/7: 100%|██████████| 16/16 [00:10<00:00,  1.58it/s, Training loss : 0.0077, Validation loss : 0.0053]\n",
      "Epoch 2/7: 100%|██████████| 16/16 [00:05<00:00,  3.04it/s, Training loss : 0.0041, Validation loss : 0.0035]\n",
      "Epoch 3/7: 100%|██████████| 16/16 [00:05<00:00,  3.02it/s, Training loss : 0.0031, Validation loss : 0.0032]\n",
      "Epoch 4/7: 100%|██████████| 16/16 [00:05<00:00,  3.08it/s, Training loss : 0.0027, Validation loss : 0.0031]\n",
      "Epoch 5/7: 100%|██████████| 16/16 [00:05<00:00,  3.04it/s, Training loss : 0.0024, Validation loss : 0.0027]\n",
      "Epoch 6/7: 100%|██████████| 16/16 [00:05<00:00,  3.14it/s, Training loss : 0.0022, Validation loss : 0.0026]\n",
      "Epoch 7/7: 100%|██████████| 16/16 [00:05<00:00,  3.09it/s, Training loss : 0.0019, Validation loss : 0.0026]\n"
     ]
    },
    {
     "name": "stdout",
     "output_type": "stream",
     "text": [
      "Fitting individual 2/5 with genotype {'epochs': 6, 'epsilon': 0.03816984669400007, 'm_plus': 0.9584877152469523, 'm_minus': 0.10204359603887797, 'lambda_': 0.14897324077711674, 'alpha': 0.00886195945224421, 'r': 2, 'no_of_conv_kernels': 128, 'no_of_primary_capsules': 32, 'no_of_secondary_capsules': 10, 'primary_capsule_vector': 8, 'secondary_capsule_vector': 16}\n"
     ]
    },
    {
     "name": "stderr",
     "output_type": "stream",
     "text": [
      "Epoch 1/6: 100%|██████████| 16/16 [00:07<00:00,  2.04it/s, Training loss : 0.0058, Validation loss : 0.0033]\n",
      "Epoch 2/6: 100%|██████████| 16/16 [00:04<00:00,  3.48it/s, Training loss : 0.0027, Validation loss : 0.0024]\n",
      "Epoch 3/6: 100%|██████████| 16/16 [00:04<00:00,  3.54it/s, Training loss : 0.0021, Validation loss : 0.0022]\n",
      "Epoch 4/6: 100%|██████████| 16/16 [00:04<00:00,  3.54it/s, Training loss : 0.0018, Validation loss : 0.0020]\n",
      "Epoch 5/6: 100%|██████████| 16/16 [00:04<00:00,  3.58it/s, Training loss : 0.0016, Validation loss : 0.0019]\n",
      "Epoch 6/6: 100%|██████████| 16/16 [00:04<00:00,  3.52it/s, Training loss : 0.0015, Validation loss : 0.0017]\n"
     ]
    },
    {
     "name": "stdout",
     "output_type": "stream",
     "text": [
      "Fitting individual 3/5 with genotype {'epochs': 8, 'epsilon': 0.03977504864322369, 'm_plus': 0.9689581493513775, 'm_minus': 0.14966605149209533, 'lambda_': 0.9801367623942255, 'alpha': 0.009179890198627038, 'r': 4, 'no_of_conv_kernels': 128, 'no_of_primary_capsules': 32, 'no_of_secondary_capsules': 10, 'primary_capsule_vector': 8, 'secondary_capsule_vector': 16}\n"
     ]
    },
    {
     "name": "stderr",
     "output_type": "stream",
     "text": [
      "Epoch 1/8: 100%|██████████| 16/16 [00:12<00:00,  1.30it/s, Training loss : 0.0095, Validation loss : 0.0076]\n",
      "Epoch 2/8: 100%|██████████| 16/16 [00:05<00:00,  2.80it/s, Training loss : 0.0064, Validation loss : 0.0060]\n",
      "Epoch 3/8: 100%|██████████| 16/16 [00:05<00:00,  2.71it/s, Training loss : 0.0051, Validation loss : 0.0048]\n",
      "Epoch 4/8: 100%|██████████| 16/16 [00:05<00:00,  2.72it/s, Training loss : 0.0042, Validation loss : 0.0043]\n",
      "Epoch 5/8: 100%|██████████| 16/16 [00:05<00:00,  2.71it/s, Training loss : 0.0037, Validation loss : 0.0042]\n",
      "Epoch 6/8: 100%|██████████| 16/16 [00:05<00:00,  2.74it/s, Training loss : 0.0034, Validation loss : 0.0038]\n",
      "Epoch 7/8: 100%|██████████| 16/16 [00:05<00:00,  2.77it/s, Training loss : 0.0032, Validation loss : 0.0038]\n",
      "Epoch 8/8: 100%|██████████| 16/16 [00:05<00:00,  2.77it/s, Training loss : 0.0030, Validation loss : 0.0037]\n"
     ]
    },
    {
     "name": "stdout",
     "output_type": "stream",
     "text": [
      "Fitting individual 4/5 with genotype {'epochs': 6, 'epsilon': 0.07945086182880395, 'm_plus': 0.9032027461816213, 'm_minus': 0.10911948495158298, 'lambda_': 0.11431029414267205, 'alpha': 0.008286523867256161, 'r': 3, 'no_of_conv_kernels': 128, 'no_of_primary_capsules': 32, 'no_of_secondary_capsules': 10, 'primary_capsule_vector': 8, 'secondary_capsule_vector': 16}\n"
     ]
    },
    {
     "name": "stderr",
     "output_type": "stream",
     "text": [
      "Epoch 1/6: 100%|██████████| 16/16 [00:10<00:00,  1.57it/s, Training loss : 0.0044, Validation loss : 0.0026]\n",
      "Epoch 2/6: 100%|██████████| 16/16 [00:05<00:00,  3.12it/s, Training loss : 0.0022, Validation loss : 0.0019]\n",
      "Epoch 3/6: 100%|██████████| 16/16 [00:05<00:00,  3.15it/s, Training loss : 0.0018, Validation loss : 0.0019]\n",
      "Epoch 4/6: 100%|██████████| 16/16 [00:05<00:00,  3.06it/s, Training loss : 0.0016, Validation loss : 0.0018]\n",
      "Epoch 5/6: 100%|██████████| 16/16 [00:05<00:00,  3.09it/s, Training loss : 0.0015, Validation loss : 0.0017]\n",
      "Epoch 6/6: 100%|██████████| 16/16 [00:05<00:00,  3.04it/s, Training loss : 0.0014, Validation loss : 0.0016]\n"
     ]
    },
    {
     "name": "stdout",
     "output_type": "stream",
     "text": [
      "Fitting individual 5/5 with genotype {'epochs': 5, 'epsilon': 0.06381598709345522, 'm_plus': 0.9045130744375238, 'm_minus': 0.11054223877186552, 'lambda_': 0.2921515331042373, 'alpha': 0.0021216530958667996, 'r': 4, 'no_of_conv_kernels': 128, 'no_of_primary_capsules': 32, 'no_of_secondary_capsules': 10, 'primary_capsule_vector': 8, 'secondary_capsule_vector': 16}\n"
     ]
    },
    {
     "name": "stderr",
     "output_type": "stream",
     "text": [
      "Epoch 1/5: 100%|██████████| 16/16 [00:12<00:00,  1.31it/s, Training loss : 0.0070, Validation loss : 0.0051]\n",
      "Epoch 2/5: 100%|██████████| 16/16 [00:05<00:00,  2.77it/s, Training loss : 0.0042, Validation loss : 0.0036]\n",
      "Epoch 3/5: 100%|██████████| 16/16 [00:05<00:00,  2.79it/s, Training loss : 0.0031, Validation loss : 0.0031]\n",
      "Epoch 4/5: 100%|██████████| 16/16 [00:05<00:00,  2.76it/s, Training loss : 0.0027, Validation loss : 0.0028]\n",
      "Epoch 5/5: 100%|██████████| 16/16 [00:05<00:00,  2.86it/s, Training loss : 0.0025, Validation loss : 0.0028]\n"
     ]
    },
    {
     "name": "stdout",
     "output_type": "stream",
     "text": [
      "Saving GA metrics under nas_fmnist_1/generations_metrics.png\n",
      "Optimal solution(s):\n",
      "[[7.00000000e+00 2.35061244e-02 9.35523633e-01 1.75496269e-01\n",
      "  6.70606887e-01 1.00000000e-04 3.00000000e+00]\n",
      " [6.00000000e+00 3.81698467e-02 9.58487715e-01 1.02043596e-01\n",
      "  1.48973241e-01 8.86195945e-03 2.00000000e+00]\n",
      " [8.00000000e+00 3.97750486e-02 9.68958149e-01 1.49666051e-01\n",
      "  9.80136762e-01 9.17989020e-03 4.00000000e+00]\n",
      " [6.00000000e+00 7.94508618e-02 9.03202746e-01 1.09119485e-01\n",
      "  1.14310294e-01 8.28652387e-03 3.00000000e+00]]\n",
      "______________\n",
      "Fitness values:\n",
      "  Inference    Accuracy\n",
      "[[0.01566869 0.77539062]\n",
      " [0.01048972 0.76171875]\n",
      " [0.0205791  0.78320312]\n",
      " [0.01560404 0.76757812]]\n",
      "=== GA done : 2023-07-20 10:37:28.013627 ===\n",
      "Saving GA solutions under nas_fmnist_1/solutions_metrics.png\n"
     ]
    },
    {
     "data": {
      "image/png": "[encoded data removed]",
      "text/plain": [
       "<Figure size 640x480 with 1 Axes>"
      ]
     },
     "metadata": {},
     "output_type": "display_data"
    },
    {
     "data": {
      "image/png": "[encoded data removed]",
      "text/plain": [
       "<Figure size 640x480 with 1 Axes>"
      ]
     },
     "metadata": {},
     "output_type": "display_data"
    }
   ],
   "source": [
    "(X_train, y_train), (X_test , y_test) = load_fashion_mnist(size=(1024, 512))\n",
    "\n",
    "params = {\n",
    "    \"name\": 'nas_fmnist_1',\n",
    "    'n_gen': 2,\n",
    "    'pop_size': 5,\n",
    "    'rate_crossover': 0.7,\n",
    "    'rate_mutation': 0.1,\n",
    "    'rate_local_search': 0.5,\n",
    "    'step_size': 0.1,\n",
    "    'train_data': (X_train, y_train),\n",
    "    'test_data': (X_test, y_test)\n",
    "}\n",
    "\n",
    "nas = Nsga_II(**params)\n",
    "\n",
    "if nas.valid:\n",
    "    nas.optimise()"
   ]
  }
 ],
 "metadata": {
  "kernelspec": {
   "display_name": "capsnet",
   "language": "python",
   "name": "python3"
  },
  "language_info": {
   "codemirror_mode": {
    "name": "ipython",
    "version": 3
   },
   "file_extension": ".py",
   "mimetype": "text/x-python",
   "name": "python",
   "nbconvert_exporter": "python",
   "pygments_lexer": "ipython3",
   "version": "3.10.11"
  },
  "orig_nbformat": 4
 },
 "nbformat": 4,
 "nbformat_minor": 2
}

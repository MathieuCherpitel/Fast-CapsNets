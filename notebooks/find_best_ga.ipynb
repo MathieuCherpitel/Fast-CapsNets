{
 "cells": [
  {
   "cell_type": "code",
   "execution_count": 8,
   "metadata": {},
   "outputs": [],
   "source": [
    "import os\n",
    "import sys\n",
    "import json\n",
    "import tensorflow as tf\n",
    "import time\n",
    "import numpy as np\n",
    "\n",
    "\n",
    "directory_path = os.path.abspath(os.path.join('../src'))\n",
    "if directory_path not in sys.path:\n",
    "    sys.path.append(directory_path)\n",
    "\n",
    "from NsgaII import Nsga_II\n",
    "from utils.load_data import load_mnist\n",
    "from CapsNet import CapsNet\n",
    "\n",
    "(X_train, y_train), (X_test , y_test) = load_mnist(size=(100, 100))"
   ]
  },
  {
   "cell_type": "code",
   "execution_count": 17,
   "metadata": {},
   "outputs": [
    {
     "name": "stderr",
     "output_type": "stream",
     "text": [
      "Epoch 1/4: 100%|██████████| 2/2 [00:07<00:00,  3.57s/it, Training loss : 0.0120, Validation loss : 0.0091]\n",
      "Epoch 2/4: 100%|██████████| 2/2 [00:00<00:00,  2.63it/s, Training loss : 0.0089, Validation loss : 0.0079]\n",
      "Epoch 3/4: 100%|██████████| 2/2 [00:00<00:00,  2.38it/s, Training loss : 0.0063, Validation loss : 0.0060]\n",
      "Epoch 4/4: 100%|██████████| 2/2 [00:00<00:00,  2.35it/s, Training loss : 0.0039, Validation loss : 0.0044]\n"
     ]
    },
    {
     "name": "stdout",
     "output_type": "stream",
     "text": [
      "accuracy : 0.961 to baseline : 0.975\n",
      "inference: 1.0114467144012451 to baseline : 1.0157986736297608\n",
      "params   : {'epochs': 4, 'r': 2, 'no_of_conv_kernels': 128, 'secondary_capsule_vector': 21, 'dense_1': 512, 'dense_2': 512, 'epsilon': 0.028260355549259476, 'm_plus': 0.9760870534395889, 'm_minus': 0.15549756855748642, 'lambda_': 0.10986019672353792, 'alpha': 0.01, 'no_of_primary_capsules': 32, 'primary_capsule_vector': 8, 'no_of_secondary_capsules': 10}\n",
      "==============================\n"
     ]
    },
    {
     "name": "stderr",
     "output_type": "stream",
     "text": [
      "Epoch 1/6: 100%|██████████| 2/2 [00:06<00:00,  3.13s/it, Training loss : 0.0132, Validation loss : 0.0231]\n",
      "Epoch 2/6: 100%|██████████| 2/2 [00:00<00:00,  3.02it/s, Training loss : 0.0176, Validation loss : 0.0125]\n",
      "Epoch 3/6: 100%|██████████| 2/2 [00:00<00:00,  3.29it/s, Training loss : 0.0114, Validation loss : 0.0099]\n",
      "Epoch 4/6: 100%|██████████| 2/2 [00:00<00:00,  3.35it/s, Training loss : 0.0088, Validation loss : 0.0083]\n",
      "Epoch 5/6: 100%|██████████| 2/2 [00:00<00:00,  3.35it/s, Training loss : 0.0069, Validation loss : 0.0076]\n",
      "Epoch 6/6: 100%|██████████| 2/2 [00:00<00:00,  2.84it/s, Training loss : 0.0055, Validation loss : 0.0064]\n"
     ]
    },
    {
     "name": "stdout",
     "output_type": "stream",
     "text": [
      "accuracy : 0.972 to baseline : 0.975\n",
      "inference: 0.8884057998657227 to baseline : 1.0157986736297608\n",
      "params   : {'epochs': 6, 'r': 2, 'no_of_conv_kernels': 128, 'secondary_capsule_vector': 7, 'dense_1': 768, 'dense_2': 1792, 'epsilon': 0.013853651423853135, 'm_plus': 0.9392223795556615, 'm_minus': 0.17863386888153665, 'lambda_': 0.6625412053374811, 'alpha': 0.006813614033745918, 'no_of_primary_capsules': 32, 'primary_capsule_vector': 8, 'no_of_secondary_capsules': 10}\n",
      "==============================\n"
     ]
    }
   ],
   "source": [
    "import json\n",
    "import time\n",
    "import numpy as np\n",
    "\n",
    "with open('../saved_ga/mnist-gpu0-hpc-0/solutions.json') as file:\n",
    "    data = json.load(file)\n",
    "\n",
    "for key, value in data.items():\n",
    "    params = value['params']\n",
    "\n",
    "    model = CapsNet(**params)\n",
    "    model.compile()\n",
    "    model.fit(X_train, y_train, tf.keras.optimizers.legacy.Adam(), train_metrics=['accuracy'], validation=(X_test, y_test))\n",
    "\n",
    "    n_rounds = 10\n",
    "    inf_time = []\n",
    "    for i in range(n_rounds):\n",
    "        start = time.time()\n",
    "        model.predict(X_test)\n",
    "        end = time.time()\n",
    "        inf_time.append((end - start) / len(X_test) * 1000)\n",
    "    print(\"accuracy :\", value['accuracy'], \"to baseline : 0.975\")\n",
    "    print(\"inference:\", np.mean(inf_time), \"to baseline : 1.0157986736297608\")\n",
    "    print(\"params   :\", params)\n",
    "    print(\"===\"*10)"
   ]
  }
 ],
 "metadata": {
  "kernelspec": {
   "display_name": "capsnet",
   "language": "python",
   "name": "python3"
  },
  "language_info": {
   "codemirror_mode": {
    "name": "ipython",
    "version": 3
   },
   "file_extension": ".py",
   "mimetype": "text/x-python",
   "name": "python",
   "nbconvert_exporter": "python",
   "pygments_lexer": "ipython3",
   "version": "3.10.11"
  },
  "orig_nbformat": 4
 },
 "nbformat": 4,
 "nbformat_minor": 2
}

{
 "cells": [
  {
   "cell_type": "code",
   "execution_count": 168,
   "metadata": {},
   "outputs": [],
   "source": [
    "import os\n",
    "import sys\n",
    "import tensorflow as tf\n",
    "\n",
    "directory_path = os.path.abspath(os.path.join('../src'))\n",
    "if directory_path not in sys.path:\n",
    "    sys.path.append(directory_path)\n",
    "\n",
    "from NsgaII import Nsga_II\n",
    "from utils.load_data import load_mnist\n",
    "from CapsNet import CapsNet\n",
    "\n",
    "(X_train, y_train), (X_test , y_test) = load_mnist(size=(5000, 3000))"
   ]
  },
  {
   "cell_type": "code",
   "execution_count": 169,
   "metadata": {},
   "outputs": [
    {
     "name": "stdout",
     "output_type": "stream",
     "text": [
      "{'epochs': 5, 'r': 2, 'no_of_conv_kernels': 64, 'secondary_capsule_vector': 6, 'dense_1': 256, 'dense_2': 512, 'epsilon': 0.08411185848750914, 'm_plus': 0.9504174153527706, 'm_minus': 0.1648052052496743, 'lambda_': 0.6831030565866469, 'alpha': 0.006858184909559632, 'no_of_primary_capsules': 32, 'primary_capsule_vector': 8, 'no_of_secondary_capsules': 10}\n",
      "Model: \"NasCapsNet\"\n",
      "_________________________________________________________________\n",
      " Layer (type)                Output Shape              Param #   \n",
      "=================================================================\n",
      " ConvolutionLayer (Conv2D)   multiple                  0 (unused)\n",
      "                                                                 \n",
      " PrimaryCapsule (Conv2D)     multiple                  0 (unused)\n",
      "                                                                 \n",
      " dense_66 (Dense)            multiple                  0 (unused)\n",
      "                                                                 \n",
      " dense_67 (Dense)            multiple                  0 (unused)\n",
      "                                                                 \n",
      "=================================================================\n",
      "Total params: 552,960\n",
      "Trainable params: 552,960\n",
      "Non-trainable params: 0\n",
      "_________________________________________________________________\n"
     ]
    }
   ],
   "source": [
    "params = {'epochs': 5, 'r': 2, 'no_of_conv_kernels': 64, 'secondary_capsule_vector': 6, 'dense_1': 256, 'dense_2': 512, 'epsilon': 0.08411185848750914, 'm_plus': 0.9504174153527706, 'm_minus': 0.1648052052496743, 'lambda_': 0.6831030565866469, 'alpha': 0.006858184909559632, 'no_of_primary_capsules': 32, 'primary_capsule_vector': 8, 'no_of_secondary_capsules': 10}\n",
    "\n",
    "print(params)\n",
    "NasCapsNet = CapsNet(**params)\n",
    "NasCapsNet._name = 'NasCapsNet'\n",
    "NasCapsNet.compile()\n",
    "NasCapsNet.summary()"
   ]
  },
  {
   "cell_type": "code",
   "execution_count": 170,
   "metadata": {},
   "outputs": [
    {
     "name": "stderr",
     "output_type": "stream",
     "text": [
      "Epoch 1/5: 100%|██████████| 79/79 [01:43<00:00,  1.31s/it, Training loss : 0.0046, Validation loss : 0.0029]\n",
      "Epoch 2/5: 100%|██████████| 79/79 [00:18<00:00,  4.36it/s, Training loss : 0.0024, Validation loss : 0.0026]\n",
      "Epoch 3/5: 100%|██████████| 79/79 [00:17<00:00,  4.44it/s, Training loss : 0.0022, Validation loss : 0.0026]\n",
      "Epoch 4/5: 100%|██████████| 79/79 [00:17<00:00,  4.45it/s, Training loss : 0.0021, Validation loss : 0.0023]\n",
      "Epoch 5/5: 100%|██████████| 79/79 [00:13<00:00,  6.01it/s]"
     ]
    },
    {
     "name": "stdout",
     "output_type": "stream",
     "text": [
      "Validation loss is not decreasing anymore, risk of overfitting the model after 5 epochs. The training will be stopped. This behavior can be modified by setting the early_stop property of the model to False\n"
     ]
    },
    {
     "name": "stderr",
     "output_type": "stream",
     "text": [
      "\n"
     ]
    },
    {
     "data": {
      "text/plain": [
       "{'accuracy': ListWrapper([0.9578, 0.9758, 0.9862, 0.9902]),\n",
       " 'loss': ListWrapper([0.4603039938956499, 0.2438753843307495, 0.21977468859404325, 0.2091642701998353]),\n",
       " 'val_accuracy': ListWrapper([0.9343333333333333, 0.952, 0.9586666666666667, 0.963]),\n",
       " 'val_loss': ListWrapper([0.29393548611551523, 0.2604683628305793, 0.2582251327112317, 0.2344982698559761])}"
      ]
     },
     "execution_count": 170,
     "metadata": {},
     "output_type": "execute_result"
    }
   ],
   "source": [
    "NasCapsNet.fit(X_train, y_train, tf.keras.optimizers.legacy.Adam(), train_metrics=['accuracy'], validation=(X_test, y_test))"
   ]
  },
  {
   "cell_type": "code",
   "execution_count": 171,
   "metadata": {},
   "outputs": [
    {
     "data": {
      "text/plain": [
       "[0.5456270376841228,\n",
       " 0.541628360748291,\n",
       " 0.5257422924041748,\n",
       " 0.5309889316558838,\n",
       " 0.5353047053019206,\n",
       " 0.5288573106129965,\n",
       " 0.5544916788736979,\n",
       " 0.5408573150634766,\n",
       " 0.559886614481608,\n",
       " 0.579330285390218,\n",
       " 0.5147770245869955,\n",
       " 0.5372196833292643,\n",
       " 0.554570992787679,\n",
       " 0.5288419723510742,\n",
       " 0.5393837292989095,\n",
       " 0.5513753096262614,\n",
       " 0.5284783045450847,\n",
       " 0.57115904490153,\n",
       " 0.5392993291219076,\n",
       " 0.5749640464782715,\n",
       " 0.5491913159688314,\n",
       " 0.5334579944610596,\n",
       " 0.5245856444040934,\n",
       " 0.530821959177653,\n",
       " 0.548986037572225,\n",
       " 0.5388176441192627,\n",
       " 0.5458673636118571,\n",
       " 0.5175636609395345,\n",
       " 0.5171703497568766,\n",
       " 0.5620182355244955,\n",
       " 0.5135625998179117,\n",
       " 0.5231983661651611,\n",
       " 0.535497268040975,\n",
       " 0.5514009793599447,\n",
       " 0.5297959645589193,\n",
       " 0.542270024617513,\n",
       " 0.4970160325368245,\n",
       " 0.5423913796742756,\n",
       " 0.5147303740183513,\n",
       " 0.5735843976338704,\n",
       " 0.5166159470876058,\n",
       " 0.5353612899780273,\n",
       " 0.528112014134725,\n",
       " 0.5295153458913168,\n",
       " 0.5159632364908854,\n",
       " 0.5256977081298828,\n",
       " 0.5519313017527262,\n",
       " 0.517997662226359,\n",
       " 0.498629093170166,\n",
       " 0.53022567431132,\n",
       " 0.5215203762054443,\n",
       " 0.5028402805328369,\n",
       " 0.5063737233479817,\n",
       " 0.5159937540690104,\n",
       " 0.5271667639414469,\n",
       " 0.5310513178507487,\n",
       " 0.5375049114227295,\n",
       " 0.5308906237284342,\n",
       " 0.6147770086924235,\n",
       " 0.672435998916626,\n",
       " 0.5578643480936686,\n",
       " 0.5713562965393066,\n",
       " 0.5085826714833578,\n",
       " 0.5095296700795491,\n",
       " 0.5456883112589518,\n",
       " 0.538313627243042,\n",
       " 0.5891769727071127,\n",
       " 0.5192802747090657,\n",
       " 0.49453735351562494,\n",
       " 0.5425052642822266,\n",
       " 0.4985570112864176,\n",
       " 0.5021104017893473,\n",
       " 0.5043652852376301,\n",
       " 0.5001283486684164,\n",
       " 0.5070153872172039,\n",
       " 0.5044279893239338,\n",
       " 0.5166366100311279,\n",
       " 0.5311366717020671,\n",
       " 0.5121099948883057,\n",
       " 0.5313933690388997,\n",
       " 0.4964116414388021,\n",
       " 0.5058343410491943,\n",
       " 0.4982517560323079,\n",
       " 0.5138266881306967,\n",
       " 0.5032833417256672,\n",
       " 0.6059850056966146,\n",
       " 0.5511995951334635,\n",
       " 0.499470313390096,\n",
       " 0.511603037516276,\n",
       " 0.5564029216766357,\n",
       " 0.5273306369781494,\n",
       " 0.5101746718088785,\n",
       " 0.5196136633555094,\n",
       " 0.510114351908366,\n",
       " 0.5260342756907145,\n",
       " 0.5398759841918945,\n",
       " 0.5167809327443441,\n",
       " 0.5278226534525554,\n",
       " 0.5173662503560384,\n",
       " 0.5572137037913005]"
      ]
     },
     "execution_count": 171,
     "metadata": {},
     "output_type": "execute_result"
    }
   ],
   "source": [
    "n_rounds = 100\n",
    "\n",
    "import time\n",
    "\n",
    "caps_nas_inv_time = []\n",
    "for i in range(n_rounds):\n",
    "    start = time.time()\n",
    "    NasCapsNet.predict(X_test)\n",
    "    end = time.time()\n",
    "    caps_nas_inv_time.append((end - start) / len(X_test) * 1000)\n",
    "caps_nas_inv_time"
   ]
  },
  {
   "cell_type": "code",
   "execution_count": 172,
   "metadata": {},
   "outputs": [
    {
     "name": "stdout",
     "output_type": "stream",
     "text": [
      "Model: \"BaselineCapsNetModel\"\n",
      "_________________________________________________________________\n",
      " Layer (type)                Output Shape              Param #   \n",
      "=================================================================\n",
      " ConvolutionLayer (Conv2D)   multiple                  0 (unused)\n",
      "                                                                 \n",
      " PrimaryCapsule (Conv2D)     multiple                  0 (unused)\n",
      "                                                                 \n",
      " dense_68 (Dense)            multiple                  0 (unused)\n",
      "                                                                 \n",
      " dense_69 (Dense)            multiple                  0 (unused)\n",
      "                                                                 \n",
      "=================================================================\n",
      "Total params: 1,474,560\n",
      "Trainable params: 1,474,560\n",
      "Non-trainable params: 0\n",
      "_________________________________________________________________\n"
     ]
    }
   ],
   "source": [
    "params = {\n",
    "    \"epochs\": 10,\n",
    "    \"epsilon\": 1e-7,\n",
    "    \"m_minus\": 0.1,\n",
    "    \"m_plus\": 0.9,\n",
    "    \"lambda_\": 0.5,\n",
    "    \"alpha\": 0.0005,\n",
    "    \"no_of_conv_kernels\": 128,\n",
    "    \"no_of_primary_capsules\": 32,\n",
    "    \"no_of_secondary_capsules\": 10,\n",
    "    \"primary_capsule_vector\": 8,\n",
    "    \"secondary_capsule_vector\": 16,\n",
    "    \"r\":3,\n",
    "    \"dense_1\": 512,\n",
    "    \"dense_2\": 1024\n",
    "}\n",
    "\n",
    "BaselineCapsNetModel = CapsNet(**params)\n",
    "BaselineCapsNetModel._name = 'BaselineCapsNetModel'\n",
    "BaselineCapsNetModel.compile()\n",
    "BaselineCapsNetModel.summary()"
   ]
  },
  {
   "cell_type": "code",
   "execution_count": 173,
   "metadata": {},
   "outputs": [
    {
     "name": "stderr",
     "output_type": "stream",
     "text": [
      "Epoch 1/10: 100%|██████████| 79/79 [02:44<00:00,  2.08s/it, Training loss : 0.0030, Validation loss : 0.0014]\n",
      "Epoch 2/10: 100%|██████████| 79/79 [00:38<00:00,  2.07it/s, Training loss : 0.0008, Validation loss : 0.0009]\n",
      "Epoch 3/10: 100%|██████████| 79/79 [00:39<00:00,  2.01it/s, Training loss : 0.0005, Validation loss : 0.0008]\n",
      "Epoch 4/10: 100%|██████████| 79/79 [00:38<00:00,  2.06it/s, Training loss : 0.0004, Validation loss : 0.0007]\n",
      "Epoch 5/10: 100%|██████████| 79/79 [00:40<00:00,  1.93it/s, Training loss : 0.0003, Validation loss : 0.0006]\n",
      "Epoch 6/10: 100%|██████████| 79/79 [00:42<00:00,  1.84it/s, Training loss : 0.0002, Validation loss : 0.0006]\n",
      "Epoch 7/10: 100%|██████████| 79/79 [00:37<00:00,  2.11it/s, Training loss : 0.0002, Validation loss : 0.0005]\n",
      "Epoch 8/10: 100%|██████████| 79/79 [00:27<00:00,  2.89it/s]"
     ]
    },
    {
     "name": "stdout",
     "output_type": "stream",
     "text": [
      "Validation loss is not decreasing anymore, risk of overfitting the model after 8 epochs. The training will be stopped. This behavior can be modified by setting the early_stop property of the model to False\n"
     ]
    },
    {
     "name": "stderr",
     "output_type": "stream",
     "text": [
      "\n"
     ]
    },
    {
     "data": {
      "text/plain": [
       "{'accuracy': ListWrapper([0.9586, 0.9806, 0.9894, 0.992, 0.9958, 0.9964, 0.9982]),\n",
       " 'loss': ListWrapper([0.30356450006365776, 0.07991684251464903, 0.05447108414955437, 0.04318792780395597, 0.03082038019783795, 0.02384691033512354, 0.01624761935090646]),\n",
       " 'val_accuracy': ListWrapper([0.932, 0.9546666666666667, 0.961, 0.9656666666666667, 0.965, 0.9643333333333334, 0.969]),\n",
       " 'val_loss': ListWrapper([0.1364526920951903, 0.09136365260928869, 0.0793572689872235, 0.07154160994105041, 0.06445719627663493, 0.05981018766760826, 0.05245499196462333])}"
      ]
     },
     "execution_count": 173,
     "metadata": {},
     "output_type": "execute_result"
    }
   ],
   "source": [
    "BaselineCapsNetModel.fit(X_train, y_train, tf.keras.optimizers.legacy.Adam(), train_metrics=['accuracy'], validation=(X_test, y_test))"
   ]
  },
  {
   "cell_type": "code",
   "execution_count": 174,
   "metadata": {},
   "outputs": [],
   "source": [
    "n_rounds = 100\n",
    "\n",
    "import time\n",
    "\n",
    "caps_inv_time = []\n",
    "for i in range(n_rounds):\n",
    "    start = time.time()\n",
    "    BaselineCapsNetModel.predict(X_test)\n",
    "    end = time.time()\n",
    "    caps_inv_time.append((end - start) / len(X_test) * 1000)"
   ]
  },
  {
   "cell_type": "code",
   "execution_count": 175,
   "metadata": {},
   "outputs": [
    {
     "data": {
      "text/plain": [
       "[1.0700980027516682,\n",
       " 1.0453852812449136,\n",
       " 1.0649840037027996,\n",
       " 1.067090670267741,\n",
       " 1.0789249738057454,\n",
       " 1.2116187413533528,\n",
       " 1.1304822762807212,\n",
       " 1.0375394026438396,\n",
       " 1.0823500156402588,\n",
       " 1.0768147309621177,\n",
       " 1.130808671315511,\n",
       " 1.0508679548899331,\n",
       " 1.0663082599639893,\n",
       " 1.1401739915211995,\n",
       " 1.0435505708058674,\n",
       " 1.1064426898956299,\n",
       " 1.1184316476186118,\n",
       " 1.0846999486287434,\n",
       " 1.1014269987742107,\n",
       " 1.065580685933431,\n",
       " 1.057714621225993,\n",
       " 1.1204817295074463,\n",
       " 1.131808360417684,\n",
       " 1.062264362970988,\n",
       " 0.975140651067098,\n",
       " 1.022499958674113,\n",
       " 1.05730930964152,\n",
       " 1.036854346593221,\n",
       " 1.0844016075134277,\n",
       " 1.106386661529541,\n",
       " 1.1210089524586995,\n",
       " 1.0097912947336833,\n",
       " 1.2030502955118814,\n",
       " 1.167991002400716,\n",
       " 1.0855849583943686,\n",
       " 1.068415641784668,\n",
       " 1.0515006383260093,\n",
       " 1.099898338317871,\n",
       " 1.061762015024821,\n",
       " 1.074704647064209,\n",
       " 1.1590163707733154,\n",
       " 1.0317010084788005,\n",
       " 1.0117976665496826,\n",
       " 1.0359686215718589,\n",
       " 1.0558313528696697,\n",
       " 1.072995662689209,\n",
       " 1.036955992380778,\n",
       " 1.1089297135670981,\n",
       " 1.1455126603444417,\n",
       " 1.1271003882090251,\n",
       " 1.0999855995178223,\n",
       " 1.0211726824442546,\n",
       " 1.0041437149047852,\n",
       " 0.9968512852986653,\n",
       " 1.017210086186727,\n",
       " 1.0522333780924478,\n",
       " 1.0132209459940593,\n",
       " 1.0043580532073975,\n",
       " 1.0177710056304932,\n",
       " 1.0129535992940268,\n",
       " 1.052337646484375,\n",
       " 1.0396642684936523,\n",
       " 1.0054436524709065,\n",
       " 1.0403040250142415,\n",
       " 1.0833652814229329,\n",
       " 1.1173292795817056,\n",
       " 1.0287067095438638,\n",
       " 1.0323029359181723,\n",
       " 1.0585599740346272,\n",
       " 1.049288272857666,\n",
       " 1.049811045328776,\n",
       " 0.9998316764831543,\n",
       " 1.0375853379567466,\n",
       " 1.085330327351888,\n",
       " 1.2127209504445393,\n",
       " 1.2240399519602458,\n",
       " 1.0460739930470784,\n",
       " 1.0160406430562336,\n",
       " 1.0501843293507895,\n",
       " 1.0216752688090005,\n",
       " 1.1222319602966309,\n",
       " 1.1131923993428547,\n",
       " 1.0450046062469482,\n",
       " 1.0834407011667886,\n",
       " 0.9643123149871826,\n",
       " 0.9928466478983562,\n",
       " 0.9683822790781657,\n",
       " 0.9871602853139241,\n",
       " 1.0299366315205893,\n",
       " 1.1248772939046225,\n",
       " 1.0592683951059978,\n",
       " 1.0195246537526448,\n",
       " 1.0201716423034668,\n",
       " 1.0227650006612143,\n",
       " 1.0595176219940186,\n",
       " 1.0420160293579102,\n",
       " 1.0513410568237305,\n",
       " 1.0363202889760335,\n",
       " 1.061811049779256,\n",
       " 1.1065290768941243]"
      ]
     },
     "execution_count": 175,
     "metadata": {},
     "output_type": "execute_result"
    }
   ],
   "source": [
    "caps_inv_time"
   ]
  },
  {
   "cell_type": "code",
   "execution_count": 176,
   "metadata": {},
   "outputs": [
    {
     "data": {
      "text/plain": [
       "1.0655910420417785"
      ]
     },
     "execution_count": 176,
     "metadata": {},
     "output_type": "execute_result"
    }
   ],
   "source": [
    "import numpy as np\n",
    "\n",
    "np.mean(caps_inv_time)"
   ]
  },
  {
   "cell_type": "code",
   "execution_count": 177,
   "metadata": {},
   "outputs": [
    {
     "name": "stdout",
     "output_type": "stream",
     "text": [
      "Model: \"sequential_3\"\n",
      "_________________________________________________________________\n",
      " Layer (type)                Output Shape              Param #   \n",
      "=================================================================\n",
      " conv2d_3 (Conv2D)           (None, 26, 26, 32)        320       \n",
      "                                                                 \n",
      " max_pooling2d_3 (MaxPooling  (None, 13, 13, 32)       0         \n",
      " 2D)                                                             \n",
      "                                                                 \n",
      " flatten_3 (Flatten)         (None, 5408)              0         \n",
      "                                                                 \n",
      " dense_70 (Dense)            (None, 100)               540900    \n",
      "                                                                 \n",
      " dense_71 (Dense)            (None, 10)                1010      \n",
      "                                                                 \n",
      "=================================================================\n",
      "Total params: 542,230\n",
      "Trainable params: 542,230\n",
      "Non-trainable params: 0\n",
      "_________________________________________________________________\n"
     ]
    }
   ],
   "source": [
    "ConvNetModel = tf.keras.Sequential([\n",
    "    tf.keras.layers.Conv2D(32, (3, 3), activation='relu', input_shape=(28, 28, 1)),\n",
    "    tf.keras.layers.MaxPooling2D((2, 2)),\n",
    "    tf.keras.layers.Flatten(),\n",
    "    tf.keras.layers.Dense(100, activation='relu'),\n",
    "    tf.keras.layers.Dense(10, activation='softmax')\n",
    "])\n",
    "ConvNetModel.summary()"
   ]
  },
  {
   "cell_type": "code",
   "execution_count": 178,
   "metadata": {},
   "outputs": [],
   "source": [
    "ConvNetModel.compile(tf.optimizers.legacy.Adam(), loss='categorical_crossentropy', metrics=['accuracy'])\n",
    "tf_y_train = tf.keras.utils.to_categorical(y_train)\n",
    "tf_y_test = tf.keras.utils.to_categorical(y_test)"
   ]
  },
  {
   "cell_type": "code",
   "execution_count": 179,
   "metadata": {},
   "outputs": [
    {
     "name": "stdout",
     "output_type": "stream",
     "text": [
      "Epoch 1/10\n",
      "157/157 [==============================] - 1s 6ms/step - loss: 0.5595 - accuracy: 0.8360 - val_loss: 0.4034 - val_accuracy: 0.8733\n",
      "Epoch 2/10\n",
      "157/157 [==============================] - 1s 5ms/step - loss: 0.2189 - accuracy: 0.9366 - val_loss: 0.2763 - val_accuracy: 0.9150\n",
      "Epoch 3/10\n",
      "157/157 [==============================] - 1s 5ms/step - loss: 0.1384 - accuracy: 0.9602 - val_loss: 0.2049 - val_accuracy: 0.9370\n",
      "Epoch 4/10\n",
      "157/157 [==============================] - 1s 6ms/step - loss: 0.0840 - accuracy: 0.9762 - val_loss: 0.2001 - val_accuracy: 0.9357\n",
      "Epoch 5/10\n",
      "157/157 [==============================] - 1s 6ms/step - loss: 0.0585 - accuracy: 0.9854 - val_loss: 0.1778 - val_accuracy: 0.9430\n",
      "Epoch 6/10\n",
      "157/157 [==============================] - 1s 5ms/step - loss: 0.0413 - accuracy: 0.9904 - val_loss: 0.1643 - val_accuracy: 0.9453\n",
      "Epoch 7/10\n",
      "157/157 [==============================] - 1s 7ms/step - loss: 0.0254 - accuracy: 0.9944 - val_loss: 0.1595 - val_accuracy: 0.9510\n",
      "Epoch 8/10\n",
      "157/157 [==============================] - 1s 6ms/step - loss: 0.0166 - accuracy: 0.9978 - val_loss: 0.1590 - val_accuracy: 0.9493\n",
      "Epoch 9/10\n",
      "157/157 [==============================] - 1s 6ms/step - loss: 0.0103 - accuracy: 0.9982 - val_loss: 0.1613 - val_accuracy: 0.9513\n",
      "Epoch 10/10\n",
      "157/157 [==============================] - 1s 6ms/step - loss: 0.0061 - accuracy: 0.9996 - val_loss: 0.1616 - val_accuracy: 0.9530\n"
     ]
    }
   ],
   "source": [
    "history = ConvNetModel.fit(X_train, tf_y_train, epochs=10, batch_size=32, validation_data=(X_test, tf_y_test))"
   ]
  },
  {
   "cell_type": "code",
   "execution_count": 180,
   "metadata": {},
   "outputs": [
    {
     "name": "stdout",
     "output_type": "stream",
     "text": [
      "94/94 [==============================] - 0s 1ms/step\n",
      "94/94 [==============================] - 0s 2ms/step\n",
      "94/94 [==============================] - 0s 1ms/step\n",
      "94/94 [==============================] - 0s 1ms/step\n",
      "94/94 [==============================] - 0s 1ms/step\n",
      "94/94 [==============================] - 0s 1ms/step\n",
      "94/94 [==============================] - 0s 1ms/step\n",
      "94/94 [==============================] - 0s 1ms/step\n",
      "94/94 [==============================] - 0s 1ms/step\n",
      "94/94 [==============================] - 0s 1ms/step\n",
      "94/94 [==============================] - 0s 1ms/step\n",
      "94/94 [==============================] - 0s 1ms/step\n",
      "94/94 [==============================] - 0s 1ms/step\n",
      "94/94 [==============================] - 0s 1ms/step\n",
      "94/94 [==============================] - 0s 1ms/step\n",
      "94/94 [==============================] - 0s 2ms/step\n",
      "94/94 [==============================] - 0s 1ms/step\n",
      "94/94 [==============================] - 0s 1ms/step\n",
      "94/94 [==============================] - 0s 1ms/step\n",
      "94/94 [==============================] - 0s 1ms/step\n",
      "94/94 [==============================] - 0s 1ms/step\n",
      "94/94 [==============================] - 0s 1ms/step\n",
      "94/94 [==============================] - 0s 2ms/step\n",
      "94/94 [==============================] - 0s 2ms/step\n",
      "94/94 [==============================] - 0s 1ms/step\n",
      "94/94 [==============================] - 0s 2ms/step\n",
      "94/94 [==============================] - 0s 1ms/step\n",
      "94/94 [==============================] - 0s 2ms/step\n",
      "94/94 [==============================] - 0s 1ms/step\n",
      "94/94 [==============================] - 0s 2ms/step\n",
      "94/94 [==============================] - 0s 1ms/step\n",
      "94/94 [==============================] - 0s 1ms/step\n",
      "94/94 [==============================] - 0s 1ms/step\n",
      "94/94 [==============================] - 0s 1ms/step\n",
      "94/94 [==============================] - 0s 1ms/step\n",
      "94/94 [==============================] - 0s 1ms/step\n",
      "94/94 [==============================] - 0s 1ms/step\n",
      "94/94 [==============================] - 0s 1ms/step\n",
      "94/94 [==============================] - 0s 2ms/step\n",
      "94/94 [==============================] - 0s 1ms/step\n",
      "94/94 [==============================] - 0s 1ms/step\n",
      "94/94 [==============================] - 0s 1ms/step\n",
      "94/94 [==============================] - 0s 1ms/step\n",
      "94/94 [==============================] - 0s 1ms/step\n",
      "94/94 [==============================] - 0s 1ms/step\n",
      "94/94 [==============================] - 0s 1ms/step\n",
      "94/94 [==============================] - 0s 1ms/step\n",
      "94/94 [==============================] - 0s 1ms/step\n",
      "94/94 [==============================] - 0s 1ms/step\n",
      "94/94 [==============================] - 0s 1ms/step\n",
      "94/94 [==============================] - 0s 1ms/step\n",
      "94/94 [==============================] - 0s 1ms/step\n",
      "94/94 [==============================] - 0s 1ms/step\n",
      "94/94 [==============================] - 0s 1ms/step\n",
      "94/94 [==============================] - 0s 1ms/step\n",
      "94/94 [==============================] - 0s 1ms/step\n",
      "94/94 [==============================] - 0s 1ms/step\n",
      "94/94 [==============================] - 0s 1ms/step\n",
      "94/94 [==============================] - 0s 1ms/step\n",
      "94/94 [==============================] - 0s 1ms/step\n",
      "94/94 [==============================] - 0s 1ms/step\n",
      "94/94 [==============================] - 0s 2ms/step\n",
      "94/94 [==============================] - 0s 1ms/step\n",
      "94/94 [==============================] - 0s 1ms/step\n",
      "94/94 [==============================] - 0s 1ms/step\n",
      "94/94 [==============================] - 0s 1ms/step\n",
      "94/94 [==============================] - 0s 1ms/step\n",
      "94/94 [==============================] - 0s 1ms/step\n",
      "94/94 [==============================] - 0s 1ms/step\n",
      "94/94 [==============================] - 0s 1ms/step\n",
      "94/94 [==============================] - 0s 1ms/step\n",
      "94/94 [==============================] - 0s 1ms/step\n",
      "94/94 [==============================] - 0s 1ms/step\n",
      "94/94 [==============================] - 0s 1ms/step\n",
      "94/94 [==============================] - 0s 1ms/step\n",
      "94/94 [==============================] - 0s 1ms/step\n",
      "94/94 [==============================] - 0s 1ms/step\n",
      "94/94 [==============================] - 0s 1ms/step\n",
      "94/94 [==============================] - 0s 1ms/step\n",
      "94/94 [==============================] - 0s 1ms/step\n",
      "94/94 [==============================] - 0s 1ms/step\n",
      "94/94 [==============================] - 0s 1ms/step\n",
      "94/94 [==============================] - 0s 1ms/step\n",
      "94/94 [==============================] - 0s 1ms/step\n",
      "94/94 [==============================] - 0s 1ms/step\n",
      "94/94 [==============================] - 0s 1ms/step\n",
      "94/94 [==============================] - 0s 1ms/step\n",
      "94/94 [==============================] - 0s 1ms/step\n",
      "94/94 [==============================] - 0s 1ms/step\n",
      "94/94 [==============================] - 0s 1ms/step\n",
      "94/94 [==============================] - 0s 1ms/step\n",
      "94/94 [==============================] - 0s 1ms/step\n",
      "94/94 [==============================] - 0s 1ms/step\n",
      "94/94 [==============================] - 0s 1ms/step\n",
      "94/94 [==============================] - 0s 1ms/step\n",
      "94/94 [==============================] - 0s 1ms/step\n",
      "94/94 [==============================] - 0s 1ms/step\n",
      "94/94 [==============================] - 0s 1ms/step\n",
      "94/94 [==============================] - 0s 1ms/step\n",
      "94/94 [==============================] - 0s 1ms/step\n"
     ]
    }
   ],
   "source": [
    "n_rounds = 100\n",
    "\n",
    "import time\n",
    "\n",
    "cnn_inv_time = []\n",
    "for i in range(n_rounds):\n",
    "    start = time.time()\n",
    "    ConvNetModel.predict(X_test)\n",
    "    end = time.time()\n",
    "    cnn_inv_time.append((end - start) / len(X_test) * 1000)"
   ]
  },
  {
   "cell_type": "code",
   "execution_count": 181,
   "metadata": {},
   "outputs": [
    {
     "data": {
      "text/plain": [
       "[0.06638900438944499,\n",
       " 0.059379021326700844,\n",
       " 0.058427651723225914,\n",
       " 0.04843966166178386,\n",
       " 0.04971798261006673,\n",
       " 0.0484920342763265,\n",
       " 0.05398996671040853,\n",
       " 0.05405569076538086,\n",
       " 0.05215771993001302,\n",
       " 0.05303764343261719,\n",
       " 0.04997571309407552,\n",
       " 0.0535283088684082,\n",
       " 0.05414970715840657,\n",
       " 0.0549320379892985,\n",
       " 0.05012901624043783,\n",
       " 0.06527845064798991,\n",
       " 0.05648930867513021,\n",
       " 0.048722028732299805,\n",
       " 0.04774594306945801,\n",
       " 0.0474709669748942,\n",
       " 0.04990069071451823,\n",
       " 0.05394665400187174,\n",
       " 0.07042256991068523,\n",
       " 0.06081589063008626,\n",
       " 0.05092390378316243,\n",
       " 0.06296141942342123,\n",
       " 0.05429999033610026,\n",
       " 0.05873497327168782,\n",
       " 0.05257105827331543,\n",
       " 0.05789868036905924,\n",
       " 0.04997730255126953,\n",
       " 0.05115803082784017,\n",
       " 0.04863333702087402,\n",
       " 0.049094994862874344,\n",
       " 0.04869667689005534,\n",
       " 0.047983010609944664,\n",
       " 0.05003635088602702,\n",
       " 0.05020697911580404,\n",
       " 0.0579683780670166,\n",
       " 0.04992135365804037,\n",
       " 0.05121000607808431,\n",
       " 0.054079929987589516,\n",
       " 0.052909294764200844,\n",
       " 0.05314826965332031,\n",
       " 0.04911661148071289,\n",
       " 0.050923665364583336,\n",
       " 0.05429228146870931,\n",
       " 0.05248610178629557,\n",
       " 0.04964566230773926,\n",
       " 0.049728314081827804,\n",
       " 0.04946764310201009,\n",
       " 0.04920736948649089,\n",
       " 0.05153369903564453,\n",
       " 0.04982574780782063,\n",
       " 0.05121032396952311,\n",
       " 0.051018317540486656,\n",
       " 0.04851531982421875,\n",
       " 0.04699063301086426,\n",
       " 0.04738434155782064,\n",
       " 0.04754432042439779,\n",
       " 0.04790608088175456,\n",
       " 0.0706932544708252,\n",
       " 0.056825002034505204,\n",
       " 0.0549174149831136,\n",
       " 0.0554052988688151,\n",
       " 0.05202404657999674,\n",
       " 0.0493613084157308,\n",
       " 0.049507061640421554,\n",
       " 0.04727991422017415,\n",
       " 0.047671635945638016,\n",
       " 0.048441966374715165,\n",
       " 0.050626913706461586,\n",
       " 0.050489346186319985,\n",
       " 0.048276265462239586,\n",
       " 0.04767632484436035,\n",
       " 0.04795630772908529,\n",
       " 0.04869977633158366,\n",
       " 0.048276662826538086,\n",
       " 0.04714075724283854,\n",
       " 0.048979759216308594,\n",
       " 0.046614011128743485,\n",
       " 0.04759931564331055,\n",
       " 0.04699134826660156,\n",
       " 0.04650529225667318,\n",
       " 0.04795034726460775,\n",
       " 0.04695574442545573,\n",
       " 0.04732537269592285,\n",
       " 0.04872663815816244,\n",
       " 0.047328074773152665,\n",
       " 0.04705166816711426,\n",
       " 0.048263708750406906,\n",
       " 0.04811199506123861,\n",
       " 0.05211265881856283,\n",
       " 0.04759899775187174,\n",
       " 0.048318068186442055,\n",
       " 0.04833277066548665,\n",
       " 0.051978985468546554,\n",
       " 0.05196301142374674,\n",
       " 0.052440643310546875,\n",
       " 0.04776708285013835]"
      ]
     },
     "execution_count": 181,
     "metadata": {},
     "output_type": "execute_result"
    }
   ],
   "source": [
    "cnn_inv_time"
   ]
  },
  {
   "cell_type": "code",
   "execution_count": 182,
   "metadata": {},
   "outputs": [
    {
     "data": {
      "image/png": "[encoded data removed]",
      "text/plain": [
       "<Figure size 1200x500 with 3 Axes>"
      ]
     },
     "metadata": {},
     "output_type": "display_data"
    }
   ],
   "source": [
    "import matplotlib.pyplot as plt\n",
    "import time\n",
    "import pandas as pd\n",
    "\n",
    "NasCapsNet.training_metrics = {\n",
    "    'loss': NasCapsNet.training_metrics['loss'],\n",
    "    'accuracy': NasCapsNet.training_metrics['accuracy'],\n",
    "    'val_loss': NasCapsNet.training_metrics['val_loss'],\n",
    "    'val_accuracy': NasCapsNet.training_metrics['val_accuracy'],\n",
    "}\n",
    "\n",
    "BaselineCapsNetModel.training_metrics = {\n",
    "    'loss': BaselineCapsNetModel.training_metrics['loss'],\n",
    "    'accuracy': BaselineCapsNetModel.training_metrics['accuracy'],\n",
    "    'val_loss': BaselineCapsNetModel.training_metrics['val_loss'],\n",
    "    'val_accuracy': BaselineCapsNetModel.training_metrics['val_accuracy'],\n",
    "}\n",
    "\n",
    "fig, axes = plt.subplots(1, 3, figsize=(12, 5))\n",
    "\n",
    "df_baseline = pd.DataFrame(history.history)\n",
    "plot_baseline = df_baseline.plot(ax=axes[0], title=\"CNN model\", legend=False)\n",
    "axes[0].set_ylim(0, 1)\n",
    "axes[0].set_xlim(0, 9)\n",
    "\n",
    "df_capsnet = pd.DataFrame(BaselineCapsNetModel.training_metrics)\n",
    "plot_capsnet = df_capsnet.plot(ax=axes[1], title=\"CapsNet baseline model\", legend=False)  # Set legend=False here\n",
    "axes[1].set_ylim(0, 1)\n",
    "axes[1].set_xlim(0, 6)\n",
    "\n",
    "df_capsnet_nas = pd.DataFrame(NasCapsNet.training_metrics)\n",
    "plot_capsnet_nas = df_capsnet_nas.plot(ax=axes[2], title=\"CapsNet solution model\", legend=False)  # Set legend=False here\n",
    "axes[2].set_ylim(0, 1)\n",
    "axes[2].set_xlim(0, 5)\n",
    "\n",
    "axes[0].set_xlabel(\"Epochs\")\n",
    "axes[1].set_xlabel(\"Epochs\")\n",
    "axes[2].set_xlabel(\"Epochs\")\n",
    "\n",
    "# Show only one legend for all three plots\n",
    "handles, labels = axes[2].get_legend_handles_labels()\n",
    "fig.legend(handles, labels, loc='lower center', bbox_to_anchor=(0.5, -0.05), fancybox=True, ncol=4)\n",
    "\n",
    "plt.tight_layout()\n",
    "plt.show()\n"
   ]
  },
  {
   "cell_type": "code",
   "execution_count": 183,
   "metadata": {},
   "outputs": [
    {
     "data": {
      "image/png": "[encoded data removed]",
      "text/plain": [
       "<Figure size 800x600 with 1 Axes>"
      ]
     },
     "metadata": {},
     "output_type": "display_data"
    }
   ],
   "source": [
    "df = pd.DataFrame({\n",
    "    \"conv\": cnn_inv_time,\n",
    "    \"caps\": caps_inv_time,\n",
    "    \"caps nas\": caps_nas_inv_time\n",
    "})\n",
    "plt.figure(figsize=(8, 6))\n",
    "plt.boxplot(df.values, labels=df.columns)\n",
    "plt.title('Inference Time Comparison')\n",
    "plt.xlabel('Model')\n",
    "plt.ylabel('Inference Time (ms)')\n",
    "plt.grid(True)\n",
    "plt.show()"
   ]
  },
  {
   "cell_type": "code",
   "execution_count": 184,
   "metadata": {},
   "outputs": [
    {
     "data": {
      "image/png": "[encoded data removed]",
      "text/plain": [
       "<Figure size 640x480 with 1 Axes>"
      ]
     },
     "metadata": {},
     "output_type": "display_data"
    }
   ],
   "source": [
    "df = pd.DataFrame({\n",
    "    'conv': {'acc': history.history['accuracy'][-1], 'val_acc': history.history['val_accuracy'][-1]},\n",
    "    'caps': {'acc': BaselineCapsNetModel.training_metrics['accuracy'][-1], 'val_acc': BaselineCapsNetModel.training_metrics['val_accuracy'][-1]},\n",
    "    'caps_nas': {'acc': NasCapsNet.training_metrics['accuracy'][-1], 'val_acc': NasCapsNet.training_metrics['val_accuracy'][-1]},\n",
    "})\n",
    "\n",
    "df = df.T\n",
    "df.plot(kind='bar')\n",
    "plt.xlabel('Model')\n",
    "plt.ylabel('Accuracy')\n",
    "plt.title('Accuracy Comparison')\n",
    "plt.legend(title='Metric', loc='center left', bbox_to_anchor=(1, 0.5))\n",
    "plt.show()"
   ]
  }
 ],
 "metadata": {
  "kernelspec": {
   "display_name": "capsnet",
   "language": "python",
   "name": "python3"
  },
  "language_info": {
   "codemirror_mode": {
    "name": "ipython",
    "version": 3
   },
   "file_extension": ".py",
   "mimetype": "text/x-python",
   "name": "python",
   "nbconvert_exporter": "python",
   "pygments_lexer": "ipython3",
   "version": "3.10.11"
  },
  "orig_nbformat": 4
 },
 "nbformat": 4,
 "nbformat_minor": 2
}

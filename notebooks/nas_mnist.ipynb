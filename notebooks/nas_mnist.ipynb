{
 "cells": [
  {
   "attachments": {},
   "cell_type": "markdown",
   "metadata": {},
   "source": [
    "# NAS on CapsNet on MNIST dataset"
   ]
  },
  {
   "cell_type": "code",
   "execution_count": 29,
   "metadata": {},
   "outputs": [],
   "source": [
    "# Setting PATH to import CapsNet class from python file to notebook\n",
    "\n",
    "import os\n",
    "import sys\n",
    "import tensorflow as tf\n",
    "\n",
    "directory_path = os.path.abspath(os.path.join('../src'))\n",
    "if directory_path not in sys.path:\n",
    "    sys.path.append(directory_path)\n",
    "\n",
    "from NsgaII import Nsga_II\n",
    "from utils.load_data import load_mnist\n",
    "from CapsNet import CapsNet"
   ]
  },
  {
   "cell_type": "code",
   "execution_count": 30,
   "metadata": {},
   "outputs": [
    {
     "name": "stdout",
     "output_type": "stream",
     "text": [
      "A ga has been saved under the same name (nas_mnist_1) replace ?\n",
      "=== Generation 1/2\n",
      "Len of pop before manipulations : 10\n",
      "crossover created 6 offspring(s)\n",
      "mutation created 5 offspring(s)\n",
      "local search created 2 offspring(s)\n",
      "Len of pop after manipulations : 23\n",
      "Fitting individual 1/23 with genotype {'epochs': 4, 'r': 4, 'no_of_conv_kernels': 64, 'secondary_capsule_vector': 47, 'epsilon': 0.07681448841936944, 'm_plus': 0.9682750370803435, 'm_minus': 0.19138123792827966, 'lambda_': 0.9195772489415348, 'alpha': 0.00045246960384149, 'no_of_primary_capsules': 32, 'primary_capsule_vector': 8, 'no_of_secondary_capsules': 10}\n"
     ]
    },
    {
     "name": "stderr",
     "output_type": "stream",
     "text": [
      "Epoch 1/4: 100%|██████████| 8/8 [00:17<00:00,  2.14s/it, Training loss : 0.0087, Validation loss : 0.0093]\n",
      "Epoch 2/4: 100%|██████████| 8/8 [00:04<00:00,  1.66it/s, Training loss : 0.0059, Validation loss : 0.0071]\n",
      "Epoch 3/4: 100%|██████████| 8/8 [00:04<00:00,  1.70it/s, Training loss : 0.0044, Validation loss : 0.0062]\n",
      "Epoch 4/4: 100%|██████████| 8/8 [00:04<00:00,  1.69it/s, Training loss : 0.0035, Validation loss : 0.0051]\n"
     ]
    },
    {
     "name": "stdout",
     "output_type": "stream",
     "text": [
      "Fitting individual 2/23 with genotype {'epochs': 6, 'r': 3, 'no_of_conv_kernels': 32, 'secondary_capsule_vector': 11, 'epsilon': 0.06024632554009842, 'm_plus': 0.943141653992636, 'm_minus': 0.06851804976351031, 'lambda_': 0.6791863998426438, 'alpha': 0.007083280875562993, 'no_of_primary_capsules': 32, 'primary_capsule_vector': 8, 'no_of_secondary_capsules': 10}\n"
     ]
    },
    {
     "name": "stderr",
     "output_type": "stream",
     "text": [
      "Epoch 1/6: 100%|██████████| 8/8 [00:10<00:00,  1.36s/it, Training loss : 0.0107, Validation loss : 0.0124]\n",
      "Epoch 2/6: 100%|██████████| 8/8 [00:01<00:00,  4.90it/s, Training loss : 0.0081, Validation loss : 0.0099]\n",
      "Epoch 3/6: 100%|██████████| 8/8 [00:01<00:00,  5.17it/s, Training loss : 0.0064, Validation loss : 0.0093]\n",
      "Epoch 4/6: 100%|██████████| 8/8 [00:01<00:00,  5.15it/s, Training loss : 0.0057, Validation loss : 0.0080]\n",
      "Epoch 5/6: 100%|██████████| 8/8 [00:01<00:00,  5.14it/s, Training loss : 0.0051, Validation loss : 0.0074]\n",
      "Epoch 6/6: 100%|██████████| 8/8 [00:01<00:00,  5.16it/s, Training loss : 0.0047, Validation loss : 0.0074]\n"
     ]
    },
    {
     "name": "stdout",
     "output_type": "stream",
     "text": [
      "Fitting individual 3/23 with genotype {'epochs': 4, 'r': 4, 'no_of_conv_kernels': 64, 'secondary_capsule_vector': 38, 'epsilon': 0.03145205493061102, 'm_plus': 0.9472008817830653, 'm_minus': 0.18327469841314215, 'lambda_': 0.5160065064404878, 'alpha': 0.004276723340741172, 'no_of_primary_capsules': 32, 'primary_capsule_vector': 8, 'no_of_secondary_capsules': 10}\n"
     ]
    },
    {
     "name": "stderr",
     "output_type": "stream",
     "text": [
      "Epoch 1/4: 100%|██████████| 8/8 [00:15<00:00,  1.93s/it, Training loss : 0.0100, Validation loss : 0.0092]\n",
      "Epoch 2/4: 100%|██████████| 8/8 [00:03<00:00,  2.32it/s, Training loss : 0.0065, Validation loss : 0.0070]\n",
      "Epoch 3/4: 100%|██████████| 8/8 [00:03<00:00,  2.33it/s, Training loss : 0.0043, Validation loss : 0.0048]\n",
      "Epoch 4/4: 100%|██████████| 8/8 [00:03<00:00,  2.37it/s, Training loss : 0.0029, Validation loss : 0.0039]\n"
     ]
    },
    {
     "name": "stdout",
     "output_type": "stream",
     "text": [
      "Fitting individual 4/23 with genotype {'epochs': 8, 'r': 2, 'no_of_conv_kernels': 128, 'secondary_capsule_vector': 29, 'epsilon': 0.05513698811649692, 'm_plus': 0.927030504300704, 'm_minus': 0.05354311497363591, 'lambda_': 0.4450531286690841, 'alpha': 0.008576544768202351, 'no_of_primary_capsules': 32, 'primary_capsule_vector': 8, 'no_of_secondary_capsules': 10}\n"
     ]
    },
    {
     "name": "stderr",
     "output_type": "stream",
     "text": [
      "Epoch 1/8: 100%|██████████| 8/8 [00:08<00:00,  1.11s/it, Training loss : 0.0096, Validation loss : 0.0095]\n",
      "Epoch 2/8: 100%|██████████| 8/8 [00:02<00:00,  3.02it/s, Training loss : 0.0060, Validation loss : 0.0070]\n",
      "Epoch 3/8: 100%|██████████| 8/8 [00:02<00:00,  3.00it/s, Training loss : 0.0046, Validation loss : 0.0063]\n",
      "Epoch 4/8: 100%|██████████| 8/8 [00:02<00:00,  3.01it/s, Training loss : 0.0039, Validation loss : 0.0056]\n",
      "Epoch 5/8: 100%|██████████| 8/8 [00:02<00:00,  3.00it/s, Training loss : 0.0035, Validation loss : 0.0051]\n",
      "Epoch 6/8: 100%|██████████| 8/8 [00:02<00:00,  2.97it/s, Training loss : 0.0032, Validation loss : 0.0047]\n",
      "Epoch 7/8: 100%|██████████| 8/8 [00:02<00:00,  2.90it/s, Training loss : 0.0030, Validation loss : 0.0046]\n",
      "Epoch 8/8: 100%|██████████| 8/8 [00:02<00:00,  2.99it/s, Training loss : 0.0028, Validation loss : 0.0043]\n"
     ]
    },
    {
     "name": "stdout",
     "output_type": "stream",
     "text": [
      "Fitting individual 5/23 with genotype {'epochs': 9, 'r': 2, 'no_of_conv_kernels': 32, 'secondary_capsule_vector': 17, 'epsilon': 0.09381170498676662, 'm_plus': 0.9180899836298325, 'm_minus': 0.10485632185796447, 'lambda_': 0.3725988829714305, 'alpha': 0.00500346658531053, 'no_of_primary_capsules': 32, 'primary_capsule_vector': 8, 'no_of_secondary_capsules': 10}\n"
     ]
    },
    {
     "name": "stderr",
     "output_type": "stream",
     "text": [
      "Epoch 1/9: 100%|██████████| 8/8 [00:07<00:00,  1.04it/s, Training loss : 0.0076, Validation loss : 0.0080]\n",
      "Epoch 2/9: 100%|██████████| 8/8 [00:01<00:00,  5.42it/s, Training loss : 0.0051, Validation loss : 0.0065]\n",
      "Epoch 3/9: 100%|██████████| 8/8 [00:01<00:00,  5.17it/s, Training loss : 0.0042, Validation loss : 0.0060]\n",
      "Epoch 4/9: 100%|██████████| 8/8 [00:01<00:00,  5.44it/s, Training loss : 0.0037, Validation loss : 0.0052]\n",
      "Epoch 5/9: 100%|██████████| 8/8 [00:01<00:00,  5.23it/s, Training loss : 0.0033, Validation loss : 0.0049]\n",
      "Epoch 6/9: 100%|██████████| 8/8 [00:01<00:00,  5.45it/s, Training loss : 0.0031, Validation loss : 0.0045]\n",
      "Epoch 7/9: 100%|██████████| 8/8 [00:01<00:00,  5.39it/s, Training loss : 0.0029, Validation loss : 0.0043]\n",
      "Epoch 8/9: 100%|██████████| 8/8 [00:01<00:00,  5.43it/s, Training loss : 0.0028, Validation loss : 0.0042]\n",
      "Epoch 9/9: 100%|██████████| 8/8 [00:01<00:00,  5.34it/s, Training loss : 0.0026, Validation loss : 0.0041]\n"
     ]
    },
    {
     "name": "stdout",
     "output_type": "stream",
     "text": [
      "Fitting individual 6/23 with genotype {'epochs': 4, 'r': 4, 'no_of_conv_kernels': 64, 'secondary_capsule_vector': 19, 'epsilon': 0.09034235713835775, 'm_plus': 0.9241971359918738, 'm_minus': 0.14126204271041115, 'lambda_': 0.7888534840964604, 'alpha': 0.006544772852987874, 'no_of_primary_capsules': 32, 'primary_capsule_vector': 8, 'no_of_secondary_capsules': 10}\n"
     ]
    },
    {
     "name": "stderr",
     "output_type": "stream",
     "text": [
      "Epoch 1/4: 100%|██████████| 8/8 [00:15<00:00,  1.88s/it, Training loss : 0.0089, Validation loss : 0.0098]\n",
      "Epoch 2/4: 100%|██████████| 8/8 [00:02<00:00,  3.10it/s, Training loss : 0.0067, Validation loss : 0.0083]\n",
      "Epoch 3/4: 100%|██████████| 8/8 [00:02<00:00,  3.05it/s, Training loss : 0.0055, Validation loss : 0.0080]\n",
      "Epoch 4/4: 100%|██████████| 8/8 [00:02<00:00,  3.05it/s, Training loss : 0.0048, Validation loss : 0.0067]\n"
     ]
    },
    {
     "name": "stdout",
     "output_type": "stream",
     "text": [
      "Fitting individual 7/23 with genotype {'epochs': 6, 'r': 4, 'no_of_conv_kernels': 128, 'secondary_capsule_vector': 15, 'epsilon': 0.06800379088482035, 'm_plus': 0.9696333978157642, 'm_minus': 0.10955792927508719, 'lambda_': 0.5515933246913507, 'alpha': 0.00883349140619128, 'no_of_primary_capsules': 32, 'primary_capsule_vector': 8, 'no_of_secondary_capsules': 10}\n"
     ]
    },
    {
     "name": "stderr",
     "output_type": "stream",
     "text": [
      "Epoch 1/6: 100%|██████████| 8/8 [00:15<00:00,  1.88s/it, Training loss : 0.0099, Validation loss : 0.0113]\n",
      "Epoch 2/6: 100%|██████████| 8/8 [00:02<00:00,  2.78it/s, Training loss : 0.0075, Validation loss : 0.0080]\n",
      "Epoch 3/6: 100%|██████████| 8/8 [00:02<00:00,  2.79it/s, Training loss : 0.0050, Validation loss : 0.0071]\n",
      "Epoch 4/6: 100%|██████████| 8/8 [00:02<00:00,  2.79it/s, Training loss : 0.0040, Validation loss : 0.0054]\n",
      "Epoch 5/6: 100%|██████████| 8/8 [00:02<00:00,  2.69it/s, Training loss : 0.0033, Validation loss : 0.0048]\n",
      "Epoch 6/6: 100%|██████████| 8/8 [00:02<00:00,  2.83it/s, Training loss : 0.0029, Validation loss : 0.0044]\n"
     ]
    },
    {
     "name": "stdout",
     "output_type": "stream",
     "text": [
      "Fitting individual 8/23 with genotype {'epochs': 4, 'r': 2, 'no_of_conv_kernels': 32, 'secondary_capsule_vector': 40, 'epsilon': 0.05209592518481137, 'm_plus': 0.9023242423162842, 'm_minus': 0.1906554749185549, 'lambda_': 0.8873799144683876, 'alpha': 0.005358079653792517, 'no_of_primary_capsules': 32, 'primary_capsule_vector': 8, 'no_of_secondary_capsules': 10}\n"
     ]
    },
    {
     "name": "stderr",
     "output_type": "stream",
     "text": [
      "Epoch 1/4: 100%|██████████| 8/8 [00:08<00:00,  1.06s/it, Training loss : 0.0060, Validation loss : 0.0054]\n",
      "Epoch 2/4: 100%|██████████| 8/8 [00:02<00:00,  3.67it/s, Training loss : 0.0031, Validation loss : 0.0041]\n",
      "Epoch 3/4: 100%|██████████| 8/8 [00:02<00:00,  3.78it/s, Training loss : 0.0023, Validation loss : 0.0034]\n",
      "Epoch 4/4: 100%|██████████| 8/8 [00:02<00:00,  3.77it/s, Training loss : 0.0017, Validation loss : 0.0031]\n"
     ]
    },
    {
     "name": "stdout",
     "output_type": "stream",
     "text": [
      "Fitting individual 9/23 with genotype {'epochs': 2, 'r': 2, 'no_of_conv_kernels': 64, 'secondary_capsule_vector': 27, 'epsilon': 0.05120899195180402, 'm_plus': 0.9186122935560379, 'm_minus': 0.10822544167073443, 'lambda_': 0.5429020690074616, 'alpha': 0.0008434528213797018, 'no_of_primary_capsules': 32, 'primary_capsule_vector': 8, 'no_of_secondary_capsules': 10}\n"
     ]
    },
    {
     "name": "stderr",
     "output_type": "stream",
     "text": [
      "Epoch 1/2: 100%|██████████| 8/8 [00:08<00:00,  1.04s/it, Training loss : 0.0081, Validation loss : 0.0082]\n",
      "Epoch 2/2: 100%|██████████| 8/8 [00:01<00:00,  4.01it/s, Training loss : 0.0047, Validation loss : 0.0059]\n"
     ]
    },
    {
     "name": "stdout",
     "output_type": "stream",
     "text": [
      "Fitting individual 10/23 with genotype {'epochs': 4, 'r': 2, 'no_of_conv_kernels': 128, 'secondary_capsule_vector': 13, 'epsilon': 0.010150696267144623, 'm_plus': 0.9870610220899425, 'm_minus': 0.1273287558695721, 'lambda_': 0.589486121337369, 'alpha': 0.0035490495921486004, 'no_of_primary_capsules': 32, 'primary_capsule_vector': 8, 'no_of_secondary_capsules': 10}\n"
     ]
    },
    {
     "name": "stderr",
     "output_type": "stream",
     "text": [
      "Epoch 1/4: 100%|██████████| 8/8 [00:08<00:00,  1.05s/it, Training loss : 0.0096, Validation loss : 0.0077]\n",
      "Epoch 2/4: 100%|██████████| 8/8 [00:02<00:00,  3.57it/s, Training loss : 0.0042, Validation loss : 0.0053]\n",
      "Epoch 3/4: 100%|██████████| 8/8 [00:02<00:00,  3.72it/s, Training loss : 0.0029, Validation loss : 0.0043]\n",
      "Epoch 4/4: 100%|██████████| 8/8 [00:02<00:00,  3.76it/s, Training loss : 0.0021, Validation loss : 0.0035]\n"
     ]
    },
    {
     "name": "stdout",
     "output_type": "stream",
     "text": [
      "Fitting individual 11/23 with genotype {'epochs': 9, 'r': 3, 'no_of_conv_kernels': 32, 'secondary_capsule_vector': 17, 'epsilon': 0.09381170498676662, 'm_plus': 0.9180899836298325, 'm_minus': 0.06851804976351031, 'lambda_': 0.6791863998426438, 'alpha': 0.007083280875562993, 'no_of_primary_capsules': 32, 'primary_capsule_vector': 8, 'no_of_secondary_capsules': 10}\n"
     ]
    },
    {
     "name": "stderr",
     "output_type": "stream",
     "text": [
      "Epoch 1/9: 100%|██████████| 8/8 [00:11<00:00,  1.39s/it, Training loss : 0.0115, Validation loss : 0.0143]\n",
      "Epoch 2/9: 100%|██████████| 8/8 [00:01<00:00,  4.34it/s, Training loss : 0.0105, Validation loss : 0.0119]\n",
      "Epoch 3/9: 100%|██████████| 8/8 [00:01<00:00,  4.47it/s, Training loss : 0.0086, Validation loss : 0.0110]\n",
      "Epoch 4/9: 100%|██████████| 8/8 [00:01<00:00,  4.44it/s, Training loss : 0.0078, Validation loss : 0.0108]\n",
      "Epoch 5/9: 100%|██████████| 8/8 [00:01<00:00,  4.42it/s, Training loss : 0.0072, Validation loss : 0.0104]\n",
      "Epoch 6/9: 100%|██████████| 8/8 [00:01<00:00,  4.42it/s, Training loss : 0.0068, Validation loss : 0.0096]\n",
      "Epoch 7/9: 100%|██████████| 8/8 [00:01<00:00,  4.41it/s, Training loss : 0.0065, Validation loss : 0.0093]\n",
      "Epoch 8/9: 100%|██████████| 8/8 [00:01<00:00,  4.44it/s, Training loss : 0.0063, Validation loss : 0.0090]\n",
      "Epoch 9/9: 100%|██████████| 8/8 [00:01<00:00,  4.22it/s, Training loss : 0.0062, Validation loss : 0.0090]\n"
     ]
    },
    {
     "name": "stdout",
     "output_type": "stream",
     "text": [
      "Fitting individual 12/23 with genotype {'epochs': 6, 'r': 3, 'no_of_conv_kernels': 32, 'secondary_capsule_vector': 11, 'epsilon': 0.06024632554009842, 'm_plus': 0.943141653992636, 'm_minus': 0.10485632185796447, 'lambda_': 0.3725988829714305, 'alpha': 0.00500346658531053, 'no_of_primary_capsules': 32, 'primary_capsule_vector': 8, 'no_of_secondary_capsules': 10}\n"
     ]
    },
    {
     "name": "stderr",
     "output_type": "stream",
     "text": [
      "Epoch 1/6: 100%|██████████| 8/8 [00:10<00:00,  1.34s/it, Training loss : 0.0083, Validation loss : 0.0077]\n",
      "Epoch 2/6: 100%|██████████| 8/8 [00:01<00:00,  4.73it/s, Training loss : 0.0047, Validation loss : 0.0058]\n",
      "Epoch 3/6: 100%|██████████| 8/8 [00:01<00:00,  5.03it/s, Training loss : 0.0035, Validation loss : 0.0048]\n",
      "Epoch 4/6: 100%|██████████| 8/8 [00:01<00:00,  4.95it/s]\n"
     ]
    },
    {
     "name": "stdout",
     "output_type": "stream",
     "text": [
      "Validation loss is not decreasing anymore, risk of overfitting the model after 4 epochs. The training will be stopped. This behavior can be modified by setting the early_stop property of the model to False\n",
      "Fitting individual 13/23 with genotype {'epochs': 4, 'r': 4, 'no_of_conv_kernels': 64, 'secondary_capsule_vector': 47, 'epsilon': 0.07681448841936944, 'm_plus': 0.9870610220899425, 'm_minus': 0.1273287558695721, 'lambda_': 0.589486121337369, 'alpha': 0.0035490495921486004, 'no_of_primary_capsules': 32, 'primary_capsule_vector': 8, 'no_of_secondary_capsules': 10}\n"
     ]
    },
    {
     "name": "stderr",
     "output_type": "stream",
     "text": [
      "Epoch 1/4: 100%|██████████| 8/8 [00:17<00:00,  2.17s/it, Training loss : 0.0089, Validation loss : 0.0093]\n",
      "Epoch 2/4: 100%|██████████| 8/8 [00:04<00:00,  1.68it/s, Training loss : 0.0057, Validation loss : 0.0074]\n",
      "Epoch 3/4: 100%|██████████| 8/8 [00:04<00:00,  1.65it/s, Training loss : 0.0046, Validation loss : 0.0064]\n",
      "Epoch 4/4: 100%|██████████| 8/8 [00:04<00:00,  1.73it/s, Training loss : 0.0038, Validation loss : 0.0058]\n"
     ]
    },
    {
     "name": "stdout",
     "output_type": "stream",
     "text": [
      "Fitting individual 14/23 with genotype {'epochs': 4, 'r': 2, 'no_of_conv_kernels': 128, 'secondary_capsule_vector': 13, 'epsilon': 0.024867110208823814, 'm_plus': 0.9682750370803435, 'm_minus': 0.19138123792827966, 'lambda_': 0.9707472540795546, 'alpha': 0.00045246960384149, 'no_of_primary_capsules': 32, 'primary_capsule_vector': 8, 'no_of_secondary_capsules': 10}\n"
     ]
    },
    {
     "name": "stderr",
     "output_type": "stream",
     "text": [
      "Epoch 1/4: 100%|██████████| 8/8 [00:08<00:00,  1.07s/it, Training loss : 0.0106, Validation loss : 0.0122]\n",
      "Epoch 2/4: 100%|██████████| 8/8 [00:02<00:00,  3.78it/s, Training loss : 0.0086, Validation loss : 0.0092]\n",
      "Epoch 3/4: 100%|██████████| 8/8 [00:02<00:00,  3.79it/s, Training loss : 0.0060, Validation loss : 0.0062]\n",
      "Epoch 4/4: 100%|██████████| 8/8 [00:02<00:00,  3.80it/s, Training loss : 0.0037, Validation loss : 0.0045]\n"
     ]
    },
    {
     "name": "stdout",
     "output_type": "stream",
     "text": [
      "Fitting individual 15/23 with genotype {'epochs': 4, 'r': 4, 'no_of_conv_kernels': 32, 'secondary_capsule_vector': 11, 'epsilon': 0.06024632554009842, 'm_plus': 0.943141653992636, 'm_minus': 0.06851804976351031, 'lambda_': 0.6791863998426438, 'alpha': 0.007083280875562993, 'no_of_primary_capsules': 32, 'primary_capsule_vector': 8, 'no_of_secondary_capsules': 10}\n"
     ]
    },
    {
     "name": "stderr",
     "output_type": "stream",
     "text": [
      "Epoch 1/4: 100%|██████████| 8/8 [00:14<00:00,  1.77s/it, Training loss : 0.0100, Validation loss : 0.0107]\n",
      "Epoch 2/4: 100%|██████████| 8/8 [00:01<00:00,  4.45it/s, Training loss : 0.0072, Validation loss : 0.0095]\n",
      "Epoch 3/4: 100%|██████████| 8/8 [00:01<00:00,  4.42it/s, Training loss : 0.0062, Validation loss : 0.0085]\n",
      "Epoch 4/4: 100%|██████████| 8/8 [00:01<00:00,  4.38it/s, Training loss : 0.0054, Validation loss : 0.0079]\n"
     ]
    },
    {
     "name": "stdout",
     "output_type": "stream",
     "text": [
      "Fitting individual 16/23 with genotype {'epochs': 6, 'r': 3, 'no_of_conv_kernels': 64, 'secondary_capsule_vector': 47, 'epsilon': 0.07681448841936944, 'm_plus': 0.9682750370803435, 'm_minus': 0.19138123792827966, 'lambda_': 0.9707472540795546, 'alpha': 0.00045246960384149, 'no_of_primary_capsules': 32, 'primary_capsule_vector': 8, 'no_of_secondary_capsules': 10}\n"
     ]
    },
    {
     "name": "stderr",
     "output_type": "stream",
     "text": [
      "Epoch 1/6: 100%|██████████| 8/8 [00:13<00:00,  1.65s/it, Training loss : 0.0087, Validation loss : 0.0099]\n",
      "Epoch 2/6: 100%|██████████| 8/8 [00:03<00:00,  2.04it/s, Training loss : 0.0064, Validation loss : 0.0071]\n",
      "Epoch 3/6: 100%|██████████| 8/8 [00:03<00:00,  2.05it/s, Training loss : 0.0046, Validation loss : 0.0061]\n",
      "Epoch 4/6: 100%|██████████| 8/8 [00:03<00:00,  2.06it/s, Training loss : 0.0037, Validation loss : 0.0060]\n",
      "Epoch 5/6: 100%|██████████| 8/8 [00:03<00:00,  2.03it/s, Training loss : 0.0030, Validation loss : 0.0053]\n",
      "Epoch 6/6: 100%|██████████| 8/8 [00:03<00:00,  2.05it/s, Training loss : 0.0026, Validation loss : 0.0046]\n"
     ]
    },
    {
     "name": "stdout",
     "output_type": "stream",
     "text": [
      "Fitting individual 17/23 with genotype {'epochs': 2, 'r': 2, 'no_of_conv_kernels': 64, 'secondary_capsule_vector': 27, 'epsilon': 0.05120899195180402, 'm_plus': 0.9186122935560379, 'm_minus': 0.10822544167073443, 'lambda_': 0.5429020690074616, 'alpha': 0.0008434528213797018, 'no_of_primary_capsules': 32, 'primary_capsule_vector': 8, 'no_of_secondary_capsules': 10}\n"
     ]
    },
    {
     "name": "stderr",
     "output_type": "stream",
     "text": [
      "Epoch 1/2: 100%|██████████| 8/8 [00:08<00:00,  1.05s/it, Training loss : 0.0086, Validation loss : 0.0086]\n",
      "Epoch 2/2: 100%|██████████| 8/8 [00:02<00:00,  3.98it/s, Training loss : 0.0053, Validation loss : 0.0063]\n"
     ]
    },
    {
     "name": "stdout",
     "output_type": "stream",
     "text": [
      "Fitting individual 18/23 with genotype {'epochs': 9, 'r': 2, 'no_of_conv_kernels': 32, 'secondary_capsule_vector': 17, 'epsilon': 0.09381170498676662, 'm_plus': 0.9180899836298325, 'm_minus': 0.10485632185796447, 'lambda_': 0.3725988829714305, 'alpha': 0.00500346658531053, 'no_of_primary_capsules': 32, 'primary_capsule_vector': 8, 'no_of_secondary_capsules': 10}\n"
     ]
    },
    {
     "name": "stderr",
     "output_type": "stream",
     "text": [
      "Epoch 1/9: 100%|██████████| 8/8 [00:07<00:00,  1.03it/s, Training loss : 0.0078, Validation loss : 0.0083]\n",
      "Epoch 2/9: 100%|██████████| 8/8 [00:01<00:00,  5.43it/s, Training loss : 0.0055, Validation loss : 0.0069]\n",
      "Epoch 3/9: 100%|██████████| 8/8 [00:01<00:00,  5.46it/s, Training loss : 0.0043, Validation loss : 0.0063]\n",
      "Epoch 4/9: 100%|██████████| 8/8 [00:01<00:00,  5.15it/s, Training loss : 0.0037, Validation loss : 0.0053]\n",
      "Epoch 5/9: 100%|██████████| 8/8 [00:01<00:00,  5.34it/s, Training loss : 0.0033, Validation loss : 0.0049]\n",
      "Epoch 6/9: 100%|██████████| 8/8 [00:01<00:00,  5.43it/s, Training loss : 0.0031, Validation loss : 0.0048]\n",
      "Epoch 7/9: 100%|██████████| 8/8 [00:01<00:00,  5.37it/s, Training loss : 0.0029, Validation loss : 0.0047]\n",
      "Epoch 8/9: 100%|██████████| 8/8 [00:01<00:00,  5.42it/s, Training loss : 0.0028, Validation loss : 0.0043]\n",
      "Epoch 9/9: 100%|██████████| 8/8 [00:01<00:00,  5.46it/s]\n"
     ]
    },
    {
     "name": "stdout",
     "output_type": "stream",
     "text": [
      "Validation loss is not decreasing anymore, risk of overfitting the model after 9 epochs. The training will be stopped. This behavior can be modified by setting the early_stop property of the model to False\n",
      "Fitting individual 19/23 with genotype {'epochs': 8, 'r': 2, 'no_of_conv_kernels': 128, 'secondary_capsule_vector': 29, 'epsilon': 0.05513698811649692, 'm_plus': 0.927030504300704, 'm_minus': 0.05354311497363591, 'lambda_': 0.4450531286690841, 'alpha': 0.008576544768202351, 'no_of_primary_capsules': 32, 'primary_capsule_vector': 8, 'no_of_secondary_capsules': 10}\n"
     ]
    },
    {
     "name": "stderr",
     "output_type": "stream",
     "text": [
      "Epoch 1/8: 100%|██████████| 8/8 [00:08<00:00,  1.11s/it, Training loss : 0.0092, Validation loss : 0.0094]\n",
      "Epoch 2/8: 100%|██████████| 8/8 [00:02<00:00,  3.07it/s, Training loss : 0.0061, Validation loss : 0.0070]\n",
      "Epoch 3/8: 100%|██████████| 8/8 [00:02<00:00,  3.07it/s, Training loss : 0.0046, Validation loss : 0.0064]\n",
      "Epoch 4/8: 100%|██████████| 8/8 [00:02<00:00,  3.04it/s, Training loss : 0.0039, Validation loss : 0.0056]\n",
      "Epoch 5/8: 100%|██████████| 8/8 [00:02<00:00,  3.03it/s, Training loss : 0.0035, Validation loss : 0.0052]\n",
      "Epoch 6/8: 100%|██████████| 8/8 [00:02<00:00,  2.97it/s, Training loss : 0.0031, Validation loss : 0.0045]\n",
      "Epoch 7/8: 100%|██████████| 8/8 [00:02<00:00,  3.03it/s, Training loss : 0.0029, Validation loss : 0.0045]\n",
      "Epoch 8/8: 100%|██████████| 8/8 [00:02<00:00,  3.05it/s, Training loss : 0.0027, Validation loss : 0.0043]\n"
     ]
    },
    {
     "name": "stdout",
     "output_type": "stream",
     "text": [
      "Fitting individual 20/23 with genotype {'epochs': 6, 'r': 3, 'no_of_conv_kernels': 32, 'secondary_capsule_vector': 11, 'epsilon': 0.06024632554009842, 'm_plus': 0.943141653992636, 'm_minus': 0.06851804976351031, 'lambda_': 0.6791863998426438, 'alpha': 0.007083280875562993, 'no_of_primary_capsules': 32, 'primary_capsule_vector': 8, 'no_of_secondary_capsules': 10}\n"
     ]
    },
    {
     "name": "stderr",
     "output_type": "stream",
     "text": [
      "Epoch 1/6: 100%|██████████| 8/8 [00:11<00:00,  1.38s/it, Training loss : 0.0107, Validation loss : 0.0130]\n",
      "Epoch 2/6: 100%|██████████| 8/8 [00:01<00:00,  5.18it/s, Training loss : 0.0086, Validation loss : 0.0100]\n",
      "Epoch 3/6: 100%|██████████| 8/8 [00:01<00:00,  5.20it/s, Training loss : 0.0066, Validation loss : 0.0091]\n",
      "Epoch 4/6: 100%|██████████| 8/8 [00:01<00:00,  5.18it/s, Training loss : 0.0058, Validation loss : 0.0079]\n",
      "Epoch 5/6: 100%|██████████| 8/8 [00:01<00:00,  5.23it/s, Training loss : 0.0053, Validation loss : 0.0074]\n",
      "Epoch 6/6: 100%|██████████| 8/8 [00:01<00:00,  5.21it/s]\n"
     ]
    },
    {
     "name": "stdout",
     "output_type": "stream",
     "text": [
      "Validation loss is not decreasing anymore, risk of overfitting the model after 6 epochs. The training will be stopped. This behavior can be modified by setting the early_stop property of the model to False\n",
      "Fitting individual 21/23 with genotype {'epochs': 4, 'r': 4, 'no_of_conv_kernels': 64, 'secondary_capsule_vector': 47, 'epsilon': 0.07681448841936944, 'm_plus': 0.9682750370803435, 'm_minus': 0.19138123792827966, 'lambda_': 0.9195772489415348, 'alpha': 0.00045246960384149, 'no_of_primary_capsules': 32, 'primary_capsule_vector': 8, 'no_of_secondary_capsules': 10}\n"
     ]
    },
    {
     "name": "stderr",
     "output_type": "stream",
     "text": [
      "Epoch 1/4: 100%|██████████| 8/8 [00:17<00:00,  2.15s/it, Training loss : 0.0086, Validation loss : 0.0093]\n",
      "Epoch 2/4: 100%|██████████| 8/8 [00:04<00:00,  1.66it/s, Training loss : 0.0061, Validation loss : 0.0071]\n",
      "Epoch 3/4: 100%|██████████| 8/8 [00:04<00:00,  1.72it/s, Training loss : 0.0044, Validation loss : 0.0058]\n",
      "Epoch 4/4: 100%|██████████| 8/8 [00:04<00:00,  1.72it/s, Training loss : 0.0035, Validation loss : 0.0051]\n"
     ]
    },
    {
     "name": "stdout",
     "output_type": "stream",
     "text": [
      "Fitting individual 22/23 with genotype {'epochs': 4, 'r': 2, 'no_of_conv_kernels': 32, 'secondary_capsule_vector': 40, 'epsilon': 0.05209592518481137, 'm_plus': 0.9023242423162842, 'm_minus': 0.1906554749185549, 'lambda_': 0.8873799144683876, 'alpha': 0.005358079653792517, 'no_of_primary_capsules': 32, 'primary_capsule_vector': 8, 'no_of_secondary_capsules': 10}\n"
     ]
    },
    {
     "name": "stderr",
     "output_type": "stream",
     "text": [
      "Epoch 1/4: 100%|██████████| 8/8 [00:08<00:00,  1.04s/it, Training loss : 0.0075, Validation loss : 0.0079]\n",
      "Epoch 2/4: 100%|██████████| 8/8 [00:02<00:00,  3.90it/s, Training loss : 0.0052, Validation loss : 0.0058]\n",
      "Epoch 3/4: 100%|██████████| 8/8 [00:02<00:00,  3.90it/s, Training loss : 0.0037, Validation loss : 0.0048]\n",
      "Epoch 4/4: 100%|██████████| 8/8 [00:02<00:00,  3.73it/s, Training loss : 0.0028, Validation loss : 0.0037]\n"
     ]
    },
    {
     "name": "stdout",
     "output_type": "stream",
     "text": [
      "Fitting individual 23/23 with genotype {'epochs': 4, 'r': 2, 'no_of_conv_kernels': 128, 'secondary_capsule_vector': 13, 'epsilon': 0.010150696267144623, 'm_plus': 0.9870610220899425, 'm_minus': 0.1273287558695721, 'lambda_': 0.589486121337369, 'alpha': 0.0035490495921486004, 'no_of_primary_capsules': 32, 'primary_capsule_vector': 8, 'no_of_secondary_capsules': 10}\n"
     ]
    },
    {
     "name": "stderr",
     "output_type": "stream",
     "text": [
      "Epoch 1/4: 100%|██████████| 8/8 [00:08<00:00,  1.07s/it, Training loss : 0.0101, Validation loss : 0.0081]\n",
      "Epoch 2/4: 100%|██████████| 8/8 [00:02<00:00,  3.78it/s, Training loss : 0.0046, Validation loss : 0.0053]\n",
      "Epoch 3/4: 100%|██████████| 8/8 [00:02<00:00,  3.77it/s, Training loss : 0.0029, Validation loss : 0.0044]\n",
      "Epoch 4/4: 100%|██████████| 8/8 [00:02<00:00,  3.63it/s, Training loss : 0.0021, Validation loss : 0.0040]\n"
     ]
    },
    {
     "name": "stdout",
     "output_type": "stream",
     "text": [
      "Len of pop after selection : 10\n",
      "=== Generation 2/2\n",
      "Len of pop before manipulations : 10\n",
      "crossover created 8 offspring(s)\n",
      "mutation created 2 offspring(s)\n",
      "local search created 0 offspring(s)\n",
      "Len of pop after manipulations : 20\n",
      "Fitting individual 1/20 with genotype {'epochs': 8, 'r': 2, 'no_of_conv_kernels': 128, 'secondary_capsule_vector': 29, 'epsilon': 0.05513698811649692, 'm_plus': 0.927030504300704, 'm_minus': 0.13086659675088153, 'lambda_': 0.4450531286690841, 'alpha': 0.008576544768202351, 'no_of_primary_capsules': 32, 'primary_capsule_vector': 8, 'no_of_secondary_capsules': 10}\n"
     ]
    },
    {
     "name": "stderr",
     "output_type": "stream",
     "text": [
      "Epoch 1/8: 100%|██████████| 8/8 [00:08<00:00,  1.10s/it, Training loss : 0.0089, Validation loss : 0.0079]\n",
      "Epoch 2/8: 100%|██████████| 8/8 [00:02<00:00,  3.09it/s, Training loss : 0.0051, Validation loss : 0.0055]\n",
      "Epoch 3/8: 100%|██████████| 8/8 [00:02<00:00,  2.94it/s, Training loss : 0.0035, Validation loss : 0.0044]\n",
      "Epoch 4/8: 100%|██████████| 8/8 [00:02<00:00,  3.09it/s, Training loss : 0.0028, Validation loss : 0.0041]\n",
      "Epoch 5/8: 100%|██████████| 8/8 [00:02<00:00,  3.10it/s, Training loss : 0.0023, Validation loss : 0.0036]\n",
      "Epoch 6/8: 100%|██████████| 8/8 [00:02<00:00,  3.11it/s, Training loss : 0.0019, Validation loss : 0.0029]\n",
      "Epoch 7/8: 100%|██████████| 8/8 [00:02<00:00,  3.09it/s, Training loss : 0.0016, Validation loss : 0.0027]\n",
      "Epoch 8/8: 100%|██████████| 8/8 [00:02<00:00,  3.10it/s, Training loss : 0.0015, Validation loss : 0.0027]\n"
     ]
    },
    {
     "name": "stdout",
     "output_type": "stream",
     "text": [
      "Fitting individual 2/20 with genotype {'epochs': 9, 'r': 2, 'no_of_conv_kernels': 32, 'secondary_capsule_vector': 17, 'epsilon': 0.05232117542627749, 'm_plus': 0.9180899836298325, 'm_minus': 0.10485632185796447, 'lambda_': 0.3725988829714305, 'alpha': 0.00500346658531053, 'no_of_primary_capsules': 32, 'primary_capsule_vector': 8, 'no_of_secondary_capsules': 10}\n"
     ]
    },
    {
     "name": "stderr",
     "output_type": "stream",
     "text": [
      "Epoch 1/9: 100%|██████████| 8/8 [00:07<00:00,  1.04it/s, Training loss : 0.0074, Validation loss : 0.0067]\n",
      "Epoch 2/9: 100%|██████████| 8/8 [00:01<00:00,  5.56it/s, Training loss : 0.0040, Validation loss : 0.0049]\n",
      "Epoch 3/9: 100%|██████████| 8/8 [00:01<00:00,  5.49it/s, Training loss : 0.0030, Validation loss : 0.0043]\n",
      "Epoch 4/9: 100%|██████████| 8/8 [00:01<00:00,  5.56it/s, Training loss : 0.0025, Validation loss : 0.0038]\n",
      "Epoch 5/9: 100%|██████████| 8/8 [00:01<00:00,  5.51it/s, Training loss : 0.0021, Validation loss : 0.0033]\n",
      "Epoch 6/9: 100%|██████████| 8/8 [00:01<00:00,  5.51it/s, Training loss : 0.0018, Validation loss : 0.0030]\n",
      "Epoch 7/9: 100%|██████████| 8/8 [00:01<00:00,  5.27it/s, Training loss : 0.0016, Validation loss : 0.0027]\n",
      "Epoch 8/9: 100%|██████████| 8/8 [00:01<00:00,  5.39it/s]\n"
     ]
    },
    {
     "name": "stdout",
     "output_type": "stream",
     "text": [
      "Validation loss is not decreasing anymore, risk of overfitting the model after 8 epochs. The training will be stopped. This behavior can be modified by setting the early_stop property of the model to False\n",
      "Fitting individual 3/20 with genotype {'epochs': 4, 'r': 2, 'no_of_conv_kernels': 32, 'secondary_capsule_vector': 40, 'epsilon': 0.05209592518481137, 'm_plus': 0.9023242423162842, 'm_minus': 0.1906554749185549, 'lambda_': 0.8873799144683876, 'alpha': 0.005358079653792517, 'no_of_primary_capsules': 32, 'primary_capsule_vector': 8, 'no_of_secondary_capsules': 10}\n"
     ]
    },
    {
     "name": "stderr",
     "output_type": "stream",
     "text": [
      "Epoch 1/4: 100%|██████████| 8/8 [00:08<00:00,  1.07s/it, Training loss : 0.0071, Validation loss : 0.0076]\n",
      "Epoch 2/4: 100%|██████████| 8/8 [00:02<00:00,  3.88it/s, Training loss : 0.0043, Validation loss : 0.0046]\n",
      "Epoch 3/4: 100%|██████████| 8/8 [00:02<00:00,  3.72it/s, Training loss : 0.0027, Validation loss : 0.0043]\n",
      "Epoch 4/4: 100%|██████████| 8/8 [00:02<00:00,  3.89it/s, Training loss : 0.0021, Validation loss : 0.0034]\n"
     ]
    },
    {
     "name": "stdout",
     "output_type": "stream",
     "text": [
      "Fitting individual 4/20 with genotype {'epochs': 4, 'r': 2, 'no_of_conv_kernels': 128, 'secondary_capsule_vector': 13, 'epsilon': 0.010150696267144623, 'm_plus': 0.9870610220899425, 'm_minus': 0.1273287558695721, 'lambda_': 0.589486121337369, 'alpha': 0.0035490495921486004, 'no_of_primary_capsules': 32, 'primary_capsule_vector': 8, 'no_of_secondary_capsules': 10}\n"
     ]
    },
    {
     "name": "stderr",
     "output_type": "stream",
     "text": [
      "Epoch 1/4: 100%|██████████| 8/8 [00:08<00:00,  1.04s/it, Training loss : 0.0095, Validation loss : 0.0084]\n",
      "Epoch 2/4: 100%|██████████| 8/8 [00:02<00:00,  3.68it/s, Training loss : 0.0046, Validation loss : 0.0057]\n",
      "Epoch 3/4: 100%|██████████| 8/8 [00:02<00:00,  3.80it/s, Training loss : 0.0030, Validation loss : 0.0042]\n",
      "Epoch 4/4: 100%|██████████| 8/8 [00:02<00:00,  3.83it/s, Training loss : 0.0022, Validation loss : 0.0036]\n"
     ]
    },
    {
     "name": "stdout",
     "output_type": "stream",
     "text": [
      "Fitting individual 5/20 with genotype {'epochs': 6, 'r': 3, 'no_of_conv_kernels': 32, 'secondary_capsule_vector': 11, 'epsilon': 0.06024632554009842, 'm_plus': 0.943141653992636, 'm_minus': 0.06851804976351031, 'lambda_': 0.6791863998426438, 'alpha': 0.007083280875562993, 'no_of_primary_capsules': 32, 'primary_capsule_vector': 8, 'no_of_secondary_capsules': 10}\n"
     ]
    },
    {
     "name": "stderr",
     "output_type": "stream",
     "text": [
      "Epoch 1/6: 100%|██████████| 8/8 [00:10<00:00,  1.37s/it, Training loss : 0.0105, Validation loss : 0.0125]\n",
      "Epoch 2/6: 100%|██████████| 8/8 [00:01<00:00,  5.19it/s, Training loss : 0.0079, Validation loss : 0.0098]\n",
      "Epoch 3/6: 100%|██████████| 8/8 [00:01<00:00,  5.16it/s, Training loss : 0.0064, Validation loss : 0.0087]\n",
      "Epoch 4/6: 100%|██████████| 8/8 [00:01<00:00,  5.14it/s, Training loss : 0.0056, Validation loss : 0.0077]\n",
      "Epoch 5/6: 100%|██████████| 8/8 [00:01<00:00,  5.21it/s, Training loss : 0.0050, Validation loss : 0.0075]\n",
      "Epoch 6/6: 100%|██████████| 8/8 [00:01<00:00,  5.18it/s, Training loss : 0.0046, Validation loss : 0.0069]\n"
     ]
    },
    {
     "name": "stdout",
     "output_type": "stream",
     "text": [
      "Fitting individual 6/20 with genotype {'epochs': 6, 'r': 4, 'no_of_conv_kernels': 128, 'secondary_capsule_vector': 15, 'epsilon': 0.06800379088482035, 'm_plus': 0.9696333978157642, 'm_minus': 0.10955792927508719, 'lambda_': 0.5515933246913507, 'alpha': 0.00883349140619128, 'no_of_primary_capsules': 32, 'primary_capsule_vector': 8, 'no_of_secondary_capsules': 10}\n"
     ]
    },
    {
     "name": "stderr",
     "output_type": "stream",
     "text": [
      "Epoch 1/6: 100%|██████████| 8/8 [00:15<00:00,  1.91s/it, Training loss : 0.0099, Validation loss : 0.0104]\n",
      "Epoch 2/6: 100%|██████████| 8/8 [00:02<00:00,  2.86it/s, Training loss : 0.0066, Validation loss : 0.0078]\n",
      "Epoch 3/6: 100%|██████████| 8/8 [00:02<00:00,  2.80it/s, Training loss : 0.0048, Validation loss : 0.0062]\n",
      "Epoch 4/6: 100%|██████████| 8/8 [00:02<00:00,  2.89it/s, Training loss : 0.0039, Validation loss : 0.0058]\n",
      "Epoch 5/6: 100%|██████████| 8/8 [00:02<00:00,  2.87it/s, Training loss : 0.0033, Validation loss : 0.0046]\n",
      "Epoch 6/6: 100%|██████████| 8/8 [00:02<00:00,  2.88it/s, Training loss : 0.0029, Validation loss : 0.0043]\n"
     ]
    },
    {
     "name": "stdout",
     "output_type": "stream",
     "text": [
      "Fitting individual 7/20 with genotype {'epochs': 2, 'r': 2, 'no_of_conv_kernels': 64, 'secondary_capsule_vector': 27, 'epsilon': 0.05120899195180402, 'm_plus': 0.9186122935560379, 'm_minus': 0.10822544167073443, 'lambda_': 0.5429020690074616, 'alpha': 0.0008434528213797018, 'no_of_primary_capsules': 32, 'primary_capsule_vector': 8, 'no_of_secondary_capsules': 10}\n"
     ]
    },
    {
     "name": "stderr",
     "output_type": "stream",
     "text": [
      "Epoch 1/2: 100%|██████████| 8/8 [00:08<00:00,  1.04s/it, Training loss : 0.0075, Validation loss : 0.0073]\n",
      "Epoch 2/2: 100%|██████████| 8/8 [00:01<00:00,  4.06it/s, Training loss : 0.0044, Validation loss : 0.0057]\n"
     ]
    },
    {
     "name": "stdout",
     "output_type": "stream",
     "text": [
      "Fitting individual 8/20 with genotype {'epochs': 4, 'r': 4, 'no_of_conv_kernels': 64, 'secondary_capsule_vector': 19, 'epsilon': 0.09034235713835775, 'm_plus': 0.9241971359918738, 'm_minus': 0.14126204271041115, 'lambda_': 0.7888534840964604, 'alpha': 0.006544772852987874, 'no_of_primary_capsules': 32, 'primary_capsule_vector': 8, 'no_of_secondary_capsules': 10}\n"
     ]
    },
    {
     "name": "stderr",
     "output_type": "stream",
     "text": [
      "Epoch 1/4: 100%|██████████| 8/8 [00:14<00:00,  1.86s/it, Training loss : 0.0088, Validation loss : 0.0093]\n",
      "Epoch 2/4: 100%|██████████| 8/8 [00:02<00:00,  3.18it/s, Training loss : 0.0064, Validation loss : 0.0083]\n",
      "Epoch 3/4: 100%|██████████| 8/8 [00:02<00:00,  3.18it/s, Training loss : 0.0053, Validation loss : 0.0074]\n",
      "Epoch 4/4: 100%|██████████| 8/8 [00:02<00:00,  3.05it/s, Training loss : 0.0046, Validation loss : 0.0067]\n"
     ]
    },
    {
     "name": "stdout",
     "output_type": "stream",
     "text": [
      "Fitting individual 9/20 with genotype {'epochs': 4, 'r': 4, 'no_of_conv_kernels': 64, 'secondary_capsule_vector': 47, 'epsilon': 0.07681448841936944, 'm_plus': 0.9682750370803435, 'm_minus': 0.19138123792827966, 'lambda_': 0.9195772489415348, 'alpha': 0.00045246960384149, 'no_of_primary_capsules': 32, 'primary_capsule_vector': 8, 'no_of_secondary_capsules': 10}\n"
     ]
    },
    {
     "name": "stderr",
     "output_type": "stream",
     "text": [
      "Epoch 1/4: 100%|██████████| 8/8 [00:17<00:00,  2.16s/it, Training loss : 0.0084, Validation loss : 0.0094]\n",
      "Epoch 2/4: 100%|██████████| 8/8 [00:04<00:00,  1.71it/s, Training loss : 0.0055, Validation loss : 0.0064]\n",
      "Epoch 3/4: 100%|██████████| 8/8 [00:04<00:00,  1.73it/s, Training loss : 0.0039, Validation loss : 0.0051]\n",
      "Epoch 4/4: 100%|██████████| 8/8 [00:04<00:00,  1.71it/s, Training loss : 0.0031, Validation loss : 0.0045]\n"
     ]
    },
    {
     "name": "stdout",
     "output_type": "stream",
     "text": [
      "Fitting individual 10/20 with genotype {'epochs': 4, 'r': 4, 'no_of_conv_kernels': 64, 'secondary_capsule_vector': 38, 'epsilon': 0.03145205493061102, 'm_plus': 0.9472008817830653, 'm_minus': 0.18327469841314215, 'lambda_': 0.5160065064404878, 'alpha': 0.004276723340741172, 'no_of_primary_capsules': 32, 'primary_capsule_vector': 8, 'no_of_secondary_capsules': 10}\n"
     ]
    },
    {
     "name": "stderr",
     "output_type": "stream",
     "text": [
      "Epoch 1/4: 100%|██████████| 8/8 [00:15<00:00,  1.97s/it, Training loss : 0.0088, Validation loss : 0.0088]\n",
      "Epoch 2/4: 100%|██████████| 8/8 [00:03<00:00,  2.47it/s, Training loss : 0.0055, Validation loss : 0.0060]\n",
      "Epoch 3/4: 100%|██████████| 8/8 [00:03<00:00,  2.47it/s, Training loss : 0.0033, Validation loss : 0.0044]\n",
      "Epoch 4/4: 100%|██████████| 8/8 [00:03<00:00,  2.40it/s, Training loss : 0.0024, Validation loss : 0.0035]\n"
     ]
    },
    {
     "name": "stdout",
     "output_type": "stream",
     "text": [
      "Fitting individual 11/20 with genotype {'epochs': 9, 'r': 2, 'no_of_conv_kernels': 32, 'secondary_capsule_vector': 17, 'epsilon': 0.09381170498676662, 'm_plus': 0.9696333978157642, 'm_minus': 0.10955792927508719, 'lambda_': 0.5515933246913507, 'alpha': 0.00883349140619128, 'no_of_primary_capsules': 32, 'primary_capsule_vector': 8, 'no_of_secondary_capsules': 10}\n"
     ]
    },
    {
     "name": "stderr",
     "output_type": "stream",
     "text": [
      "Epoch 1/9: 100%|██████████| 8/8 [00:07<00:00,  1.03it/s, Training loss : 0.0098, Validation loss : 0.0113]\n",
      "Epoch 2/9: 100%|██████████| 8/8 [00:01<00:00,  5.03it/s, Training loss : 0.0072, Validation loss : 0.0085]\n",
      "Epoch 3/9: 100%|██████████| 8/8 [00:01<00:00,  5.07it/s, Training loss : 0.0060, Validation loss : 0.0075]\n",
      "Epoch 4/9: 100%|██████████| 8/8 [00:01<00:00,  5.19it/s, Training loss : 0.0053, Validation loss : 0.0070]\n",
      "Epoch 5/9: 100%|██████████| 8/8 [00:01<00:00,  5.53it/s, Training loss : 0.0048, Validation loss : 0.0065]\n",
      "Epoch 6/9: 100%|██████████| 8/8 [00:01<00:00,  5.45it/s, Training loss : 0.0044, Validation loss : 0.0062]\n",
      "Epoch 7/9: 100%|██████████| 8/8 [00:01<00:00,  5.46it/s]\n"
     ]
    },
    {
     "name": "stdout",
     "output_type": "stream",
     "text": [
      "Validation loss is not decreasing anymore, risk of overfitting the model after 7 epochs. The training will be stopped. This behavior can be modified by setting the early_stop property of the model to False\n",
      "Fitting individual 12/20 with genotype {'epochs': 6, 'r': 4, 'no_of_conv_kernels': 128, 'secondary_capsule_vector': 15, 'epsilon': 0.06800379088482035, 'm_plus': 0.9180899836298325, 'm_minus': 0.10485632185796447, 'lambda_': 0.3725988829714305, 'alpha': 0.00500346658531053, 'no_of_primary_capsules': 32, 'primary_capsule_vector': 8, 'no_of_secondary_capsules': 10}\n"
     ]
    },
    {
     "name": "stderr",
     "output_type": "stream",
     "text": [
      "Epoch 1/6: 100%|██████████| 8/8 [00:15<00:00,  1.90s/it, Training loss : 0.0077, Validation loss : 0.0072]\n",
      "Epoch 2/6: 100%|██████████| 8/8 [00:02<00:00,  2.87it/s, Training loss : 0.0045, Validation loss : 0.0051]\n",
      "Epoch 3/6: 100%|██████████| 8/8 [00:02<00:00,  2.86it/s, Training loss : 0.0032, Validation loss : 0.0042]\n",
      "Epoch 4/6: 100%|██████████| 8/8 [00:02<00:00,  2.77it/s, Training loss : 0.0026, Validation loss : 0.0038]\n",
      "Epoch 5/6: 100%|██████████| 8/8 [00:02<00:00,  2.85it/s, Training loss : 0.0023, Validation loss : 0.0036]\n",
      "Epoch 6/6: 100%|██████████| 8/8 [00:02<00:00,  2.85it/s, Training loss : 0.0020, Validation loss : 0.0033]\n"
     ]
    },
    {
     "name": "stdout",
     "output_type": "stream",
     "text": [
      "Fitting individual 13/20 with genotype {'epochs': 2, 'r': 4, 'no_of_conv_kernels': 64, 'secondary_capsule_vector': 38, 'epsilon': 0.03145205493061102, 'm_plus': 0.9472008817830653, 'm_minus': 0.18327469841314215, 'lambda_': 0.5160065064404878, 'alpha': 0.004276723340741172, 'no_of_primary_capsules': 32, 'primary_capsule_vector': 8, 'no_of_secondary_capsules': 10}\n"
     ]
    },
    {
     "name": "stderr",
     "output_type": "stream",
     "text": [
      "Epoch 1/2: 100%|██████████| 8/8 [00:15<00:00,  1.93s/it, Training loss : 0.0072, Validation loss : 0.0056]\n",
      "Epoch 2/2: 100%|██████████| 8/8 [00:03<00:00,  2.44it/s, Training loss : 0.0034, Validation loss : 0.0045]\n"
     ]
    },
    {
     "name": "stdout",
     "output_type": "stream",
     "text": [
      "Fitting individual 14/20 with genotype {'epochs': 4, 'r': 2, 'no_of_conv_kernels': 64, 'secondary_capsule_vector': 27, 'epsilon': 0.05120899195180402, 'm_plus': 0.9186122935560379, 'm_minus': 0.10822544167073443, 'lambda_': 0.5429020690074616, 'alpha': 0.0008434528213797018, 'no_of_primary_capsules': 32, 'primary_capsule_vector': 8, 'no_of_secondary_capsules': 10}\n"
     ]
    },
    {
     "name": "stderr",
     "output_type": "stream",
     "text": [
      "Epoch 1/4: 100%|██████████| 8/8 [00:08<00:00,  1.01s/it, Training loss : 0.0080, Validation loss : 0.0073]\n",
      "Epoch 2/4: 100%|██████████| 8/8 [00:01<00:00,  4.11it/s, Training loss : 0.0045, Validation loss : 0.0056]\n",
      "Epoch 3/4: 100%|██████████| 8/8 [00:01<00:00,  4.10it/s, Training loss : 0.0033, Validation loss : 0.0048]\n",
      "Epoch 4/4: 100%|██████████| 8/8 [00:02<00:00,  3.96it/s, Training loss : 0.0027, Validation loss : 0.0042]\n"
     ]
    },
    {
     "name": "stdout",
     "output_type": "stream",
     "text": [
      "Fitting individual 15/20 with genotype {'epochs': 4, 'r': 2, 'no_of_conv_kernels': 32, 'secondary_capsule_vector': 47, 'epsilon': 0.07681448841936944, 'm_plus': 0.9682750370803435, 'm_minus': 0.19138123792827966, 'lambda_': 0.9195772489415348, 'alpha': 0.00045246960384149, 'no_of_primary_capsules': 32, 'primary_capsule_vector': 8, 'no_of_secondary_capsules': 10}\n"
     ]
    },
    {
     "name": "stderr",
     "output_type": "stream",
     "text": [
      "Epoch 1/4: 100%|██████████| 8/8 [00:08<00:00,  1.01s/it, Training loss : 0.0084, Validation loss : 0.0093]\n",
      "Epoch 2/4: 100%|██████████| 8/8 [00:02<00:00,  2.86it/s, Training loss : 0.0056, Validation loss : 0.0067]\n",
      "Epoch 3/4: 100%|██████████| 8/8 [00:02<00:00,  2.86it/s, Training loss : 0.0041, Validation loss : 0.0057]\n",
      "Epoch 4/4: 100%|██████████| 8/8 [00:02<00:00,  2.84it/s, Training loss : 0.0034, Validation loss : 0.0051]\n"
     ]
    },
    {
     "name": "stdout",
     "output_type": "stream",
     "text": [
      "Fitting individual 16/20 with genotype {'epochs': 4, 'r': 4, 'no_of_conv_kernels': 64, 'secondary_capsule_vector': 40, 'epsilon': 0.05209592518481137, 'm_plus': 0.9023242423162842, 'm_minus': 0.1906554749185549, 'lambda_': 0.8873799144683876, 'alpha': 0.005358079653792517, 'no_of_primary_capsules': 32, 'primary_capsule_vector': 8, 'no_of_secondary_capsules': 10}\n"
     ]
    },
    {
     "name": "stderr",
     "output_type": "stream",
     "text": [
      "Epoch 1/4: 100%|██████████| 8/8 [00:15<00:00,  1.94s/it, Training loss : 0.0080, Validation loss : 0.0083]\n",
      "Epoch 2/4: 100%|██████████| 8/8 [00:03<00:00,  2.42it/s, Training loss : 0.0060, Validation loss : 0.0068]\n",
      "Epoch 3/4: 100%|██████████| 8/8 [00:03<00:00,  2.41it/s, Training loss : 0.0043, Validation loss : 0.0054]\n",
      "Epoch 4/4: 100%|██████████| 8/8 [00:03<00:00,  2.43it/s, Training loss : 0.0030, Validation loss : 0.0043]\n"
     ]
    },
    {
     "name": "stdout",
     "output_type": "stream",
     "text": [
      "Fitting individual 17/20 with genotype {'epochs': 4, 'r': 2, 'no_of_conv_kernels': 32, 'secondary_capsule_vector': 17, 'epsilon': 0.09381170498676662, 'm_plus': 0.9180899836298325, 'm_minus': 0.10485632185796447, 'lambda_': 0.3725988829714305, 'alpha': 0.00500346658531053, 'no_of_primary_capsules': 32, 'primary_capsule_vector': 8, 'no_of_secondary_capsules': 10}\n"
     ]
    },
    {
     "name": "stderr",
     "output_type": "stream",
     "text": [
      "Epoch 1/4: 100%|██████████| 8/8 [00:07<00:00,  1.03it/s, Training loss : 0.0079, Validation loss : 0.0081]\n",
      "Epoch 2/4: 100%|██████████| 8/8 [00:01<00:00,  5.53it/s, Training loss : 0.0052, Validation loss : 0.0063]\n",
      "Epoch 3/4: 100%|██████████| 8/8 [00:01<00:00,  5.49it/s, Training loss : 0.0043, Validation loss : 0.0057]\n",
      "Epoch 4/4: 100%|██████████| 8/8 [00:01<00:00,  5.45it/s]\n"
     ]
    },
    {
     "name": "stdout",
     "output_type": "stream",
     "text": [
      "Validation loss is not decreasing anymore, risk of overfitting the model after 4 epochs. The training will be stopped. This behavior can be modified by setting the early_stop property of the model to False\n",
      "Fitting individual 18/20 with genotype {'epochs': 9, 'r': 2, 'no_of_conv_kernels': 128, 'secondary_capsule_vector': 13, 'epsilon': 0.010150696267144623, 'm_plus': 0.9870610220899425, 'm_minus': 0.1273287558695721, 'lambda_': 0.589486121337369, 'alpha': 0.0035490495921486004, 'no_of_primary_capsules': 32, 'primary_capsule_vector': 8, 'no_of_secondary_capsules': 10}\n"
     ]
    },
    {
     "name": "stderr",
     "output_type": "stream",
     "text": [
      "Epoch 1/9: 100%|██████████| 8/8 [00:08<00:00,  1.04s/it, Training loss : 0.0102, Validation loss : 0.0091]\n",
      "Epoch 2/9: 100%|██████████| 8/8 [00:02<00:00,  3.78it/s, Training loss : 0.0049, Validation loss : 0.0058]\n",
      "Epoch 3/9: 100%|██████████| 8/8 [00:02<00:00,  3.86it/s, Training loss : 0.0031, Validation loss : 0.0043]\n",
      "Epoch 4/9: 100%|██████████| 8/8 [00:02<00:00,  3.75it/s, Training loss : 0.0023, Validation loss : 0.0038]\n",
      "Epoch 5/9: 100%|██████████| 8/8 [00:02<00:00,  3.79it/s, Training loss : 0.0017, Validation loss : 0.0030]\n",
      "Epoch 6/9: 100%|██████████| 8/8 [00:02<00:00,  3.84it/s, Training loss : 0.0014, Validation loss : 0.0029]\n",
      "Epoch 7/9: 100%|██████████| 8/8 [00:02<00:00,  3.89it/s, Training loss : 0.0011, Validation loss : 0.0026]\n",
      "Epoch 8/9: 100%|██████████| 8/8 [00:02<00:00,  3.83it/s]"
     ]
    },
    {
     "name": "stdout",
     "output_type": "stream",
     "text": [
      "Validation loss is not decreasing anymore, risk of overfitting the model after 8 epochs. The training will be stopped. This behavior can be modified by setting the early_stop property of the model to False\n"
     ]
    },
    {
     "name": "stderr",
     "output_type": "stream",
     "text": [
      "\n"
     ]
    },
    {
     "name": "stdout",
     "output_type": "stream",
     "text": [
      "Fitting individual 19/20 with genotype {'epochs': 9, 'r': 2, 'no_of_conv_kernels': 32, 'secondary_capsule_vector': 17, 'epsilon': 0.05232117542627749, 'm_plus': 0.9180899836298325, 'm_minus': 0.10485632185796447, 'lambda_': 0.3725988829714305, 'alpha': 0.00500346658531053, 'no_of_primary_capsules': 32, 'primary_capsule_vector': 8, 'no_of_secondary_capsules': 10}\n"
     ]
    },
    {
     "name": "stderr",
     "output_type": "stream",
     "text": [
      "Epoch 1/9: 100%|██████████| 8/8 [00:07<00:00,  1.04it/s, Training loss : 0.0070, Validation loss : 0.0062]\n",
      "Epoch 2/9: 100%|██████████| 8/8 [00:01<00:00,  5.51it/s, Training loss : 0.0037, Validation loss : 0.0052]\n",
      "Epoch 3/9: 100%|██████████| 8/8 [00:01<00:00,  5.55it/s, Training loss : 0.0029, Validation loss : 0.0039]\n",
      "Epoch 4/9: 100%|██████████| 8/8 [00:01<00:00,  5.48it/s, Training loss : 0.0024, Validation loss : 0.0035]\n",
      "Epoch 5/9: 100%|██████████| 8/8 [00:01<00:00,  5.41it/s, Training loss : 0.0020, Validation loss : 0.0033]\n",
      "Epoch 6/9: 100%|██████████| 8/8 [00:01<00:00,  5.55it/s, Training loss : 0.0018, Validation loss : 0.0028]\n",
      "Epoch 7/9: 100%|██████████| 8/8 [00:01<00:00,  5.57it/s]\n"
     ]
    },
    {
     "name": "stdout",
     "output_type": "stream",
     "text": [
      "Validation loss is not decreasing anymore, risk of overfitting the model after 7 epochs. The training will be stopped. This behavior can be modified by setting the early_stop property of the model to False\n",
      "Fitting individual 20/20 with genotype {'epochs': 8, 'r': 2, 'no_of_conv_kernels': 128, 'secondary_capsule_vector': 29, 'epsilon': 0.05513698811649692, 'm_plus': 0.927030504300704, 'm_minus': 0.13086659675088153, 'lambda_': 0.4450531286690841, 'alpha': 0.008576544768202351, 'no_of_primary_capsules': 32, 'primary_capsule_vector': 8, 'no_of_secondary_capsules': 10}\n"
     ]
    },
    {
     "name": "stderr",
     "output_type": "stream",
     "text": [
      "Epoch 1/8: 100%|██████████| 8/8 [00:08<00:00,  1.11s/it, Training loss : 0.0070, Validation loss : 0.0058]\n",
      "Epoch 2/8: 100%|██████████| 8/8 [00:02<00:00,  3.05it/s, Training loss : 0.0036, Validation loss : 0.0044]\n",
      "Epoch 3/8: 100%|██████████| 8/8 [00:02<00:00,  3.07it/s, Training loss : 0.0027, Validation loss : 0.0039]\n",
      "Epoch 4/8: 100%|██████████| 8/8 [00:02<00:00,  3.06it/s, Training loss : 0.0022, Validation loss : 0.0034]\n",
      "Epoch 5/8: 100%|██████████| 8/8 [00:02<00:00,  2.98it/s]"
     ]
    },
    {
     "name": "stdout",
     "output_type": "stream",
     "text": [
      "Validation loss is not decreasing anymore, risk of overfitting the model after 5 epochs. The training will be stopped. This behavior can be modified by setting the early_stop property of the model to False\n"
     ]
    },
    {
     "name": "stderr",
     "output_type": "stream",
     "text": [
      "\n"
     ]
    },
    {
     "name": "stdout",
     "output_type": "stream",
     "text": [
      "Len of pop after selection : 10\n",
      "Fitting individual 1/10 with genotype {'epochs': 8, 'r': 2, 'no_of_conv_kernels': 32, 'secondary_capsule_vector': 17, 'epsilon': 0.05232117542627749, 'm_plus': 0.9180899836298325, 'm_minus': 0.10485632185796447, 'lambda_': 0.3725988829714305, 'alpha': 0.00500346658531053, 'no_of_primary_capsules': 32, 'primary_capsule_vector': 8, 'no_of_secondary_capsules': 10}\n"
     ]
    },
    {
     "name": "stderr",
     "output_type": "stream",
     "text": [
      "Epoch 1/8: 100%|██████████| 8/8 [00:07<00:00,  1.01it/s, Training loss : 0.0069, Validation loss : 0.0065]\n",
      "Epoch 2/8: 100%|██████████| 8/8 [00:01<00:00,  5.42it/s, Training loss : 0.0039, Validation loss : 0.0053]\n",
      "Epoch 3/8: 100%|██████████| 8/8 [00:01<00:00,  5.54it/s, Training loss : 0.0030, Validation loss : 0.0042]\n",
      "Epoch 4/8: 100%|██████████| 8/8 [00:01<00:00,  5.45it/s, Training loss : 0.0025, Validation loss : 0.0038]\n",
      "Epoch 5/8: 100%|██████████| 8/8 [00:01<00:00,  5.21it/s, Training loss : 0.0021, Validation loss : 0.0035]\n",
      "Epoch 6/8: 100%|██████████| 8/8 [00:01<00:00,  5.53it/s, Training loss : 0.0019, Validation loss : 0.0033]\n",
      "Epoch 7/8: 100%|██████████| 8/8 [00:01<00:00,  5.56it/s, Training loss : 0.0017, Validation loss : 0.0030]\n",
      "Epoch 8/8: 100%|██████████| 8/8 [00:01<00:00,  5.56it/s, Training loss : 0.0015, Validation loss : 0.0028]\n"
     ]
    },
    {
     "name": "stdout",
     "output_type": "stream",
     "text": [
      "Fitting individual 2/10 with genotype {'epochs': 8, 'r': 2, 'no_of_conv_kernels': 128, 'secondary_capsule_vector': 29, 'epsilon': 0.05513698811649692, 'm_plus': 0.927030504300704, 'm_minus': 0.13086659675088153, 'lambda_': 0.4450531286690841, 'alpha': 0.008576544768202351, 'no_of_primary_capsules': 32, 'primary_capsule_vector': 8, 'no_of_secondary_capsules': 10}\n"
     ]
    },
    {
     "name": "stderr",
     "output_type": "stream",
     "text": [
      "Epoch 1/8: 100%|██████████| 8/8 [00:08<00:00,  1.10s/it, Training loss : 0.0090, Validation loss : 0.0087]\n",
      "Epoch 2/8: 100%|██████████| 8/8 [00:02<00:00,  2.94it/s, Training loss : 0.0056, Validation loss : 0.0057]\n",
      "Epoch 3/8: 100%|██████████| 8/8 [00:02<00:00,  3.14it/s, Training loss : 0.0036, Validation loss : 0.0049]\n",
      "Epoch 4/8: 100%|██████████| 8/8 [00:02<00:00,  3.15it/s, Training loss : 0.0028, Validation loss : 0.0038]\n",
      "Epoch 5/8: 100%|██████████| 8/8 [00:02<00:00,  3.14it/s, Training loss : 0.0023, Validation loss : 0.0035]\n",
      "Epoch 6/8: 100%|██████████| 8/8 [00:02<00:00,  3.14it/s, Training loss : 0.0019, Validation loss : 0.0031]\n",
      "Epoch 7/8: 100%|██████████| 8/8 [00:02<00:00,  3.12it/s, Training loss : 0.0016, Validation loss : 0.0027]\n",
      "Epoch 8/8: 100%|██████████| 8/8 [00:02<00:00,  2.98it/s]"
     ]
    },
    {
     "name": "stdout",
     "output_type": "stream",
     "text": [
      "Validation loss is not decreasing anymore, risk of overfitting the model after 8 epochs. The training will be stopped. This behavior can be modified by setting the early_stop property of the model to False\n"
     ]
    },
    {
     "name": "stderr",
     "output_type": "stream",
     "text": [
      "\n"
     ]
    },
    {
     "name": "stdout",
     "output_type": "stream",
     "text": [
      "Fitting individual 3/10 with genotype {'epochs': 4, 'r': 2, 'no_of_conv_kernels': 32, 'secondary_capsule_vector': 40, 'epsilon': 0.05209592518481137, 'm_plus': 0.9023242423162842, 'm_minus': 0.1906554749185549, 'lambda_': 0.8873799144683876, 'alpha': 0.005358079653792517, 'no_of_primary_capsules': 32, 'primary_capsule_vector': 8, 'no_of_secondary_capsules': 10}\n"
     ]
    },
    {
     "name": "stderr",
     "output_type": "stream",
     "text": [
      "Epoch 1/4: 100%|██████████| 8/8 [00:08<00:00,  1.06s/it, Training loss : 0.0072, Validation loss : 0.0072]\n",
      "Epoch 2/4: 100%|██████████| 8/8 [00:02<00:00,  3.87it/s, Training loss : 0.0046, Validation loss : 0.0054]\n",
      "Epoch 3/4: 100%|██████████| 8/8 [00:02<00:00,  3.61it/s, Training loss : 0.0031, Validation loss : 0.0046]\n",
      "Epoch 4/4: 100%|██████████| 8/8 [00:02<00:00,  3.87it/s, Training loss : 0.0024, Validation loss : 0.0037]\n"
     ]
    },
    {
     "name": "stdout",
     "output_type": "stream",
     "text": [
      "Fitting individual 4/10 with genotype {'epochs': 4, 'r': 2, 'no_of_conv_kernels': 128, 'secondary_capsule_vector': 13, 'epsilon': 0.010150696267144623, 'm_plus': 0.9870610220899425, 'm_minus': 0.1273287558695721, 'lambda_': 0.589486121337369, 'alpha': 0.0035490495921486004, 'no_of_primary_capsules': 32, 'primary_capsule_vector': 8, 'no_of_secondary_capsules': 10}\n"
     ]
    },
    {
     "name": "stderr",
     "output_type": "stream",
     "text": [
      "Epoch 1/4: 100%|██████████| 8/8 [00:08<00:00,  1.05s/it, Training loss : 0.0090, Validation loss : 0.0070]\n",
      "Epoch 2/4: 100%|██████████| 8/8 [00:02<00:00,  3.85it/s, Training loss : 0.0039, Validation loss : 0.0054]\n",
      "Epoch 3/4: 100%|██████████| 8/8 [00:02<00:00,  3.78it/s, Training loss : 0.0026, Validation loss : 0.0037]\n",
      "Epoch 4/4: 100%|██████████| 8/8 [00:02<00:00,  3.89it/s, Training loss : 0.0019, Validation loss : 0.0035]\n"
     ]
    },
    {
     "name": "stdout",
     "output_type": "stream",
     "text": [
      "Fitting individual 5/10 with genotype {'epochs': 6, 'r': 4, 'no_of_conv_kernels': 128, 'secondary_capsule_vector': 15, 'epsilon': 0.06800379088482035, 'm_plus': 0.9696333978157642, 'm_minus': 0.10955792927508719, 'lambda_': 0.5515933246913507, 'alpha': 0.00883349140619128, 'no_of_primary_capsules': 32, 'primary_capsule_vector': 8, 'no_of_secondary_capsules': 10}\n"
     ]
    },
    {
     "name": "stderr",
     "output_type": "stream",
     "text": [
      "Epoch 1/6: 100%|██████████| 8/8 [00:15<00:00,  1.88s/it, Training loss : 0.0096, Validation loss : 0.0107]\n",
      "Epoch 2/6: 100%|██████████| 8/8 [00:02<00:00,  2.91it/s, Training loss : 0.0065, Validation loss : 0.0076]\n",
      "Epoch 3/6: 100%|██████████| 8/8 [00:02<00:00,  2.91it/s, Training loss : 0.0047, Validation loss : 0.0066]\n",
      "Epoch 4/6: 100%|██████████| 8/8 [00:02<00:00,  2.90it/s, Training loss : 0.0039, Validation loss : 0.0058]\n",
      "Epoch 5/6: 100%|██████████| 8/8 [00:02<00:00,  2.82it/s, Training loss : 0.0033, Validation loss : 0.0052]\n",
      "Epoch 6/6: 100%|██████████| 8/8 [00:02<00:00,  2.92it/s, Training loss : 0.0029, Validation loss : 0.0048]\n"
     ]
    },
    {
     "name": "stdout",
     "output_type": "stream",
     "text": [
      "Fitting individual 6/10 with genotype {'epochs': 2, 'r': 2, 'no_of_conv_kernels': 64, 'secondary_capsule_vector': 27, 'epsilon': 0.05120899195180402, 'm_plus': 0.9186122935560379, 'm_minus': 0.10822544167073443, 'lambda_': 0.5429020690074616, 'alpha': 0.0008434528213797018, 'no_of_primary_capsules': 32, 'primary_capsule_vector': 8, 'no_of_secondary_capsules': 10}\n"
     ]
    },
    {
     "name": "stderr",
     "output_type": "stream",
     "text": [
      "Epoch 1/2: 100%|██████████| 8/8 [00:08<00:00,  1.03s/it, Training loss : 0.0073, Validation loss : 0.0067]\n",
      "Epoch 2/2: 100%|██████████| 8/8 [00:02<00:00,  3.99it/s, Training loss : 0.0042, Validation loss : 0.0052]\n"
     ]
    },
    {
     "name": "stdout",
     "output_type": "stream",
     "text": [
      "Fitting individual 7/10 with genotype {'epochs': 6, 'r': 3, 'no_of_conv_kernels': 32, 'secondary_capsule_vector': 11, 'epsilon': 0.06024632554009842, 'm_plus': 0.943141653992636, 'm_minus': 0.06851804976351031, 'lambda_': 0.6791863998426438, 'alpha': 0.007083280875562993, 'no_of_primary_capsules': 32, 'primary_capsule_vector': 8, 'no_of_secondary_capsules': 10}\n"
     ]
    },
    {
     "name": "stderr",
     "output_type": "stream",
     "text": [
      "Epoch 1/6: 100%|██████████| 8/8 [00:10<00:00,  1.35s/it, Training loss : 0.0106, Validation loss : 0.0118]\n",
      "Epoch 2/6: 100%|██████████| 8/8 [00:01<00:00,  4.90it/s, Training loss : 0.0078, Validation loss : 0.0095]\n",
      "Epoch 3/6: 100%|██████████| 8/8 [00:01<00:00,  5.14it/s, Training loss : 0.0062, Validation loss : 0.0083]\n",
      "Epoch 4/6: 100%|██████████| 8/8 [00:01<00:00,  5.16it/s, Training loss : 0.0054, Validation loss : 0.0078]\n",
      "Epoch 5/6: 100%|██████████| 8/8 [00:01<00:00,  5.13it/s, Training loss : 0.0048, Validation loss : 0.0070]\n",
      "Epoch 6/6: 100%|██████████| 8/8 [00:01<00:00,  5.14it/s]\n"
     ]
    },
    {
     "name": "stdout",
     "output_type": "stream",
     "text": [
      "Validation loss is not decreasing anymore, risk of overfitting the model after 6 epochs. The training will be stopped. This behavior can be modified by setting the early_stop property of the model to False\n",
      "Fitting individual 8/10 with genotype {'epochs': 4, 'r': 4, 'no_of_conv_kernels': 64, 'secondary_capsule_vector': 47, 'epsilon': 0.07681448841936944, 'm_plus': 0.9682750370803435, 'm_minus': 0.19138123792827966, 'lambda_': 0.9195772489415348, 'alpha': 0.00045246960384149, 'no_of_primary_capsules': 32, 'primary_capsule_vector': 8, 'no_of_secondary_capsules': 10}\n"
     ]
    },
    {
     "name": "stderr",
     "output_type": "stream",
     "text": [
      "Epoch 1/4: 100%|██████████| 8/8 [00:17<00:00,  2.16s/it, Training loss : 0.0089, Validation loss : 0.0091]\n",
      "Epoch 2/4: 100%|██████████| 8/8 [00:04<00:00,  1.70it/s, Training loss : 0.0065, Validation loss : 0.0078]\n",
      "Epoch 3/4: 100%|██████████| 8/8 [00:04<00:00,  1.72it/s, Training loss : 0.0049, Validation loss : 0.0063]\n",
      "Epoch 4/4: 100%|██████████| 8/8 [00:04<00:00,  1.73it/s, Training loss : 0.0040, Validation loss : 0.0057]\n"
     ]
    },
    {
     "name": "stdout",
     "output_type": "stream",
     "text": [
      "Fitting individual 9/10 with genotype {'epochs': 4, 'r': 4, 'no_of_conv_kernels': 64, 'secondary_capsule_vector': 38, 'epsilon': 0.03145205493061102, 'm_plus': 0.9472008817830653, 'm_minus': 0.18327469841314215, 'lambda_': 0.5160065064404878, 'alpha': 0.004276723340741172, 'no_of_primary_capsules': 32, 'primary_capsule_vector': 8, 'no_of_secondary_capsules': 10}\n"
     ]
    },
    {
     "name": "stderr",
     "output_type": "stream",
     "text": [
      "Epoch 1/4: 100%|██████████| 8/8 [00:15<00:00,  1.96s/it, Training loss : 0.0085, Validation loss : 0.0070]\n",
      "Epoch 2/4: 100%|██████████| 8/8 [00:03<00:00,  2.38it/s, Training loss : 0.0046, Validation loss : 0.0052]\n",
      "Epoch 3/4: 100%|██████████| 8/8 [00:03<00:00,  2.48it/s, Training loss : 0.0029, Validation loss : 0.0036]\n",
      "Epoch 4/4: 100%|██████████| 8/8 [00:03<00:00,  2.46it/s, Training loss : 0.0022, Validation loss : 0.0035]\n"
     ]
    },
    {
     "name": "stdout",
     "output_type": "stream",
     "text": [
      "Fitting individual 10/10 with genotype {'epochs': 4, 'r': 4, 'no_of_conv_kernels': 64, 'secondary_capsule_vector': 19, 'epsilon': 0.09034235713835775, 'm_plus': 0.9241971359918738, 'm_minus': 0.14126204271041115, 'lambda_': 0.7888534840964604, 'alpha': 0.006544772852987874, 'no_of_primary_capsules': 32, 'primary_capsule_vector': 8, 'no_of_secondary_capsules': 10}\n"
     ]
    },
    {
     "name": "stderr",
     "output_type": "stream",
     "text": [
      "Epoch 1/4: 100%|██████████| 8/8 [00:15<00:00,  1.88s/it, Training loss : 0.0090, Validation loss : 0.0105]\n",
      "Epoch 2/4: 100%|██████████| 8/8 [00:02<00:00,  3.00it/s, Training loss : 0.0068, Validation loss : 0.0079]\n",
      "Epoch 3/4: 100%|██████████| 8/8 [00:02<00:00,  2.82it/s, Training loss : 0.0054, Validation loss : 0.0073]\n",
      "Epoch 4/4: 100%|██████████| 8/8 [00:02<00:00,  3.03it/s, Training loss : 0.0047, Validation loss : 0.0071]\n"
     ]
    },
    {
     "name": "stdout",
     "output_type": "stream",
     "text": [
      "Saving GA metrics under nas_mnist_1/generations_metrics.png\n",
      "Optimal solution(s):\n",
      "[{'epochs': 8, 'r': 2, 'no_of_conv_kernels': 32, 'secondary_capsule_vector': 17, 'epsilon': 0.05232117542627749, 'm_plus': 0.9180899836298325, 'm_minus': 0.10485632185796447, 'lambda_': 0.3725988829714305, 'alpha': 0.00500346658531053, 'no_of_primary_capsules': 32, 'primary_capsule_vector': 8, 'no_of_secondary_capsules': 10}, {'epochs': 8, 'r': 2, 'no_of_conv_kernels': 128, 'secondary_capsule_vector': 29, 'epsilon': 0.05513698811649692, 'm_plus': 0.927030504300704, 'm_minus': 0.13086659675088153, 'lambda_': 0.4450531286690841, 'alpha': 0.008576544768202351, 'no_of_primary_capsules': 32, 'primary_capsule_vector': 8, 'no_of_secondary_capsules': 10}]\n",
      "______________\n",
      "Fitness values:\n",
      "  Inference    Accuracy\n",
      "[[10.57075977  0.93      ]\n",
      " [10.87046981  0.945     ]]\n",
      "=== GA done in : 0:21:10.435366 ===\n",
      "Saving GA solutions under nas_mnist_1/solutions_metrics.png\n"
     ]
    },
    {
     "data": {
      "image/png": "[encoded data removed]",
      "text/plain": [
       "<Figure size 640x480 with 1 Axes>"
      ]
     },
     "metadata": {},
     "output_type": "display_data"
    },
    {
     "data": {
      "image/png": "[encoded data removed]",
      "text/plain": [
       "<Figure size 640x480 with 1 Axes>"
      ]
     },
     "metadata": {},
     "output_type": "display_data"
    }
   ],
   "source": [
    "(X_train, y_train), (X_test , y_test) = load_mnist(size=(500, 200))\n",
    "\n",
    "params = {\n",
    "    \"name\": 'nas_mnist_1',\n",
    "    'n_gen': 2,\n",
    "    'pop_size': 10,\n",
    "    'rate_crossover': 0.7,\n",
    "    'rate_mutation': 0.3,\n",
    "    'rate_local_search': 0.1,\n",
    "    'step_size': 0.1,\n",
    "    'train_data': (X_train, y_train),\n",
    "    'test_data': (X_test, y_test)\n",
    "}\n",
    "\n",
    "nas = Nsga_II(**params)\n",
    "\n",
    "if nas.valid:\n",
    "    solutions = nas.optimise()"
   ]
  },
  {
   "cell_type": "code",
   "execution_count": 31,
   "metadata": {},
   "outputs": [
    {
     "name": "stdout",
     "output_type": "stream",
     "text": [
      "[{'epochs': 8, 'r': 2, 'no_of_conv_kernels': 32, 'secondary_capsule_vector': 17, 'epsilon': 0.05232117542627749, 'm_plus': 0.9180899836298325, 'm_minus': 0.10485632185796447, 'lambda_': 0.3725988829714305, 'alpha': 0.00500346658531053, 'no_of_primary_capsules': 32, 'primary_capsule_vector': 8, 'no_of_secondary_capsules': 10}, {'epochs': 8, 'r': 2, 'no_of_conv_kernels': 128, 'secondary_capsule_vector': 29, 'epsilon': 0.05513698811649692, 'm_plus': 0.927030504300704, 'm_minus': 0.13086659675088153, 'lambda_': 0.4450531286690841, 'alpha': 0.008576544768202351, 'no_of_primary_capsules': 32, 'primary_capsule_vector': 8, 'no_of_secondary_capsules': 10}]\n"
     ]
    }
   ],
   "source": [
    "print(solutions)"
   ]
  },
  {
   "attachments": {},
   "cell_type": "markdown",
   "metadata": {},
   "source": [
    "# Comparison to baseline CapsNet and ConvNet models"
   ]
  },
  {
   "attachments": {},
   "cell_type": "markdown",
   "metadata": {},
   "source": [
    "## ConvNet"
   ]
  },
  {
   "cell_type": "code",
   "execution_count": 32,
   "metadata": {},
   "outputs": [
    {
     "name": "stdout",
     "output_type": "stream",
     "text": [
      "Model: \"sequential_5\"\n",
      "_________________________________________________________________\n",
      " Layer (type)                Output Shape              Param #   \n",
      "=================================================================\n",
      " conv2d_5 (Conv2D)           (None, 26, 26, 32)        320       \n",
      "                                                                 \n",
      " max_pooling2d_5 (MaxPooling  (None, 13, 13, 32)       0         \n",
      " 2D)                                                             \n"
     ]
    },
    {
     "name": "stdout",
     "output_type": "stream",
     "text": [
      "                                                                 \n",
      " flatten_5 (Flatten)         (None, 5408)              0         \n",
      "                                                                 \n",
      " dense_132 (Dense)           (None, 100)               540900    \n",
      "                                                                 \n",
      " dense_133 (Dense)           (None, 10)                1010      \n",
      "                                                                 \n",
      "=================================================================\n",
      "Total params: 542,230\n",
      "Trainable params: 542,230\n",
      "Non-trainable params: 0\n",
      "_________________________________________________________________\n"
     ]
    }
   ],
   "source": [
    "ConvNetModel = tf.keras.Sequential([\n",
    "    tf.keras.layers.Conv2D(32, (3, 3), activation='relu', input_shape=(28, 28, 1)),\n",
    "    tf.keras.layers.MaxPooling2D((2, 2)),\n",
    "    tf.keras.layers.Flatten(),\n",
    "    tf.keras.layers.Dense(100, activation='relu'),\n",
    "    tf.keras.layers.Dense(10, activation='softmax')\n",
    "])\n",
    "ConvNetModel.summary()"
   ]
  },
  {
   "cell_type": "code",
   "execution_count": 33,
   "metadata": {},
   "outputs": [],
   "source": [
    "ConvNetModel.compile(tf.optimizers.legacy.Adam(), loss='categorical_crossentropy', metrics=['accuracy'])"
   ]
  },
  {
   "cell_type": "code",
   "execution_count": 34,
   "metadata": {},
   "outputs": [],
   "source": [
    "tf_y_train = tf.keras.utils.to_categorical(y_train)\n",
    "tf_y_test = tf.keras.utils.to_categorical(y_test)"
   ]
  },
  {
   "cell_type": "code",
   "execution_count": 35,
   "metadata": {},
   "outputs": [
    {
     "name": "stdout",
     "output_type": "stream",
     "text": [
      "Epoch 1/10\n",
      "16/16 [==============================] - 0s 11ms/step - loss: 1.6908 - accuracy: 0.5760 - val_loss: 1.0884 - val_accuracy: 0.7150\n",
      "Epoch 2/10\n",
      "16/16 [==============================] - 0s 7ms/step - loss: 0.5929 - accuracy: 0.8680 - val_loss: 0.6026 - val_accuracy: 0.7750\n",
      "Epoch 3/10\n",
      "16/16 [==============================] - 0s 8ms/step - loss: 0.3469 - accuracy: 0.8860 - val_loss: 0.4232 - val_accuracy: 0.8650\n",
      "Epoch 4/10\n",
      "16/16 [==============================] - 0s 8ms/step - loss: 0.2235 - accuracy: 0.9320 - val_loss: 0.3330 - val_accuracy: 0.9100\n",
      "Epoch 5/10\n",
      "16/16 [==============================] - 0s 7ms/step - loss: 0.1589 - accuracy: 0.9560 - val_loss: 0.2360 - val_accuracy: 0.9400\n",
      "Epoch 6/10\n",
      "16/16 [==============================] - 0s 7ms/step - loss: 0.1113 - accuracy: 0.9760 - val_loss: 0.2532 - val_accuracy: 0.9350\n",
      "Epoch 7/10\n",
      "16/16 [==============================] - 0s 7ms/step - loss: 0.0771 - accuracy: 0.9840 - val_loss: 0.2696 - val_accuracy: 0.9150\n",
      "Epoch 8/10\n",
      "16/16 [==============================] - 0s 7ms/step - loss: 0.0484 - accuracy: 0.9960 - val_loss: 0.2404 - val_accuracy: 0.9250\n",
      "Epoch 9/10\n",
      "16/16 [==============================] - 0s 7ms/step - loss: 0.0335 - accuracy: 1.0000 - val_loss: 0.2415 - val_accuracy: 0.9200\n",
      "Epoch 10/10\n",
      "16/16 [==============================] - 0s 7ms/step - loss: 0.0248 - accuracy: 0.9980 - val_loss: 0.2323 - val_accuracy: 0.9250\n"
     ]
    }
   ],
   "source": [
    "history = ConvNetModel.fit(X_train, tf_y_train, epochs=10, batch_size=32, validation_data=(X_test, tf_y_test))"
   ]
  },
  {
   "attachments": {},
   "cell_type": "markdown",
   "metadata": {},
   "source": [
    "## Baseline CapsNet"
   ]
  },
  {
   "cell_type": "code",
   "execution_count": 36,
   "metadata": {},
   "outputs": [
    {
     "name": "stdout",
     "output_type": "stream",
     "text": [
      "Model: \"BaselineCapsNetModel\"\n",
      "_________________________________________________________________\n",
      " Layer (type)                Output Shape              Param #   \n",
      "=================================================================\n",
      " ConvolutionLayer (Conv2D)   multiple                  0 (unused)\n",
      "                                                                 \n",
      " PrimaryCapsule (Conv2D)     multiple                  0 (unused)\n",
      "                                                                 \n",
      " dense_134 (Dense)           multiple                  0 (unused)\n",
      "                                                                 \n",
      " dense_135 (Dense)           multiple                  0 (unused)\n",
      "                                                                 \n",
      "=================================================================\n",
      "Total params: 1,474,560\n",
      "Trainable params: 1,474,560\n",
      "Non-trainable params: 0\n",
      "_________________________________________________________________\n"
     ]
    }
   ],
   "source": [
    "params = {\n",
    "    \"epochs\": 10,\n",
    "    \"epsilon\": 1e-7,\n",
    "    \"m_minus\": 0.1,\n",
    "    \"m_plus\": 0.9,\n",
    "    \"lambda_\": 0.5,\n",
    "    \"alpha\": 0.0005,\n",
    "    \"no_of_conv_kernels\": 128,\n",
    "    \"no_of_primary_capsules\": 32,\n",
    "    \"no_of_secondary_capsules\": 10,\n",
    "    \"primary_capsule_vector\": 8,\n",
    "    \"secondary_capsule_vector\": 16,\n",
    "    \"r\":3,\n",
    "}\n",
    "\n",
    "BaselineCapsNetModel = CapsNet(**params)\n",
    "BaselineCapsNetModel._name = 'BaselineCapsNetModel'\n",
    "BaselineCapsNetModel.compile()\n",
    "BaselineCapsNetModel.summary()"
   ]
  },
  {
   "cell_type": "code",
   "execution_count": 37,
   "metadata": {},
   "outputs": [
    {
     "name": "stderr",
     "output_type": "stream",
     "text": [
      "Epoch 1/10: 100%|██████████| 8/8 [00:22<00:00,  2.84s/it, Training loss : 0.0096, Validation loss : 0.0079]\n",
      "Epoch 2/10: 100%|██████████| 8/8 [00:03<00:00,  2.46it/s, Training loss : 0.0047, Validation loss : 0.0046]\n",
      "Epoch 3/10: 100%|██████████| 8/8 [00:03<00:00,  2.53it/s, Training loss : 0.0026, Validation loss : 0.0033]\n",
      "Epoch 4/10: 100%|██████████| 8/8 [00:03<00:00,  2.53it/s, Training loss : 0.0018, Validation loss : 0.0027]\n",
      "Epoch 5/10: 100%|██████████| 8/8 [00:03<00:00,  2.52it/s, Training loss : 0.0013, Validation loss : 0.0024]\n",
      "Epoch 6/10: 100%|██████████| 8/8 [00:03<00:00,  2.51it/s, Training loss : 0.0010, Validation loss : 0.0021]\n",
      "Epoch 7/10: 100%|██████████| 8/8 [00:03<00:00,  2.46it/s, Training loss : 0.0007, Validation loss : 0.0018]\n",
      "Epoch 8/10: 100%|██████████| 8/8 [00:03<00:00,  2.52it/s, Training loss : 0.0005, Validation loss : 0.0017]\n",
      "Epoch 9/10: 100%|██████████| 8/8 [00:03<00:00,  2.52it/s, Training loss : 0.0004, Validation loss : 0.0015]\n",
      "Epoch 10/10: 100%|██████████| 8/8 [00:02<00:00,  3.22it/s]"
     ]
    },
    {
     "name": "stdout",
     "output_type": "stream",
     "text": [
      "Validation loss is not decreasing anymore, risk of overfitting the model after 10 epochs. The training will be stopped. This behavior can be modified by setting the early_stop property of the model to False\n"
     ]
    },
    {
     "name": "stderr",
     "output_type": "stream",
     "text": [
      "\n"
     ]
    },
    {
     "data": {
      "text/plain": [
       "{'accuracy': ListWrapper([0.656, 0.85, 0.906, 0.93, 0.966, 0.976, 0.99, 0.996, 0.996]),\n",
       " 'loss': ListWrapper([0.009580964222550392, 0.004707047250121832, 0.0026326647493988276, 0.0017892122268676758, 0.0012966346694156528, 0.0009574652067385614, 0.000689834589138627, 0.0005270991241559386, 0.00040328592876903713]),\n",
       " 'val_accuracy': ListWrapper([0.545, 0.735, 0.825, 0.87, 0.905, 0.925, 0.93, 0.95, 0.96]),\n",
       " 'val_loss': ListWrapper([0.007945450954139233, 0.0046403128653764725, 0.0033307457342743874, 0.002656318014487624, 0.0024269847199320793, 0.0020739601459354162, 0.0017720959149301052, 0.001712906057946384, 0.001466113142669201])}"
      ]
     },
     "execution_count": 37,
     "metadata": {},
     "output_type": "execute_result"
    }
   ],
   "source": [
    "BaselineCapsNetModel.fit(X_train, y_train, tf.keras.optimizers.legacy.Adam(), train_metrics=['accuracy'], validation=(X_test, y_test))"
   ]
  },
  {
   "cell_type": "code",
   "execution_count": 38,
   "metadata": {},
   "outputs": [],
   "source": [
    "BaselineCapsNetModel.training_metrics = {\n",
    "    'loss': BaselineCapsNetModel.training_metrics['loss'],\n",
    "    'accuracy': BaselineCapsNetModel.training_metrics['accuracy'],\n",
    "    'val_loss': BaselineCapsNetModel.training_metrics['val_loss'],\n",
    "    'val_accuracy': BaselineCapsNetModel.training_metrics['val_accuracy'],\n",
    "}"
   ]
  },
  {
   "attachments": {},
   "cell_type": "markdown",
   "metadata": {},
   "source": [
    "## Nas CapsNet"
   ]
  },
  {
   "cell_type": "code",
   "execution_count": 59,
   "metadata": {},
   "outputs": [
    {
     "name": "stdout",
     "output_type": "stream",
     "text": [
      "Model: \"NasCapsNet\"\n",
      "_________________________________________________________________\n",
      " Layer (type)                Output Shape              Param #   \n",
      "=================================================================\n",
      " ConvolutionLayer (Conv2D)   multiple                  0 (unused)\n",
      "                                                                 \n",
      " PrimaryCapsule (Conv2D)     multiple                  0 (unused)\n",
      "                                                                 \n",
      " dense_140 (Dense)           multiple                  0 (unused)\n",
      "                                                                 \n",
      " dense_141 (Dense)           multiple                  0 (unused)\n",
      "                                                                 \n",
      "=================================================================\n",
      "Total params: 1,566,720\n",
      "Trainable params: 1,566,720\n",
      "Non-trainable params: 0\n",
      "_________________________________________________________________\n"
     ]
    }
   ],
   "source": [
    "params = solutions[0]\n",
    "NasCapsNet = CapsNet(**params)\n",
    "NasCapsNet._name = 'NasCapsNet'\n",
    "NasCapsNet.compile()\n",
    "NasCapsNet.summary()"
   ]
  },
  {
   "cell_type": "code",
   "execution_count": 60,
   "metadata": {},
   "outputs": [
    {
     "name": "stderr",
     "output_type": "stream",
     "text": [
      "Epoch 1/8: 100%|██████████| 8/8 [00:14<00:00,  1.87s/it, Training loss : 0.0075, Validation loss : 0.0070]\n",
      "Epoch 2/8: 100%|██████████| 8/8 [00:02<00:00,  3.93it/s, Training loss : 0.0040, Validation loss : 0.0054]\n",
      "Epoch 3/8: 100%|██████████| 8/8 [00:02<00:00,  3.90it/s, Training loss : 0.0030, Validation loss : 0.0044]\n",
      "Epoch 4/8: 100%|██████████| 8/8 [00:01<00:00,  4.17it/s, Training loss : 0.0025, Validation loss : 0.0040]\n",
      "Epoch 5/8: 100%|██████████| 8/8 [00:01<00:00,  4.07it/s, Training loss : 0.0022, Validation loss : 0.0035]\n",
      "Epoch 6/8: 100%|██████████| 8/8 [00:01<00:00,  4.09it/s, Training loss : 0.0019, Validation loss : 0.0035]\n",
      "Epoch 7/8: 100%|██████████| 8/8 [00:01<00:00,  4.27it/s, Training loss : 0.0017, Validation loss : 0.0030]\n",
      "Epoch 8/8: 100%|██████████| 8/8 [00:01<00:00,  5.18it/s]"
     ]
    },
    {
     "name": "stdout",
     "output_type": "stream",
     "text": [
      "Validation loss is not decreasing anymore, risk of overfitting the model after 8 epochs. The training will be stopped. This behavior can be modified by setting the early_stop property of the model to False\n"
     ]
    },
    {
     "name": "stderr",
     "output_type": "stream",
     "text": [
      "\n"
     ]
    },
    {
     "data": {
      "text/plain": [
       "{'accuracy': ListWrapper([0.744, 0.87, 0.92, 0.934, 0.964, 0.978, 0.982]),\n",
       " 'loss': ListWrapper([0.007456695195287466, 0.0039970241487026215, 0.0030330857262015343, 0.002523009665310383, 0.0021836357191205025, 0.001907704514451325, 0.0016904370859265327]),\n",
       " 'val_accuracy': ListWrapper([0.63, 0.775, 0.82, 0.845, 0.885, 0.895, 0.925]),\n",
       " 'val_loss': ListWrapper([0.006958479061722755, 0.005408365745097399, 0.004425352439284325, 0.0040494101122021675, 0.0035350278485566378, 0.0034628361463546753, 0.0030063120648264885])}"
      ]
     },
     "execution_count": 60,
     "metadata": {},
     "output_type": "execute_result"
    }
   ],
   "source": [
    "NasCapsNet.fit(X_train, y_train, tf.keras.optimizers.legacy.Adam(), train_metrics=['accuracy'], validation=(X_test, y_test))"
   ]
  },
  {
   "cell_type": "code",
   "execution_count": 61,
   "metadata": {},
   "outputs": [],
   "source": [
    "NasCapsNet.training_metrics = {\n",
    "    'loss': NasCapsNet.training_metrics['loss'],\n",
    "    'accuracy': NasCapsNet.training_metrics['accuracy'],\n",
    "    'val_loss': NasCapsNet.training_metrics['val_loss'],\n",
    "    'val_accuracy': NasCapsNet.training_metrics['val_accuracy'],\n",
    "}"
   ]
  },
  {
   "attachments": {},
   "cell_type": "markdown",
   "metadata": {},
   "source": [
    "## Evaluation"
   ]
  },
  {
   "cell_type": "code",
   "execution_count": 62,
   "metadata": {},
   "outputs": [
    {
     "data": {
      "image/png": "[encoded data removed]",
      "text/plain": [
       "<Figure size 1200x400 with 3 Axes>"
      ]
     },
     "metadata": {},
     "output_type": "display_data"
    }
   ],
   "source": [
    "import matplotlib.pyplot as plt\n",
    "import time\n",
    "import pandas as pd\n",
    "\n",
    "\n",
    "fig, axes = plt.subplots(1, 3, figsize=(12, 4))\n",
    "\n",
    "df_baseline = pd.DataFrame(history.history)\n",
    "plot_baseline = df_baseline.plot(ax=axes[0], title=\"ConvNet model\", legend=False)\n",
    "axes[0].set_ylim(0, 1)\n",
    "axes[0].set_xlim(0, 10)\n",
    "\n",
    "df_capsnet = pd.DataFrame(BaselineCapsNetModel.training_metrics)\n",
    "plot_capsnet = df_capsnet.plot(ax=axes[1], title=\"CapsNet model\", legend=False)  # Set legend=False here\n",
    "axes[1].set_ylim(0, 1)\n",
    "axes[1].set_xlim(0, 10)\n",
    "\n",
    "df_capsnet_nas = pd.DataFrame(NasCapsNet.training_metrics)\n",
    "plot_capsnet_nas = df_capsnet_nas.plot(ax=axes[2], title=\"CapsNet_nas model\")  # Set legend=False here\n",
    "axes[2].set_ylim(0, 1)\n",
    "axes[2].set_xlim(0, 4)\n",
    "\n",
    "axes[0].set_xlabel(\"Epochs\")\n",
    "axes[1].set_xlabel(\"Epochs\")\n",
    "axes[2].set_xlabel(\"Epochs\")\n",
    "\n",
    "\n",
    "# Show only one legend for both plots\n",
    "handles, labels = axes[2].get_legend_handles_labels()\n",
    "axes[2].legend(handles, labels, loc='center right', bbox_to_anchor=(1.4, 0.5), fancybox=True, ncol=1)\n",
    "\n",
    "plt.tight_layout()\n",
    "plt.show()"
   ]
  },
  {
   "cell_type": "code",
   "execution_count": 63,
   "metadata": {},
   "outputs": [],
   "source": [
    "n_rounds = 100"
   ]
  },
  {
   "cell_type": "code",
   "execution_count": 64,
   "metadata": {},
   "outputs": [],
   "source": [
    "conv_inv_time = []\n",
    "for i in range(n_rounds):\n",
    "    start = time.time()\n",
    "    ConvNetModel.predict(X_test, verbose=False)\n",
    "    end = time.time()\n",
    "    conv_inv_time.append((end - start) / len(X_test) * 1000)"
   ]
  },
  {
   "cell_type": "code",
   "execution_count": 65,
   "metadata": {},
   "outputs": [],
   "source": [
    "caps_inv_time = []\n",
    "for i in range(n_rounds):\n",
    "    start = time.time()\n",
    "    BaselineCapsNetModel.predict(X_test)\n",
    "    end = time.time()\n",
    "    caps_inv_time.append((end - start) / len(X_test) * 1000)"
   ]
  },
  {
   "cell_type": "code",
   "execution_count": 66,
   "metadata": {},
   "outputs": [],
   "source": [
    "caps_nas_inv_time = []\n",
    "for i in range(n_rounds):\n",
    "    start = time.time()\n",
    "    NasCapsNet.predict(X_test)\n",
    "    end = time.time()\n",
    "    caps_nas_inv_time.append((end - start) / len(X_test) * 1000)"
   ]
  },
  {
   "cell_type": "code",
   "execution_count": 67,
   "metadata": {},
   "outputs": [
    {
     "data": {
      "image/png": "[encoded data removed]",
      "text/plain": [
       "<Figure size 800x600 with 1 Axes>"
      ]
     },
     "metadata": {},
     "output_type": "display_data"
    }
   ],
   "source": [
    "df = pd.DataFrame({\n",
    "    \"conv\": conv_inv_time,\n",
    "    \"caps\": caps_inv_time,\n",
    "    \"caps nas\": caps_nas_inv_time\n",
    "})\n",
    "plt.figure(figsize=(8, 6))\n",
    "plt.boxplot(df.values, labels=df.columns)\n",
    "plt.title('Inference Time Comparison')\n",
    "plt.xlabel('Model')\n",
    "plt.ylabel('Inference Time (ms)')\n",
    "plt.grid(True)\n",
    "plt.show()"
   ]
  },
  {
   "cell_type": "code",
   "execution_count": 68,
   "metadata": {},
   "outputs": [
    {
     "data": {
      "image/png": "[encoded data removed]",
      "text/plain": [
       "<Figure size 640x480 with 1 Axes>"
      ]
     },
     "metadata": {},
     "output_type": "display_data"
    }
   ],
   "source": [
    "df = pd.DataFrame({\n",
    "    'conv': {'acc': history.history['accuracy'][-1], 'val_acc': history.history['val_accuracy'][-1]},\n",
    "    'caps': {'acc': BaselineCapsNetModel.training_metrics['accuracy'][-1], 'val_acc': BaselineCapsNetModel.training_metrics['val_accuracy'][-1]},\n",
    "    'caps_nas': {'acc': NasCapsNet.training_metrics['accuracy'][-1], 'val_acc': NasCapsNet.training_metrics['val_accuracy'][-1]},\n",
    "})\n",
    "\n",
    "df = df.T\n",
    "df.plot(kind='bar')\n",
    "plt.xlabel('Model')\n",
    "plt.ylabel('Accuracy')\n",
    "plt.title('Accuracy Comparison')\n",
    "plt.legend(title='Metric', loc='center left', bbox_to_anchor=(1, 0.5))\n",
    "plt.show()\n"
   ]
  }
 ],
 "metadata": {
  "kernelspec": {
   "display_name": "capsnet",
   "language": "python",
   "name": "python3"
  },
  "language_info": {
   "codemirror_mode": {
    "name": "ipython",
    "version": 3
   },
   "file_extension": ".py",
   "mimetype": "text/x-python",
   "name": "python",
   "nbconvert_exporter": "python",
   "pygments_lexer": "ipython3",
   "version": "3.10.11"
  },
  "orig_nbformat": 4
 },
 "nbformat": 4,
 "nbformat_minor": 2
}

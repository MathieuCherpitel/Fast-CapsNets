{
 "cells": [
  {
   "attachments": {},
   "cell_type": "markdown",
   "metadata": {},
   "source": [
    "# NAS on CapsNet on MNIST dataset"
   ]
  },
  {
   "cell_type": "code",
   "execution_count": 1,
   "metadata": {},
   "outputs": [],
   "source": [
    "# Setting PATH to import CapsNet class from python file to notebook\n",
    "\n",
    "import os\n",
    "import sys\n",
    "import tensorflow as tf\n",
    "\n",
    "directory_path = os.path.abspath(os.path.join('../src'))\n",
    "if directory_path not in sys.path:\n",
    "    sys.path.append(directory_path)\n",
    "\n",
    "from NsgaII import Nsga_II\n",
    "from utils.load_data import load_mnist\n",
    "from CapsNet import CapsNet"
   ]
  },
  {
   "cell_type": "code",
   "execution_count": 2,
   "metadata": {},
   "outputs": [
    {
     "name": "stdout",
     "output_type": "stream",
     "text": [
      "A ga has been saved under the same name (nas_mnist_1) replace ?\n",
      "=== Generation 1/2\n",
      "Len of pop before manipulations : 10\n",
      "crossover created 4 offspring(s)\n",
      "mutation created 1 offspring(s)\n",
      "local search created 0 offspring(s)\n",
      "Len of pop after manipulations : 15\n",
      "Fitting individual 1/15 with genotype {'epochs': 8, 'r': 3, 'no_of_conv_kernels': 64, 'secondary_capsule_vector': 46, 'dense_1': 512, 'dense_2': 1536, 'epsilon': 0.05885467790655129, 'm_plus': 0.9267301232254194, 'm_minus': 0.18867779271296387, 'lambda_': 0.7803898963078708, 'alpha': 0.005642933886685902, 'no_of_primary_capsules': 32, 'primary_capsule_vector': 8, 'no_of_secondary_capsules': 10}\n"
     ]
    },
    {
     "name": "stderr",
     "output_type": "stream",
     "text": [
      "Epoch 1/8:   0%|          | 0/8 [00:00<?, ?it/s]2023-07-28 12:27:48.768869: W tensorflow/tsl/platform/profile_utils/cpu_utils.cc:128] Failed to get CPU frequency: 0 Hz\n",
      "Epoch 1/8: 100%|██████████| 8/8 [00:13<00:00,  1.68s/it, Training loss : 0.0068, Validation loss : 0.0067]\n",
      "Epoch 2/8: 100%|██████████| 8/8 [00:03<00:00,  2.07it/s, Training loss : 0.0037, Validation loss : 0.0048]\n",
      "Epoch 3/8: 100%|██████████| 8/8 [00:04<00:00,  1.99it/s, Training loss : 0.0026, Validation loss : 0.0035]\n",
      "Epoch 4/8: 100%|██████████| 8/8 [00:03<00:00,  2.08it/s, Training loss : 0.0020, Validation loss : 0.0029]\n",
      "Epoch 5/8: 100%|██████████| 8/8 [00:03<00:00,  2.10it/s]"
     ]
    },
    {
     "name": "stdout",
     "output_type": "stream",
     "text": [
      "Validation loss is not decreasing anymore, risk of overfitting the model after 5 epochs. The training will be stopped. This behavior can be modified by setting the early_stop property of the model to False\n"
     ]
    },
    {
     "name": "stderr",
     "output_type": "stream",
     "text": [
      "\n"
     ]
    },
    {
     "name": "stdout",
     "output_type": "stream",
     "text": [
      "Fitting individual 2/15 with genotype {'epochs': 9, 'r': 3, 'no_of_conv_kernels': 32, 'secondary_capsule_vector': 41, 'dense_1': 128, 'dense_2': 1536, 'epsilon': 0.019078395971878843, 'm_plus': 0.9898798110383258, 'm_minus': 0.1624524759903601, 'lambda_': 0.14728029387889363, 'alpha': 0.00046237987194946875, 'no_of_primary_capsules': 32, 'primary_capsule_vector': 8, 'no_of_secondary_capsules': 10}\n"
     ]
    },
    {
     "name": "stderr",
     "output_type": "stream",
     "text": [
      "Epoch 1/9: 100%|██████████| 8/8 [00:11<00:00,  1.50s/it, Training loss : 0.0071, Validation loss : 0.0060]\n",
      "Epoch 2/9: 100%|██████████| 8/8 [00:02<00:00,  2.77it/s, Training loss : 0.0029, Validation loss : 0.0033]\n",
      "Epoch 3/9: 100%|██████████| 8/8 [00:02<00:00,  2.85it/s, Training loss : 0.0019, Validation loss : 0.0025]\n",
      "Epoch 4/9: 100%|██████████| 8/8 [00:02<00:00,  2.69it/s]"
     ]
    },
    {
     "name": "stdout",
     "output_type": "stream",
     "text": [
      "Validation loss is not decreasing anymore, risk of overfitting the model after 4 epochs. The training will be stopped. This behavior can be modified by setting the early_stop property of the model to False\n"
     ]
    },
    {
     "name": "stderr",
     "output_type": "stream",
     "text": [
      "\n"
     ]
    },
    {
     "name": "stdout",
     "output_type": "stream",
     "text": [
      "Fitting individual 3/15 with genotype {'epochs': 8, 'r': 4, 'no_of_conv_kernels': 32, 'secondary_capsule_vector': 12, 'dense_1': 256, 'dense_2': 256, 'epsilon': 0.06045288066276326, 'm_plus': 0.988409762193642, 'm_minus': 0.16741476018723783, 'lambda_': 0.6485772913215595, 'alpha': 0.004473530154751301, 'no_of_primary_capsules': 32, 'primary_capsule_vector': 8, 'no_of_secondary_capsules': 10}\n"
     ]
    },
    {
     "name": "stderr",
     "output_type": "stream",
     "text": [
      "Epoch 1/8: 100%|██████████| 8/8 [00:13<00:00,  1.73s/it, Training loss : 0.0083, Validation loss : 0.0085]\n",
      "Epoch 2/8: 100%|██████████| 8/8 [00:01<00:00,  4.51it/s, Training loss : 0.0047, Validation loss : 0.0063]\n",
      "Epoch 3/8: 100%|██████████| 8/8 [00:01<00:00,  4.48it/s, Training loss : 0.0035, Validation loss : 0.0054]\n",
      "Epoch 4/8: 100%|██████████| 8/8 [00:01<00:00,  4.48it/s, Training loss : 0.0029, Validation loss : 0.0049]\n",
      "Epoch 5/8: 100%|██████████| 8/8 [00:01<00:00,  4.48it/s, Training loss : 0.0024, Validation loss : 0.0043]\n",
      "Epoch 6/8: 100%|██████████| 8/8 [00:01<00:00,  4.48it/s, Training loss : 0.0021, Validation loss : 0.0039]\n",
      "Epoch 7/8: 100%|██████████| 8/8 [00:01<00:00,  4.52it/s, Training loss : 0.0018, Validation loss : 0.0033]\n",
      "Epoch 8/8: 100%|██████████| 8/8 [00:01<00:00,  4.34it/s]\n"
     ]
    },
    {
     "name": "stdout",
     "output_type": "stream",
     "text": [
      "Validation loss is not decreasing anymore, risk of overfitting the model after 8 epochs. The training will be stopped. This behavior can be modified by setting the early_stop property of the model to False\n",
      "Fitting individual 4/15 with genotype {'epochs': 1, 'r': 4, 'no_of_conv_kernels': 64, 'secondary_capsule_vector': 44, 'dense_1': 512, 'dense_2': 1280, 'epsilon': 0.07438704343025021, 'm_plus': 0.9631223793021969, 'm_minus': 0.1990783291800175, 'lambda_': 0.19412979191368898, 'alpha': 0.000604350266672065, 'no_of_primary_capsules': 32, 'primary_capsule_vector': 8, 'no_of_secondary_capsules': 10}\n"
     ]
    },
    {
     "name": "stderr",
     "output_type": "stream",
     "text": [
      "Epoch 1/1: 100%|██████████| 8/8 [00:17<00:00,  2.14s/it, Training loss : 0.0053, Validation loss : 0.0040]\n"
     ]
    },
    {
     "name": "stdout",
     "output_type": "stream",
     "text": [
      "Fitting individual 5/15 with genotype {'epochs': 1, 'r': 3, 'no_of_conv_kernels': 128, 'secondary_capsule_vector': 42, 'dense_1': 256, 'dense_2': 768, 'epsilon': 0.061295015616094316, 'm_plus': 0.9757581705023914, 'm_minus': 0.09420237207922091, 'lambda_': 0.8254652235995757, 'alpha': 0.008651305602430177, 'no_of_primary_capsules': 32, 'primary_capsule_vector': 8, 'no_of_secondary_capsules': 10}\n"
     ]
    },
    {
     "name": "stderr",
     "output_type": "stream",
     "text": [
      "Epoch 1/1: 100%|██████████| 8/8 [00:13<00:00,  1.72s/it, Training loss : 0.0109, Validation loss : 0.0124]\n"
     ]
    },
    {
     "name": "stdout",
     "output_type": "stream",
     "text": [
      "WARNING:tensorflow:5 out of the last 5 calls to <function CapsNet.predict_capsule_output at 0x1076d7ac0> triggered tf.function retracing. Tracing is expensive and the excessive number of tracings could be due to (1) creating @tf.function repeatedly in a loop, (2) passing tensors with different shapes, (3) passing Python objects instead of tensors. For (1), please define your @tf.function outside of the loop. For (2), @tf.function has reduce_retracing=True option that can avoid unnecessary retracing. For (3), please refer to https://www.tensorflow.org/guide/function#controlling_retracing and https://www.tensorflow.org/api_docs/python/tf/function for  more details.\n",
      "Fitting individual 6/15 with genotype {'epochs': 2, 'r': 4, 'no_of_conv_kernels': 64, 'secondary_capsule_vector': 32, 'dense_1': 768, 'dense_2': 768, 'epsilon': 0.07720354734966586, 'm_plus': 0.9048721711352853, 'm_minus': 0.0628018754155597, 'lambda_': 0.42899624432384476, 'alpha': 0.0034452457787340763, 'no_of_primary_capsules': 32, 'primary_capsule_vector': 8, 'no_of_secondary_capsules': 10}\n"
     ]
    },
    {
     "name": "stderr",
     "output_type": "stream",
     "text": [
      "Epoch 1/2: 100%|██████████| 8/8 [00:15<00:00,  1.97s/it, Training loss : 0.0083, Validation loss : 0.0084]\n",
      "Epoch 2/2: 100%|██████████| 8/8 [00:03<00:00,  2.46it/s, Training loss : 0.0057, Validation loss : 0.0072]\n"
     ]
    },
    {
     "name": "stdout",
     "output_type": "stream",
     "text": [
      "WARNING:tensorflow:6 out of the last 6 calls to <function CapsNet.predict_capsule_output at 0x286d8a560> triggered tf.function retracing. Tracing is expensive and the excessive number of tracings could be due to (1) creating @tf.function repeatedly in a loop, (2) passing tensors with different shapes, (3) passing Python objects instead of tensors. For (1), please define your @tf.function outside of the loop. For (2), @tf.function has reduce_retracing=True option that can avoid unnecessary retracing. For (3), please refer to https://www.tensorflow.org/guide/function#controlling_retracing and https://www.tensorflow.org/api_docs/python/tf/function for  more details.\n",
      "Fitting individual 7/15 with genotype {'epochs': 9, 'r': 2, 'no_of_conv_kernels': 32, 'secondary_capsule_vector': 14, 'dense_1': 256, 'dense_2': 1536, 'epsilon': 0.020566687709651893, 'm_plus': 0.9120393196104754, 'm_minus': 0.08645222868196017, 'lambda_': 0.8969918557352522, 'alpha': 0.008562961021228051, 'no_of_primary_capsules': 32, 'primary_capsule_vector': 8, 'no_of_secondary_capsules': 10}\n"
     ]
    },
    {
     "name": "stderr",
     "output_type": "stream",
     "text": [
      "Epoch 1/9: 100%|██████████| 8/8 [00:07<00:00,  1.05it/s, Training loss : 0.0091, Validation loss : 0.0087]\n",
      "Epoch 2/9: 100%|██████████| 8/8 [00:01<00:00,  5.98it/s, Training loss : 0.0054, Validation loss : 0.0065]\n",
      "Epoch 3/9: 100%|██████████| 8/8 [00:01<00:00,  6.00it/s, Training loss : 0.0038, Validation loss : 0.0061]\n",
      "Epoch 4/9: 100%|██████████| 8/8 [00:01<00:00,  6.00it/s, Training loss : 0.0031, Validation loss : 0.0049]\n",
      "Epoch 5/9: 100%|██████████| 8/8 [00:01<00:00,  5.99it/s, Training loss : 0.0025, Validation loss : 0.0043]\n",
      "Epoch 6/9: 100%|██████████| 8/8 [00:01<00:00,  5.99it/s, Training loss : 0.0021, Validation loss : 0.0036]\n",
      "Epoch 7/9: 100%|██████████| 8/8 [00:01<00:00,  5.62it/s]\n"
     ]
    },
    {
     "name": "stdout",
     "output_type": "stream",
     "text": [
      "Validation loss is not decreasing anymore, risk of overfitting the model after 7 epochs. The training will be stopped. This behavior can be modified by setting the early_stop property of the model to False\n",
      "Fitting individual 8/15 with genotype {'epochs': 2, 'r': 4, 'no_of_conv_kernels': 128, 'secondary_capsule_vector': 42, 'dense_1': 512, 'dense_2': 1280, 'epsilon': 0.09590917646285592, 'm_plus': 0.9120806294565471, 'm_minus': 0.15455469063664873, 'lambda_': 0.9634069436403004, 'alpha': 0.0016331533977973394, 'no_of_primary_capsules': 32, 'primary_capsule_vector': 8, 'no_of_secondary_capsules': 10}\n"
     ]
    },
    {
     "name": "stderr",
     "output_type": "stream",
     "text": [
      "Epoch 1/2: 100%|██████████| 8/8 [00:17<00:00,  2.14s/it, Training loss : 0.0092, Validation loss : 0.0114]\n",
      "Epoch 2/2: 100%|██████████| 8/8 [00:04<00:00,  1.81it/s, Training loss : 0.0092, Validation loss : 0.0114]\n"
     ]
    },
    {
     "name": "stdout",
     "output_type": "stream",
     "text": [
      "Fitting individual 9/15 with genotype {'epochs': 2, 'r': 3, 'no_of_conv_kernels': 64, 'secondary_capsule_vector': 49, 'dense_1': 512, 'dense_2': 1280, 'epsilon': 0.04845737448083815, 'm_plus': 0.9620918242343586, 'm_minus': 0.10015225398848726, 'lambda_': 0.3084403813281268, 'alpha': 0.0032331895759452963, 'no_of_primary_capsules': 32, 'primary_capsule_vector': 8, 'no_of_secondary_capsules': 10}\n"
     ]
    },
    {
     "name": "stderr",
     "output_type": "stream",
     "text": [
      "Epoch 1/2: 100%|██████████| 8/8 [00:13<00:00,  1.64s/it, Training loss : 0.0076, Validation loss : 0.0068]\n",
      "Epoch 2/2: 100%|██████████| 8/8 [00:04<00:00,  1.92it/s, Training loss : 0.0040, Validation loss : 0.0050]\n"
     ]
    },
    {
     "name": "stdout",
     "output_type": "stream",
     "text": [
      "Fitting individual 10/15 with genotype {'epochs': 8, 'r': 2, 'no_of_conv_kernels': 64, 'secondary_capsule_vector': 47, 'dense_1': 256, 'dense_2': 512, 'epsilon': 0.0035923357441419055, 'm_plus': 0.96592730461712, 'm_minus': 0.1965786409146028, 'lambda_': 0.2450270553186794, 'alpha': 0.0053704901287784075, 'no_of_primary_capsules': 32, 'primary_capsule_vector': 8, 'no_of_secondary_capsules': 10}\n"
     ]
    },
    {
     "name": "stderr",
     "output_type": "stream",
     "text": [
      "Epoch 1/8: 100%|██████████| 8/8 [00:09<00:00,  1.16s/it, Training loss : 0.0068, Validation loss : 0.0048]\n",
      "Epoch 2/8: 100%|██████████| 8/8 [00:03<00:00,  2.45it/s, Training loss : 0.0025, Validation loss : 0.0029]\n",
      "Epoch 3/8: 100%|██████████| 8/8 [00:03<00:00,  2.52it/s, Training loss : 0.0017, Validation loss : 0.0025]\n",
      "Epoch 4/8: 100%|██████████| 8/8 [00:03<00:00,  2.56it/s, Training loss : 0.0013, Validation loss : 0.0022]\n",
      "Epoch 5/8: 100%|██████████| 8/8 [00:03<00:00,  2.63it/s, Training loss : 0.0010, Validation loss : 0.0020]\n",
      "Epoch 6/8: 100%|██████████| 8/8 [00:03<00:00,  2.52it/s, Training loss : 0.0008, Validation loss : 0.0018]\n",
      "Epoch 7/8: 100%|██████████| 8/8 [00:03<00:00,  2.59it/s, Training loss : 0.0007, Validation loss : 0.0016]\n",
      "Epoch 8/8: 100%|██████████| 8/8 [00:03<00:00,  2.35it/s, Training loss : 0.0005, Validation loss : 0.0014]\n"
     ]
    },
    {
     "name": "stdout",
     "output_type": "stream",
     "text": [
      "Fitting individual 11/15 with genotype {'epochs': 1, 'r': 4, 'no_of_conv_kernels': 64, 'secondary_capsule_vector': 32, 'dense_1': 768, 'dense_2': 768, 'epsilon': 0.07720354734966586, 'm_plus': 0.9048721711352853, 'm_minus': 0.0628018754155597, 'lambda_': 0.42899624432384476, 'alpha': 0.0034452457787340763, 'no_of_primary_capsules': 32, 'primary_capsule_vector': 8, 'no_of_secondary_capsules': 10}\n"
     ]
    },
    {
     "name": "stderr",
     "output_type": "stream",
     "text": [
      "Epoch 1/1: 100%|██████████| 8/8 [00:15<00:00,  1.91s/it, Training loss : 0.0083, Validation loss : 0.0087]\n"
     ]
    },
    {
     "name": "stdout",
     "output_type": "stream",
     "text": [
      "Fitting individual 12/15 with genotype {'epochs': 2, 'r': 4, 'no_of_conv_kernels': 64, 'secondary_capsule_vector': 44, 'dense_1': 512, 'dense_2': 1280, 'epsilon': 0.07438704343025021, 'm_plus': 0.9631223793021969, 'm_minus': 0.1990783291800175, 'lambda_': 0.19412979191368898, 'alpha': 0.000604350266672065, 'no_of_primary_capsules': 32, 'primary_capsule_vector': 8, 'no_of_secondary_capsules': 10}\n"
     ]
    },
    {
     "name": "stderr",
     "output_type": "stream",
     "text": [
      "Epoch 1/2: 100%|██████████| 8/8 [00:16<00:00,  2.08s/it, Training loss : 0.0060, Validation loss : 0.0044]\n",
      "Epoch 2/2: 100%|██████████| 8/8 [00:04<00:00,  1.99it/s, Training loss : 0.0025, Validation loss : 0.0028]\n"
     ]
    },
    {
     "name": "stdout",
     "output_type": "stream",
     "text": [
      "Fitting individual 13/15 with genotype {'epochs': 8, 'r': 2, 'no_of_conv_kernels': 64, 'secondary_capsule_vector': 47, 'dense_1': 256, 'dense_2': 512, 'epsilon': 0.0035923357441419055, 'm_plus': 0.988409762193642, 'm_minus': 0.16741476018723783, 'lambda_': 0.6485772913215595, 'alpha': 0.004473530154751301, 'no_of_primary_capsules': 32, 'primary_capsule_vector': 8, 'no_of_secondary_capsules': 10}\n"
     ]
    },
    {
     "name": "stderr",
     "output_type": "stream",
     "text": [
      "Epoch 1/8: 100%|██████████| 8/8 [00:09<00:00,  1.18s/it, Training loss : 0.0125, Validation loss : 0.0120]\n",
      "Epoch 2/8: 100%|██████████| 8/8 [00:03<00:00,  2.65it/s, Training loss : 0.0072, Validation loss : 0.0082]\n",
      "Epoch 3/8: 100%|██████████| 8/8 [00:02<00:00,  2.68it/s, Training loss : 0.0049, Validation loss : 0.0064]\n",
      "Epoch 4/8: 100%|██████████| 8/8 [00:03<00:00,  2.61it/s, Training loss : 0.0036, Validation loss : 0.0053]\n",
      "Epoch 5/8: 100%|██████████| 8/8 [00:02<00:00,  2.69it/s, Training loss : 0.0029, Validation loss : 0.0043]\n",
      "Epoch 6/8: 100%|██████████| 8/8 [00:02<00:00,  2.71it/s, Training loss : 0.0025, Validation loss : 0.0042]\n",
      "Epoch 7/8: 100%|██████████| 8/8 [00:02<00:00,  2.67it/s, Training loss : 0.0021, Validation loss : 0.0035]\n",
      "Epoch 8/8: 100%|██████████| 8/8 [00:03<00:00,  2.66it/s, Training loss : 0.0018, Validation loss : 0.0030]\n"
     ]
    },
    {
     "name": "stdout",
     "output_type": "stream",
     "text": [
      "Fitting individual 14/15 with genotype {'epochs': 8, 'r': 4, 'no_of_conv_kernels': 32, 'secondary_capsule_vector': 12, 'dense_1': 256, 'dense_2': 256, 'epsilon': 0.06045288066276326, 'm_plus': 0.96592730461712, 'm_minus': 0.1965786409146028, 'lambda_': 0.2450270553186794, 'alpha': 0.0053704901287784075, 'no_of_primary_capsules': 32, 'primary_capsule_vector': 8, 'no_of_secondary_capsules': 10}\n"
     ]
    },
    {
     "name": "stderr",
     "output_type": "stream",
     "text": [
      "Epoch 1/8: 100%|██████████| 8/8 [00:14<00:00,  1.77s/it, Training loss : 0.0065, Validation loss : 0.0052]\n",
      "Epoch 2/8: 100%|██████████| 8/8 [00:01<00:00,  4.01it/s, Training loss : 0.0030, Validation loss : 0.0036]\n",
      "Epoch 3/8: 100%|██████████| 8/8 [00:01<00:00,  4.45it/s, Training loss : 0.0021, Validation loss : 0.0029]\n",
      "Epoch 4/8: 100%|██████████| 8/8 [00:01<00:00,  4.33it/s, Training loss : 0.0017, Validation loss : 0.0025]\n",
      "Epoch 5/8: 100%|██████████| 8/8 [00:01<00:00,  4.36it/s, Training loss : 0.0014, Validation loss : 0.0024]\n",
      "Epoch 6/8: 100%|██████████| 8/8 [00:01<00:00,  4.27it/s, Training loss : 0.0011, Validation loss : 0.0023]\n",
      "Epoch 7/8: 100%|██████████| 8/8 [00:01<00:00,  4.10it/s, Training loss : 0.0010, Validation loss : 0.0020]\n",
      "Epoch 8/8: 100%|██████████| 8/8 [00:01<00:00,  4.08it/s, Training loss : 0.0008, Validation loss : 0.0018]\n"
     ]
    },
    {
     "name": "stdout",
     "output_type": "stream",
     "text": [
      "Fitting individual 15/15 with genotype {'epochs': 1, 'r': 3, 'no_of_conv_kernels': 128, 'secondary_capsule_vector': 42, 'dense_1': 256, 'dense_2': 768, 'epsilon': 0.061295015616094316, 'm_plus': 0.9757581705023914, 'm_minus': 0.09420237207922091, 'lambda_': 0.8254652235995757, 'alpha': 0.008651305602430177, 'no_of_primary_capsules': 32, 'primary_capsule_vector': 8, 'no_of_secondary_capsules': 10}\n"
     ]
    },
    {
     "name": "stderr",
     "output_type": "stream",
     "text": [
      "Epoch 1/1: 100%|██████████| 8/8 [00:13<00:00,  1.65s/it, Training loss : 0.0104, Validation loss : 0.0111]\n"
     ]
    },
    {
     "name": "stdout",
     "output_type": "stream",
     "text": [
      "Len of pop after selection : 10\n",
      "=== Generation 2/2\n",
      "Len of pop before manipulations : 10\n",
      "crossover created 6 offspring(s)\n",
      "mutation created 4 offspring(s)\n",
      "local search created 0 offspring(s)\n",
      "Len of pop after manipulations : 20\n",
      "Fitting individual 1/20 with genotype {'epochs': 7, 'r': 2, 'no_of_conv_kernels': 32, 'secondary_capsule_vector': 14, 'dense_1': 256, 'dense_2': 1536, 'epsilon': 0.020566687709651893, 'm_plus': 0.9120393196104754, 'm_minus': 0.08645222868196017, 'lambda_': 0.8969918557352522, 'alpha': 0.008562961021228051, 'no_of_primary_capsules': 32, 'primary_capsule_vector': 8, 'no_of_secondary_capsules': 10}\n"
     ]
    },
    {
     "name": "stderr",
     "output_type": "stream",
     "text": [
      "Epoch 1/7: 100%|██████████| 8/8 [00:07<00:00,  1.06it/s, Training loss : 0.0090, Validation loss : 0.0095]\n",
      "Epoch 2/7: 100%|██████████| 8/8 [00:01<00:00,  5.65it/s, Training loss : 0.0051, Validation loss : 0.0066]\n",
      "Epoch 3/7: 100%|██████████| 8/8 [00:01<00:00,  5.85it/s, Training loss : 0.0038, Validation loss : 0.0057]\n",
      "Epoch 4/7: 100%|██████████| 8/8 [00:01<00:00,  5.92it/s, Training loss : 0.0030, Validation loss : 0.0050]\n",
      "Epoch 5/7: 100%|██████████| 8/8 [00:01<00:00,  5.78it/s, Training loss : 0.0025, Validation loss : 0.0043]\n",
      "Epoch 6/7: 100%|██████████| 8/8 [00:01<00:00,  5.83it/s, Training loss : 0.0020, Validation loss : 0.0039]\n",
      "Epoch 7/7: 100%|██████████| 8/8 [00:01<00:00,  5.44it/s, Training loss : 0.0017, Validation loss : 0.0036]\n"
     ]
    },
    {
     "name": "stdout",
     "output_type": "stream",
     "text": [
      "Fitting individual 2/20 with genotype {'epochs': 8, 'r': 4, 'no_of_conv_kernels': 32, 'secondary_capsule_vector': 12, 'dense_1': 256, 'dense_2': 256, 'epsilon': 0.06045288066276326, 'm_plus': 0.988409762193642, 'm_minus': 0.16741476018723783, 'lambda_': 0.6485772913215595, 'alpha': 0.004473530154751301, 'no_of_primary_capsules': 32, 'primary_capsule_vector': 8, 'no_of_secondary_capsules': 10}\n"
     ]
    },
    {
     "name": "stderr",
     "output_type": "stream",
     "text": [
      "Epoch 1/8: 100%|██████████| 8/8 [00:14<00:00,  1.78s/it, Training loss : 0.0082, Validation loss : 0.0079]\n",
      "Epoch 2/8: 100%|██████████| 8/8 [00:01<00:00,  4.41it/s, Training loss : 0.0048, Validation loss : 0.0062]\n",
      "Epoch 3/8: 100%|██████████| 8/8 [00:01<00:00,  4.37it/s, Training loss : 0.0036, Validation loss : 0.0056]\n",
      "Epoch 4/8: 100%|██████████| 8/8 [00:01<00:00,  4.25it/s, Training loss : 0.0030, Validation loss : 0.0048]\n",
      "Epoch 5/8: 100%|██████████| 8/8 [00:01<00:00,  4.24it/s, Training loss : 0.0025, Validation loss : 0.0045]\n",
      "Epoch 6/8: 100%|██████████| 8/8 [00:01<00:00,  4.21it/s, Training loss : 0.0021, Validation loss : 0.0035]\n",
      "Epoch 7/8: 100%|██████████| 8/8 [00:01<00:00,  4.43it/s]\n"
     ]
    },
    {
     "name": "stdout",
     "output_type": "stream",
     "text": [
      "Validation loss is not decreasing anymore, risk of overfitting the model after 7 epochs. The training will be stopped. This behavior can be modified by setting the early_stop property of the model to False\n",
      "Fitting individual 3/20 with genotype {'epochs': 8, 'r': 2, 'no_of_conv_kernels': 64, 'secondary_capsule_vector': 47, 'dense_1': 256, 'dense_2': 512, 'epsilon': 0.0035923357441419055, 'm_plus': 0.96592730461712, 'm_minus': 0.1965786409146028, 'lambda_': 0.2450270553186794, 'alpha': 0.0053704901287784075, 'no_of_primary_capsules': 32, 'primary_capsule_vector': 8, 'no_of_secondary_capsules': 10}\n"
     ]
    },
    {
     "name": "stderr",
     "output_type": "stream",
     "text": [
      "Epoch 1/8: 100%|██████████| 8/8 [00:09<00:00,  1.17s/it, Training loss : 0.0063, Validation loss : 0.0038]\n",
      "Epoch 2/8: 100%|██████████| 8/8 [00:03<00:00,  2.53it/s, Training loss : 0.0022, Validation loss : 0.0028]\n",
      "Epoch 3/8: 100%|██████████| 8/8 [00:03<00:00,  2.62it/s, Training loss : 0.0015, Validation loss : 0.0024]\n",
      "Epoch 4/8: 100%|██████████| 8/8 [00:03<00:00,  2.55it/s, Training loss : 0.0012, Validation loss : 0.0021]\n",
      "Epoch 5/8: 100%|██████████| 8/8 [00:03<00:00,  2.63it/s, Training loss : 0.0009, Validation loss : 0.0018]\n",
      "Epoch 6/8: 100%|██████████| 8/8 [00:03<00:00,  2.62it/s, Training loss : 0.0007, Validation loss : 0.0017]\n",
      "Epoch 7/8: 100%|██████████| 8/8 [00:03<00:00,  2.55it/s, Training loss : 0.0006, Validation loss : 0.0015]\n",
      "Epoch 8/8: 100%|██████████| 8/8 [00:03<00:00,  2.58it/s, Training loss : 0.0005, Validation loss : 0.0012]\n"
     ]
    },
    {
     "name": "stdout",
     "output_type": "stream",
     "text": [
      "Fitting individual 4/20 with genotype {'epochs': 5, 'r': 3, 'no_of_conv_kernels': 64, 'secondary_capsule_vector': 46, 'dense_1': 512, 'dense_2': 1536, 'epsilon': 0.05885467790655129, 'm_plus': 0.9267301232254194, 'm_minus': 0.18867779271296387, 'lambda_': 0.7803898963078708, 'alpha': 0.005642933886685902, 'no_of_primary_capsules': 32, 'primary_capsule_vector': 8, 'no_of_secondary_capsules': 10}\n"
     ]
    },
    {
     "name": "stderr",
     "output_type": "stream",
     "text": [
      "Epoch 1/5: 100%|██████████| 8/8 [00:13<00:00,  1.63s/it, Training loss : 0.0079, Validation loss : 0.0084]\n",
      "Epoch 2/5: 100%|██████████| 8/8 [00:04<00:00,  1.92it/s, Training loss : 0.0057, Validation loss : 0.0065]\n",
      "Epoch 3/5: 100%|██████████| 8/8 [00:04<00:00,  1.97it/s, Training loss : 0.0038, Validation loss : 0.0054]\n",
      "Epoch 4/5: 100%|██████████| 8/8 [00:03<00:00,  2.00it/s, Training loss : 0.0029, Validation loss : 0.0045]\n",
      "Epoch 5/5: 100%|██████████| 8/8 [00:03<00:00,  2.06it/s, Training loss : 0.0024, Validation loss : 0.0039]\n"
     ]
    },
    {
     "name": "stdout",
     "output_type": "stream",
     "text": [
      "Fitting individual 5/20 with genotype {'epochs': 4, 'r': 3, 'no_of_conv_kernels': 32, 'secondary_capsule_vector': 41, 'dense_1': 128, 'dense_2': 1536, 'epsilon': 0.019078395971878843, 'm_plus': 0.9898798110383258, 'm_minus': 0.1624524759903601, 'lambda_': 0.14728029387889363, 'alpha': 0.00046237987194946875, 'no_of_primary_capsules': 32, 'primary_capsule_vector': 8, 'no_of_secondary_capsules': 10}\n"
     ]
    },
    {
     "name": "stderr",
     "output_type": "stream",
     "text": [
      "Epoch 1/4: 100%|██████████| 8/8 [00:12<00:00,  1.52s/it, Training loss : 0.0071, Validation loss : 0.0054]\n",
      "Epoch 2/4: 100%|██████████| 8/8 [00:02<00:00,  2.73it/s, Training loss : 0.0030, Validation loss : 0.0037]\n",
      "Epoch 3/4: 100%|██████████| 8/8 [00:02<00:00,  2.71it/s, Training loss : 0.0019, Validation loss : 0.0030]\n",
      "Epoch 4/4: 100%|██████████| 8/8 [00:02<00:00,  2.90it/s, Training loss : 0.0015, Validation loss : 0.0025]\n"
     ]
    },
    {
     "name": "stdout",
     "output_type": "stream",
     "text": [
      "Fitting individual 6/20 with genotype {'epochs': 1, 'r': 3, 'no_of_conv_kernels': 128, 'secondary_capsule_vector': 48, 'dense_1': 256, 'dense_2': 768, 'epsilon': 0.061295015616094316, 'm_plus': 0.9757581705023914, 'm_minus': 0.09420237207922091, 'lambda_': 0.8254652235995757, 'alpha': 0.008651305602430177, 'no_of_primary_capsules': 32, 'primary_capsule_vector': 8, 'no_of_secondary_capsules': 10}\n"
     ]
    },
    {
     "name": "stderr",
     "output_type": "stream",
     "text": [
      "Epoch 1/1: 100%|██████████| 8/8 [00:13<00:00,  1.73s/it, Training loss : 0.0105, Validation loss : 0.0109]\n"
     ]
    },
    {
     "name": "stdout",
     "output_type": "stream",
     "text": [
      "Fitting individual 7/20 with genotype {'epochs': 2, 'r': 3, 'no_of_conv_kernels': 64, 'secondary_capsule_vector': 49, 'dense_1': 512, 'dense_2': 1280, 'epsilon': 0.04845737448083815, 'm_plus': 0.9426559687652387, 'm_minus': 0.10015225398848726, 'lambda_': 0.3084403813281268, 'alpha': 0.0032331895759452963, 'no_of_primary_capsules': 32, 'primary_capsule_vector': 8, 'no_of_secondary_capsules': 10}\n"
     ]
    },
    {
     "name": "stderr",
     "output_type": "stream",
     "text": [
      "Epoch 1/2: 100%|██████████| 8/8 [00:13<00:00,  1.66s/it, Training loss : 0.0067, Validation loss : 0.0059]\n",
      "Epoch 2/2: 100%|██████████| 8/8 [00:03<00:00,  2.02it/s, Training loss : 0.0035, Validation loss : 0.0043]\n"
     ]
    },
    {
     "name": "stdout",
     "output_type": "stream",
     "text": [
      "Fitting individual 8/20 with genotype {'epochs': 2, 'r': 4, 'no_of_conv_kernels': 64, 'secondary_capsule_vector': 33, 'dense_1': 768, 'dense_2': 768, 'epsilon': 0.07720354734966586, 'm_plus': 0.9048721711352853, 'm_minus': 0.19521728281048883, 'lambda_': 0.42899624432384476, 'alpha': 0.0034452457787340763, 'no_of_primary_capsules': 32, 'primary_capsule_vector': 8, 'no_of_secondary_capsules': 10}\n"
     ]
    },
    {
     "name": "stderr",
     "output_type": "stream",
     "text": [
      "Epoch 1/2: 100%|██████████| 8/8 [00:15<00:00,  1.94s/it, Training loss : 0.0067, Validation loss : 0.0059]\n",
      "Epoch 2/2: 100%|██████████| 8/8 [00:03<00:00,  2.31it/s, Training loss : 0.0038, Validation loss : 0.0042]\n"
     ]
    },
    {
     "name": "stdout",
     "output_type": "stream",
     "text": [
      "Fitting individual 9/20 with genotype {'epochs': 1, 'r': 4, 'no_of_conv_kernels': 64, 'secondary_capsule_vector': 44, 'dense_1': 512, 'dense_2': 1280, 'epsilon': 0.07438704343025021, 'm_plus': 0.9631223793021969, 'm_minus': 0.1990783291800175, 'lambda_': 0.19412979191368898, 'alpha': 0.000604350266672065, 'no_of_primary_capsules': 32, 'primary_capsule_vector': 8, 'no_of_secondary_capsules': 10}\n"
     ]
    },
    {
     "name": "stderr",
     "output_type": "stream",
     "text": [
      "Epoch 1/1: 100%|██████████| 8/8 [00:16<00:00,  2.09s/it, Training loss : 0.0055, Validation loss : 0.0041]\n"
     ]
    },
    {
     "name": "stdout",
     "output_type": "stream",
     "text": [
      "Fitting individual 10/20 with genotype {'epochs': 2, 'r': 4, 'no_of_conv_kernels': 128, 'secondary_capsule_vector': 42, 'dense_1': 512, 'dense_2': 1280, 'epsilon': 0.09590917646285592, 'm_plus': 0.9120806294565471, 'm_minus': 0.15455469063664873, 'lambda_': 0.9634069436403004, 'alpha': 0.0016331533977973394, 'no_of_primary_capsules': 32, 'primary_capsule_vector': 8, 'no_of_secondary_capsules': 10}\n"
     ]
    },
    {
     "name": "stderr",
     "output_type": "stream",
     "text": [
      "Epoch 1/2: 100%|██████████| 8/8 [00:17<00:00,  2.24s/it, Training loss : 0.0091, Validation loss : 0.0108]\n",
      "Epoch 2/2: 100%|██████████| 8/8 [00:05<00:00,  1.59it/s, Training loss : 0.0077, Validation loss : 0.0086]\n"
     ]
    },
    {
     "name": "stdout",
     "output_type": "stream",
     "text": [
      "Fitting individual 11/20 with genotype {'epochs': 8, 'r': 4, 'no_of_conv_kernels': 32, 'secondary_capsule_vector': 12, 'dense_1': 512, 'dense_2': 1280, 'epsilon': 0.04845737448083815, 'm_plus': 0.9620918242343586, 'm_minus': 0.10015225398848726, 'lambda_': 0.3084403813281268, 'alpha': 0.0032331895759452963, 'no_of_primary_capsules': 32, 'primary_capsule_vector': 8, 'no_of_secondary_capsules': 10}\n"
     ]
    },
    {
     "name": "stderr",
     "output_type": "stream",
     "text": [
      "Epoch 1/8: 100%|██████████| 8/8 [00:14<00:00,  1.82s/it, Training loss : 0.0080, Validation loss : 0.0072]\n",
      "Epoch 2/8: 100%|██████████| 8/8 [00:01<00:00,  4.40it/s, Training loss : 0.0042, Validation loss : 0.0049]\n",
      "Epoch 3/8: 100%|██████████| 8/8 [00:01<00:00,  4.38it/s, Training loss : 0.0031, Validation loss : 0.0046]\n",
      "Epoch 4/8: 100%|██████████| 8/8 [00:01<00:00,  4.25it/s, Training loss : 0.0026, Validation loss : 0.0038]\n",
      "Epoch 5/8: 100%|██████████| 8/8 [00:02<00:00,  3.96it/s, Training loss : 0.0022, Validation loss : 0.0036]\n",
      "Epoch 6/8: 100%|██████████| 8/8 [00:01<00:00,  4.25it/s, Training loss : 0.0019, Validation loss : 0.0031]\n",
      "Epoch 7/8: 100%|██████████| 8/8 [00:01<00:00,  4.17it/s, Training loss : 0.0017, Validation loss : 0.0029]\n",
      "Epoch 8/8: 100%|██████████| 8/8 [00:01<00:00,  4.27it/s, Training loss : 0.0015, Validation loss : 0.0027]\n"
     ]
    },
    {
     "name": "stdout",
     "output_type": "stream",
     "text": [
      "Fitting individual 12/20 with genotype {'epochs': 2, 'r': 3, 'no_of_conv_kernels': 64, 'secondary_capsule_vector': 49, 'dense_1': 256, 'dense_2': 256, 'epsilon': 0.06045288066276326, 'm_plus': 0.988409762193642, 'm_minus': 0.16741476018723783, 'lambda_': 0.6485772913215595, 'alpha': 0.004473530154751301, 'no_of_primary_capsules': 32, 'primary_capsule_vector': 8, 'no_of_secondary_capsules': 10}\n"
     ]
    },
    {
     "name": "stderr",
     "output_type": "stream",
     "text": [
      "Epoch 1/2: 100%|██████████| 8/8 [00:14<00:00,  1.78s/it, Training loss : 0.0088, Validation loss : 0.0093]\n",
      "Epoch 2/2: 100%|██████████| 8/8 [00:04<00:00,  1.98it/s, Training loss : 0.0059, Validation loss : 0.0070]\n"
     ]
    },
    {
     "name": "stdout",
     "output_type": "stream",
     "text": [
      "Fitting individual 13/20 with genotype {'epochs': 5, 'r': 3, 'no_of_conv_kernels': 64, 'secondary_capsule_vector': 46, 'dense_1': 512, 'dense_2': 1536, 'epsilon': 0.05885467790655129, 'm_plus': 0.9267301232254194, 'm_minus': 0.18867779271296387, 'lambda_': 0.7803898963078708, 'alpha': 0.0053704901287784075, 'no_of_primary_capsules': 32, 'primary_capsule_vector': 8, 'no_of_secondary_capsules': 10}\n"
     ]
    },
    {
     "name": "stderr",
     "output_type": "stream",
     "text": [
      "Epoch 1/5: 100%|██████████| 8/8 [00:13<00:00,  1.66s/it, Training loss : 0.0075, Validation loss : 0.0079]\n",
      "Epoch 2/5: 100%|██████████| 8/8 [00:04<00:00,  1.97it/s, Training loss : 0.0046, Validation loss : 0.0048]\n",
      "Epoch 3/5: 100%|██████████| 8/8 [00:04<00:00,  1.70it/s, Training loss : 0.0030, Validation loss : 0.0041]\n",
      "Epoch 4/5: 100%|██████████| 8/8 [00:04<00:00,  1.93it/s, Training loss : 0.0022, Validation loss : 0.0034]\n",
      "Epoch 5/5: 100%|██████████| 8/8 [00:04<00:00,  1.96it/s, Training loss : 0.0017, Validation loss : 0.0027]\n"
     ]
    },
    {
     "name": "stdout",
     "output_type": "stream",
     "text": [
      "Fitting individual 14/20 with genotype {'epochs': 8, 'r': 2, 'no_of_conv_kernels': 64, 'secondary_capsule_vector': 47, 'dense_1': 256, 'dense_2': 512, 'epsilon': 0.0035923357441419055, 'm_plus': 0.96592730461712, 'm_minus': 0.1965786409146028, 'lambda_': 0.2450270553186794, 'alpha': 0.005642933886685902, 'no_of_primary_capsules': 32, 'primary_capsule_vector': 8, 'no_of_secondary_capsules': 10}\n"
     ]
    },
    {
     "name": "stderr",
     "output_type": "stream",
     "text": [
      "Epoch 1/8: 100%|██████████| 8/8 [00:10<00:00,  1.25s/it, Training loss : 0.0065, Validation loss : 0.0045]\n",
      "Epoch 2/8: 100%|██████████| 8/8 [00:03<00:00,  2.54it/s, Training loss : 0.0023, Validation loss : 0.0036]\n",
      "Epoch 3/8: 100%|██████████| 8/8 [00:03<00:00,  2.49it/s, Training loss : 0.0016, Validation loss : 0.0024]\n",
      "Epoch 4/8: 100%|██████████| 8/8 [00:03<00:00,  2.42it/s, Training loss : 0.0012, Validation loss : 0.0021]\n",
      "Epoch 5/8: 100%|██████████| 8/8 [00:03<00:00,  2.51it/s, Training loss : 0.0010, Validation loss : 0.0019]\n",
      "Epoch 6/8: 100%|██████████| 8/8 [00:03<00:00,  2.48it/s, Training loss : 0.0008, Validation loss : 0.0018]\n",
      "Epoch 7/8: 100%|██████████| 8/8 [00:03<00:00,  2.53it/s, Training loss : 0.0007, Validation loss : 0.0016]\n",
      "Epoch 8/8: 100%|██████████| 8/8 [00:03<00:00,  2.15it/s, Training loss : 0.0006, Validation loss : 0.0012]\n"
     ]
    },
    {
     "name": "stdout",
     "output_type": "stream",
     "text": [
      "Fitting individual 15/20 with genotype {'epochs': 5, 'r': 3, 'no_of_conv_kernels': 64, 'secondary_capsule_vector': 46, 'dense_1': 512, 'dense_2': 1280, 'epsilon': 0.07438704343025021, 'm_plus': 0.9631223793021969, 'm_minus': 0.1990783291800175, 'lambda_': 0.19412979191368898, 'alpha': 0.000604350266672065, 'no_of_primary_capsules': 32, 'primary_capsule_vector': 8, 'no_of_secondary_capsules': 10}\n"
     ]
    },
    {
     "name": "stderr",
     "output_type": "stream",
     "text": [
      "Epoch 1/5: 100%|██████████| 8/8 [00:14<00:00,  1.80s/it, Training loss : 0.0062, Validation loss : 0.0044]\n",
      "Epoch 2/5: 100%|██████████| 8/8 [00:04<00:00,  1.89it/s, Training loss : 0.0026, Validation loss : 0.0029]\n",
      "Epoch 3/5: 100%|██████████| 8/8 [00:04<00:00,  1.83it/s, Training loss : 0.0017, Validation loss : 0.0024]\n",
      "Epoch 4/5: 100%|██████████| 8/8 [00:04<00:00,  1.69it/s, Training loss : 0.0014, Validation loss : 0.0021]\n",
      "Epoch 5/5: 100%|██████████| 8/8 [00:04<00:00,  1.92it/s, Training loss : 0.0011, Validation loss : 0.0018]\n"
     ]
    },
    {
     "name": "stdout",
     "output_type": "stream",
     "text": [
      "Fitting individual 16/20 with genotype {'epochs': 1, 'r': 4, 'no_of_conv_kernels': 64, 'secondary_capsule_vector': 44, 'dense_1': 512, 'dense_2': 1536, 'epsilon': 0.05885467790655129, 'm_plus': 0.9267301232254194, 'm_minus': 0.18867779271296387, 'lambda_': 0.7803898963078708, 'alpha': 0.005642933886685902, 'no_of_primary_capsules': 32, 'primary_capsule_vector': 8, 'no_of_secondary_capsules': 10}\n"
     ]
    },
    {
     "name": "stderr",
     "output_type": "stream",
     "text": [
      "Epoch 1/1: 100%|██████████| 8/8 [00:16<00:00,  2.12s/it, Training loss : 0.0075, Validation loss : 0.0080]\n"
     ]
    },
    {
     "name": "stdout",
     "output_type": "stream",
     "text": [
      "Fitting individual 17/20 with genotype {'epochs': 2, 'r': 4, 'no_of_conv_kernels': 64, 'secondary_capsule_vector': 33, 'dense_1': 768, 'dense_2': 768, 'epsilon': 0.07720354734966586, 'm_plus': 0.9048721711352853, 'm_minus': 0.19521728281048883, 'lambda_': 0.42899624432384476, 'alpha': 0.0034452457787340763, 'no_of_primary_capsules': 32, 'primary_capsule_vector': 8, 'no_of_secondary_capsules': 10}\n"
     ]
    },
    {
     "name": "stderr",
     "output_type": "stream",
     "text": [
      "Epoch 1/2: 100%|██████████| 8/8 [00:15<00:00,  1.97s/it, Training loss : 0.0057, Validation loss : 0.0053]\n",
      "Epoch 2/2: 100%|██████████| 8/8 [00:03<00:00,  2.37it/s, Training loss : 0.0031, Validation loss : 0.0035]\n"
     ]
    },
    {
     "name": "stdout",
     "output_type": "stream",
     "text": [
      "Fitting individual 18/20 with genotype {'epochs': 2, 'r': 3, 'no_of_conv_kernels': 64, 'secondary_capsule_vector': 49, 'dense_1': 512, 'dense_2': 1280, 'epsilon': 0.04845737448083815, 'm_plus': 0.9426559687652387, 'm_minus': 0.10015225398848726, 'lambda_': 0.3084403813281268, 'alpha': 0.0032331895759452963, 'no_of_primary_capsules': 32, 'primary_capsule_vector': 8, 'no_of_secondary_capsules': 10}\n"
     ]
    },
    {
     "name": "stderr",
     "output_type": "stream",
     "text": [
      "Epoch 1/2: 100%|██████████| 8/8 [00:13<00:00,  1.75s/it, Training loss : 0.0079, Validation loss : 0.0074]\n",
      "Epoch 2/2: 100%|██████████| 8/8 [00:04<00:00,  1.92it/s, Training loss : 0.0045, Validation loss : 0.0048]\n"
     ]
    },
    {
     "name": "stdout",
     "output_type": "stream",
     "text": [
      "Fitting individual 19/20 with genotype {'epochs': 1, 'r': 3, 'no_of_conv_kernels': 128, 'secondary_capsule_vector': 48, 'dense_1': 256, 'dense_2': 768, 'epsilon': 0.061295015616094316, 'm_plus': 0.9757581705023914, 'm_minus': 0.09420237207922091, 'lambda_': 0.8254652235995757, 'alpha': 0.008651305602430177, 'no_of_primary_capsules': 32, 'primary_capsule_vector': 8, 'no_of_secondary_capsules': 10}\n"
     ]
    },
    {
     "name": "stderr",
     "output_type": "stream",
     "text": [
      "Epoch 1/1: 100%|██████████| 8/8 [00:13<00:00,  1.75s/it, Training loss : 0.0111, Validation loss : 0.0121]\n"
     ]
    },
    {
     "name": "stdout",
     "output_type": "stream",
     "text": [
      "Fitting individual 20/20 with genotype {'epochs': 2, 'r': 4, 'no_of_conv_kernels': 64, 'secondary_capsule_vector': 33, 'dense_1': 768, 'dense_2': 768, 'epsilon': 0.07720354734966586, 'm_plus': 0.9048721711352853, 'm_minus': 0.19521728281048883, 'lambda_': 0.42899624432384476, 'alpha': 0.0034452457787340763, 'no_of_primary_capsules': 32, 'primary_capsule_vector': 8, 'no_of_secondary_capsules': 10}\n"
     ]
    },
    {
     "name": "stderr",
     "output_type": "stream",
     "text": [
      "Epoch 1/2: 100%|██████████| 8/8 [00:16<00:00,  2.01s/it, Training loss : 0.0069, Validation loss : 0.0066]\n",
      "Epoch 2/2: 100%|██████████| 8/8 [00:03<00:00,  2.10it/s, Training loss : 0.0044, Validation loss : 0.0045]\n"
     ]
    },
    {
     "name": "stdout",
     "output_type": "stream",
     "text": [
      "Len of pop after selection : 10\n",
      "Fitting individual 1/10 with genotype {'epochs': 7, 'r': 2, 'no_of_conv_kernels': 32, 'secondary_capsule_vector': 14, 'dense_1': 256, 'dense_2': 1536, 'epsilon': 0.020566687709651893, 'm_plus': 0.9120393196104754, 'm_minus': 0.08645222868196017, 'lambda_': 0.8969918557352522, 'alpha': 0.008562961021228051, 'no_of_primary_capsules': 32, 'primary_capsule_vector': 8, 'no_of_secondary_capsules': 10}\n"
     ]
    },
    {
     "name": "stderr",
     "output_type": "stream",
     "text": [
      "Epoch 1/7: 100%|██████████| 8/8 [00:07<00:00,  1.06it/s, Training loss : 0.0094, Validation loss : 0.0099]\n",
      "Epoch 2/7: 100%|██████████| 8/8 [00:01<00:00,  5.45it/s, Training loss : 0.0057, Validation loss : 0.0075]\n",
      "Epoch 3/7: 100%|██████████| 8/8 [00:01<00:00,  5.67it/s, Training loss : 0.0041, Validation loss : 0.0066]\n",
      "Epoch 4/7: 100%|██████████| 8/8 [00:01<00:00,  5.61it/s, Training loss : 0.0033, Validation loss : 0.0051]\n",
      "Epoch 5/7: 100%|██████████| 8/8 [00:01<00:00,  5.74it/s, Training loss : 0.0028, Validation loss : 0.0044]\n",
      "Epoch 6/7: 100%|██████████| 8/8 [00:01<00:00,  5.39it/s, Training loss : 0.0023, Validation loss : 0.0044]\n",
      "Epoch 7/7: 100%|██████████| 8/8 [00:01<00:00,  5.70it/s, Training loss : 0.0020, Validation loss : 0.0036]\n"
     ]
    },
    {
     "name": "stdout",
     "output_type": "stream",
     "text": [
      "Fitting individual 2/10 with genotype {'epochs': 8, 'r': 2, 'no_of_conv_kernels': 64, 'secondary_capsule_vector': 47, 'dense_1': 256, 'dense_2': 512, 'epsilon': 0.0035923357441419055, 'm_plus': 0.96592730461712, 'm_minus': 0.1965786409146028, 'lambda_': 0.2450270553186794, 'alpha': 0.0053704901287784075, 'no_of_primary_capsules': 32, 'primary_capsule_vector': 8, 'no_of_secondary_capsules': 10}\n"
     ]
    },
    {
     "name": "stderr",
     "output_type": "stream",
     "text": [
      "Epoch 1/8: 100%|██████████| 8/8 [00:09<00:00,  1.25s/it, Training loss : 0.0075, Validation loss : 0.0052]\n",
      "Epoch 2/8: 100%|██████████| 8/8 [00:03<00:00,  2.41it/s, Training loss : 0.0030, Validation loss : 0.0033]\n",
      "Epoch 3/8: 100%|██████████| 8/8 [00:03<00:00,  2.54it/s, Training loss : 0.0019, Validation loss : 0.0026]\n",
      "Epoch 4/8: 100%|██████████| 8/8 [00:03<00:00,  2.30it/s, Training loss : 0.0014, Validation loss : 0.0024]\n",
      "Epoch 5/8: 100%|██████████| 8/8 [00:03<00:00,  2.56it/s, Training loss : 0.0011, Validation loss : 0.0022]\n",
      "Epoch 6/8: 100%|██████████| 8/8 [00:03<00:00,  2.51it/s, Training loss : 0.0009, Validation loss : 0.0020]\n",
      "Epoch 7/8: 100%|██████████| 8/8 [00:03<00:00,  2.53it/s, Training loss : 0.0007, Validation loss : 0.0016]\n",
      "Epoch 8/8: 100%|██████████| 8/8 [00:03<00:00,  2.56it/s, Training loss : 0.0006, Validation loss : 0.0013]\n"
     ]
    },
    {
     "name": "stdout",
     "output_type": "stream",
     "text": [
      "Fitting individual 3/10 with genotype {'epochs': 7, 'r': 4, 'no_of_conv_kernels': 32, 'secondary_capsule_vector': 12, 'dense_1': 256, 'dense_2': 256, 'epsilon': 0.06045288066276326, 'm_plus': 0.988409762193642, 'm_minus': 0.16741476018723783, 'lambda_': 0.6485772913215595, 'alpha': 0.004473530154751301, 'no_of_primary_capsules': 32, 'primary_capsule_vector': 8, 'no_of_secondary_capsules': 10}\n"
     ]
    },
    {
     "name": "stderr",
     "output_type": "stream",
     "text": [
      "Epoch 1/7: 100%|██████████| 8/8 [00:14<00:00,  1.78s/it, Training loss : 0.0086, Validation loss : 0.0092]\n",
      "Epoch 2/7: 100%|██████████| 8/8 [00:01<00:00,  4.13it/s, Training loss : 0.0049, Validation loss : 0.0056]\n",
      "Epoch 3/7: 100%|██████████| 8/8 [00:01<00:00,  4.38it/s, Training loss : 0.0037, Validation loss : 0.0055]\n",
      "Epoch 4/7: 100%|██████████| 8/8 [00:01<00:00,  4.23it/s, Training loss : 0.0030, Validation loss : 0.0046]\n",
      "Epoch 5/7: 100%|██████████| 8/8 [00:01<00:00,  4.28it/s, Training loss : 0.0025, Validation loss : 0.0041]\n",
      "Epoch 6/7: 100%|██████████| 8/8 [00:01<00:00,  4.29it/s]\n"
     ]
    },
    {
     "name": "stdout",
     "output_type": "stream",
     "text": [
      "Validation loss is not decreasing anymore, risk of overfitting the model after 6 epochs. The training will be stopped. This behavior can be modified by setting the early_stop property of the model to False\n",
      "Fitting individual 4/10 with genotype {'epochs': 5, 'r': 3, 'no_of_conv_kernels': 64, 'secondary_capsule_vector': 46, 'dense_1': 512, 'dense_2': 1536, 'epsilon': 0.05885467790655129, 'm_plus': 0.9267301232254194, 'm_minus': 0.18867779271296387, 'lambda_': 0.7803898963078708, 'alpha': 0.005642933886685902, 'no_of_primary_capsules': 32, 'primary_capsule_vector': 8, 'no_of_secondary_capsules': 10}\n"
     ]
    },
    {
     "name": "stderr",
     "output_type": "stream",
     "text": [
      "Epoch 1/5: 100%|██████████| 8/8 [00:13<00:00,  1.71s/it, Training loss : 0.0065, Validation loss : 0.0058]\n",
      "Epoch 2/5: 100%|██████████| 8/8 [00:03<00:00,  2.01it/s, Training loss : 0.0035, Validation loss : 0.0047]\n",
      "Epoch 3/5: 100%|██████████| 8/8 [00:04<00:00,  1.85it/s, Training loss : 0.0026, Validation loss : 0.0038]\n",
      "Epoch 4/5: 100%|██████████| 8/8 [00:04<00:00,  1.88it/s, Training loss : 0.0020, Validation loss : 0.0032]\n",
      "Epoch 5/5: 100%|██████████| 8/8 [00:04<00:00,  1.97it/s, Training loss : 0.0016, Validation loss : 0.0028]\n"
     ]
    },
    {
     "name": "stdout",
     "output_type": "stream",
     "text": [
      "Fitting individual 5/10 with genotype {'epochs': 4, 'r': 3, 'no_of_conv_kernels': 32, 'secondary_capsule_vector': 41, 'dense_1': 128, 'dense_2': 1536, 'epsilon': 0.019078395971878843, 'm_plus': 0.9898798110383258, 'm_minus': 0.1624524759903601, 'lambda_': 0.14728029387889363, 'alpha': 0.00046237987194946875, 'no_of_primary_capsules': 32, 'primary_capsule_vector': 8, 'no_of_secondary_capsules': 10}\n"
     ]
    },
    {
     "name": "stderr",
     "output_type": "stream",
     "text": [
      "Epoch 1/4: 100%|██████████| 8/8 [00:12<00:00,  1.59s/it, Training loss : 0.0067, Validation loss : 0.0049]\n",
      "Epoch 2/4: 100%|██████████| 8/8 [00:02<00:00,  2.72it/s, Training loss : 0.0027, Validation loss : 0.0034]\n",
      "Epoch 3/4: 100%|██████████| 8/8 [00:02<00:00,  2.86it/s, Training loss : 0.0019, Validation loss : 0.0025]\n",
      "Epoch 4/4: 100%|██████████| 8/8 [00:02<00:00,  2.94it/s, Training loss : 0.0015, Validation loss : 0.0023]\n"
     ]
    },
    {
     "name": "stdout",
     "output_type": "stream",
     "text": [
      "Fitting individual 6/10 with genotype {'epochs': 2, 'r': 3, 'no_of_conv_kernels': 64, 'secondary_capsule_vector': 49, 'dense_1': 512, 'dense_2': 1280, 'epsilon': 0.04845737448083815, 'm_plus': 0.9426559687652387, 'm_minus': 0.10015225398848726, 'lambda_': 0.3084403813281268, 'alpha': 0.0032331895759452963, 'no_of_primary_capsules': 32, 'primary_capsule_vector': 8, 'no_of_secondary_capsules': 10}\n"
     ]
    },
    {
     "name": "stderr",
     "output_type": "stream",
     "text": [
      "Epoch 1/2: 100%|██████████| 8/8 [00:13<00:00,  1.67s/it, Training loss : 0.0076, Validation loss : 0.0068]\n",
      "Epoch 2/2: 100%|██████████| 8/8 [00:04<00:00,  1.93it/s, Training loss : 0.0040, Validation loss : 0.0045]\n"
     ]
    },
    {
     "name": "stdout",
     "output_type": "stream",
     "text": [
      "Fitting individual 7/10 with genotype {'epochs': 1, 'r': 3, 'no_of_conv_kernels': 128, 'secondary_capsule_vector': 48, 'dense_1': 256, 'dense_2': 768, 'epsilon': 0.061295015616094316, 'm_plus': 0.9757581705023914, 'm_minus': 0.09420237207922091, 'lambda_': 0.8254652235995757, 'alpha': 0.008651305602430177, 'no_of_primary_capsules': 32, 'primary_capsule_vector': 8, 'no_of_secondary_capsules': 10}\n"
     ]
    },
    {
     "name": "stderr",
     "output_type": "stream",
     "text": [
      "Epoch 1/1: 100%|██████████| 8/8 [00:14<00:00,  1.85s/it, Training loss : 0.0109, Validation loss : 0.0121]\n"
     ]
    },
    {
     "name": "stdout",
     "output_type": "stream",
     "text": [
      "Fitting individual 8/10 with genotype {'epochs': 2, 'r': 4, 'no_of_conv_kernels': 64, 'secondary_capsule_vector': 33, 'dense_1': 768, 'dense_2': 768, 'epsilon': 0.07720354734966586, 'm_plus': 0.9048721711352853, 'm_minus': 0.19521728281048883, 'lambda_': 0.42899624432384476, 'alpha': 0.0034452457787340763, 'no_of_primary_capsules': 32, 'primary_capsule_vector': 8, 'no_of_secondary_capsules': 10}\n"
     ]
    },
    {
     "name": "stderr",
     "output_type": "stream",
     "text": [
      "Epoch 1/2: 100%|██████████| 8/8 [00:15<00:00,  1.95s/it, Training loss : 0.0065, Validation loss : 0.0063]\n",
      "Epoch 2/2: 100%|██████████| 8/8 [00:03<00:00,  2.41it/s, Training loss : 0.0038, Validation loss : 0.0040]\n"
     ]
    },
    {
     "name": "stdout",
     "output_type": "stream",
     "text": [
      "Fitting individual 9/10 with genotype {'epochs': 1, 'r': 4, 'no_of_conv_kernels': 64, 'secondary_capsule_vector': 44, 'dense_1': 512, 'dense_2': 1280, 'epsilon': 0.07438704343025021, 'm_plus': 0.9631223793021969, 'm_minus': 0.1990783291800175, 'lambda_': 0.19412979191368898, 'alpha': 0.000604350266672065, 'no_of_primary_capsules': 32, 'primary_capsule_vector': 8, 'no_of_secondary_capsules': 10}\n"
     ]
    },
    {
     "name": "stderr",
     "output_type": "stream",
     "text": [
      "Epoch 1/1: 100%|██████████| 8/8 [00:16<00:00,  2.09s/it, Training loss : 0.0061, Validation loss : 0.0044]\n"
     ]
    },
    {
     "name": "stdout",
     "output_type": "stream",
     "text": [
      "Fitting individual 10/10 with genotype {'epochs': 2, 'r': 4, 'no_of_conv_kernels': 128, 'secondary_capsule_vector': 42, 'dense_1': 512, 'dense_2': 1280, 'epsilon': 0.09590917646285592, 'm_plus': 0.9120806294565471, 'm_minus': 0.15455469063664873, 'lambda_': 0.9634069436403004, 'alpha': 0.0016331533977973394, 'no_of_primary_capsules': 32, 'primary_capsule_vector': 8, 'no_of_secondary_capsules': 10}\n"
     ]
    },
    {
     "name": "stderr",
     "output_type": "stream",
     "text": [
      "Epoch 1/2: 100%|██████████| 8/8 [00:17<00:00,  2.15s/it, Training loss : 0.0089, Validation loss : 0.0101]\n",
      "Epoch 2/2: 100%|██████████| 8/8 [00:04<00:00,  1.76it/s, Training loss : 0.0068, Validation loss : 0.0084]\n"
     ]
    },
    {
     "name": "stdout",
     "output_type": "stream",
     "text": [
      "Saving GA metrics under nas_mnist_1/generations_metrics.png\n",
      "Optimal solution(s):\n",
      "[{'epochs': 7, 'r': 2, 'no_of_conv_kernels': 32, 'secondary_capsule_vector': 14, 'dense_1': 256, 'dense_2': 1536, 'epsilon': 0.020566687709651893, 'm_plus': 0.9120393196104754, 'm_minus': 0.08645222868196017, 'lambda_': 0.8969918557352522, 'alpha': 0.008562961021228051, 'no_of_primary_capsules': 32, 'primary_capsule_vector': 8, 'no_of_secondary_capsules': 10}, {'epochs': 8, 'r': 2, 'no_of_conv_kernels': 64, 'secondary_capsule_vector': 47, 'dense_1': 256, 'dense_2': 512, 'epsilon': 0.0035923357441419055, 'm_plus': 0.96592730461712, 'm_minus': 0.1965786409146028, 'lambda_': 0.2450270553186794, 'alpha': 0.0053704901287784075, 'no_of_primary_capsules': 32, 'primary_capsule_vector': 8, 'no_of_secondary_capsules': 10}]\n",
      "______________\n",
      "Fitness values:\n",
      "  Inference    Accuracy\n",
      "[[10.36884546  0.88      ]\n",
      " [11.01864934  0.915     ]]\n",
      "=== GA done in : 0:18:54.212268 ===\n",
      "Saving GA solutions under nas_mnist_1/solutions_metrics.png\n"
     ]
    },
    {
     "data": {
      "image/png": "[encoded data removed]",
      "text/plain": [
       "<Figure size 640x480 with 1 Axes>"
      ]
     },
     "metadata": {},
     "output_type": "display_data"
    },
    {
     "data": {
      "image/png": "[encoded data removed]",
      "text/plain": [
       "<Figure size 640x480 with 1 Axes>"
      ]
     },
     "metadata": {},
     "output_type": "display_data"
    }
   ],
   "source": [
    "(X_train, y_train), (X_test , y_test) = load_mnist(size=(500, 200))\n",
    "\n",
    "params = {\n",
    "    \"name\": 'nas_mnist_1',\n",
    "    'n_gen': 2,\n",
    "    'pop_size': 10,\n",
    "    'rate_crossover': 0.7,\n",
    "    'rate_mutation': 0.3,\n",
    "    'rate_local_search': 0.1,\n",
    "    'step_size': 0.1,\n",
    "    'train_data': (X_train, y_train),\n",
    "    'test_data': (X_test, y_test)\n",
    "}\n",
    "\n",
    "nas = Nsga_II(**params)\n",
    "\n",
    "if nas.valid:\n",
    "    solutions = nas.optimise()"
   ]
  },
  {
   "cell_type": "code",
   "execution_count": 3,
   "metadata": {},
   "outputs": [
    {
     "name": "stdout",
     "output_type": "stream",
     "text": [
      "[{'epochs': 7, 'r': 2, 'no_of_conv_kernels': 32, 'secondary_capsule_vector': 14, 'dense_1': 256, 'dense_2': 1536, 'epsilon': 0.020566687709651893, 'm_plus': 0.9120393196104754, 'm_minus': 0.08645222868196017, 'lambda_': 0.8969918557352522, 'alpha': 0.008562961021228051, 'no_of_primary_capsules': 32, 'primary_capsule_vector': 8, 'no_of_secondary_capsules': 10}, {'epochs': 8, 'r': 2, 'no_of_conv_kernels': 64, 'secondary_capsule_vector': 47, 'dense_1': 256, 'dense_2': 512, 'epsilon': 0.0035923357441419055, 'm_plus': 0.96592730461712, 'm_minus': 0.1965786409146028, 'lambda_': 0.2450270553186794, 'alpha': 0.0053704901287784075, 'no_of_primary_capsules': 32, 'primary_capsule_vector': 8, 'no_of_secondary_capsules': 10}]\n"
     ]
    }
   ],
   "source": [
    "print(solutions)"
   ]
  },
  {
   "attachments": {},
   "cell_type": "markdown",
   "metadata": {},
   "source": [
    "# Comparison to baseline CapsNet and ConvNet models"
   ]
  },
  {
   "attachments": {},
   "cell_type": "markdown",
   "metadata": {},
   "source": [
    "## ConvNet"
   ]
  },
  {
   "cell_type": "code",
   "execution_count": 4,
   "metadata": {},
   "outputs": [
    {
     "name": "stdout",
     "output_type": "stream",
     "text": [
      "Model: \"sequential\"\n",
      "_________________________________________________________________\n",
      " Layer (type)                Output Shape              Param #   \n",
      "=================================================================\n",
      " conv2d (Conv2D)             (None, 26, 26, 32)        320       \n",
      "                                                                 \n",
      " max_pooling2d (MaxPooling2D  (None, 13, 13, 32)       0         \n",
      " )                                                               \n",
      "                                                                 \n",
      " flatten (Flatten)           (None, 5408)              0         \n",
      "                                                                 \n",
      " dense_90 (Dense)            (None, 100)               540900    \n",
      "                                                                 \n",
      " dense_91 (Dense)            (None, 10)                1010      \n",
      "                                                                 \n",
      "=================================================================\n",
      "Total params: 542,230\n",
      "Trainable params: 542,230\n",
      "Non-trainable params: 0\n",
      "_________________________________________________________________\n"
     ]
    }
   ],
   "source": [
    "ConvNetModel = tf.keras.Sequential([\n",
    "    tf.keras.layers.Conv2D(32, (3, 3), activation='relu', input_shape=(28, 28, 1)),\n",
    "    tf.keras.layers.MaxPooling2D((2, 2)),\n",
    "    tf.keras.layers.Flatten(),\n",
    "    tf.keras.layers.Dense(100, activation='relu'),\n",
    "    tf.keras.layers.Dense(10, activation='softmax')\n",
    "])\n",
    "ConvNetModel.summary()"
   ]
  },
  {
   "cell_type": "code",
   "execution_count": 5,
   "metadata": {},
   "outputs": [],
   "source": [
    "ConvNetModel.compile(tf.optimizers.legacy.Adam(), loss='categorical_crossentropy', metrics=['accuracy'])"
   ]
  },
  {
   "cell_type": "code",
   "execution_count": 6,
   "metadata": {},
   "outputs": [],
   "source": [
    "tf_y_train = tf.keras.utils.to_categorical(y_train)\n",
    "tf_y_test = tf.keras.utils.to_categorical(y_test)"
   ]
  },
  {
   "cell_type": "code",
   "execution_count": 7,
   "metadata": {},
   "outputs": [
    {
     "name": "stdout",
     "output_type": "stream",
     "text": [
      "Epoch 1/10\n",
      "16/16 [==============================] - 0s 11ms/step - loss: 1.6460 - accuracy: 0.5500 - val_loss: 1.0777 - val_accuracy: 0.7000\n",
      "Epoch 2/10\n",
      "16/16 [==============================] - 0s 6ms/step - loss: 0.6065 - accuracy: 0.8440 - val_loss: 0.6274 - val_accuracy: 0.7850\n",
      "Epoch 3/10\n",
      "16/16 [==============================] - 0s 6ms/step - loss: 0.3387 - accuracy: 0.9020 - val_loss: 0.4535 - val_accuracy: 0.8400\n",
      "Epoch 4/10\n",
      "16/16 [==============================] - 0s 7ms/step - loss: 0.2415 - accuracy: 0.9280 - val_loss: 0.3486 - val_accuracy: 0.9050\n",
      "Epoch 5/10\n",
      "16/16 [==============================] - 0s 6ms/step - loss: 0.1983 - accuracy: 0.9400 - val_loss: 0.3718 - val_accuracy: 0.8600\n",
      "Epoch 6/10\n",
      "16/16 [==============================] - 0s 7ms/step - loss: 0.1270 - accuracy: 0.9620 - val_loss: 0.2791 - val_accuracy: 0.9050\n",
      "Epoch 7/10\n",
      "16/16 [==============================] - 0s 7ms/step - loss: 0.0835 - accuracy: 0.9880 - val_loss: 0.2718 - val_accuracy: 0.9000\n",
      "Epoch 8/10\n",
      "16/16 [==============================] - 0s 7ms/step - loss: 0.0518 - accuracy: 0.9960 - val_loss: 0.2642 - val_accuracy: 0.9200\n",
      "Epoch 9/10\n",
      "16/16 [==============================] - 0s 7ms/step - loss: 0.0387 - accuracy: 1.0000 - val_loss: 0.2662 - val_accuracy: 0.9150\n",
      "Epoch 10/10\n",
      "16/16 [==============================] - 0s 7ms/step - loss: 0.0276 - accuracy: 1.0000 - val_loss: 0.2489 - val_accuracy: 0.9150\n"
     ]
    }
   ],
   "source": [
    "history = ConvNetModel.fit(X_train, tf_y_train, epochs=10, batch_size=32, validation_data=(X_test, tf_y_test))"
   ]
  },
  {
   "attachments": {},
   "cell_type": "markdown",
   "metadata": {},
   "source": [
    "## Baseline CapsNet"
   ]
  },
  {
   "cell_type": "code",
   "execution_count": 10,
   "metadata": {},
   "outputs": [
    {
     "name": "stdout",
     "output_type": "stream",
     "text": [
      "Model: \"BaselineCapsNetModel\"\n",
      "_________________________________________________________________\n",
      " Layer (type)                Output Shape              Param #   \n",
      "=================================================================\n",
      " ConvolutionLayer (Conv2D)   multiple                  0 (unused)\n",
      "                                                                 \n",
      " PrimaryCapsule (Conv2D)     multiple                  0 (unused)\n",
      "                                                                 \n",
      " dense_94 (Dense)            multiple                  0 (unused)\n",
      "                                                                 \n",
      " dense_95 (Dense)            multiple                  0 (unused)\n",
      "                                                                 \n",
      "=================================================================\n",
      "Total params: 1,474,560\n",
      "Trainable params: 1,474,560\n",
      "Non-trainable params: 0\n",
      "_________________________________________________________________\n"
     ]
    }
   ],
   "source": [
    "params = {\n",
    "    \"epochs\": 10,\n",
    "    \"epsilon\": 1e-7,\n",
    "    \"m_minus\": 0.1,\n",
    "    \"m_plus\": 0.9,\n",
    "    \"lambda_\": 0.5,\n",
    "    \"alpha\": 0.0005,\n",
    "    \"no_of_conv_kernels\": 128,\n",
    "    \"no_of_primary_capsules\": 32,\n",
    "    \"no_of_secondary_capsules\": 10,\n",
    "    \"primary_capsule_vector\": 8,\n",
    "    \"secondary_capsule_vector\": 16,\n",
    "    \"r\":3,\n",
    "    \"dense_1\": 512,\n",
    "    \"dense_2\": 1024\n",
    "}\n",
    "\n",
    "BaselineCapsNetModel = CapsNet(**params)\n",
    "BaselineCapsNetModel._name = 'BaselineCapsNetModel'\n",
    "BaselineCapsNetModel.compile()\n",
    "BaselineCapsNetModel.summary()"
   ]
  },
  {
   "cell_type": "code",
   "execution_count": 11,
   "metadata": {},
   "outputs": [
    {
     "name": "stderr",
     "output_type": "stream",
     "text": [
      "Epoch 1/10: 100%|██████████| 8/8 [00:22<00:00,  2.87s/it, Training loss : 0.0103, Validation loss : 0.0077]\n",
      "Epoch 2/10: 100%|██████████| 8/8 [00:03<00:00,  2.32it/s, Training loss : 0.0054, Validation loss : 0.0051]\n",
      "Epoch 3/10: 100%|██████████| 8/8 [00:03<00:00,  2.28it/s, Training loss : 0.0032, Validation loss : 0.0041]\n",
      "Epoch 4/10: 100%|██████████| 8/8 [00:03<00:00,  2.39it/s, Training loss : 0.0022, Validation loss : 0.0032]\n",
      "Epoch 5/10: 100%|██████████| 8/8 [00:03<00:00,  2.50it/s, Training loss : 0.0017, Validation loss : 0.0030]\n",
      "Epoch 6/10: 100%|██████████| 8/8 [00:03<00:00,  2.44it/s, Training loss : 0.0013, Validation loss : 0.0023]\n",
      "Epoch 7/10: 100%|██████████| 8/8 [00:03<00:00,  2.43it/s, Training loss : 0.0010, Validation loss : 0.0021]\n",
      "Epoch 8/10: 100%|██████████| 8/8 [00:03<00:00,  2.49it/s, Training loss : 0.0008, Validation loss : 0.0017]\n",
      "Epoch 9/10: 100%|██████████| 8/8 [00:03<00:00,  2.53it/s, Training loss : 0.0006, Validation loss : 0.0016]\n",
      "Epoch 10/10: 100%|██████████| 8/8 [00:03<00:00,  2.56it/s, Training loss : 0.0005, Validation loss : 0.0016]\n"
     ]
    },
    {
     "data": {
      "text/plain": [
       "{'accuracy': ListWrapper([0.532, 0.812, 0.878, 0.914, 0.932, 0.964, 0.976, 0.988, 0.992, 0.994]),\n",
       " 'loss': ListWrapper([1.0337207466363907, 0.5399913061410189, 0.3150518285110593, 0.22125467658042908, 0.16977157210931182, 0.1304678851738572, 0.09746589348651469, 0.07800062303431332, 0.06137239979580045, 0.04992425674572587]),\n",
       " 'val_accuracy': ListWrapper([0.475, 0.7, 0.8, 0.835, 0.89, 0.91, 0.925, 0.945, 0.955, 0.95]),\n",
       " 'val_loss': ListWrapper([0.7712529506534338, 0.5141217261552811, 0.41217729449272156, 0.31842386815696955, 0.2984643215313554, 0.23363761138170958, 0.20557830575853586, 0.1703212270513177, 0.16320273280143738, 0.1556870061904192])}"
      ]
     },
     "execution_count": 11,
     "metadata": {},
     "output_type": "execute_result"
    }
   ],
   "source": [
    "BaselineCapsNetModel.fit(X_train, y_train, tf.keras.optimizers.legacy.Adam(), train_metrics=['accuracy'], validation=(X_test, y_test))"
   ]
  },
  {
   "cell_type": "code",
   "execution_count": 12,
   "metadata": {},
   "outputs": [],
   "source": [
    "BaselineCapsNetModel.training_metrics = {\n",
    "    'loss': BaselineCapsNetModel.training_metrics['loss'],\n",
    "    'accuracy': BaselineCapsNetModel.training_metrics['accuracy'],\n",
    "    'val_loss': BaselineCapsNetModel.training_metrics['val_loss'],\n",
    "    'val_accuracy': BaselineCapsNetModel.training_metrics['val_accuracy'],\n",
    "}"
   ]
  },
  {
   "attachments": {},
   "cell_type": "markdown",
   "metadata": {},
   "source": [
    "## Nas CapsNet"
   ]
  },
  {
   "cell_type": "code",
   "execution_count": 13,
   "metadata": {},
   "outputs": [
    {
     "name": "stdout",
     "output_type": "stream",
     "text": [
      "Model: \"NasCapsNet\"\n",
      "_________________________________________________________________\n",
      " Layer (type)                Output Shape              Param #   \n",
      "=================================================================\n",
      " ConvolutionLayer (Conv2D)   multiple                  0 (unused)\n",
      "                                                                 \n",
      " PrimaryCapsule (Conv2D)     multiple                  0 (unused)\n",
      "                                                                 \n",
      " dense_96 (Dense)            multiple                  0 (unused)\n",
      "                                                                 \n",
      " dense_97 (Dense)            multiple                  0 (unused)\n",
      "                                                                 \n",
      "=================================================================\n",
      "Total params: 1,290,240\n",
      "Trainable params: 1,290,240\n",
      "Non-trainable params: 0\n",
      "_________________________________________________________________\n"
     ]
    }
   ],
   "source": [
    "params = solutions[0]\n",
    "NasCapsNet = CapsNet(**params)\n",
    "NasCapsNet._name = 'NasCapsNet'\n",
    "NasCapsNet.compile()\n",
    "NasCapsNet.summary()"
   ]
  },
  {
   "cell_type": "code",
   "execution_count": 14,
   "metadata": {},
   "outputs": [
    {
     "name": "stderr",
     "output_type": "stream",
     "text": [
      "Epoch 1/7: 100%|██████████| 8/8 [00:15<00:00,  1.89s/it, Training loss : 0.0088, Validation loss : 0.0093]\n",
      "Epoch 2/7: 100%|██████████| 8/8 [00:01<00:00,  4.44it/s, Training loss : 0.0049, Validation loss : 0.0065]\n",
      "Epoch 3/7: 100%|██████████| 8/8 [00:01<00:00,  4.54it/s, Training loss : 0.0035, Validation loss : 0.0052]\n",
      "Epoch 4/7: 100%|██████████| 8/8 [00:01<00:00,  4.40it/s, Training loss : 0.0028, Validation loss : 0.0046]\n",
      "Epoch 5/7: 100%|██████████| 8/8 [00:01<00:00,  4.25it/s, Training loss : 0.0022, Validation loss : 0.0040]\n",
      "Epoch 6/7: 100%|██████████| 8/8 [00:01<00:00,  4.21it/s, Training loss : 0.0019, Validation loss : 0.0036]\n",
      "Epoch 7/7: 100%|██████████| 8/8 [00:01<00:00,  4.42it/s, Training loss : 0.0016, Validation loss : 0.0033]\n"
     ]
    },
    {
     "data": {
      "text/plain": [
       "{'accuracy': ListWrapper([0.692, 0.876, 0.914, 0.94, 0.958, 0.974, 0.984]),\n",
       " 'loss': ListWrapper([0.8812027052044868, 0.49343397840857506, 0.3498511156067252, 0.27551366947591305, 0.22275629453361034, 0.18512632232159376, 0.15803705900907516]),\n",
       " 'val_accuracy': ListWrapper([0.625, 0.775, 0.8, 0.865, 0.875, 0.93, 0.94]),\n",
       " 'val_loss': ListWrapper([0.9304898791015148, 0.6459065247327089, 0.5247764755040407, 0.460713729262352, 0.39860657416284084, 0.35565560683608055, 0.3282676450908184])}"
      ]
     },
     "execution_count": 14,
     "metadata": {},
     "output_type": "execute_result"
    }
   ],
   "source": [
    "NasCapsNet.fit(X_train, y_train, tf.keras.optimizers.legacy.Adam(), train_metrics=['accuracy'], validation=(X_test, y_test))"
   ]
  },
  {
   "cell_type": "code",
   "execution_count": 15,
   "metadata": {},
   "outputs": [],
   "source": [
    "NasCapsNet.training_metrics = {\n",
    "    'loss': NasCapsNet.training_metrics['loss'],\n",
    "    'accuracy': NasCapsNet.training_metrics['accuracy'],\n",
    "    'val_loss': NasCapsNet.training_metrics['val_loss'],\n",
    "    'val_accuracy': NasCapsNet.training_metrics['val_accuracy'],\n",
    "}"
   ]
  },
  {
   "attachments": {},
   "cell_type": "markdown",
   "metadata": {},
   "source": [
    "## Evaluation"
   ]
  },
  {
   "cell_type": "code",
   "execution_count": 16,
   "metadata": {},
   "outputs": [
    {
     "data": {
      "image/png": "[encoded data removed]",
      "text/plain": [
       "<Figure size 1200x400 with 3 Axes>"
      ]
     },
     "metadata": {},
     "output_type": "display_data"
    }
   ],
   "source": [
    "import matplotlib.pyplot as plt\n",
    "import time\n",
    "import pandas as pd\n",
    "\n",
    "\n",
    "fig, axes = plt.subplots(1, 3, figsize=(12, 4))\n",
    "\n",
    "df_baseline = pd.DataFrame(history.history)\n",
    "plot_baseline = df_baseline.plot(ax=axes[0], title=\"ConvNet model\", legend=False)\n",
    "axes[0].set_ylim(0, 1)\n",
    "axes[0].set_xlim(0, 10)\n",
    "\n",
    "df_capsnet = pd.DataFrame(BaselineCapsNetModel.training_metrics)\n",
    "plot_capsnet = df_capsnet.plot(ax=axes[1], title=\"CapsNet model\", legend=False)  # Set legend=False here\n",
    "axes[1].set_ylim(0, 1)\n",
    "axes[1].set_xlim(0, 10)\n",
    "\n",
    "df_capsnet_nas = pd.DataFrame(NasCapsNet.training_metrics)\n",
    "plot_capsnet_nas = df_capsnet_nas.plot(ax=axes[2], title=\"CapsNet_nas model\")  # Set legend=False here\n",
    "axes[2].set_ylim(0, 1)\n",
    "axes[2].set_xlim(0, 4)\n",
    "\n",
    "axes[0].set_xlabel(\"Epochs\")\n",
    "axes[1].set_xlabel(\"Epochs\")\n",
    "axes[2].set_xlabel(\"Epochs\")\n",
    "\n",
    "\n",
    "# Show only one legend for both plots\n",
    "handles, labels = axes[2].get_legend_handles_labels()\n",
    "axes[2].legend(handles, labels, loc='center right', bbox_to_anchor=(1.4, 0.5), fancybox=True, ncol=1)\n",
    "\n",
    "plt.tight_layout()\n",
    "plt.show()"
   ]
  },
  {
   "cell_type": "code",
   "execution_count": 17,
   "metadata": {},
   "outputs": [],
   "source": [
    "n_rounds = 100"
   ]
  },
  {
   "cell_type": "code",
   "execution_count": 18,
   "metadata": {},
   "outputs": [],
   "source": [
    "conv_inv_time = []\n",
    "for i in range(n_rounds):\n",
    "    start = time.time()\n",
    "    ConvNetModel.predict(X_test, verbose=False)\n",
    "    end = time.time()\n",
    "    conv_inv_time.append((end - start) / len(X_test) * 1000)"
   ]
  },
  {
   "cell_type": "code",
   "execution_count": 19,
   "metadata": {},
   "outputs": [],
   "source": [
    "caps_inv_time = []\n",
    "for i in range(n_rounds):\n",
    "    start = time.time()\n",
    "    BaselineCapsNetModel.predict(X_test)\n",
    "    end = time.time()\n",
    "    caps_inv_time.append((end - start) / len(X_test) * 1000)"
   ]
  },
  {
   "cell_type": "code",
   "execution_count": 20,
   "metadata": {},
   "outputs": [],
   "source": [
    "caps_nas_inv_time = []\n",
    "for i in range(n_rounds):\n",
    "    start = time.time()\n",
    "    NasCapsNet.predict(X_test)\n",
    "    end = time.time()\n",
    "    caps_nas_inv_time.append((end - start) / len(X_test) * 1000)"
   ]
  },
  {
   "cell_type": "code",
   "execution_count": 21,
   "metadata": {},
   "outputs": [
    {
     "data": {
      "image/png": "[encoded data removed]",
      "text/plain": [
       "<Figure size 800x600 with 1 Axes>"
      ]
     },
     "metadata": {},
     "output_type": "display_data"
    }
   ],
   "source": [
    "df = pd.DataFrame({\n",
    "    \"conv\": conv_inv_time,\n",
    "    \"caps\": caps_inv_time,\n",
    "    \"caps nas\": caps_nas_inv_time\n",
    "})\n",
    "plt.figure(figsize=(8, 6))\n",
    "plt.boxplot(df.values, labels=df.columns)\n",
    "plt.title('Inference Time Comparison')\n",
    "plt.xlabel('Model')\n",
    "plt.ylabel('Inference Time (ms)')\n",
    "plt.grid(True)\n",
    "plt.show()"
   ]
  },
  {
   "cell_type": "code",
   "execution_count": 22,
   "metadata": {},
   "outputs": [
    {
     "data": {
      "image/png": "[encoded data removed]",
      "text/plain": [
       "<Figure size 640x480 with 1 Axes>"
      ]
     },
     "metadata": {},
     "output_type": "display_data"
    }
   ],
   "source": [
    "df = pd.DataFrame({\n",
    "    'conv': {'acc': history.history['accuracy'][-1], 'val_acc': history.history['val_accuracy'][-1]},\n",
    "    'caps': {'acc': BaselineCapsNetModel.training_metrics['accuracy'][-1], 'val_acc': BaselineCapsNetModel.training_metrics['val_accuracy'][-1]},\n",
    "    'caps_nas': {'acc': NasCapsNet.training_metrics['accuracy'][-1], 'val_acc': NasCapsNet.training_metrics['val_accuracy'][-1]},\n",
    "})\n",
    "\n",
    "df = df.T\n",
    "df.plot(kind='bar')\n",
    "plt.xlabel('Model')\n",
    "plt.ylabel('Accuracy')\n",
    "plt.title('Accuracy Comparison')\n",
    "plt.legend(title='Metric', loc='center left', bbox_to_anchor=(1, 0.5))\n",
    "plt.show()\n"
   ]
  }
 ],
 "metadata": {
  "kernelspec": {
   "display_name": "capsnet",
   "language": "python",
   "name": "python3"
  },
  "language_info": {
   "codemirror_mode": {
    "name": "ipython",
    "version": 3
   },
   "file_extension": ".py",
   "mimetype": "text/x-python",
   "name": "python",
   "nbconvert_exporter": "python",
   "pygments_lexer": "ipython3",
   "version": "3.10.11"
  },
  "orig_nbformat": 4
 },
 "nbformat": 4,
 "nbformat_minor": 2
}

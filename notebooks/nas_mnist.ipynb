{
 "cells": [
  {
   "attachments": {},
   "cell_type": "markdown",
   "metadata": {},
   "source": [
    "# NAS on CapsNet on MNIST dataset"
   ]
  },
  {
   "attachments": {},
   "cell_type": "markdown",
   "metadata": {},
   "source": [
    "> Focusing on inference time and accuracy"
   ]
  },
  {
   "cell_type": "code",
   "execution_count": 1,
   "metadata": {},
   "outputs": [],
   "source": [
    "# Setting PATH to import CapsNet class from python file to notebook\n",
    "\n",
    "import os\n",
    "import sys\n",
    "directory_path = os.path.abspath(os.path.join('../src'))\n",
    "if directory_path not in sys.path:\n",
    "    sys.path.append(directory_path)\n",
    "\n",
    "from NsgaII import Nsga_II\n",
    "from utils.load_data import load_mnist"
   ]
  },
  {
   "cell_type": "code",
   "execution_count": 2,
   "metadata": {},
   "outputs": [
    {
     "name": "stdout",
     "output_type": "stream",
     "text": [
      "A ga has been saved under the same name (nas_mnist_1) replace ?\n",
      "=== Generation 1/2\n",
      "Len of pop before manipulations : 5\n",
      "crossover created 4 offspring(s)\n",
      "mutation created 0 offspring(s)\n",
      "local search created 1 offspring(s)\n",
      "Len of pop after manipulations : 10\n",
      "Fitting individual 1/10 with genotype {'epochs': 4, 'r': 4, 'no_of_conv_kernels': 32, 'secondary_capsule_vector': 4, 'epsilon': 0.04985261308072587, 'm_plus': 0.9385333210954295, 'm_minus': 0.09830190871627797, 'lambda_': 0.835965680883002, 'alpha': 0.003228496219395073, 'no_of_primary_capsules': 32, 'primary_capsule_vector': 8, 'no_of_secondary_capsules': 10}\n"
     ]
    },
    {
     "name": "stderr",
     "output_type": "stream",
     "text": [
      "Epoch 1/4:   0%|          | 0/32 [00:00<?, ?it/s]2023-07-21 12:14:17.761731: W tensorflow/tsl/platform/profile_utils/cpu_utils.cc:128] Failed to get CPU frequency: 0 Hz\n",
      "Epoch 1/4: 100%|██████████| 32/32 [00:11<00:00,  2.82it/s, Training loss : 0.0088, Validation loss : 0.0060]\n",
      "Epoch 2/4: 100%|██████████| 32/32 [00:05<00:00,  6.11it/s, Training loss : 0.0047, Validation loss : 0.0041]\n",
      "Epoch 3/4: 100%|██████████| 32/32 [00:05<00:00,  5.43it/s, Training loss : 0.0034, Validation loss : 0.0036]\n",
      "Epoch 4/4: 100%|██████████| 32/32 [00:05<00:00,  6.30it/s, Training loss : 0.0030, Validation loss : 0.0035]\n"
     ]
    },
    {
     "name": "stdout",
     "output_type": "stream",
     "text": [
      "Fitting individual 2/10 with genotype {'epochs': 3, 'r': 2, 'no_of_conv_kernels': 32, 'secondary_capsule_vector': 33, 'epsilon': 0.05883188577524213, 'm_plus': 0.9179066729109523, 'm_minus': 0.16482065292249104, 'lambda_': 0.7129180892496013, 'alpha': 0.0056094217181342, 'no_of_primary_capsules': 32, 'primary_capsule_vector': 8, 'no_of_secondary_capsules': 10}\n"
     ]
    },
    {
     "name": "stderr",
     "output_type": "stream",
     "text": [
      "Epoch 1/3: 100%|██████████| 32/32 [00:11<00:00,  2.79it/s, Training loss : 0.0048, Validation loss : 0.0031]\n",
      "Epoch 2/3: 100%|██████████| 32/32 [00:06<00:00,  4.62it/s, Training loss : 0.0024, Validation loss : 0.0022]\n",
      "Epoch 3/3: 100%|██████████| 32/32 [00:07<00:00,  4.54it/s, Training loss : 0.0018, Validation loss : 0.0020]\n"
     ]
    },
    {
     "name": "stdout",
     "output_type": "stream",
     "text": [
      "Fitting individual 3/10 with genotype {'epochs': 3, 'r': 4, 'no_of_conv_kernels': 128, 'secondary_capsule_vector': 25, 'epsilon': 0.09671883891798792, 'm_plus': 0.977116968133849, 'm_minus': 0.0876523383992028, 'lambda_': 0.3729956987114764, 'alpha': 0.0036438174667762155, 'no_of_primary_capsules': 32, 'primary_capsule_vector': 8, 'no_of_secondary_capsules': 10}\n"
     ]
    },
    {
     "name": "stderr",
     "output_type": "stream",
     "text": [
      "Epoch 1/3: 100%|██████████| 32/32 [00:22<00:00,  1.45it/s, Training loss : 0.0066, Validation loss : 0.0049]\n",
      "Epoch 2/3: 100%|██████████| 32/32 [00:13<00:00,  2.36it/s, Training loss : 0.0041, Validation loss : 0.0040]\n",
      "Epoch 3/3: 100%|██████████| 32/32 [00:12<00:00,  2.61it/s, Training loss : 0.0036, Validation loss : 0.0037]\n"
     ]
    },
    {
     "name": "stdout",
     "output_type": "stream",
     "text": [
      "Fitting individual 4/10 with genotype {'epochs': 4, 'r': 2, 'no_of_conv_kernels': 128, 'secondary_capsule_vector': 18, 'epsilon': 0.08681510589611424, 'm_plus': 0.9518120567436552, 'm_minus': 0.08047898084026484, 'lambda_': 0.7045067806026227, 'alpha': 0.006660149207101162, 'no_of_primary_capsules': 32, 'primary_capsule_vector': 8, 'no_of_secondary_capsules': 10}\n"
     ]
    },
    {
     "name": "stderr",
     "output_type": "stream",
     "text": [
      "Epoch 1/4: 100%|██████████| 32/32 [00:12<00:00,  2.47it/s, Training loss : 0.0107, Validation loss : 0.0089]\n",
      "Epoch 2/4: 100%|██████████| 32/32 [00:08<00:00,  3.78it/s, Training loss : 0.0070, Validation loss : 0.0063]\n",
      "Epoch 3/4: 100%|██████████| 32/32 [00:08<00:00,  3.76it/s, Training loss : 0.0058, Validation loss : 0.0060]\n",
      "Epoch 4/4: 100%|██████████| 32/32 [00:08<00:00,  3.81it/s, Training loss : 0.0054, Validation loss : 0.0057]\n"
     ]
    },
    {
     "name": "stdout",
     "output_type": "stream",
     "text": [
      "Fitting individual 5/10 with genotype {'epochs': 3, 'r': 4, 'no_of_conv_kernels': 128, 'secondary_capsule_vector': 3, 'epsilon': 0.07932211205558576, 'm_plus': 0.9320698961695272, 'm_minus': 0.10369420144016661, 'lambda_': 0.14838477741817638, 'alpha': 0.009454592609231737, 'no_of_primary_capsules': 32, 'primary_capsule_vector': 8, 'no_of_secondary_capsules': 10}\n"
     ]
    },
    {
     "name": "stderr",
     "output_type": "stream",
     "text": [
      "Epoch 1/3: 100%|██████████| 32/32 [00:14<00:00,  2.26it/s, Training loss : 0.0041, Validation loss : 0.0022]\n",
      "Epoch 2/3: 100%|██████████| 32/32 [00:07<00:00,  4.03it/s, Training loss : 0.0017, Validation loss : 0.0016]\n",
      "Epoch 3/3: 100%|██████████| 32/32 [00:07<00:00,  4.05it/s, Training loss : 0.0013, Validation loss : 0.0013]\n"
     ]
    },
    {
     "name": "stdout",
     "output_type": "stream",
     "text": [
      "WARNING:tensorflow:5 out of the last 5 calls to <function CapsNet.predict_capsule_output at 0x1059d36d0> triggered tf.function retracing. Tracing is expensive and the excessive number of tracings could be due to (1) creating @tf.function repeatedly in a loop, (2) passing tensors with different shapes, (3) passing Python objects instead of tensors. For (1), please define your @tf.function outside of the loop. For (2), @tf.function has reduce_retracing=True option that can avoid unnecessary retracing. For (3), please refer to https://www.tensorflow.org/guide/function#controlling_retracing and https://www.tensorflow.org/api_docs/python/tf/function for  more details.\n",
      "Fitting individual 6/10 with genotype {'epochs': 4, 'r': 4, 'no_of_conv_kernels': 32, 'secondary_capsule_vector': 4, 'epsilon': 0.020117682760405715, 'm_plus': 0.9385333210954295, 'm_minus': 0.09830190871627797, 'lambda_': 0.3729956987114764, 'alpha': 0.0036438174667762155, 'no_of_primary_capsules': 32, 'primary_capsule_vector': 8, 'no_of_secondary_capsules': 10}\n"
     ]
    },
    {
     "name": "stderr",
     "output_type": "stream",
     "text": [
      "Epoch 1/4: 100%|██████████| 32/32 [00:11<00:00,  2.75it/s, Training loss : 0.0047, Validation loss : 0.0030]\n",
      "Epoch 2/4: 100%|██████████| 32/32 [00:05<00:00,  6.13it/s, Training loss : 0.0022, Validation loss : 0.0020]\n",
      "Epoch 3/4: 100%|██████████| 32/32 [00:05<00:00,  6.23it/s, Training loss : 0.0015, Validation loss : 0.0015]\n",
      "Epoch 4/4: 100%|██████████| 32/32 [00:05<00:00,  6.21it/s, Training loss : 0.0011, Validation loss : 0.0013]\n"
     ]
    },
    {
     "name": "stdout",
     "output_type": "stream",
     "text": [
      "WARNING:tensorflow:6 out of the last 6 calls to <function CapsNet.predict_capsule_output at 0x1059d36d0> triggered tf.function retracing. Tracing is expensive and the excessive number of tracings could be due to (1) creating @tf.function repeatedly in a loop, (2) passing tensors with different shapes, (3) passing Python objects instead of tensors. For (1), please define your @tf.function outside of the loop. For (2), @tf.function has reduce_retracing=True option that can avoid unnecessary retracing. For (3), please refer to https://www.tensorflow.org/guide/function#controlling_retracing and https://www.tensorflow.org/api_docs/python/tf/function for  more details.\n",
      "Fitting individual 7/10 with genotype {'epochs': 3, 'r': 4, 'no_of_conv_kernels': 128, 'secondary_capsule_vector': 25, 'epsilon': 0.09671883891798792, 'm_plus': 0.977116968133849, 'm_minus': 0.0876523383992028, 'lambda_': 0.835965680883002, 'alpha': 0.003228496219395073, 'no_of_primary_capsules': 32, 'primary_capsule_vector': 8, 'no_of_secondary_capsules': 10}\n"
     ]
    },
    {
     "name": "stderr",
     "output_type": "stream",
     "text": [
      "Epoch 1/3: 100%|██████████| 32/32 [00:22<00:00,  1.44it/s, Training loss : 0.0131, Validation loss : 0.0131]\n",
      "Epoch 2/3: 100%|██████████| 32/32 [00:13<00:00,  2.36it/s, Training loss : 0.0131, Validation loss : 0.0131]\n",
      "Epoch 3/3: 100%|██████████| 32/32 [00:13<00:00,  2.35it/s, Training loss : 0.0131, Validation loss : 0.0131]\n"
     ]
    },
    {
     "name": "stdout",
     "output_type": "stream",
     "text": [
      "Fitting individual 8/10 with genotype {'epochs': 3, 'r': 4, 'no_of_conv_kernels': 32, 'secondary_capsule_vector': 4, 'epsilon': 0.020117682760405715, 'm_plus': 0.9385333210954295, 'm_minus': 0.09830190871627797, 'lambda_': 0.835965680883002, 'alpha': 0.003228496219395073, 'no_of_primary_capsules': 32, 'primary_capsule_vector': 8, 'no_of_secondary_capsules': 10}\n"
     ]
    },
    {
     "name": "stderr",
     "output_type": "stream",
     "text": [
      "Epoch 1/3: 100%|██████████| 32/32 [00:12<00:00,  2.64it/s, Training loss : 0.0060, Validation loss : 0.0039]\n",
      "Epoch 2/3: 100%|██████████| 32/32 [00:05<00:00,  6.19it/s, Training loss : 0.0027, Validation loss : 0.0025]\n",
      "Epoch 3/3: 100%|██████████| 32/32 [00:05<00:00,  6.26it/s, Training loss : 0.0018, Validation loss : 0.0022]\n"
     ]
    },
    {
     "name": "stdout",
     "output_type": "stream",
     "text": [
      "Fitting individual 9/10 with genotype {'epochs': 4, 'r': 4, 'no_of_conv_kernels': 128, 'secondary_capsule_vector': 25, 'epsilon': 0.09671883891798792, 'm_plus': 0.977116968133849, 'm_minus': 0.0876523383992028, 'lambda_': 0.3729956987114764, 'alpha': 0.0036438174667762155, 'no_of_primary_capsules': 32, 'primary_capsule_vector': 8, 'no_of_secondary_capsules': 10}\n"
     ]
    },
    {
     "name": "stderr",
     "output_type": "stream",
     "text": [
      "Epoch 1/4: 100%|██████████| 32/32 [00:21<00:00,  1.49it/s, Training loss : 0.0065, Validation loss : 0.0048]\n",
      "Epoch 2/4: 100%|██████████| 32/32 [00:12<00:00,  2.61it/s, Training loss : 0.0041, Validation loss : 0.0040]\n",
      "Epoch 3/4: 100%|██████████| 32/32 [00:12<00:00,  2.59it/s, Training loss : 0.0036, Validation loss : 0.0037]\n",
      "Epoch 4/4: 100%|██████████| 32/32 [00:12<00:00,  2.60it/s, Training loss : 0.0033, Validation loss : 0.0036]\n"
     ]
    },
    {
     "name": "stdout",
     "output_type": "stream",
     "text": [
      "Fitting individual 10/10 with genotype {'epochs': 4, 'r': 4, 'no_of_conv_kernels': 32, 'secondary_capsule_vector': 4, 'epsilon': 0.04985261308072587, 'm_plus': 0.9385333210954295, 'm_minus': 0.09830190871627797, 'lambda_': 0.835965680883002, 'alpha': 0.003228496219395073, 'no_of_primary_capsules': 32, 'primary_capsule_vector': 8, 'no_of_secondary_capsules': 10}\n"
     ]
    },
    {
     "name": "stderr",
     "output_type": "stream",
     "text": [
      "Epoch 1/4: 100%|██████████| 32/32 [00:11<00:00,  2.71it/s, Training loss : 0.0078, Validation loss : 0.0055]\n",
      "Epoch 2/4: 100%|██████████| 32/32 [00:05<00:00,  6.30it/s, Training loss : 0.0043, Validation loss : 0.0040]\n",
      "Epoch 3/4: 100%|██████████| 32/32 [00:05<00:00,  6.16it/s, Training loss : 0.0034, Validation loss : 0.0037]\n",
      "Epoch 4/4: 100%|██████████| 32/32 [00:05<00:00,  6.29it/s, Training loss : 0.0030, Validation loss : 0.0034]\n"
     ]
    },
    {
     "name": "stdout",
     "output_type": "stream",
     "text": [
      "Len of pop after selection : 5\n",
      "=== Generation 2/2\n",
      "Len of pop before manipulations : 5\n",
      "crossover created 4 offspring(s)\n",
      "mutation created 0 offspring(s)\n",
      "local search created 1 offspring(s)\n",
      "Len of pop after manipulations : 10\n",
      "Fitting individual 1/10 with genotype {'epochs': 3, 'r': 2, 'no_of_conv_kernels': 32, 'secondary_capsule_vector': 33, 'epsilon': 0.05883188577524213, 'm_plus': 0.9179066729109523, 'm_minus': 0.16482065292249104, 'lambda_': 0.7129180892496013, 'alpha': 0.0056094217181342, 'no_of_primary_capsules': 32, 'primary_capsule_vector': 8, 'no_of_secondary_capsules': 10}\n"
     ]
    },
    {
     "name": "stderr",
     "output_type": "stream",
     "text": [
      "Epoch 1/3: 100%|██████████| 32/32 [00:11<00:00,  2.74it/s, Training loss : 0.0055, Validation loss : 0.0036]\n",
      "Epoch 2/3: 100%|██████████| 32/32 [00:07<00:00,  4.44it/s, Training loss : 0.0025, Validation loss : 0.0023]\n",
      "Epoch 3/3: 100%|██████████| 32/32 [00:07<00:00,  4.45it/s, Training loss : 0.0018, Validation loss : 0.0019]\n"
     ]
    },
    {
     "name": "stdout",
     "output_type": "stream",
     "text": [
      "Fitting individual 2/10 with genotype {'epochs': 4, 'r': 2, 'no_of_conv_kernels': 128, 'secondary_capsule_vector': 18, 'epsilon': 0.08681510589611424, 'm_plus': 0.9518120567436552, 'm_minus': 0.08047898084026484, 'lambda_': 0.7045067806026227, 'alpha': 0.006660149207101162, 'no_of_primary_capsules': 32, 'primary_capsule_vector': 8, 'no_of_secondary_capsules': 10}\n"
     ]
    },
    {
     "name": "stderr",
     "output_type": "stream",
     "text": [
      "Epoch 1/4: 100%|██████████| 32/32 [00:13<00:00,  2.44it/s, Training loss : 0.0096, Validation loss : 0.0075]\n",
      "Epoch 2/4: 100%|██████████| 32/32 [00:08<00:00,  3.72it/s, Training loss : 0.0065, Validation loss : 0.0063]\n",
      "Epoch 3/4: 100%|██████████| 32/32 [00:08<00:00,  3.71it/s, Training loss : 0.0057, Validation loss : 0.0059]\n",
      "Epoch 4/4: 100%|██████████| 32/32 [00:08<00:00,  3.76it/s, Training loss : 0.0055, Validation loss : 0.0058]\n"
     ]
    },
    {
     "name": "stdout",
     "output_type": "stream",
     "text": [
      "Fitting individual 3/10 with genotype {'epochs': 4, 'r': 4, 'no_of_conv_kernels': 32, 'secondary_capsule_vector': 4, 'epsilon': 0.04985261308072587, 'm_plus': 0.9385333210954295, 'm_minus': 0.09830190871627797, 'lambda_': 0.835965680883002, 'alpha': 0.003228496219395073, 'no_of_primary_capsules': 32, 'primary_capsule_vector': 8, 'no_of_secondary_capsules': 10}\n"
     ]
    },
    {
     "name": "stderr",
     "output_type": "stream",
     "text": [
      "Epoch 1/4: 100%|██████████| 32/32 [00:11<00:00,  2.76it/s, Training loss : 0.0090, Validation loss : 0.0060]\n",
      "Epoch 2/4: 100%|██████████| 32/32 [00:05<00:00,  6.14it/s, Training loss : 0.0046, Validation loss : 0.0041]\n",
      "Epoch 3/4: 100%|██████████| 32/32 [00:05<00:00,  5.95it/s, Training loss : 0.0034, Validation loss : 0.0036]\n",
      "Epoch 4/4: 100%|██████████| 32/32 [00:05<00:00,  6.17it/s, Training loss : 0.0030, Validation loss : 0.0033]\n"
     ]
    },
    {
     "name": "stdout",
     "output_type": "stream",
     "text": [
      "Fitting individual 4/10 with genotype {'epochs': 3, 'r': 4, 'no_of_conv_kernels': 128, 'secondary_capsule_vector': 25, 'epsilon': 0.09671883891798792, 'm_plus': 0.977116968133849, 'm_minus': 0.0876523383992028, 'lambda_': 0.3729956987114764, 'alpha': 0.0036438174667762155, 'no_of_primary_capsules': 32, 'primary_capsule_vector': 8, 'no_of_secondary_capsules': 10}\n"
     ]
    },
    {
     "name": "stderr",
     "output_type": "stream",
     "text": [
      "Epoch 1/3: 100%|██████████| 32/32 [00:21<00:00,  1.51it/s, Training loss : 0.0069, Validation loss : 0.0050]\n",
      "Epoch 2/3: 100%|██████████| 32/32 [00:12<00:00,  2.51it/s, Training loss : 0.0042, Validation loss : 0.0041]\n",
      "Epoch 3/3: 100%|██████████| 32/32 [00:12<00:00,  2.57it/s, Training loss : 0.0036, Validation loss : 0.0038]\n"
     ]
    },
    {
     "name": "stdout",
     "output_type": "stream",
     "text": [
      "Fitting individual 5/10 with genotype {'epochs': 3, 'r': 4, 'no_of_conv_kernels': 128, 'secondary_capsule_vector': 3, 'epsilon': 0.07932211205558576, 'm_plus': 0.9320698961695272, 'm_minus': 0.10369420144016661, 'lambda_': 0.14838477741817638, 'alpha': 0.009454592609231737, 'no_of_primary_capsules': 32, 'primary_capsule_vector': 8, 'no_of_secondary_capsules': 10}\n"
     ]
    },
    {
     "name": "stderr",
     "output_type": "stream",
     "text": [
      "Epoch 1/3: 100%|██████████| 32/32 [00:14<00:00,  2.25it/s, Training loss : 0.0040, Validation loss : 0.0021]\n",
      "Epoch 2/3: 100%|██████████| 32/32 [00:07<00:00,  4.02it/s, Training loss : 0.0016, Validation loss : 0.0015]\n",
      "Epoch 3/3: 100%|██████████| 32/32 [00:07<00:00,  4.08it/s, Training loss : 0.0012, Validation loss : 0.0013]\n"
     ]
    },
    {
     "name": "stdout",
     "output_type": "stream",
     "text": [
      "Fitting individual 6/10 with genotype {'epochs': 3, 'r': 2, 'no_of_conv_kernels': 128, 'secondary_capsule_vector': 25, 'epsilon': 0.09671883891798792, 'm_plus': 0.977116968133849, 'm_minus': 0.0876523383992028, 'lambda_': 0.3729956987114764, 'alpha': 0.0036438174667762155, 'no_of_primary_capsules': 32, 'primary_capsule_vector': 8, 'no_of_secondary_capsules': 10}\n"
     ]
    },
    {
     "name": "stderr",
     "output_type": "stream",
     "text": [
      "Epoch 1/3: 100%|██████████| 32/32 [00:14<00:00,  2.26it/s, Training loss : 0.0065, Validation loss : 0.0048]\n",
      "Epoch 2/3: 100%|██████████| 32/32 [00:09<00:00,  3.27it/s, Training loss : 0.0041, Validation loss : 0.0040]\n",
      "Epoch 3/3: 100%|██████████| 32/32 [00:09<00:00,  3.39it/s, Training loss : 0.0036, Validation loss : 0.0037]\n"
     ]
    },
    {
     "name": "stdout",
     "output_type": "stream",
     "text": [
      "Fitting individual 7/10 with genotype {'epochs': 3, 'r': 4, 'no_of_conv_kernels': 32, 'secondary_capsule_vector': 33, 'epsilon': 0.05883188577524213, 'm_plus': 0.9179066729109523, 'm_minus': 0.16482065292249104, 'lambda_': 0.7129180892496013, 'alpha': 0.0056094217181342, 'no_of_primary_capsules': 32, 'primary_capsule_vector': 8, 'no_of_secondary_capsules': 10}\n"
     ]
    },
    {
     "name": "stderr",
     "output_type": "stream",
     "text": [
      "Epoch 1/3: 100%|██████████| 32/32 [00:20<00:00,  1.56it/s, Training loss : 0.0044, Validation loss : 0.0030]\n",
      "Epoch 2/3: 100%|██████████| 32/32 [00:11<00:00,  2.77it/s, Training loss : 0.0023, Validation loss : 0.0021]\n",
      "Epoch 3/3: 100%|██████████| 32/32 [00:12<00:00,  2.64it/s, Training loss : 0.0017, Validation loss : 0.0018]\n"
     ]
    },
    {
     "name": "stdout",
     "output_type": "stream",
     "text": [
      "Fitting individual 8/10 with genotype {'epochs': 4, 'r': 4, 'no_of_conv_kernels': 128, 'secondary_capsule_vector': 25, 'epsilon': 0.09671883891798792, 'm_plus': 0.977116968133849, 'm_minus': 0.0876523383992028, 'lambda_': 0.3729956987114764, 'alpha': 0.0036438174667762155, 'no_of_primary_capsules': 32, 'primary_capsule_vector': 8, 'no_of_secondary_capsules': 10}\n"
     ]
    },
    {
     "name": "stderr",
     "output_type": "stream",
     "text": [
      "Epoch 1/4: 100%|██████████| 32/32 [00:21<00:00,  1.50it/s, Training loss : 0.0071, Validation loss : 0.0051]\n",
      "Epoch 2/4: 100%|██████████| 32/32 [00:12<00:00,  2.57it/s, Training loss : 0.0041, Validation loss : 0.0039]\n",
      "Epoch 3/4: 100%|██████████| 32/32 [00:12<00:00,  2.55it/s, Training loss : 0.0036, Validation loss : 0.0037]\n",
      "Epoch 4/4: 100%|██████████| 32/32 [00:12<00:00,  2.57it/s, Training loss : 0.0033, Validation loss : 0.0035]\n"
     ]
    },
    {
     "name": "stdout",
     "output_type": "stream",
     "text": [
      "Fitting individual 9/10 with genotype {'epochs': 3, 'r': 4, 'no_of_conv_kernels': 32, 'secondary_capsule_vector': 4, 'epsilon': 0.04985261308072587, 'm_plus': 0.9385333210954295, 'm_minus': 0.09830190871627797, 'lambda_': 0.835965680883002, 'alpha': 0.003228496219395073, 'no_of_primary_capsules': 32, 'primary_capsule_vector': 8, 'no_of_secondary_capsules': 10}\n"
     ]
    },
    {
     "name": "stderr",
     "output_type": "stream",
     "text": [
      "Epoch 1/3: 100%|██████████| 32/32 [00:11<00:00,  2.76it/s, Training loss : 0.0100, Validation loss : 0.0091]\n",
      "Epoch 2/3: 100%|██████████| 32/32 [00:05<00:00,  6.10it/s, Training loss : 0.0065, Validation loss : 0.0047]\n",
      "Epoch 3/3: 100%|██████████| 32/32 [00:05<00:00,  6.18it/s, Training loss : 0.0036, Validation loss : 0.0035]\n"
     ]
    },
    {
     "name": "stdout",
     "output_type": "stream",
     "text": [
      "Fitting individual 10/10 with genotype {'epochs': 4, 'r': 2, 'no_of_conv_kernels': 128, 'secondary_capsule_vector': 18, 'epsilon': 0.08681510589611424, 'm_plus': 0.9518120567436552, 'm_minus': 0.08047898084026484, 'lambda_': 0.7045067806026227, 'alpha': 0.006660149207101162, 'no_of_primary_capsules': 32, 'primary_capsule_vector': 8, 'no_of_secondary_capsules': 10}\n"
     ]
    },
    {
     "name": "stderr",
     "output_type": "stream",
     "text": [
      "Epoch 1/4: 100%|██████████| 32/32 [00:13<00:00,  2.43it/s, Training loss : 0.0099, Validation loss : 0.0081]\n",
      "Epoch 2/4: 100%|██████████| 32/32 [00:09<00:00,  3.43it/s, Training loss : 0.0069, Validation loss : 0.0064]\n",
      "Epoch 3/4: 100%|██████████| 32/32 [00:09<00:00,  3.28it/s, Training loss : 0.0058, Validation loss : 0.0060]\n",
      "Epoch 4/4: 100%|██████████| 32/32 [00:09<00:00,  3.46it/s, Training loss : 0.0055, Validation loss : 0.0058]\n"
     ]
    },
    {
     "name": "stdout",
     "output_type": "stream",
     "text": [
      "Len of pop after selection : 5\n",
      "Fitting individual 1/5 with genotype {'epochs': 4, 'r': 2, 'no_of_conv_kernels': 128, 'secondary_capsule_vector': 18, 'epsilon': 0.08681510589611424, 'm_plus': 0.9518120567436552, 'm_minus': 0.08047898084026484, 'lambda_': 0.7045067806026227, 'alpha': 0.006660149207101162, 'no_of_primary_capsules': 32, 'primary_capsule_vector': 8, 'no_of_secondary_capsules': 10}\n"
     ]
    },
    {
     "name": "stderr",
     "output_type": "stream",
     "text": [
      "Epoch 1/4: 100%|██████████| 32/32 [00:14<00:00,  2.22it/s, Training loss : 0.0116, Validation loss : 0.0116]\n",
      "Epoch 2/4: 100%|██████████| 32/32 [00:08<00:00,  3.76it/s, Training loss : 0.0116, Validation loss : 0.0116]\n",
      "Epoch 3/4: 100%|██████████| 32/32 [00:09<00:00,  3.55it/s, Training loss : 0.0116, Validation loss : 0.0116]\n",
      "Epoch 4/4: 100%|██████████| 32/32 [00:09<00:00,  3.55it/s, Training loss : 0.0116, Validation loss : 0.0116]\n"
     ]
    },
    {
     "name": "stdout",
     "output_type": "stream",
     "text": [
      "Fitting individual 2/5 with genotype {'epochs': 3, 'r': 2, 'no_of_conv_kernels': 32, 'secondary_capsule_vector': 33, 'epsilon': 0.05883188577524213, 'm_plus': 0.9179066729109523, 'm_minus': 0.16482065292249104, 'lambda_': 0.7129180892496013, 'alpha': 0.0056094217181342, 'no_of_primary_capsules': 32, 'primary_capsule_vector': 8, 'no_of_secondary_capsules': 10}\n"
     ]
    },
    {
     "name": "stderr",
     "output_type": "stream",
     "text": [
      "Epoch 1/3: 100%|██████████| 32/32 [00:12<00:00,  2.65it/s, Training loss : 0.0044, Validation loss : 0.0030]\n",
      "Epoch 2/3: 100%|██████████| 32/32 [00:07<00:00,  4.39it/s, Training loss : 0.0023, Validation loss : 0.0021]\n",
      "Epoch 3/3: 100%|██████████| 32/32 [00:07<00:00,  4.44it/s, Training loss : 0.0017, Validation loss : 0.0018]\n"
     ]
    },
    {
     "name": "stdout",
     "output_type": "stream",
     "text": [
      "Fitting individual 3/5 with genotype {'epochs': 4, 'r': 4, 'no_of_conv_kernels': 32, 'secondary_capsule_vector': 4, 'epsilon': 0.04985261308072587, 'm_plus': 0.9385333210954295, 'm_minus': 0.09830190871627797, 'lambda_': 0.835965680883002, 'alpha': 0.003228496219395073, 'no_of_primary_capsules': 32, 'primary_capsule_vector': 8, 'no_of_secondary_capsules': 10}\n"
     ]
    },
    {
     "name": "stderr",
     "output_type": "stream",
     "text": [
      "Epoch 1/4: 100%|██████████| 32/32 [00:11<00:00,  2.77it/s, Training loss : 0.0072, Validation loss : 0.0055]\n",
      "Epoch 2/4: 100%|██████████| 32/32 [00:05<00:00,  6.10it/s, Training loss : 0.0044, Validation loss : 0.0043]\n",
      "Epoch 3/4: 100%|██████████| 32/32 [00:05<00:00,  6.27it/s, Training loss : 0.0035, Validation loss : 0.0037]\n",
      "Epoch 4/4: 100%|██████████| 32/32 [00:05<00:00,  6.14it/s, Training loss : 0.0031, Validation loss : 0.0035]\n"
     ]
    },
    {
     "name": "stdout",
     "output_type": "stream",
     "text": [
      "Fitting individual 4/5 with genotype {'epochs': 3, 'r': 4, 'no_of_conv_kernels': 128, 'secondary_capsule_vector': 25, 'epsilon': 0.09671883891798792, 'm_plus': 0.977116968133849, 'm_minus': 0.0876523383992028, 'lambda_': 0.3729956987114764, 'alpha': 0.0036438174667762155, 'no_of_primary_capsules': 32, 'primary_capsule_vector': 8, 'no_of_secondary_capsules': 10}\n"
     ]
    },
    {
     "name": "stderr",
     "output_type": "stream",
     "text": [
      "Epoch 1/3: 100%|██████████| 32/32 [00:21<00:00,  1.49it/s, Training loss : 0.0073, Validation loss : 0.0053]\n",
      "Epoch 2/3: 100%|██████████| 32/32 [00:13<00:00,  2.41it/s, Training loss : 0.0043, Validation loss : 0.0041]\n",
      "Epoch 3/3: 100%|██████████| 32/32 [00:12<00:00,  2.50it/s, Training loss : 0.0036, Validation loss : 0.0037]\n"
     ]
    },
    {
     "name": "stdout",
     "output_type": "stream",
     "text": [
      "Fitting individual 5/5 with genotype {'epochs': 3, 'r': 4, 'no_of_conv_kernels': 128, 'secondary_capsule_vector': 3, 'epsilon': 0.07932211205558576, 'm_plus': 0.9320698961695272, 'm_minus': 0.10369420144016661, 'lambda_': 0.14838477741817638, 'alpha': 0.009454592609231737, 'no_of_primary_capsules': 32, 'primary_capsule_vector': 8, 'no_of_secondary_capsules': 10}\n"
     ]
    },
    {
     "name": "stderr",
     "output_type": "stream",
     "text": [
      "Epoch 1/3: 100%|██████████| 32/32 [00:14<00:00,  2.18it/s, Training loss : 0.0042, Validation loss : 0.0021]\n",
      "Epoch 2/3: 100%|██████████| 32/32 [00:08<00:00,  3.92it/s, Training loss : 0.0016, Validation loss : 0.0015]\n",
      "Epoch 3/3: 100%|██████████| 32/32 [00:08<00:00,  3.78it/s, Training loss : 0.0012, Validation loss : 0.0013]\n"
     ]
    },
    {
     "name": "stdout",
     "output_type": "stream",
     "text": [
      "Saving GA metrics under nas_mnist_1/generations_metrics.png\n",
      "Optimal solution(s):\n",
      "[[4.00000000e+00 2.00000000e+00 1.28000000e+02 1.80000000e+01\n",
      "  8.68151059e-02 9.51812057e-01 8.04789808e-02 7.04506781e-01\n",
      "  6.66014921e-03]\n",
      " [3.00000000e+00 2.00000000e+00 3.20000000e+01 3.30000000e+01\n",
      "  5.88318858e-02 9.17906673e-01 1.64820653e-01 7.12918089e-01\n",
      "  5.60942172e-03]\n",
      " [3.00000000e+00 4.00000000e+00 1.28000000e+02 2.50000000e+01\n",
      "  9.67188389e-02 9.77116968e-01 8.76523384e-02 3.72995699e-01\n",
      "  3.64381747e-03]]\n",
      "______________\n",
      "Fitness values:\n",
      "  Inference    Accuracy\n",
      "[[0.01035786 0.08      ]\n",
      " [0.01062337 0.948     ]\n",
      " [0.02070112 0.958     ]]\n",
      "=== GA done : 2023-07-21 12:32:49.446181 ===\n",
      "Saving GA solutions under nas_mnist_1/solutions_metrics.png\n"
     ]
    },
    {
     "data": {
      "image/png": "[encoded data removed]",
      "text/plain": [
       "<Figure size 640x480 with 1 Axes>"
      ]
     },
     "metadata": {},
     "output_type": "display_data"
    },
    {
     "data": {
      "image/png": "[encoded data removed]",
      "text/plain": [
       "<Figure size 640x480 with 1 Axes>"
      ]
     },
     "metadata": {},
     "output_type": "display_data"
    }
   ],
   "source": [
    "(X_train, y_train), (X_test , y_test) = load_mnist(size=(2000, 500))\n",
    "\n",
    "params = {\n",
    "    \"name\": 'nas_mnist_1',\n",
    "    'n_gen': 2,\n",
    "    'pop_size': 5,\n",
    "    'rate_crossover': 0.7,\n",
    "    'rate_mutation': 0.1,\n",
    "    'rate_local_search': 0.5,\n",
    "    'step_size': 0.1,\n",
    "    'train_data': (X_train, y_train),\n",
    "    'test_data': (X_test, y_test)\n",
    "}\n",
    "\n",
    "nas = Nsga_II(**params)\n",
    "\n",
    "if nas.valid:\n",
    "    nas.optimise()"
   ]
  }
 ],
 "metadata": {
  "kernelspec": {
   "display_name": "capsnet",
   "language": "python",
   "name": "python3"
  },
  "language_info": {
   "codemirror_mode": {
    "name": "ipython",
    "version": 3
   },
   "file_extension": ".py",
   "mimetype": "text/x-python",
   "name": "python",
   "nbconvert_exporter": "python",
   "pygments_lexer": "ipython3",
   "version": "3.10.11"
  },
  "orig_nbformat": 4
 },
 "nbformat": 4,
 "nbformat_minor": 2
}

{
 "cells": [
  {
   "attachments": {},
   "cell_type": "markdown",
   "metadata": {},
   "source": [
    "# NAS on CapsNet on MNIST dataset"
   ]
  },
  {
   "attachments": {},
   "cell_type": "markdown",
   "metadata": {},
   "source": [
    "> Focusing on inference time and accuracy"
   ]
  },
  {
   "cell_type": "code",
   "execution_count": 1,
   "metadata": {},
   "outputs": [],
   "source": [
    "# Setting PATH to import CapsNet class from python file to notebook\n",
    "\n",
    "import os\n",
    "import sys\n",
    "directory_path = os.path.abspath(os.path.join('../src'))\n",
    "if directory_path not in sys.path:\n",
    "    sys.path.append(directory_path)\n",
    "\n",
    "from NsgaII import Nsga_II\n",
    "from utils.load_data import load_mnist"
   ]
  },
  {
   "cell_type": "code",
   "execution_count": 2,
   "metadata": {},
   "outputs": [
    {
     "name": "stdout",
     "output_type": "stream",
     "text": [
      "A ga has been saved under the same name (nas_mnist_1) replace ?\n",
      "=== Generation 1/2\n",
      "Len of pop before manipulations : 5\n",
      "crossover created 4 offspring(s)\n",
      "mutation created 0 offspring(s)\n",
      "local search created 2 offspring(s)\n",
      "Len of pop after manipulations : 11\n",
      "Fitting individual 1/11 with genotype {'epochs': 6, 'r': 3, 'no_of_conv_kernels': 32, 'secondary_capsule_vector': 12, 'epsilon': 0.08047481705544263, 'm_plus': 0.9870796545151758, 'm_minus': 0.05, 'lambda_': 0.434300625635348, 'alpha': 0.0026738767988192086, 'no_of_primary_capsules': 32, 'primary_capsule_vector': 8, 'no_of_secondary_capsules': 10}\n"
     ]
    },
    {
     "name": "stderr",
     "output_type": "stream",
     "text": [
      "Epoch 1/6:   0%|          | 0/16 [00:00<?, ?it/s]2023-07-20 12:23:33.634061: W tensorflow/tsl/platform/profile_utils/cpu_utils.cc:128] Failed to get CPU frequency: 0 Hz\n",
      "Epoch 1/6: 100%|██████████| 16/16 [00:08<00:00,  1.85it/s, Training loss : 0.0094, Validation loss : 0.0076]\n",
      "Epoch 2/6: 100%|██████████| 16/16 [00:03<00:00,  5.07it/s, Training loss : 0.0065, Validation loss : 0.0065]\n",
      "Epoch 3/6: 100%|██████████| 16/16 [00:03<00:00,  5.17it/s, Training loss : 0.0055, Validation loss : 0.0058]\n",
      "Epoch 4/6: 100%|██████████| 16/16 [00:03<00:00,  4.95it/s, Training loss : 0.0049, Validation loss : 0.0054]\n",
      "Epoch 5/6: 100%|██████████| 16/16 [00:03<00:00,  5.23it/s, Training loss : 0.0046, Validation loss : 0.0052]\n",
      "Epoch 6/6: 100%|██████████| 16/16 [00:03<00:00,  4.97it/s, Training loss : 0.0043, Validation loss : 0.0050]\n"
     ]
    },
    {
     "name": "stdout",
     "output_type": "stream",
     "text": [
      "Fitting individual 2/11 with genotype {'epochs': 9, 'r': 2, 'no_of_conv_kernels': 32, 'secondary_capsule_vector': 22, 'epsilon': 0.0931281387690956, 'm_plus': 0.9259358055063321, 'm_minus': 0.1641302142189024, 'lambda_': 0.6073297424718691, 'alpha': 0.009110262286939617, 'no_of_primary_capsules': 32, 'primary_capsule_vector': 8, 'no_of_secondary_capsules': 10}\n"
     ]
    },
    {
     "name": "stderr",
     "output_type": "stream",
     "text": [
      "Epoch 1/9: 100%|██████████| 16/16 [00:06<00:00,  2.34it/s, Training loss : 0.0065, Validation loss : 0.0051]\n",
      "Epoch 2/9: 100%|██████████| 16/16 [00:03<00:00,  4.75it/s, Training loss : 0.0041, Validation loss : 0.0041]\n",
      "Epoch 3/9: 100%|██████████| 16/16 [00:03<00:00,  4.83it/s, Training loss : 0.0033, Validation loss : 0.0035]\n",
      "Epoch 4/9: 100%|██████████| 16/16 [00:03<00:00,  4.60it/s, Training loss : 0.0029, Validation loss : 0.0032]\n",
      "Epoch 5/9: 100%|██████████| 16/16 [00:03<00:00,  4.91it/s, Training loss : 0.0026, Validation loss : 0.0030]\n",
      "Epoch 6/9: 100%|██████████| 16/16 [00:03<00:00,  4.98it/s, Training loss : 0.0024, Validation loss : 0.0029]\n",
      "Epoch 7/9: 100%|██████████| 16/16 [00:03<00:00,  5.08it/s, Training loss : 0.0023, Validation loss : 0.0029]\n",
      "Epoch 8/9: 100%|██████████| 16/16 [00:03<00:00,  5.09it/s, Training loss : 0.0022, Validation loss : 0.0028]\n",
      "Epoch 9/9: 100%|██████████| 16/16 [00:03<00:00,  4.83it/s, Training loss : 0.0021, Validation loss : 0.0028]\n"
     ]
    },
    {
     "name": "stdout",
     "output_type": "stream",
     "text": [
      "Fitting individual 3/11 with genotype {'epochs': 3, 'r': 3, 'no_of_conv_kernels': 64, 'secondary_capsule_vector': 46, 'epsilon': 0.019618297813606737, 'm_plus': 0.933171021260313, 'm_minus': 0.15154887801587716, 'lambda_': 0.6801983460733125, 'alpha': 0.00924949636410134, 'no_of_primary_capsules': 32, 'primary_capsule_vector': 8, 'no_of_secondary_capsules': 10}\n"
     ]
    },
    {
     "name": "stderr",
     "output_type": "stream",
     "text": [
      "Epoch 1/3: 100%|██████████| 16/16 [00:13<00:00,  1.14it/s, Training loss : 0.0090, Validation loss : 0.0067]\n",
      "Epoch 2/3: 100%|██████████| 16/16 [00:07<00:00,  2.05it/s, Training loss : 0.0049, Validation loss : 0.0039]\n",
      "Epoch 3/3: 100%|██████████| 16/16 [00:07<00:00,  2.06it/s, Training loss : 0.0029, Validation loss : 0.0029]\n"
     ]
    },
    {
     "name": "stdout",
     "output_type": "stream",
     "text": [
      "Fitting individual 4/11 with genotype {'epochs': 2, 'r': 2, 'no_of_conv_kernels': 128, 'secondary_capsule_vector': 43, 'epsilon': 0.05750634563309198, 'm_plus': 0.96285880441137, 'm_minus': 0.1578239641397028, 'lambda_': 0.6542710563822087, 'alpha': 0.005106325967447405, 'no_of_primary_capsules': 32, 'primary_capsule_vector': 8, 'no_of_secondary_capsules': 10}\n"
     ]
    },
    {
     "name": "stderr",
     "output_type": "stream",
     "text": [
      "Epoch 1/2: 100%|██████████| 16/16 [00:09<00:00,  1.72it/s, Training loss : 0.0065, Validation loss : 0.0046]\n",
      "Epoch 2/2: 100%|██████████| 16/16 [00:05<00:00,  2.72it/s, Training loss : 0.0033, Validation loss : 0.0032]\n"
     ]
    },
    {
     "name": "stdout",
     "output_type": "stream",
     "text": [
      "Fitting individual 5/11 with genotype {'epochs': 2, 'r': 3, 'no_of_conv_kernels': 32, 'secondary_capsule_vector': 8, 'epsilon': 0.07886221034856644, 'm_plus': 0.9695643182246434, 'm_minus': 0.09920389992898468, 'lambda_': 0.6613532408428239, 'alpha': 0.006220135270336365, 'no_of_primary_capsules': 32, 'primary_capsule_vector': 8, 'no_of_secondary_capsules': 10}\n"
     ]
    },
    {
     "name": "stderr",
     "output_type": "stream",
     "text": [
      "Epoch 1/2: 100%|██████████| 16/16 [00:07<00:00,  2.10it/s, Training loss : 0.0094, Validation loss : 0.0078]\n",
      "Epoch 2/2: 100%|██████████| 16/16 [00:02<00:00,  5.68it/s, Training loss : 0.0066, Validation loss : 0.0065]\n"
     ]
    },
    {
     "name": "stdout",
     "output_type": "stream",
     "text": [
      "WARNING:tensorflow:5 out of the last 5 calls to <function CapsNet.predict_capsule_output at 0x103b09510> triggered tf.function retracing. Tracing is expensive and the excessive number of tracings could be due to (1) creating @tf.function repeatedly in a loop, (2) passing tensors with different shapes, (3) passing Python objects instead of tensors. For (1), please define your @tf.function outside of the loop. For (2), @tf.function has reduce_retracing=True option that can avoid unnecessary retracing. For (3), please refer to https://www.tensorflow.org/guide/function#controlling_retracing and https://www.tensorflow.org/api_docs/python/tf/function for  more details.\n",
      "Fitting individual 6/11 with genotype {'epochs': 9, 'r': 2, 'no_of_conv_kernels': 32, 'secondary_capsule_vector': 22, 'epsilon': 0.0931281387690956, 'm_plus': 0.9259358055063321, 'm_minus': 0.1641302142189024, 'lambda_': 0.6801983460733125, 'alpha': 0.00924949636410134, 'no_of_primary_capsules': 32, 'primary_capsule_vector': 8, 'no_of_secondary_capsules': 10}\n"
     ]
    },
    {
     "name": "stderr",
     "output_type": "stream",
     "text": [
      "Epoch 1/9: 100%|██████████| 16/16 [00:06<00:00,  2.53it/s, Training loss : 0.0067, Validation loss : 0.0054]\n",
      "Epoch 2/9: 100%|██████████| 16/16 [00:03<00:00,  5.17it/s, Training loss : 0.0044, Validation loss : 0.0044]\n",
      "Epoch 3/9: 100%|██████████| 16/16 [00:03<00:00,  5.07it/s, Training loss : 0.0035, Validation loss : 0.0037]\n",
      "Epoch 4/9: 100%|██████████| 16/16 [00:03<00:00,  5.16it/s, Training loss : 0.0030, Validation loss : 0.0034]\n",
      "Epoch 5/9: 100%|██████████| 16/16 [00:03<00:00,  5.19it/s, Training loss : 0.0027, Validation loss : 0.0033]\n",
      "Epoch 6/9: 100%|██████████| 16/16 [00:03<00:00,  5.15it/s, Training loss : 0.0026, Validation loss : 0.0032]\n",
      "Epoch 7/9: 100%|██████████| 16/16 [00:03<00:00,  5.14it/s, Training loss : 0.0025, Validation loss : 0.0031]\n",
      "Epoch 8/9: 100%|██████████| 16/16 [00:03<00:00,  5.11it/s, Training loss : 0.0024, Validation loss : 0.0030]\n",
      "Epoch 9/9: 100%|██████████| 16/16 [00:03<00:00,  5.00it/s, Training loss : 0.0023, Validation loss : 0.0030]\n"
     ]
    },
    {
     "name": "stdout",
     "output_type": "stream",
     "text": [
      "WARNING:tensorflow:6 out of the last 6 calls to <function CapsNet.predict_capsule_output at 0x103b09510> triggered tf.function retracing. Tracing is expensive and the excessive number of tracings could be due to (1) creating @tf.function repeatedly in a loop, (2) passing tensors with different shapes, (3) passing Python objects instead of tensors. For (1), please define your @tf.function outside of the loop. For (2), @tf.function has reduce_retracing=True option that can avoid unnecessary retracing. For (3), please refer to https://www.tensorflow.org/guide/function#controlling_retracing and https://www.tensorflow.org/api_docs/python/tf/function for  more details.\n",
      "Fitting individual 7/11 with genotype {'epochs': 3, 'r': 3, 'no_of_conv_kernels': 64, 'secondary_capsule_vector': 46, 'epsilon': 0.019618297813606737, 'm_plus': 0.933171021260313, 'm_minus': 0.15154887801587716, 'lambda_': 0.6073297424718691, 'alpha': 0.009110262286939617, 'no_of_primary_capsules': 32, 'primary_capsule_vector': 8, 'no_of_secondary_capsules': 10}\n"
     ]
    },
    {
     "name": "stderr",
     "output_type": "stream",
     "text": [
      "Epoch 1/3: 100%|██████████| 16/16 [00:12<00:00,  1.26it/s, Training loss : 0.0082, Validation loss : 0.0060]\n",
      "Epoch 2/3: 100%|██████████| 16/16 [00:07<00:00,  2.10it/s, Training loss : 0.0041, Validation loss : 0.0034]\n",
      "Epoch 3/3: 100%|██████████| 16/16 [00:07<00:00,  2.08it/s, Training loss : 0.0024, Validation loss : 0.0025]\n"
     ]
    },
    {
     "name": "stdout",
     "output_type": "stream",
     "text": [
      "Fitting individual 8/11 with genotype {'epochs': 2, 'r': 3, 'no_of_conv_kernels': 32, 'secondary_capsule_vector': 8, 'epsilon': 0.07886221034856644, 'm_plus': 0.9259358055063321, 'm_minus': 0.1641302142189024, 'lambda_': 0.6073297424718691, 'alpha': 0.009110262286939617, 'no_of_primary_capsules': 32, 'primary_capsule_vector': 8, 'no_of_secondary_capsules': 10}\n"
     ]
    },
    {
     "name": "stderr",
     "output_type": "stream",
     "text": [
      "Epoch 1/2: 100%|██████████| 16/16 [00:07<00:00,  2.07it/s, Training loss : 0.0071, Validation loss : 0.0056]\n",
      "Epoch 2/2: 100%|██████████| 16/16 [00:02<00:00,  5.57it/s, Training loss : 0.0041, Validation loss : 0.0039]\n"
     ]
    },
    {
     "name": "stdout",
     "output_type": "stream",
     "text": [
      "Fitting individual 9/11 with genotype {'epochs': 9, 'r': 2, 'no_of_conv_kernels': 32, 'secondary_capsule_vector': 22, 'epsilon': 0.0931281387690956, 'm_plus': 0.9695643182246434, 'm_minus': 0.09920389992898468, 'lambda_': 0.6613532408428239, 'alpha': 0.006220135270336365, 'no_of_primary_capsules': 32, 'primary_capsule_vector': 8, 'no_of_secondary_capsules': 10}\n"
     ]
    },
    {
     "name": "stderr",
     "output_type": "stream",
     "text": [
      "Epoch 1/9: 100%|██████████| 16/16 [00:06<00:00,  2.49it/s, Training loss : 0.0094, Validation loss : 0.0081]\n",
      "Epoch 2/9: 100%|██████████| 16/16 [00:03<00:00,  5.08it/s, Training loss : 0.0069, Validation loss : 0.0069]\n",
      "Epoch 3/9: 100%|██████████| 16/16 [00:03<00:00,  5.10it/s, Training loss : 0.0059, Validation loss : 0.0062]\n",
      "Epoch 4/9: 100%|██████████| 16/16 [00:03<00:00,  5.08it/s, Training loss : 0.0054, Validation loss : 0.0059]\n",
      "Epoch 5/9: 100%|██████████| 16/16 [00:03<00:00,  5.01it/s, Training loss : 0.0051, Validation loss : 0.0056]\n",
      "Epoch 6/9: 100%|██████████| 16/16 [00:03<00:00,  5.12it/s, Training loss : 0.0048, Validation loss : 0.0055]\n",
      "Epoch 7/9: 100%|██████████| 16/16 [00:03<00:00,  5.09it/s, Training loss : 0.0047, Validation loss : 0.0054]\n",
      "Epoch 8/9: 100%|██████████| 16/16 [00:03<00:00,  5.07it/s, Training loss : 0.0046, Validation loss : 0.0053]\n",
      "Epoch 9/9: 100%|██████████| 16/16 [00:03<00:00,  5.07it/s, Training loss : 0.0045, Validation loss : 0.0053]\n"
     ]
    },
    {
     "name": "stdout",
     "output_type": "stream",
     "text": [
      "Fitting individual 10/11 with genotype {'epochs': 6, 'r': 3, 'no_of_conv_kernels': 32, 'secondary_capsule_vector': 12, 'epsilon': 0.08047481705544263, 'm_plus': 0.9870796545151758, 'm_minus': 0.05, 'lambda_': 0.434300625635348, 'alpha': 0.0026738767988192086, 'no_of_primary_capsules': 32, 'primary_capsule_vector': 8, 'no_of_secondary_capsules': 10}\n"
     ]
    },
    {
     "name": "stderr",
     "output_type": "stream",
     "text": [
      "Epoch 1/6: 100%|██████████| 16/16 [00:07<00:00,  2.01it/s, Training loss : 0.0099, Validation loss : 0.0079]\n",
      "Epoch 2/6: 100%|██████████| 16/16 [00:03<00:00,  5.13it/s, Training loss : 0.0068, Validation loss : 0.0068]\n",
      "Epoch 3/6: 100%|██████████| 16/16 [00:03<00:00,  4.98it/s, Training loss : 0.0058, Validation loss : 0.0060]\n",
      "Epoch 4/6: 100%|██████████| 16/16 [00:03<00:00,  5.10it/s, Training loss : 0.0051, Validation loss : 0.0056]\n",
      "Epoch 5/6: 100%|██████████| 16/16 [00:03<00:00,  5.00it/s, Training loss : 0.0047, Validation loss : 0.0053]\n",
      "Epoch 6/6: 100%|██████████| 16/16 [00:03<00:00,  5.01it/s, Training loss : 0.0044, Validation loss : 0.0051]\n"
     ]
    },
    {
     "name": "stdout",
     "output_type": "stream",
     "text": [
      "Fitting individual 11/11 with genotype {'epochs': 2, 'r': 2, 'no_of_conv_kernels': 128, 'secondary_capsule_vector': 43, 'epsilon': 0.05750634563309198, 'm_plus': 0.96285880441137, 'm_minus': 0.1578239641397028, 'lambda_': 0.6542710563822087, 'alpha': 0.005106325967447405, 'no_of_primary_capsules': 32, 'primary_capsule_vector': 8, 'no_of_secondary_capsules': 10}\n"
     ]
    },
    {
     "name": "stderr",
     "output_type": "stream",
     "text": [
      "Epoch 1/2: 100%|██████████| 16/16 [00:09<00:00,  1.73it/s, Training loss : 0.0068, Validation loss : 0.0047]\n",
      "Epoch 2/2: 100%|██████████| 16/16 [00:06<00:00,  2.64it/s, Training loss : 0.0035, Validation loss : 0.0033]\n"
     ]
    },
    {
     "name": "stdout",
     "output_type": "stream",
     "text": [
      "Len of pop after selection : 5\n",
      "=== Generation 2/2\n",
      "Len of pop before manipulations : 5\n",
      "crossover created 2 offspring(s)\n",
      "mutation created 0 offspring(s)\n",
      "local search created 0 offspring(s)\n",
      "Len of pop after manipulations : 7\n",
      "Fitting individual 1/7 with genotype {'epochs': 9, 'r': 2, 'no_of_conv_kernels': 32, 'secondary_capsule_vector': 22, 'epsilon': 0.0931281387690956, 'm_plus': 0.9259358055063321, 'm_minus': 0.1641302142189024, 'lambda_': 0.6073297424718691, 'alpha': 0.009110262286939617, 'no_of_primary_capsules': 32, 'primary_capsule_vector': 8, 'no_of_secondary_capsules': 10}\n"
     ]
    },
    {
     "name": "stderr",
     "output_type": "stream",
     "text": [
      "Epoch 1/9: 100%|██████████| 16/16 [00:06<00:00,  2.40it/s, Training loss : 0.0064, Validation loss : 0.0052]\n",
      "Epoch 2/9: 100%|██████████| 16/16 [00:03<00:00,  4.75it/s, Training loss : 0.0042, Validation loss : 0.0042]\n",
      "Epoch 3/9: 100%|██████████| 16/16 [00:03<00:00,  4.96it/s, Training loss : 0.0034, Validation loss : 0.0036]\n",
      "Epoch 4/9: 100%|██████████| 16/16 [00:03<00:00,  4.96it/s, Training loss : 0.0029, Validation loss : 0.0033]\n",
      "Epoch 5/9: 100%|██████████| 16/16 [00:03<00:00,  4.91it/s, Training loss : 0.0026, Validation loss : 0.0031]\n",
      "Epoch 6/9: 100%|██████████| 16/16 [00:03<00:00,  5.06it/s, Training loss : 0.0024, Validation loss : 0.0029]\n",
      "Epoch 7/9: 100%|██████████| 16/16 [00:03<00:00,  4.91it/s, Training loss : 0.0023, Validation loss : 0.0028]\n",
      "Epoch 8/9: 100%|██████████| 16/16 [00:03<00:00,  5.02it/s, Training loss : 0.0022, Validation loss : 0.0028]\n",
      "Epoch 9/9: 100%|██████████| 16/16 [00:03<00:00,  5.03it/s, Training loss : 0.0021, Validation loss : 0.0028]\n"
     ]
    },
    {
     "name": "stdout",
     "output_type": "stream",
     "text": [
      "Fitting individual 2/7 with genotype {'epochs': 6, 'r': 3, 'no_of_conv_kernels': 32, 'secondary_capsule_vector': 12, 'epsilon': 0.08047481705544263, 'm_plus': 0.9870796545151758, 'm_minus': 0.05, 'lambda_': 0.434300625635348, 'alpha': 0.0026738767988192086, 'no_of_primary_capsules': 32, 'primary_capsule_vector': 8, 'no_of_secondary_capsules': 10}\n"
     ]
    },
    {
     "name": "stderr",
     "output_type": "stream",
     "text": [
      "Epoch 1/6: 100%|██████████| 16/16 [00:08<00:00,  1.98it/s, Training loss : 0.0096, Validation loss : 0.0078]\n",
      "Epoch 2/6: 100%|██████████| 16/16 [00:03<00:00,  4.83it/s, Training loss : 0.0066, Validation loss : 0.0066]\n",
      "Epoch 3/6: 100%|██████████| 16/16 [00:03<00:00,  4.84it/s, Training loss : 0.0056, Validation loss : 0.0058]\n",
      "Epoch 4/6: 100%|██████████| 16/16 [00:03<00:00,  5.07it/s, Training loss : 0.0050, Validation loss : 0.0055]\n",
      "Epoch 5/6: 100%|██████████| 16/16 [00:03<00:00,  4.95it/s, Training loss : 0.0046, Validation loss : 0.0052]\n",
      "Epoch 6/6: 100%|██████████| 16/16 [00:03<00:00,  5.07it/s, Training loss : 0.0044, Validation loss : 0.0050]\n"
     ]
    },
    {
     "name": "stdout",
     "output_type": "stream",
     "text": [
      "Fitting individual 3/7 with genotype {'epochs': 2, 'r': 2, 'no_of_conv_kernels': 128, 'secondary_capsule_vector': 43, 'epsilon': 0.05750634563309198, 'm_plus': 0.96285880441137, 'm_minus': 0.1578239641397028, 'lambda_': 0.6542710563822087, 'alpha': 0.005106325967447405, 'no_of_primary_capsules': 32, 'primary_capsule_vector': 8, 'no_of_secondary_capsules': 10}\n"
     ]
    },
    {
     "name": "stderr",
     "output_type": "stream",
     "text": [
      "Epoch 1/2: 100%|██████████| 16/16 [00:09<00:00,  1.71it/s, Training loss : 0.0061, Validation loss : 0.0043]\n",
      "Epoch 2/2: 100%|██████████| 16/16 [00:05<00:00,  2.69it/s, Training loss : 0.0031, Validation loss : 0.0031]\n"
     ]
    },
    {
     "name": "stdout",
     "output_type": "stream",
     "text": [
      "Fitting individual 4/7 with genotype {'epochs': 3, 'r': 3, 'no_of_conv_kernels': 64, 'secondary_capsule_vector': 46, 'epsilon': 0.019618297813606737, 'm_plus': 0.933171021260313, 'm_minus': 0.15154887801587716, 'lambda_': 0.6801983460733125, 'alpha': 0.00924949636410134, 'no_of_primary_capsules': 32, 'primary_capsule_vector': 8, 'no_of_secondary_capsules': 10}\n"
     ]
    },
    {
     "name": "stderr",
     "output_type": "stream",
     "text": [
      "Epoch 1/3: 100%|██████████| 16/16 [00:12<00:00,  1.31it/s, Training loss : 0.0086, Validation loss : 0.0066]\n",
      "Epoch 2/3: 100%|██████████| 16/16 [00:07<00:00,  2.07it/s, Training loss : 0.0047, Validation loss : 0.0038]\n",
      "Epoch 3/3: 100%|██████████| 16/16 [00:07<00:00,  2.08it/s, Training loss : 0.0028, Validation loss : 0.0028]\n"
     ]
    },
    {
     "name": "stdout",
     "output_type": "stream",
     "text": [
      "Fitting individual 5/7 with genotype {'epochs': 2, 'r': 3, 'no_of_conv_kernels': 32, 'secondary_capsule_vector': 8, 'epsilon': 0.07886221034856644, 'm_plus': 0.9695643182246434, 'm_minus': 0.09920389992898468, 'lambda_': 0.6613532408428239, 'alpha': 0.006220135270336365, 'no_of_primary_capsules': 32, 'primary_capsule_vector': 8, 'no_of_secondary_capsules': 10}\n"
     ]
    },
    {
     "name": "stderr",
     "output_type": "stream",
     "text": [
      "Epoch 1/2: 100%|██████████| 16/16 [00:07<00:00,  2.07it/s, Training loss : 0.0094, Validation loss : 0.0078]\n",
      "Epoch 2/2: 100%|██████████| 16/16 [00:03<00:00,  5.30it/s, Training loss : 0.0065, Validation loss : 0.0065]\n"
     ]
    },
    {
     "name": "stdout",
     "output_type": "stream",
     "text": [
      "Fitting individual 6/7 with genotype {'epochs': 3, 'r': 3, 'no_of_conv_kernels': 64, 'secondary_capsule_vector': 46, 'epsilon': 0.019618297813606737, 'm_plus': 0.933171021260313, 'm_minus': 0.05, 'lambda_': 0.434300625635348, 'alpha': 0.0026738767988192086, 'no_of_primary_capsules': 32, 'primary_capsule_vector': 8, 'no_of_secondary_capsules': 10}\n"
     ]
    },
    {
     "name": "stderr",
     "output_type": "stream",
     "text": [
      "Epoch 1/3: 100%|██████████| 16/16 [00:12<00:00,  1.27it/s, Training loss : 0.0074, Validation loss : 0.0049]\n",
      "Epoch 2/3: 100%|██████████| 16/16 [00:07<00:00,  2.09it/s, Training loss : 0.0037, Validation loss : 0.0036]\n",
      "Epoch 3/3: 100%|██████████| 16/16 [00:07<00:00,  2.06it/s, Training loss : 0.0026, Validation loss : 0.0027]\n"
     ]
    },
    {
     "name": "stdout",
     "output_type": "stream",
     "text": [
      "Fitting individual 7/7 with genotype {'epochs': 6, 'r': 3, 'no_of_conv_kernels': 32, 'secondary_capsule_vector': 12, 'epsilon': 0.08047481705544263, 'm_plus': 0.9870796545151758, 'm_minus': 0.15154887801587716, 'lambda_': 0.6801983460733125, 'alpha': 0.00924949636410134, 'no_of_primary_capsules': 32, 'primary_capsule_vector': 8, 'no_of_secondary_capsules': 10}\n"
     ]
    },
    {
     "name": "stderr",
     "output_type": "stream",
     "text": [
      "Epoch 1/6: 100%|██████████| 16/16 [00:08<00:00,  1.98it/s, Training loss : 0.0085, Validation loss : 0.0068]\n",
      "Epoch 2/6: 100%|██████████| 16/16 [00:03<00:00,  5.13it/s, Training loss : 0.0053, Validation loss : 0.0052]\n",
      "Epoch 3/6: 100%|██████████| 16/16 [00:03<00:00,  5.04it/s, Training loss : 0.0042, Validation loss : 0.0044]\n",
      "Epoch 4/6: 100%|██████████| 16/16 [00:03<00:00,  5.15it/s, Training loss : 0.0035, Validation loss : 0.0038]\n",
      "Epoch 5/6: 100%|██████████| 16/16 [00:03<00:00,  4.88it/s, Training loss : 0.0031, Validation loss : 0.0035]\n",
      "Epoch 6/6: 100%|██████████| 16/16 [00:03<00:00,  5.07it/s, Training loss : 0.0028, Validation loss : 0.0034]\n"
     ]
    },
    {
     "name": "stdout",
     "output_type": "stream",
     "text": [
      "Len of pop after selection : 5\n",
      "Fitting individual 1/5 with genotype {'epochs': 9, 'r': 2, 'no_of_conv_kernels': 32, 'secondary_capsule_vector': 22, 'epsilon': 0.0931281387690956, 'm_plus': 0.9259358055063321, 'm_minus': 0.1641302142189024, 'lambda_': 0.6073297424718691, 'alpha': 0.009110262286939617, 'no_of_primary_capsules': 32, 'primary_capsule_vector': 8, 'no_of_secondary_capsules': 10}\n"
     ]
    },
    {
     "name": "stderr",
     "output_type": "stream",
     "text": [
      "Epoch 1/9: 100%|██████████| 16/16 [00:06<00:00,  2.33it/s, Training loss : 0.0062, Validation loss : 0.0049]\n",
      "Epoch 2/9: 100%|██████████| 16/16 [00:03<00:00,  5.04it/s, Training loss : 0.0040, Validation loss : 0.0040]\n",
      "Epoch 3/9: 100%|██████████| 16/16 [00:03<00:00,  4.96it/s, Training loss : 0.0032, Validation loss : 0.0035]\n",
      "Epoch 4/9: 100%|██████████| 16/16 [00:03<00:00,  5.22it/s, Training loss : 0.0028, Validation loss : 0.0031]\n",
      "Epoch 5/9: 100%|██████████| 16/16 [00:03<00:00,  5.17it/s, Training loss : 0.0025, Validation loss : 0.0030]\n",
      "Epoch 6/9: 100%|██████████| 16/16 [00:03<00:00,  5.13it/s, Training loss : 0.0024, Validation loss : 0.0029]\n",
      "Epoch 7/9: 100%|██████████| 16/16 [00:03<00:00,  5.19it/s, Training loss : 0.0023, Validation loss : 0.0028]\n",
      "Epoch 8/9: 100%|██████████| 16/16 [00:03<00:00,  5.20it/s]"
     ]
    },
    {
     "name": "stdout",
     "output_type": "stream",
     "text": [
      "Validation loss is not decreasing anymore, risk of overfitting the model after 8 epochs. The training will be stopped. This behavior can be modified by setting the early_stop property of the model to False\n"
     ]
    },
    {
     "name": "stderr",
     "output_type": "stream",
     "text": [
      "\n"
     ]
    },
    {
     "name": "stdout",
     "output_type": "stream",
     "text": [
      "Fitting individual 2/5 with genotype {'epochs': 6, 'r': 3, 'no_of_conv_kernels': 32, 'secondary_capsule_vector': 12, 'epsilon': 0.08047481705544263, 'm_plus': 0.9870796545151758, 'm_minus': 0.05, 'lambda_': 0.434300625635348, 'alpha': 0.0026738767988192086, 'no_of_primary_capsules': 32, 'primary_capsule_vector': 8, 'no_of_secondary_capsules': 10}\n"
     ]
    },
    {
     "name": "stderr",
     "output_type": "stream",
     "text": [
      "Epoch 1/6: 100%|██████████| 16/16 [00:07<00:00,  2.04it/s, Training loss : 0.0094, Validation loss : 0.0076]\n",
      "Epoch 2/6: 100%|██████████| 16/16 [00:03<00:00,  5.13it/s, Training loss : 0.0065, Validation loss : 0.0065]\n",
      "Epoch 3/6: 100%|██████████| 16/16 [00:03<00:00,  5.08it/s, Training loss : 0.0056, Validation loss : 0.0059]\n",
      "Epoch 4/6: 100%|██████████| 16/16 [00:03<00:00,  5.08it/s, Training loss : 0.0050, Validation loss : 0.0055]\n",
      "Epoch 5/6: 100%|██████████| 16/16 [00:03<00:00,  4.92it/s, Training loss : 0.0047, Validation loss : 0.0052]\n",
      "Epoch 6/6: 100%|██████████| 16/16 [00:03<00:00,  5.09it/s, Training loss : 0.0044, Validation loss : 0.0050]\n"
     ]
    },
    {
     "name": "stdout",
     "output_type": "stream",
     "text": [
      "Fitting individual 3/5 with genotype {'epochs': 2, 'r': 2, 'no_of_conv_kernels': 128, 'secondary_capsule_vector': 43, 'epsilon': 0.05750634563309198, 'm_plus': 0.96285880441137, 'm_minus': 0.1578239641397028, 'lambda_': 0.6542710563822087, 'alpha': 0.005106325967447405, 'no_of_primary_capsules': 32, 'primary_capsule_vector': 8, 'no_of_secondary_capsules': 10}\n"
     ]
    },
    {
     "name": "stderr",
     "output_type": "stream",
     "text": [
      "Epoch 1/2: 100%|██████████| 16/16 [00:09<00:00,  1.71it/s, Training loss : 0.0067, Validation loss : 0.0046]\n",
      "Epoch 2/2: 100%|██████████| 16/16 [00:05<00:00,  2.67it/s, Training loss : 0.0034, Validation loss : 0.0033]\n"
     ]
    },
    {
     "name": "stdout",
     "output_type": "stream",
     "text": [
      "Fitting individual 4/5 with genotype {'epochs': 3, 'r': 3, 'no_of_conv_kernels': 64, 'secondary_capsule_vector': 46, 'epsilon': 0.019618297813606737, 'm_plus': 0.933171021260313, 'm_minus': 0.15154887801587716, 'lambda_': 0.6801983460733125, 'alpha': 0.00924949636410134, 'no_of_primary_capsules': 32, 'primary_capsule_vector': 8, 'no_of_secondary_capsules': 10}\n"
     ]
    },
    {
     "name": "stderr",
     "output_type": "stream",
     "text": [
      "Epoch 1/3: 100%|██████████| 16/16 [00:12<00:00,  1.28it/s, Training loss : 0.0087, Validation loss : 0.0063]\n",
      "Epoch 2/3: 100%|██████████| 16/16 [00:07<00:00,  2.07it/s, Training loss : 0.0043, Validation loss : 0.0036]\n",
      "Epoch 3/3: 100%|██████████| 16/16 [00:07<00:00,  2.09it/s, Training loss : 0.0026, Validation loss : 0.0027]\n"
     ]
    },
    {
     "name": "stdout",
     "output_type": "stream",
     "text": [
      "Fitting individual 5/5 with genotype {'epochs': 2, 'r': 3, 'no_of_conv_kernels': 32, 'secondary_capsule_vector': 8, 'epsilon': 0.07886221034856644, 'm_plus': 0.9695643182246434, 'm_minus': 0.09920389992898468, 'lambda_': 0.6613532408428239, 'alpha': 0.006220135270336365, 'no_of_primary_capsules': 32, 'primary_capsule_vector': 8, 'no_of_secondary_capsules': 10}\n"
     ]
    },
    {
     "name": "stderr",
     "output_type": "stream",
     "text": [
      "Epoch 1/2: 100%|██████████| 16/16 [00:07<00:00,  2.09it/s, Training loss : 0.0097, Validation loss : 0.0083]\n",
      "Epoch 2/2: 100%|██████████| 16/16 [00:02<00:00,  5.47it/s, Training loss : 0.0066, Validation loss : 0.0064]\n"
     ]
    },
    {
     "name": "stdout",
     "output_type": "stream",
     "text": [
      "Saving GA metrics under nas_mnist_1/generations_metrics.png\n",
      "Optimal solution(s):\n",
      "[[8.00000000e+00 2.00000000e+00 3.20000000e+01 2.20000000e+01\n",
      "  9.31281388e-02 9.25935806e-01 1.64130214e-01 6.07329742e-01\n",
      "  9.11026229e-03]]\n",
      "______________\n",
      "Fitness values:\n",
      "  Inference    Accuracy\n",
      "[[0.01017984 0.953125  ]]\n",
      "=== GA done : 2023-07-20 12:34:53.393683 ===\n",
      "Saving GA solutions under nas_mnist_1/solutions_metrics.png\n"
     ]
    },
    {
     "data": {
      "image/png": "[encoded data removed]",
      "text/plain": [
       "<Figure size 640x480 with 1 Axes>"
      ]
     },
     "metadata": {},
     "output_type": "display_data"
    },
    {
     "data": {
      "image/png": "[encoded data removed]",
      "text/plain": [
       "<Figure size 640x480 with 1 Axes>"
      ]
     },
     "metadata": {},
     "output_type": "display_data"
    }
   ],
   "source": [
    "(X_train, y_train), (X_test , y_test) = load_mnist(size=(1024, 512))\n",
    "\n",
    "params = {\n",
    "    \"name\": 'nas_mnist_1',\n",
    "    'n_gen': 2,\n",
    "    'pop_size': 5,\n",
    "    'rate_crossover': 0.7,\n",
    "    'rate_mutation': 0.1,\n",
    "    'rate_local_search': 0.5,\n",
    "    'step_size': 0.1,\n",
    "    'train_data': (X_train, y_train),\n",
    "    'test_data': (X_test, y_test)\n",
    "}\n",
    "\n",
    "nas = Nsga_II(**params)\n",
    "\n",
    "if nas.valid:\n",
    "    nas.optimise()"
   ]
  }
 ],
 "metadata": {
  "kernelspec": {
   "display_name": "capsnet",
   "language": "python",
   "name": "python3"
  },
  "language_info": {
   "codemirror_mode": {
    "name": "ipython",
    "version": 3
   },
   "file_extension": ".py",
   "mimetype": "text/x-python",
   "name": "python",
   "nbconvert_exporter": "python",
   "pygments_lexer": "ipython3",
   "version": "3.10.11"
  },
  "orig_nbformat": 4
 },
 "nbformat": 4,
 "nbformat_minor": 2
}

{
 "cells": [
  {
   "attachments": {},
   "cell_type": "markdown",
   "metadata": {},
   "source": [
    "# NAS on CapsNet on MNIST dataset"
   ]
  },
  {
   "attachments": {},
   "cell_type": "markdown",
   "metadata": {},
   "source": [
    "> Focusing on inference time and accuracy"
   ]
  },
  {
   "cell_type": "code",
   "execution_count": 1,
   "metadata": {},
   "outputs": [],
   "source": [
    "# Setting PATH to import CapsNet class from python file to notebook\n",
    "\n",
    "import os\n",
    "import sys\n",
    "directory_path = os.path.abspath(os.path.join('../src'))\n",
    "if directory_path not in sys.path:\n",
    "    sys.path.append(directory_path)\n",
    "\n",
    "from NsgaII import Nsga_II\n",
    "from utils.load_data import load_mnist"
   ]
  },
  {
   "cell_type": "code",
   "execution_count": 2,
   "metadata": {},
   "outputs": [
    {
     "name": "stdout",
     "output_type": "stream",
     "text": [
      "A ga has been saved under the same name (nas_mnist_1) replace ?\n",
      "=== Generation 1/5\n",
      "Len of pop before manipulations : 5\n",
      "crossover created 4 offspring(s)\n",
      "mutation created 0 offspring(s)\n",
      "local search created 1 offspring(s)\n",
      "Len of pop after manipulations : 10\n",
      "Fitting individual 1/10 with genotype {'epochs': 2, 'epsilon': 0.04396850897725275, 'm_plus': 0.9735049784973449, 'm_minus': 0.0897061339071237, 'lambda_': 0.861614730544054, 'alpha': 0.006966142902110898, 'r': 2, 'no_of_conv_kernels': 128, 'no_of_primary_capsules': 32, 'no_of_secondary_capsules': 10, 'primary_capsule_vector': 8, 'secondary_capsule_vector': 16}\n"
     ]
    },
    {
     "name": "stderr",
     "output_type": "stream",
     "text": [
      "Epoch 1/2:   0%|          | 0/16 [00:00<?, ?it/s]2023-07-17 14:11:00.312262: W tensorflow/tsl/platform/profile_utils/cpu_utils.cc:128] Failed to get CPU frequency: 0 Hz\n",
      "Epoch 1/2: 100%|██████████| 16/16 [00:07<00:00,  2.03it/s, Training loss : 0.0092, Validation loss : 0.0072]\n",
      "Epoch 2/2: 100%|██████████| 16/16 [00:04<00:00,  3.64it/s, Training loss : 0.0055, Validation loss : 0.0052]\n"
     ]
    },
    {
     "name": "stdout",
     "output_type": "stream",
     "text": [
      "Fitting individual 2/10 with genotype {'epochs': 6, 'epsilon': 0.08208226723117283, 'm_plus': 0.9348581822164361, 'm_minus': 0.05264258630247989, 'lambda_': 0.6006325253806463, 'alpha': 0.008017670686285326, 'r': 3, 'no_of_conv_kernels': 128, 'no_of_primary_capsules': 32, 'no_of_secondary_capsules': 10, 'primary_capsule_vector': 8, 'secondary_capsule_vector': 16}\n"
     ]
    },
    {
     "name": "stderr",
     "output_type": "stream",
     "text": [
      "Epoch 1/6: 100%|██████████| 16/16 [00:10<00:00,  1.59it/s, Training loss : 0.0106, Validation loss : 0.0089]\n",
      "Epoch 2/6: 100%|██████████| 16/16 [00:05<00:00,  3.15it/s, Training loss : 0.0076, Validation loss : 0.0073]\n",
      "Epoch 3/6: 100%|██████████| 16/16 [00:05<00:00,  3.09it/s, Training loss : 0.0064, Validation loss : 0.0066]\n",
      "Epoch 4/6: 100%|██████████| 16/16 [00:05<00:00,  3.12it/s, Training loss : 0.0058, Validation loss : 0.0061]\n",
      "Epoch 5/6: 100%|██████████| 16/16 [00:05<00:00,  3.11it/s, Training loss : 0.0054, Validation loss : 0.0060]\n",
      "Epoch 6/6: 100%|██████████| 16/16 [00:05<00:00,  3.10it/s, Training loss : 0.0052, Validation loss : 0.0058]\n"
     ]
    },
    {
     "name": "stdout",
     "output_type": "stream",
     "text": [
      "Fitting individual 3/10 with genotype {'epochs': 6, 'epsilon': 0.0671315007235126, 'm_plus': 0.9520727816559904, 'm_minus': 0.13844241601163002, 'lambda_': 0.8062598441211444, 'alpha': 0.001336268145377756, 'r': 3, 'no_of_conv_kernels': 128, 'no_of_primary_capsules': 32, 'no_of_secondary_capsules': 10, 'primary_capsule_vector': 8, 'secondary_capsule_vector': 16}\n"
     ]
    },
    {
     "name": "stderr",
     "output_type": "stream",
     "text": [
      "Epoch 1/6: 100%|██████████| 16/16 [00:10<00:00,  1.59it/s, Training loss : 0.0089, Validation loss : 0.0072]\n",
      "Epoch 2/6: 100%|██████████| 16/16 [00:05<00:00,  3.12it/s, Training loss : 0.0053, Validation loss : 0.0049]\n",
      "Epoch 3/6: 100%|██████████| 16/16 [00:05<00:00,  3.10it/s, Training loss : 0.0038, Validation loss : 0.0039]\n",
      "Epoch 4/6: 100%|██████████| 16/16 [00:05<00:00,  3.07it/s, Training loss : 0.0030, Validation loss : 0.0034]\n",
      "Epoch 5/6: 100%|██████████| 16/16 [00:05<00:00,  3.12it/s, Training loss : 0.0026, Validation loss : 0.0032]\n",
      "Epoch 6/6: 100%|██████████| 16/16 [00:05<00:00,  3.12it/s, Training loss : 0.0024, Validation loss : 0.0030]\n"
     ]
    },
    {
     "name": "stdout",
     "output_type": "stream",
     "text": [
      "Fitting individual 4/10 with genotype {'epochs': 7, 'epsilon': 0.027179861483860993, 'm_plus': 0.9106826717037543, 'm_minus': 0.07486185489862215, 'lambda_': 0.3587018449597835, 'alpha': 0.0009610380086155002, 'r': 3, 'no_of_conv_kernels': 128, 'no_of_primary_capsules': 32, 'no_of_secondary_capsules': 10, 'primary_capsule_vector': 8, 'secondary_capsule_vector': 16}\n"
     ]
    },
    {
     "name": "stderr",
     "output_type": "stream",
     "text": [
      "Epoch 1/7: 100%|██████████| 16/16 [00:10<00:00,  1.57it/s, Training loss : 0.0071, Validation loss : 0.0041]\n",
      "Epoch 2/7: 100%|██████████| 16/16 [00:05<00:00,  3.10it/s, Training loss : 0.0031, Validation loss : 0.0030]\n",
      "Epoch 3/7: 100%|██████████| 16/16 [00:05<00:00,  3.12it/s, Training loss : 0.0021, Validation loss : 0.0023]\n",
      "Epoch 4/7: 100%|██████████| 16/16 [00:05<00:00,  3.07it/s, Training loss : 0.0016, Validation loss : 0.0019]\n",
      "Epoch 5/7: 100%|██████████| 16/16 [00:05<00:00,  3.10it/s, Training loss : 0.0013, Validation loss : 0.0017]\n",
      "Epoch 6/7: 100%|██████████| 16/16 [00:05<00:00,  3.08it/s, Training loss : 0.0011, Validation loss : 0.0016]\n",
      "Epoch 7/7: 100%|██████████| 16/16 [00:05<00:00,  3.08it/s, Training loss : 0.0009, Validation loss : 0.0015]\n"
     ]
    },
    {
     "name": "stdout",
     "output_type": "stream",
     "text": [
      "Fitting individual 5/10 with genotype {'epochs': 9, 'epsilon': 0.03852998111497444, 'm_plus': 0.9692626619921689, 'm_minus': 0.1676171137929609, 'lambda_': 0.7818311229011558, 'alpha': 0.008671714160314812, 'r': 4, 'no_of_conv_kernels': 128, 'no_of_primary_capsules': 32, 'no_of_secondary_capsules': 10, 'primary_capsule_vector': 8, 'secondary_capsule_vector': 16}\n"
     ]
    },
    {
     "name": "stderr",
     "output_type": "stream",
     "text": [
      "Epoch 1/9: 100%|██████████| 16/16 [00:12<00:00,  1.28it/s, Training loss : 0.0096, Validation loss : 0.0070]\n",
      "Epoch 2/9: 100%|██████████| 16/16 [00:05<00:00,  2.73it/s, Training loss : 0.0047, Validation loss : 0.0039]\n",
      "Epoch 3/9: 100%|██████████| 16/16 [00:05<00:00,  2.73it/s, Training loss : 0.0028, Validation loss : 0.0028]\n",
      "Epoch 4/9: 100%|██████████| 16/16 [00:05<00:00,  2.73it/s, Training loss : 0.0019, Validation loss : 0.0022]\n",
      "Epoch 5/9: 100%|██████████| 16/16 [00:05<00:00,  2.74it/s, Training loss : 0.0014, Validation loss : 0.0019]\n",
      "Epoch 6/9: 100%|██████████| 16/16 [00:05<00:00,  2.73it/s, Training loss : 0.0011, Validation loss : 0.0017]\n",
      "Epoch 7/9: 100%|██████████| 16/16 [00:05<00:00,  2.76it/s, Training loss : 0.0009, Validation loss : 0.0016]\n",
      "Epoch 8/9: 100%|██████████| 16/16 [00:05<00:00,  2.75it/s, Training loss : 0.0007, Validation loss : 0.0016]\n",
      "Epoch 9/9: 100%|██████████| 16/16 [00:05<00:00,  2.70it/s, Training loss : 0.0006, Validation loss : 0.0015]\n"
     ]
    },
    {
     "name": "stdout",
     "output_type": "stream",
     "text": [
      "WARNING:tensorflow:5 out of the last 5 calls to <function CapsNet.predict_capsule_output at 0x1742e01f0> triggered tf.function retracing. Tracing is expensive and the excessive number of tracings could be due to (1) creating @tf.function repeatedly in a loop, (2) passing tensors with different shapes, (3) passing Python objects instead of tensors. For (1), please define your @tf.function outside of the loop. For (2), @tf.function has reduce_retracing=True option that can avoid unnecessary retracing. For (3), please refer to https://www.tensorflow.org/guide/function#controlling_retracing and https://www.tensorflow.org/api_docs/python/tf/function for  more details.\n",
      "Fitting individual 6/10 with genotype {'epochs': 7, 'epsilon': 0.027179861483860993, 'm_plus': 0.9106826717037543, 'm_minus': 0.05264258630247989, 'lambda_': 0.6006325253806463, 'alpha': 0.008017670686285326, 'r': 3, 'no_of_conv_kernels': 128, 'no_of_primary_capsules': 32, 'no_of_secondary_capsules': 10, 'primary_capsule_vector': 8, 'secondary_capsule_vector': 16}\n"
     ]
    },
    {
     "name": "stderr",
     "output_type": "stream",
     "text": [
      "Epoch 1/7: 100%|██████████| 16/16 [00:10<00:00,  1.57it/s, Training loss : 0.0070, Validation loss : 0.0048]\n",
      "Epoch 2/7: 100%|██████████| 16/16 [00:05<00:00,  3.06it/s, Training loss : 0.0036, Validation loss : 0.0036]\n",
      "Epoch 3/7: 100%|██████████| 16/16 [00:05<00:00,  3.03it/s, Training loss : 0.0026, Validation loss : 0.0030]\n",
      "Epoch 4/7: 100%|██████████| 16/16 [00:05<00:00,  3.08it/s, Training loss : 0.0021, Validation loss : 0.0026]\n",
      "Epoch 5/7: 100%|██████████| 16/16 [00:05<00:00,  3.07it/s, Training loss : 0.0018, Validation loss : 0.0025]\n",
      "Epoch 6/7: 100%|██████████| 16/16 [00:05<00:00,  3.02it/s, Training loss : 0.0016, Validation loss : 0.0024]\n",
      "Epoch 7/7: 100%|██████████| 16/16 [00:05<00:00,  3.05it/s, Training loss : 0.0015, Validation loss : 0.0023]\n"
     ]
    },
    {
     "name": "stdout",
     "output_type": "stream",
     "text": [
      "WARNING:tensorflow:6 out of the last 6 calls to <function CapsNet.predict_capsule_output at 0x1057bb760> triggered tf.function retracing. Tracing is expensive and the excessive number of tracings could be due to (1) creating @tf.function repeatedly in a loop, (2) passing tensors with different shapes, (3) passing Python objects instead of tensors. For (1), please define your @tf.function outside of the loop. For (2), @tf.function has reduce_retracing=True option that can avoid unnecessary retracing. For (3), please refer to https://www.tensorflow.org/guide/function#controlling_retracing and https://www.tensorflow.org/api_docs/python/tf/function for  more details.\n",
      "Fitting individual 7/10 with genotype {'epochs': 6, 'epsilon': 0.08208226723117283, 'm_plus': 0.9348581822164361, 'm_minus': 0.07486185489862215, 'lambda_': 0.3587018449597835, 'alpha': 0.0009610380086155002, 'r': 3, 'no_of_conv_kernels': 128, 'no_of_primary_capsules': 32, 'no_of_secondary_capsules': 10, 'primary_capsule_vector': 8, 'secondary_capsule_vector': 16}\n"
     ]
    },
    {
     "name": "stderr",
     "output_type": "stream",
     "text": [
      "Epoch 1/6: 100%|██████████| 16/16 [00:10<00:00,  1.58it/s, Training loss : 0.0073, Validation loss : 0.0053]\n",
      "Epoch 2/6: 100%|██████████| 16/16 [00:05<00:00,  3.07it/s, Training loss : 0.0044, Validation loss : 0.0043]\n",
      "Epoch 3/6: 100%|██████████| 16/16 [00:05<00:00,  3.02it/s, Training loss : 0.0035, Validation loss : 0.0037]\n",
      "Epoch 4/6: 100%|██████████| 16/16 [00:05<00:00,  3.09it/s, Training loss : 0.0031, Validation loss : 0.0034]\n",
      "Epoch 5/6: 100%|██████████| 16/16 [00:05<00:00,  3.06it/s, Training loss : 0.0028, Validation loss : 0.0033]\n",
      "Epoch 6/6: 100%|██████████| 16/16 [00:05<00:00,  3.02it/s, Training loss : 0.0027, Validation loss : 0.0032]\n"
     ]
    },
    {
     "name": "stdout",
     "output_type": "stream",
     "text": [
      "Fitting individual 8/10 with genotype {'epochs': 6, 'epsilon': 0.08208226723117283, 'm_plus': 0.9348581822164361, 'm_minus': 0.0897061339071237, 'lambda_': 0.861614730544054, 'alpha': 0.006966142902110898, 'r': 2, 'no_of_conv_kernels': 128, 'no_of_primary_capsules': 32, 'no_of_secondary_capsules': 10, 'primary_capsule_vector': 8, 'secondary_capsule_vector': 16}\n"
     ]
    },
    {
     "name": "stderr",
     "output_type": "stream",
     "text": [
      "Epoch 1/6: 100%|██████████| 16/16 [00:07<00:00,  2.02it/s, Training loss : 0.0101, Validation loss : 0.0086]\n",
      "Epoch 2/6: 100%|██████████| 16/16 [00:04<00:00,  3.48it/s, Training loss : 0.0074, Validation loss : 0.0073]\n",
      "Epoch 3/6: 100%|██████████| 16/16 [00:04<00:00,  3.45it/s, Training loss : 0.0063, Validation loss : 0.0067]\n",
      "Epoch 4/6: 100%|██████████| 16/16 [00:04<00:00,  3.40it/s, Training loss : 0.0058, Validation loss : 0.0063]\n",
      "Epoch 5/6: 100%|██████████| 16/16 [00:04<00:00,  3.47it/s, Training loss : 0.0055, Validation loss : 0.0062]\n",
      "Epoch 6/6: 100%|██████████| 16/16 [00:04<00:00,  3.50it/s, Training loss : 0.0053, Validation loss : 0.0061]\n"
     ]
    },
    {
     "name": "stdout",
     "output_type": "stream",
     "text": [
      "Fitting individual 9/10 with genotype {'epochs': 2, 'epsilon': 0.04396850897725275, 'm_plus': 0.9735049784973449, 'm_minus': 0.05264258630247989, 'lambda_': 0.6006325253806463, 'alpha': 0.008017670686285326, 'r': 3, 'no_of_conv_kernels': 128, 'no_of_primary_capsules': 32, 'no_of_secondary_capsules': 10, 'primary_capsule_vector': 8, 'secondary_capsule_vector': 16}\n"
     ]
    },
    {
     "name": "stderr",
     "output_type": "stream",
     "text": [
      "Epoch 1/2: 100%|██████████| 16/16 [00:10<00:00,  1.57it/s, Training loss : 0.0100, Validation loss : 0.0071]\n",
      "Epoch 2/2: 100%|██████████| 16/16 [00:05<00:00,  2.97it/s, Training loss : 0.0057, Validation loss : 0.0057]\n"
     ]
    },
    {
     "name": "stdout",
     "output_type": "stream",
     "text": [
      "Fitting individual 10/10 with genotype {'epochs': 6, 'epsilon': 0.08208226723117283, 'm_plus': 0.9348581822164361, 'm_minus': 0.05264258630247989, 'lambda_': 0.6006325253806463, 'alpha': 0.008017670686285326, 'r': 3, 'no_of_conv_kernels': 128, 'no_of_primary_capsules': 32, 'no_of_secondary_capsules': 10, 'primary_capsule_vector': 8, 'secondary_capsule_vector': 16}\n"
     ]
    },
    {
     "name": "stderr",
     "output_type": "stream",
     "text": [
      "Epoch 1/6: 100%|██████████| 16/16 [00:10<00:00,  1.51it/s, Training loss : 0.0107, Validation loss : 0.0097]\n",
      "Epoch 2/6: 100%|██████████| 16/16 [00:05<00:00,  2.95it/s, Training loss : 0.0080, Validation loss : 0.0076]\n",
      "Epoch 3/6: 100%|██████████| 16/16 [00:05<00:00,  3.07it/s, Training loss : 0.0066, Validation loss : 0.0067]\n",
      "Epoch 4/6: 100%|██████████| 16/16 [00:05<00:00,  2.98it/s, Training loss : 0.0058, Validation loss : 0.0062]\n",
      "Epoch 5/6: 100%|██████████| 16/16 [00:05<00:00,  2.97it/s, Training loss : 0.0055, Validation loss : 0.0060]\n",
      "Epoch 6/6: 100%|██████████| 16/16 [00:05<00:00,  2.92it/s, Training loss : 0.0053, Validation loss : 0.0058]\n"
     ]
    },
    {
     "name": "stdout",
     "output_type": "stream",
     "text": [
      "Len of pop after selection : 5\n",
      "=== Generation 2/5\n",
      "Len of pop before manipulations : 5\n",
      "crossover created 2 offspring(s)\n",
      "mutation created 0 offspring(s)\n",
      "local search created 2 offspring(s)\n",
      "Len of pop after manipulations : 9\n",
      "Fitting individual 1/9 with genotype {'epochs': 2, 'epsilon': 0.04396850897725275, 'm_plus': 0.9735049784973449, 'm_minus': 0.0897061339071237, 'lambda_': 0.861614730544054, 'alpha': 0.006966142902110898, 'r': 2, 'no_of_conv_kernels': 128, 'no_of_primary_capsules': 32, 'no_of_secondary_capsules': 10, 'primary_capsule_vector': 8, 'secondary_capsule_vector': 16}\n"
     ]
    },
    {
     "name": "stderr",
     "output_type": "stream",
     "text": [
      "Epoch 1/2: 100%|██████████| 16/16 [00:07<00:00,  2.01it/s, Training loss : 0.0086, Validation loss : 0.0065]\n",
      "Epoch 2/2: 100%|██████████| 16/16 [00:04<00:00,  3.40it/s, Training loss : 0.0050, Validation loss : 0.0049]\n"
     ]
    },
    {
     "name": "stdout",
     "output_type": "stream",
     "text": [
      "Fitting individual 2/9 with genotype {'epochs': 6, 'epsilon': 0.08208226723117283, 'm_plus': 0.9348581822164361, 'm_minus': 0.05264258630247989, 'lambda_': 0.6006325253806463, 'alpha': 0.008017670686285326, 'r': 3, 'no_of_conv_kernels': 128, 'no_of_primary_capsules': 32, 'no_of_secondary_capsules': 10, 'primary_capsule_vector': 8, 'secondary_capsule_vector': 16}\n"
     ]
    },
    {
     "name": "stderr",
     "output_type": "stream",
     "text": [
      "Epoch 1/6: 100%|██████████| 16/16 [00:10<00:00,  1.54it/s, Training loss : 0.0108, Validation loss : 0.0094]\n",
      "Epoch 2/6: 100%|██████████| 16/16 [00:05<00:00,  3.03it/s, Training loss : 0.0078, Validation loss : 0.0075]\n",
      "Epoch 3/6: 100%|██████████| 16/16 [00:05<00:00,  3.04it/s, Training loss : 0.0064, Validation loss : 0.0065]\n",
      "Epoch 4/6: 100%|██████████| 16/16 [00:05<00:00,  2.99it/s, Training loss : 0.0058, Validation loss : 0.0061]\n",
      "Epoch 5/6: 100%|██████████| 16/16 [00:05<00:00,  3.05it/s, Training loss : 0.0054, Validation loss : 0.0059]\n",
      "Epoch 6/6: 100%|██████████| 16/16 [00:05<00:00,  3.03it/s, Training loss : 0.0052, Validation loss : 0.0059]\n"
     ]
    },
    {
     "name": "stdout",
     "output_type": "stream",
     "text": [
      "Fitting individual 3/9 with genotype {'epochs': 6, 'epsilon': 0.0671315007235126, 'm_plus': 0.9520727816559904, 'm_minus': 0.13844241601163002, 'lambda_': 0.8062598441211444, 'alpha': 0.001336268145377756, 'r': 3, 'no_of_conv_kernels': 128, 'no_of_primary_capsules': 32, 'no_of_secondary_capsules': 10, 'primary_capsule_vector': 8, 'secondary_capsule_vector': 16}\n"
     ]
    },
    {
     "name": "stderr",
     "output_type": "stream",
     "text": [
      "Epoch 1/6: 100%|██████████| 16/16 [00:10<00:00,  1.57it/s, Training loss : 0.0081, Validation loss : 0.0061]\n",
      "Epoch 2/6: 100%|██████████| 16/16 [00:05<00:00,  3.02it/s, Training loss : 0.0047, Validation loss : 0.0044]\n",
      "Epoch 3/6: 100%|██████████| 16/16 [00:05<00:00,  3.07it/s, Training loss : 0.0034, Validation loss : 0.0037]\n",
      "Epoch 4/6: 100%|██████████| 16/16 [00:05<00:00,  3.08it/s, Training loss : 0.0028, Validation loss : 0.0033]\n",
      "Epoch 5/6: 100%|██████████| 16/16 [00:05<00:00,  3.01it/s, Training loss : 0.0025, Validation loss : 0.0031]\n",
      "Epoch 6/6: 100%|██████████| 16/16 [00:05<00:00,  3.06it/s, Training loss : 0.0023, Validation loss : 0.0029]\n"
     ]
    },
    {
     "name": "stdout",
     "output_type": "stream",
     "text": [
      "Fitting individual 4/9 with genotype {'epochs': 7, 'epsilon': 0.09789414139078888, 'm_plus': 0.9106826717037543, 'm_minus': 0.07486185489862215, 'lambda_': 0.3587018449597835, 'alpha': 0.0009610380086155002, 'r': 3, 'no_of_conv_kernels': 128, 'no_of_primary_capsules': 32, 'no_of_secondary_capsules': 10, 'primary_capsule_vector': 8, 'secondary_capsule_vector': 16}\n"
     ]
    },
    {
     "name": "stderr",
     "output_type": "stream",
     "text": [
      "Epoch 1/7: 100%|██████████| 16/16 [00:10<00:00,  1.59it/s, Training loss : 0.0074, Validation loss : 0.0060]\n",
      "Epoch 2/7: 100%|██████████| 16/16 [00:05<00:00,  3.03it/s, Training loss : 0.0049, Validation loss : 0.0048]\n",
      "Epoch 3/7: 100%|██████████| 16/16 [00:05<00:00,  3.09it/s, Training loss : 0.0040, Validation loss : 0.0041]\n",
      "Epoch 4/7: 100%|██████████| 16/16 [00:05<00:00,  3.08it/s, Training loss : 0.0036, Validation loss : 0.0039]\n",
      "Epoch 5/7: 100%|██████████| 16/16 [00:05<00:00,  3.04it/s, Training loss : 0.0034, Validation loss : 0.0038]\n",
      "Epoch 6/7: 100%|██████████| 16/16 [00:05<00:00,  3.05it/s, Training loss : 0.0033, Validation loss : 0.0037]\n",
      "Epoch 7/7: 100%|██████████| 16/16 [00:05<00:00,  3.10it/s, Training loss : 0.0032, Validation loss : 0.0037]\n"
     ]
    },
    {
     "name": "stdout",
     "output_type": "stream",
     "text": [
      "Fitting individual 5/9 with genotype {'epochs': 9, 'epsilon': 0.03852998111497444, 'm_plus': 0.9692626619921689, 'm_minus': 0.1676171137929609, 'lambda_': 0.7818311229011558, 'alpha': 0.008671714160314812, 'r': 4, 'no_of_conv_kernels': 128, 'no_of_primary_capsules': 32, 'no_of_secondary_capsules': 10, 'primary_capsule_vector': 8, 'secondary_capsule_vector': 16}\n"
     ]
    },
    {
     "name": "stderr",
     "output_type": "stream",
     "text": [
      "Epoch 1/9: 100%|██████████| 16/16 [00:12<00:00,  1.23it/s, Training loss : 0.0079, Validation loss : 0.0056]\n",
      "Epoch 2/9: 100%|██████████| 16/16 [00:06<00:00,  2.49it/s, Training loss : 0.0037, Validation loss : 0.0034]\n",
      "Epoch 3/9: 100%|██████████| 16/16 [00:06<00:00,  2.58it/s, Training loss : 0.0023, Validation loss : 0.0025]\n",
      "Epoch 4/9: 100%|██████████| 16/16 [00:06<00:00,  2.66it/s, Training loss : 0.0016, Validation loss : 0.0020]\n",
      "Epoch 5/9: 100%|██████████| 16/16 [00:05<00:00,  2.73it/s, Training loss : 0.0012, Validation loss : 0.0018]\n",
      "Epoch 6/9: 100%|██████████| 16/16 [00:06<00:00,  2.65it/s, Training loss : 0.0010, Validation loss : 0.0016]\n",
      "Epoch 7/9: 100%|██████████| 16/16 [00:06<00:00,  2.52it/s, Training loss : 0.0008, Validation loss : 0.0015]\n",
      "Epoch 8/9: 100%|██████████| 16/16 [00:06<00:00,  2.53it/s, Training loss : 0.0007, Validation loss : 0.0014]\n",
      "Epoch 9/9: 100%|██████████| 16/16 [00:06<00:00,  2.38it/s, Training loss : 0.0005, Validation loss : 0.0014]\n"
     ]
    },
    {
     "name": "stdout",
     "output_type": "stream",
     "text": [
      "Fitting individual 6/9 with genotype {'epochs': 9, 'epsilon': 0.03852998111497444, 'm_plus': 0.9692626619921689, 'm_minus': 0.1676171137929609, 'lambda_': 0.7818311229011558, 'alpha': 0.008671714160314812, 'r': 3, 'no_of_conv_kernels': 128, 'no_of_primary_capsules': 32, 'no_of_secondary_capsules': 10, 'primary_capsule_vector': 8, 'secondary_capsule_vector': 16}\n"
     ]
    },
    {
     "name": "stderr",
     "output_type": "stream",
     "text": [
      "Epoch 1/9: 100%|██████████| 16/16 [00:10<00:00,  1.51it/s, Training loss : 0.0081, Validation loss : 0.0051]\n",
      "Epoch 2/9: 100%|██████████| 16/16 [00:05<00:00,  2.77it/s, Training loss : 0.0036, Validation loss : 0.0034]\n",
      "Epoch 3/9: 100%|██████████| 16/16 [00:05<00:00,  2.79it/s, Training loss : 0.0023, Validation loss : 0.0026]\n",
      "Epoch 4/9: 100%|██████████| 16/16 [00:05<00:00,  2.81it/s, Training loss : 0.0016, Validation loss : 0.0020]\n",
      "Epoch 5/9: 100%|██████████| 16/16 [00:05<00:00,  2.82it/s, Training loss : 0.0012, Validation loss : 0.0018]\n",
      "Epoch 6/9: 100%|██████████| 16/16 [00:05<00:00,  2.76it/s, Training loss : 0.0009, Validation loss : 0.0016]\n",
      "Epoch 7/9: 100%|██████████| 16/16 [00:05<00:00,  2.82it/s, Training loss : 0.0008, Validation loss : 0.0015]\n",
      "Epoch 8/9: 100%|██████████| 16/16 [00:05<00:00,  2.79it/s, Training loss : 0.0007, Validation loss : 0.0015]\n",
      "Epoch 9/9: 100%|██████████| 16/16 [00:05<00:00,  2.80it/s, Training loss : 0.0005, Validation loss : 0.0014]\n"
     ]
    },
    {
     "name": "stdout",
     "output_type": "stream",
     "text": [
      "Fitting individual 7/9 with genotype {'epochs': 6, 'epsilon': 0.08208226723117283, 'm_plus': 0.9348581822164361, 'm_minus': 0.05264258630247989, 'lambda_': 0.6006325253806463, 'alpha': 0.008017670686285326, 'r': 4, 'no_of_conv_kernels': 128, 'no_of_primary_capsules': 32, 'no_of_secondary_capsules': 10, 'primary_capsule_vector': 8, 'secondary_capsule_vector': 16}\n"
     ]
    },
    {
     "name": "stderr",
     "output_type": "stream",
     "text": [
      "Epoch 1/6: 100%|██████████| 16/16 [00:12<00:00,  1.24it/s, Training loss : 0.0107, Validation loss : 0.0091]\n",
      "Epoch 2/6: 100%|██████████| 16/16 [00:06<00:00,  2.47it/s, Training loss : 0.0077, Validation loss : 0.0073]\n",
      "Epoch 3/6: 100%|██████████| 16/16 [00:06<00:00,  2.43it/s, Training loss : 0.0062, Validation loss : 0.0064]\n",
      "Epoch 4/6: 100%|██████████| 16/16 [00:06<00:00,  2.50it/s, Training loss : 0.0056, Validation loss : 0.0061]\n",
      "Epoch 5/6: 100%|██████████| 16/16 [00:06<00:00,  2.38it/s, Training loss : 0.0053, Validation loss : 0.0059]\n",
      "Epoch 6/6: 100%|██████████| 16/16 [00:06<00:00,  2.51it/s, Training loss : 0.0051, Validation loss : 0.0058]\n"
     ]
    },
    {
     "name": "stdout",
     "output_type": "stream",
     "text": [
      "Fitting individual 8/9 with genotype {'epochs': 7, 'epsilon': 0.09789414139078888, 'm_plus': 0.9106826717037543, 'm_minus': 0.07486185489862215, 'lambda_': 0.3587018449597835, 'alpha': 0.0009610380086155002, 'r': 3, 'no_of_conv_kernels': 128, 'no_of_primary_capsules': 32, 'no_of_secondary_capsules': 10, 'primary_capsule_vector': 8, 'secondary_capsule_vector': 16}\n"
     ]
    },
    {
     "name": "stderr",
     "output_type": "stream",
     "text": [
      "Epoch 1/7: 100%|██████████| 16/16 [00:10<00:00,  1.47it/s, Training loss : 0.0067, Validation loss : 0.0054]\n",
      "Epoch 2/7: 100%|██████████| 16/16 [00:05<00:00,  2.83it/s, Training loss : 0.0046, Validation loss : 0.0045]\n",
      "Epoch 3/7: 100%|██████████| 16/16 [00:05<00:00,  2.84it/s, Training loss : 0.0039, Validation loss : 0.0041]\n",
      "Epoch 4/7: 100%|██████████| 16/16 [00:06<00:00,  2.52it/s, Training loss : 0.0036, Validation loss : 0.0039]\n",
      "Epoch 5/7: 100%|██████████| 16/16 [00:05<00:00,  2.85it/s, Training loss : 0.0034, Validation loss : 0.0038]\n",
      "Epoch 6/7: 100%|██████████| 16/16 [00:05<00:00,  2.87it/s, Training loss : 0.0032, Validation loss : 0.0037]\n",
      "Epoch 7/7: 100%|██████████| 16/16 [00:05<00:00,  2.89it/s, Training loss : 0.0032, Validation loss : 0.0037]\n"
     ]
    },
    {
     "name": "stdout",
     "output_type": "stream",
     "text": [
      "Fitting individual 9/9 with genotype {'epochs': 9, 'epsilon': 0.03852998111497444, 'm_plus': 0.9692626619921689, 'm_minus': 0.1676171137929609, 'lambda_': 0.7818311229011558, 'alpha': 0.008671714160314812, 'r': 4, 'no_of_conv_kernels': 128, 'no_of_primary_capsules': 32, 'no_of_secondary_capsules': 10, 'primary_capsule_vector': 8, 'secondary_capsule_vector': 16}\n"
     ]
    },
    {
     "name": "stderr",
     "output_type": "stream",
     "text": [
      "Epoch 1/9: 100%|██████████| 16/16 [00:12<00:00,  1.24it/s, Training loss : 0.0096, Validation loss : 0.0074]\n",
      "Epoch 2/9: 100%|██████████| 16/16 [00:06<00:00,  2.55it/s, Training loss : 0.0051, Validation loss : 0.0041]\n",
      "Epoch 3/9: 100%|██████████| 16/16 [00:06<00:00,  2.44it/s, Training loss : 0.0031, Validation loss : 0.0030]\n",
      "Epoch 4/9: 100%|██████████| 16/16 [00:06<00:00,  2.57it/s, Training loss : 0.0022, Validation loss : 0.0025]\n",
      "Epoch 5/9: 100%|██████████| 16/16 [00:06<00:00,  2.43it/s, Training loss : 0.0017, Validation loss : 0.0020]\n",
      "Epoch 6/9: 100%|██████████| 16/16 [00:05<00:00,  2.74it/s, Training loss : 0.0013, Validation loss : 0.0018]\n",
      "Epoch 7/9: 100%|██████████| 16/16 [00:05<00:00,  2.70it/s, Training loss : 0.0011, Validation loss : 0.0016]\n",
      "Epoch 8/9: 100%|██████████| 16/16 [00:05<00:00,  2.68it/s, Training loss : 0.0009, Validation loss : 0.0016]\n",
      "Epoch 9/9: 100%|██████████| 16/16 [00:06<00:00,  2.62it/s, Training loss : 0.0007, Validation loss : 0.0014]\n"
     ]
    },
    {
     "name": "stdout",
     "output_type": "stream",
     "text": [
      "Len of pop after selection : 5\n",
      "=== Generation 3/5\n",
      "Len of pop before manipulations : 5\n",
      "crossover created 2 offspring(s)\n",
      "mutation created 0 offspring(s)\n",
      "local search created 1 offspring(s)\n",
      "Len of pop after manipulations : 8\n",
      "Fitting individual 1/8 with genotype {'epochs': 2, 'epsilon': 0.04396850897725275, 'm_plus': 0.9735049784973449, 'm_minus': 0.0897061339071237, 'lambda_': 0.861614730544054, 'alpha': 0.006966142902110898, 'r': 2, 'no_of_conv_kernels': 128, 'no_of_primary_capsules': 32, 'no_of_secondary_capsules': 10, 'primary_capsule_vector': 8, 'secondary_capsule_vector': 16}\n"
     ]
    },
    {
     "name": "stderr",
     "output_type": "stream",
     "text": [
      "Epoch 1/2: 100%|██████████| 16/16 [00:08<00:00,  1.91it/s, Training loss : 0.0089, Validation loss : 0.0067]\n",
      "Epoch 2/2: 100%|██████████| 16/16 [00:04<00:00,  3.26it/s, Training loss : 0.0052, Validation loss : 0.0050]\n"
     ]
    },
    {
     "name": "stdout",
     "output_type": "stream",
     "text": [
      "Fitting individual 2/8 with genotype {'epochs': 6, 'epsilon': 0.1, 'm_plus': 0.9348581822164361, 'm_minus': 0.05264258630247989, 'lambda_': 0.6006325253806463, 'alpha': 0.008017670686285326, 'r': 3, 'no_of_conv_kernels': 128, 'no_of_primary_capsules': 32, 'no_of_secondary_capsules': 10, 'primary_capsule_vector': 8, 'secondary_capsule_vector': 16}\n"
     ]
    },
    {
     "name": "stderr",
     "output_type": "stream",
     "text": [
      "Epoch 1/6: 100%|██████████| 16/16 [00:10<00:00,  1.51it/s, Training loss : 0.0117, Validation loss : 0.0110]\n",
      "Epoch 2/6: 100%|██████████| 16/16 [00:05<00:00,  2.92it/s, Training loss : 0.0099, Validation loss : 0.0092]\n",
      "Epoch 3/6: 100%|██████████| 16/16 [00:05<00:00,  2.70it/s, Training loss : 0.0084, Validation loss : 0.0083]\n",
      "Epoch 4/6: 100%|██████████| 16/16 [00:06<00:00,  2.62it/s, Training loss : 0.0075, Validation loss : 0.0076]\n",
      "Epoch 5/6: 100%|██████████| 16/16 [00:05<00:00,  2.91it/s, Training loss : 0.0069, Validation loss : 0.0072]\n",
      "Epoch 6/6: 100%|██████████| 16/16 [00:05<00:00,  2.92it/s, Training loss : 0.0066, Validation loss : 0.0071]\n"
     ]
    },
    {
     "name": "stdout",
     "output_type": "stream",
     "text": [
      "Fitting individual 3/8 with genotype {'epochs': 6, 'epsilon': 0.0671315007235126, 'm_plus': 0.9520727816559904, 'm_minus': 0.13844241601163002, 'lambda_': 0.8062598441211444, 'alpha': 0.001336268145377756, 'r': 3, 'no_of_conv_kernels': 128, 'no_of_primary_capsules': 32, 'no_of_secondary_capsules': 10, 'primary_capsule_vector': 8, 'secondary_capsule_vector': 16}\n"
     ]
    },
    {
     "name": "stderr",
     "output_type": "stream",
     "text": [
      "Epoch 1/6: 100%|██████████| 16/16 [00:10<00:00,  1.51it/s, Training loss : 0.0076, Validation loss : 0.0058]\n",
      "Epoch 2/6: 100%|██████████| 16/16 [00:05<00:00,  2.90it/s, Training loss : 0.0045, Validation loss : 0.0043]\n",
      "Epoch 3/6: 100%|██████████| 16/16 [00:05<00:00,  2.89it/s, Training loss : 0.0033, Validation loss : 0.0036]\n",
      "Epoch 4/6: 100%|██████████| 16/16 [00:05<00:00,  2.77it/s, Training loss : 0.0028, Validation loss : 0.0033]\n",
      "Epoch 5/6: 100%|██████████| 16/16 [00:05<00:00,  2.90it/s, Training loss : 0.0025, Validation loss : 0.0031]\n",
      "Epoch 6/6: 100%|██████████| 16/16 [00:05<00:00,  2.93it/s, Training loss : 0.0023, Validation loss : 0.0030]\n"
     ]
    },
    {
     "name": "stdout",
     "output_type": "stream",
     "text": [
      "Fitting individual 4/8 with genotype {'epochs': 7, 'epsilon': 0.09789414139078888, 'm_plus': 0.9106826717037543, 'm_minus': 0.07486185489862215, 'lambda_': 0.3587018449597835, 'alpha': 0.0009610380086155002, 'r': 3, 'no_of_conv_kernels': 128, 'no_of_primary_capsules': 32, 'no_of_secondary_capsules': 10, 'primary_capsule_vector': 8, 'secondary_capsule_vector': 16}\n"
     ]
    },
    {
     "name": "stderr",
     "output_type": "stream",
     "text": [
      "Epoch 1/7: 100%|██████████| 16/16 [00:10<00:00,  1.52it/s, Training loss : 0.0072, Validation loss : 0.0056]\n",
      "Epoch 2/7: 100%|██████████| 16/16 [00:05<00:00,  2.87it/s, Training loss : 0.0047, Validation loss : 0.0046]\n",
      "Epoch 3/7: 100%|██████████| 16/16 [00:05<00:00,  2.92it/s, Training loss : 0.0040, Validation loss : 0.0042]\n",
      "Epoch 4/7: 100%|██████████| 16/16 [00:05<00:00,  2.85it/s, Training loss : 0.0036, Validation loss : 0.0039]\n",
      "Epoch 5/7: 100%|██████████| 16/16 [00:05<00:00,  2.87it/s, Training loss : 0.0034, Validation loss : 0.0038]\n",
      "Epoch 6/7: 100%|██████████| 16/16 [00:05<00:00,  2.90it/s, Training loss : 0.0033, Validation loss : 0.0037]\n",
      "Epoch 7/7: 100%|██████████| 16/16 [00:05<00:00,  2.83it/s, Training loss : 0.0032, Validation loss : 0.0036]\n"
     ]
    },
    {
     "name": "stdout",
     "output_type": "stream",
     "text": [
      "Fitting individual 5/8 with genotype {'epochs': 9, 'epsilon': 0.03852998111497444, 'm_plus': 0.9692626619921689, 'm_minus': 0.1676171137929609, 'lambda_': 0.7818311229011558, 'alpha': 0.008671714160314812, 'r': 4, 'no_of_conv_kernels': 128, 'no_of_primary_capsules': 32, 'no_of_secondary_capsules': 10, 'primary_capsule_vector': 8, 'secondary_capsule_vector': 16}\n"
     ]
    },
    {
     "name": "stderr",
     "output_type": "stream",
     "text": [
      "Epoch 1/9: 100%|██████████| 16/16 [00:12<00:00,  1.27it/s, Training loss : 0.0094, Validation loss : 0.0065]\n",
      "Epoch 2/9: 100%|██████████| 16/16 [00:06<00:00,  2.63it/s, Training loss : 0.0045, Validation loss : 0.0038]\n",
      "Epoch 3/9: 100%|██████████| 16/16 [00:06<00:00,  2.49it/s, Training loss : 0.0028, Validation loss : 0.0029]\n",
      "Epoch 4/9: 100%|██████████| 16/16 [00:06<00:00,  2.60it/s, Training loss : 0.0019, Validation loss : 0.0022]\n",
      "Epoch 5/9: 100%|██████████| 16/16 [00:06<00:00,  2.57it/s, Training loss : 0.0014, Validation loss : 0.0019]\n",
      "Epoch 6/9: 100%|██████████| 16/16 [00:06<00:00,  2.58it/s, Training loss : 0.0010, Validation loss : 0.0016]\n",
      "Epoch 7/9: 100%|██████████| 16/16 [00:06<00:00,  2.58it/s, Training loss : 0.0008, Validation loss : 0.0015]\n",
      "Epoch 8/9: 100%|██████████| 16/16 [00:06<00:00,  2.60it/s, Training loss : 0.0006, Validation loss : 0.0014]\n",
      "Epoch 9/9: 100%|██████████| 16/16 [00:06<00:00,  2.61it/s, Training loss : 0.0005, Validation loss : 0.0013]\n"
     ]
    },
    {
     "name": "stdout",
     "output_type": "stream",
     "text": [
      "Fitting individual 6/8 with genotype {'epochs': 2, 'epsilon': 0.04396850897725275, 'm_plus': 0.9692626619921689, 'm_minus': 0.1676171137929609, 'lambda_': 0.7818311229011558, 'alpha': 0.008671714160314812, 'r': 4, 'no_of_conv_kernels': 128, 'no_of_primary_capsules': 32, 'no_of_secondary_capsules': 10, 'primary_capsule_vector': 8, 'secondary_capsule_vector': 16}\n"
     ]
    },
    {
     "name": "stderr",
     "output_type": "stream",
     "text": [
      "Epoch 1/2: 100%|██████████| 16/16 [00:12<00:00,  1.24it/s, Training loss : 0.0085, Validation loss : 0.0060]\n",
      "Epoch 2/2: 100%|██████████| 16/16 [00:06<00:00,  2.62it/s, Training loss : 0.0040, Validation loss : 0.0035]\n"
     ]
    },
    {
     "name": "stdout",
     "output_type": "stream",
     "text": [
      "Fitting individual 7/8 with genotype {'epochs': 9, 'epsilon': 0.03852998111497444, 'm_plus': 0.9735049784973449, 'm_minus': 0.0897061339071237, 'lambda_': 0.861614730544054, 'alpha': 0.006966142902110898, 'r': 2, 'no_of_conv_kernels': 128, 'no_of_primary_capsules': 32, 'no_of_secondary_capsules': 10, 'primary_capsule_vector': 8, 'secondary_capsule_vector': 16}\n"
     ]
    },
    {
     "name": "stderr",
     "output_type": "stream",
     "text": [
      "Epoch 1/9: 100%|██████████| 16/16 [00:08<00:00,  1.95it/s, Training loss : 0.0092, Validation loss : 0.0066]\n",
      "Epoch 2/9: 100%|██████████| 16/16 [00:04<00:00,  3.31it/s, Training loss : 0.0052, Validation loss : 0.0050]\n",
      "Epoch 3/9: 100%|██████████| 16/16 [00:04<00:00,  3.27it/s, Training loss : 0.0037, Validation loss : 0.0040]\n",
      "Epoch 4/9: 100%|██████████| 16/16 [00:04<00:00,  3.34it/s, Training loss : 0.0030, Validation loss : 0.0035]\n",
      "Epoch 5/9: 100%|██████████| 16/16 [00:04<00:00,  3.35it/s, Training loss : 0.0026, Validation loss : 0.0033]\n",
      "Epoch 6/9: 100%|██████████| 16/16 [00:04<00:00,  3.24it/s, Training loss : 0.0023, Validation loss : 0.0031]\n",
      "Epoch 7/9: 100%|██████████| 16/16 [00:04<00:00,  3.32it/s, Training loss : 0.0022, Validation loss : 0.0030]\n",
      "Epoch 8/9: 100%|██████████| 16/16 [00:04<00:00,  3.29it/s, Training loss : 0.0020, Validation loss : 0.0030]\n",
      "Epoch 9/9: 100%|██████████| 16/16 [00:04<00:00,  3.26it/s, Training loss : 0.0019, Validation loss : 0.0029]\n"
     ]
    },
    {
     "name": "stdout",
     "output_type": "stream",
     "text": [
      "Fitting individual 8/8 with genotype {'epochs': 6, 'epsilon': 0.1, 'm_plus': 0.9348581822164361, 'm_minus': 0.05264258630247989, 'lambda_': 0.6006325253806463, 'alpha': 0.008017670686285326, 'r': 3, 'no_of_conv_kernels': 128, 'no_of_primary_capsules': 32, 'no_of_secondary_capsules': 10, 'primary_capsule_vector': 8, 'secondary_capsule_vector': 16}\n"
     ]
    },
    {
     "name": "stderr",
     "output_type": "stream",
     "text": [
      "Epoch 1/6: 100%|██████████| 16/16 [00:10<00:00,  1.53it/s, Training loss : 0.0110, Validation loss : 0.0095]\n",
      "Epoch 2/6: 100%|██████████| 16/16 [00:05<00:00,  2.87it/s, Training loss : 0.0084, Validation loss : 0.0084]\n",
      "Epoch 3/6: 100%|██████████| 16/16 [00:05<00:00,  2.92it/s, Training loss : 0.0074, Validation loss : 0.0077]\n",
      "Epoch 4/6: 100%|██████████| 16/16 [00:05<00:00,  2.86it/s, Training loss : 0.0069, Validation loss : 0.0074]\n",
      "Epoch 5/6: 100%|██████████| 16/16 [00:05<00:00,  2.95it/s, Training loss : 0.0066, Validation loss : 0.0071]\n",
      "Epoch 6/6: 100%|██████████| 16/16 [00:05<00:00,  2.91it/s, Training loss : 0.0064, Validation loss : 0.0071]\n"
     ]
    },
    {
     "name": "stdout",
     "output_type": "stream",
     "text": [
      "Len of pop after selection : 5\n",
      "=== Generation 4/5\n",
      "Len of pop before manipulations : 5\n",
      "crossover created 4 offspring(s)\n",
      "mutation created 0 offspring(s)\n",
      "local search created 0 offspring(s)\n",
      "Len of pop after manipulations : 9\n",
      "Fitting individual 1/9 with genotype {'epochs': 2, 'epsilon': 0.04396850897725275, 'm_plus': 0.9735049784973449, 'm_minus': 0.0897061339071237, 'lambda_': 0.861614730544054, 'alpha': 0.006966142902110898, 'r': 2, 'no_of_conv_kernels': 128, 'no_of_primary_capsules': 32, 'no_of_secondary_capsules': 10, 'primary_capsule_vector': 8, 'secondary_capsule_vector': 16}\n"
     ]
    },
    {
     "name": "stderr",
     "output_type": "stream",
     "text": [
      "Epoch 1/2: 100%|██████████| 16/16 [00:08<00:00,  1.96it/s, Training loss : 0.0102, Validation loss : 0.0079]\n",
      "Epoch 2/2: 100%|██████████| 16/16 [00:04<00:00,  3.26it/s, Training loss : 0.0059, Validation loss : 0.0053]\n"
     ]
    },
    {
     "name": "stdout",
     "output_type": "stream",
     "text": [
      "Fitting individual 2/9 with genotype {'epochs': 7, 'epsilon': 0.09789414139078888, 'm_plus': 0.9106826717037543, 'm_minus': 0.07486185489862215, 'lambda_': 0.3587018449597835, 'alpha': 0.0009610380086155002, 'r': 3, 'no_of_conv_kernels': 128, 'no_of_primary_capsules': 32, 'no_of_secondary_capsules': 10, 'primary_capsule_vector': 8, 'secondary_capsule_vector': 16}\n"
     ]
    },
    {
     "name": "stderr",
     "output_type": "stream",
     "text": [
      "Epoch 1/7: 100%|██████████| 16/16 [00:10<00:00,  1.52it/s, Training loss : 0.0071, Validation loss : 0.0055]\n",
      "Epoch 2/7: 100%|██████████| 16/16 [00:05<00:00,  2.92it/s, Training loss : 0.0047, Validation loss : 0.0046]\n",
      "Epoch 3/7: 100%|██████████| 16/16 [00:05<00:00,  2.89it/s, Training loss : 0.0040, Validation loss : 0.0041]\n",
      "Epoch 4/7: 100%|██████████| 16/16 [00:05<00:00,  2.85it/s, Training loss : 0.0036, Validation loss : 0.0039]\n",
      "Epoch 5/7: 100%|██████████| 16/16 [00:05<00:00,  2.94it/s, Training loss : 0.0034, Validation loss : 0.0038]\n",
      "Epoch 6/7: 100%|██████████| 16/16 [00:05<00:00,  2.95it/s, Training loss : 0.0033, Validation loss : 0.0037]\n",
      "Epoch 7/7: 100%|██████████| 16/16 [00:05<00:00,  2.91it/s, Training loss : 0.0032, Validation loss : 0.0037]\n"
     ]
    },
    {
     "name": "stdout",
     "output_type": "stream",
     "text": [
      "Fitting individual 3/9 with genotype {'epochs': 9, 'epsilon': 0.03852998111497444, 'm_plus': 0.9692626619921689, 'm_minus': 0.1676171137929609, 'lambda_': 0.7818311229011558, 'alpha': 0.008671714160314812, 'r': 4, 'no_of_conv_kernels': 128, 'no_of_primary_capsules': 32, 'no_of_secondary_capsules': 10, 'primary_capsule_vector': 8, 'secondary_capsule_vector': 16}\n"
     ]
    },
    {
     "name": "stderr",
     "output_type": "stream",
     "text": [
      "Epoch 1/9: 100%|██████████| 16/16 [00:12<00:00,  1.24it/s, Training loss : 0.0069, Validation loss : 0.0045]\n",
      "Epoch 2/9: 100%|██████████| 16/16 [00:06<00:00,  2.57it/s, Training loss : 0.0030, Validation loss : 0.0031]\n",
      "Epoch 3/9: 100%|██████████| 16/16 [00:06<00:00,  2.50it/s, Training loss : 0.0020, Validation loss : 0.0023]\n",
      "Epoch 4/9: 100%|██████████| 16/16 [00:06<00:00,  2.57it/s, Training loss : 0.0014, Validation loss : 0.0019]\n",
      "Epoch 5/9: 100%|██████████| 16/16 [00:06<00:00,  2.49it/s, Training loss : 0.0010, Validation loss : 0.0016]\n",
      "Epoch 6/9: 100%|██████████| 16/16 [00:06<00:00,  2.61it/s, Training loss : 0.0008, Validation loss : 0.0015]\n",
      "Epoch 7/9: 100%|██████████| 16/16 [00:06<00:00,  2.60it/s, Training loss : 0.0006, Validation loss : 0.0014]\n",
      "Epoch 8/9: 100%|██████████| 16/16 [00:06<00:00,  2.55it/s, Training loss : 0.0005, Validation loss : 0.0013]\n",
      "Epoch 9/9: 100%|██████████| 16/16 [00:06<00:00,  2.55it/s]"
     ]
    },
    {
     "name": "stdout",
     "output_type": "stream",
     "text": [
      "Validation loss is not decreasing anymore, risk of overfitting the model after 9 epochs. The training will be stopped. This behavior can be modified by setting the early_stop property of the model to False\n"
     ]
    },
    {
     "name": "stderr",
     "output_type": "stream",
     "text": [
      "\n"
     ]
    },
    {
     "name": "stdout",
     "output_type": "stream",
     "text": [
      "Fitting individual 4/9 with genotype {'epochs': 6, 'epsilon': 0.0671315007235126, 'm_plus': 0.9520727816559904, 'm_minus': 0.13844241601163002, 'lambda_': 0.8062598441211444, 'alpha': 0.001336268145377756, 'r': 3, 'no_of_conv_kernels': 128, 'no_of_primary_capsules': 32, 'no_of_secondary_capsules': 10, 'primary_capsule_vector': 8, 'secondary_capsule_vector': 16}\n"
     ]
    },
    {
     "name": "stderr",
     "output_type": "stream",
     "text": [
      "Epoch 1/6: 100%|██████████| 16/16 [00:10<00:00,  1.51it/s, Training loss : 0.0074, Validation loss : 0.0058]\n",
      "Epoch 2/6: 100%|██████████| 16/16 [00:05<00:00,  2.85it/s, Training loss : 0.0043, Validation loss : 0.0043]\n",
      "Epoch 3/6: 100%|██████████| 16/16 [00:05<00:00,  2.88it/s, Training loss : 0.0032, Validation loss : 0.0036]\n",
      "Epoch 4/6: 100%|██████████| 16/16 [00:05<00:00,  2.89it/s, Training loss : 0.0027, Validation loss : 0.0033]\n",
      "Epoch 5/6: 100%|██████████| 16/16 [00:05<00:00,  2.83it/s, Training loss : 0.0024, Validation loss : 0.0031]\n",
      "Epoch 6/6: 100%|██████████| 16/16 [00:05<00:00,  2.87it/s, Training loss : 0.0022, Validation loss : 0.0029]\n"
     ]
    },
    {
     "name": "stdout",
     "output_type": "stream",
     "text": [
      "Fitting individual 5/9 with genotype {'epochs': 6, 'epsilon': 0.1, 'm_plus': 0.9348581822164361, 'm_minus': 0.05264258630247989, 'lambda_': 0.6006325253806463, 'alpha': 0.008017670686285326, 'r': 3, 'no_of_conv_kernels': 128, 'no_of_primary_capsules': 32, 'no_of_secondary_capsules': 10, 'primary_capsule_vector': 8, 'secondary_capsule_vector': 16}\n"
     ]
    },
    {
     "name": "stderr",
     "output_type": "stream",
     "text": [
      "Epoch 1/6: 100%|██████████| 16/16 [00:10<00:00,  1.52it/s, Training loss : 0.0119, Validation loss : 0.0119]\n",
      "Epoch 2/6: 100%|██████████| 16/16 [00:05<00:00,  2.82it/s, Training loss : 0.0119, Validation loss : 0.0119]\n",
      "Epoch 3/6: 100%|██████████| 16/16 [00:05<00:00,  2.82it/s, Training loss : 0.0119, Validation loss : 0.0119]\n",
      "Epoch 4/6: 100%|██████████| 16/16 [00:05<00:00,  2.87it/s, Training loss : 0.0119, Validation loss : 0.0119]\n",
      "Epoch 5/6: 100%|██████████| 16/16 [00:05<00:00,  2.80it/s, Training loss : 0.0119, Validation loss : 0.0119]\n",
      "Epoch 6/6: 100%|██████████| 16/16 [00:05<00:00,  2.88it/s, Training loss : 0.0119, Validation loss : 0.0119]\n"
     ]
    },
    {
     "name": "stdout",
     "output_type": "stream",
     "text": [
      "Fitting individual 6/9 with genotype {'epochs': 9, 'epsilon': 0.03852998111497444, 'm_plus': 0.9692626619921689, 'm_minus': 0.1676171137929609, 'lambda_': 0.8062598441211444, 'alpha': 0.001336268145377756, 'r': 3, 'no_of_conv_kernels': 128, 'no_of_primary_capsules': 32, 'no_of_secondary_capsules': 10, 'primary_capsule_vector': 8, 'secondary_capsule_vector': 16}\n"
     ]
    },
    {
     "name": "stderr",
     "output_type": "stream",
     "text": [
      "Epoch 1/9: 100%|██████████| 16/16 [00:10<00:00,  1.52it/s, Training loss : 0.0086, Validation loss : 0.0061]\n",
      "Epoch 2/9: 100%|██████████| 16/16 [00:06<00:00,  2.46it/s, Training loss : 0.0043, Validation loss : 0.0037]\n",
      "Epoch 3/9: 100%|██████████| 16/16 [00:05<00:00,  2.83it/s, Training loss : 0.0026, Validation loss : 0.0027]\n",
      "Epoch 4/9: 100%|██████████| 16/16 [00:05<00:00,  2.90it/s, Training loss : 0.0018, Validation loss : 0.0021]\n",
      "Epoch 5/9: 100%|██████████| 16/16 [00:05<00:00,  2.89it/s, Training loss : 0.0014, Validation loss : 0.0019]\n",
      "Epoch 6/9: 100%|██████████| 16/16 [00:05<00:00,  2.88it/s, Training loss : 0.0011, Validation loss : 0.0017]\n",
      "Epoch 7/9: 100%|██████████| 16/16 [00:05<00:00,  2.91it/s, Training loss : 0.0009, Validation loss : 0.0015]\n",
      "Epoch 8/9: 100%|██████████| 16/16 [00:05<00:00,  2.86it/s, Training loss : 0.0007, Validation loss : 0.0015]\n",
      "Epoch 9/9: 100%|██████████| 16/16 [00:05<00:00,  2.84it/s, Training loss : 0.0006, Validation loss : 0.0014]\n"
     ]
    },
    {
     "name": "stdout",
     "output_type": "stream",
     "text": [
      "Fitting individual 7/9 with genotype {'epochs': 6, 'epsilon': 0.0671315007235126, 'm_plus': 0.9520727816559904, 'm_minus': 0.13844241601163002, 'lambda_': 0.7818311229011558, 'alpha': 0.008671714160314812, 'r': 4, 'no_of_conv_kernels': 128, 'no_of_primary_capsules': 32, 'no_of_secondary_capsules': 10, 'primary_capsule_vector': 8, 'secondary_capsule_vector': 16}\n"
     ]
    },
    {
     "name": "stderr",
     "output_type": "stream",
     "text": [
      "Epoch 1/6: 100%|██████████| 16/16 [00:12<00:00,  1.25it/s, Training loss : 0.0071, Validation loss : 0.0054]\n",
      "Epoch 2/6: 100%|██████████| 16/16 [00:06<00:00,  2.52it/s, Training loss : 0.0043, Validation loss : 0.0043]\n",
      "Epoch 3/6: 100%|██████████| 16/16 [00:06<00:00,  2.56it/s, Training loss : 0.0032, Validation loss : 0.0036]\n",
      "Epoch 4/6: 100%|██████████| 16/16 [00:06<00:00,  2.49it/s, Training loss : 0.0027, Validation loss : 0.0033]\n",
      "Epoch 5/6: 100%|██████████| 16/16 [00:06<00:00,  2.58it/s, Training loss : 0.0024, Validation loss : 0.0030]\n",
      "Epoch 6/6: 100%|██████████| 16/16 [00:06<00:00,  2.61it/s, Training loss : 0.0022, Validation loss : 0.0030]\n"
     ]
    },
    {
     "name": "stdout",
     "output_type": "stream",
     "text": [
      "Fitting individual 8/9 with genotype {'epochs': 7, 'epsilon': 0.09789414139078888, 'm_plus': 0.9106826717037543, 'm_minus': 0.07486185489862215, 'lambda_': 0.3587018449597835, 'alpha': 0.0009610380086155002, 'r': 3, 'no_of_conv_kernels': 128, 'no_of_primary_capsules': 32, 'no_of_secondary_capsules': 10, 'primary_capsule_vector': 8, 'secondary_capsule_vector': 16}\n"
     ]
    },
    {
     "name": "stderr",
     "output_type": "stream",
     "text": [
      "Epoch 1/7: 100%|██████████| 16/16 [00:10<00:00,  1.52it/s, Training loss : 0.0072, Validation loss : 0.0055]\n",
      "Epoch 2/7: 100%|██████████| 16/16 [00:05<00:00,  2.83it/s, Training loss : 0.0047, Validation loss : 0.0046]\n",
      "Epoch 3/7: 100%|██████████| 16/16 [00:05<00:00,  2.78it/s, Training loss : 0.0039, Validation loss : 0.0041]\n",
      "Epoch 4/7: 100%|██████████| 16/16 [00:05<00:00,  2.82it/s, Training loss : 0.0036, Validation loss : 0.0039]\n",
      "Epoch 5/7: 100%|██████████| 16/16 [00:05<00:00,  2.87it/s, Training loss : 0.0034, Validation loss : 0.0037]\n",
      "Epoch 6/7: 100%|██████████| 16/16 [00:05<00:00,  2.87it/s, Training loss : 0.0032, Validation loss : 0.0037]\n",
      "Epoch 7/7: 100%|██████████| 16/16 [00:05<00:00,  2.74it/s, Training loss : 0.0031, Validation loss : 0.0036]\n"
     ]
    },
    {
     "name": "stdout",
     "output_type": "stream",
     "text": [
      "Fitting individual 9/9 with genotype {'epochs': 6, 'epsilon': 0.1, 'm_plus': 0.9348581822164361, 'm_minus': 0.05264258630247989, 'lambda_': 0.6006325253806463, 'alpha': 0.008017670686285326, 'r': 3, 'no_of_conv_kernels': 128, 'no_of_primary_capsules': 32, 'no_of_secondary_capsules': 10, 'primary_capsule_vector': 8, 'secondary_capsule_vector': 16}\n"
     ]
    },
    {
     "name": "stderr",
     "output_type": "stream",
     "text": [
      "Epoch 1/6: 100%|██████████| 16/16 [00:10<00:00,  1.52it/s, Training loss : 0.0110, Validation loss : 0.0096]\n",
      "Epoch 2/6: 100%|██████████| 16/16 [00:05<00:00,  2.91it/s, Training loss : 0.0085, Validation loss : 0.0083]\n",
      "Epoch 3/6: 100%|██████████| 16/16 [00:05<00:00,  2.85it/s, Training loss : 0.0074, Validation loss : 0.0076]\n",
      "Epoch 4/6: 100%|██████████| 16/16 [00:05<00:00,  2.81it/s, Training loss : 0.0069, Validation loss : 0.0073]\n",
      "Epoch 5/6: 100%|██████████| 16/16 [00:05<00:00,  2.90it/s, Training loss : 0.0066, Validation loss : 0.0071]\n",
      "Epoch 6/6: 100%|██████████| 16/16 [00:05<00:00,  2.85it/s, Training loss : 0.0064, Validation loss : 0.0070]\n"
     ]
    },
    {
     "name": "stdout",
     "output_type": "stream",
     "text": [
      "Len of pop after selection : 5\n",
      "=== Generation 5/5\n",
      "Len of pop before manipulations : 5\n",
      "crossover created 2 offspring(s)\n",
      "mutation created 0 offspring(s)\n",
      "local search created 2 offspring(s)\n",
      "Len of pop after manipulations : 9\n",
      "Fitting individual 1/9 with genotype {'epochs': 2, 'epsilon': 0.04396850897725275, 'm_plus': 0.9735049784973449, 'm_minus': 0.10520161634637776, 'lambda_': 0.861614730544054, 'alpha': 0.006966142902110898, 'r': 2, 'no_of_conv_kernels': 128, 'no_of_primary_capsules': 32, 'no_of_secondary_capsules': 10, 'primary_capsule_vector': 8, 'secondary_capsule_vector': 16}\n"
     ]
    },
    {
     "name": "stderr",
     "output_type": "stream",
     "text": [
      "Epoch 1/2: 100%|██████████| 16/16 [00:08<00:00,  1.88it/s, Training loss : 0.0092, Validation loss : 0.0070]\n",
      "Epoch 2/2: 100%|██████████| 16/16 [00:04<00:00,  3.26it/s, Training loss : 0.0053, Validation loss : 0.0050]\n"
     ]
    },
    {
     "name": "stdout",
     "output_type": "stream",
     "text": [
      "Fitting individual 2/9 with genotype {'epochs': 6, 'epsilon': 0.0671315007235126, 'm_plus': 0.9520727816559904, 'm_minus': 0.13844241601163002, 'lambda_': 0.8062598441211444, 'alpha': 0.001336268145377756, 'r': 3, 'no_of_conv_kernels': 128, 'no_of_primary_capsules': 32, 'no_of_secondary_capsules': 10, 'primary_capsule_vector': 8, 'secondary_capsule_vector': 16}\n"
     ]
    },
    {
     "name": "stderr",
     "output_type": "stream",
     "text": [
      "Epoch 1/6: 100%|██████████| 16/16 [00:10<00:00,  1.50it/s, Training loss : 0.0082, Validation loss : 0.0063]\n",
      "Epoch 2/6: 100%|██████████| 16/16 [00:05<00:00,  2.86it/s, Training loss : 0.0047, Validation loss : 0.0044]\n",
      "Epoch 3/6: 100%|██████████| 16/16 [00:05<00:00,  2.74it/s, Training loss : 0.0033, Validation loss : 0.0036]\n",
      "Epoch 4/6: 100%|██████████| 16/16 [00:05<00:00,  2.74it/s, Training loss : 0.0028, Validation loss : 0.0033]\n",
      "Epoch 5/6: 100%|██████████| 16/16 [00:05<00:00,  2.83it/s, Training loss : 0.0025, Validation loss : 0.0031]\n",
      "Epoch 6/6: 100%|██████████| 16/16 [00:05<00:00,  2.85it/s, Training loss : 0.0022, Validation loss : 0.0030]\n"
     ]
    },
    {
     "name": "stdout",
     "output_type": "stream",
     "text": [
      "Fitting individual 3/9 with genotype {'epochs': 7, 'epsilon': 0.1, 'm_plus': 0.9106826717037543, 'm_minus': 0.07486185489862215, 'lambda_': 0.3587018449597835, 'alpha': 0.0009610380086155002, 'r': 3, 'no_of_conv_kernels': 128, 'no_of_primary_capsules': 32, 'no_of_secondary_capsules': 10, 'primary_capsule_vector': 8, 'secondary_capsule_vector': 16}\n"
     ]
    },
    {
     "name": "stderr",
     "output_type": "stream",
     "text": [
      "Epoch 1/7: 100%|██████████| 16/16 [00:10<00:00,  1.51it/s, Training loss : 0.0079, Validation loss : 0.0062]\n",
      "Epoch 2/7: 100%|██████████| 16/16 [00:05<00:00,  2.76it/s, Training loss : 0.0052, Validation loss : 0.0048]\n",
      "Epoch 3/7: 100%|██████████| 16/16 [00:05<00:00,  2.80it/s, Training loss : 0.0041, Validation loss : 0.0042]\n",
      "Epoch 4/7: 100%|██████████| 16/16 [00:05<00:00,  2.85it/s, Training loss : 0.0037, Validation loss : 0.0040]\n",
      "Epoch 5/7: 100%|██████████| 16/16 [00:05<00:00,  2.88it/s, Training loss : 0.0034, Validation loss : 0.0038]\n",
      "Epoch 6/7: 100%|██████████| 16/16 [00:05<00:00,  2.86it/s, Training loss : 0.0033, Validation loss : 0.0037]\n",
      "Epoch 7/7: 100%|██████████| 16/16 [00:05<00:00,  2.88it/s, Training loss : 0.0032, Validation loss : 0.0037]\n"
     ]
    },
    {
     "name": "stdout",
     "output_type": "stream",
     "text": [
      "Fitting individual 4/9 with genotype {'epochs': 6, 'epsilon': 0.1, 'm_plus': 0.9348581822164361, 'm_minus': 0.05264258630247989, 'lambda_': 0.6006325253806463, 'alpha': 0.008017670686285326, 'r': 3, 'no_of_conv_kernels': 128, 'no_of_primary_capsules': 32, 'no_of_secondary_capsules': 10, 'primary_capsule_vector': 8, 'secondary_capsule_vector': 16}\n"
     ]
    },
    {
     "name": "stderr",
     "output_type": "stream",
     "text": [
      "Epoch 1/6: 100%|██████████| 16/16 [00:10<00:00,  1.50it/s, Training loss : 0.0118, Validation loss : 0.0116]\n",
      "Epoch 2/6: 100%|██████████| 16/16 [00:05<00:00,  2.82it/s, Training loss : 0.0101, Validation loss : 0.0093]\n",
      "Epoch 3/6: 100%|██████████| 16/16 [00:05<00:00,  2.89it/s, Training loss : 0.0082, Validation loss : 0.0079]\n",
      "Epoch 4/6: 100%|██████████| 16/16 [00:05<00:00,  2.86it/s, Training loss : 0.0072, Validation loss : 0.0075]\n",
      "Epoch 5/6: 100%|██████████| 16/16 [00:05<00:00,  2.86it/s, Training loss : 0.0067, Validation loss : 0.0072]\n",
      "Epoch 6/6: 100%|██████████| 16/16 [00:05<00:00,  2.84it/s, Training loss : 0.0065, Validation loss : 0.0070]\n"
     ]
    },
    {
     "name": "stdout",
     "output_type": "stream",
     "text": [
      "Fitting individual 5/9 with genotype {'epochs': 9, 'epsilon': 0.03852998111497444, 'm_plus': 0.9692626619921689, 'm_minus': 0.1676171137929609, 'lambda_': 0.7818311229011558, 'alpha': 0.008671714160314812, 'r': 4, 'no_of_conv_kernels': 128, 'no_of_primary_capsules': 32, 'no_of_secondary_capsules': 10, 'primary_capsule_vector': 8, 'secondary_capsule_vector': 16}\n"
     ]
    },
    {
     "name": "stderr",
     "output_type": "stream",
     "text": [
      "Epoch 1/9: 100%|██████████| 16/16 [00:12<00:00,  1.25it/s, Training loss : 0.0090, Validation loss : 0.0068]\n",
      "Epoch 2/9: 100%|██████████| 16/16 [00:06<00:00,  2.54it/s, Training loss : 0.0047, Validation loss : 0.0039]\n",
      "Epoch 3/9: 100%|██████████| 16/16 [00:06<00:00,  2.55it/s, Training loss : 0.0028, Validation loss : 0.0029]\n",
      "Epoch 4/9: 100%|██████████| 16/16 [00:06<00:00,  2.46it/s, Training loss : 0.0020, Validation loss : 0.0024]\n",
      "Epoch 5/9: 100%|██████████| 16/16 [00:06<00:00,  2.52it/s, Training loss : 0.0015, Validation loss : 0.0019]\n",
      "Epoch 6/9: 100%|██████████| 16/16 [00:06<00:00,  2.57it/s, Training loss : 0.0011, Validation loss : 0.0017]\n",
      "Epoch 7/9: 100%|██████████| 16/16 [00:06<00:00,  2.50it/s, Training loss : 0.0009, Validation loss : 0.0016]\n",
      "Epoch 8/9: 100%|██████████| 16/16 [00:06<00:00,  2.54it/s, Training loss : 0.0008, Validation loss : 0.0015]\n",
      "Epoch 9/9: 100%|██████████| 16/16 [00:06<00:00,  2.55it/s, Training loss : 0.0006, Validation loss : 0.0014]\n"
     ]
    },
    {
     "name": "stdout",
     "output_type": "stream",
     "text": [
      "Fitting individual 6/9 with genotype {'epochs': 9, 'epsilon': 0.03852998111497444, 'm_plus': 0.9692626619921689, 'm_minus': 0.07486185489862215, 'lambda_': 0.3587018449597835, 'alpha': 0.0009610380086155002, 'r': 3, 'no_of_conv_kernels': 128, 'no_of_primary_capsules': 32, 'no_of_secondary_capsules': 10, 'primary_capsule_vector': 8, 'secondary_capsule_vector': 16}\n"
     ]
    },
    {
     "name": "stderr",
     "output_type": "stream",
     "text": [
      "Epoch 1/9: 100%|██████████| 16/16 [00:10<00:00,  1.50it/s, Training loss : 0.0076, Validation loss : 0.0049]\n",
      "Epoch 2/9: 100%|██████████| 16/16 [00:05<00:00,  2.86it/s, Training loss : 0.0037, Validation loss : 0.0035]\n",
      "Epoch 3/9: 100%|██████████| 16/16 [00:05<00:00,  2.76it/s, Training loss : 0.0026, Validation loss : 0.0029]\n",
      "Epoch 4/9: 100%|██████████| 16/16 [00:05<00:00,  2.83it/s, Training loss : 0.0020, Validation loss : 0.0025]\n",
      "Epoch 5/9: 100%|██████████| 16/16 [00:05<00:00,  2.87it/s, Training loss : 0.0017, Validation loss : 0.0022]\n",
      "Epoch 6/9: 100%|██████████| 16/16 [00:05<00:00,  2.83it/s, Training loss : 0.0015, Validation loss : 0.0021]\n",
      "Epoch 7/9: 100%|██████████| 16/16 [00:05<00:00,  2.87it/s, Training loss : 0.0013, Validation loss : 0.0020]\n",
      "Epoch 8/9: 100%|██████████| 16/16 [00:05<00:00,  2.83it/s, Training loss : 0.0012, Validation loss : 0.0020]\n",
      "Epoch 9/9: 100%|██████████| 16/16 [00:05<00:00,  2.82it/s, Training loss : 0.0012, Validation loss : 0.0019]\n"
     ]
    },
    {
     "name": "stdout",
     "output_type": "stream",
     "text": [
      "Fitting individual 7/9 with genotype {'epochs': 7, 'epsilon': 0.09789414139078888, 'm_plus': 0.9106826717037543, 'm_minus': 0.1676171137929609, 'lambda_': 0.7818311229011558, 'alpha': 0.008671714160314812, 'r': 4, 'no_of_conv_kernels': 128, 'no_of_primary_capsules': 32, 'no_of_secondary_capsules': 10, 'primary_capsule_vector': 8, 'secondary_capsule_vector': 16}\n"
     ]
    },
    {
     "name": "stderr",
     "output_type": "stream",
     "text": [
      "Epoch 1/7: 100%|██████████| 16/16 [00:12<00:00,  1.27it/s, Training loss : 0.0080, Validation loss : 0.0079]\n",
      "Epoch 2/7: 100%|██████████| 16/16 [00:06<00:00,  2.62it/s, Training loss : 0.0076, Validation loss : 0.0069]\n",
      "Epoch 3/7: 100%|██████████| 16/16 [00:06<00:00,  2.54it/s, Training loss : 0.0059, Validation loss : 0.0058]\n",
      "Epoch 4/7: 100%|██████████| 16/16 [00:06<00:00,  2.54it/s, Training loss : 0.0048, Validation loss : 0.0048]\n",
      "Epoch 5/7: 100%|██████████| 16/16 [00:06<00:00,  2.53it/s, Training loss : 0.0039, Validation loss : 0.0040]\n",
      "Epoch 6/7: 100%|██████████| 16/16 [00:06<00:00,  2.50it/s, Training loss : 0.0033, Validation loss : 0.0036]\n",
      "Epoch 7/7: 100%|██████████| 16/16 [00:06<00:00,  2.48it/s, Training loss : 0.0030, Validation loss : 0.0035]\n"
     ]
    },
    {
     "name": "stdout",
     "output_type": "stream",
     "text": [
      "Fitting individual 8/9 with genotype {'epochs': 2, 'epsilon': 0.04396850897725275, 'm_plus': 0.9735049784973449, 'm_minus': 0.10520161634637776, 'lambda_': 0.861614730544054, 'alpha': 0.006966142902110898, 'r': 2, 'no_of_conv_kernels': 128, 'no_of_primary_capsules': 32, 'no_of_secondary_capsules': 10, 'primary_capsule_vector': 8, 'secondary_capsule_vector': 16}\n"
     ]
    },
    {
     "name": "stderr",
     "output_type": "stream",
     "text": [
      "Epoch 1/2: 100%|██████████| 16/16 [00:08<00:00,  1.99it/s, Training loss : 0.0088, Validation loss : 0.0062]\n",
      "Epoch 2/2: 100%|██████████| 16/16 [00:04<00:00,  3.28it/s, Training loss : 0.0047, Validation loss : 0.0046]\n"
     ]
    },
    {
     "name": "stdout",
     "output_type": "stream",
     "text": [
      "Fitting individual 9/9 with genotype {'epochs': 7, 'epsilon': 0.1, 'm_plus': 0.9106826717037543, 'm_minus': 0.07486185489862215, 'lambda_': 0.3587018449597835, 'alpha': 0.0009610380086155002, 'r': 3, 'no_of_conv_kernels': 128, 'no_of_primary_capsules': 32, 'no_of_secondary_capsules': 10, 'primary_capsule_vector': 8, 'secondary_capsule_vector': 16}\n"
     ]
    },
    {
     "name": "stderr",
     "output_type": "stream",
     "text": [
      "Epoch 1/7: 100%|██████████| 16/16 [00:11<00:00,  1.43it/s, Training loss : 0.0069, Validation loss : 0.0055]\n",
      "Epoch 2/7: 100%|██████████| 16/16 [00:05<00:00,  2.90it/s, Training loss : 0.0047, Validation loss : 0.0046]\n",
      "Epoch 3/7: 100%|██████████| 16/16 [00:05<00:00,  2.85it/s, Training loss : 0.0040, Validation loss : 0.0042]\n",
      "Epoch 4/7: 100%|██████████| 16/16 [00:05<00:00,  2.86it/s, Training loss : 0.0036, Validation loss : 0.0040]\n",
      "Epoch 5/7: 100%|██████████| 16/16 [00:05<00:00,  2.92it/s, Training loss : 0.0034, Validation loss : 0.0039]\n",
      "Epoch 6/7: 100%|██████████| 16/16 [00:05<00:00,  2.93it/s, Training loss : 0.0033, Validation loss : 0.0038]\n",
      "Epoch 7/7: 100%|██████████| 16/16 [00:05<00:00,  2.81it/s, Training loss : 0.0032, Validation loss : 0.0037]\n"
     ]
    },
    {
     "name": "stdout",
     "output_type": "stream",
     "text": [
      "Len of pop after selection : 5\n",
      "Fitting individual 1/5 with genotype {'epochs': 2, 'epsilon': 0.04396850897725275, 'm_plus': 0.9735049784973449, 'm_minus': 0.10520161634637776, 'lambda_': 0.861614730544054, 'alpha': 0.006966142902110898, 'r': 2, 'no_of_conv_kernels': 128, 'no_of_primary_capsules': 32, 'no_of_secondary_capsules': 10, 'primary_capsule_vector': 8, 'secondary_capsule_vector': 16}\n"
     ]
    },
    {
     "name": "stderr",
     "output_type": "stream",
     "text": [
      "Epoch 1/2: 100%|██████████| 16/16 [00:08<00:00,  1.94it/s, Training loss : 0.0084, Validation loss : 0.0059]\n",
      "Epoch 2/2: 100%|██████████| 16/16 [00:04<00:00,  3.31it/s, Training loss : 0.0045, Validation loss : 0.0045]\n"
     ]
    },
    {
     "name": "stdout",
     "output_type": "stream",
     "text": [
      "Fitting individual 2/5 with genotype {'epochs': 6, 'epsilon': 0.0671315007235126, 'm_plus': 0.9520727816559904, 'm_minus': 0.13844241601163002, 'lambda_': 0.8062598441211444, 'alpha': 0.001336268145377756, 'r': 3, 'no_of_conv_kernels': 128, 'no_of_primary_capsules': 32, 'no_of_secondary_capsules': 10, 'primary_capsule_vector': 8, 'secondary_capsule_vector': 16}\n"
     ]
    },
    {
     "name": "stderr",
     "output_type": "stream",
     "text": [
      "Epoch 1/6: 100%|██████████| 16/16 [00:10<00:00,  1.49it/s, Training loss : 0.0072, Validation loss : 0.0056]\n",
      "Epoch 2/6: 100%|██████████| 16/16 [00:05<00:00,  2.84it/s, Training loss : 0.0043, Validation loss : 0.0042]\n",
      "Epoch 3/6: 100%|██████████| 16/16 [00:05<00:00,  2.98it/s, Training loss : 0.0032, Validation loss : 0.0036]\n",
      "Epoch 4/6: 100%|██████████| 16/16 [00:05<00:00,  2.96it/s, Training loss : 0.0027, Validation loss : 0.0033]\n",
      "Epoch 5/6: 100%|██████████| 16/16 [00:05<00:00,  2.90it/s, Training loss : 0.0025, Validation loss : 0.0030]\n",
      "Epoch 6/6: 100%|██████████| 16/16 [00:05<00:00,  2.98it/s, Training loss : 0.0023, Validation loss : 0.0030]\n"
     ]
    },
    {
     "name": "stdout",
     "output_type": "stream",
     "text": [
      "Fitting individual 3/5 with genotype {'epochs': 7, 'epsilon': 0.1, 'm_plus': 0.9106826717037543, 'm_minus': 0.07486185489862215, 'lambda_': 0.3587018449597835, 'alpha': 0.0009610380086155002, 'r': 3, 'no_of_conv_kernels': 128, 'no_of_primary_capsules': 32, 'no_of_secondary_capsules': 10, 'primary_capsule_vector': 8, 'secondary_capsule_vector': 16}\n"
     ]
    },
    {
     "name": "stderr",
     "output_type": "stream",
     "text": [
      "Epoch 1/7: 100%|██████████| 16/16 [00:10<00:00,  1.56it/s, Training loss : 0.0072, Validation loss : 0.0056]\n",
      "Epoch 2/7: 100%|██████████| 16/16 [00:05<00:00,  2.85it/s, Training loss : 0.0048, Validation loss : 0.0047]\n",
      "Epoch 3/7: 100%|██████████| 16/16 [00:06<00:00,  2.58it/s, Training loss : 0.0040, Validation loss : 0.0042]\n",
      "Epoch 4/7: 100%|██████████| 16/16 [00:05<00:00,  2.91it/s, Training loss : 0.0037, Validation loss : 0.0040]\n",
      "Epoch 5/7: 100%|██████████| 16/16 [00:05<00:00,  2.91it/s, Training loss : 0.0035, Validation loss : 0.0039]\n",
      "Epoch 6/7: 100%|██████████| 16/16 [00:05<00:00,  2.93it/s, Training loss : 0.0033, Validation loss : 0.0038]\n",
      "Epoch 7/7: 100%|██████████| 16/16 [00:05<00:00,  2.92it/s, Training loss : 0.0032, Validation loss : 0.0038]\n"
     ]
    },
    {
     "name": "stdout",
     "output_type": "stream",
     "text": [
      "Fitting individual 4/5 with genotype {'epochs': 6, 'epsilon': 0.1, 'm_plus': 0.9348581822164361, 'm_minus': 0.05264258630247989, 'lambda_': 0.6006325253806463, 'alpha': 0.008017670686285326, 'r': 3, 'no_of_conv_kernels': 128, 'no_of_primary_capsules': 32, 'no_of_secondary_capsules': 10, 'primary_capsule_vector': 8, 'secondary_capsule_vector': 16}\n"
     ]
    },
    {
     "name": "stderr",
     "output_type": "stream",
     "text": [
      "Epoch 1/6: 100%|██████████| 16/16 [00:10<00:00,  1.50it/s, Training loss : 0.0113, Validation loss : 0.0100]\n",
      "Epoch 2/6: 100%|██████████| 16/16 [00:05<00:00,  2.73it/s, Training loss : 0.0087, Validation loss : 0.0085]\n",
      "Epoch 3/6: 100%|██████████| 16/16 [00:05<00:00,  2.88it/s, Training loss : 0.0075, Validation loss : 0.0078]\n",
      "Epoch 4/6: 100%|██████████| 16/16 [00:05<00:00,  2.80it/s, Training loss : 0.0069, Validation loss : 0.0073]\n",
      "Epoch 5/6: 100%|██████████| 16/16 [00:05<00:00,  2.90it/s, Training loss : 0.0066, Validation loss : 0.0071]\n",
      "Epoch 6/6: 100%|██████████| 16/16 [00:05<00:00,  2.88it/s, Training loss : 0.0064, Validation loss : 0.0070]\n"
     ]
    },
    {
     "name": "stdout",
     "output_type": "stream",
     "text": [
      "Fitting individual 5/5 with genotype {'epochs': 9, 'epsilon': 0.03852998111497444, 'm_plus': 0.9692626619921689, 'm_minus': 0.1676171137929609, 'lambda_': 0.7818311229011558, 'alpha': 0.008671714160314812, 'r': 4, 'no_of_conv_kernels': 128, 'no_of_primary_capsules': 32, 'no_of_secondary_capsules': 10, 'primary_capsule_vector': 8, 'secondary_capsule_vector': 16}\n"
     ]
    },
    {
     "name": "stderr",
     "output_type": "stream",
     "text": [
      "Epoch 1/9: 100%|██████████| 16/16 [00:12<00:00,  1.25it/s, Training loss : 0.0069, Validation loss : 0.0045]\n",
      "Epoch 2/9: 100%|██████████| 16/16 [00:06<00:00,  2.63it/s, Training loss : 0.0032, Validation loss : 0.0031]\n",
      "Epoch 3/9: 100%|██████████| 16/16 [00:06<00:00,  2.49it/s, Training loss : 0.0020, Validation loss : 0.0023]\n",
      "Epoch 4/9: 100%|██████████| 16/16 [00:06<00:00,  2.50it/s, Training loss : 0.0014, Validation loss : 0.0019]\n",
      "Epoch 5/9: 100%|██████████| 16/16 [00:06<00:00,  2.56it/s, Training loss : 0.0011, Validation loss : 0.0016]\n",
      "Epoch 6/9: 100%|██████████| 16/16 [00:06<00:00,  2.50it/s, Training loss : 0.0008, Validation loss : 0.0015]\n",
      "Epoch 7/9: 100%|██████████| 16/16 [00:06<00:00,  2.58it/s, Training loss : 0.0006, Validation loss : 0.0014]\n",
      "Epoch 8/9: 100%|██████████| 16/16 [00:06<00:00,  2.55it/s]"
     ]
    },
    {
     "name": "stdout",
     "output_type": "stream",
     "text": [
      "Validation loss is not decreasing anymore, risk of overfitting the model after 8 epochs. The training will be stopped. This behavior can be modified by setting the early_stop property of the model to False\n"
     ]
    },
    {
     "name": "stderr",
     "output_type": "stream",
     "text": [
      "\n"
     ]
    },
    {
     "name": "stdout",
     "output_type": "stream",
     "text": [
      "Saving GA metrics under nas_mnist_1/generations_metrics.png\n",
      "Optimal solution(s):\n",
      "[[2.00000000e+00 4.39685090e-02 9.73504978e-01 1.05201616e-01\n",
      "  8.61614731e-01 6.96614290e-03 2.00000000e+00]\n",
      " [7.00000000e+00 1.00000000e-01 9.10682672e-01 7.48618549e-02\n",
      "  3.58701845e-01 9.61038009e-04 3.00000000e+00]]\n",
      "______________\n",
      "Fitness values:\n",
      "  Inference    Accuracy\n",
      "[[5.45433021 0.89648438]\n",
      " [8.17720604 0.95507812]]\n",
      "=== GA done : 2023-07-17 14:50:55.338721 ===\n",
      "Saving GA solutions under nas_mnist_1/solutions_metrics.png\n"
     ]
    },
    {
     "data": {
      "image/png": "[encoded data removed]",
      "text/plain": [
       "<Figure size 640x480 with 1 Axes>"
      ]
     },
     "metadata": {},
     "output_type": "display_data"
    },
    {
     "data": {
      "image/png": "[encoded data removed]",
      "text/plain": [
       "<Figure size 640x480 with 1 Axes>"
      ]
     },
     "metadata": {},
     "output_type": "display_data"
    }
   ],
   "source": [
    "(X_train, y_train), (X_test , y_test) = load_mnist(size=(1024, 512))\n",
    "\n",
    "params = {\n",
    "    \"name\": 'nas_mnist_1',\n",
    "    'n_gen': 5,\n",
    "    'pop_size': 5,\n",
    "    'rate_crossover': 0.7,\n",
    "    'rate_mutation': 0.1,\n",
    "    'rate_local_search': 0.5,\n",
    "    'step_size': 0.1,\n",
    "    'train_data': (X_train, y_train),\n",
    "    'test_data': (X_test, y_test)\n",
    "}\n",
    "\n",
    "nas = Nsga_II(**params)\n",
    "\n",
    "if nas.valid:\n",
    "    nas.optimise()"
   ]
  }
 ],
 "metadata": {
  "kernelspec": {
   "display_name": "capsnet",
   "language": "python",
   "name": "python3"
  },
  "language_info": {
   "codemirror_mode": {
    "name": "ipython",
    "version": 3
   },
   "file_extension": ".py",
   "mimetype": "text/x-python",
   "name": "python",
   "nbconvert_exporter": "python",
   "pygments_lexer": "ipython3",
   "version": "3.10.11"
  },
  "orig_nbformat": 4
 },
 "nbformat": 4,
 "nbformat_minor": 2
}

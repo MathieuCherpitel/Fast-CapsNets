{
 "cells": [
  {
   "attachments": {},
   "cell_type": "markdown",
   "metadata": {},
   "source": [
    "# NAS on CapsNet on MNIST dataset"
   ]
  },
  {
   "attachments": {},
   "cell_type": "markdown",
   "metadata": {},
   "source": [
    "> Focusing on inference time and accuracy"
   ]
  },
  {
   "cell_type": "code",
   "execution_count": 1,
   "metadata": {},
   "outputs": [],
   "source": [
    "# Setting PATH to import CapsNet class from python file to notebook\n",
    "\n",
    "import os\n",
    "import sys\n",
    "directory_path = os.path.abspath(os.path.join('../src'))\n",
    "if directory_path not in sys.path:\n",
    "    sys.path.append(directory_path)\n",
    "\n",
    "from NsgaII import Nsga_II\n",
    "from utils.load_data import load_mnist"
   ]
  },
  {
   "cell_type": "code",
   "execution_count": 2,
   "metadata": {},
   "outputs": [
    {
     "name": "stdout",
     "output_type": "stream",
     "text": [
      "A ga has been saved under the same name (nas_mnist_1) replace ?\n",
      "=== Generation 1/2\n",
      "Len of pop before manipulations : 5\n",
      "crossover created 2 offspring(s)\n",
      "mutation created 2 offspring(s)\n",
      "local search created 2 offspring(s)\n",
      "Len of pop after manipulations : 11\n",
      "Fitting individual 1/11 with genotype {'epochs': 1, 'epsilon': 0.03657531778319422, 'm_plus': 0.964681280848214, 'm_minus': 0.08669059511309292, 'lambda_': 0.6952010353041198, 'alpha': 0.005967397084958852, 'r': 2, 'no_of_conv_kernels': 128, 'no_of_primary_capsules': 32, 'no_of_secondary_capsules': 10, 'primary_capsule_vector': 8, 'secondary_capsule_vector': 16}\n"
     ]
    },
    {
     "name": "stderr",
     "output_type": "stream",
     "text": [
      "Epoch 1/1:   0%|          | 0/16 [00:00<?, ?it/s]2023-07-18 12:44:38.980641: W tensorflow/tsl/platform/profile_utils/cpu_utils.cc:128] Failed to get CPU frequency: 0 Hz\n",
      "Epoch 1/1: 100%|██████████| 16/16 [00:08<00:00,  1.89it/s, Training loss : 0.0084, Validation loss : 0.0057]\n"
     ]
    },
    {
     "name": "stdout",
     "output_type": "stream",
     "text": [
      "Fitting individual 2/11 with genotype {'epochs': 3, 'epsilon': 0.0761944535388495, 'm_plus': 0.957919513474093, 'm_minus': 0.17665721692644792, 'lambda_': 0.5039795372003821, 'alpha': 0.004786268296225676, 'r': 3, 'no_of_conv_kernels': 128, 'no_of_primary_capsules': 32, 'no_of_secondary_capsules': 10, 'primary_capsule_vector': 8, 'secondary_capsule_vector': 16}\n"
     ]
    },
    {
     "name": "stderr",
     "output_type": "stream",
     "text": [
      "Epoch 1/3: 100%|██████████| 16/16 [00:10<00:00,  1.60it/s, Training loss : 0.0060, Validation loss : 0.0040]\n",
      "Epoch 2/3: 100%|██████████| 16/16 [00:05<00:00,  3.08it/s, Training loss : 0.0029, Validation loss : 0.0029]\n",
      "Epoch 3/3: 100%|██████████| 16/16 [00:05<00:00,  3.09it/s, Training loss : 0.0021, Validation loss : 0.0023]\n"
     ]
    },
    {
     "name": "stdout",
     "output_type": "stream",
     "text": [
      "Fitting individual 3/11 with genotype {'epochs': 2, 'epsilon': 0.09611588142657064, 'm_plus': 0.949421381680305, 'm_minus': 0.13197605261889211, 'lambda_': 0.6985383875267552, 'alpha': 0.007186060881650742, 'r': 4, 'no_of_conv_kernels': 128, 'no_of_primary_capsules': 32, 'no_of_secondary_capsules': 10, 'primary_capsule_vector': 8, 'secondary_capsule_vector': 16}\n"
     ]
    },
    {
     "name": "stderr",
     "output_type": "stream",
     "text": [
      "Epoch 1/2: 100%|██████████| 16/16 [00:12<00:00,  1.30it/s, Training loss : 0.0089, Validation loss : 0.0077]\n",
      "Epoch 2/2: 100%|██████████| 16/16 [00:05<00:00,  2.72it/s, Training loss : 0.0063, Validation loss : 0.0060]\n"
     ]
    },
    {
     "name": "stdout",
     "output_type": "stream",
     "text": [
      "Fitting individual 4/11 with genotype {'epochs': 7, 'epsilon': 0.0947299196793775, 'm_plus': 0.923801097556742, 'm_minus': 0.14968884485670436, 'lambda_': 0.8767845829638741, 'alpha': 0.0001, 'r': 4, 'no_of_conv_kernels': 128, 'no_of_primary_capsules': 32, 'no_of_secondary_capsules': 10, 'primary_capsule_vector': 8, 'secondary_capsule_vector': 16}\n"
     ]
    },
    {
     "name": "stderr",
     "output_type": "stream",
     "text": [
      "Epoch 1/7: 100%|██████████| 16/16 [00:12<00:00,  1.30it/s, Training loss : 0.0082, Validation loss : 0.0070]\n",
      "Epoch 2/7: 100%|██████████| 16/16 [00:05<00:00,  2.72it/s, Training loss : 0.0057, Validation loss : 0.0053]\n",
      "Epoch 3/7: 100%|██████████| 16/16 [00:05<00:00,  2.78it/s, Training loss : 0.0045, Validation loss : 0.0047]\n",
      "Epoch 4/7: 100%|██████████| 16/16 [00:05<00:00,  2.74it/s, Training loss : 0.0039, Validation loss : 0.0044]\n",
      "Epoch 5/7: 100%|██████████| 16/16 [00:05<00:00,  2.73it/s, Training loss : 0.0037, Validation loss : 0.0042]\n",
      "Epoch 6/7: 100%|██████████| 16/16 [00:05<00:00,  2.77it/s, Training loss : 0.0035, Validation loss : 0.0042]\n",
      "Epoch 7/7: 100%|██████████| 16/16 [00:05<00:00,  2.76it/s, Training loss : 0.0034, Validation loss : 0.0041]\n"
     ]
    },
    {
     "name": "stdout",
     "output_type": "stream",
     "text": [
      "Fitting individual 5/11 with genotype {'epochs': 4, 'epsilon': 0.0775483123631962, 'm_plus': 0.9663077239404928, 'm_minus': 0.1001741974705247, 'lambda_': 0.13295857263460303, 'alpha': 0.0039842034359483525, 'r': 2, 'no_of_conv_kernels': 128, 'no_of_primary_capsules': 32, 'no_of_secondary_capsules': 10, 'primary_capsule_vector': 8, 'secondary_capsule_vector': 16}\n"
     ]
    },
    {
     "name": "stderr",
     "output_type": "stream",
     "text": [
      "Epoch 1/4: 100%|██████████| 16/16 [00:07<00:00,  2.02it/s, Training loss : 0.0046, Validation loss : 0.0028]\n",
      "Epoch 2/4: 100%|██████████| 16/16 [00:04<00:00,  3.48it/s, Training loss : 0.0021, Validation loss : 0.0021]\n",
      "Epoch 3/4: 100%|██████████| 16/16 [00:04<00:00,  3.50it/s, Training loss : 0.0017, Validation loss : 0.0018]\n",
      "Epoch 4/4: 100%|██████████| 16/16 [00:04<00:00,  3.52it/s, Training loss : 0.0013, Validation loss : 0.0016]\n"
     ]
    },
    {
     "name": "stdout",
     "output_type": "stream",
     "text": [
      "Fitting individual 6/11 with genotype {'epochs': 4, 'epsilon': 0.0775483123631962, 'm_plus': 0.949421381680305, 'm_minus': 0.08669059511309292, 'lambda_': 0.6952010353041198, 'alpha': 0.005967397084958852, 'r': 2, 'no_of_conv_kernels': 128, 'no_of_primary_capsules': 32, 'no_of_secondary_capsules': 10, 'primary_capsule_vector': 8, 'secondary_capsule_vector': 16}\n"
     ]
    },
    {
     "name": "stderr",
     "output_type": "stream",
     "text": [
      "Epoch 1/4: 100%|██████████| 16/16 [00:07<00:00,  2.02it/s, Training loss : 0.0092, Validation loss : 0.0074]\n",
      "Epoch 2/4: 100%|██████████| 16/16 [00:04<00:00,  3.45it/s, Training loss : 0.0063, Validation loss : 0.0062]\n",
      "Epoch 3/4: 100%|██████████| 16/16 [00:04<00:00,  3.50it/s, Training loss : 0.0052, Validation loss : 0.0055]\n",
      "Epoch 4/4: 100%|██████████| 16/16 [00:04<00:00,  3.55it/s, Training loss : 0.0047, Validation loss : 0.0052]\n"
     ]
    },
    {
     "name": "stdout",
     "output_type": "stream",
     "text": [
      "Fitting individual 7/11 with genotype {'epochs': 1, 'epsilon': 0.03657531778319422, 'm_plus': 0.964681280848214, 'm_minus': 0.1001741974705247, 'lambda_': 0.13295857263460303, 'alpha': 0.0039842034359483525, 'r': 2, 'no_of_conv_kernels': 128, 'no_of_primary_capsules': 32, 'no_of_secondary_capsules': 10, 'primary_capsule_vector': 8, 'secondary_capsule_vector': 16}\n"
     ]
    },
    {
     "name": "stderr",
     "output_type": "stream",
     "text": [
      "Epoch 1/1: 100%|██████████| 16/16 [00:07<00:00,  2.04it/s, Training loss : 0.0049, Validation loss : 0.0025]\n"
     ]
    },
    {
     "name": "stdout",
     "output_type": "stream",
     "text": [
      "Fitting individual 8/11 with genotype {'epochs': 2, 'epsilon': 0.09611588142657064, 'm_plus': 0.949421381680305, 'm_minus': 0.13197605261889211, 'lambda_': 0.6985383875267552, 'alpha': 0.007186060881650742, 'r': 4, 'no_of_conv_kernels': 128, 'no_of_primary_capsules': 32, 'no_of_secondary_capsules': 10, 'primary_capsule_vector': 8, 'secondary_capsule_vector': 16}\n"
     ]
    },
    {
     "name": "stderr",
     "output_type": "stream",
     "text": [
      "Epoch 1/2: 100%|██████████| 16/16 [00:12<00:00,  1.30it/s, Training loss : 0.0091, Validation loss : 0.0081]\n",
      "Epoch 2/2: 100%|██████████| 16/16 [00:05<00:00,  2.76it/s, Training loss : 0.0072, Validation loss : 0.0066]\n"
     ]
    },
    {
     "name": "stdout",
     "output_type": "stream",
     "text": [
      "Fitting individual 9/11 with genotype {'epochs': 4, 'epsilon': 0.0775483123631962, 'm_plus': 0.9663077239404928, 'm_minus': 0.1001741974705247, 'lambda_': 0.13295857263460303, 'alpha': 0.0039842034359483525, 'r': 2, 'no_of_conv_kernels': 128, 'no_of_primary_capsules': 32, 'no_of_secondary_capsules': 10, 'primary_capsule_vector': 8, 'secondary_capsule_vector': 16}\n"
     ]
    },
    {
     "name": "stderr",
     "output_type": "stream",
     "text": [
      "Epoch 1/4: 100%|██████████| 16/16 [00:07<00:00,  2.03it/s, Training loss : 0.0045, Validation loss : 0.0028]\n",
      "Epoch 2/4: 100%|██████████| 16/16 [00:04<00:00,  3.57it/s, Training loss : 0.0021, Validation loss : 0.0022]\n",
      "Epoch 3/4: 100%|██████████| 16/16 [00:04<00:00,  3.57it/s, Training loss : 0.0016, Validation loss : 0.0018]\n",
      "Epoch 4/4: 100%|██████████| 16/16 [00:04<00:00,  3.50it/s, Training loss : 0.0013, Validation loss : 0.0015]\n"
     ]
    },
    {
     "name": "stdout",
     "output_type": "stream",
     "text": [
      "Fitting individual 10/11 with genotype {'epochs': 7, 'epsilon': 0.0947299196793775, 'm_plus': 0.923801097556742, 'm_minus': 0.14968884485670436, 'lambda_': 0.8767845829638741, 'alpha': 0.0001, 'r': 4, 'no_of_conv_kernels': 128, 'no_of_primary_capsules': 32, 'no_of_secondary_capsules': 10, 'primary_capsule_vector': 8, 'secondary_capsule_vector': 16}\n"
     ]
    },
    {
     "name": "stderr",
     "output_type": "stream",
     "text": [
      "Epoch 1/7: 100%|██████████| 16/16 [00:12<00:00,  1.29it/s, Training loss : 0.0082, Validation loss : 0.0067]\n",
      "Epoch 2/7: 100%|██████████| 16/16 [00:05<00:00,  2.80it/s, Training loss : 0.0055, Validation loss : 0.0053]\n",
      "Epoch 3/7: 100%|██████████| 16/16 [00:05<00:00,  2.78it/s, Training loss : 0.0044, Validation loss : 0.0047]\n",
      "Epoch 4/7: 100%|██████████| 16/16 [00:05<00:00,  2.74it/s, Training loss : 0.0040, Validation loss : 0.0045]\n",
      "Epoch 5/7: 100%|██████████| 16/16 [00:05<00:00,  2.80it/s, Training loss : 0.0037, Validation loss : 0.0043]\n",
      "Epoch 6/7: 100%|██████████| 16/16 [00:05<00:00,  2.80it/s, Training loss : 0.0035, Validation loss : 0.0042]\n",
      "Epoch 7/7: 100%|██████████| 16/16 [00:05<00:00,  2.75it/s, Training loss : 0.0034, Validation loss : 0.0042]\n"
     ]
    },
    {
     "name": "stdout",
     "output_type": "stream",
     "text": [
      "Fitting individual 11/11 with genotype {'epochs': 7, 'epsilon': 0.0947299196793775, 'm_plus': 0.923801097556742, 'm_minus': 0.14968884485670436, 'lambda_': 0.8767845829638741, 'alpha': 0.0001, 'r': 4, 'no_of_conv_kernels': 128, 'no_of_primary_capsules': 32, 'no_of_secondary_capsules': 10, 'primary_capsule_vector': 8, 'secondary_capsule_vector': 16}\n"
     ]
    },
    {
     "name": "stderr",
     "output_type": "stream",
     "text": [
      "Epoch 1/7: 100%|██████████| 16/16 [00:12<00:00,  1.32it/s, Training loss : 0.0086, Validation loss : 0.0078]\n",
      "Epoch 2/7: 100%|██████████| 16/16 [00:05<00:00,  2.76it/s, Training loss : 0.0063, Validation loss : 0.0058]\n",
      "Epoch 3/7: 100%|██████████| 16/16 [00:05<00:00,  2.80it/s, Training loss : 0.0048, Validation loss : 0.0050]\n",
      "Epoch 4/7: 100%|██████████| 16/16 [00:05<00:00,  2.79it/s, Training loss : 0.0042, Validation loss : 0.0045]\n",
      "Epoch 5/7: 100%|██████████| 16/16 [00:05<00:00,  2.76it/s, Training loss : 0.0038, Validation loss : 0.0043]\n",
      "Epoch 6/7: 100%|██████████| 16/16 [00:05<00:00,  2.78it/s, Training loss : 0.0036, Validation loss : 0.0042]\n",
      "Epoch 7/7: 100%|██████████| 16/16 [00:05<00:00,  2.80it/s, Training loss : 0.0034, Validation loss : 0.0042]\n"
     ]
    },
    {
     "name": "stdout",
     "output_type": "stream",
     "text": [
      "Len of pop after selection : 5\n",
      "=== Generation 2/2\n",
      "Len of pop before manipulations : 5\n",
      "crossover created 2 offspring(s)\n",
      "mutation created 0 offspring(s)\n",
      "local search created 1 offspring(s)\n",
      "Len of pop after manipulations : 8\n",
      "Fitting individual 1/8 with genotype {'epochs': 7, 'epsilon': 0.0947299196793775, 'm_plus': 0.923801097556742, 'm_minus': 0.14968884485670436, 'lambda_': 0.8767845829638741, 'alpha': 0.0001, 'r': 4, 'no_of_conv_kernels': 128, 'no_of_primary_capsules': 32, 'no_of_secondary_capsules': 10, 'primary_capsule_vector': 8, 'secondary_capsule_vector': 16}\n"
     ]
    },
    {
     "name": "stderr",
     "output_type": "stream",
     "text": [
      "Epoch 1/7: 100%|██████████| 16/16 [00:12<00:00,  1.25it/s, Training loss : 0.0090, Validation loss : 0.0089]\n",
      "Epoch 2/7: 100%|██████████| 16/16 [00:07<00:00,  2.25it/s, Training loss : 0.0076, Validation loss : 0.0068]\n",
      "Epoch 3/7: 100%|██████████| 16/16 [00:07<00:00,  2.13it/s, Training loss : 0.0057, Validation loss : 0.0056]\n",
      "Epoch 4/7: 100%|██████████| 16/16 [00:07<00:00,  2.16it/s, Training loss : 0.0047, Validation loss : 0.0049]\n",
      "Epoch 5/7: 100%|██████████| 16/16 [00:07<00:00,  2.23it/s, Training loss : 0.0041, Validation loss : 0.0045]\n",
      "Epoch 6/7: 100%|██████████| 16/16 [00:07<00:00,  2.25it/s, Training loss : 0.0039, Validation loss : 0.0043]\n",
      "Epoch 7/7: 100%|██████████| 16/16 [00:07<00:00,  2.22it/s, Training loss : 0.0036, Validation loss : 0.0042]\n"
     ]
    },
    {
     "name": "stdout",
     "output_type": "stream",
     "text": [
      "Fitting individual 2/8 with genotype {'epochs': 4, 'epsilon': 0.0775483123631962, 'm_plus': 0.9663077239404928, 'm_minus': 0.1001741974705247, 'lambda_': 0.13295857263460303, 'alpha': 0.0039842034359483525, 'r': 2, 'no_of_conv_kernels': 128, 'no_of_primary_capsules': 32, 'no_of_secondary_capsules': 10, 'primary_capsule_vector': 8, 'secondary_capsule_vector': 16}\n"
     ]
    },
    {
     "name": "stderr",
     "output_type": "stream",
     "text": [
      "Epoch 1/4: 100%|██████████| 16/16 [00:09<00:00,  1.75it/s, Training loss : 0.0048, Validation loss : 0.0028]\n",
      "Epoch 2/4: 100%|██████████| 16/16 [00:05<00:00,  2.81it/s, Training loss : 0.0022, Validation loss : 0.0022]\n",
      "Epoch 3/4: 100%|██████████| 16/16 [00:05<00:00,  2.69it/s, Training loss : 0.0016, Validation loss : 0.0018]\n",
      "Epoch 4/4: 100%|██████████| 16/16 [00:05<00:00,  2.72it/s, Training loss : 0.0013, Validation loss : 0.0016]\n"
     ]
    },
    {
     "name": "stdout",
     "output_type": "stream",
     "text": [
      "Fitting individual 3/8 with genotype {'epochs': 1, 'epsilon': 0.03657531778319422, 'm_plus': 0.964681280848214, 'm_minus': 0.08669059511309292, 'lambda_': 0.6952010353041198, 'alpha': 0.005967397084958852, 'r': 2, 'no_of_conv_kernels': 128, 'no_of_primary_capsules': 32, 'no_of_secondary_capsules': 10, 'primary_capsule_vector': 8, 'secondary_capsule_vector': 16}\n"
     ]
    },
    {
     "name": "stderr",
     "output_type": "stream",
     "text": [
      "Epoch 1/1: 100%|██████████| 16/16 [00:08<00:00,  1.98it/s, Training loss : 0.0093, Validation loss : 0.0065]\n"
     ]
    },
    {
     "name": "stdout",
     "output_type": "stream",
     "text": [
      "Fitting individual 4/8 with genotype {'epochs': 3, 'epsilon': 0.0761944535388495, 'm_plus': 0.957919513474093, 'm_minus': 0.2, 'lambda_': 0.5039795372003821, 'alpha': 0.004786268296225676, 'r': 3, 'no_of_conv_kernels': 128, 'no_of_primary_capsules': 32, 'no_of_secondary_capsules': 10, 'primary_capsule_vector': 8, 'secondary_capsule_vector': 16}\n"
     ]
    },
    {
     "name": "stderr",
     "output_type": "stream",
     "text": [
      "Epoch 1/3: 100%|██████████| 16/16 [00:10<00:00,  1.57it/s, Training loss : 0.0057, Validation loss : 0.0036]\n",
      "Epoch 2/3: 100%|██████████| 16/16 [00:05<00:00,  3.14it/s, Training loss : 0.0026, Validation loss : 0.0025]\n",
      "Epoch 3/3: 100%|██████████| 16/16 [00:05<00:00,  3.06it/s, Training loss : 0.0018, Validation loss : 0.0020]\n"
     ]
    },
    {
     "name": "stdout",
     "output_type": "stream",
     "text": [
      "Fitting individual 5/8 with genotype {'epochs': 2, 'epsilon': 0.09611588142657064, 'm_plus': 0.949421381680305, 'm_minus': 0.13197605261889211, 'lambda_': 0.6985383875267552, 'alpha': 0.007186060881650742, 'r': 4, 'no_of_conv_kernels': 128, 'no_of_primary_capsules': 32, 'no_of_secondary_capsules': 10, 'primary_capsule_vector': 8, 'secondary_capsule_vector': 16}\n"
     ]
    },
    {
     "name": "stderr",
     "output_type": "stream",
     "text": [
      "Epoch 1/2: 100%|██████████| 16/16 [00:12<00:00,  1.29it/s, Training loss : 0.0082, Validation loss : 0.0066]\n",
      "Epoch 2/2: 100%|██████████| 16/16 [00:05<00:00,  2.72it/s, Training loss : 0.0056, Validation loss : 0.0055]\n"
     ]
    },
    {
     "name": "stdout",
     "output_type": "stream",
     "text": [
      "Fitting individual 6/8 with genotype {'epochs': 3, 'epsilon': 0.0761944535388495, 'm_plus': 0.923801097556742, 'm_minus': 0.14968884485670436, 'lambda_': 0.8767845829638741, 'alpha': 0.0001, 'r': 4, 'no_of_conv_kernels': 128, 'no_of_primary_capsules': 32, 'no_of_secondary_capsules': 10, 'primary_capsule_vector': 8, 'secondary_capsule_vector': 16}\n"
     ]
    },
    {
     "name": "stderr",
     "output_type": "stream",
     "text": [
      "Epoch 1/3: 100%|██████████| 16/16 [00:12<00:00,  1.31it/s, Training loss : 0.0075, Validation loss : 0.0057]\n",
      "Epoch 2/3: 100%|██████████| 16/16 [00:05<00:00,  2.80it/s, Training loss : 0.0045, Validation loss : 0.0044]\n",
      "Epoch 3/3: 100%|██████████| 16/16 [00:05<00:00,  2.79it/s, Training loss : 0.0034, Validation loss : 0.0037]\n"
     ]
    },
    {
     "name": "stdout",
     "output_type": "stream",
     "text": [
      "Fitting individual 7/8 with genotype {'epochs': 7, 'epsilon': 0.0947299196793775, 'm_plus': 0.957919513474093, 'm_minus': 0.17665721692644792, 'lambda_': 0.5039795372003821, 'alpha': 0.004786268296225676, 'r': 3, 'no_of_conv_kernels': 128, 'no_of_primary_capsules': 32, 'no_of_secondary_capsules': 10, 'primary_capsule_vector': 8, 'secondary_capsule_vector': 16}\n"
     ]
    },
    {
     "name": "stderr",
     "output_type": "stream",
     "text": [
      "Epoch 1/7: 100%|██████████| 16/16 [00:10<00:00,  1.58it/s, Training loss : 0.0062, Validation loss : 0.0045]\n",
      "Epoch 2/7: 100%|██████████| 16/16 [00:05<00:00,  3.12it/s, Training loss : 0.0035, Validation loss : 0.0034]\n",
      "Epoch 3/7: 100%|██████████| 16/16 [00:05<00:00,  3.12it/s, Training loss : 0.0026, Validation loss : 0.0028]\n",
      "Epoch 4/7: 100%|██████████| 16/16 [00:05<00:00,  3.08it/s, Training loss : 0.0022, Validation loss : 0.0025]\n",
      "Epoch 5/7: 100%|██████████| 16/16 [00:05<00:00,  3.14it/s, Training loss : 0.0019, Validation loss : 0.0024]\n",
      "Epoch 6/7: 100%|██████████| 16/16 [00:05<00:00,  3.13it/s, Training loss : 0.0017, Validation loss : 0.0023]\n",
      "Epoch 7/7: 100%|██████████| 16/16 [00:05<00:00,  3.06it/s, Training loss : 0.0017, Validation loss : 0.0022]\n"
     ]
    },
    {
     "name": "stdout",
     "output_type": "stream",
     "text": [
      "Fitting individual 8/8 with genotype {'epochs': 3, 'epsilon': 0.0761944535388495, 'm_plus': 0.957919513474093, 'm_minus': 0.2, 'lambda_': 0.5039795372003821, 'alpha': 0.004786268296225676, 'r': 3, 'no_of_conv_kernels': 128, 'no_of_primary_capsules': 32, 'no_of_secondary_capsules': 10, 'primary_capsule_vector': 8, 'secondary_capsule_vector': 16}\n"
     ]
    },
    {
     "name": "stderr",
     "output_type": "stream",
     "text": [
      "Epoch 1/3: 100%|██████████| 16/16 [00:09<00:00,  1.60it/s, Training loss : 0.0062, Validation loss : 0.0041]\n",
      "Epoch 2/3: 100%|██████████| 16/16 [00:05<00:00,  3.13it/s, Training loss : 0.0030, Validation loss : 0.0027]\n",
      "Epoch 3/3: 100%|██████████| 16/16 [00:05<00:00,  3.10it/s, Training loss : 0.0020, Validation loss : 0.0021]\n"
     ]
    },
    {
     "name": "stdout",
     "output_type": "stream",
     "text": [
      "Len of pop after selection : 5\n",
      "Fitting individual 1/5 with genotype {'epochs': 7, 'epsilon': 0.0947299196793775, 'm_plus': 0.923801097556742, 'm_minus': 0.14968884485670436, 'lambda_': 0.8767845829638741, 'alpha': 0.0001, 'r': 4, 'no_of_conv_kernels': 128, 'no_of_primary_capsules': 32, 'no_of_secondary_capsules': 10, 'primary_capsule_vector': 8, 'secondary_capsule_vector': 16}\n"
     ]
    },
    {
     "name": "stderr",
     "output_type": "stream",
     "text": [
      "Epoch 1/7: 100%|██████████| 16/16 [00:12<00:00,  1.31it/s, Training loss : 0.0087, Validation loss : 0.0077]\n",
      "Epoch 2/7: 100%|██████████| 16/16 [00:05<00:00,  2.78it/s, Training loss : 0.0063, Validation loss : 0.0060]\n",
      "Epoch 3/7: 100%|██████████| 16/16 [00:05<00:00,  2.77it/s, Training loss : 0.0050, Validation loss : 0.0051]\n",
      "Epoch 4/7: 100%|██████████| 16/16 [00:05<00:00,  2.77it/s, Training loss : 0.0043, Validation loss : 0.0046]\n",
      "Epoch 5/7: 100%|██████████| 16/16 [00:05<00:00,  2.79it/s, Training loss : 0.0039, Validation loss : 0.0044]\n",
      "Epoch 6/7: 100%|██████████| 16/16 [00:05<00:00,  2.75it/s, Training loss : 0.0037, Validation loss : 0.0043]\n",
      "Epoch 7/7: 100%|██████████| 16/16 [00:05<00:00,  2.79it/s, Training loss : 0.0035, Validation loss : 0.0042]\n"
     ]
    },
    {
     "name": "stdout",
     "output_type": "stream",
     "text": [
      "Fitting individual 2/5 with genotype {'epochs': 4, 'epsilon': 0.0775483123631962, 'm_plus': 0.9663077239404928, 'm_minus': 0.1001741974705247, 'lambda_': 0.13295857263460303, 'alpha': 0.0039842034359483525, 'r': 2, 'no_of_conv_kernels': 128, 'no_of_primary_capsules': 32, 'no_of_secondary_capsules': 10, 'primary_capsule_vector': 8, 'secondary_capsule_vector': 16}\n"
     ]
    },
    {
     "name": "stderr",
     "output_type": "stream",
     "text": [
      "Epoch 1/4: 100%|██████████| 16/16 [00:07<00:00,  2.04it/s, Training loss : 0.0044, Validation loss : 0.0027]\n",
      "Epoch 2/4: 100%|██████████| 16/16 [00:04<00:00,  3.52it/s, Training loss : 0.0021, Validation loss : 0.0021]\n",
      "Epoch 3/4: 100%|██████████| 16/16 [00:04<00:00,  3.46it/s, Training loss : 0.0016, Validation loss : 0.0017]\n",
      "Epoch 4/4: 100%|██████████| 16/16 [00:04<00:00,  3.54it/s, Training loss : 0.0013, Validation loss : 0.0016]\n"
     ]
    },
    {
     "name": "stdout",
     "output_type": "stream",
     "text": [
      "Fitting individual 3/5 with genotype {'epochs': 1, 'epsilon': 0.03657531778319422, 'm_plus': 0.964681280848214, 'm_minus': 0.08669059511309292, 'lambda_': 0.6952010353041198, 'alpha': 0.005967397084958852, 'r': 2, 'no_of_conv_kernels': 128, 'no_of_primary_capsules': 32, 'no_of_secondary_capsules': 10, 'primary_capsule_vector': 8, 'secondary_capsule_vector': 16}\n"
     ]
    },
    {
     "name": "stderr",
     "output_type": "stream",
     "text": [
      "Epoch 1/1: 100%|██████████| 16/16 [00:07<00:00,  2.03it/s, Training loss : 0.0081, Validation loss : 0.0057]\n"
     ]
    },
    {
     "name": "stdout",
     "output_type": "stream",
     "text": [
      "Fitting individual 4/5 with genotype {'epochs': 3, 'epsilon': 0.0761944535388495, 'm_plus': 0.957919513474093, 'm_minus': 0.2, 'lambda_': 0.5039795372003821, 'alpha': 0.004786268296225676, 'r': 3, 'no_of_conv_kernels': 128, 'no_of_primary_capsules': 32, 'no_of_secondary_capsules': 10, 'primary_capsule_vector': 8, 'secondary_capsule_vector': 16}\n"
     ]
    },
    {
     "name": "stderr",
     "output_type": "stream",
     "text": [
      "Epoch 1/3: 100%|██████████| 16/16 [00:09<00:00,  1.61it/s, Training loss : 0.0065, Validation loss : 0.0040]\n",
      "Epoch 2/3: 100%|██████████| 16/16 [00:05<00:00,  3.10it/s, Training loss : 0.0029, Validation loss : 0.0027]\n",
      "Epoch 3/3: 100%|██████████| 16/16 [00:05<00:00,  3.07it/s, Training loss : 0.0020, Validation loss : 0.0021]\n"
     ]
    },
    {
     "name": "stdout",
     "output_type": "stream",
     "text": [
      "Fitting individual 5/5 with genotype {'epochs': 2, 'epsilon': 0.09611588142657064, 'm_plus': 0.949421381680305, 'm_minus': 0.13197605261889211, 'lambda_': 0.6985383875267552, 'alpha': 0.007186060881650742, 'r': 4, 'no_of_conv_kernels': 128, 'no_of_primary_capsules': 32, 'no_of_secondary_capsules': 10, 'primary_capsule_vector': 8, 'secondary_capsule_vector': 16}\n"
     ]
    },
    {
     "name": "stderr",
     "output_type": "stream",
     "text": [
      "Epoch 1/2: 100%|██████████| 16/16 [00:12<00:00,  1.29it/s, Training loss : 0.0087, Validation loss : 0.0071]\n",
      "Epoch 2/2: 100%|██████████| 16/16 [00:05<00:00,  2.71it/s, Training loss : 0.0060, Validation loss : 0.0056]\n"
     ]
    },
    {
     "name": "stdout",
     "output_type": "stream",
     "text": [
      "Saving GA metrics under nas_mnist_1/generations_metrics.png\n",
      "Optimal solution(s):\n",
      "[[7.00000000e+00 9.47299197e-02 9.23801098e-01 1.49688845e-01\n",
      "  8.76784583e-01 1.00000000e-04 4.00000000e+00]\n",
      " [4.00000000e+00 7.75483124e-02 9.66307724e-01 1.00174197e-01\n",
      "  1.32958573e-01 3.98420344e-03 2.00000000e+00]]\n",
      "______________\n",
      "Fitness values:\n",
      "  Inference    Accuracy\n",
      "[[0.00537369 0.9453125 ]\n",
      " [0.00388286 0.92773438]]\n",
      "=== GA done : 2023-07-18 12:58:15.623213 ===\n",
      "Saving GA solutions under nas_mnist_1/solutions_metrics.png\n"
     ]
    },
    {
     "data": {
      "image/png": "[encoded data removed]",
      "text/plain": [
       "<Figure size 640x480 with 1 Axes>"
      ]
     },
     "metadata": {},
     "output_type": "display_data"
    },
    {
     "data": {
      "image/png": "[encoded data removed]",
      "text/plain": [
       "<Figure size 640x480 with 1 Axes>"
      ]
     },
     "metadata": {},
     "output_type": "display_data"
    }
   ],
   "source": [
    "(X_train, y_train), (X_test , y_test) = load_mnist(size=(1024, 512))\n",
    "\n",
    "params = {\n",
    "    \"name\": 'nas_mnist_1',\n",
    "    'n_gen': 2,\n",
    "    'pop_size': 5,\n",
    "    'rate_crossover': 0.7,\n",
    "    'rate_mutation': 0.1,\n",
    "    'rate_local_search': 0.5,\n",
    "    'step_size': 0.1,\n",
    "    'train_data': (X_train, y_train),\n",
    "    'test_data': (X_test, y_test)\n",
    "}\n",
    "\n",
    "nas = Nsga_II(**params)\n",
    "\n",
    "if nas.valid:\n",
    "    nas.optimise()"
   ]
  }
 ],
 "metadata": {
  "kernelspec": {
   "display_name": "capsnet",
   "language": "python",
   "name": "python3"
  },
  "language_info": {
   "codemirror_mode": {
    "name": "ipython",
    "version": 3
   },
   "file_extension": ".py",
   "mimetype": "text/x-python",
   "name": "python",
   "nbconvert_exporter": "python",
   "pygments_lexer": "ipython3",
   "version": "3.10.11"
  },
  "orig_nbformat": 4
 },
 "nbformat": 4,
 "nbformat_minor": 2
}

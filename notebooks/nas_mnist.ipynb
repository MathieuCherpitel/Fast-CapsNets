{
 "cells": [
  {
   "attachments": {},
   "cell_type": "markdown",
   "metadata": {},
   "source": [
    "# NAS on CapsNet on MNIST dataset"
   ]
  },
  {
   "attachments": {},
   "cell_type": "markdown",
   "metadata": {},
   "source": [
    "> Focusing on inference time and accuracy"
   ]
  },
  {
   "cell_type": "code",
   "execution_count": 1,
   "metadata": {},
   "outputs": [],
   "source": [
    "# Setting PATH to import CapsNet class from python file to notebook\n",
    "\n",
    "import os\n",
    "import sys\n",
    "directory_path = os.path.abspath(os.path.join('../src'))\n",
    "if directory_path not in sys.path:\n",
    "    sys.path.append(directory_path)\n",
    "\n",
    "from NsgaII import Nsga_II\n",
    "from utils.load_data import load_mnist"
   ]
  },
  {
   "cell_type": "code",
   "execution_count": 2,
   "metadata": {},
   "outputs": [
    {
     "name": "stdout",
     "output_type": "stream",
     "text": [
      "A ga has been saved under the same name (nas_mnist_1) replace ?\n",
      "y\n",
      "=== Generation 1/5\n",
      "Len of pop before manipulations : 5\n",
      "crossover created 4 offspring(s)\n",
      "mutation created 2 offspring(s)\n",
      "local search created 1 offspring(s)\n",
      "Len of pop after manipulations : 12\n",
      "Fitting individual 1/12 with genotype {'epochs': 5, 'epsilon': 0.019232835941956565, 'm_plus': 0.907025979479877, 'm_minus': 0.1854003049552299, 'lambda_': 0.5680780228689898, 'alpha': 0.004113754853585136, 'r': 4, 'no_of_conv_kernels': 128, 'no_of_primary_capsules': 32, 'no_of_secondary_capsules': 10, 'primary_capsule_vector': 8, 'secondary_capsule_vector': 16}\n"
     ]
    },
    {
     "name": "stderr",
     "output_type": "stream",
     "text": [
      "Epoch 1/5:   0%|          | 0/16 [00:00<?, ?it/s]2023-07-11 12:40:42.849164: W tensorflow/tsl/platform/profile_utils/cpu_utils.cc:128] Failed to get CPU frequency: 0 Hz\n",
      "Epoch 1/5: 100%|██████████| 16/16 [00:12<00:00,  1.32it/s, Loss : 0.0075]\n",
      "Epoch 2/5: 100%|██████████| 16/16 [00:05<00:00,  3.19it/s, Loss : 0.0028]\n",
      "Epoch 3/5: 100%|██████████| 16/16 [00:05<00:00,  3.11it/s, Loss : 0.0016]\n",
      "Epoch 4/5: 100%|██████████| 16/16 [00:05<00:00,  3.15it/s, Loss : 0.0011]\n",
      "Epoch 5/5: 100%|██████████| 16/16 [00:05<00:00,  3.18it/s, Loss : 0.0007]\n"
     ]
    },
    {
     "name": "stdout",
     "output_type": "stream",
     "text": [
      "Fitting individual 2/12 with genotype {'epochs': 5, 'epsilon': 0.069567156154152, 'm_plus': 0.9763556985185515, 'm_minus': 0.17124604203242638, 'lambda_': 0.3252953206047693, 'alpha': 0.005277943797230046, 'r': 2, 'no_of_conv_kernels': 128, 'no_of_primary_capsules': 32, 'no_of_secondary_capsules': 10, 'primary_capsule_vector': 8, 'secondary_capsule_vector': 16}\n"
     ]
    },
    {
     "name": "stderr",
     "output_type": "stream",
     "text": [
      "Epoch 1/5: 100%|██████████| 16/16 [00:07<00:00,  2.23it/s, Loss : 0.0061]\n",
      "Epoch 2/5: 100%|██████████| 16/16 [00:04<00:00,  3.89it/s, Loss : 0.0027]\n",
      "Epoch 3/5: 100%|██████████| 16/16 [00:03<00:00,  4.07it/s, Loss : 0.0019]\n",
      "Epoch 4/5: 100%|██████████| 16/16 [00:03<00:00,  4.07it/s, Loss : 0.0014]\n",
      "Epoch 5/5: 100%|██████████| 16/16 [00:03<00:00,  4.00it/s, Loss : 0.0011]\n"
     ]
    },
    {
     "name": "stdout",
     "output_type": "stream",
     "text": [
      "Fitting individual 3/12 with genotype {'epochs': 5, 'epsilon': 0.05802773218214239, 'm_plus': 0.9026370486388448, 'm_minus': 0.05606354990371717, 'lambda_': 0.6510640730586538, 'alpha': 0.0024940127407382683, 'r': 2, 'no_of_conv_kernels': 128, 'no_of_primary_capsules': 32, 'no_of_secondary_capsules': 10, 'primary_capsule_vector': 8, 'secondary_capsule_vector': 16}\n"
     ]
    },
    {
     "name": "stderr",
     "output_type": "stream",
     "text": [
      "Epoch 1/5: 100%|██████████| 16/16 [00:07<00:00,  2.18it/s, Loss : 0.0091]\n",
      "Epoch 2/5: 100%|██████████| 16/16 [00:03<00:00,  4.02it/s, Loss : 0.0062]\n",
      "Epoch 3/5: 100%|██████████| 16/16 [00:04<00:00,  3.96it/s, Loss : 0.0049]\n",
      "Epoch 4/5: 100%|██████████| 16/16 [00:03<00:00,  4.06it/s, Loss : 0.0043]\n",
      "Epoch 5/5: 100%|██████████| 16/16 [00:03<00:00,  4.07it/s, Loss : 0.0040]\n"
     ]
    },
    {
     "name": "stdout",
     "output_type": "stream",
     "text": [
      "Fitting individual 4/12 with genotype {'epochs': 8, 'epsilon': 0.041616342589832364, 'm_plus': 0.9075628941072512, 'm_minus': 0.05409280011295582, 'lambda_': 0.3024044357835628, 'alpha': 0.0010422464330524233, 'r': 4, 'no_of_conv_kernels': 128, 'no_of_primary_capsules': 32, 'no_of_secondary_capsules': 10, 'primary_capsule_vector': 8, 'secondary_capsule_vector': 16}\n"
     ]
    },
    {
     "name": "stderr",
     "output_type": "stream",
     "text": [
      "Epoch 1/8: 100%|██████████| 16/16 [00:11<00:00,  1.38it/s, Loss : 0.0060]\n",
      "Epoch 2/8: 100%|██████████| 16/16 [00:05<00:00,  3.17it/s, Loss : 0.0030]\n",
      "Epoch 3/8: 100%|██████████| 16/16 [00:05<00:00,  3.11it/s, Loss : 0.0022]\n",
      "Epoch 4/8: 100%|██████████| 16/16 [00:05<00:00,  3.17it/s, Loss : 0.0018]\n",
      "Epoch 5/8: 100%|██████████| 16/16 [00:05<00:00,  3.18it/s, Loss : 0.0016]\n",
      "Epoch 6/8: 100%|██████████| 16/16 [00:05<00:00,  3.11it/s, Loss : 0.0014]\n",
      "Epoch 7/8: 100%|██████████| 16/16 [00:05<00:00,  3.18it/s, Loss : 0.0013]\n",
      "Epoch 8/8: 100%|██████████| 16/16 [00:04<00:00,  3.21it/s, Loss : 0.0012]\n"
     ]
    },
    {
     "name": "stdout",
     "output_type": "stream",
     "text": [
      "Fitting individual 5/12 with genotype {'epochs': 2, 'epsilon': 0.049971113420850595, 'm_plus': 0.9651571155378869, 'm_minus': 0.09884317035419735, 'lambda_': 0.3835299625686359, 'alpha': 0.0006489939896333016, 'r': 2, 'no_of_conv_kernels': 128, 'no_of_primary_capsules': 32, 'no_of_secondary_capsules': 10, 'primary_capsule_vector': 8, 'secondary_capsule_vector': 16}\n"
     ]
    },
    {
     "name": "stderr",
     "output_type": "stream",
     "text": [
      "Epoch 1/2: 100%|██████████| 16/16 [00:07<00:00,  2.21it/s, Loss : 0.0066]\n",
      "Epoch 2/2: 100%|██████████| 16/16 [00:04<00:00,  3.95it/s, Loss : 0.0033]\n"
     ]
    },
    {
     "name": "stdout",
     "output_type": "stream",
     "text": [
      "WARNING:tensorflow:5 out of the last 5 calls to <function CapsNet.predict_capsule_output at 0x1764732e0> triggered tf.function retracing. Tracing is expensive and the excessive number of tracings could be due to (1) creating @tf.function repeatedly in a loop, (2) passing tensors with different shapes, (3) passing Python objects instead of tensors. For (1), please define your @tf.function outside of the loop. For (2), @tf.function has reduce_retracing=True option that can avoid unnecessary retracing. For (3), please refer to https://www.tensorflow.org/guide/function#controlling_retracing and https://www.tensorflow.org/api_docs/python/tf/function for  more details.\n",
      "Fitting individual 6/12 with genotype {'epochs': 2, 'epsilon': 0.049971113420850595, 'm_plus': 0.9651571155378869, 'm_minus': 0.09884317035419735, 'lambda_': 0.3835299625686359, 'alpha': 0.0024940127407382683, 'r': 2, 'no_of_conv_kernels': 128, 'no_of_primary_capsules': 32, 'no_of_secondary_capsules': 10, 'primary_capsule_vector': 8, 'secondary_capsule_vector': 16}\n"
     ]
    },
    {
     "name": "stderr",
     "output_type": "stream",
     "text": [
      "Epoch 1/2: 100%|██████████| 16/16 [00:07<00:00,  2.19it/s, Loss : 0.0067]\n",
      "Epoch 2/2: 100%|██████████| 16/16 [00:03<00:00,  4.04it/s, Loss : 0.0033]\n"
     ]
    },
    {
     "name": "stdout",
     "output_type": "stream",
     "text": [
      "WARNING:tensorflow:6 out of the last 6 calls to <function CapsNet.predict_capsule_output at 0x17630f130> triggered tf.function retracing. Tracing is expensive and the excessive number of tracings could be due to (1) creating @tf.function repeatedly in a loop, (2) passing tensors with different shapes, (3) passing Python objects instead of tensors. For (1), please define your @tf.function outside of the loop. For (2), @tf.function has reduce_retracing=True option that can avoid unnecessary retracing. For (3), please refer to https://www.tensorflow.org/guide/function#controlling_retracing and https://www.tensorflow.org/api_docs/python/tf/function for  more details.\n",
      "Fitting individual 7/12 with genotype {'epochs': 5, 'epsilon': 0.05802773218214239, 'm_plus': 0.9026370486388448, 'm_minus': 0.05606354990371717, 'lambda_': 0.6510640730586538, 'alpha': 0.0006489939896333016, 'r': 2, 'no_of_conv_kernels': 128, 'no_of_primary_capsules': 32, 'no_of_secondary_capsules': 10, 'primary_capsule_vector': 8, 'secondary_capsule_vector': 16}\n"
     ]
    },
    {
     "name": "stderr",
     "output_type": "stream",
     "text": [
      "Epoch 1/5: 100%|██████████| 16/16 [00:07<00:00,  2.17it/s, Loss : 0.0088]\n",
      "Epoch 2/5: 100%|██████████| 16/16 [00:03<00:00,  4.09it/s, Loss : 0.0059]\n",
      "Epoch 3/5: 100%|██████████| 16/16 [00:03<00:00,  4.06it/s, Loss : 0.0047]\n",
      "Epoch 4/5: 100%|██████████| 16/16 [00:03<00:00,  4.06it/s, Loss : 0.0042]\n",
      "Epoch 5/5: 100%|██████████| 16/16 [00:04<00:00,  3.97it/s, Loss : 0.0039]\n"
     ]
    },
    {
     "name": "stdout",
     "output_type": "stream",
     "text": [
      "Fitting individual 8/12 with genotype {'epochs': 5, 'epsilon': 0.069567156154152, 'm_plus': 0.9763556985185515, 'm_minus': 0.17124604203242638, 'lambda_': 0.3252953206047693, 'alpha': 0.0006489939896333016, 'r': 2, 'no_of_conv_kernels': 128, 'no_of_primary_capsules': 32, 'no_of_secondary_capsules': 10, 'primary_capsule_vector': 8, 'secondary_capsule_vector': 16}\n"
     ]
    },
    {
     "name": "stderr",
     "output_type": "stream",
     "text": [
      "Epoch 1/5: 100%|██████████| 16/16 [00:07<00:00,  2.22it/s, Loss : 0.0058]\n",
      "Epoch 2/5: 100%|██████████| 16/16 [00:04<00:00,  3.87it/s, Loss : 0.0026]\n",
      "Epoch 3/5: 100%|██████████| 16/16 [00:03<00:00,  4.06it/s, Loss : 0.0018]\n",
      "Epoch 4/5: 100%|██████████| 16/16 [00:03<00:00,  4.05it/s, Loss : 0.0014]\n",
      "Epoch 5/5: 100%|██████████| 16/16 [00:03<00:00,  4.01it/s, Loss : 0.0011]\n"
     ]
    },
    {
     "name": "stdout",
     "output_type": "stream",
     "text": [
      "Fitting individual 9/12 with genotype {'epochs': 2, 'epsilon': 0.049971113420850595, 'm_plus': 0.9651571155378869, 'm_minus': 0.09884317035419735, 'lambda_': 0.3835299625686359, 'alpha': 0.005277943797230046, 'r': 4, 'no_of_conv_kernels': 128, 'no_of_primary_capsules': 32, 'no_of_secondary_capsules': 10, 'primary_capsule_vector': 8, 'secondary_capsule_vector': 16}\n"
     ]
    },
    {
     "name": "stderr",
     "output_type": "stream",
     "text": [
      "Epoch 1/2: 100%|██████████| 16/16 [00:11<00:00,  1.37it/s, Loss : 0.0075]\n",
      "Epoch 2/2: 100%|██████████| 16/16 [00:05<00:00,  3.10it/s, Loss : 0.0037]\n"
     ]
    },
    {
     "name": "stdout",
     "output_type": "stream",
     "text": [
      "Fitting individual 10/12 with genotype {'epochs': 5, 'epsilon': 0.069567156154152, 'm_plus': 0.9763556985185515, 'm_minus': 0.17124604203242638, 'lambda_': 0.3252953206047693, 'alpha': 0.005277943797230046, 'r': 2, 'no_of_conv_kernels': 128, 'no_of_primary_capsules': 32, 'no_of_secondary_capsules': 10, 'primary_capsule_vector': 8, 'secondary_capsule_vector': 16}\n"
     ]
    },
    {
     "name": "stderr",
     "output_type": "stream",
     "text": [
      "Epoch 1/5: 100%|██████████| 16/16 [00:07<00:00,  2.17it/s, Loss : 0.0056]\n",
      "Epoch 2/5: 100%|██████████| 16/16 [00:03<00:00,  4.08it/s, Loss : 0.0025]\n",
      "Epoch 3/5: 100%|██████████| 16/16 [00:03<00:00,  4.06it/s, Loss : 0.0017]\n",
      "Epoch 4/5: 100%|██████████| 16/16 [00:04<00:00,  3.94it/s, Loss : 0.0013]\n",
      "Epoch 5/5: 100%|██████████| 16/16 [00:03<00:00,  4.07it/s, Loss : 0.0011]\n"
     ]
    },
    {
     "name": "stdout",
     "output_type": "stream",
     "text": [
      "Fitting individual 11/12 with genotype {'epochs': 8, 'epsilon': 0.041616342589832364, 'm_plus': 0.9075628941072512, 'm_minus': 0.05409280011295582, 'lambda_': 0.3024044357835628, 'alpha': 0.0010422464330524233, 'r': 4, 'no_of_conv_kernels': 128, 'no_of_primary_capsules': 32, 'no_of_secondary_capsules': 10, 'primary_capsule_vector': 8, 'secondary_capsule_vector': 16}\n"
     ]
    },
    {
     "name": "stderr",
     "output_type": "stream",
     "text": [
      "Epoch 1/8: 100%|██████████| 16/16 [00:11<00:00,  1.37it/s, Loss : 0.0062]\n",
      "Epoch 2/8: 100%|██████████| 16/16 [00:05<00:00,  3.17it/s, Loss : 0.0032]\n",
      "Epoch 3/8: 100%|██████████| 16/16 [00:05<00:00,  3.04it/s, Loss : 0.0023]\n",
      "Epoch 4/8: 100%|██████████| 16/16 [00:05<00:00,  3.15it/s, Loss : 0.0019]\n",
      "Epoch 5/8: 100%|██████████| 16/16 [00:05<00:00,  3.17it/s, Loss : 0.0016]\n",
      "Epoch 6/8: 100%|██████████| 16/16 [00:05<00:00,  3.07it/s, Loss : 0.0014]\n",
      "Epoch 7/8: 100%|██████████| 16/16 [00:05<00:00,  3.18it/s, Loss : 0.0014]\n",
      "Epoch 8/8: 100%|██████████| 16/16 [00:04<00:00,  3.20it/s, Loss : 0.0013]\n"
     ]
    },
    {
     "name": "stdout",
     "output_type": "stream",
     "text": [
      "Fitting individual 12/12 with genotype {'epochs': 5, 'epsilon': 0.019232835941956565, 'm_plus': 0.907025979479877, 'm_minus': 0.1854003049552299, 'lambda_': 0.5680780228689898, 'alpha': 0.004113754853585136, 'r': 4, 'no_of_conv_kernels': 128, 'no_of_primary_capsules': 32, 'no_of_secondary_capsules': 10, 'primary_capsule_vector': 8, 'secondary_capsule_vector': 16}\n"
     ]
    },
    {
     "name": "stderr",
     "output_type": "stream",
     "text": [
      "Epoch 1/5: 100%|██████████| 16/16 [00:12<00:00,  1.33it/s, Loss : 0.0057]\n",
      "Epoch 2/5: 100%|██████████| 16/16 [00:05<00:00,  3.14it/s, Loss : 0.0021]\n",
      "Epoch 3/5: 100%|██████████| 16/16 [00:05<00:00,  3.15it/s, Loss : 0.0012]\n",
      "Epoch 4/5: 100%|██████████| 16/16 [00:05<00:00,  3.03it/s, Loss : 0.0008]\n",
      "Epoch 5/5: 100%|██████████| 16/16 [00:05<00:00,  3.14it/s, Loss : 0.0005]\n"
     ]
    },
    {
     "name": "stdout",
     "output_type": "stream",
     "text": [
      "Len of pop after selection : 5\n",
      "=== Generation 2/5\n",
      "Len of pop before manipulations : 5\n",
      "crossover created 4 offspring(s)\n",
      "mutation created 0 offspring(s)\n",
      "local search created 0 offspring(s)\n",
      "Len of pop after manipulations : 9\n",
      "Fitting individual 1/9 with genotype {'epochs': 5, 'epsilon': 0.069567156154152, 'm_plus': 0.9763556985185515, 'm_minus': 0.17124604203242638, 'lambda_': 0.3252953206047693, 'alpha': 0.005277943797230046, 'r': 2, 'no_of_conv_kernels': 128, 'no_of_primary_capsules': 32, 'no_of_secondary_capsules': 10, 'primary_capsule_vector': 8, 'secondary_capsule_vector': 16}\n"
     ]
    },
    {
     "name": "stderr",
     "output_type": "stream",
     "text": [
      "Epoch 1/5: 100%|██████████| 16/16 [00:07<00:00,  2.19it/s, Loss : 0.0063]\n",
      "Epoch 2/5: 100%|██████████| 16/16 [00:04<00:00,  4.00it/s, Loss : 0.0028]\n",
      "Epoch 3/5: 100%|██████████| 16/16 [00:04<00:00,  3.89it/s, Loss : 0.0020]\n",
      "Epoch 4/5: 100%|██████████| 16/16 [00:04<00:00,  3.96it/s, Loss : 0.0015]\n",
      "Epoch 5/5: 100%|██████████| 16/16 [00:04<00:00,  3.98it/s, Loss : 0.0012]\n"
     ]
    },
    {
     "name": "stdout",
     "output_type": "stream",
     "text": [
      "Fitting individual 2/9 with genotype {'epochs': 5, 'epsilon': 0.05802773218214239, 'm_plus': 0.9026370486388448, 'm_minus': 0.05606354990371717, 'lambda_': 0.6510640730586538, 'alpha': 0.0024940127407382683, 'r': 2, 'no_of_conv_kernels': 128, 'no_of_primary_capsules': 32, 'no_of_secondary_capsules': 10, 'primary_capsule_vector': 8, 'secondary_capsule_vector': 16}\n"
     ]
    },
    {
     "name": "stderr",
     "output_type": "stream",
     "text": [
      "Epoch 1/5: 100%|██████████| 16/16 [00:07<00:00,  2.17it/s, Loss : 0.0084]\n",
      "Epoch 2/5: 100%|██████████| 16/16 [00:04<00:00,  3.97it/s, Loss : 0.0056]\n",
      "Epoch 3/5: 100%|██████████| 16/16 [00:04<00:00,  3.99it/s, Loss : 0.0045]\n",
      "Epoch 4/5: 100%|██████████| 16/16 [00:04<00:00,  3.82it/s, Loss : 0.0041]\n",
      "Epoch 5/5: 100%|██████████| 16/16 [00:04<00:00,  3.97it/s, Loss : 0.0038]\n"
     ]
    },
    {
     "name": "stdout",
     "output_type": "stream",
     "text": [
      "Fitting individual 3/9 with genotype {'epochs': 5, 'epsilon': 0.019232835941956565, 'm_plus': 0.907025979479877, 'm_minus': 0.1854003049552299, 'lambda_': 0.5680780228689898, 'alpha': 0.004113754853585136, 'r': 4, 'no_of_conv_kernels': 128, 'no_of_primary_capsules': 32, 'no_of_secondary_capsules': 10, 'primary_capsule_vector': 8, 'secondary_capsule_vector': 16}\n"
     ]
    },
    {
     "name": "stderr",
     "output_type": "stream",
     "text": [
      "Epoch 1/5: 100%|██████████| 16/16 [00:11<00:00,  1.38it/s, Loss : 0.0048]\n",
      "Epoch 2/5: 100%|██████████| 16/16 [00:05<00:00,  3.14it/s, Loss : 0.0019]\n",
      "Epoch 3/5: 100%|██████████| 16/16 [00:05<00:00,  3.06it/s, Loss : 0.0012]\n",
      "Epoch 4/5: 100%|██████████| 16/16 [00:05<00:00,  3.10it/s, Loss : 0.0008]\n",
      "Epoch 5/5: 100%|██████████| 16/16 [00:05<00:00,  3.12it/s, Loss : 0.0006]\n"
     ]
    },
    {
     "name": "stdout",
     "output_type": "stream",
     "text": [
      "Fitting individual 4/9 with genotype {'epochs': 2, 'epsilon': 0.049971113420850595, 'm_plus': 0.9651571155378869, 'm_minus': 0.09884317035419735, 'lambda_': 0.3835299625686359, 'alpha': 0.0006489939896333016, 'r': 2, 'no_of_conv_kernels': 128, 'no_of_primary_capsules': 32, 'no_of_secondary_capsules': 10, 'primary_capsule_vector': 8, 'secondary_capsule_vector': 16}\n"
     ]
    },
    {
     "name": "stderr",
     "output_type": "stream",
     "text": [
      "Epoch 1/2: 100%|██████████| 16/16 [00:07<00:00,  2.17it/s, Loss : 0.0073]\n",
      "Epoch 2/2: 100%|██████████| 16/16 [00:04<00:00,  3.87it/s, Loss : 0.0034]\n"
     ]
    },
    {
     "name": "stdout",
     "output_type": "stream",
     "text": [
      "Fitting individual 5/9 with genotype {'epochs': 8, 'epsilon': 0.041616342589832364, 'm_plus': 0.9075628941072512, 'm_minus': 0.05409280011295582, 'lambda_': 0.3024044357835628, 'alpha': 0.0010422464330524233, 'r': 4, 'no_of_conv_kernels': 128, 'no_of_primary_capsules': 32, 'no_of_secondary_capsules': 10, 'primary_capsule_vector': 8, 'secondary_capsule_vector': 16}\n"
     ]
    },
    {
     "name": "stderr",
     "output_type": "stream",
     "text": [
      "Epoch 1/8: 100%|██████████| 16/16 [00:11<00:00,  1.35it/s, Loss : 0.0063]\n",
      "Epoch 2/8: 100%|██████████| 16/16 [00:05<00:00,  3.14it/s, Loss : 0.0030]\n",
      "Epoch 3/8: 100%|██████████| 16/16 [00:05<00:00,  3.14it/s, Loss : 0.0022]\n",
      "Epoch 4/8: 100%|██████████| 16/16 [00:05<00:00,  3.09it/s, Loss : 0.0018]\n",
      "Epoch 5/8: 100%|██████████| 16/16 [00:05<00:00,  3.14it/s, Loss : 0.0016]\n",
      "Epoch 6/8: 100%|██████████| 16/16 [00:05<00:00,  3.13it/s, Loss : 0.0014]\n",
      "Epoch 7/8: 100%|██████████| 16/16 [00:05<00:00,  3.08it/s, Loss : 0.0013]\n",
      "Epoch 8/8: 100%|██████████| 16/16 [00:05<00:00,  3.14it/s, Loss : 0.0013]\n"
     ]
    },
    {
     "name": "stdout",
     "output_type": "stream",
     "text": [
      "Fitting individual 6/9 with genotype {'epochs': 2, 'epsilon': 0.049971113420850595, 'm_plus': 0.9651571155378869, 'm_minus': 0.09884317035419735, 'lambda_': 0.6510640730586538, 'alpha': 0.0024940127407382683, 'r': 2, 'no_of_conv_kernels': 128, 'no_of_primary_capsules': 32, 'no_of_secondary_capsules': 10, 'primary_capsule_vector': 8, 'secondary_capsule_vector': 16}\n"
     ]
    },
    {
     "name": "stderr",
     "output_type": "stream",
     "text": [
      "Epoch 1/2: 100%|██████████| 16/16 [00:07<00:00,  2.18it/s, Loss : 0.0078]\n",
      "Epoch 2/2: 100%|██████████| 16/16 [00:04<00:00,  3.99it/s, Loss : 0.0042]\n"
     ]
    },
    {
     "name": "stdout",
     "output_type": "stream",
     "text": [
      "Fitting individual 7/9 with genotype {'epochs': 5, 'epsilon': 0.05802773218214239, 'm_plus': 0.9026370486388448, 'm_minus': 0.05606354990371717, 'lambda_': 0.3835299625686359, 'alpha': 0.0006489939896333016, 'r': 2, 'no_of_conv_kernels': 128, 'no_of_primary_capsules': 32, 'no_of_secondary_capsules': 10, 'primary_capsule_vector': 8, 'secondary_capsule_vector': 16}\n"
     ]
    },
    {
     "name": "stderr",
     "output_type": "stream",
     "text": [
      "Epoch 1/5: 100%|██████████| 16/16 [00:07<00:00,  2.17it/s, Loss : 0.0071]\n",
      "Epoch 2/5: 100%|██████████| 16/16 [00:04<00:00,  3.98it/s, Loss : 0.0039]\n",
      "Epoch 3/5: 100%|██████████| 16/16 [00:04<00:00,  3.88it/s, Loss : 0.0031]\n",
      "Epoch 4/5: 100%|██████████| 16/16 [00:04<00:00,  3.95it/s, Loss : 0.0026]\n",
      "Epoch 5/5: 100%|██████████| 16/16 [00:04<00:00,  3.90it/s, Loss : 0.0024]\n"
     ]
    },
    {
     "name": "stdout",
     "output_type": "stream",
     "text": [
      "Fitting individual 8/9 with genotype {'epochs': 8, 'epsilon': 0.041616342589832364, 'm_plus': 0.9075628941072512, 'm_minus': 0.05606354990371717, 'lambda_': 0.6510640730586538, 'alpha': 0.0024940127407382683, 'r': 2, 'no_of_conv_kernels': 128, 'no_of_primary_capsules': 32, 'no_of_secondary_capsules': 10, 'primary_capsule_vector': 8, 'secondary_capsule_vector': 16}\n"
     ]
    },
    {
     "name": "stderr",
     "output_type": "stream",
     "text": [
      "Epoch 1/8: 100%|██████████| 16/16 [00:07<00:00,  2.19it/s, Loss : 0.0072]\n",
      "Epoch 2/8: 100%|██████████| 16/16 [00:04<00:00,  3.93it/s, Loss : 0.0045]\n",
      "Epoch 3/8: 100%|██████████| 16/16 [00:04<00:00,  3.97it/s, Loss : 0.0035]\n",
      "Epoch 4/8: 100%|██████████| 16/16 [00:04<00:00,  3.91it/s, Loss : 0.0031]\n",
      "Epoch 5/8: 100%|██████████| 16/16 [00:04<00:00,  3.99it/s, Loss : 0.0028]\n",
      "Epoch 6/8: 100%|██████████| 16/16 [00:04<00:00,  3.98it/s, Loss : 0.0026]\n",
      "Epoch 7/8: 100%|██████████| 16/16 [00:04<00:00,  3.94it/s, Loss : 0.0025]\n",
      "Epoch 8/8: 100%|██████████| 16/16 [00:04<00:00,  3.84it/s, Loss : 0.0024]\n"
     ]
    },
    {
     "name": "stdout",
     "output_type": "stream",
     "text": [
      "Fitting individual 9/9 with genotype {'epochs': 5, 'epsilon': 0.05802773218214239, 'm_plus': 0.9026370486388448, 'm_minus': 0.05409280011295582, 'lambda_': 0.3024044357835628, 'alpha': 0.0010422464330524233, 'r': 4, 'no_of_conv_kernels': 128, 'no_of_primary_capsules': 32, 'no_of_secondary_capsules': 10, 'primary_capsule_vector': 8, 'secondary_capsule_vector': 16}\n"
     ]
    },
    {
     "name": "stderr",
     "output_type": "stream",
     "text": [
      "Epoch 1/5: 100%|██████████| 16/16 [00:11<00:00,  1.38it/s, Loss : 0.0064]\n",
      "Epoch 2/5: 100%|██████████| 16/16 [00:05<00:00,  3.13it/s, Loss : 0.0034]\n",
      "Epoch 3/5: 100%|██████████| 16/16 [00:05<00:00,  3.07it/s, Loss : 0.0027]\n",
      "Epoch 4/5: 100%|██████████| 16/16 [00:05<00:00,  3.06it/s, Loss : 0.0023]\n",
      "Epoch 5/5: 100%|██████████| 16/16 [00:05<00:00,  3.07it/s, Loss : 0.0021]\n"
     ]
    },
    {
     "name": "stdout",
     "output_type": "stream",
     "text": [
      "Len of pop after selection : 5\n",
      "=== Generation 3/5\n",
      "Len of pop before manipulations : 5\n",
      "crossover created 2 offspring(s)\n",
      "mutation created 0 offspring(s)\n",
      "local search created 1 offspring(s)\n",
      "Len of pop after manipulations : 8\n",
      "Fitting individual 1/8 with genotype {'epochs': 5, 'epsilon': 0.069567156154152, 'm_plus': 0.9763556985185515, 'm_minus': 0.17124604203242638, 'lambda_': 0.3252953206047693, 'alpha': 0.005277943797230046, 'r': 2, 'no_of_conv_kernels': 128, 'no_of_primary_capsules': 32, 'no_of_secondary_capsules': 10, 'primary_capsule_vector': 8, 'secondary_capsule_vector': 16}\n"
     ]
    },
    {
     "name": "stderr",
     "output_type": "stream",
     "text": [
      "Epoch 1/5: 100%|██████████| 16/16 [00:07<00:00,  2.15it/s, Loss : 0.0058]\n",
      "Epoch 2/5: 100%|██████████| 16/16 [00:04<00:00,  3.87it/s, Loss : 0.0026]\n",
      "Epoch 3/5: 100%|██████████| 16/16 [00:04<00:00,  3.96it/s, Loss : 0.0018]\n",
      "Epoch 4/5: 100%|██████████| 16/16 [00:04<00:00,  3.99it/s, Loss : 0.0014]\n",
      "Epoch 5/5: 100%|██████████| 16/16 [00:04<00:00,  3.99it/s, Loss : 0.0011]\n"
     ]
    },
    {
     "name": "stdout",
     "output_type": "stream",
     "text": [
      "Fitting individual 2/8 with genotype {'epochs': 5, 'epsilon': 0.05802773218214239, 'm_plus': 0.9026370486388448, 'm_minus': 0.05606354990371717, 'lambda_': 0.6510640730586538, 'alpha': 0.0024940127407382683, 'r': 2, 'no_of_conv_kernels': 128, 'no_of_primary_capsules': 32, 'no_of_secondary_capsules': 10, 'primary_capsule_vector': 8, 'secondary_capsule_vector': 16}\n"
     ]
    },
    {
     "name": "stderr",
     "output_type": "stream",
     "text": [
      "Epoch 1/5: 100%|██████████| 16/16 [00:07<00:00,  2.20it/s, Loss : 0.0091]\n",
      "Epoch 2/5: 100%|██████████| 16/16 [00:04<00:00,  3.99it/s, Loss : 0.0059]\n",
      "Epoch 3/5: 100%|██████████| 16/16 [00:04<00:00,  3.81it/s, Loss : 0.0047]\n",
      "Epoch 4/5: 100%|██████████| 16/16 [00:04<00:00,  3.93it/s, Loss : 0.0042]\n",
      "Epoch 5/5: 100%|██████████| 16/16 [00:04<00:00,  4.00it/s, Loss : 0.0039]\n"
     ]
    },
    {
     "name": "stdout",
     "output_type": "stream",
     "text": [
      "Fitting individual 3/8 with genotype {'epochs': 5, 'epsilon': 0.019232835941956565, 'm_plus': 0.907025979479877, 'm_minus': 0.18975725870563304, 'lambda_': 0.5680780228689898, 'alpha': 0.004113754853585136, 'r': 4, 'no_of_conv_kernels': 128, 'no_of_primary_capsules': 32, 'no_of_secondary_capsules': 10, 'primary_capsule_vector': 8, 'secondary_capsule_vector': 16}\n"
     ]
    },
    {
     "name": "stderr",
     "output_type": "stream",
     "text": [
      "Epoch 1/5: 100%|██████████| 16/16 [00:11<00:00,  1.38it/s, Loss : 0.0080]\n",
      "Epoch 2/5: 100%|██████████| 16/16 [00:05<00:00,  3.10it/s, Loss : 0.0031]\n",
      "Epoch 3/5: 100%|██████████| 16/16 [00:05<00:00,  3.09it/s, Loss : 0.0017]\n",
      "Epoch 4/5: 100%|██████████| 16/16 [00:05<00:00,  3.14it/s, Loss : 0.0012]\n",
      "Epoch 5/5: 100%|██████████| 16/16 [00:05<00:00,  3.14it/s, Loss : 0.0009]\n"
     ]
    },
    {
     "name": "stdout",
     "output_type": "stream",
     "text": [
      "Fitting individual 4/8 with genotype {'epochs': 2, 'epsilon': 0.049971113420850595, 'm_plus': 0.9651571155378869, 'm_minus': 0.09884317035419735, 'lambda_': 0.3835299625686359, 'alpha': 0.0006489939896333016, 'r': 2, 'no_of_conv_kernels': 128, 'no_of_primary_capsules': 32, 'no_of_secondary_capsules': 10, 'primary_capsule_vector': 8, 'secondary_capsule_vector': 16}\n"
     ]
    },
    {
     "name": "stderr",
     "output_type": "stream",
     "text": [
      "Epoch 1/2: 100%|██████████| 16/16 [00:07<00:00,  2.17it/s, Loss : 0.0077]\n",
      "Epoch 2/2: 100%|██████████| 16/16 [00:04<00:00,  3.97it/s, Loss : 0.0037]\n"
     ]
    },
    {
     "name": "stdout",
     "output_type": "stream",
     "text": [
      "Fitting individual 5/8 with genotype {'epochs': 8, 'epsilon': 0.041616342589832364, 'm_plus': 0.9075628941072512, 'm_minus': 0.05409280011295582, 'lambda_': 0.3024044357835628, 'alpha': 0.0010422464330524233, 'r': 4, 'no_of_conv_kernels': 128, 'no_of_primary_capsules': 32, 'no_of_secondary_capsules': 10, 'primary_capsule_vector': 8, 'secondary_capsule_vector': 16}\n"
     ]
    },
    {
     "name": "stderr",
     "output_type": "stream",
     "text": [
      "Epoch 1/8: 100%|██████████| 16/16 [00:11<00:00,  1.38it/s, Loss : 0.0061]\n",
      "Epoch 2/8: 100%|██████████| 16/16 [00:05<00:00,  3.11it/s, Loss : 0.0030]\n",
      "Epoch 3/8: 100%|██████████| 16/16 [00:05<00:00,  3.09it/s, Loss : 0.0023]\n",
      "Epoch 4/8: 100%|██████████| 16/16 [00:05<00:00,  3.12it/s, Loss : 0.0018]\n",
      "Epoch 5/8: 100%|██████████| 16/16 [00:05<00:00,  3.12it/s, Loss : 0.0016]\n",
      "Epoch 6/8: 100%|██████████| 16/16 [00:05<00:00,  3.08it/s, Loss : 0.0014]\n",
      "Epoch 7/8: 100%|██████████| 16/16 [00:05<00:00,  3.14it/s, Loss : 0.0013]\n",
      "Epoch 8/8: 100%|██████████| 16/16 [00:05<00:00,  3.14it/s, Loss : 0.0012]\n"
     ]
    },
    {
     "name": "stdout",
     "output_type": "stream",
     "text": [
      "Fitting individual 6/8 with genotype {'epochs': 5, 'epsilon': 0.05802773218214239, 'm_plus': 0.907025979479877, 'm_minus': 0.1854003049552299, 'lambda_': 0.5680780228689898, 'alpha': 0.004113754853585136, 'r': 4, 'no_of_conv_kernels': 128, 'no_of_primary_capsules': 32, 'no_of_secondary_capsules': 10, 'primary_capsule_vector': 8, 'secondary_capsule_vector': 16}\n"
     ]
    },
    {
     "name": "stderr",
     "output_type": "stream",
     "text": [
      "Epoch 1/5: 100%|██████████| 16/16 [00:11<00:00,  1.37it/s, Loss : 0.0069]\n",
      "Epoch 2/5: 100%|██████████| 16/16 [00:05<00:00,  3.12it/s, Loss : 0.0037]\n",
      "Epoch 3/5: 100%|██████████| 16/16 [00:05<00:00,  3.11it/s, Loss : 0.0021]\n",
      "Epoch 4/5: 100%|██████████| 16/16 [00:05<00:00,  3.09it/s, Loss : 0.0014]\n",
      "Epoch 5/5: 100%|██████████| 16/16 [00:05<00:00,  3.13it/s, Loss : 0.0011]\n"
     ]
    },
    {
     "name": "stdout",
     "output_type": "stream",
     "text": [
      "Fitting individual 7/8 with genotype {'epochs': 5, 'epsilon': 0.019232835941956565, 'm_plus': 0.9026370486388448, 'm_minus': 0.05606354990371717, 'lambda_': 0.6510640730586538, 'alpha': 0.0024940127407382683, 'r': 2, 'no_of_conv_kernels': 128, 'no_of_primary_capsules': 32, 'no_of_secondary_capsules': 10, 'primary_capsule_vector': 8, 'secondary_capsule_vector': 16}\n"
     ]
    },
    {
     "name": "stderr",
     "output_type": "stream",
     "text": [
      "Epoch 1/5: 100%|██████████| 16/16 [00:07<00:00,  2.18it/s, Loss : 0.0089]\n",
      "Epoch 2/5: 100%|██████████| 16/16 [00:04<00:00,  3.96it/s, Loss : 0.0046]\n",
      "Epoch 3/5: 100%|██████████| 16/16 [00:04<00:00,  3.95it/s, Loss : 0.0030]\n",
      "Epoch 4/5: 100%|██████████| 16/16 [00:04<00:00,  3.97it/s, Loss : 0.0023]\n",
      "Epoch 5/5: 100%|██████████| 16/16 [00:04<00:00,  3.99it/s, Loss : 0.0018]\n"
     ]
    },
    {
     "name": "stdout",
     "output_type": "stream",
     "text": [
      "Fitting individual 8/8 with genotype {'epochs': 5, 'epsilon': 0.019232835941956565, 'm_plus': 0.907025979479877, 'm_minus': 0.18975725870563304, 'lambda_': 0.5680780228689898, 'alpha': 0.004113754853585136, 'r': 4, 'no_of_conv_kernels': 128, 'no_of_primary_capsules': 32, 'no_of_secondary_capsules': 10, 'primary_capsule_vector': 8, 'secondary_capsule_vector': 16}\n"
     ]
    },
    {
     "name": "stderr",
     "output_type": "stream",
     "text": [
      "Epoch 1/5: 100%|██████████| 16/16 [00:11<00:00,  1.38it/s, Loss : 0.0073]\n",
      "Epoch 2/5: 100%|██████████| 16/16 [00:05<00:00,  3.08it/s, Loss : 0.0031]\n",
      "Epoch 3/5: 100%|██████████| 16/16 [00:05<00:00,  3.07it/s, Loss : 0.0018]\n",
      "Epoch 4/5: 100%|██████████| 16/16 [00:05<00:00,  3.13it/s, Loss : 0.0012]\n",
      "Epoch 5/5: 100%|██████████| 16/16 [00:05<00:00,  3.12it/s, Loss : 0.0008]\n"
     ]
    },
    {
     "name": "stdout",
     "output_type": "stream",
     "text": [
      "Len of pop after selection : 5\n",
      "=== Generation 4/5\n",
      "Len of pop before manipulations : 5\n",
      "crossover created 4 offspring(s)\n",
      "mutation created 0 offspring(s)\n",
      "local search created 1 offspring(s)\n",
      "Len of pop after manipulations : 10\n",
      "Fitting individual 1/10 with genotype {'epochs': 5, 'epsilon': 0.05802773218214239, 'm_plus': 0.9026370486388448, 'm_minus': 0.05606354990371717, 'lambda_': 0.6510640730586538, 'alpha': 0.0024940127407382683, 'r': 2, 'no_of_conv_kernels': 128, 'no_of_primary_capsules': 32, 'no_of_secondary_capsules': 10, 'primary_capsule_vector': 8, 'secondary_capsule_vector': 16}\n"
     ]
    },
    {
     "name": "stderr",
     "output_type": "stream",
     "text": [
      "Epoch 1/5: 100%|██████████| 16/16 [00:07<00:00,  2.15it/s, Loss : 0.0084]\n",
      "Epoch 2/5: 100%|██████████| 16/16 [00:03<00:00,  4.01it/s, Loss : 0.0056]\n",
      "Epoch 3/5: 100%|██████████| 16/16 [00:04<00:00,  3.99it/s, Loss : 0.0046]\n",
      "Epoch 4/5: 100%|██████████| 16/16 [00:04<00:00,  3.85it/s, Loss : 0.0041]\n",
      "Epoch 5/5: 100%|██████████| 16/16 [00:04<00:00,  3.90it/s, Loss : 0.0038]\n"
     ]
    },
    {
     "name": "stdout",
     "output_type": "stream",
     "text": [
      "Fitting individual 2/10 with genotype {'epochs': 8, 'epsilon': 0.041616342589832364, 'm_plus': 0.9075628941072512, 'm_minus': 0.05409280011295582, 'lambda_': 0.3024044357835628, 'alpha': 0.0010422464330524233, 'r': 4, 'no_of_conv_kernels': 128, 'no_of_primary_capsules': 32, 'no_of_secondary_capsules': 10, 'primary_capsule_vector': 8, 'secondary_capsule_vector': 16}\n"
     ]
    },
    {
     "name": "stderr",
     "output_type": "stream",
     "text": [
      "Epoch 1/8: 100%|██████████| 16/16 [00:11<00:00,  1.36it/s, Loss : 0.0068]\n",
      "Epoch 2/8: 100%|██████████| 16/16 [00:05<00:00,  3.08it/s, Loss : 0.0033]\n",
      "Epoch 3/8: 100%|██████████| 16/16 [00:05<00:00,  3.13it/s, Loss : 0.0024]\n",
      "Epoch 4/8: 100%|██████████| 16/16 [00:05<00:00,  2.97it/s, Loss : 0.0019]\n",
      "Epoch 5/8: 100%|██████████| 16/16 [00:05<00:00,  3.08it/s, Loss : 0.0016]\n",
      "Epoch 6/8: 100%|██████████| 16/16 [00:05<00:00,  3.11it/s, Loss : 0.0015]\n",
      "Epoch 7/8: 100%|██████████| 16/16 [00:05<00:00,  2.98it/s, Loss : 0.0013]\n",
      "Epoch 8/8: 100%|██████████| 16/16 [00:05<00:00,  3.07it/s, Loss : 0.0013]\n"
     ]
    },
    {
     "name": "stdout",
     "output_type": "stream",
     "text": [
      "Fitting individual 3/10 with genotype {'epochs': 5, 'epsilon': 0.069567156154152, 'm_plus': 0.9763556985185515, 'm_minus': 0.17124604203242638, 'lambda_': 0.3252953206047693, 'alpha': 0.005277943797230046, 'r': 2, 'no_of_conv_kernels': 128, 'no_of_primary_capsules': 32, 'no_of_secondary_capsules': 10, 'primary_capsule_vector': 8, 'secondary_capsule_vector': 16}\n"
     ]
    },
    {
     "name": "stderr",
     "output_type": "stream",
     "text": [
      "Epoch 1/5: 100%|██████████| 16/16 [00:07<00:00,  2.19it/s, Loss : 0.0060]\n",
      "Epoch 2/5: 100%|██████████| 16/16 [00:04<00:00,  3.98it/s, Loss : 0.0027]\n",
      "Epoch 3/5: 100%|██████████| 16/16 [00:04<00:00,  3.89it/s, Loss : 0.0018]\n",
      "Epoch 4/5: 100%|██████████| 16/16 [00:04<00:00,  3.96it/s, Loss : 0.0014]\n",
      "Epoch 5/5: 100%|██████████| 16/16 [00:04<00:00,  3.99it/s, Loss : 0.0011]\n"
     ]
    },
    {
     "name": "stdout",
     "output_type": "stream",
     "text": [
      "Fitting individual 4/10 with genotype {'epochs': 5, 'epsilon': 0.019232835941956565, 'm_plus': 0.907025979479877, 'm_minus': 0.18975725870563304, 'lambda_': 0.5680780228689898, 'alpha': 0.004113754853585136, 'r': 4, 'no_of_conv_kernels': 128, 'no_of_primary_capsules': 32, 'no_of_secondary_capsules': 10, 'primary_capsule_vector': 8, 'secondary_capsule_vector': 16}\n"
     ]
    },
    {
     "name": "stderr",
     "output_type": "stream",
     "text": [
      "Epoch 1/5: 100%|██████████| 16/16 [00:11<00:00,  1.36it/s, Loss : 0.0055]\n",
      "Epoch 2/5: 100%|██████████| 16/16 [00:05<00:00,  3.08it/s, Loss : 0.0022]\n",
      "Epoch 3/5: 100%|██████████| 16/16 [00:05<00:00,  3.04it/s, Loss : 0.0014]\n",
      "Epoch 4/5: 100%|██████████| 16/16 [00:05<00:00,  3.13it/s, Loss : 0.0009]\n",
      "Epoch 5/5: 100%|██████████| 16/16 [00:05<00:00,  3.12it/s, Loss : 0.0006]\n"
     ]
    },
    {
     "name": "stdout",
     "output_type": "stream",
     "text": [
      "Fitting individual 5/10 with genotype {'epochs': 2, 'epsilon': 0.049971113420850595, 'm_plus': 0.9651571155378869, 'm_minus': 0.09884317035419735, 'lambda_': 0.3835299625686359, 'alpha': 0.0006489939896333016, 'r': 2, 'no_of_conv_kernels': 128, 'no_of_primary_capsules': 32, 'no_of_secondary_capsules': 10, 'primary_capsule_vector': 8, 'secondary_capsule_vector': 16}\n"
     ]
    },
    {
     "name": "stderr",
     "output_type": "stream",
     "text": [
      "Epoch 1/2: 100%|██████████| 16/16 [00:07<00:00,  2.14it/s, Loss : 0.0076]\n",
      "Epoch 2/2: 100%|██████████| 16/16 [00:04<00:00,  3.92it/s, Loss : 0.0037]\n"
     ]
    },
    {
     "name": "stdout",
     "output_type": "stream",
     "text": [
      "Fitting individual 6/10 with genotype {'epochs': 2, 'epsilon': 0.049971113420850595, 'm_plus': 0.9651571155378869, 'm_minus': 0.18975725870563304, 'lambda_': 0.5680780228689898, 'alpha': 0.004113754853585136, 'r': 4, 'no_of_conv_kernels': 128, 'no_of_primary_capsules': 32, 'no_of_secondary_capsules': 10, 'primary_capsule_vector': 8, 'secondary_capsule_vector': 16}\n"
     ]
    },
    {
     "name": "stderr",
     "output_type": "stream",
     "text": [
      "Epoch 1/2: 100%|██████████| 16/16 [00:11<00:00,  1.38it/s, Loss : 0.0082]\n",
      "Epoch 2/2: 100%|██████████| 16/16 [00:05<00:00,  3.14it/s, Loss : 0.0037]\n"
     ]
    },
    {
     "name": "stdout",
     "output_type": "stream",
     "text": [
      "Fitting individual 7/10 with genotype {'epochs': 5, 'epsilon': 0.019232835941956565, 'm_plus': 0.907025979479877, 'm_minus': 0.09884317035419735, 'lambda_': 0.3835299625686359, 'alpha': 0.0006489939896333016, 'r': 2, 'no_of_conv_kernels': 128, 'no_of_primary_capsules': 32, 'no_of_secondary_capsules': 10, 'primary_capsule_vector': 8, 'secondary_capsule_vector': 16}\n"
     ]
    },
    {
     "name": "stderr",
     "output_type": "stream",
     "text": [
      "Epoch 1/5: 100%|██████████| 16/16 [00:07<00:00,  2.20it/s, Loss : 0.0051]\n",
      "Epoch 2/5: 100%|██████████| 16/16 [00:04<00:00,  3.83it/s, Loss : 0.0021]\n",
      "Epoch 3/5: 100%|██████████| 16/16 [00:04<00:00,  3.96it/s, Loss : 0.0014]\n",
      "Epoch 4/5: 100%|██████████| 16/16 [00:04<00:00,  3.96it/s, Loss : 0.0010]\n",
      "Epoch 5/5: 100%|██████████| 16/16 [00:04<00:00,  3.94it/s, Loss : 0.0007]\n"
     ]
    },
    {
     "name": "stdout",
     "output_type": "stream",
     "text": [
      "Fitting individual 8/10 with genotype {'epochs': 8, 'epsilon': 0.041616342589832364, 'm_plus': 0.907025979479877, 'm_minus': 0.18975725870563304, 'lambda_': 0.5680780228689898, 'alpha': 0.004113754853585136, 'r': 4, 'no_of_conv_kernels': 128, 'no_of_primary_capsules': 32, 'no_of_secondary_capsules': 10, 'primary_capsule_vector': 8, 'secondary_capsule_vector': 16}\n"
     ]
    },
    {
     "name": "stderr",
     "output_type": "stream",
     "text": [
      "Epoch 1/8: 100%|██████████| 16/16 [00:11<00:00,  1.36it/s, Loss : 0.0074]\n",
      "Epoch 2/8: 100%|██████████| 16/16 [00:05<00:00,  3.02it/s, Loss : 0.0036]\n",
      "Epoch 3/8: 100%|██████████| 16/16 [00:05<00:00,  3.06it/s, Loss : 0.0019]\n",
      "Epoch 4/8: 100%|██████████| 16/16 [00:05<00:00,  3.06it/s, Loss : 0.0013]\n",
      "Epoch 5/8: 100%|██████████| 16/16 [00:05<00:00,  2.98it/s, Loss : 0.0009]\n",
      "Epoch 6/8: 100%|██████████| 16/16 [00:05<00:00,  2.99it/s, Loss : 0.0007]\n",
      "Epoch 7/8: 100%|██████████| 16/16 [00:05<00:00,  3.12it/s, Loss : 0.0005]\n",
      "Epoch 8/8: 100%|██████████| 16/16 [00:05<00:00,  3.07it/s, Loss : 0.0004]\n"
     ]
    },
    {
     "name": "stdout",
     "output_type": "stream",
     "text": [
      "Fitting individual 9/10 with genotype {'epochs': 5, 'epsilon': 0.019232835941956565, 'm_plus': 0.9075628941072512, 'm_minus': 0.05409280011295582, 'lambda_': 0.3024044357835628, 'alpha': 0.0010422464330524233, 'r': 4, 'no_of_conv_kernels': 128, 'no_of_primary_capsules': 32, 'no_of_secondary_capsules': 10, 'primary_capsule_vector': 8, 'secondary_capsule_vector': 16}\n"
     ]
    },
    {
     "name": "stderr",
     "output_type": "stream",
     "text": [
      "Epoch 1/5: 100%|██████████| 16/16 [00:11<00:00,  1.39it/s, Loss : 0.0056]\n",
      "Epoch 2/5: 100%|██████████| 16/16 [00:05<00:00,  3.09it/s, Loss : 0.0024]\n",
      "Epoch 3/5: 100%|██████████| 16/16 [00:05<00:00,  3.10it/s, Loss : 0.0017]\n",
      "Epoch 4/5: 100%|██████████| 16/16 [00:05<00:00,  3.04it/s, Loss : 0.0013]\n",
      "Epoch 5/5: 100%|██████████| 16/16 [00:05<00:00,  3.06it/s, Loss : 0.0010]\n"
     ]
    },
    {
     "name": "stdout",
     "output_type": "stream",
     "text": [
      "Fitting individual 10/10 with genotype {'epochs': 8, 'epsilon': 0.041616342589832364, 'm_plus': 0.9075628941072512, 'm_minus': 0.05409280011295582, 'lambda_': 0.3024044357835628, 'alpha': 0.0010422464330524233, 'r': 4, 'no_of_conv_kernels': 128, 'no_of_primary_capsules': 32, 'no_of_secondary_capsules': 10, 'primary_capsule_vector': 8, 'secondary_capsule_vector': 16}\n"
     ]
    },
    {
     "name": "stderr",
     "output_type": "stream",
     "text": [
      "Epoch 1/8: 100%|██████████| 16/16 [00:11<00:00,  1.39it/s, Loss : 0.0062]\n",
      "Epoch 2/8: 100%|██████████| 16/16 [00:05<00:00,  3.11it/s, Loss : 0.0030]\n",
      "Epoch 3/8: 100%|██████████| 16/16 [00:05<00:00,  3.01it/s, Loss : 0.0022]\n",
      "Epoch 4/8: 100%|██████████| 16/16 [00:05<00:00,  3.11it/s, Loss : 0.0018]\n",
      "Epoch 5/8: 100%|██████████| 16/16 [00:05<00:00,  3.10it/s, Loss : 0.0016]\n",
      "Epoch 6/8: 100%|██████████| 16/16 [00:05<00:00,  3.11it/s, Loss : 0.0014]\n",
      "Epoch 7/8: 100%|██████████| 16/16 [00:05<00:00,  3.02it/s, Loss : 0.0013]\n",
      "Epoch 8/8: 100%|██████████| 16/16 [00:05<00:00,  3.09it/s, Loss : 0.0012]\n"
     ]
    },
    {
     "name": "stdout",
     "output_type": "stream",
     "text": [
      "Len of pop after selection : 5\n",
      "=== Generation 5/5\n",
      "Len of pop before manipulations : 5\n",
      "crossover created 2 offspring(s)\n",
      "mutation created 0 offspring(s)\n",
      "local search created 1 offspring(s)\n",
      "Len of pop after manipulations : 8\n",
      "Fitting individual 1/8 with genotype {'epochs': 5, 'epsilon': 0.05802773218214239, 'm_plus': 0.9026370486388448, 'm_minus': 0.05606354990371717, 'lambda_': 0.6510640730586538, 'alpha': 0.0024940127407382683, 'r': 2, 'no_of_conv_kernels': 128, 'no_of_primary_capsules': 32, 'no_of_secondary_capsules': 10, 'primary_capsule_vector': 8, 'secondary_capsule_vector': 16}\n"
     ]
    },
    {
     "name": "stderr",
     "output_type": "stream",
     "text": [
      "Epoch 1/5: 100%|██████████| 16/16 [00:07<00:00,  2.19it/s, Loss : 0.0085]\n",
      "Epoch 2/5: 100%|██████████| 16/16 [00:04<00:00,  3.93it/s, Loss : 0.0056]\n",
      "Epoch 3/5: 100%|██████████| 16/16 [00:04<00:00,  3.93it/s, Loss : 0.0046]\n",
      "Epoch 4/5: 100%|██████████| 16/16 [00:04<00:00,  3.95it/s, Loss : 0.0042]\n",
      "Epoch 5/5: 100%|██████████| 16/16 [00:04<00:00,  3.95it/s, Loss : 0.0038]\n"
     ]
    },
    {
     "name": "stdout",
     "output_type": "stream",
     "text": [
      "Fitting individual 2/8 with genotype {'epochs': 8, 'epsilon': 0.041616342589832364, 'm_plus': 0.9075628941072512, 'm_minus': 0.05409280011295582, 'lambda_': 0.3024044357835628, 'alpha': 0.0010422464330524233, 'r': 4, 'no_of_conv_kernels': 128, 'no_of_primary_capsules': 32, 'no_of_secondary_capsules': 10, 'primary_capsule_vector': 8, 'secondary_capsule_vector': 16}\n"
     ]
    },
    {
     "name": "stderr",
     "output_type": "stream",
     "text": [
      "Epoch 1/8: 100%|██████████| 16/16 [00:11<00:00,  1.37it/s, Loss : 0.0073]\n",
      "Epoch 2/8: 100%|██████████| 16/16 [00:05<00:00,  3.03it/s, Loss : 0.0035]\n",
      "Epoch 3/8: 100%|██████████| 16/16 [00:05<00:00,  3.11it/s, Loss : 0.0025]\n",
      "Epoch 4/8: 100%|██████████| 16/16 [00:05<00:00,  3.09it/s, Loss : 0.0020]\n",
      "Epoch 5/8: 100%|██████████| 16/16 [00:05<00:00,  3.06it/s, Loss : 0.0017]\n",
      "Epoch 6/8: 100%|██████████| 16/16 [00:05<00:00,  3.12it/s, Loss : 0.0015]\n",
      "Epoch 7/8: 100%|██████████| 16/16 [00:05<00:00,  3.08it/s, Loss : 0.0014]\n",
      "Epoch 8/8: 100%|██████████| 16/16 [00:05<00:00,  3.05it/s, Loss : 0.0013]\n"
     ]
    },
    {
     "name": "stdout",
     "output_type": "stream",
     "text": [
      "Fitting individual 3/8 with genotype {'epochs': 5, 'epsilon': 0.069567156154152, 'm_plus': 0.9763556985185515, 'm_minus': 0.17124604203242638, 'lambda_': 0.3252953206047693, 'alpha': 0.005277943797230046, 'r': 2, 'no_of_conv_kernels': 128, 'no_of_primary_capsules': 32, 'no_of_secondary_capsules': 10, 'primary_capsule_vector': 8, 'secondary_capsule_vector': 16}\n"
     ]
    },
    {
     "name": "stderr",
     "output_type": "stream",
     "text": [
      "Epoch 1/5: 100%|██████████| 16/16 [00:07<00:00,  2.15it/s, Loss : 0.0058]\n",
      "Epoch 2/5: 100%|██████████| 16/16 [00:04<00:00,  3.97it/s, Loss : 0.0026]\n",
      "Epoch 3/5: 100%|██████████| 16/16 [00:04<00:00,  3.92it/s, Loss : 0.0018]\n",
      "Epoch 4/5: 100%|██████████| 16/16 [00:04<00:00,  3.85it/s, Loss : 0.0014]\n",
      "Epoch 5/5: 100%|██████████| 16/16 [00:04<00:00,  3.93it/s, Loss : 0.0011]\n"
     ]
    },
    {
     "name": "stdout",
     "output_type": "stream",
     "text": [
      "Fitting individual 4/8 with genotype {'epochs': 5, 'epsilon': 0.019232835941956565, 'm_plus': 0.907025979479877, 'm_minus': 0.18975725870563304, 'lambda_': 0.5680780228689898, 'alpha': 0.004113754853585136, 'r': 4, 'no_of_conv_kernels': 128, 'no_of_primary_capsules': 32, 'no_of_secondary_capsules': 10, 'primary_capsule_vector': 8, 'secondary_capsule_vector': 16}\n"
     ]
    },
    {
     "name": "stderr",
     "output_type": "stream",
     "text": [
      "Epoch 1/5: 100%|██████████| 16/16 [00:11<00:00,  1.36it/s, Loss : 0.0081]\n",
      "Epoch 2/5: 100%|██████████| 16/16 [00:05<00:00,  3.12it/s, Loss : 0.0030]\n",
      "Epoch 3/5: 100%|██████████| 16/16 [00:05<00:00,  3.10it/s, Loss : 0.0017]\n",
      "Epoch 4/5: 100%|██████████| 16/16 [00:05<00:00,  3.00it/s, Loss : 0.0011]\n",
      "Epoch 5/5: 100%|██████████| 16/16 [00:05<00:00,  3.13it/s, Loss : 0.0008]\n"
     ]
    },
    {
     "name": "stdout",
     "output_type": "stream",
     "text": [
      "Fitting individual 5/8 with genotype {'epochs': 2, 'epsilon': 0.049971113420850595, 'm_plus': 0.99, 'm_minus': 0.09884317035419735, 'lambda_': 0.3835299625686359, 'alpha': 0.0006489939896333016, 'r': 2, 'no_of_conv_kernels': 128, 'no_of_primary_capsules': 32, 'no_of_secondary_capsules': 10, 'primary_capsule_vector': 8, 'secondary_capsule_vector': 16}\n"
     ]
    },
    {
     "name": "stderr",
     "output_type": "stream",
     "text": [
      "Epoch 1/2: 100%|██████████| 16/16 [00:07<00:00,  2.22it/s, Loss : 0.0078]\n",
      "Epoch 2/2: 100%|██████████| 16/16 [00:04<00:00,  3.89it/s, Loss : 0.0039]\n"
     ]
    },
    {
     "name": "stdout",
     "output_type": "stream",
     "text": [
      "Fitting individual 6/8 with genotype {'epochs': 5, 'epsilon': 0.05802773218214239, 'm_plus': 0.9026370486388448, 'm_minus': 0.05606354990371717, 'lambda_': 0.6510640730586538, 'alpha': 0.0024940127407382683, 'r': 2, 'no_of_conv_kernels': 128, 'no_of_primary_capsules': 32, 'no_of_secondary_capsules': 10, 'primary_capsule_vector': 8, 'secondary_capsule_vector': 16}\n"
     ]
    },
    {
     "name": "stderr",
     "output_type": "stream",
     "text": [
      "Epoch 1/5: 100%|██████████| 16/16 [00:07<00:00,  2.20it/s, Loss : 0.0094]\n",
      "Epoch 2/5: 100%|██████████| 16/16 [00:04<00:00,  3.72it/s, Loss : 0.0064]\n",
      "Epoch 3/5: 100%|██████████| 16/16 [00:04<00:00,  3.98it/s, Loss : 0.0050]\n",
      "Epoch 4/5: 100%|██████████| 16/16 [00:04<00:00,  3.92it/s, Loss : 0.0043]\n",
      "Epoch 5/5: 100%|██████████| 16/16 [00:04<00:00,  3.99it/s, Loss : 0.0039]\n"
     ]
    },
    {
     "name": "stdout",
     "output_type": "stream",
     "text": [
      "Fitting individual 7/8 with genotype {'epochs': 5, 'epsilon': 0.019232835941956565, 'm_plus': 0.907025979479877, 'm_minus': 0.18975725870563304, 'lambda_': 0.5680780228689898, 'alpha': 0.004113754853585136, 'r': 4, 'no_of_conv_kernels': 128, 'no_of_primary_capsules': 32, 'no_of_secondary_capsules': 10, 'primary_capsule_vector': 8, 'secondary_capsule_vector': 16}\n"
     ]
    },
    {
     "name": "stderr",
     "output_type": "stream",
     "text": [
      "Epoch 1/5: 100%|██████████| 16/16 [00:11<00:00,  1.36it/s, Loss : 0.0068]\n",
      "Epoch 2/5: 100%|██████████| 16/16 [00:05<00:00,  3.00it/s, Loss : 0.0026]\n",
      "Epoch 3/5: 100%|██████████| 16/16 [00:05<00:00,  3.08it/s, Loss : 0.0015]\n",
      "Epoch 4/5: 100%|██████████| 16/16 [00:05<00:00,  3.15it/s, Loss : 0.0009]\n",
      "Epoch 5/5: 100%|██████████| 16/16 [00:05<00:00,  3.04it/s, Loss : 0.0006]\n"
     ]
    },
    {
     "name": "stdout",
     "output_type": "stream",
     "text": [
      "Fitting individual 8/8 with genotype {'epochs': 2, 'epsilon': 0.049971113420850595, 'm_plus': 0.99, 'm_minus': 0.09884317035419735, 'lambda_': 0.3835299625686359, 'alpha': 0.0006489939896333016, 'r': 2, 'no_of_conv_kernels': 128, 'no_of_primary_capsules': 32, 'no_of_secondary_capsules': 10, 'primary_capsule_vector': 8, 'secondary_capsule_vector': 16}\n"
     ]
    },
    {
     "name": "stderr",
     "output_type": "stream",
     "text": [
      "Epoch 1/2: 100%|██████████| 16/16 [00:07<00:00,  2.18it/s, Loss : 0.0076]\n",
      "Epoch 2/2: 100%|██████████| 16/16 [00:04<00:00,  3.94it/s, Loss : 0.0037]\n"
     ]
    },
    {
     "name": "stdout",
     "output_type": "stream",
     "text": [
      "Len of pop after selection : 5\n",
      "Fitting individual 1/5 with genotype {'epochs': 5, 'epsilon': 0.05802773218214239, 'm_plus': 0.9026370486388448, 'm_minus': 0.05606354990371717, 'lambda_': 0.6510640730586538, 'alpha': 0.0024940127407382683, 'r': 2, 'no_of_conv_kernels': 128, 'no_of_primary_capsules': 32, 'no_of_secondary_capsules': 10, 'primary_capsule_vector': 8, 'secondary_capsule_vector': 16}\n"
     ]
    },
    {
     "name": "stderr",
     "output_type": "stream",
     "text": [
      "Epoch 1/5: 100%|██████████| 16/16 [00:07<00:00,  2.18it/s, Loss : 0.0087]\n",
      "Epoch 2/5: 100%|██████████| 16/16 [00:04<00:00,  3.96it/s, Loss : 0.0058]\n",
      "Epoch 3/5: 100%|██████████| 16/16 [00:04<00:00,  3.91it/s, Loss : 0.0047]\n",
      "Epoch 4/5: 100%|██████████| 16/16 [00:04<00:00,  3.78it/s, Loss : 0.0042]\n",
      "Epoch 5/5: 100%|██████████| 16/16 [00:04<00:00,  3.97it/s, Loss : 0.0039]\n"
     ]
    },
    {
     "name": "stdout",
     "output_type": "stream",
     "text": [
      "Fitting individual 2/5 with genotype {'epochs': 5, 'epsilon': 0.069567156154152, 'm_plus': 0.9763556985185515, 'm_minus': 0.17124604203242638, 'lambda_': 0.3252953206047693, 'alpha': 0.005277943797230046, 'r': 2, 'no_of_conv_kernels': 128, 'no_of_primary_capsules': 32, 'no_of_secondary_capsules': 10, 'primary_capsule_vector': 8, 'secondary_capsule_vector': 16}\n"
     ]
    },
    {
     "name": "stderr",
     "output_type": "stream",
     "text": [
      "Epoch 1/5: 100%|██████████| 16/16 [00:07<00:00,  2.18it/s, Loss : 0.0059]\n",
      "Epoch 2/5: 100%|██████████| 16/16 [00:04<00:00,  3.93it/s, Loss : 0.0026]\n",
      "Epoch 3/5: 100%|██████████| 16/16 [00:04<00:00,  3.93it/s, Loss : 0.0018]\n",
      "Epoch 4/5: 100%|██████████| 16/16 [00:04<00:00,  3.90it/s, Loss : 0.0014]\n",
      "Epoch 5/5: 100%|██████████| 16/16 [00:04<00:00,  3.98it/s, Loss : 0.0011]\n"
     ]
    },
    {
     "name": "stdout",
     "output_type": "stream",
     "text": [
      "Fitting individual 3/5 with genotype {'epochs': 8, 'epsilon': 0.041616342589832364, 'm_plus': 0.9075628941072512, 'm_minus': 0.05409280011295582, 'lambda_': 0.3024044357835628, 'alpha': 0.0010422464330524233, 'r': 4, 'no_of_conv_kernels': 128, 'no_of_primary_capsules': 32, 'no_of_secondary_capsules': 10, 'primary_capsule_vector': 8, 'secondary_capsule_vector': 16}\n"
     ]
    },
    {
     "name": "stderr",
     "output_type": "stream",
     "text": [
      "Epoch 1/8: 100%|██████████| 16/16 [00:11<00:00,  1.37it/s, Loss : 0.0073]\n",
      "Epoch 2/8: 100%|██████████| 16/16 [00:05<00:00,  3.12it/s, Loss : 0.0035]\n",
      "Epoch 3/8: 100%|██████████| 16/16 [00:05<00:00,  3.07it/s, Loss : 0.0025]\n",
      "Epoch 4/8: 100%|██████████| 16/16 [00:05<00:00,  3.11it/s, Loss : 0.0020]\n",
      "Epoch 5/8: 100%|██████████| 16/16 [00:05<00:00,  3.13it/s, Loss : 0.0017]\n",
      "Epoch 6/8: 100%|██████████| 16/16 [00:05<00:00,  3.10it/s, Loss : 0.0015]\n",
      "Epoch 7/8: 100%|██████████| 16/16 [00:05<00:00,  3.08it/s, Loss : 0.0014]\n",
      "Epoch 8/8: 100%|██████████| 16/16 [00:05<00:00,  3.10it/s, Loss : 0.0013]\n"
     ]
    },
    {
     "name": "stdout",
     "output_type": "stream",
     "text": [
      "Fitting individual 4/5 with genotype {'epochs': 2, 'epsilon': 0.049971113420850595, 'm_plus': 0.99, 'm_minus': 0.09884317035419735, 'lambda_': 0.3835299625686359, 'alpha': 0.0006489939896333016, 'r': 2, 'no_of_conv_kernels': 128, 'no_of_primary_capsules': 32, 'no_of_secondary_capsules': 10, 'primary_capsule_vector': 8, 'secondary_capsule_vector': 16}\n"
     ]
    },
    {
     "name": "stderr",
     "output_type": "stream",
     "text": [
      "Epoch 1/2: 100%|██████████| 16/16 [00:07<00:00,  2.14it/s, Loss : 0.0081]\n",
      "Epoch 2/2: 100%|██████████| 16/16 [00:04<00:00,  3.89it/s, Loss : 0.0040]\n"
     ]
    },
    {
     "name": "stdout",
     "output_type": "stream",
     "text": [
      "Fitting individual 5/5 with genotype {'epochs': 5, 'epsilon': 0.019232835941956565, 'm_plus': 0.907025979479877, 'm_minus': 0.18975725870563304, 'lambda_': 0.5680780228689898, 'alpha': 0.004113754853585136, 'r': 4, 'no_of_conv_kernels': 128, 'no_of_primary_capsules': 32, 'no_of_secondary_capsules': 10, 'primary_capsule_vector': 8, 'secondary_capsule_vector': 16}\n"
     ]
    },
    {
     "name": "stderr",
     "output_type": "stream",
     "text": [
      "Epoch 1/5: 100%|██████████| 16/16 [00:11<00:00,  1.38it/s, Loss : 0.0074]\n",
      "Epoch 2/5: 100%|██████████| 16/16 [00:05<00:00,  3.14it/s, Loss : 0.0029]\n",
      "Epoch 3/5: 100%|██████████| 16/16 [00:05<00:00,  3.09it/s, Loss : 0.0017]\n",
      "Epoch 4/5: 100%|██████████| 16/16 [00:05<00:00,  3.06it/s, Loss : 0.0012]\n",
      "Epoch 5/5: 100%|██████████| 16/16 [00:05<00:00,  3.13it/s, Loss : 0.0008]\n"
     ]
    },
    {
     "name": "stdout",
     "output_type": "stream",
     "text": [
      "Saving GA metrics under nas_mnist_1/generations_metrics.png\n",
      "Optimal solution(s):\n",
      "[[5.00000000e+00 5.80277322e-02 9.02637049e-01 5.60635499e-02\n",
      "  6.51064073e-01 2.49401274e-03 2.00000000e+00]\n",
      " [5.00000000e+00 6.95671562e-02 9.76355699e-01 1.71246042e-01\n",
      "  3.25295321e-01 5.27794380e-03 2.00000000e+00]\n",
      " [7.94580548e+00 4.16163426e-02 9.07562894e-01 5.40928001e-02\n",
      "  3.02404436e-01 1.04224643e-03 4.00000000e+00]]\n",
      "______________\n",
      "Fitness values:\n",
      "  Inference    Accuracy\n",
      "[[ 5.67523217  0.953125  ]\n",
      " [ 5.38991499  0.9453125 ]\n",
      " [10.8352778   0.9609375 ]]\n",
      "=== GA done : 2023-07-11 13:11:29.433974 ===\n",
      "Saving GA solutions under nas_mnist_1/solutions_metrics.png\n"
     ]
    },
    {
     "data": {
      "image/png": "[encoded data removed]",
      "text/plain": [
       "<Figure size 640x480 with 1 Axes>"
      ]
     },
     "metadata": {},
     "output_type": "display_data"
    },
    {
     "data": {
      "image/png": "[encoded data removed]",
      "text/plain": [
       "<Figure size 640x480 with 1 Axes>"
      ]
     },
     "metadata": {},
     "output_type": "display_data"
    }
   ],
   "source": [
    "(X_train, y_train), (X_test , y_test) = load_mnist(size=(1024, 512))\n",
    "\n",
    "params = {\n",
    "    \"name\": 'nas_mnist_1',\n",
    "    'n_gen': 5,\n",
    "    'pop_size': 5,\n",
    "    'rate_crossover': 0.7,\n",
    "    'rate_mutation': 0.1,\n",
    "    'rate_local_search': 0.5,\n",
    "    'step_size': 0.1,\n",
    "    'train_data': (X_train, y_train),\n",
    "    'test_data': (X_test, y_test)\n",
    "}\n",
    "\n",
    "nas = Nsga_II(**params)\n",
    "\n",
    "if nas.valid:\n",
    "    nas.optimise()"
   ]
  }
 ],
 "metadata": {
  "kernelspec": {
   "display_name": "capsnet",
   "language": "python",
   "name": "python3"
  },
  "language_info": {
   "codemirror_mode": {
    "name": "ipython",
    "version": 3
   },
   "file_extension": ".py",
   "mimetype": "text/x-python",
   "name": "python",
   "nbconvert_exporter": "python",
   "pygments_lexer": "ipython3",
   "version": "3.10.11"
  },
  "orig_nbformat": 4
 },
 "nbformat": 4,
 "nbformat_minor": 2
}

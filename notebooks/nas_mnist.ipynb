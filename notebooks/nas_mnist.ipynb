{
 "cells": [
  {
   "attachments": {},
   "cell_type": "markdown",
   "metadata": {},
   "source": [
    "# NAS on CapsNet on MNIST dataset"
   ]
  },
  {
   "attachments": {},
   "cell_type": "markdown",
   "metadata": {},
   "source": [
    "> Focusing on inference time and accuracy"
   ]
  },
  {
   "cell_type": "code",
   "execution_count": 3,
   "metadata": {},
   "outputs": [],
   "source": [
    "# Setting PATH to import CapsNet class from python file to notebook\n",
    "\n",
    "import os\n",
    "import sys\n",
    "directory_path = os.path.abspath(os.path.join('../src'))\n",
    "if directory_path not in sys.path:\n",
    "    sys.path.append(directory_path)\n",
    "\n",
    "from NsgaII import Nsga_II\n",
    "from utils.load_data import load_mnist"
   ]
  },
  {
   "cell_type": "code",
   "execution_count": 4,
   "metadata": {},
   "outputs": [
    {
     "name": "stdout",
     "output_type": "stream",
     "text": [
      "A ga has been saved under the same name (nas_mnist_1) replace ?\n",
      "=== Generation 1/2\n",
      "Len of pop before manipulations : 10\n",
      "crossover created 10 offspring(s)\n",
      "mutation created 3 offspring(s)\n",
      "local search created 2 offspring(s)\n",
      "Len of pop after manipulations : 25\n",
      "Fitting individual 1/25 with genotype {'epochs': 7, 'r': 2, 'no_of_conv_kernels': 64, 'secondary_capsule_vector': 32, 'epsilon': 0.06620138452048967, 'm_plus': 0.9861090491505236, 'm_minus': 0.12933426176959373, 'lambda_': 0.796796712999918, 'alpha': 0.00906440717267489, 'no_of_primary_capsules': 32, 'primary_capsule_vector': 8, 'no_of_secondary_capsules': 10}\n"
     ]
    },
    {
     "name": "stderr",
     "output_type": "stream",
     "text": [
      "Epoch 1/7: 100%|██████████| 8/8 [00:08<00:00,  1.06s/it, Training loss : 0.0092, Validation loss : 0.0093]\n",
      "Epoch 2/7: 100%|██████████| 8/8 [00:02<00:00,  3.85it/s, Training loss : 0.0059, Validation loss : 0.0079]\n",
      "Epoch 3/7: 100%|██████████| 8/8 [00:02<00:00,  3.59it/s, Training loss : 0.0048, Validation loss : 0.0070]\n",
      "Epoch 4/7: 100%|██████████| 8/8 [00:02<00:00,  3.54it/s, Training loss : 0.0040, Validation loss : 0.0065]\n",
      "Epoch 5/7: 100%|██████████| 8/8 [00:02<00:00,  3.80it/s, Training loss : 0.0035, Validation loss : 0.0060]\n",
      "Epoch 6/7: 100%|██████████| 8/8 [00:02<00:00,  3.61it/s, Training loss : 0.0032, Validation loss : 0.0051]\n",
      "Epoch 7/7: 100%|██████████| 8/8 [00:02<00:00,  3.59it/s]"
     ]
    },
    {
     "name": "stdout",
     "output_type": "stream",
     "text": [
      "Validation loss is not decreasing anymore, risk of overfitting the model after 7 epochs. The training will be stopped. This behavior can be modified by setting the early_stop property of the model to False\n"
     ]
    },
    {
     "name": "stderr",
     "output_type": "stream",
     "text": [
      "\n"
     ]
    },
    {
     "name": "stdout",
     "output_type": "stream",
     "text": [
      "Fitting individual 2/25 with genotype {'epochs': 7, 'r': 3, 'no_of_conv_kernels': 32, 'secondary_capsule_vector': 6, 'epsilon': 0.07395440117926026, 'm_plus': 0.9396056964366244, 'm_minus': 0.06999855655824984, 'lambda_': 0.5700347745558376, 'alpha': 0.0014973934458316206, 'no_of_primary_capsules': 32, 'primary_capsule_vector': 8, 'no_of_secondary_capsules': 10}\n"
     ]
    },
    {
     "name": "stderr",
     "output_type": "stream",
     "text": [
      "Epoch 1/7: 100%|██████████| 8/8 [00:10<00:00,  1.33s/it, Training loss : 0.0105, Validation loss : 0.0130]\n",
      "Epoch 2/7: 100%|██████████| 8/8 [00:01<00:00,  5.16it/s, Training loss : 0.0099, Validation loss : 0.0110]\n",
      "Epoch 3/7: 100%|██████████| 8/8 [00:01<00:00,  5.70it/s, Training loss : 0.0074, Validation loss : 0.0097]\n",
      "Epoch 4/7: 100%|██████████| 8/8 [00:01<00:00,  5.94it/s, Training loss : 0.0063, Validation loss : 0.0085]\n",
      "Epoch 5/7: 100%|██████████| 8/8 [00:01<00:00,  5.89it/s, Training loss : 0.0055, Validation loss : 0.0076]\n",
      "Epoch 6/7: 100%|██████████| 8/8 [00:01<00:00,  5.23it/s, Training loss : 0.0050, Validation loss : 0.0071]\n",
      "Epoch 7/7: 100%|██████████| 8/8 [00:01<00:00,  5.66it/s, Training loss : 0.0046, Validation loss : 0.0070]\n"
     ]
    },
    {
     "name": "stdout",
     "output_type": "stream",
     "text": [
      "Fitting individual 3/25 with genotype {'epochs': 9, 'r': 3, 'no_of_conv_kernels': 32, 'secondary_capsule_vector': 36, 'epsilon': 0.03905148073036857, 'm_plus': 0.9486577319327354, 'm_minus': 0.11653407461552777, 'lambda_': 0.9530006224265647, 'alpha': 0.0033181786451703396, 'no_of_primary_capsules': 32, 'primary_capsule_vector': 8, 'no_of_secondary_capsules': 10}\n"
     ]
    },
    {
     "name": "stderr",
     "output_type": "stream",
     "text": [
      "Epoch 1/9: 100%|██████████| 8/8 [00:11<00:00,  1.49s/it, Training loss : 0.0088, Validation loss : 0.0084]\n",
      "Epoch 2/9: 100%|██████████| 8/8 [00:02<00:00,  3.06it/s, Training loss : 0.0052, Validation loss : 0.0071]\n",
      "Epoch 3/9: 100%|██████████| 8/8 [00:02<00:00,  2.90it/s, Training loss : 0.0040, Validation loss : 0.0064]\n",
      "Epoch 4/9: 100%|██████████| 8/8 [00:02<00:00,  3.30it/s, Training loss : 0.0034, Validation loss : 0.0052]\n",
      "Epoch 5/9: 100%|██████████| 8/8 [00:02<00:00,  3.26it/s, Training loss : 0.0028, Validation loss : 0.0050]\n",
      "Epoch 6/9: 100%|██████████| 8/8 [00:02<00:00,  3.17it/s, Training loss : 0.0025, Validation loss : 0.0046]\n",
      "Epoch 7/9: 100%|██████████| 8/8 [00:02<00:00,  2.97it/s, Training loss : 0.0022, Validation loss : 0.0038]\n",
      "Epoch 8/9: 100%|██████████| 8/8 [00:02<00:00,  2.93it/s]"
     ]
    },
    {
     "name": "stdout",
     "output_type": "stream",
     "text": [
      "Validation loss is not decreasing anymore, risk of overfitting the model after 8 epochs. The training will be stopped. This behavior can be modified by setting the early_stop property of the model to False\n"
     ]
    },
    {
     "name": "stderr",
     "output_type": "stream",
     "text": [
      "\n"
     ]
    },
    {
     "name": "stdout",
     "output_type": "stream",
     "text": [
      "Fitting individual 4/25 with genotype {'epochs': 6, 'r': 4, 'no_of_conv_kernels': 128, 'secondary_capsule_vector': 11, 'epsilon': 0.08239054972189806, 'm_plus': 0.9832664852574586, 'm_minus': 0.1484198443388804, 'lambda_': 0.7548215296129449, 'alpha': 0.0010814627187063187, 'no_of_primary_capsules': 32, 'primary_capsule_vector': 8, 'no_of_secondary_capsules': 10}\n"
     ]
    },
    {
     "name": "stderr",
     "output_type": "stream",
     "text": [
      "Epoch 1/6: 100%|██████████| 8/8 [00:15<00:00,  1.89s/it, Training loss : 0.0099, Validation loss : 0.0123]\n",
      "Epoch 2/6: 100%|██████████| 8/8 [00:02<00:00,  2.86it/s]"
     ]
    },
    {
     "name": "stdout",
     "output_type": "stream",
     "text": [
      "Validation loss is not decreasing anymore, risk of overfitting the model after 2 epochs. The training will be stopped. This behavior can be modified by setting the early_stop property of the model to False\n"
     ]
    },
    {
     "name": "stderr",
     "output_type": "stream",
     "text": [
      "\n"
     ]
    },
    {
     "name": "stdout",
     "output_type": "stream",
     "text": [
      "Fitting individual 5/25 with genotype {'epochs': 5, 'r': 2, 'no_of_conv_kernels': 64, 'secondary_capsule_vector': 48, 'epsilon': 0.01235848962899423, 'm_plus': 0.9790813831876287, 'm_minus': 0.171436810250971, 'lambda_': 0.28137102835741956, 'alpha': 0.0028169505010762802, 'no_of_primary_capsules': 32, 'primary_capsule_vector': 8, 'no_of_secondary_capsules': 10}\n"
     ]
    },
    {
     "name": "stderr",
     "output_type": "stream",
     "text": [
      "Epoch 1/5: 100%|██████████| 8/8 [00:09<00:00,  1.18s/it, Training loss : 0.0075, Validation loss : 0.0055]\n",
      "Epoch 2/5: 100%|██████████| 8/8 [00:03<00:00,  2.64it/s, Training loss : 0.0031, Validation loss : 0.0045]\n",
      "Epoch 3/5: 100%|██████████| 8/8 [00:03<00:00,  2.64it/s, Training loss : 0.0021, Validation loss : 0.0029]\n",
      "Epoch 4/5: 100%|██████████| 8/8 [00:03<00:00,  2.65it/s, Training loss : 0.0015, Validation loss : 0.0027]\n",
      "Epoch 5/5: 100%|██████████| 8/8 [00:02<00:00,  2.71it/s, Training loss : 0.0012, Validation loss : 0.0023]\n"
     ]
    },
    {
     "name": "stdout",
     "output_type": "stream",
     "text": [
      "Fitting individual 6/25 with genotype {'epochs': 5, 'r': 2, 'no_of_conv_kernels': 64, 'secondary_capsule_vector': 46, 'epsilon': 0.09708443559285292, 'm_plus': 0.9076454436921813, 'm_minus': 0.07620971322271756, 'lambda_': 0.9744936883186562, 'alpha': 0.00632701756610108, 'no_of_primary_capsules': 32, 'primary_capsule_vector': 8, 'no_of_secondary_capsules': 10}\n"
     ]
    },
    {
     "name": "stderr",
     "output_type": "stream",
     "text": [
      "Epoch 1/5: 100%|██████████| 8/8 [00:09<00:00,  1.18s/it, Training loss : 0.0136, Validation loss : 0.0168]\n",
      "Epoch 2/5: 100%|██████████| 8/8 [00:03<00:00,  2.63it/s]"
     ]
    },
    {
     "name": "stdout",
     "output_type": "stream",
     "text": [
      "Validation loss is not decreasing anymore, risk of overfitting the model after 2 epochs. The training will be stopped. This behavior can be modified by setting the early_stop property of the model to False\n"
     ]
    },
    {
     "name": "stderr",
     "output_type": "stream",
     "text": [
      "\n"
     ]
    },
    {
     "name": "stdout",
     "output_type": "stream",
     "text": [
      "Fitting individual 7/25 with genotype {'epochs': 1, 'r': 2, 'no_of_conv_kernels': 64, 'secondary_capsule_vector': 14, 'epsilon': 0.09069431956719373, 'm_plus': 0.9508645237731554, 'm_minus': 0.11364705525482588, 'lambda_': 0.5583455592352249, 'alpha': 0.0011028193323446478, 'no_of_primary_capsules': 32, 'primary_capsule_vector': 8, 'no_of_secondary_capsules': 10}\n"
     ]
    },
    {
     "name": "stderr",
     "output_type": "stream",
     "text": [
      "Epoch 1/1: 100%|██████████| 8/8 [00:07<00:00,  1.02it/s, Training loss : 0.0094, Validation loss : 0.0110]\n"
     ]
    },
    {
     "name": "stdout",
     "output_type": "stream",
     "text": [
      "Fitting individual 8/25 with genotype {'epochs': 4, 'r': 2, 'no_of_conv_kernels': 64, 'secondary_capsule_vector': 8, 'epsilon': 0.02773626131555961, 'm_plus': 0.9776648503209723, 'm_minus': 0.1936579976292932, 'lambda_': 0.35228519489483756, 'alpha': 0.0032435447001033174, 'no_of_primary_capsules': 32, 'primary_capsule_vector': 8, 'no_of_secondary_capsules': 10}\n"
     ]
    },
    {
     "name": "stderr",
     "output_type": "stream",
     "text": [
      "Epoch 1/4: 100%|██████████| 8/8 [00:07<00:00,  1.04it/s, Training loss : 0.0077, Validation loss : 0.0059]\n",
      "Epoch 2/4: 100%|██████████| 8/8 [00:01<00:00,  5.66it/s, Training loss : 0.0033, Validation loss : 0.0042]\n",
      "Epoch 3/4: 100%|██████████| 8/8 [00:01<00:00,  5.65it/s, Training loss : 0.0022, Validation loss : 0.0032]\n",
      "Epoch 4/4: 100%|██████████| 8/8 [00:01<00:00,  5.43it/s]\n"
     ]
    },
    {
     "name": "stdout",
     "output_type": "stream",
     "text": [
      "Validation loss is not decreasing anymore, risk of overfitting the model after 4 epochs. The training will be stopped. This behavior can be modified by setting the early_stop property of the model to False\n",
      "Fitting individual 9/25 with genotype {'epochs': 2, 'r': 3, 'no_of_conv_kernels': 64, 'secondary_capsule_vector': 23, 'epsilon': 0.059843731693683545, 'm_plus': 0.9302364921831014, 'm_minus': 0.18975594348173203, 'lambda_': 0.5137026946573916, 'alpha': 0.008169025650652861, 'no_of_primary_capsules': 32, 'primary_capsule_vector': 8, 'no_of_secondary_capsules': 10}\n"
     ]
    },
    {
     "name": "stderr",
     "output_type": "stream",
     "text": [
      "Epoch 1/2: 100%|██████████| 8/8 [00:12<00:00,  1.51s/it, Training loss : 0.0084, Validation loss : 0.0073]\n",
      "Epoch 2/2: 100%|██████████| 8/8 [00:02<00:00,  3.29it/s, Training loss : 0.0049, Validation loss : 0.0051]\n"
     ]
    },
    {
     "name": "stdout",
     "output_type": "stream",
     "text": [
      "Fitting individual 10/25 with genotype {'epochs': 1, 'r': 4, 'no_of_conv_kernels': 128, 'secondary_capsule_vector': 11, 'epsilon': 0.1, 'm_plus': 0.90462820100018, 'm_minus': 0.12897756143859762, 'lambda_': 0.574615934108782, 'alpha': 0.0003736542039787964, 'no_of_primary_capsules': 32, 'primary_capsule_vector': 8, 'no_of_secondary_capsules': 10}\n"
     ]
    },
    {
     "name": "stderr",
     "output_type": "stream",
     "text": [
      "Epoch 1/1: 100%|██████████| 8/8 [00:15<00:00,  1.89s/it, Training loss : 0.0084, Validation loss : 0.0099]\n"
     ]
    },
    {
     "name": "stdout",
     "output_type": "stream",
     "text": [
      "Fitting individual 11/25 with genotype {'epochs': 4, 'r': 2, 'no_of_conv_kernels': 64, 'secondary_capsule_vector': 8, 'epsilon': 0.02773626131555961, 'm_plus': 0.9776648503209723, 'm_minus': 0.1936579976292932, 'lambda_': 0.7548215296129449, 'alpha': 0.0010814627187063187, 'no_of_primary_capsules': 32, 'primary_capsule_vector': 8, 'no_of_secondary_capsules': 10}\n"
     ]
    },
    {
     "name": "stderr",
     "output_type": "stream",
     "text": [
      "Epoch 1/4: 100%|██████████| 8/8 [00:07<00:00,  1.03it/s, Training loss : 0.0098, Validation loss : 0.0094]\n",
      "Epoch 2/4: 100%|██████████| 8/8 [00:01<00:00,  5.65it/s, Training loss : 0.0058, Validation loss : 0.0064]\n",
      "Epoch 3/4: 100%|██████████| 8/8 [00:01<00:00,  5.73it/s, Training loss : 0.0035, Validation loss : 0.0049]\n",
      "Epoch 4/4: 100%|██████████| 8/8 [00:01<00:00,  5.71it/s, Training loss : 0.0025, Validation loss : 0.0035]\n"
     ]
    },
    {
     "name": "stdout",
     "output_type": "stream",
     "text": [
      "Fitting individual 12/25 with genotype {'epochs': 6, 'r': 4, 'no_of_conv_kernels': 128, 'secondary_capsule_vector': 11, 'epsilon': 0.08239054972189806, 'm_plus': 0.9832664852574586, 'm_minus': 0.1484198443388804, 'lambda_': 0.35228519489483756, 'alpha': 0.0032435447001033174, 'no_of_primary_capsules': 32, 'primary_capsule_vector': 8, 'no_of_secondary_capsules': 10}\n"
     ]
    },
    {
     "name": "stderr",
     "output_type": "stream",
     "text": [
      "Epoch 1/6: 100%|██████████| 8/8 [00:15<00:00,  1.89s/it, Training loss : 0.0082, Validation loss : 0.0080]\n",
      "Epoch 2/6: 100%|██████████| 8/8 [00:02<00:00,  2.98it/s, Training loss : 0.0043, Validation loss : 0.0047]\n",
      "Epoch 3/6: 100%|██████████| 8/8 [00:02<00:00,  2.95it/s, Training loss : 0.0030, Validation loss : 0.0040]\n",
      "Epoch 4/6: 100%|██████████| 8/8 [00:02<00:00,  2.84it/s, Training loss : 0.0024, Validation loss : 0.0034]\n",
      "Epoch 5/6: 100%|██████████| 8/8 [00:02<00:00,  2.94it/s, Training loss : 0.0020, Validation loss : 0.0034]\n",
      "Epoch 6/6: 100%|██████████| 8/8 [00:02<00:00,  2.96it/s, Training loss : 0.0017, Validation loss : 0.0029]\n"
     ]
    },
    {
     "name": "stdout",
     "output_type": "stream",
     "text": [
      "Fitting individual 13/25 with genotype {'epochs': 5, 'r': 2, 'no_of_conv_kernels': 64, 'secondary_capsule_vector': 6, 'epsilon': 0.06620138452048967, 'm_plus': 0.9861090491505236, 'm_minus': 0.12933426176959373, 'lambda_': 0.796796712999918, 'alpha': 0.00906440717267489, 'no_of_primary_capsules': 32, 'primary_capsule_vector': 8, 'no_of_secondary_capsules': 10}\n"
     ]
    },
    {
     "name": "stderr",
     "output_type": "stream",
     "text": [
      "Epoch 1/5: 100%|██████████| 8/8 [00:06<00:00,  1.20it/s, Training loss : 0.0105, Validation loss : 0.0129]\n",
      "Epoch 2/5: 100%|██████████| 8/8 [00:01<00:00,  5.76it/s, Training loss : 0.0096, Validation loss : 0.0109]\n",
      "Epoch 3/5: 100%|██████████| 8/8 [00:01<00:00,  5.65it/s, Training loss : 0.0071, Validation loss : 0.0085]\n",
      "Epoch 4/5: 100%|██████████| 8/8 [00:01<00:00,  5.50it/s, Training loss : 0.0051, Validation loss : 0.0075]\n",
      "Epoch 5/5: 100%|██████████| 8/8 [00:01<00:00,  5.17it/s, Training loss : 0.0044, Validation loss : 0.0063]\n"
     ]
    },
    {
     "name": "stdout",
     "output_type": "stream",
     "text": [
      "Fitting individual 14/25 with genotype {'epochs': 7, 'r': 2, 'no_of_conv_kernels': 64, 'secondary_capsule_vector': 48, 'epsilon': 0.01235848962899423, 'm_plus': 0.9790813831876287, 'm_minus': 0.171436810250971, 'lambda_': 0.28137102835741956, 'alpha': 0.0028169505010762802, 'no_of_primary_capsules': 32, 'primary_capsule_vector': 8, 'no_of_secondary_capsules': 10}\n"
     ]
    },
    {
     "name": "stderr",
     "output_type": "stream",
     "text": [
      "Epoch 1/7: 100%|██████████| 8/8 [00:09<00:00,  1.20s/it, Training loss : 0.0067, Validation loss : 0.0051]\n",
      "Epoch 2/7: 100%|██████████| 8/8 [00:03<00:00,  2.67it/s, Training loss : 0.0027, Validation loss : 0.0032]\n",
      "Epoch 3/7: 100%|██████████| 8/8 [00:02<00:00,  2.72it/s, Training loss : 0.0019, Validation loss : 0.0030]\n",
      "Epoch 4/7: 100%|██████████| 8/8 [00:02<00:00,  2.70it/s, Training loss : 0.0014, Validation loss : 0.0027]\n",
      "Epoch 5/7: 100%|██████████| 8/8 [00:03<00:00,  2.59it/s, Training loss : 0.0012, Validation loss : 0.0024]\n",
      "Epoch 6/7: 100%|██████████| 8/8 [00:03<00:00,  2.59it/s, Training loss : 0.0009, Validation loss : 0.0021]\n",
      "Epoch 7/7: 100%|██████████| 8/8 [00:02<00:00,  2.68it/s, Training loss : 0.0008, Validation loss : 0.0018]\n"
     ]
    },
    {
     "name": "stdout",
     "output_type": "stream",
     "text": [
      "Fitting individual 15/25 with genotype {'epochs': 5, 'r': 2, 'no_of_conv_kernels': 64, 'secondary_capsule_vector': 48, 'epsilon': 0.01235848962899423, 'm_plus': 0.9776648503209723, 'm_minus': 0.1936579976292932, 'lambda_': 0.35228519489483756, 'alpha': 0.0032435447001033174, 'no_of_primary_capsules': 32, 'primary_capsule_vector': 8, 'no_of_secondary_capsules': 10}\n"
     ]
    },
    {
     "name": "stderr",
     "output_type": "stream",
     "text": [
      "Epoch 1/5: 100%|██████████| 8/8 [00:09<00:00,  1.15s/it, Training loss : 0.0089, Validation loss : 0.0073]\n",
      "Epoch 2/5: 100%|██████████| 8/8 [00:02<00:00,  2.70it/s, Training loss : 0.0042, Validation loss : 0.0048]\n",
      "Epoch 3/5: 100%|██████████| 8/8 [00:02<00:00,  2.67it/s, Training loss : 0.0026, Validation loss : 0.0041]\n",
      "Epoch 4/5: 100%|██████████| 8/8 [00:03<00:00,  2.61it/s, Training loss : 0.0020, Validation loss : 0.0031]\n",
      "Epoch 5/5: 100%|██████████| 8/8 [00:03<00:00,  2.53it/s, Training loss : 0.0016, Validation loss : 0.0029]\n"
     ]
    },
    {
     "name": "stdout",
     "output_type": "stream",
     "text": [
      "Fitting individual 16/25 with genotype {'epochs': 4, 'r': 2, 'no_of_conv_kernels': 64, 'secondary_capsule_vector': 8, 'epsilon': 0.02773626131555961, 'm_plus': 0.9790813831876287, 'm_minus': 0.171436810250971, 'lambda_': 0.28137102835741956, 'alpha': 0.0028169505010762802, 'no_of_primary_capsules': 32, 'primary_capsule_vector': 8, 'no_of_secondary_capsules': 10}\n"
     ]
    },
    {
     "name": "stderr",
     "output_type": "stream",
     "text": [
      "Epoch 1/4: 100%|██████████| 8/8 [00:07<00:00,  1.02it/s, Training loss : 0.0074, Validation loss : 0.0051]\n",
      "Epoch 2/4: 100%|██████████| 8/8 [00:01<00:00,  5.20it/s, Training loss : 0.0028, Validation loss : 0.0034]\n",
      "Epoch 3/4: 100%|██████████| 8/8 [00:01<00:00,  5.27it/s, Training loss : 0.0020, Validation loss : 0.0027]\n",
      "Epoch 4/4: 100%|██████████| 8/8 [00:01<00:00,  5.35it/s, Training loss : 0.0015, Validation loss : 0.0025]\n"
     ]
    },
    {
     "name": "stdout",
     "output_type": "stream",
     "text": [
      "Fitting individual 17/25 with genotype {'epochs': 6, 'r': 4, 'no_of_conv_kernels': 128, 'secondary_capsule_vector': 11, 'epsilon': 0.09098772459959296, 'm_plus': 0.90462820100018, 'm_minus': 0.12897756143859762, 'lambda_': 0.574615934108782, 'alpha': 0.0003736542039787964, 'no_of_primary_capsules': 32, 'primary_capsule_vector': 8, 'no_of_secondary_capsules': 10}\n"
     ]
    },
    {
     "name": "stderr",
     "output_type": "stream",
     "text": [
      "Epoch 1/6: 100%|██████████| 8/8 [00:14<00:00,  1.86s/it, Training loss : 0.0083, Validation loss : 0.0104]\n",
      "Epoch 2/6: 100%|██████████| 8/8 [00:02<00:00,  2.99it/s, Training loss : 0.0083, Validation loss : 0.0102]\n",
      "Epoch 3/6: 100%|██████████| 8/8 [00:02<00:00,  3.00it/s, Training loss : 0.0079, Validation loss : 0.0098]\n",
      "Epoch 4/6: 100%|██████████| 8/8 [00:02<00:00,  3.17it/s, Training loss : 0.0069, Validation loss : 0.0077]\n",
      "Epoch 5/6: 100%|██████████| 8/8 [00:02<00:00,  3.11it/s, Training loss : 0.0054, Validation loss : 0.0065]\n",
      "Epoch 6/6: 100%|██████████| 8/8 [00:02<00:00,  3.12it/s, Training loss : 0.0043, Validation loss : 0.0060]\n"
     ]
    },
    {
     "name": "stdout",
     "output_type": "stream",
     "text": [
      "Fitting individual 18/25 with genotype {'epochs': 1, 'r': 4, 'no_of_conv_kernels': 128, 'secondary_capsule_vector': 11, 'epsilon': 0.08239054972189806, 'm_plus': 0.9832664852574586, 'm_minus': 0.1484198443388804, 'lambda_': 0.7548215296129449, 'alpha': 0.0010814627187063187, 'no_of_primary_capsules': 32, 'primary_capsule_vector': 8, 'no_of_secondary_capsules': 10}\n"
     ]
    },
    {
     "name": "stderr",
     "output_type": "stream",
     "text": [
      "Epoch 1/1: 100%|██████████| 8/8 [00:14<00:00,  1.86s/it, Training loss : 0.0099, Validation loss : 0.0124]\n"
     ]
    },
    {
     "name": "stdout",
     "output_type": "stream",
     "text": [
      "Fitting individual 19/25 with genotype {'epochs': 5, 'r': 2, 'no_of_conv_kernels': 64, 'secondary_capsule_vector': 23, 'epsilon': 0.059843731693683545, 'm_plus': 0.9302364921831014, 'm_minus': 0.18975594348173203, 'lambda_': 0.5137026946573916, 'alpha': 0.008169025650652861, 'no_of_primary_capsules': 32, 'primary_capsule_vector': 8, 'no_of_secondary_capsules': 10}\n"
     ]
    },
    {
     "name": "stderr",
     "output_type": "stream",
     "text": [
      "Epoch 1/5: 100%|██████████| 8/8 [00:08<00:00,  1.03s/it, Training loss : 0.0077, Validation loss : 0.0073]\n",
      "Epoch 2/5: 100%|██████████| 8/8 [00:01<00:00,  4.23it/s, Training loss : 0.0046, Validation loss : 0.0049]\n",
      "Epoch 3/5: 100%|██████████| 8/8 [00:01<00:00,  4.29it/s, Training loss : 0.0030, Validation loss : 0.0041]\n",
      "Epoch 4/5: 100%|██████████| 8/8 [00:01<00:00,  4.22it/s, Training loss : 0.0023, Validation loss : 0.0032]\n",
      "Epoch 5/5: 100%|██████████| 8/8 [00:02<00:00,  3.95it/s, Training loss : 0.0018, Validation loss : 0.0027]\n"
     ]
    },
    {
     "name": "stdout",
     "output_type": "stream",
     "text": [
      "Fitting individual 20/25 with genotype {'epochs': 2, 'r': 3, 'no_of_conv_kernels': 64, 'secondary_capsule_vector': 48, 'epsilon': 0.01235848962899423, 'm_plus': 0.9790813831876287, 'm_minus': 0.171436810250971, 'lambda_': 0.28137102835741956, 'alpha': 0.0028169505010762802, 'no_of_primary_capsules': 32, 'primary_capsule_vector': 8, 'no_of_secondary_capsules': 10}\n"
     ]
    },
    {
     "name": "stderr",
     "output_type": "stream",
     "text": [
      "Epoch 1/2: 100%|██████████| 8/8 [00:13<00:00,  1.66s/it, Training loss : 0.0085, Validation loss : 0.0070]\n",
      "Epoch 2/2: 100%|██████████| 8/8 [00:03<00:00,  2.09it/s, Training loss : 0.0039, Validation loss : 0.0041]\n"
     ]
    },
    {
     "name": "stdout",
     "output_type": "stream",
     "text": [
      "Fitting individual 21/25 with genotype {'epochs': 1, 'r': 2, 'no_of_conv_kernels': 64, 'secondary_capsule_vector': 14, 'epsilon': 0.09069431956719373, 'm_plus': 0.9508645237731554, 'm_minus': 0.11364705525482588, 'lambda_': 0.5583455592352249, 'alpha': 0.0011028193323446478, 'no_of_primary_capsules': 32, 'primary_capsule_vector': 8, 'no_of_secondary_capsules': 10}\n"
     ]
    },
    {
     "name": "stderr",
     "output_type": "stream",
     "text": [
      "Epoch 1/1: 100%|██████████| 8/8 [00:07<00:00,  1.00it/s, Training loss : 0.0096, Validation loss : 0.0113]\n"
     ]
    },
    {
     "name": "stdout",
     "output_type": "stream",
     "text": [
      "Fitting individual 22/25 with genotype {'epochs': 7, 'r': 2, 'no_of_conv_kernels': 64, 'secondary_capsule_vector': 32, 'epsilon': 0.06620138452048967, 'm_plus': 0.9861090491505236, 'm_minus': 0.12933426176959373, 'lambda_': 0.796796712999918, 'alpha': 0.00906440717267489, 'no_of_primary_capsules': 32, 'primary_capsule_vector': 8, 'no_of_secondary_capsules': 10}\n"
     ]
    },
    {
     "name": "stderr",
     "output_type": "stream",
     "text": [
      "Epoch 1/7: 100%|██████████| 8/8 [00:08<00:00,  1.03s/it, Training loss : 0.0099, Validation loss : 0.0103]\n",
      "Epoch 2/7: 100%|██████████| 8/8 [00:02<00:00,  3.85it/s, Training loss : 0.0066, Validation loss : 0.0078]\n",
      "Epoch 3/7: 100%|██████████| 8/8 [00:02<00:00,  3.89it/s, Training loss : 0.0051, Validation loss : 0.0066]\n",
      "Epoch 4/7: 100%|██████████| 8/8 [00:02<00:00,  3.74it/s, Training loss : 0.0042, Validation loss : 0.0063]\n",
      "Epoch 5/7: 100%|██████████| 8/8 [00:02<00:00,  3.91it/s, Training loss : 0.0037, Validation loss : 0.0057]\n",
      "Epoch 6/7: 100%|██████████| 8/8 [00:02<00:00,  3.89it/s]\n"
     ]
    },
    {
     "name": "stdout",
     "output_type": "stream",
     "text": [
      "Validation loss is not decreasing anymore, risk of overfitting the model after 6 epochs. The training will be stopped. This behavior can be modified by setting the early_stop property of the model to False\n",
      "Fitting individual 23/25 with genotype {'epochs': 4, 'r': 2, 'no_of_conv_kernels': 64, 'secondary_capsule_vector': 8, 'epsilon': 0.02773626131555961, 'm_plus': 0.9776648503209723, 'm_minus': 0.1936579976292932, 'lambda_': 0.35228519489483756, 'alpha': 0.0032435447001033174, 'no_of_primary_capsules': 32, 'primary_capsule_vector': 8, 'no_of_secondary_capsules': 10}\n"
     ]
    },
    {
     "name": "stderr",
     "output_type": "stream",
     "text": [
      "Epoch 1/4: 100%|██████████| 8/8 [00:07<00:00,  1.05it/s, Training loss : 0.0093, Validation loss : 0.0074]\n",
      "Epoch 2/4: 100%|██████████| 8/8 [00:01<00:00,  5.57it/s, Training loss : 0.0041, Validation loss : 0.0040]\n",
      "Epoch 3/4: 100%|██████████| 8/8 [00:01<00:00,  5.58it/s, Training loss : 0.0025, Validation loss : 0.0034]\n",
      "Epoch 4/4: 100%|██████████| 8/8 [00:01<00:00,  5.71it/s, Training loss : 0.0018, Validation loss : 0.0032]\n"
     ]
    },
    {
     "name": "stdout",
     "output_type": "stream",
     "text": [
      "Fitting individual 24/25 with genotype {'epochs': 1, 'r': 4, 'no_of_conv_kernels': 128, 'secondary_capsule_vector': 11, 'epsilon': 0.1, 'm_plus': 0.90462820100018, 'm_minus': 0.12897756143859762, 'lambda_': 0.574615934108782, 'alpha': 0.0003736542039787964, 'no_of_primary_capsules': 32, 'primary_capsule_vector': 8, 'no_of_secondary_capsules': 10}\n"
     ]
    },
    {
     "name": "stderr",
     "output_type": "stream",
     "text": [
      "Epoch 1/1: 100%|██████████| 8/8 [00:14<00:00,  1.85s/it, Training loss : 0.0082, Validation loss : 0.0095]\n"
     ]
    },
    {
     "name": "stdout",
     "output_type": "stream",
     "text": [
      "Fitting individual 25/25 with genotype {'epochs': 7, 'r': 3, 'no_of_conv_kernels': 32, 'secondary_capsule_vector': 6, 'epsilon': 0.07395440117926026, 'm_plus': 0.9396056964366244, 'm_minus': 0.06999855655824984, 'lambda_': 0.5700347745558376, 'alpha': 0.0014973934458316206, 'no_of_primary_capsules': 32, 'primary_capsule_vector': 8, 'no_of_secondary_capsules': 10}\n"
     ]
    },
    {
     "name": "stderr",
     "output_type": "stream",
     "text": [
      "Epoch 1/7: 100%|██████████| 8/8 [00:10<00:00,  1.33s/it, Training loss : 0.0104, Validation loss : 0.0129]\n",
      "Epoch 2/7: 100%|██████████| 8/8 [00:01<00:00,  6.20it/s, Training loss : 0.0092, Validation loss : 0.0098]\n",
      "Epoch 3/7: 100%|██████████| 8/8 [00:01<00:00,  6.18it/s, Training loss : 0.0070, Validation loss : 0.0086]\n",
      "Epoch 4/7: 100%|██████████| 8/8 [00:01<00:00,  6.22it/s, Training loss : 0.0060, Validation loss : 0.0083]\n",
      "Epoch 5/7: 100%|██████████| 8/8 [00:01<00:00,  6.13it/s, Training loss : 0.0054, Validation loss : 0.0077]\n",
      "Epoch 6/7: 100%|██████████| 8/8 [00:01<00:00,  6.17it/s, Training loss : 0.0049, Validation loss : 0.0072]\n",
      "Epoch 7/7: 100%|██████████| 8/8 [00:01<00:00,  6.04it/s, Training loss : 0.0046, Validation loss : 0.0069]\n"
     ]
    },
    {
     "name": "stdout",
     "output_type": "stream",
     "text": [
      "Len of pop after selection : 10\n",
      "=== Generation 2/2\n",
      "Len of pop before manipulations : 10\n",
      "crossover created 10 offspring(s)\n",
      "mutation created 0 offspring(s)\n",
      "local search created 4 offspring(s)\n",
      "Len of pop after manipulations : 24\n",
      "Fitting individual 1/24 with genotype {'epochs': 7, 'r': 2, 'no_of_conv_kernels': 64, 'secondary_capsule_vector': 32, 'epsilon': 0.06620138452048967, 'm_plus': 0.9861090491505236, 'm_minus': 0.12933426176959373, 'lambda_': 0.796796712999918, 'alpha': 0.00906440717267489, 'no_of_primary_capsules': 32, 'primary_capsule_vector': 8, 'no_of_secondary_capsules': 10}\n"
     ]
    },
    {
     "name": "stderr",
     "output_type": "stream",
     "text": [
      "Epoch 1/7: 100%|██████████| 8/8 [00:08<00:00,  1.08s/it, Training loss : 0.0096, Validation loss : 0.0102]\n",
      "Epoch 2/7: 100%|██████████| 8/8 [00:02<00:00,  3.76it/s, Training loss : 0.0064, Validation loss : 0.0079]\n",
      "Epoch 3/7: 100%|██████████| 8/8 [00:02<00:00,  4.00it/s, Training loss : 0.0051, Validation loss : 0.0071]\n",
      "Epoch 4/7: 100%|██████████| 8/8 [00:02<00:00,  3.96it/s, Training loss : 0.0043, Validation loss : 0.0067]\n",
      "Epoch 5/7: 100%|██████████| 8/8 [04:01<00:00, 30.23s/it, Training loss : 0.0037, Validation loss : 0.0055]\n",
      "Epoch 6/7: 100%|██████████| 8/8 [00:02<00:00,  2.83it/s]"
     ]
    },
    {
     "name": "stdout",
     "output_type": "stream",
     "text": [
      "Validation loss is not decreasing anymore, risk of overfitting the model after 6 epochs. The training will be stopped. This behavior can be modified by setting the early_stop property of the model to False\n"
     ]
    },
    {
     "name": "stderr",
     "output_type": "stream",
     "text": [
      "\n"
     ]
    },
    {
     "name": "stdout",
     "output_type": "stream",
     "text": [
      "Fitting individual 2/24 with genotype {'epochs': 1, 'r': 2, 'no_of_conv_kernels': 64, 'secondary_capsule_vector': 14, 'epsilon': 0.09069431956719373, 'm_plus': 0.9508645237731554, 'm_minus': 0.11364705525482588, 'lambda_': 0.5583455592352249, 'alpha': 0.0011028193323446478, 'no_of_primary_capsules': 32, 'primary_capsule_vector': 8, 'no_of_secondary_capsules': 10}\n"
     ]
    },
    {
     "name": "stderr",
     "output_type": "stream",
     "text": [
      "Epoch 1/1: 100%|██████████| 8/8 [00:07<00:00,  1.01it/s, Training loss : 0.0092, Validation loss : 0.0093]\n"
     ]
    },
    {
     "name": "stdout",
     "output_type": "stream",
     "text": [
      "Fitting individual 3/24 with genotype {'epochs': 4, 'r': 2, 'no_of_conv_kernels': 64, 'secondary_capsule_vector': 8, 'epsilon': 0.02773626131555961, 'm_plus': 0.9724661172075072, 'm_minus': 0.1936579976292932, 'lambda_': 0.35228519489483756, 'alpha': 0.0032435447001033174, 'no_of_primary_capsules': 32, 'primary_capsule_vector': 8, 'no_of_secondary_capsules': 10}\n"
     ]
    },
    {
     "name": "stderr",
     "output_type": "stream",
     "text": [
      "Epoch 1/4: 100%|██████████| 8/8 [00:07<00:00,  1.03it/s, Training loss : 0.0077, Validation loss : 0.0058]\n",
      "Epoch 2/4: 100%|██████████| 8/8 [00:01<00:00,  5.55it/s, Training loss : 0.0032, Validation loss : 0.0036]\n",
      "Epoch 3/4: 100%|██████████| 8/8 [00:01<00:00,  5.47it/s, Training loss : 0.0021, Validation loss : 0.0029]\n",
      "Epoch 4/4: 100%|██████████| 8/8 [00:01<00:00,  5.59it/s, Training loss : 0.0016, Validation loss : 0.0023]\n"
     ]
    },
    {
     "name": "stdout",
     "output_type": "stream",
     "text": [
      "Fitting individual 4/24 with genotype {'epochs': 7, 'r': 3, 'no_of_conv_kernels': 32, 'secondary_capsule_vector': 6, 'epsilon': 0.07395440117926026, 'm_plus': 0.9396056964366244, 'm_minus': 0.06999855655824984, 'lambda_': 0.5700347745558376, 'alpha': 0.0014973934458316206, 'no_of_primary_capsules': 32, 'primary_capsule_vector': 8, 'no_of_secondary_capsules': 10}\n"
     ]
    },
    {
     "name": "stderr",
     "output_type": "stream",
     "text": [
      "Epoch 1/7: 100%|██████████| 8/8 [00:10<00:00,  1.30s/it, Training loss : 0.0103, Validation loss : 0.0125]\n",
      "Epoch 2/7: 100%|██████████| 8/8 [00:01<00:00,  6.13it/s, Training loss : 0.0086, Validation loss : 0.0091]\n",
      "Epoch 3/7: 100%|██████████| 8/8 [00:01<00:00,  6.26it/s, Training loss : 0.0066, Validation loss : 0.0088]\n",
      "Epoch 4/7: 100%|██████████| 8/8 [00:01<00:00,  6.21it/s, Training loss : 0.0058, Validation loss : 0.0078]\n",
      "Epoch 5/7: 100%|██████████| 8/8 [00:01<00:00,  6.23it/s, Training loss : 0.0052, Validation loss : 0.0077]\n",
      "Epoch 6/7: 100%|██████████| 8/8 [00:01<00:00,  6.10it/s, Training loss : 0.0048, Validation loss : 0.0071]\n",
      "Epoch 7/7: 100%|██████████| 8/8 [00:01<00:00,  6.28it/s]\n"
     ]
    },
    {
     "name": "stdout",
     "output_type": "stream",
     "text": [
      "Validation loss is not decreasing anymore, risk of overfitting the model after 7 epochs. The training will be stopped. This behavior can be modified by setting the early_stop property of the model to False\n",
      "Fitting individual 5/24 with genotype {'epochs': 8, 'r': 3, 'no_of_conv_kernels': 32, 'secondary_capsule_vector': 36, 'epsilon': 0.03905148073036857, 'm_plus': 0.9486577319327354, 'm_minus': 0.11653407461552777, 'lambda_': 0.9530006224265647, 'alpha': 0.0033181786451703396, 'no_of_primary_capsules': 32, 'primary_capsule_vector': 8, 'no_of_secondary_capsules': 10}\n"
     ]
    },
    {
     "name": "stderr",
     "output_type": "stream",
     "text": [
      "Epoch 1/8: 100%|██████████| 8/8 [00:11<00:00,  1.45s/it, Training loss : 0.0093, Validation loss : 0.0096]\n",
      "Epoch 2/8: 100%|██████████| 8/8 [00:02<00:00,  3.06it/s, Training loss : 0.0062, Validation loss : 0.0069]\n",
      "Epoch 3/8: 100%|██████████| 8/8 [00:02<00:00,  3.20it/s, Training loss : 0.0046, Validation loss : 0.0062]\n",
      "Epoch 4/8: 100%|██████████| 8/8 [00:02<00:00,  3.19it/s, Training loss : 0.0037, Validation loss : 0.0058]\n",
      "Epoch 5/8: 100%|██████████| 8/8 [00:02<00:00,  3.21it/s, Training loss : 0.0031, Validation loss : 0.0052]\n",
      "Epoch 6/8: 100%|██████████| 8/8 [00:02<00:00,  3.18it/s, Training loss : 0.0027, Validation loss : 0.0045]\n",
      "Epoch 7/8: 100%|██████████| 8/8 [00:02<00:00,  3.24it/s, Training loss : 0.0024, Validation loss : 0.0044]\n",
      "Epoch 8/8: 100%|██████████| 8/8 [00:02<00:00,  3.20it/s, Training loss : 0.0021, Validation loss : 0.0041]\n"
     ]
    },
    {
     "name": "stdout",
     "output_type": "stream",
     "text": [
      "Fitting individual 6/24 with genotype {'epochs': 5, 'r': 2, 'no_of_conv_kernels': 64, 'secondary_capsule_vector': 48, 'epsilon': 0.01235848962899423, 'm_plus': 0.9790813831876287, 'm_minus': 0.171436810250971, 'lambda_': 0.28137102835741956, 'alpha': 0.0028169505010762802, 'no_of_primary_capsules': 32, 'primary_capsule_vector': 8, 'no_of_secondary_capsules': 10}\n"
     ]
    },
    {
     "name": "stderr",
     "output_type": "stream",
     "text": [
      "Epoch 1/5: 100%|██████████| 8/8 [00:09<00:00,  1.20s/it, Training loss : 0.0070, Validation loss : 0.0054]\n",
      "Epoch 2/5: 100%|██████████| 8/8 [00:03<00:00,  2.66it/s, Training loss : 0.0030, Validation loss : 0.0032]\n",
      "Epoch 3/5: 100%|██████████| 8/8 [00:03<00:00,  2.59it/s, Training loss : 0.0020, Validation loss : 0.0030]\n",
      "Epoch 4/5: 100%|██████████| 8/8 [00:02<00:00,  2.68it/s, Training loss : 0.0015, Validation loss : 0.0027]\n",
      "Epoch 5/5: 100%|██████████| 8/8 [00:03<00:00,  2.66it/s, Training loss : 0.0012, Validation loss : 0.0024]\n"
     ]
    },
    {
     "name": "stdout",
     "output_type": "stream",
     "text": [
      "Fitting individual 7/24 with genotype {'epochs': 2, 'r': 2, 'no_of_conv_kernels': 64, 'secondary_capsule_vector': 46, 'epsilon': 0.09708443559285292, 'm_plus': 0.9076454436921813, 'm_minus': 0.07620971322271756, 'lambda_': 0.9744936883186562, 'alpha': 0.00632701756610108, 'no_of_primary_capsules': 32, 'primary_capsule_vector': 8, 'no_of_secondary_capsules': 10}\n"
     ]
    },
    {
     "name": "stderr",
     "output_type": "stream",
     "text": [
      "Epoch 1/2: 100%|██████████| 8/8 [00:09<00:00,  1.16s/it, Training loss : 0.0135, Validation loss : 0.0169]\n",
      "Epoch 2/2: 100%|██████████| 8/8 [00:02<00:00,  2.70it/s, Training loss : 0.0135, Validation loss : 0.0169]\n"
     ]
    },
    {
     "name": "stdout",
     "output_type": "stream",
     "text": [
      "Fitting individual 8/24 with genotype {'epochs': 2, 'r': 3, 'no_of_conv_kernels': 64, 'secondary_capsule_vector': 23, 'epsilon': 0.059843731693683545, 'm_plus': 0.9302364921831014, 'm_minus': 0.18975594348173203, 'lambda_': 0.5137026946573916, 'alpha': 0.008169025650652861, 'no_of_primary_capsules': 32, 'primary_capsule_vector': 8, 'no_of_secondary_capsules': 10}\n"
     ]
    },
    {
     "name": "stderr",
     "output_type": "stream",
     "text": [
      "Epoch 1/2: 100%|██████████| 8/8 [00:11<00:00,  1.46s/it, Training loss : 0.0080, Validation loss : 0.0079]\n",
      "Epoch 2/2: 100%|██████████| 8/8 [00:02<00:00,  3.45it/s, Training loss : 0.0049, Validation loss : 0.0054]\n"
     ]
    },
    {
     "name": "stdout",
     "output_type": "stream",
     "text": [
      "Fitting individual 9/24 with genotype {'epochs': 1, 'r': 4, 'no_of_conv_kernels': 128, 'secondary_capsule_vector': 11, 'epsilon': 0.1, 'm_plus': 0.90462820100018, 'm_minus': 0.12897756143859762, 'lambda_': 0.574615934108782, 'alpha': 0.0003736542039787964, 'no_of_primary_capsules': 32, 'primary_capsule_vector': 8, 'no_of_secondary_capsules': 10}\n"
     ]
    },
    {
     "name": "stderr",
     "output_type": "stream",
     "text": [
      "Epoch 1/1: 100%|██████████| 8/8 [00:14<00:00,  1.83s/it, Training loss : 0.0083, Validation loss : 0.0100]\n"
     ]
    },
    {
     "name": "stdout",
     "output_type": "stream",
     "text": [
      "Fitting individual 10/24 with genotype {'epochs': 2, 'r': 4, 'no_of_conv_kernels': 128, 'secondary_capsule_vector': 11, 'epsilon': 0.08239054972189806, 'm_plus': 0.9832664852574586, 'm_minus': 0.10115572445800368, 'lambda_': 0.8027998953053832, 'alpha': 0.0010814627187063187, 'no_of_primary_capsules': 32, 'primary_capsule_vector': 8, 'no_of_secondary_capsules': 10}\n"
     ]
    },
    {
     "name": "stderr",
     "output_type": "stream",
     "text": [
      "Epoch 1/2: 100%|██████████| 8/8 [00:14<00:00,  1.86s/it, Training loss : 0.0118, Validation loss : 0.0141]\n",
      "Epoch 2/2: 100%|██████████| 8/8 [00:02<00:00,  3.09it/s, Training loss : 0.0103, Validation loss : 0.0111]\n"
     ]
    },
    {
     "name": "stdout",
     "output_type": "stream",
     "text": [
      "Fitting individual 11/24 with genotype {'epochs': 2, 'r': 2, 'no_of_conv_kernels': 64, 'secondary_capsule_vector': 14, 'epsilon': 0.09069431956719373, 'm_plus': 0.9508645237731554, 'm_minus': 0.11364705525482588, 'lambda_': 0.5583455592352249, 'alpha': 0.0011028193323446478, 'no_of_primary_capsules': 32, 'primary_capsule_vector': 8, 'no_of_secondary_capsules': 10}\n"
     ]
    },
    {
     "name": "stderr",
     "output_type": "stream",
     "text": [
      "Epoch 1/2: 100%|██████████| 8/8 [00:07<00:00,  1.02it/s, Training loss : 0.0094, Validation loss : 0.0109]\n",
      "Epoch 2/2: 100%|██████████| 8/8 [00:01<00:00,  5.03it/s, Training loss : 0.0070, Validation loss : 0.0079]\n"
     ]
    },
    {
     "name": "stdout",
     "output_type": "stream",
     "text": [
      "Fitting individual 12/24 with genotype {'epochs': 1, 'r': 2, 'no_of_conv_kernels': 64, 'secondary_capsule_vector': 46, 'epsilon': 0.09708443559285292, 'm_plus': 0.9076454436921813, 'm_minus': 0.07620971322271756, 'lambda_': 0.9744936883186562, 'alpha': 0.00632701756610108, 'no_of_primary_capsules': 32, 'primary_capsule_vector': 8, 'no_of_secondary_capsules': 10}\n"
     ]
    },
    {
     "name": "stderr",
     "output_type": "stream",
     "text": [
      "Epoch 1/1: 100%|██████████| 8/8 [00:09<00:00,  1.16s/it, Training loss : 0.0135, Validation loss : 0.0169]\n"
     ]
    },
    {
     "name": "stdout",
     "output_type": "stream",
     "text": [
      "Fitting individual 13/24 with genotype {'epochs': 2, 'r': 3, 'no_of_conv_kernels': 64, 'secondary_capsule_vector': 48, 'epsilon': 0.01235848962899423, 'm_plus': 0.9790813831876287, 'm_minus': 0.171436810250971, 'lambda_': 0.28137102835741956, 'alpha': 0.0028169505010762802, 'no_of_primary_capsules': 32, 'primary_capsule_vector': 8, 'no_of_secondary_capsules': 10}\n"
     ]
    },
    {
     "name": "stderr",
     "output_type": "stream",
     "text": [
      "Epoch 1/2: 100%|██████████| 8/8 [00:13<00:00,  1.66s/it, Training loss : 0.0072, Validation loss : 0.0048]\n",
      "Epoch 2/2: 100%|██████████| 8/8 [00:03<00:00,  2.09it/s, Training loss : 0.0029, Validation loss : 0.0035]\n"
     ]
    },
    {
     "ename": "AttributeError",
     "evalue": "'TfMethodTarget' object has no attribute 'convolution'",
     "output_type": "error",
     "traceback": [
      "\u001b[0;31m---------------------------------------------------------------------------\u001b[0m",
      "\u001b[0;31mAttributeError\u001b[0m                            Traceback (most recent call last)",
      "Cell \u001b[0;32mIn[4], line 18\u001b[0m\n\u001b[1;32m     15\u001b[0m nas \u001b[39m=\u001b[39m Nsga_II(\u001b[39m*\u001b[39m\u001b[39m*\u001b[39mparams)\n\u001b[1;32m     17\u001b[0m \u001b[39mif\u001b[39;00m nas\u001b[39m.\u001b[39mvalid:\n\u001b[0;32m---> 18\u001b[0m     solutions \u001b[39m=\u001b[39m nas\u001b[39m.\u001b[39;49moptimise()\n",
      "File \u001b[0;32m~/Documents/THESIS/NAS-for-CapsNet/src/NsgaII.py:453\u001b[0m, in \u001b[0;36moptimise\u001b[0;34m(self)\u001b[0m\n\u001b[1;32m    451\u001b[0m \u001b[39mprint\u001b[39m(\u001b[39mf\u001b[39m\u001b[39m\"\u001b[39m\u001b[39mLen of pop after manipulations : \u001b[39m\u001b[39m{\u001b[39;00m\u001b[39mlen\u001b[39m(pop)\u001b[39m}\u001b[39;00m\u001b[39m\"\u001b[39m)\n\u001b[1;32m    452\u001b[0m fitness_values \u001b[39m=\u001b[39m \u001b[39mself\u001b[39m\u001b[39m.\u001b[39mevaluation(pop)\n\u001b[0;32m--> 453\u001b[0m metrics[\u001b[39mf\u001b[39m\u001b[39m'\u001b[39m\u001b[39mGeneration \u001b[39m\u001b[39m{\u001b[39;00mi\u001b[39m+\u001b[39m\u001b[39m1\u001b[39m\u001b[39m}\u001b[39;00m\u001b[39m'\u001b[39m] \u001b[39m=\u001b[39m [{\u001b[39m\"\u001b[39m\u001b[39minference\u001b[39m\u001b[39m\"\u001b[39m: value[\u001b[39m0\u001b[39m], \u001b[39m\"\u001b[39m\u001b[39maccuracy\u001b[39m\u001b[39m\"\u001b[39m: value[\u001b[39m1\u001b[39m]} \u001b[39mfor\u001b[39;00m value \u001b[39min\u001b[39;00m fitness_values]\n\u001b[1;32m    455\u001b[0m pop \u001b[39m=\u001b[39m \u001b[39mself\u001b[39m\u001b[39m.\u001b[39mselection(pop, fitness_values)\n\u001b[1;32m    456\u001b[0m \u001b[39mprint\u001b[39m(\u001b[39mf\u001b[39m\u001b[39m\"\u001b[39m\u001b[39mLen of pop after selection : \u001b[39m\u001b[39m{\u001b[39;00m\u001b[39mlen\u001b[39m(pop)\u001b[39m}\u001b[39;00m\u001b[39m\"\u001b[39m)\n",
      "File \u001b[0;32m~/Documents/THESIS/NAS-for-CapsNet/src/NsgaII.py:200\u001b[0m, in \u001b[0;36mNsga_II.evaluation\u001b[0;34m(self, pop)\u001b[0m\n\u001b[1;32m    198\u001b[0m \u001b[39m# Evaluate model\u001b[39;00m\n\u001b[1;32m    199\u001b[0m start \u001b[39m=\u001b[39m time\u001b[39m.\u001b[39mtime()\n\u001b[0;32m--> 200\u001b[0m y_preds \u001b[39m=\u001b[39m model\u001b[39m.\u001b[39;49mpredict(\u001b[39mself\u001b[39;49m\u001b[39m.\u001b[39;49mtest_data[\u001b[39m0\u001b[39;49m])\n\u001b[1;32m    201\u001b[0m end \u001b[39m=\u001b[39m time\u001b[39m.\u001b[39mtime()\n\u001b[1;32m    203\u001b[0m inference_time \u001b[39m=\u001b[39m (end \u001b[39m-\u001b[39m start) \u001b[39m/\u001b[39m \u001b[39mlen\u001b[39m(\u001b[39mself\u001b[39m\u001b[39m.\u001b[39mtest_data[\u001b[39m0\u001b[39m]) \u001b[39m*\u001b[39m \u001b[39m1000\u001b[39m\n",
      "File \u001b[0;32m~/Documents/THESIS/NAS-for-CapsNet/src/CapsNet.py:258\u001b[0m, in \u001b[0;36mCapsNet.predict\u001b[0;34m(self, X)\u001b[0m\n\u001b[1;32m    257\u001b[0m \u001b[39mdef\u001b[39;00m \u001b[39mpredict\u001b[39m(\u001b[39mself\u001b[39m, X):\n\u001b[0;32m--> 258\u001b[0m     \u001b[39mreturn\u001b[39;00m np\u001b[39m.\u001b[39margmax(\u001b[39mself\u001b[39;49m\u001b[39m.\u001b[39;49mpredict_proba(X), axis\u001b[39m=\u001b[39m\u001b[39m1\u001b[39m)[:,\u001b[39m0\u001b[39m]\n",
      "File \u001b[0;32m~/Documents/THESIS/NAS-for-CapsNet/src/CapsNet.py:253\u001b[0m, in \u001b[0;36mCapsNet.predict_proba\u001b[0;34m(self, X)\u001b[0m\n\u001b[1;32m    251\u001b[0m \u001b[39mif\u001b[39;00m X\u001b[39m.\u001b[39mndim \u001b[39m==\u001b[39m \u001b[39m3\u001b[39m:\n\u001b[1;32m    252\u001b[0m     X \u001b[39m=\u001b[39m tf\u001b[39m.\u001b[39mexpand_dims(X, axis\u001b[39m=\u001b[39m\u001b[39m0\u001b[39m)\n\u001b[0;32m--> 253\u001b[0m pred \u001b[39m=\u001b[39m \u001b[39mself\u001b[39m\u001b[39m.\u001b[39msafe_norm(\u001b[39mself\u001b[39;49m\u001b[39m.\u001b[39;49mpredict_capsule_output(X))\n\u001b[1;32m    254\u001b[0m pred \u001b[39m=\u001b[39m tf\u001b[39m.\u001b[39msqueeze(pred, [\u001b[39m1\u001b[39m])\n\u001b[1;32m    255\u001b[0m \u001b[39mreturn\u001b[39;00m pred\n",
      "File \u001b[0;32m~/anaconda3/envs/capsnet/lib/python3.10/site-packages/tensorflow/python/util/traceback_utils.py:153\u001b[0m, in \u001b[0;36mfilter_traceback.<locals>.error_handler\u001b[0;34m(*args, **kwargs)\u001b[0m\n\u001b[1;32m    151\u001b[0m \u001b[39mexcept\u001b[39;00m \u001b[39mException\u001b[39;00m \u001b[39mas\u001b[39;00m e:\n\u001b[1;32m    152\u001b[0m   filtered_tb \u001b[39m=\u001b[39m _process_traceback_frames(e\u001b[39m.\u001b[39m__traceback__)\n\u001b[0;32m--> 153\u001b[0m   \u001b[39mraise\u001b[39;00m e\u001b[39m.\u001b[39mwith_traceback(filtered_tb) \u001b[39mfrom\u001b[39;00m \u001b[39mNone\u001b[39;00m\n\u001b[1;32m    154\u001b[0m \u001b[39mfinally\u001b[39;00m:\n\u001b[1;32m    155\u001b[0m   \u001b[39mdel\u001b[39;00m filtered_tb\n",
      "File \u001b[0;32m~/Documents/THESIS/NAS-for-CapsNet/src/CapsNet.py:117\u001b[0m, in \u001b[0;36mCapsNet.predict_capsule_output\u001b[0;34m(self, inputs)\u001b[0m\n\u001b[1;32m    115\u001b[0m \u001b[39m@tf\u001b[39m\u001b[39m.\u001b[39mfunction\n\u001b[1;32m    116\u001b[0m \u001b[39mdef\u001b[39;00m \u001b[39mpredict_capsule_output\u001b[39m(\u001b[39mself\u001b[39m, inputs):\n\u001b[0;32m--> 117\u001b[0m     x \u001b[39m=\u001b[39m \u001b[39mself\u001b[39;49m\u001b[39m.\u001b[39;49mconvolution(inputs) \u001b[39m# x.shape: (None, 20, 20, 256)\u001b[39;00m\n\u001b[1;32m    118\u001b[0m     x \u001b[39m=\u001b[39m \u001b[39mself\u001b[39m\u001b[39m.\u001b[39mprimary_capsule(x) \u001b[39m# x.shape: (None, 6, 6, 256)\u001b[39;00m\n\u001b[1;32m    120\u001b[0m     \u001b[39mwith\u001b[39;00m tf\u001b[39m.\u001b[39mname_scope(\u001b[39m\"\u001b[39m\u001b[39mCapsuleFormation\u001b[39m\u001b[39m\"\u001b[39m) \u001b[39mas\u001b[39;00m scope:\n",
      "\u001b[0;31mAttributeError\u001b[0m: 'TfMethodTarget' object has no attribute 'convolution'"
     ]
    }
   ],
   "source": [
    "(X_train, y_train), (X_test , y_test) = load_mnist(size=(500, 200))\n",
    "\n",
    "params = {\n",
    "    \"name\": 'nas_mnist_1',\n",
    "    'n_gen': 2,\n",
    "    'pop_size': 10,\n",
    "    'rate_crossover': 0.7,\n",
    "    'rate_mutation': 0.1,\n",
    "    'rate_local_search': 0.5,\n",
    "    'step_size': 0.1,\n",
    "    'train_data': (X_train, y_train),\n",
    "    'test_data': (X_test, y_test)\n",
    "}\n",
    "\n",
    "nas = Nsga_II(**params)\n",
    "\n",
    "if nas.valid:\n",
    "    solutions = nas.optimise()"
   ]
  },
  {
   "cell_type": "code",
   "execution_count": null,
   "metadata": {},
   "outputs": [],
   "source": [
    "print(solutions)"
   ]
  }
 ],
 "metadata": {
  "kernelspec": {
   "display_name": "capsnet",
   "language": "python",
   "name": "python3"
  },
  "language_info": {
   "codemirror_mode": {
    "name": "ipython",
    "version": 3
   },
   "file_extension": ".py",
   "mimetype": "text/x-python",
   "name": "python",
   "nbconvert_exporter": "python",
   "pygments_lexer": "ipython3",
   "version": "3.10.11"
  },
  "orig_nbformat": 4
 },
 "nbformat": 4,
 "nbformat_minor": 2
}

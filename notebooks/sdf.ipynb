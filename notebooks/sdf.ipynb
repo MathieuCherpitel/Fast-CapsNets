{
 "cells": [
  {
   "cell_type": "code",
   "execution_count": 1,
   "metadata": {},
   "outputs": [],
   "source": [
    "import os\n",
    "import sys\n",
    "import tensorflow as tf\n",
    "\n",
    "directory_path = os.path.abspath(os.path.join('../src'))\n",
    "if directory_path not in sys.path:\n",
    "    sys.path.append(directory_path)\n",
    "\n",
    "from NsgaII import Nsga_II\n",
    "from utils.load_data import load_mnist\n",
    "from CapsNet import CapsNet\n",
    "\n",
    "(X_train, y_train), (X_test , y_test) = load_mnist(size=(100, 100))"
   ]
  },
  {
   "cell_type": "code",
   "execution_count": 5,
   "metadata": {},
   "outputs": [
    {
     "name": "stderr",
     "output_type": "stream",
     "text": [
      "Epoch 1/5:  50%|█████     | 1/2 [00:03<00:03,  3.57s/it]"
     ]
    },
    {
     "name": "stdout",
     "output_type": "stream",
     "text": [
      "WARNING:tensorflow:5 out of the last 13 calls to <function CapsNet.call at 0x17e5e6a70> triggered tf.function retracing. Tracing is expensive and the excessive number of tracings could be due to (1) creating @tf.function repeatedly in a loop, (2) passing tensors with different shapes, (3) passing Python objects instead of tensors. For (1), please define your @tf.function outside of the loop. For (2), @tf.function has reduce_retracing=True option that can avoid unnecessary retracing. For (3), please refer to https://www.tensorflow.org/guide/function#controlling_retracing and https://www.tensorflow.org/api_docs/python/tf/function for  more details.\n"
     ]
    },
    {
     "name": "stderr",
     "output_type": "stream",
     "text": [
      "Epoch 1/5: 100%|██████████| 2/2 [00:07<00:00,  3.54s/it, Training loss : 0.0139, Validation loss : 0.0121]\n",
      "Epoch 2/5: 100%|██████████| 2/2 [00:00<00:00,  2.25it/s, Training loss : 0.0110, Validation loss : 0.0098]\n",
      "Epoch 3/5: 100%|██████████| 2/2 [00:00<00:00,  2.41it/s, Training loss : 0.0086, Validation loss : 0.0080]\n",
      "Epoch 4/5: 100%|██████████| 2/2 [00:00<00:00,  2.48it/s, Training loss : 0.0063, Validation loss : 0.0074]\n",
      "Epoch 5/5: 100%|██████████| 2/2 [00:00<00:00,  2.43it/s, Training loss : 0.0050, Validation loss : 0.0065]\n"
     ]
    },
    {
     "name": "stdout",
     "output_type": "stream",
     "text": [
      "accuracy : 0.967 to baseline : 0.975\n",
      "inference: 0.9981663227081299 to baseline : 1.0157986736297608\n",
      "params   : {'epochs': 5, 'r': 2, 'no_of_conv_kernels': 128, 'secondary_capsule_vector': 28, 'dense_1': 512, 'dense_2': 256, 'epsilon': 0.032718346473582065, 'm_plus': 0.9752763125589023, 'm_minus': 0.14967730718933103, 'lambda_': 0.6322226126173243, 'alpha': 0.009385138481216327, 'no_of_primary_capsules': 32, 'primary_capsule_vector': 8, 'no_of_secondary_capsules': 10}\n",
      "==============================\n"
     ]
    },
    {
     "name": "stderr",
     "output_type": "stream",
     "text": [
      "Epoch 1/5: 100%|██████████| 2/2 [00:06<00:00,  3.46s/it, Training loss : 0.0149, Validation loss : 0.0149]\n",
      "Epoch 2/5: 100%|██████████| 2/2 [00:00<00:00,  2.78it/s, Training loss : 0.0149, Validation loss : 0.0149]\n",
      "Epoch 3/5: 100%|██████████| 2/2 [00:00<00:00,  3.79it/s]\n"
     ]
    },
    {
     "name": "stdout",
     "output_type": "stream",
     "text": [
      "Validation loss is not decreasing anymore, risk of overfitting the model after 3 epochs. The training will be stopped. This behavior can be modified by setting the early_stop property of the model to False\n",
      "accuracy : 0.966 to baseline : 0.975\n",
      "inference: 0.9695911407470703 to baseline : 1.0157986736297608\n",
      "params   : {'epochs': 5, 'r': 2, 'no_of_conv_kernels': 64, 'secondary_capsule_vector': 40, 'dense_1': 4, 'dense_2': 7, 'epsilon': 0.07148142922579429, 'm_plus': 0.934028122499362, 'm_minus': 0.07373300312654776, 'lambda_': 0.8830419666541691, 'alpha': 0.01, 'no_of_primary_capsules': 32, 'primary_capsule_vector': 8, 'no_of_secondary_capsules': 10}\n",
      "==============================\n"
     ]
    },
    {
     "name": "stderr",
     "output_type": "stream",
     "text": [
      "Epoch 1/5: 100%|██████████| 2/2 [00:10<00:00,  5.04s/it, Training loss : 0.0093, Validation loss : 0.0150]\n",
      "Epoch 2/5: 100%|██████████| 2/2 [00:00<00:00,  2.60it/s, Training loss : 0.0127, Validation loss : 0.0092]\n",
      "Epoch 3/5: 100%|██████████| 2/2 [00:00<00:00,  2.37it/s, Training loss : 0.0088, Validation loss : 0.0084]\n",
      "Epoch 4/5: 100%|██████████| 2/2 [00:00<00:00,  2.61it/s, Training loss : 0.0074, Validation loss : 0.0070]\n",
      "Epoch 5/5: 100%|██████████| 2/2 [00:00<00:00,  2.48it/s, Training loss : 0.0060, Validation loss : 0.0065]\n"
     ]
    },
    {
     "name": "stdout",
     "output_type": "stream",
     "text": [
      "accuracy : 0.972 to baseline : 0.975\n",
      "inference: 1.0138320922851562 to baseline : 1.0157986736297608\n",
      "params   : {'epochs': 5, 'r': 3, 'no_of_conv_kernels': 128, 'secondary_capsule_vector': 13, 'dense_1': 768, 'dense_2': 1024, 'epsilon': 0.05454526320042782, 'm_plus': 0.9072358875510441, 'm_minus': 0.15080484319634269, 'lambda_': 0.3846240583490621, 'alpha': 0.0059917224756683846, 'no_of_primary_capsules': 32, 'primary_capsule_vector': 8, 'no_of_secondary_capsules': 10}\n",
      "==============================\n"
     ]
    },
    {
     "name": "stderr",
     "output_type": "stream",
     "text": [
      "Epoch 1/5: 100%|██████████| 2/2 [00:10<00:00,  5.19s/it, Training loss : 0.0099, Validation loss : 0.0092]\n",
      "Epoch 2/5: 100%|██████████| 2/2 [00:01<00:00,  1.63it/s, Training loss : 0.0087, Validation loss : 0.0080]\n",
      "Epoch 3/5: 100%|██████████| 2/2 [00:01<00:00,  1.88it/s, Training loss : 0.0068, Validation loss : 0.0065]\n",
      "Epoch 4/5: 100%|██████████| 2/2 [00:01<00:00,  1.89it/s, Training loss : 0.0048, Validation loss : 0.0056]\n",
      "Epoch 5/5: 100%|██████████| 2/2 [00:01<00:00,  1.77it/s, Training loss : 0.0036, Validation loss : 0.0048]\n"
     ]
    },
    {
     "name": "stdout",
     "output_type": "stream",
     "text": [
      "accuracy : 0.976 to baseline : 0.975\n",
      "inference: 1.4526281356811523 to baseline : 1.0157986736297608\n",
      "params   : {'epochs': 5, 'r': 3, 'no_of_conv_kernels': 128, 'secondary_capsule_vector': 36, 'dense_1': 4, 'dense_2': 768, 'epsilon': 0.05645479084278812, 'm_plus': 0.9120860278071604, 'm_minus': 0.17264758797379876, 'lambda_': 0.46948462462555296, 'alpha': 0.00744108496170226, 'no_of_primary_capsules': 32, 'primary_capsule_vector': 8, 'no_of_secondary_capsules': 10}\n",
      "==============================\n"
     ]
    },
    {
     "name": "stderr",
     "output_type": "stream",
     "text": [
      "Epoch 1/1: 100%|██████████| 2/2 [00:06<00:00,  3.38s/it, Training loss : 0.0106, Validation loss : 0.0096]\n"
     ]
    },
    {
     "name": "stdout",
     "output_type": "stream",
     "text": [
      "accuracy : 0.844 to baseline : 0.975\n",
      "inference: 0.5189905166625977 to baseline : 1.0157986736297608\n",
      "params   : {'epochs': 1, 'r': 2, 'no_of_conv_kernels': 3, 'secondary_capsule_vector': 28, 'dense_1': 768, 'dense_2': 1792, 'epsilon': 0.03597392909844667, 'm_plus': 0.917768059704674, 'm_minus': 0.17914195214018752, 'lambda_': 0.22750175544605467, 'alpha': 0.000527194493369055, 'no_of_primary_capsules': 32, 'primary_capsule_vector': 8, 'no_of_secondary_capsules': 10}\n",
      "==============================\n"
     ]
    },
    {
     "name": "stderr",
     "output_type": "stream",
     "text": [
      "Epoch 1/2: 100%|██████████| 2/2 [00:06<00:00,  3.34s/it, Training loss : 0.0131, Validation loss : 0.0209]\n",
      "Epoch 2/2: 100%|██████████| 2/2 [00:00<00:00,  3.92it/s, Training loss : 0.0152, Validation loss : 0.0111]\n"
     ]
    },
    {
     "name": "stdout",
     "output_type": "stream",
     "text": [
      "accuracy : 0.946 to baseline : 0.975\n",
      "inference: 0.6104569435119629 to baseline : 1.0157986736297608\n",
      "params   : {'epochs': 2, 'r': 2, 'no_of_conv_kernels': 32, 'secondary_capsule_vector': 21, 'dense_1': 128, 'dense_2': 1792, 'epsilon': 1e-07, 'm_plus': 0.9085156707403771, 'm_minus': 0.17658005268002602, 'lambda_': 0.6971559736149062, 'alpha': 0.0001, 'no_of_primary_capsules': 32, 'primary_capsule_vector': 8, 'no_of_secondary_capsules': 10}\n",
      "==============================\n"
     ]
    }
   ],
   "source": [
    "import json\n",
    "import time\n",
    "import numpy as np\n",
    "\n",
    "with open('../saved_ga/mnist-gpu0-hpc-1/solutions.json') as file:\n",
    "    data = json.load(file)\n",
    "\n",
    "for key, value in data.items():\n",
    "    params = value['params']\n",
    "    \n",
    "\n",
    "    model = CapsNet(**params)\n",
    "    model.compile()\n",
    "    model.fit(X_train, y_train, tf.keras.optimizers.legacy.Adam(), train_metrics=['accuracy'], validation=(X_test, y_test))\n",
    "\n",
    "    n_rounds = 10\n",
    "    inf_time = []\n",
    "    for i in range(n_rounds):\n",
    "        start = time.time()\n",
    "        model.predict(X_test)\n",
    "        end = time.time()\n",
    "        inf_time.append((end - start) / len(X_test) * 1000)\n",
    "    print(\"accuracy :\", value['accuracy'], \"to baseline : 0.975\")\n",
    "    print(\"inference:\", np.mean(inf_time), \"to baseline : 1.0157986736297608\")\n",
    "    print(\"params   :\", params)\n",
    "    print(\"===\"*10)"
   ]
  },
  {
   "cell_type": "code",
   "execution_count": 6,
   "metadata": {},
   "outputs": [
    {
     "name": "stderr",
     "output_type": "stream",
     "text": [
      "Epoch 1/4: 100%|██████████| 2/2 [00:07<00:00,  3.68s/it, Training loss : 0.0077, Validation loss : 0.0076]\n",
      "Epoch 2/4: 100%|██████████| 2/2 [00:00<00:00,  2.23it/s, Training loss : 0.0074, Validation loss : 0.0055]\n",
      "Epoch 3/4: 100%|██████████| 2/2 [00:00<00:00,  2.23it/s, Training loss : 0.0050, Validation loss : 0.0045]\n",
      "Epoch 4/4: 100%|██████████| 2/2 [00:00<00:00,  2.13it/s, Training loss : 0.0034, Validation loss : 0.0034]\n"
     ]
    },
    {
     "name": "stdout",
     "output_type": "stream",
     "text": [
      "accuracy : 0.965 to baseline : 0.975\n",
      "inference: 1.2765119075775146 to baseline : 1.0157986736297608\n",
      "params   : {'epochs': 4, 'r': 2, 'no_of_conv_kernels': 128, 'secondary_capsule_vector': 40, 'dense_1': 128, 'dense_2': 1536, 'epsilon': 0.05486582415508541, 'm_plus': 0.9147251106068102, 'm_minus': 0.19315090836495002, 'lambda_': 0.10005201771610862, 'alpha': 0.006953190705641483, 'no_of_primary_capsules': 32, 'primary_capsule_vector': 8, 'no_of_secondary_capsules': 10}\n",
      "==============================\n"
     ]
    },
    {
     "name": "stderr",
     "output_type": "stream",
     "text": [
      "Epoch 1/5: 100%|██████████| 2/2 [00:05<00:00,  2.97s/it, Training loss : 0.0107, Validation loss : 0.0107]\n",
      "Epoch 2/5: 100%|██████████| 2/2 [00:00<00:00,  4.87it/s, Training loss : 0.0105, Validation loss : 0.0105]\n",
      "Epoch 3/5: 100%|██████████| 2/2 [00:00<00:00,  4.83it/s, Training loss : 0.0101, Validation loss : 0.0105]\n",
      "Epoch 4/5: 100%|██████████| 2/2 [00:00<00:00,  4.84it/s, Training loss : 0.0094, Validation loss : 0.0095]\n",
      "Epoch 5/5: 100%|██████████| 2/2 [00:00<00:00,  4.85it/s, Training loss : 0.0084, Validation loss : 0.0083]\n"
     ]
    },
    {
     "name": "stdout",
     "output_type": "stream",
     "text": [
      "accuracy : 0.969 to baseline : 0.975\n",
      "inference: 0.5261616706848145 to baseline : 1.0157986736297608\n",
      "params   : {'epochs': 5, 'r': 2, 'no_of_conv_kernels': 64, 'secondary_capsule_vector': 6, 'dense_1': 256, 'dense_2': 512, 'epsilon': 0.08411185848750914, 'm_plus': 0.9504174153527706, 'm_minus': 0.1648052052496743, 'lambda_': 0.6831030565866469, 'alpha': 0.006858184909559632, 'no_of_primary_capsules': 32, 'primary_capsule_vector': 8, 'no_of_secondary_capsules': 10}\n",
      "==============================\n"
     ]
    },
    {
     "name": "stderr",
     "output_type": "stream",
     "text": [
      "Epoch 1/6: 100%|██████████| 2/2 [00:06<00:00,  3.29s/it, Training loss : 0.0122, Validation loss : 0.0121]\n",
      "Epoch 2/6: 100%|██████████| 2/2 [00:00<00:00,  4.86it/s, Training loss : 0.0118, Validation loss : 0.0119]\n",
      "Epoch 3/6: 100%|██████████| 2/2 [00:00<00:00,  4.68it/s, Training loss : 0.0113, Validation loss : 0.0116]\n",
      "Epoch 4/6: 100%|██████████| 2/2 [00:00<00:00,  5.24it/s, Training loss : 0.0105, Validation loss : 0.0108]\n",
      "Epoch 5/6: 100%|██████████| 2/2 [00:00<00:00,  5.26it/s, Training loss : 0.0093, Validation loss : 0.0095]\n",
      "Epoch 6/6: 100%|██████████| 2/2 [00:00<00:00,  5.25it/s, Training loss : 0.0081, Validation loss : 0.0089]\n"
     ]
    },
    {
     "name": "stdout",
     "output_type": "stream",
     "text": [
      "accuracy : 0.908 to baseline : 0.975\n",
      "inference: 0.4667017459869385 to baseline : 1.0157986736297608\n",
      "params   : {'epochs': 6, 'r': 2, 'no_of_conv_kernels': 3, 'secondary_capsule_vector': 20, 'dense_1': 768, 'dense_2': 7, 'epsilon': 0.07079379178273043, 'm_plus': 0.9793929426638139, 'm_minus': 0.0861355806414624, 'lambda_': 0.3561169779256219, 'alpha': 0.001985135432390735, 'no_of_primary_capsules': 32, 'primary_capsule_vector': 8, 'no_of_secondary_capsules': 10}\n",
      "==============================\n"
     ]
    },
    {
     "name": "stderr",
     "output_type": "stream",
     "text": [
      "Epoch 1/7: 100%|██████████| 2/2 [00:10<00:00,  5.06s/it, Training loss : 0.0119, Validation loss : 0.0119]\n",
      "Epoch 2/7: 100%|██████████| 2/2 [00:00<00:00,  2.52it/s, Training loss : 0.0110, Validation loss : 0.0106]\n",
      "Epoch 3/7: 100%|██████████| 2/2 [00:00<00:00,  2.61it/s, Training loss : 0.0096, Validation loss : 0.0089]\n",
      "Epoch 4/7: 100%|██████████| 2/2 [00:00<00:00,  2.60it/s, Training loss : 0.0071, Validation loss : 0.0079]\n",
      "Epoch 5/7: 100%|██████████| 2/2 [00:00<00:00,  2.60it/s, Training loss : 0.0059, Validation loss : 0.0072]\n",
      "Epoch 6/7: 100%|██████████| 2/2 [00:00<00:00,  2.35it/s, Training loss : 0.0051, Validation loss : 0.0070]\n",
      "Epoch 7/7: 100%|██████████| 2/2 [00:00<00:00,  2.49it/s, Training loss : 0.0046, Validation loss : 0.0068]\n"
     ]
    },
    {
     "name": "stdout",
     "output_type": "stream",
     "text": [
      "accuracy : 0.971 to baseline : 0.975\n",
      "inference: 0.9733624458312988 to baseline : 1.0157986736297608\n",
      "params   : {'epochs': 7, 'r': 3, 'no_of_conv_kernels': 64, 'secondary_capsule_vector': 28, 'dense_1': 128, 'dense_2': 1024, 'epsilon': 0.0761969328462516, 'm_plus': 0.9685635463159776, 'm_minus': 0.07796813826304984, 'lambda_': 0.32203511565240606, 'alpha': 0.005993373202784323, 'no_of_primary_capsules': 32, 'primary_capsule_vector': 8, 'no_of_secondary_capsules': 10}\n",
      "==============================\n"
     ]
    },
    {
     "name": "stderr",
     "output_type": "stream",
     "text": [
      "Epoch 1/2: 100%|██████████| 2/2 [00:07<00:00,  3.53s/it, Training loss : 0.0095, Validation loss : 0.0162]\n",
      "Epoch 2/2: 100%|██████████| 2/2 [00:00<00:00,  2.49it/s, Training loss : 0.0123, Validation loss : 0.0086]\n"
     ]
    },
    {
     "name": "stdout",
     "output_type": "stream",
     "text": [
      "accuracy : 0.956 to baseline : 0.975\n",
      "inference: 1.089475393295288 to baseline : 1.0157986736297608\n",
      "params   : {'epochs': 2, 'r': 2, 'no_of_conv_kernels': 128, 'secondary_capsule_vector': 27, 'dense_1': 512, 'dense_2': 512, 'epsilon': 0.0631232954234057, 'm_plus': 0.9570394824735714, 'm_minus': 0.1865651094792261, 'lambda_': 0.3102945305543494, 'alpha': 0.007863631644842689, 'no_of_primary_capsules': 32, 'primary_capsule_vector': 8, 'no_of_secondary_capsules': 10}\n",
      "==============================\n"
     ]
    }
   ],
   "source": [
    "with open('../saved_ga/mnist-gpu0-hpc-2/solutions.json') as file:\n",
    "    data = json.load(file)\n",
    "\n",
    "for key, value in data.items():\n",
    "    params = value['params']\n",
    "    \n",
    "\n",
    "    model = CapsNet(**params)\n",
    "    model.compile()\n",
    "    model.fit(X_train, y_train, tf.keras.optimizers.legacy.Adam(), train_metrics=['accuracy'], validation=(X_test, y_test))\n",
    "\n",
    "    n_rounds = 10\n",
    "    inf_time = []\n",
    "    for i in range(n_rounds):\n",
    "        start = time.time()\n",
    "        model.predict(X_test)\n",
    "        end = time.time()\n",
    "        inf_time.append((end - start) / len(X_test) * 1000)\n",
    "    print(\"accuracy :\", value['accuracy'], \"to baseline : 0.975\")\n",
    "    print(\"inference:\", np.mean(inf_time), \"to baseline : 1.0157986736297608\")\n",
    "    print(\"params   :\", params)\n",
    "    print(\"===\"*10)"
   ]
  }
 ],
 "metadata": {
  "kernelspec": {
   "display_name": "capsnet",
   "language": "python",
   "name": "python3"
  },
  "language_info": {
   "codemirror_mode": {
    "name": "ipython",
    "version": 3
   },
   "file_extension": ".py",
   "mimetype": "text/x-python",
   "name": "python",
   "nbconvert_exporter": "python",
   "pygments_lexer": "ipython3",
   "version": "3.10.11"
  },
  "orig_nbformat": 4
 },
 "nbformat": 4,
 "nbformat_minor": 2
}

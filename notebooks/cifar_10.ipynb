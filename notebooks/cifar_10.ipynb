{
 "cells": [
  {
   "attachments": {},
   "cell_type": "markdown",
   "metadata": {},
   "source": [
    "# CapsNets on Fashion Cifar-10 dataset"
   ]
  },
  {
   "cell_type": "code",
   "execution_count": null,
   "metadata": {},
   "outputs": [],
   "source": [
    "import tensorflow as tf\n",
    "import matplotlib.pyplot as plt\n",
    "import numpy as np\n",
    "\n",
    "tf.__version__\n",
    "%matplotlib inline"
   ]
  },
  {
   "attachments": {},
   "cell_type": "markdown",
   "metadata": {},
   "source": [
    "## Loading dataset and normalising"
   ]
  },
  {
   "cell_type": "code",
   "execution_count": null,
   "metadata": {},
   "outputs": [],
   "source": [
    "# Setting PATH to import utils functions from python file to notebook\n",
    "\n",
    "import os\n",
    "import sys\n",
    "directory_path = os.path.abspath(os.path.join('../src'))\n",
    "if directory_path not in sys.path:\n",
    "    sys.path.append(directory_path)\n",
    "\n",
    "from utils.load_data import load_cifar_10"
   ]
  },
  {
   "cell_type": "code",
   "execution_count": null,
   "metadata": {},
   "outputs": [],
   "source": [
    "(X_train, y_train), (X_test , y_test) = load_cifar_10(size=(1024, 512))\n",
    "X_train.shape, y_train.shape"
   ]
  },
  {
   "attachments": {},
   "cell_type": "markdown",
   "metadata": {},
   "source": [
    "1024 images of size 32x32 over three channel"
   ]
  },
  {
   "attachments": {},
   "cell_type": "markdown",
   "metadata": {},
   "source": [
    "## Sample visualisation"
   ]
  },
  {
   "cell_type": "code",
   "execution_count": null,
   "metadata": {},
   "outputs": [],
   "source": [
    "class_names = ['airplane', 'automobile', 'bird', 'cat', 'deer', 'dog', 'frog', 'horse', 'ship', 'truck']"
   ]
  },
  {
   "cell_type": "code",
   "execution_count": null,
   "metadata": {},
   "outputs": [],
   "source": [
    "import random\n",
    "\n",
    "plt.figure(figsize=(7, 7))\n",
    "for i in range(4):\n",
    "  ax = plt.subplot(2, 2, i + 1)\n",
    "  rand_index = random.choice(range(len(X_train)))\n",
    "  plt.imshow(X_train[rand_index], cmap=plt.cm.binary)\n",
    "  plt.title(class_names[y_train[rand_index]])\n",
    "  plt.axis(False)"
   ]
  },
  {
   "attachments": {},
   "cell_type": "markdown",
   "metadata": {},
   "source": [
    "## Build CapsNet model"
   ]
  },
  {
   "cell_type": "code",
   "execution_count": null,
   "metadata": {},
   "outputs": [],
   "source": [
    "# Setting PATH to import CapsNet class from python file to notebook\n",
    "\n",
    "import os\n",
    "import sys\n",
    "directory_path = os.path.abspath(os.path.join('../src'))\n",
    "if directory_path not in sys.path:\n",
    "    sys.path.append(directory_path)\n",
    "\n",
    "from CapsNet import CapsNet"
   ]
  },
  {
   "cell_type": "code",
   "execution_count": null,
   "metadata": {},
   "outputs": [],
   "source": [
    "params = {\n",
    "    \"epochs\": 40,\n",
    "    \"epsilon\": 1e-7,\n",
    "    \"m_minus\": 0.1,\n",
    "    \"m_plus\": 0.9,\n",
    "    \"lambda_\": 0.5,\n",
    "    \"alpha\": 0.0005,\n",
    "    \"no_of_conv_kernels\": 256,\n",
    "    \"no_of_primary_capsules\": 18,\n",
    "    \"primary_capsule_vector\": 8,\n",
    "    \"no_of_secondary_capsules\": 10,\n",
    "    \"secondary_capsule_vector\": 16,\n",
    "    \"r\":3,\n",
    "}\n",
    "\n",
    "model = CapsNet(**params)\n",
    "model._name = \"CapsNet-CIFAR-10\"\n",
    "model.compile()\n",
    "model.summary()"
   ]
  },
  {
   "cell_type": "code",
   "execution_count": null,
   "metadata": {},
   "outputs": [],
   "source": [
    "model.fit(X_train, y_train, tf.keras.optimizers.Adam(), train_metrics=['accuracy', 'f1', 'precision', 'recall'], validation=(X_test, y_test))"
   ]
  },
  {
   "cell_type": "code",
   "execution_count": null,
   "metadata": {},
   "outputs": [],
   "source": [
    "model.evaluate(X_test, y_test, class_names)"
   ]
  },
  {
   "attachments": {},
   "cell_type": "markdown",
   "metadata": {},
   "source": [
    "## Loading and saving"
   ]
  },
  {
   "cell_type": "code",
   "execution_count": null,
   "metadata": {},
   "outputs": [],
   "source": [
    "model.save()"
   ]
  },
  {
   "cell_type": "code",
   "execution_count": null,
   "metadata": {},
   "outputs": [],
   "source": [
    "loaded_model = tf.keras.models.load_model('../saved_models/CapsNet-CIFAR-10', custom_objects={'CapsNet': CapsNet})\n",
    "loaded_model.compile()\n",
    "loaded_model.summary()"
   ]
  }
 ],
 "metadata": {
  "kernelspec": {
   "display_name": "capsnet",
   "language": "python",
   "name": "python3"
  },
  "language_info": {
   "codemirror_mode": {
    "name": "ipython",
    "version": 3
   },
   "file_extension": ".py",
   "mimetype": "text/x-python",
   "name": "python",
   "nbconvert_exporter": "python",
   "pygments_lexer": "ipython3",
   "version": "3.10.11"
  },
  "orig_nbformat": 4
 },
 "nbformat": 4,
 "nbformat_minor": 2
}
